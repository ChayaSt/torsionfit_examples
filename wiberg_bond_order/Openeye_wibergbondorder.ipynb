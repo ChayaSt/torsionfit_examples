{
 "cells": [
  {
   "cell_type": "markdown",
   "metadata": {},
   "source": [
    "Compare Wiberg Bond Order when charging is done with one conformer vs. many conformers. The reason for checking this is that some indices in conjugated systems seem to be too low and we were wondering if how it varies with conformations. The results here show that the bond orders barely change which is very surprising.. "
   ]
  },
  {
   "cell_type": "code",
   "execution_count": 1,
   "metadata": {},
   "outputs": [],
   "source": [
    "import pandas as pd\n",
    "from torsionfit.qmscan import fragment, utils\n",
    "from openeye import oechem, oequacpac\n",
    "from openmoltools import openeye\n",
    "from torsionfit.qmscan.utils import png_wiberg_labels"
   ]
  },
  {
   "cell_type": "code",
   "execution_count": 2,
   "metadata": {},
   "outputs": [],
   "source": [
    "kinase_inhibitors = kinase_inhibitors = pd.read_csv('../kinase_inhibitors/clinical-kinase-inhibitors.csv')\n",
    "df = kinase_inhibitors[kinase_inhibitors['inhibitor'] == 'Axitinib']\n",
    "\n",
    "# Generate charged molecule with 1 and many conformers\n",
    "mol = openeye.smiles_to_oemol(df['smiles'].values[0])\n",
    "conf_1 = openeye.get_charges(mol, max_confs=1, keep_confs=-1)\n",
    "\n",
    "mol2 = openeye.smiles_to_oemol(df['smiles'].values[0])\n",
    "conf_all = openeye.get_charges(mol2, keep_confs=-1, normalize=True)"
   ]
  },
  {
   "cell_type": "code",
   "execution_count": 3,
   "metadata": {},
   "outputs": [
    {
     "data": {
      "text/plain": [
       "('~{N}-methyl-2-[[3-[(~{E})-2-(2-pyridyl)vinyl]-1~{H}-indazol-6-yl]sulfanyl]benzamide',\n",
       " 'conf_1.mol2')"
      ]
     },
     "execution_count": 3,
     "output_type": "execute_result",
     "metadata": {}
    }
   ],
   "source": [
    "# Generate mol2 files for conformers\n",
    "openeye.molecule_to_mol2(conf_1, tripos_mol2_filename='conf_1.mol2', conformer=0)"
   ]
  },
  {
   "cell_type": "code",
   "execution_count": 4,
   "metadata": {},
   "outputs": [
    {
     "data": {
      "text/plain": [
       "('~{N}-methyl-2-[[3-[(~{E})-2-(2-pyridyl)vinyl]-1~{H}-indazol-6-yl]sulfanyl]benzamide',\n",
       " 'conf_all.mol2')"
      ]
     },
     "execution_count": 4,
     "output_type": "execute_result",
     "metadata": {}
    }
   ],
   "source": [
    "openeye.molecule_to_mol2(conf_all, tripos_mol2_filename='conf_all.mol2', conformer=None)"
   ]
  },
  {
   "cell_type": "code",
   "execution_count": 5,
   "metadata": {},
   "outputs": [
    {
     "data": {
      "text/plain": [
       "True"
      ]
     },
     "execution_count": 5,
     "output_type": "execute_result",
     "metadata": {}
    }
   ],
   "source": [
    "# Get out of plane conformer\n",
    "conf_81 = conf_all.GetConf(oechem.OEHasConfIdx(81))\n",
    "conf_81 = oechem.OEMol(conf_81)\n",
    "oequacpac.OEAssignPartialCharges(conf_81, oequacpac.OECharges_AM1BCCSym)"
   ]
  },
  {
   "cell_type": "code",
   "execution_count": 7,
   "metadata": {},
   "outputs": [
    {
     "data": {
      "text/plain": [
       "('~{N}-methyl-2-[[3-[(~{E})-2-(2-pyridyl)vinyl]-1~{H}-indazol-6-yl]sulfanyl]benzamide',\n",
       " 'conf_81.mol2')"
      ]
     },
     "execution_count": 7,
     "output_type": "execute_result",
     "metadata": {}
    }
   ],
   "source": [
    "# Save an out of plane conf\n",
    "openeye.molecule_to_mol2(conf_all, tripos_mol2_filename='conf_81.mol2', conformer=81)"
   ]
  },
  {
   "cell_type": "code",
   "execution_count": 8,
   "metadata": {},
   "outputs": [
    {
     "data": {
      "text/plain": [
       "True"
      ]
     },
     "execution_count": 8,
     "output_type": "execute_result",
     "metadata": {}
    }
   ],
   "source": [
    "# Get in plane conformer\n",
    "conf_0 = conf_all.GetConf(oechem.OEHasConfIdx(0))\n",
    "conf_0 = oechem.OEMol(conf_0)\n",
    "oequacpac.OEAssignPartialCharges(conf_0, oequacpac.OECharges_AM1BCCSym)"
   ]
  },
  {
   "cell_type": "code",
   "execution_count": 9,
   "metadata": {},
   "outputs": [
    {
     "data": {
      "text/plain": [
       "('~{N}-methyl-2-[[3-[(~{E})-2-(2-pyridyl)vinyl]-1~{H}-indazol-6-yl]sulfanyl]benzamide',\n",
       " 'conf_0.mol2')"
      ]
     },
     "execution_count": 9,
     "output_type": "execute_result",
     "metadata": {}
    }
   ],
   "source": [
    "# Save an out of plane conf\n",
    "openeye.molecule_to_mol2(conf_all, tripos_mol2_filename='conf_0.mol2', conformer=0)"
   ]
  },
  {
   "cell_type": "code",
   "execution_count": 10,
   "metadata": {},
   "outputs": [
    {
     "data": {
      "text/plain": [
       "True"
      ]
     },
     "execution_count": 10,
     "output_type": "execute_result",
     "metadata": {}
    }
   ],
   "source": [
    "# Generate figures\n",
    "png_wiberg_labels(conf_1, 'conf1.png')\n",
    "png_wiberg_labels(conf_all, 'conf_all_2.png')\n",
    "png_wiberg_labels(conf_0, 'conf_0.png')\n",
    "png_wiberg_labels(conf_81, 'conf_81.png')"
   ]
  },
  {
   "cell_type": "code",
   "execution_count": null,
   "metadata": {},
   "outputs": [],
   "source": [
    ""
   ]
  }
 ],
 "metadata": {
  "kernelspec": {
   "display_name": "Python 3",
   "language": "python",
   "name": "python3"
  },
  "language_info": {
   "codemirror_mode": {
    "name": "ipython",
    "version": 3.0
   },
   "file_extension": ".py",
   "mimetype": "text/x-python",
   "name": "python",
   "nbconvert_exporter": "python",
   "pygments_lexer": "ipython3",
   "version": "3.6.1"
  }
 },
 "nbformat": 4,
 "nbformat_minor": 2
}