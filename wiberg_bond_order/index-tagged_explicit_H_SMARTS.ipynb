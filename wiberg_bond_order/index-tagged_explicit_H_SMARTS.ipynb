{
 "cells": [
  {
   "cell_type": "code",
   "execution_count": 1,
   "metadata": {
    "collapsed": true
   },
   "outputs": [],
   "source": [
    "from IPython.display import display\n",
    "\n",
    "import pandas as pd\n",
    "\n",
    "from openeye import oechem, oedepict\n",
    "from openmoltools import openeye\n",
    "import oenotebook"
   ]
  },
  {
   "cell_type": "code",
   "execution_count": 2,
   "metadata": {
    "collapsed": true
   },
   "outputs": [],
   "source": [
    "# Test index tagged expicit hydrogen SMARTS for CO\n",
    "\n",
    "CO_smiles = 'CO'\n",
    "mol_co = openeye.smiles_to_oemol(CO_smiles)\n",
    "# Generate explicit Hydrogen SMITLE\n",
    "CO_H_smiles = oechem.OECreateSmiString(mol_co, oechem.OEOFlavor_SMI_Hydrogens)"
   ]
  },
  {
   "cell_type": "code",
   "execution_count": 21,
   "metadata": {},
   "outputs": [],
   "source": [
    "# Add some arbitrary ordering tags to test if the tags are saved in the pattern\n",
    "CO_H_tagged_smarts = '[C:1]([O:2][H:6])([H:3])([H:4])[H:5]'"
   ]
  },
  {
   "cell_type": "code",
   "execution_count": 27,
   "metadata": {},
   "outputs": [
    {
     "name": "stdout",
     "output_type": "stream",
     "text": [
      "Match 1:\n",
      "pattern atoms:  0 C 1  1 O 2  2 H 6  3 H 3  4 H 4  5 H 5 \n",
      "target atoms:   0 C 0  1 O 0  2 H 0  3 H 0  4 H 0  5 H 0 \n",
      "match smiles = CO\n"
     ]
    }
   ],
   "source": [
    "pattern = oechem.OEGraphMol()\n",
    "target = oechem.OEGraphMol()\n",
    "oechem.OESmilesToMol(pattern, CO_H_tagged_smarts)\n",
    "oechem.OESmilesToMol(target, CO_H_smiles)\n",
    "\n",
    "atomexpr = oechem.OEExprOpts_DefaultAtoms\n",
    "bondexpr = oechem.OEExprOpts_DefaultBonds\n",
    "# create maximum common substructure object\n",
    "mcss = oechem.OEMCSSearch(pattern, atomexpr, bondexpr, oechem.OEMCSType_Exhaustive)\n",
    "# set scoring function\n",
    "mcss.SetMCSFunc(oechem.OEMCSMaxAtoms())\n",
    "\n",
    "unique = True\n",
    "# loop over matches\n",
    "for count, match in enumerate(mcss.Match(target, unique)):\n",
    "    print(\"Match %d:\" % (count + 1))\n",
    "    print(\"pattern atoms:\", end=\" \")\n",
    "    for ma in match.GetAtoms():\n",
    "        print(ma.pattern, ma.pattern.GetMapIdx(), end=\" \")\n",
    "    print(\"\\ntarget atoms: \", end=\" \")\n",
    "    for ma in match.GetAtoms():\n",
    "        print(ma.target, ma.target.GetMapIdx(), end=\" \")\n",
    "\n",
    "    # create match subgraph\n",
    "    m = oechem.OEGraphMol()\n",
    "    oechem.OESubsetMol(m, match, True)\n",
    "\n",
    "    print(\"\\nmatch smiles =\", oechem.OEMolToSmiles(m))"
   ]
  },
  {
   "cell_type": "code",
   "execution_count": 28,
   "metadata": {
    "collapsed": true
   },
   "outputs": [],
   "source": [
    "# Test index tagged expicit hydrogen SMARTS for benzene\n",
    "\n",
    "benzene_smiles = 'c1ccccc1'\n",
    "mol_benzene = openeye.smiles_to_oemol(benzene_smiles)\n",
    "# Generate explicit Hydrogen SMITLE\n",
    "benzene_H_smiles = oechem.OECreateSmiString(mol_benzene, oechem.OEOFlavor_SMI_Hydrogens)"
   ]
  },
  {
   "cell_type": "code",
   "execution_count": 29,
   "metadata": {},
   "outputs": [
    {
     "data": {
      "text/plain": [
       "'c1(c(c(c(c(c1[H])[H])[H])[H])[H])[H]'"
      ]
     },
     "execution_count": 29,
     "metadata": {},
     "output_type": "execute_result"
    }
   ],
   "source": [
    "benzene_H_smiles"
   ]
  },
  {
   "cell_type": "code",
   "execution_count": 46,
   "metadata": {
    "collapsed": true
   },
   "outputs": [],
   "source": [
    "# Add some arbitrary ordering tags to test if the tags are saved in the pattern\n",
    "benzene_H_tagged_smarts = '[c:1]1([c:2]([c:3]([c:4]([c:5]([c:6]1[H:7])[H:8])[H:9])[H:10])[H:11])[H:12]'"
   ]
  },
  {
   "cell_type": "code",
   "execution_count": 47,
   "metadata": {},
   "outputs": [
    {
     "name": "stdout",
     "output_type": "stream",
     "text": [
      "Match 1:\n",
      "pattern atoms:  0 C 1  1 C 2  2 C 3  3 C 4  4 C 5  5 C 6  6 H 7  7 H 8  8 H 9  9 H 10 10 H 11 11 H 12 \n",
      "target atoms:   0 C 0  1 C 0  2 C 0  3 C 0  4 C 0  5 C 0  6 H 0  7 H 0  8 H 0  9 H 0 10 H 0 11 H 0 \n",
      "match smiles = c1ccccc1\n"
     ]
    }
   ],
   "source": [
    "pattern = oechem.OEGraphMol()\n",
    "target = oechem.OEGraphMol()\n",
    "oechem.OESmilesToMol(pattern, benzene_H_tagged_smarts)\n",
    "oechem.OESmilesToMol(target, benzene_H_smiles)\n",
    "\n",
    "atomexpr = oechem.OEExprOpts_DefaultAtoms\n",
    "bondexpr = oechem.OEExprOpts_DefaultBonds\n",
    "# create maximum common substructure object\n",
    "mcss = oechem.OEMCSSearch(pattern, atomexpr, bondexpr, oechem.OEMCSType_Exhaustive)\n",
    "# set scoring function\n",
    "mcss.SetMCSFunc(oechem.OEMCSMaxAtoms())\n",
    "\n",
    "unique = True\n",
    "# loop over matches\n",
    "for count, match in enumerate(mcss.Match(target, unique)):\n",
    "    print(\"Match %d:\" % (count + 1))\n",
    "    print(\"pattern atoms:\", end=\" \")\n",
    "    for ma in match.GetAtoms():\n",
    "        print(ma.pattern, ma.pattern.GetMapIdx(), end=\" \")\n",
    "    print(\"\\ntarget atoms: \", end=\" \")\n",
    "    for ma in match.GetAtoms():\n",
    "        print(ma.target, ma.target.GetMapIdx(), end=\" \")\n",
    "\n",
    "    # create match subgraph\n",
    "    m = oechem.OEGraphMol()\n",
    "    oechem.OESubsetMol(m, match, True)\n",
    "\n",
    "    print(\"\\nmatch smiles =\", oechem.OEMolToSmiles(m))"
   ]
  },
  {
   "cell_type": "code",
   "execution_count": null,
   "metadata": {
    "collapsed": true
   },
   "outputs": [],
   "source": []
  }
 ],
 "metadata": {
  "kernelspec": {
   "display_name": "Python 3",
   "language": "python",
   "name": "python3"
  },
  "language_info": {
   "codemirror_mode": {
    "name": "ipython",
    "version": 3
   },
   "file_extension": ".py",
   "mimetype": "text/x-python",
   "name": "python",
   "nbconvert_exporter": "python",
   "pygments_lexer": "ipython3",
   "version": "3.6.1"
  }
 },
 "nbformat": 4,
 "nbformat_minor": 2
}
