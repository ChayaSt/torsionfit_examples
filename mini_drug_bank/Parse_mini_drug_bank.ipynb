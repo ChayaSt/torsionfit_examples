{
 "cells": [
  {
   "cell_type": "markdown",
   "metadata": {},
   "source": [
    "Load molecules in mini drug bank and generate:\n",
    "* oeb version with omega and charge\n",
    "* explicit tagged SMILES\n",
    "* png or pdf of molecules with pid\n"
   ]
  },
  {
   "cell_type": "code",
   "execution_count": 32,
   "metadata": {
    "collapsed": true
   },
   "outputs": [],
   "source": [
    "%matplotlib inline\n",
    "from IPython.display import display\n",
    "\n",
    "from openforcefield.utils import read_molecules\n",
    "from openmoltools.openeye import get_charges\n",
    "from openeye import oechem, oeomega, oedepict, oeiupac\n",
    "import oenotebook\n",
    "\n",
    "from torsionfit.qmscan import fragment, utils\n",
    "import os\n",
    "import matplotlib.pyplot as plt\n",
    "import numpy as np"
   ]
  },
  {
   "cell_type": "code",
   "execution_count": 2,
   "metadata": {},
   "outputs": [
    {
     "name": "stdout",
     "output_type": "stream",
     "text": [
      "Loading molecules from 'MiniDrugBank_tripos.mol2'...\n",
      "371 molecules read\n",
      "0.116 s elapsed\n"
     ]
    }
   ],
   "source": [
    "# Read molecules for MiniDrugBank\n",
    "tri_file = 'MiniDrugBank_tripos.mol2'\n",
    "molecules = read_molecules(tri_file)"
   ]
  },
  {
   "cell_type": "code",
   "execution_count": 3,
   "metadata": {},
   "outputs": [],
   "source": [
    "# Write out tagged smiles\n",
    "utils.mol_to_tagged_smiles('MiniDrugBank_tripos.mol2', 'MiniDrugBank_mappedSMILES.smi')"
   ]
  },
  {
   "cell_type": "code",
   "execution_count": 4,
   "metadata": {},
   "outputs": [],
   "source": [
    "def to_pdf(molecules, oname):    \n",
    "    itf = oechem.OEInterface()\n",
    "    PageByPage = True\n",
    "\n",
    "    rows, cols = 5, 3\n",
    "    ropts = oedepict.OEReportOptions(rows, cols)\n",
    "    ropts.SetHeaderHeight(25)\n",
    "    ropts.SetFooterHeight(25)\n",
    "    ropts.SetCellGap(2)\n",
    "    ropts.SetPageMargins(10)\n",
    "    report = oedepict.OEReport(ropts)\n",
    "\n",
    "    cellwidth, cellheight = report.GetCellWidth(), report.GetCellHeight()\n",
    "    opts = oedepict.OE2DMolDisplayOptions(cellwidth, cellheight, oedepict.OEScale_AutoScale)\n",
    "    oedepict.OESetup2DMolDisplayOptions(opts, itf)\n",
    "\n",
    "    for mol in molecules:\n",
    "        cell = report.NewCell()\n",
    "        oedepict.OEPrepareDepiction(mol)\n",
    "        disp = oedepict.OE2DMolDisplay(mol, opts)\n",
    "        oedepict.OERenderMolecule(cell, disp)\n",
    "        oedepict.OEDrawCurvedBorder(cell, oedepict.OELightGreyPen, 10.0)\n",
    "\n",
    "    oedepict.OEWriteReport(oname, report)"
   ]
  },
  {
   "cell_type": "code",
   "execution_count": 28,
   "metadata": {
    "collapsed": true
   },
   "outputs": [],
   "source": [
    "# Sort molecules by # of heavy atoms\n",
    "test_mol = molecules[0]"
   ]
  },
  {
   "cell_type": "code",
   "execution_count": 5,
   "metadata": {},
   "outputs": [],
   "source": [
    "# Sort by # of heavy atoms\n",
    "mol_size = []\n",
    "for mol in molecules:\n",
    "    mol_size.append(mol.NumAtoms())"
   ]
  },
  {
   "cell_type": "code",
   "execution_count": 13,
   "metadata": {},
   "outputs": [],
   "source": [
    "sorted_mols = [x for _,x in sorted(zip(mol_size,molecules))]\n",
    "sorted_size = [x for x, _ in sorted(zip(mol_size,molecules))]"
   ]
  },
  {
   "cell_type": "code",
   "execution_count": 7,
   "metadata": {},
   "outputs": [
    {
     "name": "stdout",
     "output_type": "stream",
     "text": [
      "Warning: OEDepictCoordinates() Inconsistent cis/trans bond stereo in 'DrugBank_4346'\n",
      "Warning: OEDepictCoordinates() Inconsistent cis/trans bond stereo in 'DrugBank_1538'\n",
      "Warning: OEDepictCoordinates() Inconsistent cis/trans bond stereo in 'DrugBank_7124'\n"
     ]
    }
   ],
   "source": [
    "to_pdf(sorted_mols, 'sorted_drug_bank.pdf')"
   ]
  },
  {
   "cell_type": "code",
   "execution_count": 8,
   "metadata": {
    "collapsed": true
   },
   "outputs": [],
   "source": [
    "# Write out first 150 molecules to smi\n",
    "ofs = oechem.oemolostream()\n",
    "ofs.open('sorted_drug_bank.smi')\n",
    "for mol in sorted_mols[:150]:\n",
    "    smiles = utils.create_mapped_smiles(mol)\n",
    "    oechem.OEWriteMolecule(ofs, mol)"
   ]
  },
  {
   "cell_type": "code",
   "execution_count": 10,
   "metadata": {},
   "outputs": [
    {
     "name": "stdout",
     "output_type": "stream",
     "text": [
      "16:51:36 INFO torsionFit: fragmenting DrugBank_2077...\n",
      "Warning: OEReport::GetHeaders() No headers are created for pages\n",
      "Warning: OEWriteReport() Cannot write empty report!\n",
      "Warning: Incorrect name: BLAH generated\n",
      "16:51:36 INFO torsionFit: fragmenting DrugBank_2642...\n",
      "Warning: Incorrect name: BLAH generated\n",
      "Warning: BCIChargeCorrector: BCI charge corrections for mol BLAH\n",
      "Warning:                     missing bcc parameter for the S1-S2 bond (BCIType 510951)\n",
      "Warning: OEBCCPartialCharges: Unable to assign all BCCs in mol BLAH\n",
      "Warning: OESEmpBCCPartialCharges: Stopping the charging process for mc mol BLAH\n",
      "16:51:37 WARNING torsionFit: WBO were not calculate. Cannot fragment molecule BLAH\n",
      "16:51:37 WARNING torsionFit: Skipping DrugBank_2642\n",
      "16:51:37 INFO torsionFit: fragmenting DrugBank_2728...\n",
      "Warning: OEReport::GetHeaders() No headers are created for pages\n",
      "Warning: OEWriteReport() Cannot write empty report!\n",
      "16:51:37 INFO torsionFit: fragmenting DrugBank_3353...\n",
      "16:51:37 INFO torsionFit: fragmenting DrugBank_2519...\n",
      "Warning: OEReport::GetHeaders() No headers are created for pages\n",
      "Warning: OEWriteReport() Cannot write empty report!\n",
      "16:51:37 INFO torsionFit: fragmenting DrugBank_423...\n",
      "Warning: OEReport::GetHeaders() No headers are created for pages\n",
      "Warning: OEWriteReport() Cannot write empty report!\n",
      "16:51:37 INFO torsionFit: fragmenting DrugBank_1722...\n",
      "Warning: OEReport::GetHeaders() No headers are created for pages\n",
      "Warning: OEWriteReport() Cannot write empty report!\n",
      "16:51:37 INFO torsionFit: fragmenting DrugBank_2538...\n",
      "Warning: OEReport::GetHeaders() No headers are created for pages\n",
      "Warning: OEWriteReport() Cannot write empty report!\n",
      "16:51:37 INFO torsionFit: fragmenting DrugBank_3046...\n",
      "Warning: OEReport::GetHeaders() No headers are created for pages\n",
      "Warning: OEWriteReport() Cannot write empty report!\n",
      "16:51:37 INFO torsionFit: fragmenting DrugBank_416...\n",
      "Warning: SelectElfDiverseConfs: elfPop.NumConfs 1 <= elfLimit 1\n",
      "16:51:38 INFO torsionFit: fragmenting DrugBank_3945...\n",
      "16:51:38 INFO torsionFit: fragmenting DrugBank_443...\n",
      "16:51:38 INFO torsionFit: fragmenting DrugBank_1480...\n",
      "16:51:38 INFO torsionFit: fragmenting DrugBank_2986...\n",
      "Warning: OEReport::GetHeaders() No headers are created for pages\n",
      "Warning: OEWriteReport() Cannot write empty report!\n",
      "16:51:38 INFO torsionFit: fragmenting DrugBank_2991...\n",
      "Warning: SelectElfDiverseConfs: elfPop.NumConfs 1 <= elfLimit 1\n",
      "16:51:38 INFO torsionFit: fragmenting DrugBank_3265...\n",
      "16:51:38 INFO torsionFit: fragmenting DrugBank_3655...\n",
      "16:51:38 INFO torsionFit: fragmenting DrugBank_2148...\n",
      "Warning: BCIChargeCorrector: BCI charge corrections for mol phosphonooxy(sulfido)phosphinic acid\n",
      "Warning:                     missing bcc parameter for the P3-S12 bond (BCIType 420951)\n",
      "Warning: OEBCCPartialCharges: Unable to assign all BCCs in mol phosphonooxy(sulfido)phosphinic acid\n",
      "Warning: OESEmpBCCPartialCharges: Stopping the charging process for mc mol phosphonooxy(sulfido)phosphinic acid\n",
      "16:51:38 WARNING torsionFit: WBO were not calculate. Cannot fragment molecule phosphonooxy(sulfido)phosphinic acid\n",
      "16:51:38 WARNING torsionFit: Skipping DrugBank_2148\n",
      "16:51:38 INFO torsionFit: fragmenting DrugBank_152...\n",
      "Warning: OEReport::GetHeaders() No headers are created for pages\n",
      "Warning: OEWriteReport() Cannot write empty report!\n",
      "16:51:39 INFO torsionFit: fragmenting DrugBank_4670...\n",
      "Warning: OEReport::GetHeaders() No headers are created for pages\n",
      "Warning: OEWriteReport() Cannot write empty report!\n",
      "16:51:39 INFO torsionFit: fragmenting DrugBank_1710...\n",
      "Warning: SelectElfDiverseConfs: elfPop.NumConfs 1 <= elfLimit 1\n",
      "16:51:39 INFO torsionFit: fragmenting DrugBank_1900...\n",
      "Warning: SelectElfDiverseConfs: elfPop.NumConfs 1 <= elfLimit 1\n",
      "16:51:39 INFO torsionFit: fragmenting DrugBank_2033...\n",
      "Warning: OEReport::GetHeaders() No headers are created for pages\n",
      "Warning: OEWriteReport() Cannot write empty report!\n",
      "16:51:39 INFO torsionFit: fragmenting DrugBank_3461...\n",
      "16:51:40 INFO torsionFit: fragmenting DrugBank_1465...\n",
      "Warning: SelectElfDiverseConfs: elfPop.NumConfs 1 <= elfLimit 1\n",
      "16:51:40 INFO torsionFit: fragmenting DrugBank_1594...\n",
      "16:51:40 INFO torsionFit: fragmenting DrugBank_1674...\n",
      "Warning: SelectElfDiverseConfs: elfPop.NumConfs 1 <= elfLimit 1\n",
      "16:51:41 INFO torsionFit: fragmenting DrugBank_3844...\n",
      "Warning: SelectElfDiverseConfs: elfPop.NumConfs 1 <= elfLimit 1\n",
      "16:51:41 INFO torsionFit: fragmenting DrugBank_1897...\n",
      "Warning: SelectElfDiverseConfs: elfPop.NumConfs 1 <= elfLimit 1\n",
      "16:51:41 INFO torsionFit: fragmenting DrugBank_2063...\n",
      "Warning: SelectElfDiverseConfs: elfPop.NumConfs 1 <= elfLimit 1\n",
      "16:51:42 INFO torsionFit: fragmenting DrugBank_3291...\n",
      "Warning: SelectElfDiverseConfs: elfPop.NumConfs 1 <= elfLimit 1\n",
      "16:51:42 INFO torsionFit: fragmenting DrugBank_1448...\n",
      "Warning: OEReport::GetHeaders() No headers are created for pages\n",
      "Warning: OEWriteReport() Cannot write empty report!\n",
      "16:51:43 INFO torsionFit: fragmenting DrugBank_2440...\n",
      "Warning: SelectElfDiverseConfs: elfPop.NumConfs 1 <= elfLimit 1\n",
      "16:51:44 INFO torsionFit: fragmenting DrugBank_2955...\n",
      "Warning: SelectElfDiverseConfs: elfPop.NumConfs 1 <= elfLimit 1\n",
      "16:51:44 INFO torsionFit: fragmenting DrugBank_320...\n",
      "Warning: OEReport::GetHeaders() No headers are created for pages\n",
      "Warning: OEWriteReport() Cannot write empty report!\n",
      "16:51:45 INFO torsionFit: fragmenting DrugBank_3930...\n",
      "Warning: SelectElfDiverseConfs: elfPop.NumConfs 1 <= elfLimit 1\n",
      "16:51:45 INFO torsionFit: fragmenting DrugBank_3954...\n",
      "Warning: SelectElfDiverseConfs: elfPop.NumConfs 1 <= elfLimit 1\n",
      "16:51:47 INFO torsionFit: fragmenting DrugBank_7020...\n",
      "Warning: SelectElfDiverseConfs: elfPop.NumConfs 1 <= elfLimit 1\n",
      "16:51:47 INFO torsionFit: fragmenting DrugBank_4659...\n",
      "Warning: OEReport::GetHeaders() No headers are created for pages\n",
      "Warning: OEWriteReport() Cannot write empty report!\n",
      "16:51:47 INFO torsionFit: fragmenting DrugBank_2465...\n",
      "Warning: SelectElfDiverseConfs: elfPop.NumConfs 1 <= elfLimit 1\n",
      "16:51:48 INFO torsionFit: fragmenting DrugBank_2791...\n",
      "16:51:48 INFO torsionFit: fragmenting DrugBank_6947...\n",
      "Warning: SelectElfDiverseConfs: elfPop.NumConfs 1 <= elfLimit 1\n",
      "16:51:48 INFO torsionFit: fragmenting DrugBank_2238...\n",
      "Warning: SelectElfDiverseConfs: elfPop.NumConfs 1 <= elfLimit 1\n",
      "16:51:48 INFO torsionFit: fragmenting DrugBank_2506...\n",
      "Warning: SelectElfDiverseConfs: elfPop.NumConfs 1 <= elfLimit 1\n",
      "16:51:49 INFO torsionFit: fragmenting DrugBank_2585...\n",
      "Warning: SelectElfDiverseConfs: elfPop.NumConfs 1 <= elfLimit 1\n",
      "16:51:49 INFO torsionFit: fragmenting DrugBank_3346...\n",
      "Warning: SelectElfDiverseConfs: elfPop.NumConfs 1 <= elfLimit 1\n",
      "16:51:49 INFO torsionFit: fragmenting DrugBank_3430...\n",
      "Warning: SelectElfDiverseConfs: elfPop.NumConfs 1 <= elfLimit 1\n",
      "16:51:51 INFO torsionFit: fragmenting DrugBank_1145...\n",
      "16:51:51 INFO torsionFit: fragmenting DrugBank_6331...\n",
      "Warning: SelectElfDiverseConfs: elfPop.NumConfs 1 <= elfLimit 1\n",
      "16:51:51 INFO torsionFit: fragmenting DrugBank_1447...\n",
      "Warning: SelectElfDiverseConfs: elfPop.NumConfs 1 <= elfLimit 1\n",
      "16:51:52 INFO torsionFit: fragmenting DrugBank_1570...\n",
      "Warning: SelectElfDiverseConfs: elfPop.NumConfs 1 <= elfLimit 1\n",
      "16:51:52 INFO torsionFit: fragmenting DrugBank_2208...\n",
      "Warning: SelectElfDiverseConfs: elfPop.NumConfs 1 <= elfLimit 1\n",
      "16:51:53 INFO torsionFit: fragmenting DrugBank_2682...\n",
      "Warning: SelectElfDiverseConfs: elfPop.NumConfs 1 <= elfLimit 1\n",
      "16:51:53 INFO torsionFit: fragmenting DrugBank_2830...\n",
      "Warning: SelectElfDiverseConfs: elfPop.NumConfs 1 <= elfLimit 1\n",
      "16:51:54 INFO torsionFit: fragmenting DrugBank_5904...\n",
      "Warning: SelectElfDiverseConfs: elfPop.NumConfs 1 <= elfLimit 1\n",
      "16:51:55 INFO torsionFit: fragmenting DrugBank_3581...\n",
      "Warning: SelectElfDiverseConfs: elfPop.NumConfs 1 <= elfLimit 1\n",
      "Warning: OEReport::GetHeaders() No headers are created for pages\n",
      "Warning: OEWriteReport() Cannot write empty report!\n",
      "16:51:55 INFO torsionFit: fragmenting DrugBank_3622...\n",
      "Warning: SelectElfDiverseConfs: elfPop.NumConfs 1 <= elfLimit 1\n",
      "16:51:56 INFO torsionFit: fragmenting DrugBank_997...\n",
      "Warning: OEReport::GetHeaders() No headers are created for pages\n",
      "Warning: OEWriteReport() Cannot write empty report!\n",
      "16:51:56 INFO torsionFit: fragmenting DrugBank_4193...\n",
      "Warning: SelectElfDiverseConfs: elfPop.NumConfs 1 <= elfLimit 1\n"
     ]
    },
    {
     "name": "stdout",
     "output_type": "stream",
     "text": [
      "16:51:56 INFO torsionFit: fragmenting DrugBank_1971...\n",
      "Warning: SelectElfDiverseConfs: elfPop.NumConfs 1 <= elfLimit 1\n",
      "16:51:57 INFO torsionFit: fragmenting DrugBank_1991...\n",
      "Warning: SelectElfDiverseConfs: elfPop.NumConfs 1 <= elfLimit 1\n",
      "16:51:59 INFO torsionFit: fragmenting DrugBank_5034...\n",
      "Warning: SelectElfDiverseConfs: elfPop.NumConfs 1 <= elfLimit 1\n",
      "16:51:59 INFO torsionFit: fragmenting DrugBank_546...\n",
      "Warning: SelectElfDiverseConfs: elfPop.NumConfs 1 <= elfLimit 1\n",
      "16:52:00 INFO torsionFit: fragmenting DrugBank_3406...\n",
      "Warning: SelectElfDiverseConfs: elfPop.NumConfs 1 <= elfLimit 1\n",
      "16:52:00 INFO torsionFit: fragmenting DrugBank_6160...\n",
      "Warning: SelectElfDiverseConfs: elfPop.NumConfs 1 <= elfLimit 1\n",
      "16:52:01 INFO torsionFit: fragmenting DrugBank_1633...\n",
      "Warning: SelectElfDiverseConfs: elfPop.NumConfs 1 <= elfLimit 1\n",
      "16:52:02 INFO torsionFit: fragmenting DrugBank_2048...\n",
      "Warning: SelectElfDiverseConfs: elfPop.NumConfs 1 <= elfLimit 1\n",
      "16:52:02 INFO torsionFit: fragmenting DrugBank_442...\n",
      "Warning: SelectElfDiverseConfs: elfPop.NumConfs 1 <= elfLimit 1\n",
      "16:52:02 INFO torsionFit: fragmenting DrugBank_764...\n",
      "Warning: SelectElfDiverseConfs: elfPop.NumConfs 1 <= elfLimit 1\n",
      "16:52:03 INFO torsionFit: fragmenting DrugBank_3590...\n",
      "Warning: SelectElfDiverseConfs: elfPop.NumConfs 1 <= elfLimit 1\n",
      "16:52:04 INFO torsionFit: fragmenting DrugBank_4136...\n",
      "Warning: SelectElfDiverseConfs: elfPop.NumConfs 1 <= elfLimit 1\n",
      "16:52:05 INFO torsionFit: fragmenting DrugBank_5285...\n",
      "Warning: SelectElfDiverseConfs: elfPop.NumConfs 1 <= elfLimit 1\n",
      "16:52:05 INFO torsionFit: fragmenting DrugBank_3087...\n",
      "Warning: SelectElfDiverseConfs: elfPop.NumConfs 1 <= elfLimit 1\n",
      "16:52:06 INFO torsionFit: fragmenting DrugBank_6145...\n",
      "Warning: SelectElfDiverseConfs: elfPop.NumConfs 1 <= elfLimit 1\n",
      "16:52:06 INFO torsionFit: fragmenting DrugBank_6567...\n",
      "Warning: SelectElfDiverseConfs: elfPop.NumConfs 1 <= elfLimit 1\n",
      "16:52:07 INFO torsionFit: fragmenting DrugBank_1982...\n",
      "Warning: SelectElfDiverseConfs: elfPop.NumConfs 1 <= elfLimit 1\n",
      "16:52:08 INFO torsionFit: fragmenting DrugBank_2017...\n",
      "Warning: SelectElfDiverseConfs: elfPop.NumConfs 1 <= elfLimit 1\n",
      "16:52:09 INFO torsionFit: fragmenting DrugBank_5115...\n",
      "Warning: SelectElfDiverseConfs: elfPop.NumConfs 1 <= elfLimit 1\n",
      "16:52:09 INFO torsionFit: fragmenting DrugBank_5414...\n",
      "Warning: SelectElfDiverseConfs: elfPop.NumConfs 1 <= elfLimit 1\n",
      "16:52:10 INFO torsionFit: fragmenting DrugBank_564...\n",
      "Warning: SelectElfDiverseConfs: elfPop.NumConfs 1 <= elfLimit 1\n",
      "16:52:10 INFO torsionFit: fragmenting DrugBank_3547...\n",
      "Warning: SelectElfDiverseConfs: elfPop.NumConfs 1 <= elfLimit 1\n",
      "16:52:12 INFO torsionFit: fragmenting DrugBank_3565...\n",
      "Warning: SelectElfDiverseConfs: elfPop.NumConfs 1 <= elfLimit 1\n",
      "16:52:15 INFO torsionFit: fragmenting DrugBank_4063...\n",
      "Warning: SelectElfDiverseConfs: elfPop.NumConfs 1 <= elfLimit 1\n",
      "16:52:15 INFO torsionFit: fragmenting DrugBank_6486...\n",
      "Warning: SelectElfDiverseConfs: elfPop.NumConfs 1 <= elfLimit 1\n",
      "16:52:16 INFO torsionFit: fragmenting DrugBank_6511...\n",
      "Warning: SelectElfDiverseConfs: elfPop.NumConfs 1 <= elfLimit 1\n",
      "16:52:17 INFO torsionFit: fragmenting DrugBank_1735...\n",
      "Warning: SelectElfDiverseConfs: elfPop.NumConfs 1 <= elfLimit 1\n",
      "16:52:17 INFO torsionFit: fragmenting DrugBank_5043...\n",
      "Warning: SelectElfDiverseConfs: elfPop.NumConfs 1 <= elfLimit 1\n",
      "16:52:18 INFO torsionFit: fragmenting DrugBank_3674...\n",
      "Warning: OEReport::GetHeaders() No headers are created for pages\n",
      "Warning: OEWriteReport() Cannot write empty report!\n",
      "16:52:19 INFO torsionFit: fragmenting DrugBank_3726...\n",
      "Warning: SelectElfDiverseConfs: elfPop.NumConfs 1 <= elfLimit 1\n",
      "16:52:20 INFO torsionFit: fragmenting DrugBank_6222...\n",
      "Warning: SelectElfDiverseConfs: elfPop.NumConfs 1 <= elfLimit 1\n",
      "16:52:21 INFO torsionFit: fragmenting DrugBank_6466...\n",
      "Warning: SelectElfDiverseConfs: elfPop.NumConfs 1 <= elfLimit 1\n",
      "16:52:22 INFO torsionFit: fragmenting DrugBank_4196...\n",
      "Warning: SelectElfDiverseConfs: elfPop.NumConfs 1 <= elfLimit 1\n",
      "16:52:23 INFO torsionFit: fragmenting DrugBank_1661...\n",
      "Warning: SelectElfDiverseConfs: elfPop.NumConfs 1 <= elfLimit 1\n",
      "16:52:24 INFO torsionFit: fragmenting DrugBank_4536...\n",
      "Warning: SelectElfDiverseConfs: elfPop.NumConfs 1 <= elfLimit 1\n",
      "16:52:25 INFO torsionFit: fragmenting DrugBank_4586...\n",
      "16:53:43 INFO torsionFit: fragmenting DrugBank_7079...\n",
      "Warning: SelectElfDiverseConfs: elfPop.NumConfs 1 <= elfLimit 1\n",
      "16:53:44 INFO torsionFit: fragmenting DrugBank_4865...\n",
      "Warning: SelectElfDiverseConfs: elfPop.NumConfs 1 <= elfLimit 1\n",
      "16:53:45 INFO torsionFit: fragmenting DrugBank_2563...\n",
      "Warning: SelectElfDiverseConfs: elfPop.NumConfs 1 <= elfLimit 1\n",
      "16:53:45 INFO torsionFit: fragmenting DrugBank_5323...\n",
      "Warning: SelectElfDiverseConfs: elfPop.NumConfs 1 <= elfLimit 1\n",
      "16:53:46 INFO torsionFit: fragmenting DrugBank_5737...\n",
      "Warning: SelectElfDiverseConfs: elfPop.NumConfs 1 <= elfLimit 1\n",
      "16:53:46 INFO torsionFit: fragmenting DrugBank_3258...\n",
      "Warning: SelectElfDiverseConfs: elfPop.NumConfs 1 <= elfLimit 1\n",
      "16:53:47 INFO torsionFit: fragmenting DrugBank_6329...\n",
      "16:53:49 INFO torsionFit: fragmenting DrugBank_1998...\n",
      "Warning: SelectElfDiverseConfs: elfPop.NumConfs 1 <= elfLimit 1\n",
      "Warning: Incorrect name: (2~{R})-2-amino-3-(2-BLAHethylsulfanyl)propanoic acid generated\n",
      "16:53:51 INFO torsionFit: fragmenting DrugBank_2397...\n",
      "Warning: Incorrect name: (2~{R})-2-amino-3-(2-BLAHethylsulfanyl)propanoic acid generated\n",
      "Warning: SelectElfDiverseConfs: elfPop.NumConfs 1 <= elfLimit 1\n",
      "16:53:55 INFO torsionFit: fragmenting DrugBank_5373...\n",
      "16:53:56 INFO torsionFit: fragmenting DrugBank_2800...\n",
      "Warning: SelectElfDiverseConfs: elfPop.NumConfs 1 <= elfLimit 1\n",
      "16:53:57 INFO torsionFit: fragmenting DrugBank_3080...\n",
      "Warning: SelectElfDiverseConfs: elfPop.NumConfs 1 <= elfLimit 1\n",
      "16:53:58 INFO torsionFit: fragmenting DrugBank_3299...\n",
      "Warning: SelectElfDiverseConfs: elfPop.NumConfs 1 <= elfLimit 1\n",
      "16:53:59 INFO torsionFit: fragmenting DrugBank_5867...\n",
      "Warning: SelectElfDiverseConfs: elfPop.NumConfs 1 <= elfLimit 1\n",
      "16:54:01 INFO torsionFit: fragmenting DrugBank_889...\n",
      "Warning: SelectElfDiverseConfs: elfPop.NumConfs 1 <= elfLimit 1\n",
      "16:54:03 INFO torsionFit: fragmenting DrugBank_891...\n",
      "Warning: SelectElfDiverseConfs: elfPop.NumConfs 1 <= elfLimit 1\n",
      "16:54:03 INFO torsionFit: fragmenting DrugBank_1586...\n",
      "Warning: SelectElfDiverseConfs: elfPop.NumConfs 1 <= elfLimit 1\n",
      "16:54:05 INFO torsionFit: fragmenting DrugBank_4344...\n",
      "Warning: SelectElfDiverseConfs: elfPop.NumConfs 1 <= elfLimit 1\n",
      "16:54:06 INFO torsionFit: fragmenting DrugBank_6865...\n",
      "Warning: SelectElfDiverseConfs: elfPop.NumConfs 1 <= elfLimit 1\n",
      "16:54:07 INFO torsionFit: fragmenting DrugBank_6895...\n",
      "Warning: SelectElfDiverseConfs: elfPop.NumConfs 1 <= elfLimit 1\n",
      "16:54:08 INFO torsionFit: fragmenting DrugBank_2530...\n",
      "Warning: SelectElfDiverseConfs: elfPop.NumConfs 1 <= elfLimit 1\n",
      "16:54:09 INFO torsionFit: fragmenting DrugBank_5418...\n",
      "Warning: SelectElfDiverseConfs: elfPop.NumConfs 1 <= elfLimit 1\n",
      "16:54:10 INFO torsionFit: fragmenting DrugBank_5804...\n",
      "16:54:13 INFO torsionFit: fragmenting DrugBank_5808...\n",
      "16:54:16 INFO torsionFit: fragmenting DrugBank_794...\n",
      "Warning: SelectElfDiverseConfs: elfPop.NumConfs 1 <= elfLimit 1\n",
      "16:54:17 INFO torsionFit: fragmenting DrugBank_2099...\n",
      "Warning: SelectElfDiverseConfs: elfPop.NumConfs 1 <= elfLimit 1\n",
      "16:54:20 INFO torsionFit: fragmenting DrugBank_2607...\n",
      "Warning: SelectElfDiverseConfs: elfPop.NumConfs 1 <= elfLimit 1\n",
      "16:54:20 INFO torsionFit: fragmenting DrugBank_2671...\n",
      "16:54:22 INFO torsionFit: fragmenting DrugBank_2967...\n",
      "Warning: SelectElfDiverseConfs: elfPop.NumConfs 1 <= elfLimit 1\n",
      "16:54:24 INFO torsionFit: fragmenting DrugBank_5609...\n",
      "Warning: SelectElfDiverseConfs: elfPop.NumConfs 1 <= elfLimit 1\n",
      "16:54:25 INFO torsionFit: fragmenting DrugBank_1608...\n",
      "Warning: SelectElfDiverseConfs: elfPop.NumConfs 1 <= elfLimit 1\n",
      "16:54:27 INFO torsionFit: fragmenting DrugBank_4301...\n",
      "Warning: SelectElfDiverseConfs: elfPop.NumConfs 1 <= elfLimit 1\n",
      "16:54:29 INFO torsionFit: fragmenting DrugBank_4323...\n",
      "Warning: SelectElfDiverseConfs: elfPop.NumConfs 1 <= elfLimit 1\n",
      "16:54:32 INFO torsionFit: fragmenting DrugBank_1727...\n",
      "Warning: SelectElfDiverseConfs: elfPop.NumConfs 1 <= elfLimit 1\n",
      "16:54:36 INFO torsionFit: fragmenting DrugBank_1728...\n"
     ]
    },
    {
     "name": "stdout",
     "output_type": "stream",
     "text": [
      "Warning: SelectElfPop: Unable to remove trans COOH conformers from mol (2~{R})-2-amino-3-[[(3~{S})-5-[(~{R})-amino(carboxy)methyl]-2,3-dihydroisoxazol-3-yl]sulfanyl]propanoic acid\n",
      "Warning: OESEmpBCCPartialCharges: Unable to select ELF-stable conformer population\n",
      "16:54:39 WARNING torsionFit: WBO were not calculate. Cannot fragment molecule (2~{R})-2-amino-3-[[(3~{S})-5-[(~{R})-amino(carboxy)methyl]-2,3-dihydroisoxazol-3-yl]sulfanyl]propanoic acid\n",
      "16:54:39 WARNING torsionFit: Skipping DrugBank_1728\n",
      "16:54:39 INFO torsionFit: fragmenting DrugBank_2358...\n",
      "Warning: SelectElfDiverseConfs: elfPop.NumConfs 1 <= elfLimit 1\n",
      "16:54:40 INFO torsionFit: fragmenting DrugBank_5313...\n",
      "Warning: SelectElfDiverseConfs: elfPop.NumConfs 1 <= elfLimit 1\n",
      "16:54:40 INFO torsionFit: fragmenting DrugBank_5449...\n",
      "Warning: SelectElfDiverseConfs: elfPop.NumConfs 1 <= elfLimit 1\n",
      "16:54:43 INFO torsionFit: fragmenting DrugBank_2998...\n",
      "Warning: SelectElfDiverseConfs: elfPop.NumConfs 1 <= elfLimit 1\n",
      "16:54:45 INFO torsionFit: fragmenting DrugBank_3752...\n",
      "Warning: SelectElfDiverseConfs: elfPop.NumConfs 1 <= elfLimit 1\n",
      "16:54:46 INFO torsionFit: fragmenting DrugBank_4593...\n",
      "Warning: SelectElfDiverseConfs: elfPop.NumConfs 1 <= elfLimit 1\n",
      "16:54:48 INFO torsionFit: fragmenting DrugBank_7049...\n",
      "Warning: SelectElfDiverseConfs: elfPop.NumConfs 1 <= elfLimit 1\n",
      "16:54:49 INFO torsionFit: fragmenting DrugBank_5407...\n",
      "Warning: SelectElfDiverseConfs: elfPop.NumConfs 1 <= elfLimit 1\n",
      "16:54:51 INFO torsionFit: fragmenting DrugBank_128...\n",
      "Warning: SelectElfDiverseConfs: elfPop.NumConfs 1 <= elfLimit 1\n",
      "16:54:52 INFO torsionFit: fragmenting DrugBank_3014...\n",
      "Warning: SelectElfDiverseConfs: elfPop.NumConfs 1 <= elfLimit 1\n",
      "16:54:53 INFO torsionFit: fragmenting DrugBank_5902...\n",
      "Warning: SelectElfDiverseConfs: elfPop.NumConfs 1 <= elfLimit 1\n",
      "16:54:55 INFO torsionFit: fragmenting DrugBank_6232...\n",
      "Warning: SelectElfDiverseConfs: elfPop.NumConfs 1 <= elfLimit 1\n",
      "16:54:56 INFO torsionFit: fragmenting DrugBank_3913...\n",
      "Warning: SelectElfPop: Unable to remove trans COOH conformers from mol (2~{R})-2-amino-3-[(3~{R},5~{R})-5-[(~{R})-amino(carboxy)methyl]isoxazolidin-3-yl]sulfanyl-propanoic acid\n",
      "Warning: OESEmpBCCPartialCharges: Unable to select ELF-stable conformer population\n",
      "16:54:57 WARNING torsionFit: WBO were not calculate. Cannot fragment molecule (2~{R})-2-amino-3-[(3~{R},5~{R})-5-[(~{R})-amino(carboxy)methyl]isoxazolidin-3-yl]sulfanyl-propanoic acid\n",
      "16:54:57 WARNING torsionFit: Skipping DrugBank_3913\n",
      "16:54:57 INFO torsionFit: fragmenting DrugBank_1391...\n",
      "Warning: SelectElfDiverseConfs: elfPop.NumConfs 1 <= elfLimit 1\n",
      "16:55:00 INFO torsionFit: fragmenting DrugBank_2570...\n",
      "Warning: SelectElfDiverseConfs: elfPop.NumConfs 1 <= elfLimit 1\n",
      "16:55:02 INFO torsionFit: fragmenting DrugBank_2651...\n",
      "Warning: SelectElfDiverseConfs: elfPop.NumConfs 1 <= elfLimit 1\n",
      "16:55:08 INFO torsionFit: fragmenting DrugBank_390...\n",
      "16:55:10 INFO torsionFit: fragmenting DrugBank_3570...\n",
      "Warning: SelectElfDiverseConfs: elfPop.NumConfs 1 <= elfLimit 1\n",
      "16:55:14 INFO torsionFit: fragmenting DrugBank_914...\n",
      "Warning: SelectElfDiverseConfs: elfPop.NumConfs 1 <= elfLimit 1\n",
      "16:55:18 INFO torsionFit: fragmenting DrugBank_4247...\n",
      "Warning: SelectElfDiverseConfs: elfPop.NumConfs 1 <= elfLimit 1\n"
     ]
    }
   ],
   "source": [
    "# Try to fragment some\n",
    "output_dir = os.path.dirname(os.path.realpath('__file__'))\n",
    "fragment.generate_fragments('sorted_drug_bank.smi', output_dir=output_dir, MAX_ROTORS=3, strict_stereo=False, pdf=True)"
   ]
  },
  {
   "cell_type": "code",
   "execution_count": 31,
   "metadata": {},
   "outputs": [
    {
     "data": {
      "image/png": "[encoded data removed]",
      "text/plain": [
       "<matplotlib.figure.Figure at 0x11ebf5198>"
      ]
     },
     "metadata": {},
     "output_type": "display_data"
    }
   ],
   "source": [
    "# Plot distribution of heavy atoms;\n",
    "plt.hist(sorted_size);"
   ]
  },
  {
   "cell_type": "code",
   "execution_count": 22,
   "metadata": {},
   "outputs": [
    {
     "name": "stdout",
     "output_type": "stream",
     "text": [
      "Loading molecules from 'nrotor_1.smi'...\n",
      "160 molecules read\n",
      "0.038 s elapsed\n",
      "Loading molecules from 'nrotor_2.smi'...\n",
      "147 molecules read\n",
      "0.010 s elapsed\n",
      "Loading molecules from 'nrotor_3.smi'...\n",
      "95 molecules read\n",
      "0.012 s elapsed\n",
      "Loading molecules from 'nrotor_4.smi'...\n",
      "13 molecules read\n",
      "0.002 s elapsed\n",
      "Loading molecules from 'nrotor_5.smi'...\n",
      "1 molecules read\n",
      "0.001 s elapsed\n"
     ]
    }
   ],
   "source": [
    "frag_list_1 = read_molecules('nrotor_1.smi')\n",
    "frag_list_2 = read_molecules('nrotor_2.smi')\n",
    "frag_list_3 = read_molecules('nrotor_3.smi')\n",
    "frag_list_4 = read_molecules('nrotor_4.smi')\n",
    "frag_list_5 = read_molecules('nrotor_5.smi')"
   ]
  },
  {
   "cell_type": "code",
   "execution_count": 42,
   "metadata": {},
   "outputs": [
    {
     "data": {
      "image/png": "[encoded data removed]",
      "text/plain": [
       "<matplotlib.figure.Figure at 0x11f0e4b00>"
      ]
     },
     "metadata": {},
     "output_type": "display_data"
    }
   ],
   "source": [
    "rotors = {1:160, 2:147, 3:95, 4:13, 5:1}\n",
    "plt.bar(list(rotors.keys()), list(rotors.values()), label='N_tot: 416');\n",
    "plt.xlabel('rotors')\n",
    "plt.ylabel('Counts')\n",
    "plt.title('Rotatable bonds in fragment set')\n",
    "plt.legend();\n",
    "plt.savefig('rot_bonds.png')"
   ]
  },
  {
   "cell_type": "code",
   "execution_count": 38,
   "metadata": {},
   "outputs": [],
   "source": [
    "# Plot distribution of heavy atoms of fragments\n",
    "all_frags = [frag_list_1, frag_list_2, frag_list_3, frag_list_4, frag_list_5]\n",
    "frag_size = {}\n",
    "h_atoms = []\n",
    "for i, frag_set in enumerate(all_frags):\n",
    "    frag_size[i] = np.zeros(len(frag_set))\n",
    "    for j, frag in enumerate(frag_set):\n",
    "        atoms = frag.NumAtoms()\n",
    "        h_atoms.append(atoms)\n",
    "        frag_size[i][j] = atoms"
   ]
  },
  {
   "cell_type": "code",
   "execution_count": 43,
   "metadata": {},
   "outputs": [
    {
     "data": {
      "image/png": "[encoded data removed]",
      "text/plain": [
       "<matplotlib.figure.Figure at 0x11eee8908>"
      ]
     },
     "metadata": {},
     "output_type": "display_data"
    }
   ],
   "source": [
    "plt.hist(h_atoms, label = '416 fragments');\n",
    "plt.xlabel('Heavy atoms')\n",
    "plt.ylabel('Count')\n",
    "plt.title('Distribution of heavy atoms in fragments');\n",
    "plt.legend()\n",
    "plt.savefig('heavy_atoms.png')"
   ]
  },
  {
   "cell_type": "code",
   "execution_count": null,
   "metadata": {
    "collapsed": true
   },
   "outputs": [],
   "source": []
  }
 ],
 "metadata": {
  "kernelspec": {
   "display_name": "Python 3",
   "language": "python",
   "name": "python3"
  },
  "language_info": {
   "codemirror_mode": {
    "name": "ipython",
    "version": 3
   },
   "file_extension": ".py",
   "mimetype": "text/x-python",
   "name": "python",
   "nbconvert_exporter": "python",
   "pygments_lexer": "ipython3",
   "version": "3.6.1"
  }
 },
 "nbformat": 4,
 "nbformat_minor": 2
}
