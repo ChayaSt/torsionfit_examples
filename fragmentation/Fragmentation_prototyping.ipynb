{
 "cells": [
  {
   "cell_type": "code",
   "execution_count": 1,
   "metadata": {
    "collapsed": true
   },
   "outputs": [],
   "source": [
    "%matplotlib inline\n",
    "import matplotlib.pyplot as plt\n",
    "from openeye import oechem, oedepict, oeomega, oequacpac, oemedchem\n",
    "from IPython.display import display\n",
    "import pandas as pd\n",
    "import oenotebook as oenb\n",
    "from openmoltools.openeye import get_charges\n",
    "from openmoltools import openeye\n",
    "from torsionfit.qmscan.fragment import *\n",
    "import networkx as nx\n",
    "from torsionfit.qmscan.enumfrags2pdf import main as vis_wrapper"
   ]
  },
  {
   "cell_type": "code",
   "execution_count": 2,
   "metadata": {},
   "outputs": [
    {
     "name": "stdout",
     "output_type": "stream",
     "text": [
      "Warning: OEAssignPartialCharges has been deprecated please use OEAssignCharges instead!\n"
     ]
    }
   ],
   "source": [
    "imatinib = 'C5=C(C1=CN=CC=C1)N=C(NC2=C(C=CC(=C2)NC(C3=CC=C(C=C3)CN4CCN(CC4)C)=O)C)N=C5'\n",
    "mol = openeye.smiles_to_oemol(imatinib)\n",
    "charged = get_charges(mol, keep_confs=1)\n"
   ]
  },
  {
   "cell_type": "code",
   "execution_count": 3,
   "metadata": {
    "collapsed": true
   },
   "outputs": [],
   "source": [
    "nilotinib = 'Cc1ccc(cc1Nc2nccc(n2)c3cccnc3)C(=O)Nc4cc(cc(c4)n5cc(nc5)C)C(F)(F)F'\n",
    "mol = openeye.smiles_to_oemol(nilotinib)\n",
    "charged = get_charges(mol, keep_confs=1)"
   ]
  },
  {
   "cell_type": "code",
   "execution_count": 4,
   "metadata": {
    "collapsed": true
   },
   "outputs": [],
   "source": [
    "disatinib = 'C1=C(SC(=N1)NC2=CC(=NC(=N2)C)N3CCN(CC3)CCO)C(=O)NC4=C(C=CC=C4Cl)C\t'\n",
    "mol = openeye.smiles_to_oemol(disatinib)\n",
    "charged = get_charges(mol, keep_confs=1)"
   ]
  },
  {
   "cell_type": "code",
   "execution_count": 5,
   "metadata": {},
   "outputs": [
    {
     "data": {
      "image/png": "[encoded data removed]",
      "text/plain": [
       "<IPython.core.display.Image object>"
      ]
     },
     "execution_count": 5,
     "metadata": {},
     "output_type": "execute_result"
    }
   ],
   "source": [
    "oenb.draw_smiles(disatinib)\n"
   ]
  },
  {
   "cell_type": "code",
   "execution_count": 100,
   "metadata": {},
   "outputs": [],
   "source": [
    "def is_hbond(bond):\n",
    "    hbond = None\n",
    "    beg = bond.GetBgn()\n",
    "    end = bond.GetEnd()\n",
    "    if beg.IsHydrogen() or end.IsHydrogen():\n",
    "        hbond = bond\n",
    "    return hbond\n",
    "\n",
    "def find_ring(a, rot_bond, next_bond, ratoms_l = [], rbonds_l = []):\n",
    "    if a.GetIdx() not in ratoms_l:\n",
    "        ratoms_l.append(a.GetIdx())\n",
    "    for bond in a.GetBonds():\n",
    "        if bond.IsRotor():\n",
    "            # I should check for resonance here.\n",
    "            continue \n",
    "        \n",
    "        if bond.IsInRing() or is_hbond(bond):\n",
    "            beg = bond.GetBgn()\n",
    "            end = bond.GetEnd()\n",
    "            beg_index = beg.GetIdx()\n",
    "            end_index = end.GetIdx()\n",
    "            if bond.GetIdx() not in rbonds_l:\n",
    "                rbonds_l.append(bond.GetIdx())\n",
    "            if beg_index not in ratoms_l:\n",
    "                ratoms_l.append(beg_index)\n",
    "                find_ring(beg, rot_bond, next_bond, ratoms_l, rbonds_l)\n",
    "            if end_index not in ratoms_l:\n",
    "                ratoms_l.append(end_index)\n",
    "                find_ring(end, rot_bond, next_bond, ratoms_l, rbonds_l)\n",
    "        elif not bond.IsRotor():\n",
    "            # Keep all constituents that are not rotatable (halogens, o, ch3..)\n",
    "            beg_idx = bond.GetBgn().GetIdx()\n",
    "            end_idx = bond.GetEnd().GetIdx()\n",
    "            if bond.GetIdx() not in rbonds_l:\n",
    "                rbonds_l.append(bond.GetIdx())\n",
    "            if beg_idx not in ratoms_l:\n",
    "                ratoms_l.append(beg_idx)\n",
    "            if end_idx not in ratoms_l:\n",
    "                ratoms_l.append(end_idx)  \n",
    "    return ratoms_l, rbonds_l\n",
    "\n",
    "def to_AtomBondSet(mol, atoms, bonds):\n",
    "    AtomBondSet = oechem.OEAtomBondSet()\n",
    "    for a_idx in atoms:\n",
    "        AtomBondSet.AddAtom(mol.GetAtom(oechem.OEHasAtomIdx(a_idx)))\n",
    "    for b_idx in bonds:\n",
    "        AtomBondSet.AddBond(mol.GetBond(oechem.OEHasBondIdx(b_idx)))\n",
    "    return AtomBondSet\n",
    "\n",
    "def is_ortho(bond, rot_bond, next_bond):\n",
    "    bond_attached = set()\n",
    "    rot_attached = set()\n",
    "    next_attached = set()\n",
    "    # Check if theese bonds have a connecting bond that's in a ring\n",
    "    beg_b = bond.GetBgn()\n",
    "    end_b = bond.GetEnd()\n",
    "    beg_r = rot_bond.GetBgn()\n",
    "    end_r = rot_bond.GetEnd()\n",
    "    beg_n = next_bond.GetBgn()\n",
    "    end_n = next_bond.GetEnd()\n",
    "    for b in beg_b.GetBonds():\n",
    "        bond_attached.add(b.GetIdx())\n",
    "    for b in end_b.GetBonds():\n",
    "        bond_attached.add(b.GetIdx())        \n",
    "    for b in beg_r.GetBonds():\n",
    "        rot_attached.add(b.GetIdx())\n",
    "    for b in end_r.GetBonds():\n",
    "        rot_attached.add(b.GetIdx())\n",
    "    for b in beg_n.GetBonds():\n",
    "        next_attached.add(b.GetIdx())\n",
    "    for b in end_n.GetBonds():\n",
    "        next_attached.add(b.GetIdx())\n",
    "    intersection = (bond_attached & rot_attached)\n",
    "    if not bool(intersection):\n",
    "        # Check if it's ortho to next bond\n",
    "        intersection = (bond_attached & next_attached)\n",
    "    return bool(intersection)\n",
    "    "
   ]
  },
  {
   "cell_type": "code",
   "execution_count": 144,
   "metadata": {},
   "outputs": [],
   "source": [
    "def build_frag(bond, mol, atoms=set(), bonds=set(), tagged=set(), i=0):\n",
    "    b_idx = bond.GetIdx()\n",
    "    if b_idx not in bonds:\n",
    "        bonds.add(b_idx)\n",
    "    beg = bond.GetBgn()\n",
    "    end = bond.GetEnd()\n",
    "    beg_idx = beg.GetIdx()\n",
    "    end_idx = end.GetIdx()\n",
    "    #if beg_idx not in atoms:\n",
    "    atoms.add(beg_idx)\n",
    "    iterate_nbratom(beg, mol, bond, beg_idx, end_idx, atoms, bonds, i)\n",
    "    atoms.add(end_idx)\n",
    "    iterate_nbratom(end, mol, bond, end_idx, beg_idx, atoms, bonds, i)\n",
    "    return atoms, bonds\n",
    "\n",
    "def iterate_nbratom(atom, mol, bond, s_idx, o_idx, atoms, bonds, i):\n",
    "    for a in atom.GetAtoms():\n",
    "        a_idx = a.GetIdx()\n",
    "        next_bond = mol.GetBond(a, atom)\n",
    "        nb_idx = next_bond.GetIdx()\n",
    "        if next_bond.GetData('WibergBondOrder') <= 1.2 and i > 0:\n",
    "            continue\n",
    "        atoms.add(a_idx)\n",
    "        if nb_idx != bond.GetIdx() and nb_idx not in bonds:\n",
    "            bonds.add(nb_idx)\n",
    "            if a_idx != o_idx:\n",
    "                if a.IsInRing():\n",
    "                    r_atoms, r_bonds = find_ring(a, rot_bond=bond, next_bond=next_bond, ratoms_l=[], rbonds_l=[])\n",
    "                    for a_idx in r_atoms:\n",
    "                        atoms.add(a_idx)\n",
    "                    for b_idx in r_bonds:\n",
    "                        bonds.add(b_idx)\n",
    "                else:\n",
    "                    for n_atom in a.GetAtoms():\n",
    "                        n_idx = n_atom.GetIdx()\n",
    "                        if n_idx not in (a_idx, s_idx):\n",
    "                            nn_bond = mol.GetBond(n_atom, a)\n",
    "                            if nn_bond.GetData('WibergBondOrder') >=1.2:\n",
    "                                bonds.add(nn_bond.GetIdx())\n",
    "                                atoms.add(n_idx)\n",
    "                                i +=1\n",
    "                                build_frag(nn_bond, mol, atoms, bonds, i=i)\n",
    "                                \n",
    "                            if not n_atom.IsCarbon():\n",
    "                                #functional group\n",
    "                                atoms.add(n_idx)\n",
    "                                bonds.add(nn_bond.GetIdx())\n",
    "                \n"
   ]
  },
  {
   "cell_type": "code",
   "execution_count": 63,
   "metadata": {},
   "outputs": [],
   "source": [
    "def build_frag(bond, mol, atoms=set(), bonds=set(), tagged=set(), i=0):\n",
    "    b_idx = bond.GetIdx()\n",
    "    if b_idx not in bonds:\n",
    "        bonds.add(b_idx)\n",
    "    beg = bond.GetBgn()\n",
    "    end = bond.GetEnd()\n",
    "    beg_idx = beg.GetIdx()\n",
    "    end_idx = end.GetIdx()\n",
    "    #if beg_idx not in atoms:\n",
    "    atoms.add(beg_idx)\n",
    "    print(i)\n",
    "# put this into a function\n",
    "    for atom in beg.GetAtoms():\n",
    "        a_idx = atom.GetIdx()\n",
    "        next_bond = mol.GetBond(atom, beg)\n",
    "        nb_idx = next_bond.GetIdx()\n",
    "        if next_bond.GetData('WibergBondOrder') <= 1.2 and i > 0:\n",
    "            continue\n",
    "        atoms.add(a_idx)\n",
    "        if nb_idx != b_idx and nb_idx not in bonds:\n",
    "            bonds.add(nb_idx)\n",
    "            if a_idx != end_idx:\n",
    "                if atom.IsInRing():\n",
    "                    r_atoms, r_bonds = find_ring(atom, rot_bond=bond, next_bond=next_bond, atoms=[], bonds=[])\n",
    "                    for a_idx in r_atoms:\n",
    "                        atoms.add(a_idx)\n",
    "                    for b_idx in r_bonds:\n",
    "                        bonds.add(b_idx)\n",
    "                else:\n",
    "                    for n_atom in atom.GetAtoms():\n",
    "                        n_idx = n_atom.GetIdx()\n",
    "                        if n_idx not in (a_idx, beg_idx):\n",
    "                            nn_bond = mol.GetBond(n_atom, atom)\n",
    "                            if nn_bond.GetData('WibergBondOrder') >=1.2:\n",
    "                                bonds.add(nn_bond.GetIdx())\n",
    "                                atoms.add(n_idx)\n",
    "                                i +=1\n",
    "                                build_frag(nn_bond, mol, atoms, bonds, i=i)\n",
    "                                \n",
    "                            if not n_atom.IsCarbon():\n",
    "                                #functional group\n",
    "                                atoms.add(n_idx)\n",
    "                                bonds.add(nn_bond.GetIdx())\n",
    "                \n",
    "    #if end_idx not in atoms:\n",
    "    atoms.add(end_idx)\n",
    "    for atom in end.GetAtoms():\n",
    "        a_idx = atom.GetIdx()  \n",
    "        next_bond = mol.GetBond(atom, end)\n",
    "        nb_idx = next_bond.GetIdx()\n",
    "        if next_bond.GetData('WibergBondOrder') <= 1.2 and i > 0:\n",
    "            continue\n",
    "        atoms.add(a_idx)\n",
    "        if nb_idx != b_idx and nb_idx not in bonds:\n",
    "            bonds.add(nb_idx)\n",
    "            if a_idx != beg_idx:\n",
    "                if atom.IsInRing():\n",
    "                    r_atoms, r_bonds = find_ring(atom, rot_bond=bond, next_bond=next_bond, atoms=[], bonds=[])\n",
    "                    for a_idx in r_atoms:\n",
    "                        atoms.add(a_idx)\n",
    "                    for b_idx in r_bonds:\n",
    "                        bonds.add(b_idx)\n",
    "                else:\n",
    "                    for n_atom in atom.GetAtoms():\n",
    "                        n_idx = n_atom.GetIdx()\n",
    "                        if n_idx not in (a_idx, end_idx):\n",
    "                            nn_bond = mol.GetBond(n_atom, atom)\n",
    "                            if nn_bond.GetData('WibergBondOrder') >=1.2:\n",
    "                                bonds.add(nn_bond.GetIdx())\n",
    "                                atoms.add(n_idx)\n",
    "                                i +=1\n",
    "                                build_frag(nn_bond, mol, atoms, bonds, i=i)\n",
    "                                \n",
    "                            if not n_atom.IsCarbon():\n",
    "                                print(n_atom)\n",
    "                                #functional group\n",
    "                                atoms.add(n_idx)\n",
    "                                bonds.add(nn_bond.GetIdx())\n",
    "                    \n",
    "    return atoms, bonds"
   ]
  },
  {
   "cell_type": "code",
   "execution_count": 145,
   "metadata": {
    "collapsed": true
   },
   "outputs": [],
   "source": [
    "def wiberg_tagged(mol, wiberg_bond_order=1.2):\n",
    "    r_tagged = set()\n",
    "    for bond in charged.GetBonds():\n",
    "        if not bond.IsInRing():\n",
    "            if bond.GetData('WibergBondOrder') >= wiberg_bond_order:\n",
    "                r_tagged.add(bond.GetIdx())\n",
    "    return r_tagged\n",
    "                "
   ]
  },
  {
   "cell_type": "code",
   "execution_count": 146,
   "metadata": {},
   "outputs": [
    {
     "name": "stdout",
     "output_type": "stream",
     "text": [
      "rot_bond:  5 (3C-5N)\n",
      "rot_bond:  6 (5N-6C)\n",
      "rot_bond: 14 (8C-13N)\n",
      "rot_bond: 21 (16N-19C)\n",
      "rot_bond: 22 (19C-20C)\n",
      "rot_bond: 24 (1C-22C)\n",
      "rot_bond: 26 (22C-24N)\n",
      "rot_bond: 27 (24N-25C)\n"
     ]
    }
   ],
   "source": [
    "frags = []\n",
    "for bond in charged.GetBonds():\n",
    "    if bond.IsRotor():\n",
    "        print('rot_bond: {}'.format(bond))\n",
    "        atoms, bonds = build_frag(bond, charged, atoms=set(), bonds=set())\n",
    "        atom_bond_set = to_AtomBondSet(charged, atoms, bonds)\n",
    "        frags.append(atom_bond_set)"
   ]
  },
  {
   "cell_type": "code",
   "execution_count": 147,
   "metadata": {},
   "outputs": [],
   "source": [
    "# Convert fragments to smile strings\n",
    "def frag_to_smiles(frags, mol):\n",
    "    smiles = []\n",
    "    for frag in frags:\n",
    "        fragatompred = oechem.OEIsAtomMember(frag.GetAtoms())\n",
    "        fragbondpred = oechem.OEIsBondMember(frag.GetBonds())\n",
    "\n",
    "        fragment = oechem.OEGraphMol()\n",
    "        adjustHCount = True\n",
    "        oechem.OESubsetMol(fragment, mol, fragatompred, fragbondpred, adjustHCount)\n",
    "        smiles.append(oechem.OEMolToSmiles(fragment))\n",
    "        #print(OEMolToSmiles(fragment))\n",
    "    return smiles"
   ]
  },
  {
   "cell_type": "code",
   "execution_count": 148,
   "metadata": {},
   "outputs": [],
   "source": [
    "smiles = frag_to_smiles(frags, charged)"
   ]
  },
  {
   "cell_type": "code",
   "execution_count": 149,
   "metadata": {},
   "outputs": [
    {
     "data": {
      "image/png": "[encoded data removed]",
      "text/plain": [
       "<IPython.core.display.Image object>"
      ]
     },
     "execution_count": 149,
     "metadata": {},
     "output_type": "execute_result"
    }
   ],
   "source": [
    "oenb.draw_smiles(smiles[0])"
   ]
  },
  {
   "cell_type": "code",
   "execution_count": 150,
   "metadata": {},
   "outputs": [
    {
     "data": {
      "image/png": "[encoded data removed]",
      "text/plain": [
       "<IPython.core.display.Image object>"
      ]
     },
     "execution_count": 150,
     "metadata": {},
     "output_type": "execute_result"
    }
   ],
   "source": [
    "oenb.draw_smiles(smiles[1])"
   ]
  },
  {
   "cell_type": "code",
   "execution_count": 151,
   "metadata": {},
   "outputs": [
    {
     "data": {
      "image/png": "[encoded data removed]",
      "text/plain": [
       "<IPython.core.display.Image object>"
      ]
     },
     "execution_count": 151,
     "metadata": {},
     "output_type": "execute_result"
    }
   ],
   "source": [
    "oenb.draw_smiles(smiles[2])"
   ]
  },
  {
   "cell_type": "code",
   "execution_count": 152,
   "metadata": {},
   "outputs": [
    {
     "data": {
      "image/png": "[encoded data removed]",
      "text/plain": [
       "<IPython.core.display.Image object>"
      ]
     },
     "execution_count": 152,
     "metadata": {},
     "output_type": "execute_result"
    }
   ],
   "source": [
    "oenb.draw_smiles(smiles[3])"
   ]
  },
  {
   "cell_type": "code",
   "execution_count": 153,
   "metadata": {},
   "outputs": [
    {
     "data": {
      "image/png": "[encoded data removed]",
      "text/plain": [
       "<IPython.core.display.Image object>"
      ]
     },
     "execution_count": 153,
     "metadata": {},
     "output_type": "execute_result"
    }
   ],
   "source": [
    "oenb.draw_smiles(smiles[4])"
   ]
  },
  {
   "cell_type": "code",
   "execution_count": 154,
   "metadata": {},
   "outputs": [
    {
     "data": {
      "image/png": "[encoded data removed]",
      "text/plain": [
       "<IPython.core.display.Image object>"
      ]
     },
     "execution_count": 154,
     "metadata": {},
     "output_type": "execute_result"
    }
   ],
   "source": [
    "oenb.draw_smiles(smiles[5])"
   ]
  },
  {
   "cell_type": "code",
   "execution_count": 155,
   "metadata": {},
   "outputs": [
    {
     "data": {
      "image/png": "[encoded data removed]",
      "text/plain": [
       "<IPython.core.display.Image object>"
      ]
     },
     "execution_count": 155,
     "metadata": {},
     "output_type": "execute_result"
    }
   ],
   "source": [
    "oenb.draw_smiles(smiles[6])"
   ]
  },
  {
   "cell_type": "code",
   "execution_count": 156,
   "metadata": {},
   "outputs": [
    {
     "data": {
      "image/png": "[encoded data removed]",
      "text/plain": [
       "<IPython.core.display.Image object>"
      ]
     },
     "execution_count": 156,
     "metadata": {},
     "output_type": "execute_result"
    }
   ],
   "source": [
    "oenb.draw_smiles(smiles[7])"
   ]
  },
  {
   "cell_type": "code",
   "execution_count": 143,
   "metadata": {},
   "outputs": [
    {
     "ename": "IndexError",
     "evalue": "list index out of range",
     "output_type": "error",
     "traceback": [
      "\u001b[0;31m---------------------------------------------------------------------------\u001b[0m",
      "\u001b[0;31mIndexError\u001b[0m                                Traceback (most recent call last)",
      "\u001b[0;32m<ipython-input-143-bfdf9c52a969>\u001b[0m in \u001b[0;36m<module>\u001b[0;34m()\u001b[0m\n\u001b[0;32m----> 1\u001b[0;31m \u001b[0moenb\u001b[0m\u001b[0;34m.\u001b[0m\u001b[0mdraw_smiles\u001b[0m\u001b[0;34m(\u001b[0m\u001b[0msmiles\u001b[0m\u001b[0;34m[\u001b[0m\u001b[0;36m8\u001b[0m\u001b[0;34m]\u001b[0m\u001b[0;34m)\u001b[0m\u001b[0;34m\u001b[0m\u001b[0m\n\u001b[0m",
      "\u001b[0;31mIndexError\u001b[0m: list index out of range"
     ]
    }
   ],
   "source": [
    "oenb.draw_smiles(smiles[8])"
   ]
  },
  {
   "cell_type": "code",
   "execution_count": 735,
   "metadata": {},
   "outputs": [],
   "source": [
    "def png_atoms_labeled(smiles, mol, fname):\n",
    "    #test_simple =\"c1cc(N)cc(S(=O)(=O)O)c1\" \n",
    "    mol = oechem.OEGraphMol()\n",
    "    oechem.OESmilesToMol(mol, smiles)\n",
    "    oedepict.OEPrepareDepiction(mol)\n",
    "\n",
    "    width, height = 300, 200\n",
    "\n",
    "    opts = oedepict.OE2DMolDisplayOptions(width, height, oedepict.OEScale_AutoScale)\n",
    "    opts.SetAtomPropertyFunctor(oedepict.OEDisplayAtomIdx())\n",
    "    opts.SetAtomPropLabelFont(oedepict.OEFont(oechem.OEDarkGreen))\n",
    "\n",
    "    disp = oedepict.OE2DMolDisplay(mol, opts)\n",
    "    return oedepict.OERenderMolecule(fname, disp)"
   ]
  },
  {
   "cell_type": "code",
   "execution_count": 71,
   "metadata": {},
   "outputs": [
    {
     "data": {
      "text/plain": [
       "0"
      ]
     },
     "execution_count": 71,
     "metadata": {},
     "output_type": "execute_result"
    }
   ],
   "source": [
    "oname = 'test5.pdf'\n",
    "frags_combs = GetFragmentAtomBondSetCombinations(frags)\n",
    "ToPdf(charged, oname, frags, frags_combs)"
   ]
  },
  {
   "cell_type": "code",
   "execution_count": null,
   "metadata": {
    "collapsed": true
   },
   "outputs": [],
   "source": [
    "\"\"\"\n",
    "ToDo:\n",
    "1) library of smirks for functional groups - figure out which functinoal groups to include\n",
    "2) check for resonance for ring constituents\n",
    "3) write a function to print out all fragments for a molecule\n",
    "4) Filter out same fragments\n",
    "\n",
    "Functional groups from organic chem McMurry list\n",
    "Alkene\n",
    "Alkyne\n",
    "Halide\n",
    "alchohol\n",
    "ether\n",
    "monophosphate\n",
    "anine\n",
    "imine\n",
    "nitrile\n",
    "nitro\n",
    "thiol\n",
    "sulfide\n",
    "disulfide\n",
    "carbonyl\n",
    "aldehyde\n",
    "ketone\n",
    "carboxylic acid\n",
    "ester\n",
    "aminde\n",
    "caroxylyc acid anhydride\n",
    "carboxylic acid chloride\n",
    "\"\"\""
   ]
  },
  {
   "cell_type": "code",
   "execution_count": 158,
   "metadata": {},
   "outputs": [],
   "source": [
    "fgroups_smarts = {'amide': '[NX3][CX3](=[OX1])[#6]',\n",
    "                'aldehyde': '[CX3H1](=O)[#6]',\n",
    "                'alcohol': '[#6][OX2H]'}\n"
   ]
  },
  {
   "cell_type": "code",
   "execution_count": 159,
   "metadata": {},
   "outputs": [
    {
     "data": {
      "text/plain": [
       "{'alcohol': '[#6][OX2H]',\n",
       " 'aldehyde': '[CX3H1](=O)[#6]',\n",
       " 'amide': '[NX3][CX3](=[OX1])[#6]'}"
      ]
     },
     "execution_count": 159,
     "metadata": {},
     "output_type": "execute_result"
    }
   ],
   "source": [
    "fgroups_smarts\n"
   ]
  },
  {
   "cell_type": "code",
   "execution_count": 160,
   "metadata": {},
   "outputs": [
    {
     "data": {
      "text/plain": [
       "'~{N}-(2-chloro-6-methyl-phenyl)-2-[[6-[4-(2-hydroxyethyl)piperazin-1-yl]-2-methyl-pyrimidin-4-yl]amino]thiazole-5-carboxamide'"
      ]
     },
     "execution_count": 160,
     "metadata": {},
     "output_type": "execute_result"
    }
   ],
   "source": [
    "mol.GetTitle()"
   ]
  },
  {
   "cell_type": "code",
   "execution_count": 191,
   "metadata": {},
   "outputs": [
    {
     "name": "stdout",
     "output_type": "stream",
     "text": [
      "amide\n",
      "aldehyde\n",
      "alcohol\n"
     ]
    }
   ],
   "source": [
    "fgroup_tagged = {}\n",
    "for f_group in fgroups_smarts:\n",
    "    print(f_group)\n",
    "    qmol = oechem.OEQMol()\n",
    "    if not oechem.OEParseSmarts(qmol, fgroups_smarts[f_group]):\n",
    "        print('OEParseSmarts failed')\n",
    "    ss = oechem.OESubSearch(qmol)\n",
    "    oechem.OEPrepareSearch(mol, ss)\n",
    "    #fgroup_tagged[f_group] = []\n",
    "    for i, match in enumerate(ss.Match(mol, True)):\n",
    "\n",
    "        fgroup_atoms = []\n",
    "        for ma in match.GetAtoms():\n",
    "            fgroup_atoms.append(ma.target) \n",
    "            tag = oechem.OEGetTag('fgroup')\n",
    "            ma.target.SetData(tag, '{}_{}'.format(f_group, str(i)))\n",
    "        for ma in match.GetBonds()\n",
    "        fgroup_tagged['{}_{}'.format(f_group, str(i))] = fgroup_atoms"
   ]
  },
  {
   "cell_type": "code",
   "execution_count": 189,
   "metadata": {},
   "outputs": [],
   "source": [
    "for atom in mol.GetAtoms():\n",
    "    try:\n",
    "        f_group = atom.GetData()['fgroup']\n",
    "        # get all atoms from bucket and find bonds between them. Add all atoms and bonds\n",
    "        \n",
    "        \n",
    "    except KeyError:\n",
    "        pass"
   ]
  },
  {
   "cell_type": "code",
   "execution_count": 165,
   "metadata": {
    "collapsed": true
   },
   "outputs": [],
   "source": [
    "def is_fgroup(atom, mol, fgroup_tagged):\n",
    "    for g in fgroup_tagged:\n",
    "        l = len(g)\n",
    "        print(l)"
   ]
  },
  {
   "cell_type": "code",
   "execution_count": 192,
   "metadata": {},
   "outputs": [
    {
     "data": {
      "text/plain": [
       "{'alcohol_0': [<oechem.OEAtomBase; proxy of <Swig Object of type 'OEChem::OEAtomBase *' at 0x11fcbfc30> >,\n",
       "  <oechem.OEAtomBase; proxy of <Swig Object of type 'OEChem::OEAtomBase *' at 0x11fcbfdb0> >],\n",
       " 'amide_0': [<oechem.OEAtomBase; proxy of <Swig Object of type 'OEChem::OEAtomBase *' at 0x11fcbf090> >,\n",
       "  <oechem.OEAtomBase; proxy of <Swig Object of type 'OEChem::OEAtomBase *' at 0x11fcbfab0> >,\n",
       "  <oechem.OEAtomBase; proxy of <Swig Object of type 'OEChem::OEAtomBase *' at 0x11fcbf4e0> >,\n",
       "  <oechem.OEAtomBase; proxy of <Swig Object of type 'OEChem::OEAtomBase *' at 0x11fcbf660> >]}"
      ]
     },
     "execution_count": 192,
     "metadata": {},
     "output_type": "execute_result"
    }
   ],
   "source": [
    "fgroup_tagged"
   ]
  },
  {
   "cell_type": "code",
   "execution_count": 85,
   "metadata": {},
   "outputs": [
    {
     "name": "stdout",
     "output_type": "stream",
     "text": [
      "Warning:  OEPrepareSearch() Substructure object is not initialized yet!\n"
     ]
    }
   ],
   "source": [
    "oechem.OEPrepareSearch(mol, ss)"
   ]
  },
  {
   "cell_type": "code",
   "execution_count": 86,
   "metadata": {},
   "outputs": [],
   "source": [
    "f_groups = []\n",
    "for match in ss.Match(mol, True):\n",
    "    f_group = []\n",
    "    for ma in match.GetAtoms():\n",
    "        f_group.append(ma.target)\n",
    "    f_groups.append(f_group)\n",
    "    "
   ]
  },
  {
   "cell_type": "code",
   "execution_count": 82,
   "metadata": {},
   "outputs": [
    {
     "ename": "IndexError",
     "evalue": "list index out of range",
     "output_type": "error",
     "traceback": [
      "\u001b[0;31m---------------------------------------------------------------------------\u001b[0m",
      "\u001b[0;31mIndexError\u001b[0m                                Traceback (most recent call last)",
      "\u001b[0;32m<ipython-input-82-e3e998b3eb95>\u001b[0m in \u001b[0;36m<module>\u001b[0;34m()\u001b[0m\n\u001b[0;32m----> 1\u001b[0;31m \u001b[0;32mfor\u001b[0m \u001b[0mi\u001b[0m \u001b[0;32min\u001b[0m \u001b[0mf_groups\u001b[0m\u001b[0;34m[\u001b[0m\u001b[0;36m0\u001b[0m\u001b[0;34m]\u001b[0m\u001b[0;34m:\u001b[0m\u001b[0;34m\u001b[0m\u001b[0m\n\u001b[0m\u001b[1;32m      2\u001b[0m     \u001b[0mprint\u001b[0m\u001b[0;34m(\u001b[0m\u001b[0mi\u001b[0m\u001b[0;34m)\u001b[0m\u001b[0;34m\u001b[0m\u001b[0m\n",
      "\u001b[0;31mIndexError\u001b[0m: list index out of range"
     ]
    }
   ],
   "source": [
    "for i in f_groups[0]:\n",
    "    print(i)"
   ]
  },
  {
   "cell_type": "code",
   "execution_count": null,
   "metadata": {
    "collapsed": true
   },
   "outputs": [],
   "source": []
  }
 ],
 "metadata": {
  "kernelspec": {
   "display_name": "Python 3",
   "language": "python",
   "name": "python3"
  },
  "language_info": {
   "codemirror_mode": {
    "name": "ipython",
    "version": 3
   },
   "file_extension": ".py",
   "mimetype": "text/x-python",
   "name": "python",
   "nbconvert_exporter": "python",
   "pygments_lexer": "ipython3",
   "version": "3.6.1"
  }
 },
 "nbformat": 4,
 "nbformat_minor": 2
}
