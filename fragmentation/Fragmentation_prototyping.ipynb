{
 "cells": [
  {
   "cell_type": "code",
   "execution_count": 1,
   "metadata": {
    "collapsed": true
   },
   "outputs": [],
   "source": [
    "%matplotlib inline\n",
    "import matplotlib.pyplot as plt\n",
    "from openeye import oechem, oedepict, oeomega, oequacpac, oemedchem\n",
    "from IPython.display import display\n",
    "import pandas as pd\n",
    "import oenotebook as oenb\n",
    "from openmoltools.openeye import get_charges\n",
    "from openmoltools import openeye\n",
    "from torsionfit.qmscan.enumfrags2pdf import *\n",
    "import networkx as nx\n",
    "from torsionfit.qmscan.enumfrags2pdf import main as vis_wrapper"
   ]
  },
  {
   "cell_type": "code",
   "execution_count": 2,
   "metadata": {
    "collapsed": true
   },
   "outputs": [],
   "source": [
    "f = open('../torsion_drive/biphenyl/4phepyr.smi', 'r')\n",
    "smiles = {}\n",
    "for line in f:\n",
    "    smile, name = line.rstrip().split(' ')\n",
    "    smiles[name] = smile\n",
    "f.close()\n"
   ]
  },
  {
   "cell_type": "code",
   "execution_count": 3,
   "metadata": {},
   "outputs": [
    {
     "name": "stdout",
     "output_type": "stream",
     "text": [
      "Warning: OEAssignPartialCharges has been deprecated please use OEAssignCharges instead!\n"
     ]
    }
   ],
   "source": [
    "# Charge molecule. This takes some time\n",
    "mol = oechem.OEGraphMol()\n",
    "simple_oemol = openeye.smiles_to_oemol(test_simple)\n",
    "charged = get_charges(simple_oemol, keep_confs=1)"
   ]
  },
  {
   "cell_type": "code",
   "execution_count": 3,
   "metadata": {
    "collapsed": true
   },
   "outputs": [],
   "source": [
    "def oemol_to_graph(oemol):\n",
    "    \"\"\"\n",
    "    Convert molecule to networkX graph and add WibergBondOrder as edge weight\n",
    "    \n",
    "    parameters\n",
    "    ----------\n",
    "    oemol: charged openeye OEMolGraph\n",
    "    \n",
    "    Returns\n",
    "    ------\n",
    "    G: NetworkX Graph\n",
    "    \"\"\"\n",
    "    G = nx.Graph()\n",
    "    for atom in oemol.GetAtoms():\n",
    "        G.add_node(atom.GetIdx(), name=atom.GetName())\n",
    "    for bond in oemol.GetBonds():\n",
    "        G.add_edge(bond.GetBgnIdx(), bond.GetEndIdx(), weight=bond.GetData(\"WibergBondOrder\"), index=bond.GetIdx())\n",
    "    return G"
   ]
  },
  {
   "cell_type": "code",
   "execution_count": 4,
   "metadata": {
    "collapsed": true
   },
   "outputs": [],
   "source": [
    "bondOrderThreshold = 1.3\n",
    "def frag_graph(G, bondOrderThreshold=bondOrderThreshold):\n",
    "    \"\"\"\n",
    "    Fragment all bonds with Wiberg Bond Order less than threshold\n",
    "    \n",
    "    Parameters\n",
    "    ----------\n",
    "    G: NetworkX graph\n",
    "    bondOrderThreshold: int\n",
    "        thershold for fragmenting graph\n",
    "    \n",
    "    Returns\n",
    "    -------\n",
    "    subgraphs: list of subgraphs\n",
    "    \"\"\"\n",
    "    ebunch = []\n",
    "    for node in G.edge:\n",
    "        if G.degree(node) <= 1:\n",
    "            continue\n",
    "        for node2 in G.edge[node]:\n",
    "            if G.edge[node][node2]['weight'] < bond_order_threshold and G.degree(node2) >1:\n",
    "                ebunch.append((node, node2))\n",
    "    # Cut molecule            \n",
    "    G.remove_edges_from(ebunch)\n",
    "    # Generate fragments\n",
    "    subgraphs = list(nx.connected_component_subgraphs(G))\n",
    "    return subgraphs"
   ]
  },
  {
   "cell_type": "code",
   "execution_count": 5,
   "metadata": {
    "collapsed": true
   },
   "outputs": [],
   "source": [
    "def subgraph_to_atombondset(graph, subgraph, oemol):\n",
    "    \"\"\"\n",
    "    Build Openeye AtomBondSet from subrgaphs for enumerating fragments recipe\n",
    "    \n",
    "    Parameters\n",
    "    ----------\n",
    "    graph: NetworkX graph\n",
    "    subgraph: NetworkX subgraph\n",
    "    oemol: Openeye OEMolGraph\n",
    "    \n",
    "    Returns\n",
    "    ------\n",
    "    atomBondSet: Openeye oechem atomBondSet\n",
    "    \"\"\"\n",
    "    # Build openeye atombondset from subgraphs\n",
    "    atomBondSet = oechem.OEAtomBondSet()\n",
    "    for node in subgraph.node:\n",
    "        atomBondSet.AddAtom(oemol.GetAtom(oechem.OEHasAtomIdx(node)))\n",
    "    for node1, node2 in subgraph.edges():\n",
    "        index = graph.edge[node1][node2]['index']   \n",
    "        atomBondSet.AddBond(oemol.GetBond(oechem.OEHasBondIdx(index)))\n",
    "    return atomBondSet"
   ]
  },
  {
   "cell_type": "code",
   "execution_count": 6,
   "metadata": {},
   "outputs": [
    {
     "name": "stdout",
     "output_type": "stream",
     "text": [
      "Warning: OEAssignPartialCharges has been deprecated please use OEAssignCharges instead!\n",
      "Warning: OEReport::GetHeaders() No headers are created for pages\n",
      "Warning: OEWriteReport() Cannot write empty report!\n",
      "Warning: OEReport::GetHeaders() No headers are created for pages\n",
      "Warning: OEWriteReport() Cannot write empty report!\n"
     ]
    }
   ],
   "source": [
    "for name in smiles:\n",
    "    mol = oechem.OEGraphMol()\n",
    "    oemol = openeye.smiles_to_oemol(smiles[name])\n",
    "    charged = get_charges(oemol, keep_confs=1)\n",
    "    \n",
    "    G = oemol_to_graph(charged)\n",
    "    subgraphs = frag_graph(G)\n",
    "    frags = []\n",
    "    for subgraph in subgraphs:\n",
    "        frags.append(subgraph_to_atombondset(G, subgraph, charged))\n",
    "        \n",
    "    oname = '{}.pdf'.format(name)\n",
    "    max_rotors = 2\n",
    "    min_rotors = 1\n",
    "    \n",
    "    itf = oechem.OEInterface()\n",
    "    oedepict.OEPrepareDepiction(charged)\n",
    "    # Initialize multi page display\n",
    "    ropts = oedepict.OEReportOptions()\n",
    "    oedepict.OESetupReportOptions(ropts, itf)\n",
    "    ropts.SetFooterHeight(25.0)\n",
    "    ropts.SetHeaderHeight(ropts.GetPageHeight() / 4.0)\n",
    "    report = oedepict.OEReport(ropts)\n",
    "    \n",
    "    # setup decpiction options\n",
    "    opts = oedepict.OE2DMolDisplayOptions()\n",
    "    oedepict.OESetup2DMolDisplayOptions(opts, itf)\n",
    "    cellwidth, cellheight = report.GetCellWidth(), report.GetCellHeight()\n",
    "    opts.SetDimensions(cellwidth, cellheight, oedepict.OEScale_AutoScale)\n",
    "    opts.SetTitleLocation(oedepict.OETitleLocation_Hidden)\n",
    "    opts.SetAtomColorStyle(oedepict.OEAtomColorStyle_WhiteMonochrome)\n",
    "    opts.SetAtomLabelFontScale(1.2)\n",
    "\n",
    "    DepictMoleculeWithFragmentCombinations(report, charged, frags, opts, max_rotors, min_rotors)\n",
    "    \n",
    "    oedepict.OEWriteReport(oname, report)\n",
    "    \n",
    "    "
   ]
  },
  {
   "cell_type": "code",
   "execution_count": null,
   "metadata": {
    "collapsed": true
   },
   "outputs": [],
   "source": []
  }
 ],
 "metadata": {
  "kernelspec": {
   "display_name": "Python 3",
   "language": "python",
   "name": "python3"
  },
  "language_info": {
   "codemirror_mode": {
    "name": "ipython",
    "version": 3
   },
   "file_extension": ".py",
   "mimetype": "text/x-python",
   "name": "python",
   "nbconvert_exporter": "python",
   "pygments_lexer": "ipython3",
   "version": "3.6.1"
  }
 },
 "nbformat": 4,
 "nbformat_minor": 2
}
