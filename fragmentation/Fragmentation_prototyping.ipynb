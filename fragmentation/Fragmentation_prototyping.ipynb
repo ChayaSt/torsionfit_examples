{
 "cells": [
  {
   "cell_type": "code",
   "execution_count": 1,
   "metadata": {
    "collapsed": true
   },
   "outputs": [],
   "source": [
    "%matplotlib inline\n",
    "import matplotlib.pyplot as plt\n",
    "from openeye import oechem, oedepict, oeomega, oequacpac, oemedchem\n",
    "from IPython.display import display\n",
    "import pandas as pd\n",
    "import oenotebook as oenb\n",
    "from openmoltools.openeye import get_charges\n",
    "from openmoltools import openeye\n",
    "from torsionfit.qmscan.fragment import *\n",
    "import networkx as nx\n",
    "from torsionfit.qmscan.enumfrags2pdf import main as vis_wrapper"
   ]
  },
  {
   "cell_type": "code",
   "execution_count": 2,
   "metadata": {
    "collapsed": true
   },
   "outputs": [],
   "source": [
    "f = open('../torsion_drive/biphenyl/4phepyr.smi', 'r')\n",
    "smiles = {}\n",
    "for line in f:\n",
    "    smile, name = line.rstrip().split(' ')\n",
    "    smiles[name] = smile\n",
    "f.close()"
   ]
  },
  {
   "cell_type": "code",
   "execution_count": 3,
   "metadata": {},
   "outputs": [
    {
     "name": "stdout",
     "output_type": "stream",
     "text": [
      "4phepyr\n",
      "Warning: OEAssignPartialCharges has been deprecated please use OEAssignCharges instead!\n",
      "2\n",
      "Warning: OEReport::GetHeaders() No headers are created for pages\n",
      "Warning: OEWriteReport() Cannot write empty report!\n",
      "4phepyrOH_neutral\n",
      "3\n",
      "4phepyrOH_anion\n",
      "2\n",
      "Warning: OEReport::GetHeaders() No headers are created for pages\n",
      "Warning: OEWriteReport() Cannot write empty report!\n",
      "4phepyrOH_cation\n",
      "3\n",
      "4phepyrOH_zwitterion\n",
      "1\n",
      "Warning: OEReport::GetHeaders() No headers are created for pages\n",
      "Warning: OEWriteReport() Cannot write empty report!\n",
      "4phepyrF\n",
      "2\n",
      "Warning: OEReport::GetHeaders() No headers are created for pages\n",
      "Warning: OEWriteReport() Cannot write empty report!\n",
      "4phepyrFOH_neutral\n",
      "3\n",
      "4phepyrFOH_anion\n",
      "2\n",
      "Warning: OEReport::GetHeaders() No headers are created for pages\n",
      "Warning: OEWriteReport() Cannot write empty report!\n",
      "4phepyrFOH_cation\n",
      "3\n",
      "4phepyrFOH_zwitterion\n",
      "1\n",
      "Warning: OEReport::GetHeaders() No headers are created for pages\n",
      "Warning: OEWriteReport() Cannot write empty report!\n"
     ]
    }
   ],
   "source": [
    "for name in smiles:\n",
    "    print(name)\n",
    "    oname = '{}_new.pdf'.format(name)\n",
    "    \n",
    "    frags, charged = SmilesToFragments(smiles[name], bondOrderThreshold=1.2)\n",
    "    frags_combs = GetFragmentAtomBondSetCombinations(frags)\n",
    "    ToPdf(charged, oname, frags, frags_combs)"
   ]
  },
  {
   "cell_type": "code",
   "execution_count": 4,
   "metadata": {},
   "outputs": [
    {
     "data": {
      "text/plain": [
       "'c1cc(ccc1c2ccncc2)'"
      ]
     },
     "execution_count": 4,
     "metadata": {},
     "output_type": "execute_result"
    }
   ],
   "source": [
    "smiles['4phepyr']"
   ]
  },
  {
   "cell_type": "code",
   "execution_count": 5,
   "metadata": {
    "collapsed": true
   },
   "outputs": [],
   "source": [
    "oemol = openeye.smiles_to_oemol(smiles['4phepyr'])"
   ]
  },
  {
   "cell_type": "code",
   "execution_count": 6,
   "metadata": {
    "collapsed": true
   },
   "outputs": [],
   "source": [
    "charged = openeye.get_charges(oemol, keep_confs=1)"
   ]
  },
  {
   "cell_type": "code",
   "execution_count": 7,
   "metadata": {
    "collapsed": true
   },
   "outputs": [],
   "source": [
    "G = OeMolToGraph(charged)"
   ]
  },
  {
   "cell_type": "code",
   "execution_count": 8,
   "metadata": {},
   "outputs": [
    {
     "data": {
      "text/plain": [
       "{'aromatic': True, 'index': 0, 'weight': 1.3809841871261597}"
      ]
     },
     "execution_count": 8,
     "metadata": {},
     "output_type": "execute_result"
    }
   ],
   "source": [
    "G.edge[0][5]"
   ]
  },
  {
   "cell_type": "code",
   "execution_count": 218,
   "metadata": {},
   "outputs": [],
   "source": [
    "imatinib = 'C5=C(C1=CN=CC=C1)N=C(NC2=C(C=CC(=C2)NC(C3=CC=C(C=C3)CN4CCN(CC4)C)=O)C)N=C5'\n",
    "mol = openeye.smiles_to_oemol(imatinib)\n",
    "charged = get_charges(mol, keep_confs=1)\n"
   ]
  },
  {
   "cell_type": "code",
   "execution_count": 219,
   "metadata": {},
   "outputs": [
    {
     "data": {
      "image/png": "[encoded data removed]",
      "text/plain": [
       "<IPython.core.display.Image object>"
      ]
     },
     "execution_count": 219,
     "metadata": {},
     "output_type": "execute_result"
    }
   ],
   "source": [
    "oenb.draw_smiles(imatinib)\n"
   ]
  },
  {
   "cell_type": "code",
   "execution_count": 388,
   "metadata": {},
   "outputs": [],
   "source": [
    "def is_hbond(bond):\n",
    "    hbond = None\n",
    "    beg = bond.GetBgn()\n",
    "    end = bond.GetEnd()\n",
    "    if beg.IsHydrogen() or end.IsHydrogen():\n",
    "        hbond = bond\n",
    "    return hbond\n",
    "\n",
    "def find_ring(a, rot_bond, next_bond, atoms = [], bonds = []):\n",
    "    if a.GetIdx() not in atoms:\n",
    "        atoms.append(a.GetIdx())\n",
    "    for bond in a.GetBonds():\n",
    "        if bond.IsRotor():\n",
    "            # I should check for resonance here..\n",
    "            continue \n",
    "        \n",
    "        if bond.IsInRing() or is_hbond(bond):\n",
    "            beg = bond.GetBgn()\n",
    "            end = bond.GetEnd()\n",
    "            beg_index = beg.GetIdx()\n",
    "            end_index = end.GetIdx()\n",
    "            if bond.GetIdx() not in bonds:\n",
    "                bonds.append(bond.GetIdx())\n",
    "            if beg_index not in atoms:\n",
    "                atoms.append(beg_index)\n",
    "                find_ring(beg, rot_bond, next_bond, atoms, bonds)\n",
    "            if end_index not in atoms:\n",
    "                atoms.append(end_index)\n",
    "                find_ring(end, rot_bond, next_bond, atoms, bonds)\n",
    "        elif not bond.IsRotor():\n",
    "            beg_idx = bond.GetBgn().GetIdx()\n",
    "            end_idx = bond.GetEnd().GetIdx()\n",
    "            if bond.GetIdx() not in bonds:\n",
    "                bonds.append(bond.GetIdx())\n",
    "            if beg_idx not in atoms:\n",
    "                atoms.append(beg_idx)\n",
    "            if end_idx not in atoms:\n",
    "                atoms.append(end_idx)\n",
    "            \n",
    "        #elif is_ortho(bond, rot_bond, next_bond):\n",
    "            # bond is ortho\n",
    "        #    beg_idx = bond.GetBgn().GetIdx()\n",
    "        #    end_idx = bond.GetEnd().GetIdx()\n",
    "        #    if bond.GetIdx() not in bonds:\n",
    "        #        bonds.append(bond.GetIdx())\n",
    "        #    if beg_idx not in atoms:\n",
    "        #        atoms.append(beg_idx)\n",
    "        #    if end_idx not in atoms:\n",
    "        #        atoms.append(end_idx)           \n",
    "    return atoms, bonds\n",
    "\n",
    "def to_AtomBondSet(mol, atoms, bonds):\n",
    "    AtomBondSet = oechem.OEAtomBondSet()\n",
    "    for a_idx in atoms:\n",
    "        AtomBondSet.AddAtom(mol.GetAtom(oechem.OEHasAtomIdx(a_idx)))\n",
    "    for b_idx in bonds:\n",
    "        AtomBondSet.AddBond(mol.GetBond(oechem.OEHasBondIdx(b_idx)))\n",
    "    return AtomBondSet\n",
    "\n",
    "def is_ortho(bond, rot_bond, next_bond):\n",
    "    bond_attached = set()\n",
    "    rot_attached = set()\n",
    "    next_attached = set()\n",
    "    # Check if theese bonds have a connecting bond that's in a ring\n",
    "    beg_b = bond.GetBgn()\n",
    "    end_b = bond.GetEnd()\n",
    "    beg_r = rot_bond.GetBgn()\n",
    "    end_r = rot_bond.GetEnd()\n",
    "    beg_n = next_bond.GetBgn()\n",
    "    end_n = next_bond.GetEnd()\n",
    "    for b in beg_b.GetBonds():\n",
    "        bond_attached.add(b.GetIdx())\n",
    "    for b in end_b.GetBonds():\n",
    "        bond_attached.add(b.GetIdx())        \n",
    "    for b in beg_r.GetBonds():\n",
    "        rot_attached.add(b.GetIdx())\n",
    "    for b in end_r.GetBonds():\n",
    "        rot_attached.add(b.GetIdx())\n",
    "    for b in beg_n.GetBonds():\n",
    "        next_attached.add(b.GetIdx())\n",
    "    for b in end_n.GetBonds():\n",
    "        next_attached.add(b.GetIdx())\n",
    "    intersection = (bond_attached & rot_attached)\n",
    "    if not bool(intersection):\n",
    "        # Check if it's ortho to next bond\n",
    "        intersection = (bond_attached & next_attached)\n",
    "    return bool(intersection)\n",
    "    "
   ]
  },
  {
   "cell_type": "code",
   "execution_count": 437,
   "metadata": {},
   "outputs": [],
   "source": [
    "def build_frag(bond, mol, atoms=set(), bonds=set()):\n",
    "    b_idx = bond.GetIdx()\n",
    "    if b_idx not in bonds:\n",
    "        bonds.add(b_idx)\n",
    "    beg = bond.GetBgn()\n",
    "    end = bond.GetEnd()\n",
    "    beg_idx = beg.GetIdx()\n",
    "    end_idx = end.GetIdx()\n",
    "    #if beg_idx not in atoms:\n",
    "    atoms.add(beg_idx)\n",
    "    for atom in beg.GetAtoms():\n",
    "        a_idx = atom.GetIdx()\n",
    "        atoms.add(a_idx)\n",
    "        next_bond = mol.GetBond(atom, beg)\n",
    "        nb_idx = next_bond.GetIdx()\n",
    "        if nb_idx != b_idx and nb_idx not in bonds:\n",
    "            bonds.add(nb_idx)\n",
    "            if a_idx != end_index:\n",
    "                if atom.IsInRing():\n",
    "                    r_atoms, r_bonds = find_ring(atom, rot_bond=bond, next_bond=next_bond, atoms=[], bonds=[])\n",
    "                    for a_idx in r_atoms:\n",
    "                        atoms.add(a_idx)\n",
    "                    for b_idx in r_bonds:\n",
    "                        bonds.add(b_idx) \n",
    "                if next_bond.GetData('WibergBondOrder') >= 1.2:\n",
    "                    print('resonance: {}'.format(next_bond))\n",
    "                    build_frag(next_bond, mol, atoms, bonds)\n",
    "    #if end_idx not in atoms:\n",
    "    atoms.add(end_idx)\n",
    "    for atom in end.GetAtoms():\n",
    "        a_idx = atom.GetIdx()\n",
    "        atoms.add(a_idx)\n",
    "        next_bond = mol.GetBond(atom, end)\n",
    "        nb_idx = next_bond.GetIdx()\n",
    "        if nb_idx != b_idx and nb_idx not in bonds:\n",
    "            bonds.add(nb_idx)\n",
    "            if a_idx != beg_index:\n",
    "                if atom.IsInRing():\n",
    "                    r_atoms, r_bonds = find_ring(atom, rot_bond=bond, next_bond=next_bond, atoms=[], bonds=[])\n",
    "                    for a_idx in r_atoms:\n",
    "                        atoms.add(a_idx)\n",
    "                    for b_idx in r_bonds:\n",
    "                        bonds.add(b_idx)\n",
    "                if next_bond.GetData('WibergBondOrder') >= 1.2:\n",
    "                    print('resonance: {}'.format(next_bond))\n",
    "                    build_frag(next_bond, mol, atoms, bonds)\n",
    "                    \n",
    "                  #  print(nbr)\n",
    "                #if next_bond.GetData('WibergBondOrder') >= 1.2:\n",
    "                #    print('resonance: {}'.format(next_bond))\n",
    "                #    build_frag(next_bond, mol, atoms, bonds)\n",
    "    return atoms, bonds\n",
    "                \n",
    "                \n",
    "                \n",
    "    #if end_idx not in atoms:\n",
    "    #    atoms.add(end_idx)\n",
    "    #for atom in beg.GetAtoms():\n",
    "    #    a_idx = atoms.GetIdx()\n",
    "    #    atoms.add(a_idx)\n",
    "    #    next_bond = mol.GetBond(atom, beg)\n",
    "        \n",
    "    \n",
    "    "
   ]
  },
  {
   "cell_type": "code",
   "execution_count": 438,
   "metadata": {},
   "outputs": [
    {
     "name": "stdout",
     "output_type": "stream",
     "text": [
      " 2 (1C-2C)\n",
      "resonance:  1 (0C-1C)\n",
      "resonance:  3 (2C-7C)\n",
      "11 (9C-10N)\n",
      "resonance: 10 (8N-9C)\n",
      "12 (10N-11C)\n",
      "resonance: 13 (11C-16C)\n",
      "19 (15C-17N)\n",
      "resonance: 17 (14C-15C)\n",
      "20 (17N-18C)\n",
      "resonance: 37 (18C-33O)\n",
      "21 (18C-19C)\n",
      "resonance: 37 (18C-33O)\n",
      "resonance: 22 (19C-24C)\n",
      "28 (22C-25C)\n",
      "resonance: 25 (21C-22C)\n",
      "29 (25C-26N)\n"
     ]
    }
   ],
   "source": [
    "frags = []\n",
    "for bond in charged.GetBonds():\n",
    "    if bond.IsRotor():\n",
    "        print(bond)\n",
    "        atoms, bonds = build_frag(bond, charged, atoms=set(), bonds=set())\n",
    "        atom_bond_set = to_AtomBondSet(charged, atoms, bonds)\n",
    "        frags.append(atom_bond_set)"
   ]
  },
  {
   "cell_type": "code",
   "execution_count": 439,
   "metadata": {},
   "outputs": [
    {
     "ename": "IndentationError",
     "evalue": "expected an indented block (<ipython-input-439-b5bd9af804ba>, line 35)",
     "output_type": "error",
     "traceback": [
      "\u001b[0;36m  File \u001b[0;32m\"<ipython-input-439-b5bd9af804ba>\"\u001b[0;36m, line \u001b[0;32m35\u001b[0m\n\u001b[0;31m    for atom in end.GetAtoms():\u001b[0m\n\u001b[0m    ^\u001b[0m\n\u001b[0;31mIndentationError\u001b[0m\u001b[0;31m:\u001b[0m expected an indented block\n"
     ]
    }
   ],
   "source": [
    "frags = []\n",
    "for bond in charged.GetBonds():\n",
    "    if bond.IsRotor():\n",
    "        print(bond)\n",
    "        atoms, bonds = build_frag(bond, charged)\n",
    "        print(atoms)\n",
    "        print(bonds)\n",
    "        \n",
    "        beg = bond.GetBgn()\n",
    "        end = bond.GetEnd()\n",
    "        beg_index = beg.GetIdx()\n",
    "        end_index = end.GetIdx()\n",
    "        atom_bond_set = oechem.OEAtomBondSet()\n",
    "        atom_bond_set.AddBond(bond)\n",
    "        atom_bond_set.AddAtom(beg)\n",
    "        atom_bond_set.AddAtom(end)\n",
    "        \n",
    "        for atom in beg.GetAtoms():\n",
    "            atom_bond_set.AddAtom(atom)\n",
    "            next_bond = charged.GetBond(atom, beg)\n",
    "            atom_bond_set.AddBond(next_bond)\n",
    "            if atom.GetIdx() != end_index:\n",
    "                if atom.IsInRing():\n",
    "                    atoms, bonds = find_ring(atom, rot_bond=bond, next_bond=next_bond, atoms=[], bonds=[])\n",
    "                    for a_idx in atoms:\n",
    "                        atom_bond_set.AddAtom(charged.GetAtom(oechem.OEHasAtomIdx(a_idx)))\n",
    "                    for b_idx in bonds:\n",
    "                        atom_bond_set.AddBond(charged.GetBond(oechem.OEHasBondIdx(b_idx)))\n",
    "                # Check for functional group - only stop checking if it's a c-c bond. \n",
    "                if not atom.IsCarbon():\n",
    "                    \n",
    "                #find_ortho(atoms, bonds, charged.GetBond(atom, beg), charged)\n",
    "            \n",
    "                \n",
    "        for atom in end.GetAtoms():\n",
    "            atom_bond_set.AddAtom(atom)\n",
    "            next_bond = charged.GetBond(atom, end)\n",
    "            atom_bond_set.AddBond(next_bond)\n",
    "            if atom.GetIdx() != beg_index:\n",
    "                if atom.IsInRing():\n",
    "                    atoms, bonds = find_ring(atom, rot_bond=bond, next_bond=next_bond, atoms=[], bonds=[])\n",
    "                    for a_idx in atoms:\n",
    "                        atom_bond_set.AddAtom(charged.GetAtom(oechem.OEHasAtomIdx(a_idx)))\n",
    "                    for b_idx in bonds:\n",
    "                        atom_bond_set.AddBond(charged.GetBond(oechem.OEHasBondIdx(b_idx)))\n",
    "        frags.append(atom_bond_set)"
   ]
  },
  {
   "cell_type": "code",
   "execution_count": 440,
   "metadata": {},
   "outputs": [
    {
     "ename": "TypeError",
     "evalue": "is_ortho() missing 1 required positional argument: 'next_bond'",
     "output_type": "error",
     "traceback": [
      "\u001b[0;31m---------------------------------------------------------------------------\u001b[0m",
      "\u001b[0;31mTypeError\u001b[0m                                 Traceback (most recent call last)",
      "\u001b[0;32m<ipython-input-440-3b96d85eef3c>\u001b[0m in \u001b[0;36m<module>\u001b[0;34m()\u001b[0m\n\u001b[0;32m----> 1\u001b[0;31m \u001b[0mis_ortho\u001b[0m\u001b[0;34m(\u001b[0m\u001b[0mcharged\u001b[0m\u001b[0;34m.\u001b[0m\u001b[0mGetBond\u001b[0m\u001b[0;34m(\u001b[0m\u001b[0moechem\u001b[0m\u001b[0;34m.\u001b[0m\u001b[0mOEHasBondIdx\u001b[0m\u001b[0;34m(\u001b[0m\u001b[0;36m9\u001b[0m\u001b[0;34m)\u001b[0m\u001b[0;34m)\u001b[0m\u001b[0;34m,\u001b[0m \u001b[0mcharged\u001b[0m\u001b[0;34m.\u001b[0m\u001b[0mGetBond\u001b[0m\u001b[0;34m(\u001b[0m\u001b[0moechem\u001b[0m\u001b[0;34m.\u001b[0m\u001b[0mOEHasBondIdx\u001b[0m\u001b[0;34m(\u001b[0m\u001b[0;36m11\u001b[0m\u001b[0;34m)\u001b[0m\u001b[0;34m)\u001b[0m\u001b[0;34m)\u001b[0m\u001b[0;34m\u001b[0m\u001b[0m\n\u001b[0m",
      "\u001b[0;31mTypeError\u001b[0m: is_ortho() missing 1 required positional argument: 'next_bond'"
     ]
    }
   ],
   "source": [
    "is_ortho(charged.GetBond(oechem.OEHasBondIdx(9)), charged.GetBond(oechem.OEHasBondIdx(11)))"
   ]
  },
  {
   "cell_type": "code",
   "execution_count": 441,
   "metadata": {},
   "outputs": [
    {
     "data": {
      "text/plain": [
       "True"
      ]
     },
     "execution_count": 441,
     "metadata": {},
     "output_type": "execute_result"
    }
   ],
   "source": [
    "(b & r) is not None"
   ]
  },
  {
   "cell_type": "code",
   "execution_count": 442,
   "metadata": {},
   "outputs": [],
   "source": [
    "# Convert fragments to smile strings\n",
    "def frag_to_smiles(frags, mol):\n",
    "    smiles = []\n",
    "    for frag in frags:\n",
    "        fragatompred = oechem.OEIsAtomMember(frag.GetAtoms())\n",
    "        fragbondpred = oechem.OEIsBondMember(frag.GetBonds())\n",
    "\n",
    "        fragment = oechem.OEGraphMol()\n",
    "        adjustHCount = True\n",
    "        oechem.OESubsetMol(fragment, mol, fragatompred, fragbondpred, adjustHCount)\n",
    "        smiles.append(oechem.OEMolToSmiles(fragment))\n",
    "        #print(OEMolToSmiles(fragment))\n",
    "    return smiles"
   ]
  },
  {
   "cell_type": "code",
   "execution_count": 443,
   "metadata": {},
   "outputs": [],
   "source": [
    "smiles = frag_to_smiles(frags, charged)"
   ]
  },
  {
   "cell_type": "code",
   "execution_count": 444,
   "metadata": {},
   "outputs": [
    {
     "data": {
      "image/png": "[encoded data removed]",
      "text/plain": [
       "<IPython.core.display.Image object>"
      ]
     },
     "execution_count": 444,
     "metadata": {},
     "output_type": "execute_result"
    }
   ],
   "source": [
    "oenb.draw_smiles(smiles[0])"
   ]
  },
  {
   "cell_type": "code",
   "execution_count": 445,
   "metadata": {},
   "outputs": [
    {
     "data": {
      "image/png": "[encoded data removed]",
      "text/plain": [
       "<IPython.core.display.Image object>"
      ]
     },
     "execution_count": 445,
     "metadata": {},
     "output_type": "execute_result"
    }
   ],
   "source": [
    "oenb.draw_smiles(smiles[1])"
   ]
  },
  {
   "cell_type": "code",
   "execution_count": 446,
   "metadata": {},
   "outputs": [
    {
     "data": {
      "image/png": "[encoded data removed]",
      "text/plain": [
       "<IPython.core.display.Image object>"
      ]
     },
     "execution_count": 446,
     "metadata": {},
     "output_type": "execute_result"
    }
   ],
   "source": [
    "oenb.draw_smiles(smiles[2])"
   ]
  },
  {
   "cell_type": "code",
   "execution_count": 447,
   "metadata": {},
   "outputs": [
    {
     "data": {
      "image/png": "[encoded data removed]",
      "text/plain": [
       "<IPython.core.display.Image object>"
      ]
     },
     "execution_count": 447,
     "metadata": {},
     "output_type": "execute_result"
    }
   ],
   "source": [
    "oenb.draw_smiles(smiles[3])"
   ]
  },
  {
   "cell_type": "code",
   "execution_count": 448,
   "metadata": {},
   "outputs": [
    {
     "data": {
      "image/png": "[encoded data removed]",
      "text/plain": [
       "<IPython.core.display.Image object>"
      ]
     },
     "execution_count": 448,
     "metadata": {},
     "output_type": "execute_result"
    }
   ],
   "source": [
    "oenb.draw_smiles(smiles[4])"
   ]
  },
  {
   "cell_type": "code",
   "execution_count": 449,
   "metadata": {},
   "outputs": [
    {
     "data": {
      "image/png": "[encoded data removed]",
      "text/plain": [
       "<IPython.core.display.Image object>"
      ]
     },
     "execution_count": 449,
     "metadata": {},
     "output_type": "execute_result"
    }
   ],
   "source": [
    "oenb.draw_smiles(smiles[5])"
   ]
  },
  {
   "cell_type": "code",
   "execution_count": 450,
   "metadata": {},
   "outputs": [
    {
     "data": {
      "image/png": "[encoded data removed]",
      "text/plain": [
       "<IPython.core.display.Image object>"
      ]
     },
     "execution_count": 450,
     "metadata": {},
     "output_type": "execute_result"
    }
   ],
   "source": [
    "oenb.draw_smiles(smiles[6])"
   ]
  },
  {
   "cell_type": "code",
   "execution_count": 451,
   "metadata": {},
   "outputs": [
    {
     "data": {
      "image/png": "[encoded data removed]",
      "text/plain": [
       "<IPython.core.display.Image object>"
      ]
     },
     "execution_count": 451,
     "metadata": {},
     "output_type": "execute_result"
    }
   ],
   "source": [
    "oenb.draw_smiles(smiles[7])"
   ]
  },
  {
   "cell_type": "code",
   "execution_count": 333,
   "metadata": {},
   "outputs": [
    {
     "data": {
      "text/plain": [
       "True"
      ]
     },
     "execution_count": 333,
     "metadata": {},
     "output_type": "execute_result"
    }
   ],
   "source": [
    "test_simple =\"c1cc(N)cc(S(=O)(=O)O)c1\" \n",
    "mol = oechem.OEGraphMol()\n",
    "oechem.OESmilesToMol(mol, imatinib)\n",
    "oedepict.OEPrepareDepiction(mol)\n",
    "\n",
    "width, height = 300, 200\n",
    "\n",
    "opts = oedepict.OE2DMolDisplayOptions(width, height, oedepict.OEScale_AutoScale)\n",
    "opts.SetAtomPropertyFunctor(oedepict.OEDisplayAtomIdx())\n",
    "opts.SetAtomPropLabelFont(oedepict.OEFont(oechem.OEDarkGreen))\n",
    "\n",
    "disp = oedepict.OE2DMolDisplay(mol, opts)\n",
    "oedepict.OERenderMolecule(\"AtomPropIndexImatininb.png\", disp)"
   ]
  },
  {
   "cell_type": "code",
   "execution_count": 30,
   "metadata": {},
   "outputs": [
    {
     "data": {
      "text/plain": [
       "True"
      ]
     },
     "execution_count": 30,
     "metadata": {},
     "output_type": "execute_result"
    }
   ],
   "source": [
    "mol = oechem.OEGraphMol()\n",
    "oechem.OESmilesToMol(mol, test_simple)\n",
    "oedepict.OEPrepareDepiction(mol)\n",
    "\n",
    "width, height = 300, 200\n",
    "\n",
    "opts = oedepict.OE2DMolDisplayOptions(width, height, oedepict.OEScale_AutoScale)\n",
    "opts.SetAtomPropertyFunctor(oedepict.OEDisplayAtomIdx())\n",
    "opts.SetAtomPropLabelFont(oedepict.OEFont(oechem.OEDarkGreen))\n",
    "\n",
    "disp = oedepict.OE2DMolDisplay(mol, opts)\n",
    "oedepict.OERenderMolecule(\"AtomPropIndex.png\", disp)"
   ]
  },
  {
   "cell_type": "code",
   "execution_count": 71,
   "metadata": {},
   "outputs": [
    {
     "data": {
      "text/plain": [
       "0"
      ]
     },
     "execution_count": 71,
     "metadata": {},
     "output_type": "execute_result"
    }
   ],
   "source": [
    "oname = 'test5.pdf'\n",
    "frags_combs = GetFragmentAtomBondSetCombinations(frags)\n",
    "ToPdf(charged, oname, frags, frags_combs)"
   ]
  },
  {
   "cell_type": "code",
   "execution_count": 72,
   "metadata": {
    "collapsed": true
   },
   "outputs": [],
   "source": [
    "imatinib = 'C5=C(C1=CN=CC=C1)N=C(NC2=C(C=CC(=C2)NC(C3=CC=C(C=C3)CN4CCN(CC4)C)=O)C)N=C5'"
   ]
  },
  {
   "cell_type": "code",
   "execution_count": 371,
   "metadata": {},
   "outputs": [
    {
     "name": "stdout",
     "output_type": "stream",
     "text": [
      " 2 (1C-2C)\n"
     ]
    }
   ],
   "source": [
    "print(bond)"
   ]
  },
  {
   "cell_type": "code",
   "execution_count": 367,
   "metadata": {},
   "outputs": [],
   "source": [
    "bond.GetNbr(atom)"
   ]
  },
  {
   "cell_type": "code",
   "execution_count": 366,
   "metadata": {},
   "outputs": [
    {
     "name": "stdout",
     "output_type": "stream",
     "text": [
      "36 C\n"
     ]
    }
   ],
   "source": [
    "print(atom)"
   ]
  },
  {
   "cell_type": "code",
   "execution_count": 372,
   "metadata": {},
   "outputs": [],
   "source": [
    "atom = charged.GetAtom(oechem.OEHasAtomIdx(1))"
   ]
  },
  {
   "cell_type": "code",
   "execution_count": 375,
   "metadata": {},
   "outputs": [
    {
     "ename": "TypeError",
     "evalue": "'OEAtomBase' object is not iterable",
     "output_type": "error",
     "traceback": [
      "\u001b[0;31m---------------------------------------------------------------------------\u001b[0m",
      "\u001b[0;31mTypeError\u001b[0m                                 Traceback (most recent call last)",
      "\u001b[0;32m<ipython-input-375-c78df2fc5b69>\u001b[0m in \u001b[0;36m<module>\u001b[0;34m()\u001b[0m\n\u001b[0;32m----> 1\u001b[0;31m \u001b[0;32mfor\u001b[0m \u001b[0matom\u001b[0m \u001b[0;32min\u001b[0m \u001b[0mbond\u001b[0m\u001b[0;34m.\u001b[0m\u001b[0mGetNbr\u001b[0m\u001b[0;34m(\u001b[0m\u001b[0matom\u001b[0m\u001b[0;34m)\u001b[0m\u001b[0;34m:\u001b[0m\u001b[0;34m\u001b[0m\u001b[0m\n\u001b[0m\u001b[1;32m      2\u001b[0m     \u001b[0mprint\u001b[0m\u001b[0;34m(\u001b[0m\u001b[0matom\u001b[0m\u001b[0;34m)\u001b[0m\u001b[0;34m\u001b[0m\u001b[0m\n",
      "\u001b[0;31mTypeError\u001b[0m: 'OEAtomBase' object is not iterable"
     ]
    }
   ],
   "source": []
  },
  {
   "cell_type": "code",
   "execution_count": 369,
   "metadata": {},
   "outputs": [
    {
     "data": {
      "text/plain": [
       "<oechem.OEBondBase; proxy of <Swig Object of type 'OEChem::OEBondBase *' at 0x11e4a2420> >"
      ]
     },
     "execution_count": 369,
     "metadata": {},
     "output_type": "execute_result"
    }
   ],
   "source": [
    "bond"
   ]
  },
  {
   "cell_type": "code",
   "execution_count": null,
   "metadata": {
    "collapsed": true
   },
   "outputs": [],
   "source": []
  }
 ],
 "metadata": {
  "kernelspec": {
   "display_name": "Python 3",
   "language": "python",
   "name": "python3"
  },
  "language_info": {
   "codemirror_mode": {
    "name": "ipython",
    "version": 3
   },
   "file_extension": ".py",
   "mimetype": "text/x-python",
   "name": "python",
   "nbconvert_exporter": "python",
   "pygments_lexer": "ipython3",
   "version": "3.6.1"
  }
 },
 "nbformat": 4,
 "nbformat_minor": 2
}
