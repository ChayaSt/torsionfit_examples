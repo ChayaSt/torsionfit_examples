{
 "cells": [
  {
   "cell_type": "code",
   "execution_count": 1,
   "metadata": {
    "collapsed": true
   },
   "outputs": [],
   "source": [
    "%matplotlib inline\n",
    "import matplotlib.pyplot as plt\n",
    "from openeye import oechem, oedepict, oeomega, oequacpac, oemedchem\n",
    "from IPython.display import display\n",
    "import pandas as pd\n",
    "import oenotebook as oenb\n",
    "from openmoltools.openeye import get_charges\n",
    "from openmoltools import openeye\n",
    "from torsionfit.qmscan.fragment_old import *\n",
    "import networkx as nx\n",
    "from torsionfit.qmscan.enumfrags2pdf import main as vis_wrapper"
   ]
  },
  {
   "cell_type": "code",
   "execution_count": 2,
   "metadata": {
    "collapsed": true
   },
   "outputs": [],
   "source": [
    "import pandas as pd"
   ]
  },
  {
   "cell_type": "code",
   "execution_count": 8,
   "metadata": {
    "collapsed": true
   },
   "outputs": [],
   "source": [
    "fgroups_smarts = {'amide': '[NX3][CX3](=[OX1])[#6]',\n",
    "                'aldehyde': '[CX3H1](=O)[#6]',\n",
    "                'alcohol': '[#6][OX2H]',\n",
    "                 'tri_halide': '[#6][#6]((([F,Cl,I,Br])[F,Cl,I,Br])[F,Cl,I,Br])',\n",
    "                 'nitrile': '[NX1]#[CX2][#6]',\n",
    "                 'isonitrile': '[CX1-]#[NX2+]',\n",
    "                 'ether': '[#6][O][#6]',\n",
    "                 'alkyne': '[#6][$([CX2]#[CX2])]#[#6]',\n",
    "                 'tertiary amine': '[NX3]([CX4])([CX4])[CX4]',\n",
    "                 'sulfide': '[#6][SX2][#6]'}"
   ]
  },
  {
   "cell_type": "code",
   "execution_count": 9,
   "metadata": {
    "collapsed": true
   },
   "outputs": [],
   "source": [
    "kinase_inhibitors = pd.read_csv('../../../choderalab/goodiebag/goodiebag/clinical-kinase-inhibitors.csv')"
   ]
  },
  {
   "cell_type": "code",
   "execution_count": 10,
   "metadata": {
    "collapsed": true
   },
   "outputs": [],
   "source": [
    "df = kinase_inhibitors[kinase_inhibitors['inhibitor'] == 'Ponatinib']"
   ]
  },
  {
   "cell_type": "code",
   "execution_count": 207,
   "metadata": {},
   "outputs": [
    {
     "data": {
      "text/plain": [
       "'Cc1ccc(cc1C#Cc2cnc3n2nccc3)C(=O)Nc4ccc(c(c4)C(F)(F)F)CN5CCN(CC5)C'"
      ]
     },
     "execution_count": 207,
     "metadata": {},
     "output_type": "execute_result"
    }
   ],
   "source": [
    "smiles[4]"
   ]
  },
  {
   "cell_type": "code",
   "execution_count": 11,
   "metadata": {
    "collapsed": true
   },
   "outputs": [],
   "source": [
    "smiles = df['smiles']"
   ]
  },
  {
   "cell_type": "code",
   "execution_count": 12,
   "metadata": {},
   "outputs": [
    {
     "data": {
      "image/png": "[encoded data removed]",
      "text/plain": [
       "<IPython.core.display.Image object>"
      ]
     },
     "execution_count": 12,
     "metadata": {},
     "output_type": "execute_result"
    }
   ],
   "source": [
    "oenb.draw_smiles(smiles.values[0])"
   ]
  },
  {
   "cell_type": "code",
   "execution_count": 13,
   "metadata": {},
   "outputs": [
    {
     "name": "stdout",
     "output_type": "stream",
     "text": [
      "Warning: OEAssignPartialCharges has been deprecated please use OEAssignCharges instead!\n",
      "Warning: SelectElfDiverseConfs: elfPop.NumConfs 1 <= elfLimit 1\n"
     ]
    }
   ],
   "source": [
    "mol = openeye.smiles_to_oemol(smiles.values[0])\n",
    "charged = get_charges(mol, keep_confs=1)"
   ]
  },
  {
   "cell_type": "code",
   "execution_count": 14,
   "metadata": {
    "collapsed": true
   },
   "outputs": [],
   "source": [
    "fgroup_tagged = tag_fgroups(charged, fgroups_smarts)"
   ]
  },
  {
   "cell_type": "code",
   "execution_count": 15,
   "metadata": {},
   "outputs": [
    {
     "data": {
      "text/plain": [
       "{'alkyne_0': ({6, 7, 8}, {7, 8}),\n",
       " 'alkyne_1': ({7, 8, 9}, {8, 9}),\n",
       " 'amide_0': ({4, 18, 19, 20}, {20, 21, 22}),\n",
       " 'tertiary amine_0': ({31, 32, 33, 37}, {35, 36, 37}),\n",
       " 'tertiary amine_1': ({34, 35, 36, 38}, {39, 40, 42}),\n",
       " 'tri_halide_0': ({25, 27, 28, 29, 30}, {30, 31, 32, 33})}"
      ]
     },
     "execution_count": 15,
     "metadata": {},
     "output_type": "execute_result"
    }
   ],
   "source": [
    "fgroup_tagged"
   ]
  },
  {
   "cell_type": "code",
   "execution_count": 20,
   "metadata": {},
   "outputs": [],
   "source": [
    "nringsystems, parts = oechem.OEDetermineRingSystems(charged)"
   ]
  },
  {
   "cell_type": "code",
   "execution_count": 27,
   "metadata": {},
   "outputs": [
    {
     "name": "stdout",
     "output_type": "stream",
     "text": [
      "1 . Ring system: 1 2 3 4 5 6 \n",
      "2 . Ring system: 9 10 11 12 13 14 15 16 17 \n",
      "3 . Ring system: 21 22 23 24 25 26 \n",
      "4 . Ring system: 32 33 34 35 36 37 \n"
     ]
    }
   ],
   "source": [
    "for ringidx in range(1, nraromsystems + 1):\n",
    "    print (ringidx, \". Ring system:\", end=\" \")\n",
    "    for atom in charged.GetAtoms():\n",
    "        if parts[atom.GetIdx()] == ringidx:\n",
    "            print (atom.GetIdx(), end=\" \")\n",
    "    print ()"
   ]
  },
  {
   "cell_type": "code",
   "execution_count": 69,
   "metadata": {},
   "outputs": [],
   "source": [
    "def tag_rings(mol):\n",
    "    tagged_rings = {}\n",
    "    nringsystems, parts = oechem.OEDetermineRingSystems(mol)\n",
    "    for ringidx in range(1, nringsystems +1):\n",
    "        ringidx_atoms = set()\n",
    "        for atom in charged.GetAtoms():\n",
    "            if parts[atom.GetIdx()] == ringidx:\n",
    "                ringidx_atoms.add(atom.GetIdx())\n",
    "                tag = oechem.OEGetTag('ringsystem')\n",
    "                atom.SetData(tag, ringidx)\n",
    "        # Find bonds in ring and tag\n",
    "        ringidx_bonds = set()\n",
    "        for a_idx in ringidx_atoms:\n",
    "            atom = mol.GetAtom(oechem.OEHasAtomIdx(a_idx))\n",
    "            for bond in atom.GetBonds():\n",
    "                nbrAtom = bond.GetNbr(atom)\n",
    "                nbrIdx = nbrAtom.GetIdx()\n",
    "                if nbrIdx in ringidx_atoms and nbrIdx != a_idx:\n",
    "                    ringidx_bonds.add(bond.GetIdx())   \n",
    "                    tag = oechem.OEGetTag('ringsystem')\n",
    "                    bond.SetData(tag, ringidx)\n",
    "        tagged_rings[ringidx] = (ringidx_atoms, ringidx_bonds)\n",
    "    return tagged_rings\n",
    "                "
   ]
  },
  {
   "cell_type": "code",
   "execution_count": 103,
   "metadata": {},
   "outputs": [],
   "source": [
    "tagged_rings = tag_rings(charged)"
   ]
  },
  {
   "cell_type": "code",
   "execution_count": 104,
   "metadata": {},
   "outputs": [
    {
     "data": {
      "text/plain": [
       "{1: ({1, 2, 3, 4, 5, 6}, {1, 2, 3, 4, 5, 6}),\n",
       " 2: ({9, 10, 11, 12, 13, 14, 15, 16, 17},\n",
       "  {10, 11, 12, 13, 14, 15, 16, 17, 18, 19}),\n",
       " 3: ({21, 22, 23, 24, 25, 26}, {24, 25, 26, 27, 28, 29}),\n",
       " 4: ({32, 33, 34, 35, 36, 37}, {36, 37, 38, 39, 40, 41})}"
      ]
     },
     "execution_count": 104,
     "metadata": {},
     "output_type": "execute_result"
    }
   ],
   "source": [
    "tagged_rings"
   ]
  },
  {
   "cell_type": "code",
   "execution_count": 193,
   "metadata": {},
   "outputs": [
    {
     "name": "stdout",
     "output_type": "stream",
     "text": [
      "20 (4C-18C)\n",
      "functional_group: False\n",
      "ring idex: ({1, 2, 3, 4, 5, 6}, {1, 2, 3, 4, 5, 6})\n",
      "functional_group: ({18, 19, 20, 4}, {20, 21, 22})\n",
      "ring idex: ({1, 2, 3, 4, 5, 6}, {1, 2, 3, 4, 5, 6})\n",
      "functional_group: ({8, 9, 7}, {8, 9})\n",
      "ring idex: ({1, 2, 3, 4, 5, 6}, {1, 2, 3, 4, 5, 6})\n",
      "functional_group: False\n",
      "ring idex: ({1, 2, 3, 4, 5, 6}, {1, 2, 3, 4, 5, 6})\n",
      "functional_group: ({18, 19, 20, 4}, {20, 21, 22})\n",
      "ring idex: ({1, 2, 3, 4, 5, 6}, {1, 2, 3, 4, 5, 6})\n",
      "functional_group: ({8, 9, 7}, {8, 9})\n",
      "ring idex: ({1, 2, 3, 4, 5, 6}, {1, 2, 3, 4, 5, 6})\n",
      "functional_group: False\n",
      "ring idex: ({1, 2, 3, 4, 5, 6}, {1, 2, 3, 4, 5, 6})\n",
      "functional_group: ({18, 19, 20, 4}, {20, 21, 22})\n",
      "ring idex: ({1, 2, 3, 4, 5, 6}, {1, 2, 3, 4, 5, 6})\n",
      "functional_group: ({8, 9, 7}, {8, 9})\n",
      "ring idex: ({1, 2, 3, 4, 5, 6}, {1, 2, 3, 4, 5, 6})\n",
      "22 (18C-20N)\n",
      "functional_group: False\n",
      "ring idex: ({1, 2, 3, 4, 5, 6}, {1, 2, 3, 4, 5, 6})\n",
      "functional_group: ({18, 19, 20, 4}, {20, 21, 22})\n",
      "ring idex: ({1, 2, 3, 4, 5, 6}, {1, 2, 3, 4, 5, 6})\n",
      "functional_group: ({8, 9, 7}, {8, 9})\n",
      "ring idex: ({1, 2, 3, 4, 5, 6}, {1, 2, 3, 4, 5, 6})\n",
      "functional_group: ({18, 19, 20, 4}, {20, 21, 22})\n",
      "ring idex: ({21, 22, 23, 24, 25, 26}, {24, 25, 26, 27, 28, 29})\n",
      "functional_group: False\n",
      "ring idex: ({21, 22, 23, 24, 25, 26}, {24, 25, 26, 27, 28, 29})\n",
      "functional_group: False\n",
      "ring idex: ({21, 22, 23, 24, 25, 26}, {24, 25, 26, 27, 28, 29})\n",
      "23 (20N-21C)\n",
      "functional_group: ({18, 19, 20, 4}, {20, 21, 22})\n",
      "ring idex: ({21, 22, 23, 24, 25, 26}, {24, 25, 26, 27, 28, 29})\n",
      "functional_group: False\n",
      "ring idex: ({21, 22, 23, 24, 25, 26}, {24, 25, 26, 27, 28, 29})\n",
      "functional_group: False\n",
      "ring idex: ({21, 22, 23, 24, 25, 26}, {24, 25, 26, 27, 28, 29})\n",
      "functional_group: ({18, 19, 20, 4}, {20, 21, 22})\n",
      "ring idex: ({21, 22, 23, 24, 25, 26}, {24, 25, 26, 27, 28, 29})\n",
      "functional_group: False\n",
      "ring idex: ({21, 22, 23, 24, 25, 26}, {24, 25, 26, 27, 28, 29})\n",
      "functional_group: False\n",
      "ring idex: ({21, 22, 23, 24, 25, 26}, {24, 25, 26, 27, 28, 29})\n",
      "functional_group: ({18, 19, 20, 4}, {20, 21, 22})\n",
      "ring idex: ({21, 22, 23, 24, 25, 26}, {24, 25, 26, 27, 28, 29})\n",
      "functional_group: False\n",
      "ring idex: ({21, 22, 23, 24, 25, 26}, {24, 25, 26, 27, 28, 29})\n",
      "functional_group: False\n",
      "ring idex: ({21, 22, 23, 24, 25, 26}, {24, 25, 26, 27, 28, 29})\n",
      "30 (25C-27C)\n",
      "functional_group: False\n",
      "ring idex: ({21, 22, 23, 24, 25, 26}, {24, 25, 26, 27, 28, 29})\n",
      "functional_group: ({32, 33, 34, 35, 36, 37, 31}, {35, 36, 37, 38, 39, 40, 41})\n",
      "ring idex: ({21, 22, 23, 24, 25, 26}, {24, 25, 26, 27, 28, 29})\n",
      "functional_group: ({25, 27, 28, 29, 30}, {32, 33, 30, 31})\n",
      "ring idex: ({21, 22, 23, 24, 25, 26}, {24, 25, 26, 27, 28, 29})\n",
      "functional_group: False\n",
      "ring idex: ({21, 22, 23, 24, 25, 26}, {24, 25, 26, 27, 28, 29})\n",
      "functional_group: ({32, 33, 34, 35, 36, 37, 31}, {35, 36, 37, 38, 39, 40, 41})\n",
      "ring idex: ({21, 22, 23, 24, 25, 26}, {24, 25, 26, 27, 28, 29})\n",
      "functional_group: ({25, 27, 28, 29, 30}, {32, 33, 30, 31})\n",
      "ring idex: ({21, 22, 23, 24, 25, 26}, {24, 25, 26, 27, 28, 29})\n",
      "functional_group: False\n",
      "ring idex: ({21, 22, 23, 24, 25, 26}, {24, 25, 26, 27, 28, 29})\n",
      "functional_group: ({32, 33, 34, 35, 36, 37, 31}, {35, 36, 37, 38, 39, 40, 41})\n",
      "ring idex: ({21, 22, 23, 24, 25, 26}, {24, 25, 26, 27, 28, 29})\n",
      "functional_group: ({25, 27, 28, 29, 30}, {32, 33, 30, 31})\n",
      "ring idex: ({21, 22, 23, 24, 25, 26}, {24, 25, 26, 27, 28, 29})\n",
      "34 (24C-31C)\n",
      "functional_group: False\n",
      "ring idex: ({21, 22, 23, 24, 25, 26}, {24, 25, 26, 27, 28, 29})\n",
      "functional_group: ({32, 33, 34, 35, 36, 37, 31}, {35, 36, 37, 38, 39, 40, 41})\n",
      "ring idex: ({21, 22, 23, 24, 25, 26}, {24, 25, 26, 27, 28, 29})\n",
      "functional_group: ({25, 27, 28, 29, 30}, {32, 33, 30, 31})\n",
      "ring idex: ({21, 22, 23, 24, 25, 26}, {24, 25, 26, 27, 28, 29})\n",
      "functional_group: False\n",
      "ring idex: ({21, 22, 23, 24, 25, 26}, {24, 25, 26, 27, 28, 29})\n",
      "functional_group: ({32, 33, 34, 35, 36, 37, 31}, {35, 36, 37, 38, 39, 40, 41})\n",
      "ring idex: ({21, 22, 23, 24, 25, 26}, {24, 25, 26, 27, 28, 29})\n",
      "functional_group: ({25, 27, 28, 29, 30}, {32, 33, 30, 31})\n",
      "ring idex: ({21, 22, 23, 24, 25, 26}, {24, 25, 26, 27, 28, 29})\n",
      "functional_group: False\n",
      "ring idex: ({21, 22, 23, 24, 25, 26}, {24, 25, 26, 27, 28, 29})\n",
      "functional_group: ({32, 33, 34, 35, 36, 37, 31}, {35, 36, 37, 38, 39, 40, 41})\n",
      "ring idex: ({21, 22, 23, 24, 25, 26}, {24, 25, 26, 27, 28, 29})\n",
      "functional_group: ({25, 27, 28, 29, 30}, {32, 33, 30, 31})\n",
      "ring idex: ({21, 22, 23, 24, 25, 26}, {24, 25, 26, 27, 28, 29})\n",
      "functional_group: ({32, 33, 34, 35, 36, 37, 31}, {35, 36, 37, 38, 39, 40, 41})\n",
      "ring idex: ({32, 33, 34, 35, 36, 37}, {36, 37, 38, 39, 40, 41})\n",
      "functional_group: ({32, 33, 34, 35, 36, 37, 38}, {36, 37, 38, 39, 40, 41, 42})\n",
      "ring idex: ({32, 33, 34, 35, 36, 37}, {36, 37, 38, 39, 40, 41})\n",
      "35 (31C-32N)\n",
      "functional_group: False\n",
      "ring idex: ({21, 22, 23, 24, 25, 26}, {24, 25, 26, 27, 28, 29})\n",
      "functional_group: ({32, 33, 34, 35, 36, 37, 31}, {35, 36, 37, 38, 39, 40, 41})\n",
      "ring idex: ({21, 22, 23, 24, 25, 26}, {24, 25, 26, 27, 28, 29})\n",
      "functional_group: ({25, 27, 28, 29, 30}, {32, 33, 30, 31})\n",
      "ring idex: ({21, 22, 23, 24, 25, 26}, {24, 25, 26, 27, 28, 29})\n",
      "functional_group: ({32, 33, 34, 35, 36, 37, 31}, {35, 36, 37, 38, 39, 40, 41})\n",
      "ring idex: ({32, 33, 34, 35, 36, 37}, {36, 37, 38, 39, 40, 41})\n",
      "functional_group: ({32, 33, 34, 35, 36, 37, 38}, {36, 37, 38, 39, 40, 41, 42})\n",
      "ring idex: ({32, 33, 34, 35, 36, 37}, {36, 37, 38, 39, 40, 41})\n",
      "functional_group: ({32, 33, 34, 35, 36, 37, 31}, {35, 36, 37, 38, 39, 40, 41})\n",
      "ring idex: ({32, 33, 34, 35, 36, 37}, {36, 37, 38, 39, 40, 41})\n",
      "functional_group: ({32, 33, 34, 35, 36, 37, 38}, {36, 37, 38, 39, 40, 41, 42})\n",
      "ring idex: ({32, 33, 34, 35, 36, 37}, {36, 37, 38, 39, 40, 41})\n",
      "functional_group: ({32, 33, 34, 35, 36, 37, 31}, {35, 36, 37, 38, 39, 40, 41})\n",
      "ring idex: ({32, 33, 34, 35, 36, 37}, {36, 37, 38, 39, 40, 41})\n",
      "functional_group: ({32, 33, 34, 35, 36, 37, 38}, {36, 37, 38, 39, 40, 41, 42})\n",
      "ring idex: ({32, 33, 34, 35, 36, 37}, {36, 37, 38, 39, 40, 41})\n"
     ]
    }
   ],
   "source": [
    "frags = {}\n",
    "for bond in charged.GetBonds():\n",
    "    if bond.IsRotor():\n",
    "        print(bond)\n",
    "        atoms = set()\n",
    "        bonds = set()\n",
    "        b_idx = bond.GetIdx()\n",
    "        bonds.add(b_idx)\n",
    "        beg = bond.GetBgn()\n",
    "        end = bond.GetEnd()\n",
    "        beg_idx = beg.GetIdx()\n",
    "        end_idx = end.GetIdx()\n",
    "        atoms.add(beg_idx)\n",
    "        atoms_nb, bonds_nb = iterate_nbratoms(charged, beg, fgroup_tagged, tagged_rings, bond)\n",
    "        atoms = atoms.union(atoms_nb)\n",
    "        bonds = bonds.union(bonds_nb)\n",
    "        atoms.add(end_idx)\n",
    "        atoms_nb, bonds_nb = iterate_nbratoms(charged, end, fgroup_tagged, tagged_rings, bond)\n",
    "        atoms = atoms.union(atoms_nb)\n",
    "        bonds = bonds.union(bonds_nb)\n",
    "        frags[b_idx] = (atoms, bonds)\n",
    "        \n",
    "        \n",
    "        "
   ]
  },
  {
   "cell_type": "code",
   "execution_count": 170,
   "metadata": {},
   "outputs": [],
   "source": [
    "def iterate_nbratoms(mol, atom, fgroup_tagged, tagged_rings, rotor_bond):\n",
    "    atoms_2 = set()\n",
    "    bonds_2 = set()\n",
    "    for a in atom.GetAtoms():\n",
    "        a_idx = a.GetIdx()\n",
    "        #if a_idx in atoms_2:\n",
    "        #    continue\n",
    "        next_bond = mol.GetBond(a, atom)\n",
    "        nb_idx = next_bond.GetIdx()\n",
    "        atoms_2.add(a_idx)\n",
    "        if nb_idx not in bonds_2:\n",
    "            bonds_2.add(nb_idx)\n",
    "        if a.IsInRing():\n",
    "            ring_idx = a.GetData('ringsystem')\n",
    "            ratoms, rbonds = tagged_rings[ring_idx]\n",
    "            atoms_2 = atoms_2.union(ratoms)\n",
    "            bonds_2 = bonds_2.union(rbonds)\n",
    "            # Find non-rotatable sustituents\n",
    "            rs_atoms, rs_bonds = ring_substiuents(mol, next_bond, rotor_bond, tagged_rings, ring_idx, fgroup_tagged)\n",
    "            atoms_2 = atoms_2.union(rs_atoms)\n",
    "            bonds_2 = bonds_2.union(rs_bonds)\n",
    "        fgroup = is_fgroup(fgroup_tagged, atom=atom)\n",
    "        if fgroup:\n",
    "            atoms_2 = atoms_2.union(fgroup[0])\n",
    "            bonds_2 = bonds_2.union(fgroup[-1])\n",
    "    return atoms_2, bonds_2\n",
    "        "
   ]
  },
  {
   "cell_type": "code",
   "execution_count": 176,
   "metadata": {
    "collapsed": true
   },
   "outputs": [],
   "source": [
    "def ring_substiuents(mol, bond, rotor_bond, tagged_rings, ring_idx, fgroup_tagged):\n",
    "    rs_atoms = set()\n",
    "    rs_bonds = set()\n",
    "    r_atoms, r_bonds = tagged_rings[ring_idx]\n",
    "    for a_idx in r_atoms:\n",
    "        atom = mol.GetAtom(oechem.OEHasAtomIdx(a_idx))\n",
    "        for a in atom.GetAtoms():\n",
    "            if a.GetIdx() in rs_atoms:\n",
    "                continue\n",
    "            fgroup = False\n",
    "            if not a.IsInRing():\n",
    "                rs_bond = mol.GetBond(atom, a)\n",
    "                if not rs_bond.IsRotor():\n",
    "                    rs_atoms.add(a.GetIdx())\n",
    "                    #bond = mol.GetBond(atom, a)\n",
    "                    rs_bonds.add(rs_bond.GetIdx())\n",
    "                    # Check for functional group\n",
    "                    fgroup = is_fgroup(fgroup_tagged, atom=a)\n",
    "                elif is_ortho(rs_bond, rotor_bond, bond):\n",
    "                    # Keep bond and attached atom.\n",
    "                    rs_atoms.add(a.GetIdx())\n",
    "                    rs_bonds.add(rs_bond.GetIdx())\n",
    "                    # Check for functional group\n",
    "                    fgroup = is_fgroup(fgroup_tagged, atom=a)\n",
    "                if fgroup:\n",
    "                    rs_atoms = rs_atoms.union(fgroup[0])\n",
    "                    rs_bonds = rs_bonds.union(fgroup[-1])\n",
    "                print('functional_group: {}'.format(fgroup))\n",
    "                print('ring idex: {}'.format(tagged_rings[ring_idx]))\n",
    "                    # Check if ortho\n",
    "                    #is\n",
    "                    #if bond.IsInRing():\n",
    "                        # bond is inside ring so we need to check rotor_bond\n",
    "                    #    bond = rotor_bond\n",
    "                    \n",
    "                    \n",
    "    return rs_atoms, rs_bonds"
   ]
  },
  {
   "cell_type": "code",
   "execution_count": null,
   "metadata": {
    "collapsed": true
   },
   "outputs": [],
   "source": [
    "ring_substiuents(charged, frags[])"
   ]
  },
  {
   "cell_type": "code",
   "execution_count": 194,
   "metadata": {},
   "outputs": [],
   "source": [
    "for frag in frags:\n",
    "    AtomBondSet = to_AtomBondSet(charged, frags[frag][0], frags[frag][-1])\n",
    "    frags[frag] = AtomBondSet"
   ]
  },
  {
   "cell_type": "code",
   "execution_count": 195,
   "metadata": {},
   "outputs": [
    {
     "data": {
      "text/plain": [
       "{20: <oechem.OEAtomBondSet; proxy of <Swig Object of type 'OEChem::OEAtomBondSet *' at 0x10a48dcf0> >,\n",
       " 22: <oechem.OEAtomBondSet; proxy of <Swig Object of type 'OEChem::OEAtomBondSet *' at 0x1167b6540> >,\n",
       " 23: <oechem.OEAtomBondSet; proxy of <Swig Object of type 'OEChem::OEAtomBondSet *' at 0x1167b68d0> >,\n",
       " 30: <oechem.OEAtomBondSet; proxy of <Swig Object of type 'OEChem::OEAtomBondSet *' at 0x1167b6330> >,\n",
       " 34: <oechem.OEAtomBondSet; proxy of <Swig Object of type 'OEChem::OEAtomBondSet *' at 0x1166776c0> >,\n",
       " 35: <oechem.OEAtomBondSet; proxy of <Swig Object of type 'OEChem::OEAtomBondSet *' at 0x1167b6b40> >}"
      ]
     },
     "execution_count": 195,
     "metadata": {},
     "output_type": "execute_result"
    }
   ],
   "source": [
    "frags"
   ]
  },
  {
   "cell_type": "code",
   "execution_count": 196,
   "metadata": {},
   "outputs": [
    {
     "data": {
      "text/plain": [
       "0"
      ]
     },
     "execution_count": 196,
     "metadata": {},
     "output_type": "execute_result"
    }
   ],
   "source": [
    "oname = 'test_Ponatinib.pdf'\n",
    "ToPdf(charged, oname, frags)"
   ]
  },
  {
   "cell_type": "code",
   "execution_count": 44,
   "metadata": {},
   "outputs": [
    {
     "name": "stdout",
     "output_type": "stream",
     "text": [
      " 1 (1C-6C)\n",
      " 2 (1C-2C)\n",
      " 3 (2C-3C)\n",
      " 4 (3C-4C)\n",
      " 5 (4C-5C)\n",
      " 6 (5C-6C)\n",
      "10 (9C-13N)\n",
      "11 (9C-10C)\n",
      "12 (10C-11N)\n",
      "13 (11N-12C)\n",
      "14 (12C-17C)\n",
      "15 (12C-13N)\n",
      "16 (13N-14N)\n",
      "17 (14N-15C)\n",
      "18 (15C-16C)\n",
      "19 (16C-17C)\n",
      "24 (21C-26C)\n",
      "25 (21C-22C)\n",
      "26 (22C-23C)\n",
      "27 (23C-24C)\n",
      "28 (24C-25C)\n",
      "29 (25C-26C)\n",
      "36 (32N-37C)\n",
      "37 (32N-33C)\n",
      "38 (33C-34C)\n",
      "39 (34C-35N)\n",
      "40 (35N-36C)\n",
      "41 (36C-37C)\n"
     ]
    }
   ],
   "source": [
    "for bond in mol.GetBonds():\n",
    "    if bond.IsInRing():\n",
    "        print(bond)"
   ]
  },
  {
   "cell_type": "code",
   "execution_count": 41,
   "metadata": {},
   "outputs": [
    {
     "name": "stdout",
     "output_type": "stream",
     "text": [
      "{}\n",
      "{'ringsystem': 1}\n",
      "{'ringsystem': 1}\n",
      "{'ringsystem': 1}\n",
      "{'fgroup': 'amide_0', 'ringsystem': 1}\n",
      "{'ringsystem': 1}\n",
      "{'fgroup': 'alkyne_0', 'ringsystem': 1}\n",
      "{'fgroup': 'alkyne_1'}\n",
      "{'fgroup': 'alkyne_1'}\n",
      "{'fgroup': 'alkyne_1', 'ringsystem': 2}\n",
      "{'ringsystem': 2}\n",
      "{'ringsystem': 2}\n",
      "{'ringsystem': 2}\n",
      "{'ringsystem': 2}\n",
      "{'ringsystem': 2}\n",
      "{'ringsystem': 2}\n",
      "{'ringsystem': 2}\n",
      "{'ringsystem': 2}\n",
      "{'fgroup': 'amide_0'}\n",
      "{'fgroup': 'amide_0'}\n",
      "{'fgroup': 'amide_0'}\n",
      "{'ringsystem': 3}\n",
      "{'ringsystem': 3}\n",
      "{'ringsystem': 3}\n",
      "{'ringsystem': 3}\n",
      "{'fgroup': 'tri_halide_0', 'ringsystem': 3}\n",
      "{'ringsystem': 3}\n",
      "{'fgroup': 'tri_halide_0'}\n",
      "{'fgroup': 'tri_halide_0'}\n",
      "{'fgroup': 'tri_halide_0'}\n",
      "{'fgroup': 'tri_halide_0'}\n",
      "{'fgroup': 'tertiary amine_0'}\n",
      "{'fgroup': 'tertiary amine_0', 'ringsystem': 4}\n",
      "{'fgroup': 'tertiary amine_0', 'ringsystem': 4}\n",
      "{'fgroup': 'tertiary amine_1', 'ringsystem': 4}\n",
      "{'fgroup': 'tertiary amine_1', 'ringsystem': 4}\n",
      "{'fgroup': 'tertiary amine_1', 'ringsystem': 4}\n",
      "{'fgroup': 'tertiary amine_0', 'ringsystem': 4}\n",
      "{'fgroup': 'tertiary amine_1'}\n",
      "{}\n",
      "{}\n",
      "{}\n",
      "{}\n",
      "{}\n",
      "{}\n",
      "{}\n",
      "{}\n",
      "{}\n",
      "{}\n",
      "{}\n",
      "{}\n",
      "{}\n",
      "{}\n",
      "{}\n",
      "{}\n",
      "{}\n",
      "{}\n",
      "{}\n",
      "{}\n",
      "{}\n",
      "{}\n",
      "{}\n",
      "{}\n",
      "{}\n",
      "{}\n",
      "{}\n"
     ]
    }
   ],
   "source": [
    "for atom in charged.GetAtoms():\n",
    "    print(atom.GetData())"
   ]
  },
  {
   "cell_type": "code",
   "execution_count": 147,
   "metadata": {},
   "outputs": [
    {
     "data": {
      "text/plain": [
       "{1: ({1, 2, 3, 4, 5, 6}, {1, 2, 3, 4, 5, 6}),\n",
       " 2: ({9, 10, 11, 12, 13, 14, 15, 16, 17},\n",
       "  {10, 11, 12, 13, 14, 15, 16, 17, 18, 19}),\n",
       " 3: ({21, 22, 23, 24, 25, 26}, {24, 25, 26, 27, 28, 29}),\n",
       " 4: ({32, 33, 34, 35, 36, 37}, {36, 37, 38, 39, 40, 41})}"
      ]
     },
     "execution_count": 147,
     "metadata": {},
     "output_type": "execute_result"
    }
   ],
   "source": [
    "tagged_rings"
   ]
  },
  {
   "cell_type": "code",
   "execution_count": 148,
   "metadata": {},
   "outputs": [
    {
     "data": {
      "text/plain": [
       "{'alkyne_0': ({6, 7, 8}, {7, 8}),\n",
       " 'alkyne_1': ({7, 8, 9}, {8, 9}),\n",
       " 'amide_0': ({4, 18, 19, 20}, {20, 21, 22}),\n",
       " 'tertiary amine_0': ({31, 32, 33, 37}, {35, 36, 37}),\n",
       " 'tertiary amine_1': ({34, 35, 36, 38}, {39, 40, 42}),\n",
       " 'tri_halide_0': ({25, 27, 28, 29, 30}, {30, 31, 32, 33})}"
      ]
     },
     "execution_count": 148,
     "metadata": {},
     "output_type": "execute_result"
    }
   ],
   "source": [
    "fgroup_tagged"
   ]
  },
  {
   "cell_type": "code",
   "execution_count": 154,
   "metadata": {},
   "outputs": [
    {
     "data": {
      "text/plain": [
       "3"
      ]
     },
     "execution_count": 154,
     "metadata": {},
     "output_type": "execute_result"
    }
   ],
   "source": [
    "if len(tagged_rings[4][0].intersection(fgroup_tagged['tertiary amine_0'][0])) > 1:\n",
    "    "
   ]
  },
  {
   "cell_type": "code",
   "execution_count": 182,
   "metadata": {},
   "outputs": [],
   "source": [
    "ring_idxs = list(tagged_rings.keys())\n",
    "fgroups = list(fgroup_tagged.keys())"
   ]
  },
  {
   "cell_type": "code",
   "execution_count": 205,
   "metadata": {},
   "outputs": [
    {
     "name": "stdout",
     "output_type": "stream",
     "text": [
      "20 (4C-18C)\n",
      "{'WibergBondOrder': 0.9339971542358398, 'fgroup': 'amide_0', 'fragment idx': 2}\n",
      " 7 (6C-7C)\n",
      "{'WibergBondOrder': 1.041509747505188, 'fgroup': 'alkyne_0', 'fragment idx': 1}\n",
      " 9 (8C-9C)\n",
      "{'WibergBondOrder': 1.0627270936965942, 'fgroup': 'alkyne_1', 'fragment idx': 1}\n",
      "30 (25C-27C)\n",
      "{'WibergBondOrder': 0.9077675938606262, 'fgroup': 'tri_halide_0', 'fragment idx': 5}\n"
     ]
    }
   ],
   "source": [
    "for idx in ring_idxs:\n",
    "    for fgroup in fgroups:\n",
    "        atom_intersection = tagged_rings[idx][0].intersection(fgroup_tagged[fgroup][0])\n",
    "        if len(atom_intersection) > 1:\n",
    "            # Must include ring if including fgroup. Add ring atoms and bonds to fgroup\n",
    "            atoms_union = tagged_rings[idx][0].union(fgroup_tagged[fgroup][0])\n",
    "            bonds_union = tagged_rings[idx][-1].union(fgroup_tagged[fgroup][-1])\n",
    "            fgroup_tagged[fgroup] = (atoms_union, bonds_union)\n",
    "        elif len(atom_intersection) > 0:\n",
    "            # Check Wiberg bond order of bond\n",
    "            # First find bond connectiong fgroup and ring\n",
    "            atom = charged.GetAtom(oechem.OEHasAtomIdx(atom_intersection.pop()))\n",
    "            for a in atom.GetAtoms():\n",
    "                if a.GetIdx() in fgroup_tagged[fgroup][0]:\n",
    "                    bond = charged.GetBond(a, atom)\n",
    "                    print(bond)\n",
    "                    print(bond.GetData())"
   ]
  },
  {
   "cell_type": "code",
   "execution_count": 203,
   "metadata": {},
   "outputs": [
    {
     "data": {
      "text/plain": [
       "4"
      ]
     },
     "execution_count": 203,
     "metadata": {},
     "output_type": "execute_result"
    }
   ],
   "source": [
    "atom_intersection.pop()"
   ]
  },
  {
   "cell_type": "code",
   "execution_count": 185,
   "metadata": {
    "collapsed": true
   },
   "outputs": [],
   "source": [
    "combinations?"
   ]
  },
  {
   "cell_type": "code",
   "execution_count": null,
   "metadata": {
    "collapsed": true
   },
   "outputs": [],
   "source": []
  }
 ],
 "metadata": {
  "kernelspec": {
   "display_name": "Python 3",
   "language": "python",
   "name": "python3"
  },
  "language_info": {
   "codemirror_mode": {
    "name": "ipython",
    "version": 3
   },
   "file_extension": ".py",
   "mimetype": "text/x-python",
   "name": "python",
   "nbconvert_exporter": "python",
   "pygments_lexer": "ipython3",
   "version": "3.6.1"
  }
 },
 "nbformat": 4,
 "nbformat_minor": 2
}
