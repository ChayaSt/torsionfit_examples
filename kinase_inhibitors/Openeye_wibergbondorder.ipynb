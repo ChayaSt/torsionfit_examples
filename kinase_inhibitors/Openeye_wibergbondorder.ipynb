{
 "cells": [
  {
   "cell_type": "markdown",
   "metadata": {},
   "source": [
    "Compare Wiberg Bond Order when charging is done with one conformer vs. many conformers. The reason for checking this is that some indices in conjugated systems seem to be too low and we were wondering if how it varies with conformations. The results here show that the bond orders barely change which is very surprising.. "
   ]
  },
  {
   "cell_type": "code",
   "execution_count": 1,
   "metadata": {},
   "outputs": [],
   "source": [
    "import pandas as pd\n",
    "from torsionfit.qmscan import fragment, utils\n",
    "from openeye import oechem\n",
    "from openmoltools import openeye\n",
    "from torsionfit.qmscan.utils import png_wiberg_labels"
   ]
  },
  {
   "cell_type": "code",
   "execution_count": 2,
   "metadata": {},
   "outputs": [],
   "source": [
    "kinase_inhibitors = kinase_inhibitors = pd.read_csv('../clinical-kinase-inhibitors.csv')\n",
    "df = kinase_inhibitors[kinase_inhibitors['inhibitor'] == 'Axitinib']\n",
    "\n",
    "# Generate charged molecule with 1 and many conformers\n",
    "mol = openeye.smiles_to_oemol(df['smiles'].values[0])\n",
    "conf_1 = openeye.get_charges(mol, max_confs=1)\n",
    "\n",
    "mol2 = openeye.smiles_to_oemol(df['smiles'].values[0])\n",
    "conf_all = openeye.get_charges(mol2)"
   ]
  },
  {
   "cell_type": "code",
   "execution_count": 3,
   "metadata": {},
   "outputs": [
    {
     "data": {
      "text/plain": [
       "True"
      ]
     },
     "execution_count": 3,
     "output_type": "execute_result",
     "metadata": {}
    }
   ],
   "source": [
    "# Generate figures\n",
    "png_wiberg_labels(conf_1, 'conf1.png')\n",
    "png_wiberg_labels(conf_all, 'conf_all.png')"
   ]
  },
  {
   "cell_type": "code",
   "execution_count": null,
   "metadata": {},
   "outputs": [],
   "source": [
    "op"
   ]
  }
 ],
 "metadata": {
  "kernelspec": {
   "display_name": "Python 3",
   "language": "python",
   "name": "python3"
  },
  "language_info": {
   "codemirror_mode": {
    "name": "ipython",
    "version": 3.0
   },
   "file_extension": ".py",
   "mimetype": "text/x-python",
   "name": "python",
   "nbconvert_exporter": "python",
   "pygments_lexer": "ipython3",
   "version": "3.6.1"
  }
 },
 "nbformat": 4,
 "nbformat_minor": 2
}