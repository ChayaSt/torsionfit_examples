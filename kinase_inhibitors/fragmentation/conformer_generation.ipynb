{
 "cells": [
  {
   "cell_type": "code",
   "execution_count": 25,
   "metadata": {
    "collapsed": true
   },
   "outputs": [],
   "source": [
    "from openeye import oechem, oedepict\n",
    "import pandas as pd\n",
    "from openmoltools.openeye import get_charges, smiles_to_oemol, generate_conformers\n",
    "from torsionfit.qmscan import fragment\n",
    "from IPython.display import display\n",
    "import oenotebook as oenb\n",
    "import time"
   ]
  },
  {
   "cell_type": "code",
   "execution_count": 2,
   "metadata": {
    "collapsed": true
   },
   "outputs": [],
   "source": [
    "kinase_inhibitors = pd.read_csv('../clinical-kinase-inhibitors.csv')\n",
    "df = kinase_inhibitors[kinase_inhibitors['inhibitor'] == 'Axitinib']\n",
    "mol = smiles_to_oemol(df.smiles.values[0])"
   ]
  },
  {
   "cell_type": "code",
   "execution_count": 30,
   "metadata": {},
   "outputs": [
    {
     "name": "stdout",
     "output_type": "stream",
     "text": [
      "Fragmenting Imatinib\n",
      "Fragmenting Dasatinib\n",
      "Fragmenting Nilotinib\n",
      "Fragmenting Bosutinib\n",
      "Fragmenting Ponatinib\n",
      "Warning: SelectElfDiverseConfs: elfPop.NumConfs 1 <= elfLimit 1\n",
      "Fragmenting Gefitinib\n",
      "Fragmenting Erlotinib\n",
      "Warning: SelectElfDiverseConfs: elfPop.NumConfs 1 <= elfLimit 1\n",
      "Fragmenting Afatinib\n",
      "Warning: SelectElfDiverseConfs: elfPop.NumConfs 1 <= elfLimit 1\n",
      "Fragmenting Lapatinib\n",
      "Fragmenting Sorafenib\n",
      "Warning: SelectElfDiverseConfs: elfPop.NumConfs 1 <= elfLimit 1\n",
      "Fragmenting Sunitinib\n",
      "Warning: SelectElfDiverseConfs: elfPop.NumConfs 1 <= elfLimit 1\n",
      "Fragmenting Pazopanib\n",
      "Fragmenting Vandetanib\n",
      "Warning: SelectElfDiverseConfs: elfPop.NumConfs 1 <= elfLimit 1\n",
      "Fragmenting Axitinib\n",
      "Warning: SelectElfDiverseConfs: elfPop.NumConfs 1 <= elfLimit 1\n",
      "Fragmenting Regorafenib\n",
      "Fragmenting Crizotinib\n",
      "Warning: SelectElfDiverseConfs: elfPop.NumConfs 1 <= elfLimit 1\n",
      "Fragmenting Ceritinib\n",
      "Warning: SelectElfDiverseConfs: elfPop.NumConfs 1 <= elfLimit 1\n",
      "Fragmenting Vemurafenib\n",
      "Fragmenting Dabrafenib\n",
      "Fragmenting Ruxolitinib\n",
      "Warning: SelectElfDiverseConfs: elfPop.NumConfs 1 <= elfLimit 1\n",
      "Fragmenting Tofacitinib\n",
      "Warning: SelectElfDiverseConfs: elfPop.NumConfs 1 <= elfLimit 1\n",
      "Fragmenting Cabozantinib\n",
      "Fragmenting Ibrutinib\n",
      "Warning: SelectElfDiverseConfs: elfPop.NumConfs 1 <= elfLimit 1\n",
      "Fragmenting Nintedanib\n",
      "Fragmenting Trametinib\n",
      "Warning: SelectElfDiverseConfs: elfPop.NumConfs 1 <= elfLimit 1\n",
      "Fragmenting Idelalisib\n",
      "Warning: SelectElfDiverseConfs: elfPop.NumConfs 1 <= elfLimit 1\n",
      "Fragmenting Lenvatinib\n",
      "Warning: SelectElfDiverseConfs: elfPop.NumConfs 1 <= elfLimit 1\n",
      "Fragmenting Palbociclib\n",
      "Warning: SelectElfDiverseConfs: elfPop.NumConfs 1 <= elfLimit 1\n",
      "Fragmenting Cobimetinib\n",
      "Fragmenting Osimertinib\n",
      "Fragmenting Alectinib\n",
      "Warning: SelectElfDiverseConfs: elfPop.NumConfs 1 <= elfLimit 1\n",
      "Fragmenting Brigatinib\n",
      "Warning: SelectElfDiverseConfs: elfPop.NumConfs 1 <= elfLimit 1\n",
      "Fragmenting Cabozantinib\n",
      "Fragmenting Midostaurin\n",
      "Warning: SelectElfDiverseConfs: elfPop.NumConfs 1 <= elfLimit 1\n",
      "Fragmenting Neratinib\n",
      "Warning: SelectElfDiverseConfs: elfPop.NumConfs 1 <= elfLimit 1\n",
      "Fragmenting Abemaciclib\n",
      "Fragmenting Acalabrutinib\n",
      "Warning: SelectElfDiverseConfs: elfPop.NumConfs 1 <= elfLimit 1\n",
      "Fragmenting Ribociclib\n",
      "Warning: SelectElfDiverseConfs: elfPop.NumConfs 1 <= elfLimit 1\n",
      "663.4774198532104\n"
     ]
    }
   ],
   "source": [
    "time1 = time.time()\n",
    "fragments = {}\n",
    "smiles_all = []\n",
    "smiles_all_set = set()\n",
    "for i, inhibitor in kinase_inhibitors.iterrows():\n",
    "    print('Fragmenting {}'.format(inhibitor['inhibitor']))\n",
    "    mol = smiles_to_oemol(inhibitor['smiles'])\n",
    "    charged, frags = fragment.generate_fragments(mol)\n",
    "    smiles = fragment.smiles_with_combined(frags, charged)\n",
    "    smiles_all = smiles_all + list(smiles.keys())\n",
    "    smiles_all_set.update(list(smiles.keys()))\n",
    "    fragments[inhibitor['inhibitor']] = smiles\n",
    "time2 = time.time()\n",
    "print(time2-time1)"
   ]
  },
  {
   "cell_type": "code",
   "execution_count": 43,
   "metadata": {},
   "outputs": [],
   "source": [
    "# Filter by # of rotatable bond\n",
    "# First create a .smi file with all the smiles string so an index file can be written for \n",
    "def to_smi(smiles, fname):\n",
    "    outf = open('{}.smi'.format(fname), 'w')\n",
    "    smiles_list = map(lambda x: x+\"\\n\", list(smiles))\n",
    "    outf.writelines(smiles_list)\n",
    "    outf.close()\n",
    "    "
   ]
  },
  {
   "cell_type": "code",
   "execution_count": 44,
   "metadata": {},
   "outputs": [
    {
     "name": "stdout",
     "output_type": "stream",
     "text": [
      "CPU times: user 5 µs, sys: 1 µs, total: 6 µs\n",
      "Wall time: 21.9 µs\n"
     ]
    }
   ],
   "source": [
    "%time\n",
    "to_smi(smiles_all_set, '/Users/chayastern/src/ChayaSt/torsionfit_examples/kinase_inhibitors/fragmentation/test')"
   ]
  },
  {
   "cell_type": "code",
   "execution_count": 47,
   "metadata": {},
   "outputs": [],
   "source": [
    "import os\n",
    "# Create OpeneEye database\n",
    "def CreateMolDatabaseIndexFile(ifname):\n",
    "    idxfname = oechem.OEGetMolDatabaseIdxFileName(ifname)\n",
    "\n",
    "    if os.path.exists(idxfname):\n",
    "        oechem.OEThrow.Warning(\"%s index file already exists\" % idxfname)\n",
    "    elif not oechem. OECreateMolDatabaseIdx(ifname):\n",
    "        oechem.OEThrow.Warning(\"Unable to create %s molecule index file\", idxfname)"
   ]
  },
  {
   "cell_type": "code",
   "execution_count": 50,
   "metadata": {},
   "outputs": [
    {
     "name": "stdout",
     "output_type": "stream",
     "text": [
      "CPU times: user 2 µs, sys: 1 µs, total: 3 µs\n",
      "Wall time: 6.2 µs\n"
     ]
    }
   ],
   "source": [
    "%time\n",
    "CreateMolDatabaseIndexFile('/Users/chayastern/src/ChayaSt/torsionfit_examples/kinase_inhibitors/fragmentation/test.smi')"
   ]
  },
  {
   "cell_type": "code",
   "execution_count": 33,
   "metadata": {},
   "outputs": [
    {
     "data": {
      "text/plain": [
       "[<oechem.OEAtomBondSet; proxy of <Swig Object of type 'OEChem::OEAtomBondSet *' at 0x11b576cf0> >,\n",
       " <oechem.OEAtomBondSet; proxy of <Swig Object of type 'OEChem::OEAtomBondSet *' at 0x11b576ed0> >,\n",
       " <oechem.OEAtomBondSet; proxy of <Swig Object of type 'OEChem::OEAtomBondSet *' at 0x11b576ba0> >,\n",
       " <oechem.OEAtomBondSet; proxy of <Swig Object of type 'OEChem::OEAtomBondSet *' at 0x11b2a80f0> >,\n",
       " <oechem.OEAtomBondSet; proxy of <Swig Object of type 'OEChem::OEAtomBondSet *' at 0x11b2a8120> >,\n",
       " <oechem.OEAtomBondSet; proxy of <Swig Object of type 'OEChem::OEAtomBondSet *' at 0x11b2a80c0> >,\n",
       " <oechem.OEAtomBondSet; proxy of <Swig Object of type 'OEChem::OEAtomBondSet *' at 0x11b576330> >,\n",
       " <oechem.OEAtomBondSet; proxy of <Swig Object of type 'OEChem::OEAtomBondSet *' at 0x11b5763f0> >,\n",
       " <oechem.OEAtomBondSet; proxy of <Swig Object of type 'OEChem::OEAtomBondSet *' at 0x11b576480> >]"
      ]
     },
     "execution_count": 33,
     "metadata": {},
     "output_type": "execute_result"
    }
   ],
   "source": [
    "def sort_by_rotbond(ifs, ofs):\n",
    "    "
   ]
  },
  {
   "cell_type": "code",
   "execution_count": 7,
   "metadata": {},
   "outputs": [
    {
     "ename": "NameError",
     "evalue": "name 'combined_list' is not defined",
     "output_type": "error",
     "traceback": [
      "\u001b[0;31m---------------------------------------------------------------------------\u001b[0m",
      "\u001b[0;31mNameError\u001b[0m                                 Traceback (most recent call last)",
      "\u001b[0;32m<ipython-input-7-d328e8af6860>\u001b[0m in \u001b[0;36m<module>\u001b[0;34m()\u001b[0m\n\u001b[1;32m      1\u001b[0m \u001b[0;31m# Convert to smiles. This funciton removes redundant smiles\u001b[0m\u001b[0;34m\u001b[0m\u001b[0;34m\u001b[0m\u001b[0m\n\u001b[0;32m----> 2\u001b[0;31m \u001b[0msmiles\u001b[0m \u001b[0;34m=\u001b[0m \u001b[0mfragment\u001b[0m\u001b[0;34m.\u001b[0m\u001b[0mfrag_to_smiles\u001b[0m\u001b[0;34m(\u001b[0m\u001b[0mcombined_list\u001b[0m\u001b[0;34m,\u001b[0m \u001b[0mcharged\u001b[0m\u001b[0;34m)\u001b[0m\u001b[0;34m\u001b[0m\u001b[0m\n\u001b[0m",
      "\u001b[0;31mNameError\u001b[0m: name 'combined_list' is not defined"
     ]
    }
   ],
   "source": [
    "# Convert to smiles. This funciton removes redundant smiles\n",
    "smiles = fragment.frag_to_smiles(combined_list, charged)"
   ]
  },
  {
   "cell_type": "code",
   "execution_count": 15,
   "metadata": {},
   "outputs": [
    {
     "data": {
      "image/png": "[encoded data removed]",
      "text/plain": [
       "<IPython.core.display.Image object>"
      ]
     },
     "execution_count": 15,
     "metadata": {},
     "output_type": "execute_result"
    }
   ],
   "source": [
    "oenb.draw_smiles(list(smiles.keys())[0])"
   ]
  },
  {
   "cell_type": "code",
   "execution_count": 10,
   "metadata": {},
   "outputs": [
    {
     "data": {
      "image/png": "[encoded data removed]",
      "text/plain": [
       "<IPython.core.display.Image object>"
      ]
     },
     "execution_count": 10,
     "metadata": {},
     "output_type": "execute_result"
    }
   ],
   "source": [
    "oenb.draw_smiles(list(smiles.keys())[1])"
   ]
  },
  {
   "cell_type": "code",
   "execution_count": 11,
   "metadata": {},
   "outputs": [
    {
     "data": {
      "image/png": "[encoded data removed]",
      "text/plain": [
       "<IPython.core.display.Image object>"
      ]
     },
     "execution_count": 11,
     "metadata": {},
     "output_type": "execute_result"
    }
   ],
   "source": [
    "oenb.draw_smiles(list(smiles.keys())[2])"
   ]
  },
  {
   "cell_type": "code",
   "execution_count": 12,
   "metadata": {},
   "outputs": [
    {
     "data": {
      "image/png": "[encoded data removed]",
      "text/plain": [
       "<IPython.core.display.Image object>"
      ]
     },
     "execution_count": 12,
     "metadata": {},
     "output_type": "execute_result"
    }
   ],
   "source": [
    "oenb.draw_smiles(list(smiles.keys())[3])"
   ]
  },
  {
   "cell_type": "code",
   "execution_count": 13,
   "metadata": {},
   "outputs": [
    {
     "data": {
      "image/png": "[encoded data removed]",
      "text/plain": [
       "<IPython.core.display.Image object>"
      ]
     },
     "execution_count": 13,
     "metadata": {},
     "output_type": "execute_result"
    }
   ],
   "source": [
    "oenb.draw_smiles(list(smiles.keys())[4])"
   ]
  },
  {
   "cell_type": "code",
   "execution_count": 14,
   "metadata": {},
   "outputs": [
    {
     "data": {
      "image/png": "[encoded data removed]",
      "text/plain": [
       "<IPython.core.display.Image object>"
      ]
     },
     "execution_count": 14,
     "metadata": {},
     "output_type": "execute_result"
    }
   ],
   "source": [
    "oenb.draw_smiles(list(smiles.keys())[5])"
   ]
  },
  {
   "cell_type": "code",
   "execution_count": 98,
   "metadata": {},
   "outputs": [
    {
     "name": "stdout",
     "output_type": "stream",
     "text": [
      "5.93433015100365e-07\n",
      " 0 C  1 C  2 C 10 N\n",
      "-3.1415254319081467\n",
      " 0 C  1 C  2 C  3 C\n",
      "3.1115103674397786\n",
      "13 H  1 C  2 C 10 N\n",
      "-0.030015657906242034\n",
      "13 H  1 C  2 C  3 C\n"
     ]
    }
   ],
   "source": [
    "for tor in oechem.OEGetTorsions(test_mol):\n",
    "    print(tor.radians)\n",
    "    print(tor.a, tor.b, tor.c, tor.d) #, tor.b, tor.c, tor.d])"
   ]
  },
  {
   "cell_type": "code",
   "execution_count": 92,
   "metadata": {},
   "outputs": [],
   "source": [
    "test_mol = smiles_to_oemol(list(smiles.keys())[0])"
   ]
  },
  {
   "cell_type": "code",
   "execution_count": 93,
   "metadata": {},
   "outputs": [],
   "source": [
    "test_mol = get_charges(test_mol, keep_confs=1)"
   ]
  },
  {
   "cell_type": "code",
   "execution_count": 77,
   "metadata": {},
   "outputs": [
    {
     "name": "stdout",
     "output_type": "stream",
     "text": [
      " 0 (0C-1C)\n",
      "{'WibergBondOrder': 1.9162286520004272}\n",
      " 1 (1C-2C)\n",
      "{'WibergBondOrder': 1.0215425491333008}\n",
      " 2 (2C-10N)\n",
      "{'WibergBondOrder': 1.6145367622375488}\n",
      " 3 (2C-3C)\n",
      "{'WibergBondOrder': 1.1062740087509155}\n",
      " 4 (3C-8C)\n",
      "{'WibergBondOrder': 1.2886050939559937}\n",
      " 5 (3C-4C)\n",
      "{'WibergBondOrder': 1.3136489391326904}\n",
      " 6 (4C-5C)\n",
      "{'WibergBondOrder': 1.4944629669189453}\n",
      " 7 (5C-6C)\n",
      "{'WibergBondOrder': 1.330786108970642}\n",
      " 8 (6C-7C)\n",
      "{'WibergBondOrder': 1.499855875968933}\n",
      " 9 (7C-8C)\n",
      "{'WibergBondOrder': 1.2851083278656006}\n",
      "10 (8C-9N)\n",
      "{'WibergBondOrder': 1.106734037399292}\n",
      "11 (9N-10N)\n",
      "{'WibergBondOrder': 1.1383013725280762}\n",
      "12 (0C-11H)\n",
      "{'WibergBondOrder': 0.9581797122955322}\n",
      "13 (0C-12H)\n",
      "{'WibergBondOrder': 0.9543251395225525}\n",
      "14 (1C-13H)\n",
      "{'WibergBondOrder': 0.944911539554596}\n",
      "15 (4C-14H)\n",
      "{'WibergBondOrder': 0.9459644556045532}\n",
      "16 (5C-15H)\n",
      "{'WibergBondOrder': 0.9491660594940186}\n",
      "17 (6C-16H)\n",
      "{'WibergBondOrder': 0.9486057162284851}\n",
      "18 (7C-17H)\n",
      "{'WibergBondOrder': 0.9467200636863708}\n",
      "19 (9N-18H)\n",
      "{'WibergBondOrder': 0.8720473051071167}\n"
     ]
    }
   ],
   "source": [
    "for bond in test_mol.GetBonds():\n",
    "    print(bond)\n",
    "    print(bond.GetData())"
   ]
  },
  {
   "cell_type": "code",
   "execution_count": 76,
   "metadata": {},
   "outputs": [],
   "source": [
    "pdb = oechem.oemolostream('test.pdb')\n",
    "oechem.OEWritePDBFile(pdb, test_mol)"
   ]
  },
  {
   "cell_type": "code",
   "execution_count": 79,
   "metadata": {},
   "outputs": [],
   "source": [
    "def png_atoms_labeled(smiles, mol, fname):\n",
    "    #test_simple =\"c1cc(N)cc(S(=O)(=O)O)c1\"\n",
    "    mol = oechem.OEGraphMol()\n",
    "    oechem.OESmilesToMol(mol, smiles)\n",
    "    oedepict.OEPrepareDepiction(mol)\n",
    "\n",
    "    width, height = 300, 200\n",
    "\n",
    "    opts = oedepict.OE2DMolDisplayOptions(width, height, oedepict.OEScale_AutoScale)\n",
    "    opts.SetAtomPropertyFunctor(oedepict.OEDisplayAtomIdx())\n",
    "    opts.SetAtomPropLabelFont(oedepict.OEFont(oechem.OEDarkGreen))\n",
    "\n",
    "    disp = oedepict.OE2DMolDisplay(mol, opts)\n",
    "    return oedepict.OERenderMolecule(fname, disp)"
   ]
  },
  {
   "cell_type": "code",
   "execution_count": 81,
   "metadata": {},
   "outputs": [
    {
     "data": {
      "text/plain": [
       "True"
      ]
     },
     "execution_count": 81,
     "metadata": {},
     "output_type": "execute_result"
    }
   ],
   "source": [
    "png_atoms_labeled(list(smiles.keys())[0], test_mol, 'test.png')"
   ]
  },
  {
   "cell_type": "code",
   "execution_count": 22,
   "metadata": {
    "collapsed": true
   },
   "outputs": [],
   "source": [
    "beg = bond.GetBgn()\n",
    "end = bond.GetEnd()"
   ]
  },
  {
   "cell_type": "code",
   "execution_count": 24,
   "metadata": {
    "collapsed": true
   },
   "outputs": [],
   "source": [
    "atoms, bonds = fragment.iterate_nbratoms(charged, bond, beg, end, tagged_funcgroup, tagged_rings)"
   ]
  },
  {
   "cell_type": "code",
   "execution_count": 25,
   "metadata": {
    "collapsed": true
   },
   "outputs": [],
   "source": [
    "atoms2, bonds2 = fragment.iterate_nbratoms(charged, bond, end, beg, tagged_funcgroup, tagged_rings)"
   ]
  },
  {
   "cell_type": "code",
   "execution_count": 27,
   "metadata": {},
   "outputs": [
    {
     "data": {
      "text/plain": [
       "({0, 2}, {0, 1})"
      ]
     },
     "execution_count": 27,
     "metadata": {},
     "output_type": "execute_result"
    }
   ],
   "source": [
    "atoms, bonds"
   ]
  },
  {
   "cell_type": "code",
   "execution_count": 28,
   "metadata": {},
   "outputs": [
    {
     "data": {
      "text/plain": [
       "({4, 5, 6, 41, 42, 44}, {3, 4})"
      ]
     },
     "execution_count": 28,
     "metadata": {},
     "output_type": "execute_result"
    }
   ],
   "source": [
    "atoms2, bonds2"
   ]
  },
  {
   "cell_type": "code",
   "execution_count": 81,
   "metadata": {
    "collapsed": true
   },
   "outputs": [],
   "source": [
    "for k, mol in enumerate(confs.GetConfs()):\n",
    "        #if k == conformer:\n",
    "            # Standardize will override molecular properties(atom names etc.)\n",
    "            #if standardize:\n",
    "                #oechem.OEWriteMolecule(ofs, mol)\n",
    "            #else:\n",
    "    oechem.OEWriteMol2File(ofs, mol)"
   ]
  },
  {
   "cell_type": "code",
   "execution_count": 105,
   "metadata": {
    "collapsed": true
   },
   "outputs": [],
   "source": [
    "\n",
    "def molecule_to_mol2(molecule, tripos_mol2_filename=None, conformer=None, residue_name=\"MOL\", standardize=True):\n",
    "    \"\"\"Convert OE molecule to tripos mol2 file.\n",
    "    Parameters\n",
    "    ----------\n",
    "    molecule : openeye.oechem.OEGraphMol\n",
    "        The molecule to be converted.\n",
    "    tripos_mol2_filename : str, optional, default=None\n",
    "        Output filename.  If None, will create a filename similar to\n",
    "        name.tripos.mol2, where name is the name of the OE molecule.\n",
    "    conformer : int, optional, default=0\n",
    "        Save this frame\n",
    "    residue_name : str, optional, default=\"MOL\"\n",
    "        OpenEye writes mol2 files with <0> as the residue / ligand name.\n",
    "        This chokes many mol2 parsers, so we replace it with a string of\n",
    "        your choosing.\n",
    "    standardize: bool, optional, default=True\n",
    "        Use a high-level writer, which will standardize the molecular properties.\n",
    "        Set this to false if you wish to retain things such as atom names.\n",
    "        In this case, a low-level writer will be used.\n",
    "    Returns\n",
    "    -------\n",
    "    tripos_mol2_filename : str\n",
    "        Filename of output tripos mol2 file\n",
    "    \"\"\"\n",
    "\n",
    "    #oechem = import_(\"openeye.oechem\")\n",
    "    if not oechem.OEChemIsLicensed(): raise(ImportError(\"Need License for oechem!\"))\n",
    "\n",
    "    # Get molecule name.\n",
    "    molecule_name = molecule.GetTitle()\n",
    "    #logger.debug(molecule_name)\n",
    "\n",
    "    # Write molecule as Tripos mol2.\n",
    "    if tripos_mol2_filename is None:\n",
    "        tripos_mol2_filename = molecule_name + '.tripos.mol2'\n",
    "\n",
    "    ofs = oechem.oemolostream(tripos_mol2_filename)\n",
    "    ofs.SetFormat(oechem.OEFormat_MOL2H)\n",
    "    for k, mol in enumerate(molecule.GetConfs()):     \n",
    "        if k == conformer or not conformer:\n",
    "            # Standardize will override molecular properties(atom names etc.)\n",
    "            if standardize:\n",
    "                oechem.OEWriteMolecule(ofs, mol)\n",
    "            else:\n",
    "                oechem.OEWriteMol2File(ofs, mol)\n",
    "\n",
    "    ofs.close()\n",
    "\n",
    "    # Replace <0> substructure names with valid text.\n",
    "    infile = open(tripos_mol2_filename, 'r')\n",
    "    lines = infile.readlines()\n",
    "    infile.close()\n",
    "    newlines = [line.replace('<0>', residue_name) for line in lines]\n",
    "    outfile = open(tripos_mol2_filename, 'w')\n",
    "    outfile.writelines(newlines)\n",
    "    outfile.close()\n",
    "\n",
    "    return molecule_name, tripos_mol2_filename"
   ]
  },
  {
   "cell_type": "code",
   "execution_count": 106,
   "metadata": {},
   "outputs": [
    {
     "data": {
      "text/plain": [
       "('~{N}-[5-[(4-ethylpiperazin-1-yl)methyl]-2-pyridyl]-5-fluoro-4-(7-fluoro-3-isopropyl-2-methyl-benzimidazol-5-yl)pyrimidin-2-amine',\n",
       " 'Abemaciclib.mol2')"
      ]
     },
     "execution_count": 106,
     "metadata": {},
     "output_type": "execute_result"
    }
   ],
   "source": [
    "molecule_to_mol2(confs, tripos_mol2_filename='Abemaciclib.mol2')"
   ]
  },
  {
   "cell_type": "code",
   "execution_count": 66,
   "metadata": {},
   "outputs": [
    {
     "name": "stdout",
     "output_type": "stream",
     "text": [
      "70.9164810180664\n",
      "71.04487609863281\n",
      "71.12257385253906\n",
      "71.21248626708984\n",
      "71.34494018554688\n",
      "71.39234924316406\n",
      "71.43254089355469\n",
      "71.47809600830078\n",
      "72.129638671875\n",
      "72.18033599853516\n",
      "73.14907836914062\n",
      "73.16320037841797\n",
      "73.23426818847656\n",
      "73.37040710449219\n",
      "73.47356414794922\n",
      "73.52058410644531\n",
      "73.57728576660156\n",
      "73.62266540527344\n",
      "73.73136138916016\n",
      "73.89340209960938\n",
      "74.07957458496094\n",
      "74.13300323486328\n",
      "74.17097473144531\n",
      "74.4837646484375\n",
      "74.50871276855469\n",
      "74.60845947265625\n",
      "74.65203094482422\n",
      "74.84722137451172\n",
      "74.97966766357422\n",
      "75.09771728515625\n",
      "75.10416412353516\n",
      "75.13105773925781\n",
      "75.32039642333984\n",
      "75.3349838256836\n",
      "75.37811279296875\n",
      "75.38319396972656\n",
      "75.57232666015625\n",
      "75.576904296875\n",
      "75.84466552734375\n",
      "76.46653747558594\n",
      "76.47420501708984\n",
      "76.67639923095703\n",
      "76.83241271972656\n",
      "76.84050750732422\n",
      "76.9266357421875\n",
      "77.13799285888672\n",
      "77.2746810913086\n",
      "77.3985366821289\n",
      "77.4027099609375\n",
      "77.41227722167969\n",
      "77.57379150390625\n",
      "77.71334075927734\n",
      "77.82658386230469\n",
      "77.90534973144531\n",
      "77.9201431274414\n",
      "77.94947052001953\n",
      "77.95166015625\n",
      "77.97063446044922\n",
      "78.03478240966797\n",
      "78.17784118652344\n",
      "78.22479248046875\n",
      "78.31105041503906\n",
      "78.71704864501953\n",
      "78.87954711914062\n",
      "79.32392120361328\n",
      "79.38802337646484\n",
      "79.49405670166016\n",
      "79.79431915283203\n",
      "79.8033676147461\n",
      "79.93456268310547\n",
      "80.08573913574219\n",
      "80.33768463134766\n",
      "80.46880340576172\n",
      "80.59075927734375\n",
      "80.65343475341797\n",
      "81.27427673339844\n",
      "81.31438446044922\n",
      "81.66474151611328\n",
      "81.92272186279297\n",
      "83.00121307373047\n",
      "83.32630157470703\n",
      "83.8282470703125\n",
      "84.2121810913086\n"
     ]
    }
   ],
   "source": [
    "for conf in confs.GetConfs():\n",
    "    print(conf.GetEnergy())"
   ]
  },
  {
   "cell_type": "code",
   "execution_count": 102,
   "metadata": {
    "collapsed": true
   },
   "outputs": [],
   "source": [
    "test = None"
   ]
  },
  {
   "cell_type": "code",
   "execution_count": 104,
   "metadata": {},
   "outputs": [
    {
     "name": "stdout",
     "output_type": "stream",
     "text": [
      "test\n"
     ]
    }
   ],
   "source": [
    "if not test or test==0:\n",
    "    print('test')"
   ]
  },
  {
   "cell_type": "code",
   "execution_count": 46,
   "metadata": {
    "collapsed": true
   },
   "outputs": [],
   "source": [
    "def png_atoms_labeled(smiles, mol, fname):\n",
    "    #test_simple =\"c1cc(N)cc(S(=O)(=O)O)c1\"\n",
    "    mol = oechem.OEGraphMol()\n",
    "    oechem.OESmilesToMol(mol, smiles)\n",
    "    oedepict.OEPrepareDepiction(mol)\n",
    "\n",
    "    width, height = 600, 400\n",
    "\n",
    "    opts = oedepict.OE2DMolDisplayOptions(width, height, oedepict.OEScale_AutoScale)\n",
    "    opts.SetBondPropertyFunctor(oedepict.OEDisplayBondIdx())\n",
    "    opts.SetBondPropLabelFont(oedepict.OEFont(oechem.OEDarkGreen))\n",
    "\n",
    "    disp = oedepict.OE2DMolDisplay(mol, opts)\n",
    "    return oedepict.OERenderMolecule(fname, disp)"
   ]
  },
  {
   "cell_type": "code",
   "execution_count": 47,
   "metadata": {},
   "outputs": [
    {
     "data": {
      "text/plain": [
       "True"
      ]
     },
     "execution_count": 47,
     "metadata": {},
     "output_type": "execute_result"
    }
   ],
   "source": [
    "png_atoms_labeled(df.smiles.values[0], mol, 'afatinib_bidx.png')"
   ]
  },
  {
   "cell_type": "code",
   "execution_count": 48,
   "metadata": {
    "collapsed": true
   },
   "outputs": [],
   "source": [
    "rot_bond = charged.GetBond(oechem.OEHasBondIdx(8))"
   ]
  },
  {
   "cell_type": "code",
   "execution_count": 50,
   "metadata": {},
   "outputs": [
    {
     "name": "stdout",
     "output_type": "stream",
     "text": [
      " 8 (8N-9C)\n"
     ]
    }
   ],
   "source": [
    "print(rot_bond)\n"
   ]
  },
  {
   "cell_type": "code",
   "execution_count": 60,
   "metadata": {
    "collapsed": true
   },
   "outputs": [],
   "source": [
    "ortho_bond = charged.GetBond(oechem.OEHasBondIdx(30))"
   ]
  },
  {
   "cell_type": "code",
   "execution_count": 61,
   "metadata": {},
   "outputs": [
    {
     "name": "stdout",
     "output_type": "stream",
     "text": [
      "30 (10C-28O)\n"
     ]
    }
   ],
   "source": [
    "print(ortho_bond)"
   ]
  },
  {
   "cell_type": "code",
   "execution_count": 64,
   "metadata": {
    "collapsed": true
   },
   "outputs": [],
   "source": [
    "next_bond = charged.GetBond(oechem.OEHasBondIdx(9))"
   ]
  },
  {
   "cell_type": "code",
   "execution_count": 65,
   "metadata": {},
   "outputs": [
    {
     "data": {
      "text/plain": [
       "True"
      ]
     },
     "execution_count": 65,
     "metadata": {},
     "output_type": "execute_result"
    }
   ],
   "source": [
    "fragment._is_ortho(rot_bond=rot_bond, next_bond=next_bond, bond=ortho_bond)"
   ]
  },
  {
   "cell_type": "code",
   "execution_count": null,
   "metadata": {
    "collapsed": true
   },
   "outputs": [],
   "source": [
    "mol = smiles_to_oemol(inhibitor['smiles'])\n",
    "charged, frags = fragment.generate_fragments(mol)"
   ]
  },
  {
   "cell_type": "code",
   "execution_count": null,
   "metadata": {
    "collapsed": true
   },
   "outputs": [],
   "source": []
  }
 ],
 "metadata": {
  "kernelspec": {
   "display_name": "Python 3",
   "language": "python",
   "name": "python3"
  },
  "language_info": {
   "codemirror_mode": {
    "name": "ipython",
    "version": 3
   },
   "file_extension": ".py",
   "mimetype": "text/x-python",
   "name": "python",
   "nbconvert_exporter": "python",
   "pygments_lexer": "ipython3",
   "version": "3.6.1"
  }
 },
 "nbformat": 4,
 "nbformat_minor": 2
}
