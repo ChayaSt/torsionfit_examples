{
 "cells": [
  {
   "cell_type": "code",
   "execution_count": 1,
   "metadata": {},
   "outputs": [],
   "source": [
    "from openeye import oechem, oedepict\n",
    "from fragmenter import utils\n",
    "import json\n",
    "import numpy as np\n",
    "from openmoltools import openeye\n",
    "import itertools"
   ]
  },
  {
   "cell_type": "code",
   "execution_count": 2,
   "metadata": {},
   "outputs": [
    {
     "name": "stderr",
     "output_type": "stream",
     "text": [
      "/Users/chayastern/anaconda/lib/python3.6/site-packages/ipykernel_launcher.py:1: ResourceWarning: unclosed file <_io.TextIOWrapper name='Axitinib/Axitinib_0.output.json' mode='r' encoding='UTF-8'>\n",
      "  \"\"\"Entry point for launching an IPython kernel.\n"
     ]
    }
   ],
   "source": [
    "data = json.load(open('Axitinib/Axitinib_0.output.json'))"
   ]
  },
  {
   "cell_type": "code",
   "execution_count": 3,
   "metadata": {},
   "outputs": [],
   "source": [
    "output = data['raw_output']"
   ]
  },
  {
   "cell_type": "code",
   "execution_count": 4,
   "metadata": {},
   "outputs": [],
   "source": [
    "bond_orders = utils.bond_order_from_psi4_raw_output(output)"
   ]
  },
  {
   "cell_type": "code",
   "execution_count": 5,
   "metadata": {},
   "outputs": [],
   "source": [
    "molecule, atom_map = utils.get_atom_map(data['tagged_smiles'])"
   ]
  },
  {
   "cell_type": "code",
   "execution_count": 6,
   "metadata": {},
   "outputs": [],
   "source": [
    "utils.bond_order_tag(molecule, atom_map, bond_orders)\n",
    "molecule = openeye.get_charges(molecule)"
   ]
  },
  {
   "cell_type": "code",
   "execution_count": 7,
   "metadata": {},
   "outputs": [
    {
     "name": "stdout",
     "output_type": "stream",
     "text": [
      " 0 (0H-1C)\n",
      "{'Wiberg_psi': 0.93827807729774, 'Mayer_psi': 0.99941957407841, 'WibergBondOrder': 0.9485668540000916}\n",
      " 1 (1C-6C)\n",
      "{'Wiberg_psi': 1.45391267510453, 'Mayer_psi': 1.40818868681112, 'WibergBondOrder': 1.4330012798309326}\n",
      " 2 (1C-2C)\n",
      "{'Wiberg_psi': 1.46612044428774, 'Mayer_psi': 1.41739520939466, 'WibergBondOrder': 1.3897281885147095}\n",
      " 3 (2C-3C)\n",
      "{'Wiberg_psi': 1.45660893312112, 'Mayer_psi': 1.41550732873044, 'WibergBondOrder': 1.445576548576355}\n",
      " 4 (3C-4C)\n",
      "{'Wiberg_psi': 1.45716048400771, 'Mayer_psi': 1.43740736385553, 'WibergBondOrder': 1.3598827123641968}\n",
      " 5 (4C-5C)\n",
      "{'Wiberg_psi': 1.39413730639991, 'Mayer_psi': 1.44151644930218, 'WibergBondOrder': 1.366073727607727}\n",
      " 6 (5C-6C)\n",
      "{'Wiberg_psi': 1.42389689780837, 'Mayer_psi': 1.44503012362801, 'WibergBondOrder': 1.3835772275924683}\n",
      " 7 (6C-7H)\n",
      "{'Wiberg_psi': 0.93340372766215, 'Mayer_psi': 1.00253283427517, 'WibergBondOrder': 0.9467569589614868}\n",
      " 8 (5C-8C)\n",
      "{'Wiberg_psi': 1.02343921276993, 'Mayer_psi': 0.92514527478792, 'WibergBondOrder': 0.9152997136116028}\n",
      " 9 (8C-9O)\n",
      "{'Wiberg_psi': 2.07647904132786, 'Mayer_psi': 1.94158979258111, 'WibergBondOrder': 1.767446756362915}\n",
      "10 (8C-10N)\n",
      "{'Wiberg_psi': 1.29616443515057, 'Mayer_psi': 1.15199174581054, 'WibergBondOrder': 1.091444969177246}\n",
      "11 (10N-11H)\n",
      "{'Wiberg_psi': 1.00224433916848, 'Mayer_psi': 0.94048778657382, 'WibergBondOrder': 0.8984431028366089}\n",
      "12 (10N-12C)\n",
      "{'Wiberg_psi': 1.05651772838208, 'Mayer_psi': 0.88783315614913, 'WibergBondOrder': 0.9555690884590149}\n",
      "13 (12C-13H)\n",
      "{'Wiberg_psi': 0.96975066439955, 'Mayer_psi': 0.99274058005165, 'WibergBondOrder': 0.9592172503471375}\n",
      "14 (12C-14H)\n",
      "{'Wiberg_psi': 0.97003147525752, 'Mayer_psi': 0.99209903477358, 'WibergBondOrder': 0.9659414291381836}\n",
      "15 (12C-15H)\n",
      "{'Wiberg_psi': 0.96420434704297, 'Mayer_psi': 0.98438172763213, 'WibergBondOrder': 0.9632217288017273}\n",
      "16 (4C-16S)\n",
      "{'Wiberg_psi': 1.11729893761459, 'Mayer_psi': 0.98709527568595, 'WibergBondOrder': 1.0163882970809937}\n",
      "17 (16S-17C)\n",
      "{'Wiberg_psi': 1.11918688767834, 'Mayer_psi': 1.00475616702845, 'WibergBondOrder': 0.9955127239227295}\n",
      "18 (17C-22C)\n",
      "{'Wiberg_psi': 1.51766135121149, 'Mayer_psi': 1.49496155173506, 'WibergBondOrder': 1.4732601642608643}\n",
      "19 (17C-18C)\n",
      "{'Wiberg_psi': 1.36690288565981, 'Mayer_psi': 1.29298716465529, 'WibergBondOrder': 1.2899117469787598}\n",
      "20 (18C-19C)\n",
      "{'Wiberg_psi': 1.54627136159483, 'Mayer_psi': 1.54443293070574, 'WibergBondOrder': 1.5169181823730469}\n",
      "21 (19C-20C)\n",
      "{'Wiberg_psi': 1.31498804144821, 'Mayer_psi': 1.27494185297529, 'WibergBondOrder': 1.2951098680496216}\n",
      "22 (20C-26C)\n",
      "{'Wiberg_psi': 1.19016909967624, 'Mayer_psi': 1.17706943124482, 'WibergBondOrder': 1.120755910873413}\n",
      "23 (20C-21C)\n",
      "{'Wiberg_psi': 1.29564514998054, 'Mayer_psi': 1.34182439496597, 'WibergBondOrder': 1.2838696241378784}\n",
      "24 (21C-22C)\n",
      "{'Wiberg_psi': 1.33077603769819, 'Mayer_psi': 1.27549088468742, 'WibergBondOrder': 1.2812473773956299}\n",
      "25 (22C-23H)\n",
      "{'Wiberg_psi': 0.93370243088954, 'Mayer_psi': 1.02007529270098, 'WibergBondOrder': 0.9424744248390198}\n",
      "26 (21C-24N)\n",
      "{'Wiberg_psi': 1.24402809891385, 'Mayer_psi': 1.07032005048726, 'WibergBondOrder': 1.1112419366836548}\n",
      "27 (24N-25N)\n",
      "{'Wiberg_psi': 1.30930970373226, 'Mayer_psi': 1.10717226131234, 'WibergBondOrder': 1.1613688468933105}\n",
      "28 (25N-26C)\n",
      "{'Wiberg_psi': 1.70592409458942, 'Mayer_psi': 1.65301431481217, 'WibergBondOrder': 1.5843873023986816}\n",
      "29 (26C-27C)\n",
      "{'Wiberg_psi': 1.13817994484505, 'Mayer_psi': 1.0740840950598, 'WibergBondOrder': 1.0307520627975464}\n",
      "30 (27C-28C)\n",
      "{'Wiberg_psi': 1.81077966868194, 'Mayer_psi': 1.86672629525299, 'WibergBondOrder': 1.8422378301620483}\n",
      "31 (28C-29H)\n",
      "{'Wiberg_psi': 0.93515872748696, 'Mayer_psi': 0.98930919341719, 'WibergBondOrder': 0.9380424618721008}\n",
      "32 (28C-30C)\n",
      "{'Wiberg_psi': 1.09654277625222, 'Mayer_psi': 1.04698298917245, 'WibergBondOrder': 1.0104377269744873}\n",
      "33 (30C-35N)\n",
      "{'Wiberg_psi': 1.51708856240057, 'Mayer_psi': 1.44861109630457, 'WibergBondOrder': 1.3649439811706543}\n",
      "34 (30C-31C)\n",
      "{'Wiberg_psi': 1.41416602722073, 'Mayer_psi': 1.37357747717884, 'WibergBondOrder': 1.368504524230957}\n",
      "35 (31C-32C)\n",
      "{'Wiberg_psi': 1.46598461015655, 'Mayer_psi': 1.43706920622906, 'WibergBondOrder': 1.4113869667053223}\n",
      "36 (32C-33C)\n",
      "{'Wiberg_psi': 1.45608752605147, 'Mayer_psi': 1.42097325605777, 'WibergBondOrder': 1.4411569833755493}\n",
      "37 (33C-34C)\n",
      "{'Wiberg_psi': 1.46668580403909, 'Mayer_psi': 1.39290036405455, 'WibergBondOrder': 1.352098822593689}\n",
      "38 (34C-35N)\n",
      "{'Wiberg_psi': 1.59197268444118, 'Mayer_psi': 1.47701665947352, 'WibergBondOrder': 1.4717203378677368}\n",
      "39 (34C-36H)\n",
      "{'Wiberg_psi': 0.94577635144267, 'Mayer_psi': 0.99999308686951, 'WibergBondOrder': 0.93161940574646}\n",
      "40 (33C-37H)\n",
      "{'Wiberg_psi': 0.93873340358965, 'Mayer_psi': 0.99131629196265, 'WibergBondOrder': 0.9473742246627808}\n",
      "41 (32C-38H)\n",
      "{'Wiberg_psi': 0.93635763091287, 'Mayer_psi': 0.99206117383283, 'WibergBondOrder': 0.947856068611145}\n",
      "42 (31C-39H)\n",
      "{'Wiberg_psi': 0.93387944754573, 'Mayer_psi': 0.99177158106315, 'WibergBondOrder': 0.9462756514549255}\n",
      "43 (27C-40H)\n",
      "{'Wiberg_psi': 0.91978095560938, 'Mayer_psi': 0.96716933313574, 'WibergBondOrder': 0.9436677098274231}\n",
      "44 (24N-41H)\n",
      "{'Wiberg_psi': 0.99238473759855, 'Mayer_psi': 0.95146119732081, 'WibergBondOrder': 0.8675545454025269}\n",
      "45 (19C-42H)\n",
      "{'Wiberg_psi': 0.93681692939047, 'Mayer_psi': 1.00269184688725, 'WibergBondOrder': 0.9444716572761536}\n",
      "46 (18C-43H)\n",
      "{'Wiberg_psi': 0.93653691633094, 'Mayer_psi': 0.99923380674629, 'WibergBondOrder': 0.9434219598770142}\n",
      "47 (3C-44H)\n",
      "{'Wiberg_psi': 0.93455701358896, 'Mayer_psi': 1.00114897502901, 'WibergBondOrder': 0.9435611367225647}\n",
      "48 (2C-45H)\n",
      "{'Wiberg_psi': 0.9383936585592, 'Mayer_psi': 1.00072082962626, 'WibergBondOrder': 0.9475769400596619}\n"
     ]
    }
   ],
   "source": [
    "for bond in molecule.GetBonds():\n",
    "    print(bond)\n",
    "    print(bond.GetData())"
   ]
  },
  {
   "cell_type": "code",
   "execution_count": 8,
   "metadata": {},
   "outputs": [
    {
     "name": "stdout",
     "output_type": "stream",
     "text": [
      "<class 'fragmenter.utils.LabelWibergBondOrder'>\n"
     ]
    },
    {
     "data": {
      "text/plain": [
       "True"
      ]
     },
     "execution_count": 8,
     "metadata": {},
     "output_type": "execute_result"
    }
   ],
   "source": [
    "utils.png_bond_labels(molecule, 'Axitinib/Axitinib_0_wiberg_new.png')"
   ]
  },
  {
   "cell_type": "code",
   "execution_count": 9,
   "metadata": {},
   "outputs": [
    {
     "name": "stdout",
     "output_type": "stream",
     "text": [
      "<class 'fragmenter.utils.LabelWibergPsiBondOrder'>\n"
     ]
    },
    {
     "data": {
      "text/plain": [
       "True"
      ]
     },
     "execution_count": 9,
     "metadata": {},
     "output_type": "execute_result"
    }
   ],
   "source": [
    "utils.png_bond_labels(molecule, 'Axitinib/Axitinib_0_wiberg_psi_new.png', label='Wiberg_psi4')"
   ]
  },
  {
   "cell_type": "code",
   "execution_count": 10,
   "metadata": {},
   "outputs": [
    {
     "name": "stdout",
     "output_type": "stream",
     "text": [
      "<class 'fragmenter.utils.LabelMayerPsiBondOrder'>\n"
     ]
    },
    {
     "data": {
      "text/plain": [
       "True"
      ]
     },
     "execution_count": 10,
     "metadata": {},
     "output_type": "execute_result"
    }
   ],
   "source": [
    "utils.png_bond_labels(molecule, 'Axitinib/Axitinib_0_mayer_psi_new.png', label='Mayer_psi4')"
   ]
  },
  {
   "cell_type": "code",
   "execution_count": null,
   "metadata": {
    "collapsed": true
   },
   "outputs": [],
   "source": []
  }
 ],
 "metadata": {
  "kernelspec": {
   "display_name": "Python 3",
   "language": "python",
   "name": "python3"
  },
  "language_info": {
   "codemirror_mode": {
    "name": "ipython",
    "version": 3
   },
   "file_extension": ".py",
   "mimetype": "text/x-python",
   "name": "python",
   "nbconvert_exporter": "python",
   "pygments_lexer": "ipython3",
   "version": "3.6.1"
  }
 },
 "nbformat": 4,
 "nbformat_minor": 2
}
