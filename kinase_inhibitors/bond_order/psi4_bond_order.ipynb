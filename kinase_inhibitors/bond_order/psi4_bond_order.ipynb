{
 "cells": [
  {
   "cell_type": "code",
   "execution_count": 1,
   "metadata": {},
   "outputs": [],
   "source": [
    "from openeye import oechem, oedepict\n",
    "from fragmenter import utils\n",
    "import json\n",
    "import numpy as np"
   ]
  },
  {
   "cell_type": "code",
   "execution_count": 2,
   "metadata": {},
   "outputs": [
    {
     "name": "stderr",
     "output_type": "stream",
     "text": [
      "/Users/chayastern/anaconda/lib/python3.6/site-packages/ipykernel_launcher.py:1: ResourceWarning: unclosed file <_io.TextIOWrapper name='Axitinib/Axitinib_0.output.json' mode='r' encoding='UTF-8'>\n",
      "  \"\"\"Entry point for launching an IPython kernel.\n"
     ]
    }
   ],
   "source": [
    "data = json.load(open('Axitinib/Axitinib_0.output.json'))"
   ]
  },
  {
   "cell_type": "code",
   "execution_count": 3,
   "metadata": {},
   "outputs": [],
   "source": [
    "output = data['raw_output']"
   ]
  },
  {
   "cell_type": "code",
   "execution_count": 4,
   "metadata": {},
   "outputs": [
    {
     "name": "stdout",
     "output_type": "stream",
     "text": [
      "  Mayer Bond Indices:\n",
      "(46, 46)\n",
      "  Wiberg Bond Indices using Orthogonal Lowdin Orbitals:\n",
      "(46, 46)\n"
     ]
    }
   ],
   "source": [
    "Wiberg = []\n",
    "Mayer = []\n",
    "FLAG = None\n",
    "for line in output.split('\\n'):\n",
    "    if not line:\n",
    "        continue\n",
    "    if 'Mayer' in line:\n",
    "        print(line)\n",
    "        FLAG = 'Mayer'\n",
    "    if 'Wiberg' in line:\n",
    "        print(line)\n",
    "        FLAG = 'Wiberg'\n",
    "    if 'Size' in line:\n",
    "        size = line.split()\n",
    "        size = int(size[3]), int(size[-1])\n",
    "        print(size)\n",
    "    if FLAG is 'Mayer':\n",
    "        Mayer.append(line.split())\n",
    "    if FLAG is 'Wiberg':\n",
    "        Wiberg.append(line.split())\n",
    "    "
   ]
  },
  {
   "cell_type": "code",
   "execution_count": 5,
   "metadata": {},
   "outputs": [],
   "source": [
    "Wiberg_array = np.zeros(size)"
   ]
  },
  {
   "cell_type": "code",
   "execution_count": 6,
   "metadata": {},
   "outputs": [],
   "source": [
    "for i, line in enumerate(Wiberg[2:]):\n",
    "    if i == 0:\n",
    "        elements = line\n",
    "        continue\n",
    "    if not i%float(size[0]+1) and i<((float(size[0]+1))*float((size[0]/5))):\n",
    "        #print(i)\n",
    "        if len(line) !=5:\n",
    "            if str(size[0]) in line:\n",
    "                elements = line\n",
    "            continue\n",
    "        elements = line\n",
    "        continue\n",
    "    j = line[0]\n",
    "    for k, bo in enumerate(line[1:]):\n",
    "        try:\n",
    "            Wiberg_array[int(elements[k])-1][int(j)-1] = bo\n",
    "        except (ValueError, IndexError):\n",
    "            pass\n"
   ]
  },
  {
   "cell_type": "code",
   "execution_count": 7,
   "metadata": {},
   "outputs": [
    {
     "data": {
      "text/plain": [
       "array([[  0.00000000e+00,   1.05651773e+00,   6.01844252e-02, ...,\n",
       "          2.37600000e-10,   1.54357100e-08,   9.50800000e-10],\n",
       "       [  1.05651773e+00,   0.00000000e+00,   1.29616444e+00, ...,\n",
       "          1.29320000e-09,   1.13507300e-08,   2.68967000e-09],\n",
       "       [  6.01844252e-02,   1.29616444e+00,   0.00000000e+00, ...,\n",
       "          1.64417000e-09,   3.18443500e-08,   5.61170000e-10],\n",
       "       ..., \n",
       "       [  2.37600000e-10,   1.29320000e-09,   1.64417000e-09, ...,\n",
       "          0.00000000e+00,   4.62477751e-03,   7.95054679e-04],\n",
       "       [  1.54357100e-08,   1.13507300e-08,   3.18443500e-08, ...,\n",
       "          4.62477751e-03,   0.00000000e+00,   4.27097027e-03],\n",
       "       [  9.50800000e-10,   2.68967000e-09,   5.61170000e-10, ...,\n",
       "          7.95054679e-04,   4.27097027e-03,   0.00000000e+00]])"
      ]
     },
     "execution_count": 7,
     "metadata": {},
     "output_type": "execute_result"
    }
   ],
   "source": [
    "#Check if there's a bond between 2 atoms that have tags equal to indices+1 in Wiberg array\n",
    "# Add bond property, psi4_wiberg, Mayer. Then generate figure"
   ]
  },
  {
   "cell_type": "code",
   "execution_count": null,
   "metadata": {
    "collapsed": true
   },
   "outputs": [],
   "source": []
  }
 ],
 "metadata": {
  "kernelspec": {
   "display_name": "Python 3",
   "language": "python",
   "name": "python3"
  },
  "language_info": {
   "codemirror_mode": {
    "name": "ipython",
    "version": 3
   },
   "file_extension": ".py",
   "mimetype": "text/x-python",
   "name": "python",
   "nbconvert_exporter": "python",
   "pygments_lexer": "ipython3",
   "version": "3.6.1"
  }
 },
 "nbformat": 4,
 "nbformat_minor": 2
}
