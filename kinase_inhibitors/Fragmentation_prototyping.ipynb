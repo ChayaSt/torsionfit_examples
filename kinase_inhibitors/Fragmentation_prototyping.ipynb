{
 "cells": [
  {
   "cell_type": "code",
   "execution_count": 497,
   "metadata": {},
   "outputs": [],
   "source": [
    "from openeye import oechem, oedepict, oeomega, oequacpac, oemedchem\n",
    "from IPython.display import display\n",
    "import pandas as pd\n",
    "import oenotebook as oenb\n",
    "from openmoltools.openeye import get_charges\n",
    "from openmoltools import openeye\n",
    "from torsionfit.qmscan.enumfrags2pdf import *"
   ]
  },
  {
   "cell_type": "code",
   "execution_count": 2,
   "metadata": {},
   "outputs": [
    {
     "data": {
      "image/png": "[encoded data removed]",
      "text/plain": [
       "<IPython.core.display.Image object>"
      ]
     },
     "execution_count": 2,
     "metadata": {},
     "output_type": "execute_result"
    }
   ],
   "source": [
    "test_simple = 'C[C@@H](c1ccc(c(c1)F)c2ccccc2)C(=O)O'\n",
    "oenb.draw_smiles(test_simple)"
   ]
  },
  {
   "cell_type": "code",
   "execution_count": 3,
   "metadata": {},
   "outputs": [
    {
     "name": "stdout",
     "output_type": "stream",
     "text": [
      "Warning: OEAssignPartialCharges has been deprecated please use OEAssignCharges instead!\n",
      "Warning: SelectElfDiverseConfs: elfPop.NumConfs 1 <= elfLimit 1\n"
     ]
    }
   ],
   "source": [
    "# Charge molecule. This takes some time\n",
    "mol = oechem.OEGraphMol()\n",
    "simple_oemol = openeye.smiles_to_oemol(test_simple)\n",
    "charged = get_charges(simple_oemol, keep_confs=1)"
   ]
  },
  {
   "cell_type": "code",
   "execution_count": 4,
   "metadata": {},
   "outputs": [
    {
     "data": {
      "text/plain": [
       "'(2~{S})-2-(3-fluoro-4-phenyl-phenyl)propanoic acid'"
      ]
     },
     "execution_count": 4,
     "metadata": {},
     "output_type": "execute_result"
    }
   ],
   "source": [
    "simple_oemol.GetTitle()"
   ]
  },
  {
   "cell_type": "code",
   "execution_count": 7,
   "metadata": {},
   "outputs": [
    {
     "name": "stdout",
     "output_type": "stream",
     "text": [
      "1 0.9790348410606384\n",
      "1 0.9409083127975464\n",
      "1 0.9733465313911438\n",
      "2 1.4091099500656128\n",
      "1 1.385242223739624\n",
      "2 1.4288681745529175\n",
      "1 1.3877619504928589\n",
      "2 1.3378217220306396\n",
      "1 1.3656305074691772\n",
      "1 1.0218538045883179\n",
      "1 0.9945589900016785\n",
      "2 1.3885419368743896\n",
      "1 1.386399507522583\n",
      "2 1.4249420166015625\n",
      "1 1.4112540483474731\n",
      "2 1.4153481721878052\n",
      "1 1.4218850135803223\n",
      "1 0.9123947620391846\n",
      "2 1.8066850900650024\n",
      "1 1.043837070465088\n",
      "1 0.9746313691139221\n",
      "1 0.97335284948349\n",
      "1 0.9708201885223389\n",
      "1 0.9463828206062317\n",
      "1 0.945492684841156\n",
      "1 0.944377601146698\n",
      "1 0.9471958875656128\n",
      "1 0.9485974907875061\n",
      "1 0.9498156905174255\n",
      "1 0.9491798281669617\n",
      "1 0.9483686685562134\n",
      "1 0.9093071222305298\n"
     ]
    }
   ],
   "source": [
    "# Calculate Wiberg bond order. First get all bonds\n",
    "for bond in charged.GetBonds():\n",
    "    print(bond.GetOrder(), end= \" \")\n",
    "    print(bond.GetData(\"WibergBondOrder\"))"
   ]
  },
  {
   "cell_type": "code",
   "execution_count": 9,
   "metadata": {},
   "outputs": [],
   "source": [
    "def MyGetExplicitDegree(atom):\n",
    "    result = 0\n",
    "    for bond in atom.GetBonds():\n",
    "        result += 1\n",
    "    return result"
   ]
  },
  {
   "cell_type": "code",
   "execution_count": 10,
   "metadata": {},
   "outputs": [
    {
     "name": "stdout",
     "output_type": "stream",
     "text": [
      "Atom 0 has degree 4 C1\n",
      "Atom 1 has degree 4 C2\n",
      "Atom 2 has degree 1 H1\n",
      "Atom 3 has degree 3 C3\n",
      "Atom 4 has degree 3 C4\n",
      "Atom 5 has degree 3 C5\n",
      "Atom 6 has degree 3 C6\n",
      "Atom 7 has degree 3 C7\n",
      "Atom 8 has degree 3 C8\n",
      "Atom 9 has degree 1 F1\n",
      "Atom 10 has degree 3 C9\n",
      "Atom 11 has degree 3 C10\n",
      "Atom 12 has degree 3 C11\n",
      "Atom 13 has degree 3 C12\n",
      "Atom 14 has degree 3 C13\n",
      "Atom 15 has degree 3 C14\n",
      "Atom 16 has degree 3 C15\n",
      "Atom 17 has degree 1 O1\n",
      "Atom 18 has degree 2 O2\n",
      "Atom 19 has degree 1 H2\n",
      "Atom 20 has degree 1 H3\n",
      "Atom 21 has degree 1 H4\n",
      "Atom 22 has degree 1 H5\n",
      "Atom 23 has degree 1 H6\n",
      "Atom 24 has degree 1 H7\n",
      "Atom 25 has degree 1 H8\n",
      "Atom 26 has degree 1 H9\n",
      "Atom 27 has degree 1 H10\n",
      "Atom 28 has degree 1 H11\n",
      "Atom 29 has degree 1 H12\n",
      "Atom 30 has degree 1 H13\n"
     ]
    }
   ],
   "source": [
    "for atom in charged.GetAtoms():\n",
    "    print(\"Atom\", atom.GetIdx(), \"has degree\", MyGetExplicitDegree(atom), atom.GetName())"
   ]
  },
  {
   "cell_type": "code",
   "execution_count": 11,
   "metadata": {},
   "outputs": [
    {
     "name": "stdout",
     "output_type": "stream",
     "text": [
      "Atom: C1 0 Neighbors: 1 C2 19 H2 20 H3 21 H4 \n",
      "Atom: C2 1 Neighbors: 0 C1 2 H1 3 C3 16 C15 \n",
      "Atom: H1 2 Neighbors: 1 C2 \n",
      "Atom: C3 3 Neighbors: 1 C2 8 C8 4 C4 \n",
      "Atom: C4 4 Neighbors: 3 C3 5 C5 22 H5 \n",
      "Atom: C5 5 Neighbors: 4 C4 6 C6 23 H6 \n",
      "Atom: C6 6 Neighbors: 5 C5 7 C7 10 C9 \n",
      "Atom: C7 7 Neighbors: 6 C6 8 C8 9 F1 \n",
      "Atom: C8 8 Neighbors: 7 C7 3 C3 24 H7 \n",
      "Atom: F1 9 Neighbors: 7 C7 \n",
      "Atom: C9 10 Neighbors: 6 C6 15 C14 11 C10 \n",
      "Atom: C10 11 Neighbors: 10 C9 12 C11 25 H8 \n",
      "Atom: C11 12 Neighbors: 11 C10 13 C12 26 H9 \n",
      "Atom: C12 13 Neighbors: 12 C11 14 C13 27 H10 \n",
      "Atom: C13 14 Neighbors: 13 C12 15 C14 28 H11 \n",
      "Atom: C14 15 Neighbors: 14 C13 10 C9 29 H12 \n",
      "Atom: C15 16 Neighbors: 1 C2 17 O1 18 O2 \n",
      "Atom: O1 17 Neighbors: 16 C15 \n",
      "Atom: O2 18 Neighbors: 16 C15 30 H13 \n",
      "Atom: H2 19 Neighbors: 0 C1 \n",
      "Atom: H3 20 Neighbors: 0 C1 \n",
      "Atom: H4 21 Neighbors: 0 C1 \n",
      "Atom: H5 22 Neighbors: 4 C4 \n",
      "Atom: H6 23 Neighbors: 5 C5 \n",
      "Atom: H7 24 Neighbors: 8 C8 \n",
      "Atom: H8 25 Neighbors: 11 C10 \n",
      "Atom: H9 26 Neighbors: 12 C11 \n",
      "Atom: H10 27 Neighbors: 13 C12 \n",
      "Atom: H11 28 Neighbors: 14 C13 \n",
      "Atom: H12 29 Neighbors: 15 C14 \n",
      "Atom: H13 30 Neighbors: 18 O2 \n"
     ]
    }
   ],
   "source": [
    "for atom in charged.GetAtoms():\n",
    "    print (\"Atom:\", atom.GetName(), end=\" \")\n",
    "    print (atom.GetIdx(), end=\" \")\n",
    "\n",
    "    print (\"Neighbors:\", end=\" \")\n",
    "    for bond in atom.GetBonds():\n",
    "        nbor = bond.GetNbr(atom)\n",
    "        print (nbor.GetIdx(), nbor.GetName(), end=\" \")\n",
    "\n",
    "    print ()"
   ]
  },
  {
   "cell_type": "code",
   "execution_count": 37,
   "metadata": {},
   "outputs": [
    {
     "name": "stdout",
     "output_type": "stream",
     "text": [
      "Atom: C1 0 Neighbors: 36 C29 1 C2 37 H1 \n",
      "Atom: C2 1 Neighbors: 0 C1 2 C3 8 N2 \n",
      "Atom: C3 2 Neighbors: 1 C2 7 C7 3 C4 \n",
      "Atom: C4 3 Neighbors: 2 C3 4 N1 38 H2 \n",
      "Atom: N1 4 Neighbors: 3 C4 5 C5 \n",
      "Atom: C5 5 Neighbors: 4 N1 6 C6 39 H3 \n",
      "Atom: C6 6 Neighbors: 5 C5 7 C7 40 H4 \n",
      "Atom: C7 7 Neighbors: 6 C6 2 C3 41 H5 \n",
      "Atom: N2 8 Neighbors: 1 C2 9 C8 \n",
      "Atom: C8 9 Neighbors: 8 N2 10 N3 35 N7 \n",
      "Atom: N3 10 Neighbors: 9 C8 11 C9 42 H6 \n",
      "Atom: C9 11 Neighbors: 10 N3 16 C14 12 C10 \n",
      "Atom: C10 12 Neighbors: 11 C9 13 C11 34 C28 \n",
      "Atom: C11 13 Neighbors: 12 C10 14 C12 43 H7 \n",
      "Atom: C12 14 Neighbors: 13 C11 15 C13 44 H8 \n",
      "Atom: C13 15 Neighbors: 14 C12 16 C14 17 N4 \n",
      "Atom: C14 16 Neighbors: 15 C13 11 C9 45 H9 \n",
      "Atom: N4 17 Neighbors: 15 C13 18 C15 46 H10 \n",
      "Atom: C15 18 Neighbors: 17 N4 19 C16 33 O1 \n",
      "Atom: C16 19 Neighbors: 18 C15 24 C21 20 C17 \n",
      "Atom: C17 20 Neighbors: 19 C16 21 C18 47 H11 \n",
      "Atom: C18 21 Neighbors: 20 C17 22 C19 48 H12 \n",
      "Atom: C19 22 Neighbors: 21 C18 23 C20 25 C22 \n",
      "Atom: C20 23 Neighbors: 22 C19 24 C21 49 H13 \n",
      "Atom: C21 24 Neighbors: 23 C20 19 C16 50 H14 \n",
      "Atom: C22 25 Neighbors: 22 C19 26 N5 51 H15 52 H16 \n",
      "Atom: N5 26 Neighbors: 25 C22 31 C26 27 C23 \n",
      "Atom: C23 27 Neighbors: 26 N5 28 C24 53 H17 54 H18 \n",
      "Atom: C24 28 Neighbors: 27 C23 29 N6 55 H19 56 H20 \n",
      "Atom: N6 29 Neighbors: 28 C24 30 C25 32 C27 \n",
      "Atom: C25 30 Neighbors: 29 N6 31 C26 57 H21 58 H22 \n",
      "Atom: C26 31 Neighbors: 30 C25 26 N5 59 H23 60 H24 \n",
      "Atom: C27 32 Neighbors: 29 N6 61 H25 62 H26 63 H27 \n",
      "Atom: O1 33 Neighbors: 18 C15 \n",
      "Atom: C28 34 Neighbors: 12 C10 64 H28 65 H29 66 H30 \n",
      "Atom: N7 35 Neighbors: 9 C8 36 C29 \n",
      "Atom: C29 36 Neighbors: 35 N7 0 C1 67 H31 \n",
      "Atom: H1 37 Neighbors: 0 C1 \n",
      "Atom: H2 38 Neighbors: 3 C4 \n",
      "Atom: H3 39 Neighbors: 5 C5 \n",
      "Atom: H4 40 Neighbors: 6 C6 \n",
      "Atom: H5 41 Neighbors: 7 C7 \n",
      "Atom: H6 42 Neighbors: 10 N3 \n",
      "Atom: H7 43 Neighbors: 13 C11 \n",
      "Atom: H8 44 Neighbors: 14 C12 \n",
      "Atom: H9 45 Neighbors: 16 C14 \n",
      "Atom: H10 46 Neighbors: 17 N4 \n",
      "Atom: H11 47 Neighbors: 20 C17 \n",
      "Atom: H12 48 Neighbors: 21 C18 \n",
      "Atom: H13 49 Neighbors: 23 C20 \n",
      "Atom: H14 50 Neighbors: 24 C21 \n",
      "Atom: H15 51 Neighbors: 25 C22 \n",
      "Atom: H16 52 Neighbors: 25 C22 \n",
      "Atom: H17 53 Neighbors: 27 C23 \n",
      "Atom: H18 54 Neighbors: 27 C23 \n",
      "Atom: H19 55 Neighbors: 28 C24 \n",
      "Atom: H20 56 Neighbors: 28 C24 \n",
      "Atom: H21 57 Neighbors: 30 C25 \n",
      "Atom: H22 58 Neighbors: 30 C25 \n",
      "Atom: H23 59 Neighbors: 31 C26 \n",
      "Atom: H24 60 Neighbors: 31 C26 \n",
      "Atom: H25 61 Neighbors: 32 C27 \n",
      "Atom: H26 62 Neighbors: 32 C27 \n",
      "Atom: H27 63 Neighbors: 32 C27 \n",
      "Atom: H28 64 Neighbors: 34 C28 \n",
      "Atom: H29 65 Neighbors: 34 C28 \n",
      "Atom: H30 66 Neighbors: 34 C28 \n",
      "Atom: H31 67 Neighbors: 36 C29 \n"
     ]
    }
   ],
   "source": [
    "for atom in charges.GetAtoms():\n",
    "    print (\"Atom:\", atom.GetName(), end=\" \")\n",
    "    print (atom.GetIdx(), end=\" \")\n",
    "\n",
    "    print (\"Neighbors:\", end=\" \")\n",
    "    for nbor in atom.GetAtoms():\n",
    "        print (nbor.GetIdx(), nbor.GetName(), end=\" \")\n",
    "\n",
    "    print ()"
   ]
  },
  {
   "cell_type": "code",
   "execution_count": 493,
   "metadata": {},
   "outputs": [
    {
     "name": "stdout",
     "output_type": "stream",
     "text": [
      "Rotatable bonds:\n",
      "C1 C2 0.9790348410606384 1\n",
      "C2 C3 0.9733465313911438 1\n",
      "C6 C9 0.9945589900016785 1\n",
      "C2 C15 0.9123947620391846 1\n",
      "C15 O2 1.043837070465088 1\n"
     ]
    }
   ],
   "source": [
    "# TODO: Leave out hydrogens, halogens (what else?, should we remove halogens? or always keep it on?)\n",
    "# Next step: Figure out how to extract fragments as OEAtomBondSet. Seems like it should be a recursive algorithm. \n",
    "# Split until you can't split anymore. Should end up with 5 fragments in this example.\n",
    "fragments = []\n",
    "print (\"Rotatable bonds:\")\n",
    "for bond in charged.GetBonds():\n",
    "    if bond.GetData('WibergBondOrder') < 1.2:       \n",
    "        beg = bond.GetBgn()\n",
    "        end = bond.GetEnd()       \n",
    "        if (not end.IsHydrogen()) and (not beg.IsHydrogen()) and (not end.IsHalogen()) and (not beg.IsHalogen()):\n",
    "            #beg_name = beg.GetName()\n",
    "            #if beg_name in fragments:\n",
    "            #    print('overwriting {}'.format(beg_name))\n",
    "            beg_set =  oechem.OEAtomBondSet()\n",
    "            beg_set.AddAtom(beg)\n",
    "            end_set = oechem.OEAtomBondSet()\n",
    "            end_set.AddAtom(end)\n",
    "            # Build fragment from beg of bond\n",
    "            build_fragment(charged, beg, end, beg_set)\n",
    "            # Build fragment from end of bond\n",
    "            build_fragment(charged, end, beg, end_set)\n",
    "            fragments.append(beg_set)\n",
    "            fragments.append(end_set)\n",
    "            \n",
    "            print(beg.GetName(), end=\" \")\n",
    "            print(end.GetName(), end = \" \")\n",
    "            print(bond.GetData('WibergBondOrder'), bond.GetOrder())\n",
    "        \n",
    "#           for neighbor in beg.GetAtoms():\n",
    "#                \n",
    "#                if neighbor != end:\n",
    "#                    print(neighbor.GetName(), end=' ')\n",
    "#                    if neighbor.GetDegree() == 1:\n",
    " #                       print(neighbor.GetDegree())\n",
    "#                        fragments[beg.GetName()].append(neighbor.GetName())\n",
    "#                    if neighbor.GetDegree() != 1:\n",
    "#                        fragments[beg.GetName()].append(neighbor.GetName())\n",
    "#                        print(neighbor.GetDegree(), end=' ')\n",
    "#                        for next_nbr in neighbor.GetAtoms():\n",
    "#                            fragments[beg.GetName()].append(next_nbr.GetName())\n",
    "#                            print(next_nbr.GetName())\n",
    "                   \n",
    "                    \n",
    "                \n",
    "            \n"
   ]
  },
  {
   "cell_type": "code",
   "execution_count": 496,
   "metadata": {},
   "outputs": [
    {
     "data": {
      "text/plain": [
       "[<oechem.OEAtomBondSet; proxy of <Swig Object of type 'OEChem::OEAtomBondSet *' at 0x11dd19990> >,\n",
       " <oechem.OEAtomBondSet; proxy of <Swig Object of type 'OEChem::OEAtomBondSet *' at 0x11dd19ed0> >,\n",
       " <oechem.OEAtomBondSet; proxy of <Swig Object of type 'OEChem::OEAtomBondSet *' at 0x11dd65750> >,\n",
       " <oechem.OEAtomBondSet; proxy of <Swig Object of type 'OEChem::OEAtomBondSet *' at 0x11d3eba20> >,\n",
       " <oechem.OEAtomBondSet; proxy of <Swig Object of type 'OEChem::OEAtomBondSet *' at 0x11d3ebcc0> >,\n",
       " <oechem.OEAtomBondSet; proxy of <Swig Object of type 'OEChem::OEAtomBondSet *' at 0x11d3ebde0> >,\n",
       " <oechem.OEAtomBondSet; proxy of <Swig Object of type 'OEChem::OEAtomBondSet *' at 0x11dd191b0> >,\n",
       " <oechem.OEAtomBondSet; proxy of <Swig Object of type 'OEChem::OEAtomBondSet *' at 0x11df06960> >,\n",
       " <oechem.OEAtomBondSet; proxy of <Swig Object of type 'OEChem::OEAtomBondSet *' at 0x11d3eb150> >,\n",
       " <oechem.OEAtomBondSet; proxy of <Swig Object of type 'OEChem::OEAtomBondSet *' at 0x11d3f8c60> >]"
      ]
     },
     "execution_count": 496,
     "metadata": {},
     "output_type": "execute_result"
    }
   ],
   "source": [
    "fragments"
   ]
  },
  {
   "cell_type": "code",
   "execution_count": 37,
   "metadata": {},
   "outputs": [
    {
     "name": "stdout",
     "output_type": "stream",
     "text": [
      "Rotatable bonds:\n",
      "C2 C3 0.9733465313911438 1\n",
      "C1\n",
      "H1\n",
      "C3\n",
      "C15\n",
      "C6 C9 0.9945589900016785 1\n",
      "C5\n",
      "C7\n",
      "C9\n",
      "C2 C15 0.9123947620391846 1\n",
      "C1\n",
      "H1\n",
      "C3\n",
      "C15\n"
     ]
    }
   ],
   "source": [
    "print (\"Rotatable bonds:\")\n",
    "for bond in charged.GetBonds():\n",
    "    if bond.IsRotor():\n",
    "        beg = bond.GetBgn()\n",
    "        end = bond.GetEnd()       \n",
    "        \n",
    "        print(beg.GetName(), end=\" \")\n",
    "        print(end.GetName(), end = \" \")\n",
    "        print(bond.GetData('WibergBondOrder'), bond.GetOrder())\n",
    "\n",
    "        for neighbor in beg.GetAtoms():\n",
    "\n",
    "                print(neighbor.GetName())\n"
   ]
  },
  {
   "cell_type": "code",
   "execution_count": 71,
   "metadata": {},
   "outputs": [
    {
     "name": "stdout",
     "output_type": "stream",
     "text": [
      "<class 'oechem.OEAtomBondSet'>\n",
      "<class 'oechem.OEAtomBondSet'>\n",
      "<class 'oechem.OEAtomBondSet'>\n",
      "<class 'oechem.OEAtomBondSet'>\n",
      "<class 'oechem.OEAtomBondSet'>\n",
      "<class 'oechem.OEAtomBondSet'>\n",
      "<class 'oechem.OEAtomBondSet'>\n",
      "<class 'oechem.OEAtomBondSet'>\n",
      "<class 'oechem.OEAtomBondSet'>\n",
      "<class 'oechem.OEAtomBondSet'>\n",
      "<class 'oechem.OEAtomBondSet'>\n"
     ]
    }
   ],
   "source": [
    "for frag in frags:\n",
    "    print(type(frag))"
   ]
  },
  {
   "cell_type": "code",
   "execution_count": 67,
   "metadata": {},
   "outputs": [
    {
     "data": {
      "text/plain": [
       "<oechem.OEAtomBondSet; proxy of <Swig Object of type 'OEChem::OEAtomBondSet *' at 0x119afdc90> >"
      ]
     },
     "execution_count": 67,
     "metadata": {},
     "output_type": "execute_result"
    }
   ],
   "source": [
    "frag."
   ]
  },
  {
   "cell_type": "code",
   "execution_count": 72,
   "metadata": {
    "collapsed": true
   },
   "outputs": [],
   "source": [
    "oechem.OEAtomBondSet"
   ]
  },
  {
   "cell_type": "code",
   "execution_count": 73,
   "metadata": {
    "collapsed": true
   },
   "outputs": [],
   "source": [
    "test = oechem.OEAtomBondSet()"
   ]
  },
  {
   "cell_type": "code",
   "execution_count": 74,
   "metadata": {},
   "outputs": [
    {
     "data": {
      "text/plain": [
       "<oechem.OEAtomBondSet; proxy of <Swig Object of type 'OEChem::OEAtomBondSet *' at 0x119b0bd50> >"
      ]
     },
     "execution_count": 74,
     "metadata": {},
     "output_type": "execute_result"
    }
   ],
   "source": [
    "test"
   ]
  },
  {
   "cell_type": "code",
   "execution_count": 42,
   "metadata": {},
   "outputs": [
    {
     "data": {
      "text/plain": [
       "2"
      ]
     },
     "execution_count": 42,
     "metadata": {},
     "output_type": "execute_result"
    }
   ],
   "source": [
    "neighbor.GetDegree()"
   ]
  },
  {
   "cell_type": "code",
   "execution_count": 476,
   "metadata": {},
   "outputs": [],
   "source": [
    "def build_fragment(mol, beg, end, frag, seen = []):\n",
    "    seen.append(beg.GetName())\n",
    "    beg_idx = beg.GetIdx()\n",
    "    for nbr in beg.GetAtoms():\n",
    "        nbr_idx = nbr.GetIdx()\n",
    "        if (nbr_idx != end.GetIdx()): \n",
    "            if nbr.GetDegree() == 1:\n",
    "                frag.AddAtom(nbr)\n",
    "                bond = mol.GetBond(nbr, beg)\n",
    "                if bond is None:\n",
    "                    new_nbr = [atom for atom in nbr.GetAtoms()][0]\n",
    "                    bond = mol.GetBond(nbr, new_nbr)\n",
    "                frag.AddBond(bond)                           \n",
    "            elif nbr_idx != beg_idx:\n",
    "                frag.AddAtom(nbr)\n",
    "                bond = mol.GetBond(beg, nbr)\n",
    "                frag.AddBond(bond)\n",
    "                if nbr.GetName() not in seen:\n",
    "                    beg = nbr \n",
    "                    build_fragment(mol, beg, end, frag, seen)\n",
    "    #return(frag)\n",
    "\n",
    "        "
   ]
  },
  {
   "cell_type": "code",
   "execution_count": 461,
   "metadata": {},
   "outputs": [
    {
     "name": "stdout",
     "output_type": "stream",
     "text": [
      "H2\n",
      "{'WibergBondOrder': 0.9746313691139221}\n",
      "H3\n",
      "{'WibergBondOrder': 0.97335284948349}\n",
      "H4\n",
      "{'WibergBondOrder': 0.9708201885223389}\n"
     ]
    }
   ],
   "source": [
    "for bond in beg.GetBonds():\n",
    "    nbr = bond.GetNbr(beg)\n",
    "    nbr_idx = nbr.GetIdx()\n",
    "    beg_idx = beg.GetIdx()\n",
    "    if nbr_idx > beg_idx and nbr_idx != end.GetIdx():\n",
    "        print(nbr.GetName())\n",
    "        print(bond.GetData())"
   ]
  },
  {
   "cell_type": "code",
   "execution_count": 462,
   "metadata": {},
   "outputs": [
    {
     "name": "stdout",
     "output_type": "stream",
     "text": [
      "C1\n",
      "C2\n"
     ]
    }
   ],
   "source": [
    "beg = bonds[0].GetBgn()\n",
    "end = bonds[0].GetEnd()\n",
    "print(bonds[0].GetBgn().GetName())\n",
    "print(bonds[0].GetEnd().GetName())"
   ]
  },
  {
   "cell_type": "code",
   "execution_count": 477,
   "metadata": {},
   "outputs": [],
   "source": [
    "test_beg = oechem.OEAtomBondSet()\n",
    "test_beg.AddAtom(beg)\n",
    "build_fragment(charged, beg, end, test_beg)"
   ]
  },
  {
   "cell_type": "code",
   "execution_count": 478,
   "metadata": {},
   "outputs": [
    {
     "name": "stdout",
     "output_type": "stream",
     "text": [
      "Atom: C1\n",
      "C2\n",
      "H2\n",
      "H3\n",
      "H4\n",
      "Atom: H2\n",
      "C1\n",
      "Atom: H3\n",
      "C1\n",
      "Atom: H4\n",
      "C1\n"
     ]
    }
   ],
   "source": [
    "for atom in test.GetAtoms():\n",
    "    print('Atom: {}'.format(atom.GetName()))\n",
    "    for bond in atom.GetBonds():\n",
    "        nbr = bond.GetNbr(atom)\n",
    "        print(nbr.GetName())\n"
   ]
  },
  {
   "cell_type": "code",
   "execution_count": 479,
   "metadata": {},
   "outputs": [
    {
     "name": "stdout",
     "output_type": "stream",
     "text": [
      "{'WibergBondOrder': 0.9746313691139221}\n",
      "{'WibergBondOrder': 0.97335284948349}\n",
      "{'WibergBondOrder': 0.9708201885223389}\n"
     ]
    }
   ],
   "source": [
    "for bond in test.GetBonds():\n",
    "    print(bond.GetData())"
   ]
  },
  {
   "cell_type": "code",
   "execution_count": 480,
   "metadata": {},
   "outputs": [],
   "source": [
    "test_end = oechem.OEAtomBondSet()\n",
    "test_end.AddAtom(end)\n",
    "build_fragment(charged, end, beg, seen=[], frag=test_end)"
   ]
  },
  {
   "cell_type": "code",
   "execution_count": 481,
   "metadata": {},
   "outputs": [
    {
     "name": "stdout",
     "output_type": "stream",
     "text": [
      "Atom: C2\n",
      "C1\n",
      "H1\n",
      "C3\n",
      "C15\n",
      "Atom: H1\n",
      "C2\n",
      "Atom: C3\n",
      "C2\n",
      "C8\n",
      "C4\n",
      "Atom: C8\n",
      "C7\n",
      "C3\n",
      "H7\n",
      "Atom: C7\n",
      "C6\n",
      "C8\n",
      "F1\n",
      "Atom: C6\n",
      "C5\n",
      "C7\n",
      "C9\n",
      "Atom: C5\n",
      "C4\n",
      "C6\n",
      "H6\n",
      "Atom: C4\n",
      "C3\n",
      "C5\n",
      "H5\n",
      "Atom: H5\n",
      "C4\n",
      "Atom: H6\n",
      "C5\n",
      "Atom: C9\n",
      "C6\n",
      "C14\n",
      "C10\n",
      "Atom: C14\n",
      "C13\n",
      "C9\n",
      "H12\n",
      "Atom: C13\n",
      "C12\n",
      "C14\n",
      "H11\n",
      "Atom: C12\n",
      "C11\n",
      "C13\n",
      "H10\n",
      "Atom: C11\n",
      "C10\n",
      "C12\n",
      "H9\n",
      "Atom: C10\n",
      "C9\n",
      "C11\n",
      "H8\n",
      "Atom: H8\n",
      "C10\n",
      "Atom: H9\n",
      "C11\n",
      "Atom: H10\n",
      "C12\n",
      "Atom: H11\n",
      "C13\n",
      "Atom: H12\n",
      "C14\n",
      "Atom: F1\n",
      "C7\n",
      "Atom: H7\n",
      "C8\n",
      "Atom: C15\n",
      "C2\n",
      "O1\n",
      "O2\n",
      "Atom: O1\n",
      "C15\n",
      "Atom: O2\n",
      "C15\n",
      "H13\n",
      "Atom: H13\n",
      "O2\n"
     ]
    }
   ],
   "source": [
    "for atom in test_end.GetAtoms():\n",
    "    print('Atom: {}'.format(atom.GetName()))\n",
    "    for bond in atom.GetBonds():\n",
    "        nbr = bond.GetNbr(atom)\n",
    "        print(nbr.GetName())\n"
   ]
  },
  {
   "cell_type": "code",
   "execution_count": 482,
   "metadata": {},
   "outputs": [
    {
     "name": "stdout",
     "output_type": "stream",
     "text": [
      "{'WibergBondOrder': 0.9409083127975464}\n",
      "{'WibergBondOrder': 0.9733465313911438}\n",
      "{'WibergBondOrder': 1.4091099500656128}\n",
      "{'WibergBondOrder': 1.3656305074691772}\n",
      "{'WibergBondOrder': 1.3378217220306396}\n",
      "{'WibergBondOrder': 1.3877619504928589}\n",
      "{'WibergBondOrder': 1.4288681745529175}\n",
      "{'WibergBondOrder': 1.385242223739624}\n",
      "{'WibergBondOrder': 0.9463828206062317}\n",
      "{'WibergBondOrder': 0.945492684841156}\n",
      "{'WibergBondOrder': 0.9945589900016785}\n",
      "{'WibergBondOrder': 1.3885419368743896}\n",
      "{'WibergBondOrder': 1.4218850135803223}\n",
      "{'WibergBondOrder': 1.4153481721878052}\n",
      "{'WibergBondOrder': 1.4112540483474731}\n",
      "{'WibergBondOrder': 1.4249420166015625}\n",
      "{'WibergBondOrder': 1.386399507522583}\n",
      "{'WibergBondOrder': 0.9471958875656128}\n",
      "{'WibergBondOrder': 0.9485974907875061}\n",
      "{'WibergBondOrder': 0.9498156905174255}\n",
      "{'WibergBondOrder': 0.9491798281669617}\n",
      "{'WibergBondOrder': 0.9483686685562134}\n",
      "{'WibergBondOrder': 1.0218538045883179}\n",
      "{'WibergBondOrder': 0.944377601146698}\n",
      "{'WibergBondOrder': 0.9123947620391846}\n",
      "{'WibergBondOrder': 1.8066850900650024}\n",
      "{'WibergBondOrder': 1.043837070465088}\n",
      "{'WibergBondOrder': 0.9093071222305298}\n"
     ]
    }
   ],
   "source": [
    "for bond in test_end.GetBonds():\n",
    "    print(bond.GetData())"
   ]
  },
  {
   "cell_type": "code",
   "execution_count": 483,
   "metadata": {},
   "outputs": [
    {
     "data": {
      "text/plain": [
       "32"
      ]
     },
     "execution_count": 483,
     "metadata": {},
     "output_type": "execute_result"
    }
   ],
   "source": [
    "# find bond with certain atom indices\n",
    "len([bond for bond in charged.GetBonds()])"
   ]
  },
  {
   "cell_type": "code",
   "execution_count": 470,
   "metadata": {},
   "outputs": [
    {
     "data": {
      "text/plain": [
       "28"
      ]
     },
     "execution_count": 470,
     "metadata": {},
     "output_type": "execute_result"
    }
   ],
   "source": [
    "32-4"
   ]
  },
  {
   "cell_type": "code",
   "execution_count": 484,
   "metadata": {},
   "outputs": [
    {
     "data": {
      "text/plain": [
       "28"
      ]
     },
     "execution_count": 484,
     "metadata": {},
     "output_type": "execute_result"
    }
   ],
   "source": [
    "len([bond for bond in test_end.GetBonds()])"
   ]
  },
  {
   "cell_type": "code",
   "execution_count": 485,
   "metadata": {},
   "outputs": [
    {
     "data": {
      "text/plain": [
       "31"
      ]
     },
     "execution_count": 485,
     "metadata": {},
     "output_type": "execute_result"
    }
   ],
   "source": [
    "len([atom for atom in charged.GetAtoms()])"
   ]
  },
  {
   "cell_type": "code",
   "execution_count": 486,
   "metadata": {},
   "outputs": [
    {
     "data": {
      "text/plain": [
       "27"
      ]
     },
     "execution_count": 486,
     "metadata": {},
     "output_type": "execute_result"
    }
   ],
   "source": [
    "len([atom for atom in test_end.GetAtoms()])"
   ]
  },
  {
   "cell_type": "code",
   "execution_count": 487,
   "metadata": {},
   "outputs": [
    {
     "name": "stdout",
     "output_type": "stream",
     "text": [
      "Bond Index: 1\n",
      "C2\n",
      "H1\n",
      "Bond Index: 2\n",
      "C2\n",
      "C3\n",
      "Bond Index: 3\n",
      "C3\n",
      "C8\n",
      "Bond Index: 8\n",
      "C7\n",
      "C8\n",
      "Bond Index: 7\n",
      "C6\n",
      "C7\n",
      "Bond Index: 6\n",
      "C5\n",
      "C6\n",
      "Bond Index: 5\n",
      "C4\n",
      "C5\n",
      "Bond Index: 4\n",
      "C3\n",
      "C4\n",
      "Bond Index: 23\n",
      "C4\n",
      "H5\n",
      "Bond Index: 24\n",
      "C5\n",
      "H6\n",
      "Bond Index: 10\n",
      "C6\n",
      "C9\n",
      "Bond Index: 11\n",
      "C9\n",
      "C14\n",
      "Bond Index: 16\n",
      "C13\n",
      "C14\n",
      "Bond Index: 15\n",
      "C12\n",
      "C13\n",
      "Bond Index: 14\n",
      "C11\n",
      "C12\n",
      "Bond Index: 13\n",
      "C10\n",
      "C11\n",
      "Bond Index: 12\n",
      "C9\n",
      "C10\n",
      "Bond Index: 26\n",
      "C10\n",
      "H8\n",
      "Bond Index: 27\n",
      "C11\n",
      "H9\n",
      "Bond Index: 28\n",
      "C12\n",
      "H10\n",
      "Bond Index: 29\n",
      "C13\n",
      "H11\n",
      "Bond Index: 30\n",
      "C14\n",
      "H12\n",
      "Bond Index: 9\n",
      "C7\n",
      "F1\n",
      "Bond Index: 25\n",
      "C8\n",
      "H7\n",
      "Bond Index: 17\n",
      "C2\n",
      "C15\n",
      "Bond Index: 18\n",
      "C15\n",
      "O1\n",
      "Bond Index: 19\n",
      "C15\n",
      "O2\n",
      "Bond Index: 31\n",
      "O2\n",
      "H13\n"
     ]
    }
   ],
   "source": [
    "for bond in test_end.GetBonds():\n",
    "    print('Bond Index: {}'.format(bond.GetIdx()))\n",
    "    print(bond.GetBgn().GetName())\n",
    "    print(bond.GetEnd().GetName())"
   ]
  },
  {
   "cell_type": "code",
   "execution_count": null,
   "metadata": {
    "collapsed": true
   },
   "outputs": [],
   "source": []
  }
 ],
 "metadata": {
  "kernelspec": {
   "display_name": "Python 3",
   "language": "python",
   "name": "python3"
  },
  "language_info": {
   "codemirror_mode": {
    "name": "ipython",
    "version": 3
   },
   "file_extension": ".py",
   "mimetype": "text/x-python",
   "name": "python",
   "nbconvert_exporter": "python",
   "pygments_lexer": "ipython3",
   "version": "3.6.1"
  }
 },
 "nbformat": 4,
 "nbformat_minor": 2
}
