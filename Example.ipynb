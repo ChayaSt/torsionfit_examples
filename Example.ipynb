{
 "cells": [
  {
   "cell_type": "code",
   "execution_count": 1,
   "metadata": {
    "collapsed": false
   },
   "outputs": [],
   "source": [
    "# opemm imports\n",
    "import simtk.unit as u\n",
    "import simtk.openmm as mm\n",
    "import simtk.openmm.app as app"
   ]
  },
  {
   "cell_type": "code",
   "execution_count": 2,
   "metadata": {
    "collapsed": false
   },
   "outputs": [],
   "source": [
    "# ParmEd imports\n",
    "from chemistry.charmm import  CharmmPsfFile\n",
    "from chemistry.charmm.parameters import CharmmParameterSet"
   ]
  },
  {
   "cell_type": "code",
   "execution_count": 4,
   "metadata": {
    "collapsed": false
   },
   "outputs": [],
   "source": [
    "param = CharmmParameterSet('../charmm_ff/top_all36_cgenff.rtf', '../charmm_ff/par_all36_cgenff.prm', '../structures/Cy3/Cy3.str', '../structures/Cy3B/Cy3B.str', '../structures/Pyrrol/pyrrol.str')\n",
    "\n",
    "\n"
   ]
  },
  {
   "cell_type": "code",
   "execution_count": 15,
   "metadata": {
    "collapsed": false
   },
   "outputs": [],
   "source": [
    "Cy3B_psf = CharmmPsfFile('../structures/Cy3B/Cy3B_2S_ChargeOpt.psf')\n",
    "Cy3_psf = CharmmPsfFile('../structures/Cy3/Cy3_2S_OptCharges.psf')\n",
    "pyrrol_psf = CharmmPsfFile('../structures/Pyrrol/pyrrol.psf')"
   ]
  },
  {
   "cell_type": "code",
   "execution_count": 17,
   "metadata": {
    "collapsed": false
   },
   "outputs": [],
   "source": [
    "Cy3B_pdb = app.PDBFile('../structures/Cy3B/Cy3B_2S_opt.pdb')\n",
    "Cy3_pdb = app.PDBFile('../structures/Cy3/Cy3_2S_opt.pdb')\n",
    "pyrrol_pdb = app.PDBFile('../structures/Pyrrol/pyrrol_opt.pdb')"
   ]
  },
  {
   "cell_type": "code",
   "execution_count": 18,
   "metadata": {
    "collapsed": false
   },
   "outputs": [
    {
     "name": "stdout",
     "output_type": "stream",
     "text": [
      "107.162665301 kJ/mol\n"
     ]
    }
   ],
   "source": [
    "integrator = mm.VerletIntegrator(0.004)\n",
    "Cy3B_psf.load_parameters(param)\n",
    "system_Cy3B = Cy3B_psf.createSystem()\n",
    "sim_Cy3B = app.Simulation(Cy3B_pdb.topology, system_Cy3B, integrator)\n",
    "sim_Cy3B.context.setPositions(Cy3B_pdb.positions)\n",
    "state = sim_Cy3B.context.getState(getEnergy=True) \n",
    "print state.getPotentialEnergy()"
   ]
  },
  {
   "cell_type": "code",
   "execution_count": 16,
   "metadata": {
    "collapsed": false
   },
   "outputs": [
    {
     "name": "stdout",
     "output_type": "stream",
     "text": [
      "2.55625424279 kJ/mol\n"
     ]
    }
   ],
   "source": [
    "integrator = mm.VariableVerletIntegrator(0.004)\n",
    "system_Cy3 = Cy3_psf.createSystem(param)\n",
    "sim_Cy3 = app.Simulation(Cy3_pdb.topology, system_Cy3, integrator)\n",
    "sim_Cy3.context.setPositions(Cy3_pdb.positions)\n",
    "state = sim_Cy3.context.getState(getEnergy=True) \n",
    "print state.getPotentialEnergy()"
   ]
  },
  {
   "cell_type": "code",
   "execution_count": 17,
   "metadata": {
    "collapsed": false
   },
   "outputs": [
    {
     "name": "stdout",
     "output_type": "stream",
     "text": [
      "43.5396065748 kJ/mol\n"
     ]
    }
   ],
   "source": [
    "integrator = mm.VariableVerletIntegrator(0.004)\n",
    "system_pyrrol = pyrrol_psf.createSystem(param)\n",
    "sim_pyrrol = app.Simulation(pyrrol_pdb.topology, system_pyrrol, integrator)\n",
    "sim_pyrrol.context.setPositions(pyrrol_pdb.positions)\n",
    "state = sim_pyrrol.context.getState(getEnergy=True) \n",
    "print state.getPotentialEnergy()"
   ]
  },
  {
   "cell_type": "code",
   "execution_count": null,
   "metadata": {
    "collapsed": false
   },
   "outputs": [],
   "source": []
  }
 ],
 "metadata": {
  "kernelspec": {
   "display_name": "Python 3",
   "language": "python",
   "name": "python3"
  },
  "language_info": {
   "codemirror_mode": {
    "name": "ipython",
    "version": 3
   },
   "file_extension": ".py",
   "mimetype": "text/x-python",
   "name": "python",
   "nbconvert_exporter": "python",
   "pygments_lexer": "ipython3",
   "version": "3.4.3"
  }
 },
 "nbformat": 4,
 "nbformat_minor": 0
}
