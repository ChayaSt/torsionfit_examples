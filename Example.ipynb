{
 "metadata": {
  "name": "",
  "signature": "sha256:1464999f50ff12ea79d3c4d4a9baa02e1d6d0bc714e74fb991230c7c7f5d8e3c"
 },
 "nbformat": 3,
 "nbformat_minor": 0,
 "worksheets": [
  {
   "cells": [
    {
     "cell_type": "code",
     "collapsed": false,
     "input": [
      "# opemm imports\n",
      "import simtk.unit as u\n",
      "import simtk.openmm as mm\n",
      "import simtk.openmm.app as app"
     ],
     "language": "python",
     "metadata": {},
     "outputs": [],
     "prompt_number": 9
    },
    {
     "cell_type": "code",
     "collapsed": false,
     "input": [
      "# ParmEd imports\n",
      "from chemistry.charmm import  CharmmPsfFile\n",
      "from chemistry.charmm.parameters import CharmmParameterSet"
     ],
     "language": "python",
     "metadata": {},
     "outputs": [],
     "prompt_number": 10
    },
    {
     "cell_type": "code",
     "collapsed": false,
     "input": [
      "param = CharmmParameterSet('../charmm_ff/top_all36_cgenff.rtf', '../charmm_ff/par_all36_cgenff.prm', '../strucutres/Cy3/Cy3_2S.str', '../strucutres/Cy3B/Cy3B_2S.str', '../strucutres/Pyrrol/pyrrol.str')\n",
      "\n",
      "\n"
     ],
     "language": "python",
     "metadata": {},
     "outputs": [],
     "prompt_number": 11
    },
    {
     "cell_type": "code",
     "collapsed": false,
     "input": [
      "Cy3B_psf = CharmmPsfFile('../strucutres/Cy3B/Cy3B_2S_ChargeOpt.psf')\n",
      "Cy3_psf = CharmmPsfFile('../strucutres/Cy3/Cy3_2S_OptCharges.psf')\n",
      "pyrrol_psf = CharmmPsfFile('../strucutres/Pyrrol/pyrrol.psf')"
     ],
     "language": "python",
     "metadata": {},
     "outputs": [],
     "prompt_number": 13
    },
    {
     "cell_type": "code",
     "collapsed": false,
     "input": [
      "Cy3B_pdb = app.PDBFile('../strucutres/Cy3B/Cy3B_2S_opt.pdb')\n",
      "Cy3_pdb = app.PDBFile('../strucutres/Cy3/Cy3_2S_opt.pdb')\n",
      "pyrrol_pdb = app.PDBFile('../strucutres/Pyrrol/pyrrol-opt.pdb')"
     ],
     "language": "python",
     "metadata": {},
     "outputs": [],
     "prompt_number": 14
    },
    {
     "cell_type": "code",
     "collapsed": false,
     "input": [
      "integrator = mm.VerletIntegrator(0.004)\n",
      "Cy3B_psf.load_parameters(param)\n",
      "system_Cy3B = Cy3B_psf.createSystem()\n",
      "sim_Cy3B = app.Simulation(Cy3B_pdb.topology, system_Cy3B, integrator)\n",
      "sim_Cy3B.context.setPositions(Cy3B_pdb.positions)\n",
      "state = sim_Cy3B.context.getState(getEnergy=True) \n",
      "print state.getPotentialEnergy()"
     ],
     "language": "python",
     "metadata": {},
     "outputs": [
      {
       "output_type": "stream",
       "stream": "stdout",
       "text": [
        "107.162665301 kJ/mol\n"
       ]
      }
     ],
     "prompt_number": 15
    },
    {
     "cell_type": "code",
     "collapsed": false,
     "input": [
      "integrator = mm.VariableVerletIntegrator(0.004)\n",
      "system_Cy3 = Cy3_psf.createSystem(param)\n",
      "sim_Cy3 = app.Simulation(Cy3_pdb.topology, system_Cy3, integrator)\n",
      "sim_Cy3.context.setPositions(Cy3_pdb.positions)\n",
      "state = sim_Cy3.context.getState(getEnergy=True) \n",
      "print state.getPotentialEnergy()"
     ],
     "language": "python",
     "metadata": {},
     "outputs": [
      {
       "output_type": "stream",
       "stream": "stdout",
       "text": [
        "2.55625424279 kJ/mol\n"
       ]
      }
     ],
     "prompt_number": 16
    },
    {
     "cell_type": "code",
     "collapsed": false,
     "input": [
      "integrator = mm.VariableVerletIntegrator(0.004)\n",
      "system_pyrrol = pyrrol_psf.createSystem(param)\n",
      "sim_pyrrol = app.Simulation(pyrrol_pdb.topology, system_pyrrol, integrator)\n",
      "sim_pyrrol.context.setPositions(pyrrol_pdb.positions)\n",
      "state = sim_pyrrol.context.getState(getEnergy=True) \n",
      "print state.getPotentialEnergy()"
     ],
     "language": "python",
     "metadata": {},
     "outputs": [
      {
       "output_type": "stream",
       "stream": "stdout",
       "text": [
        "43.5396065748 kJ/mol\n"
       ]
      }
     ],
     "prompt_number": 17
    },
    {
     "cell_type": "code",
     "collapsed": false,
     "input": [],
     "language": "python",
     "metadata": {},
     "outputs": []
    }
   ],
   "metadata": {}
  }
 ]
}