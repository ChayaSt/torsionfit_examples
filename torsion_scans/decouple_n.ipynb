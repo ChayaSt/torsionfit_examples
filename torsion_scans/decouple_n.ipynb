{
 "cells": [
  {
   "cell_type": "code",
   "execution_count": 1,
   "metadata": {
    "collapsed": true
   },
   "outputs": [],
   "source": [
    "%matplotlib inline\n",
    "import matplotlib.pyplot as plt\n",
    "import simtk.openmm as mm\n",
    "from torsionfit import TorsionScanSet as ScanSet\n",
    "import torsionfit.TorsionFitModel as Model\n",
    "from torsionfit import sqlite_plus\n",
    "from pymc import MCMC\n",
    "from parmed.charmm import CharmmParameterSet\n",
    "from torsionfit import plots"
   ]
  },
  {
   "cell_type": "code",
   "execution_count": 2,
   "metadata": {
    "collapsed": true
   },
   "outputs": [],
   "source": [
    "param = CharmmParameterSet('../data/charmm_ff/top_all36_cgenff.rtf', '../data/charmm_ff/par_all36_cgenff.prm')\n",
    "structure = 'butane.psf'\n",
    "scan = 'butane_scan_b3lyp_4.log'"
   ]
  },
  {
   "cell_type": "code",
   "execution_count": 3,
   "metadata": {
    "collapsed": true
   },
   "outputs": [],
   "source": [
    "butane_scan = ScanSet.parse_psi4(scan, structure)\n",
    "butane_scan.compute_energy(param)"
   ]
  },
  {
   "cell_type": "code",
   "execution_count": 4,
   "metadata": {
    "collapsed": false
   },
   "outputs": [
    {
     "data": {
      "text/plain": [
       "[<matplotlib.lines.Line2D at 0x11ddaec50>]"
      ]
     },
     "execution_count": 4,
     "metadata": {},
     "output_type": "execute_result"
    },
    {
     "data": {
      "image/png": "[encoded data removed]",
      "text/plain": [
       "<matplotlib.figure.Figure at 0x11b679650>"
      ]
     },
     "metadata": {},
     "output_type": "display_data"
    }
   ],
   "source": [
    "plt.plot(butane_scan.steps, butane_scan.qm_energy, 'k.')\n",
    "plt.plot(butane_scan.steps, butane_scan.mm_energy, '.')"
   ]
  },
  {
   "cell_type": "code",
   "execution_count": 5,
   "metadata": {
    "collapsed": true
   },
   "outputs": [],
   "source": [
    "platform = mm.Platform.getPlatformByName('Reference')"
   ]
  },
  {
   "cell_type": "code",
   "execution_count": 6,
   "metadata": {
    "collapsed": true
   },
   "outputs": [],
   "source": [
    "model = Model.TorsionFitModelEliminatePhase(param, butane_scan, platform=platform, decouple_n=True, \n",
    "                                            param_to_opt=[('CG331', 'CG321', 'CG321', 'CG331')])"
   ]
  },
  {
   "cell_type": "code",
   "execution_count": 7,
   "metadata": {
    "collapsed": true
   },
   "outputs": [],
   "source": [
    "sampler = MCMC(model.pymc_parameters, db=sqlite_plus, dbname='butane_decouple_n.database', verbose=5)"
   ]
  },
  {
   "cell_type": "code",
   "execution_count": 8,
   "metadata": {
    "collapsed": false
   },
   "outputs": [
    {
     "name": "stdout",
     "output_type": "stream",
     "text": [
      "Assigning step method DiscreteMetropolis to stochastic CG331_CG321_CG321_CG331_multiplicity_bitstring\n",
      "Assigning step method Metropolis to stochastic BUTA1_offset\n",
      "Assigning step method Metropolis to stochastic CG331_CG321_CG321_CG331_1_K\n",
      "Assigning step method Metropolis to stochastic CG331_CG321_CG321_CG331_2_K\n",
      "Assigning step method Metropolis to stochastic CG331_CG321_CG321_CG331_6_K\n",
      "Assigning step method Metropolis to stochastic CG331_CG321_CG321_CG331_4_K\n",
      "Assigning step method Metropolis to stochastic CG331_CG321_CG321_CG331_3_K\n",
      "Assigning step method Metropolis to stochastic log_sigma\n",
      " [-----------------100%-----------------] 100000 of 100000 complete in 3060.9 sec"
     ]
    }
   ],
   "source": [
    "sampler.sample(100000)"
   ]
  },
  {
   "cell_type": "code",
   "execution_count": 9,
   "metadata": {
    "collapsed": false
   },
   "outputs": [
    {
     "data": {
      "text/plain": [
       "[<matplotlib.lines.Line2D at 0x200542650>]"
      ]
     },
     "execution_count": 9,
     "metadata": {},
     "output_type": "execute_result"
    },
    {
     "data": {
      "image/png": "[encoded data removed]",
      "text/plain": [
       "<matplotlib.figure.Figure at 0x11e11fa90>"
      ]
     },
     "metadata": {},
     "output_type": "display_data"
    }
   ],
   "source": [
    "plt.plot(sampler.trace('mm_energy')[0], 'b.')\n",
    "plt.plot(butane_scan.mm_energy, 'g.')\n",
    "plt.plot(butane_scan.qm_energy)"
   ]
  },
  {
   "cell_type": "code",
   "execution_count": 10,
   "metadata": {
    "collapsed": false
   },
   "outputs": [
    {
     "data": {
      "text/plain": [
       "(array([  3.98000000e+02,   1.18180000e+04,   6.52480000e+04,\n",
       "          2.15160000e+04,   9.36000000e+02,   5.40000000e+01,\n",
       "          1.00000000e+01,   2.00000000e+00,   0.00000000e+00,\n",
       "          1.80000000e+01]),\n",
       " array([-5.715008 , -5.1435072, -4.5720064, -4.0005056, -3.4290048,\n",
       "        -2.857504 , -2.2860032, -1.7145024, -1.1430016, -0.5715008,  0.       ]),\n",
       " <a list of 10 Patch objects>)"
      ]
     },
     "execution_count": 10,
     "metadata": {},
     "output_type": "execute_result"
    },
    {
     "data": {
      "image/png": "[encoded data removed]",
      "text/plain": [
       "<matplotlib.figure.Figure at 0x2004f8490>"
      ]
     },
     "metadata": {},
     "output_type": "display_data"
    }
   ],
   "source": [
    "plt.hist(sampler.trace('CG331_CG321_CG321_CG331_1_K')[:])"
   ]
  },
  {
   "cell_type": "code",
   "execution_count": 11,
   "metadata": {
    "collapsed": false
   },
   "outputs": [
    {
     "data": {
      "text/plain": [
       "(array([  4.40000000e+01,   3.46000000e+02,   3.34300000e+03,\n",
       "          1.92980000e+04,   4.46700000e+04,   2.63470000e+04,\n",
       "          5.23700000e+03,   6.47000000e+02,   5.50000000e+01,\n",
       "          1.30000000e+01]),\n",
       " array([-1.679102 , -1.3166702, -0.9542384, -0.5918066, -0.2293748,\n",
       "         0.133057 ,  0.4954888,  0.8579206,  1.2203524,  1.5827842,\n",
       "         1.945216 ]),\n",
       " <a list of 10 Patch objects>)"
      ]
     },
     "execution_count": 11,
     "metadata": {},
     "output_type": "execute_result"
    },
    {
     "data": {
      "image/png": "[encoded data removed]",
      "text/plain": [
       "<matplotlib.figure.Figure at 0x200836390>"
      ]
     },
     "metadata": {},
     "output_type": "display_data"
    }
   ],
   "source": [
    "plt.hist(sampler.trace('CG331_CG321_CG321_CG331_2_K')[:])"
   ]
  },
  {
   "cell_type": "code",
   "execution_count": 12,
   "metadata": {
    "collapsed": false
   },
   "outputs": [
    {
     "data": {
      "text/plain": [
       "(array([  4.69150000e+04,   5.30510000e+04,   8.00000000e+00,\n",
       "          1.00000000e+00,   1.20000000e+01,   1.00000000e+00,\n",
       "          4.00000000e+00,   3.00000000e+00,   0.00000000e+00,\n",
       "          5.00000000e+00]),\n",
       " array([-16.393792 , -14.7544128, -13.1150336, -11.4756544,  -9.8362752,\n",
       "         -8.196896 ,  -6.5575168,  -4.9181376,  -3.2787584,  -1.6393792,\n",
       "          0.       ]),\n",
       " <a list of 10 Patch objects>)"
      ]
     },
     "execution_count": 12,
     "metadata": {},
     "output_type": "execute_result"
    },
    {
     "data": {
      "image/png": "[encoded data removed]",
      "text/plain": [
       "<matplotlib.figure.Figure at 0x200884bd0>"
      ]
     },
     "metadata": {},
     "output_type": "display_data"
    }
   ],
   "source": [
    "plt.hist(sampler.trace('CG331_CG321_CG321_CG331_3_K')[:])"
   ]
  },
  {
   "cell_type": "code",
   "execution_count": 13,
   "metadata": {
    "collapsed": false
   },
   "outputs": [
    {
     "data": {
      "text/plain": [
       "(array([  1.65000000e+02,   3.67400000e+03,   4.66560000e+04,\n",
       "          4.58050000e+04,   3.58100000e+03,   8.70000000e+01,\n",
       "          1.20000000e+01,   0.00000000e+00,   5.00000000e+00,\n",
       "          1.50000000e+01]),\n",
       " array([-2.379916 , -1.7925251, -1.2051342, -0.6177433, -0.0303524,\n",
       "         0.5570385,  1.1444294,  1.7318203,  2.3192112,  2.9066021,\n",
       "         3.493993 ]),\n",
       " <a list of 10 Patch objects>)"
      ]
     },
     "execution_count": 13,
     "metadata": {},
     "output_type": "execute_result"
    },
    {
     "data": {
      "image/png": "[encoded data removed]",
      "text/plain": [
       "<matplotlib.figure.Figure at 0x200a7f550>"
      ]
     },
     "metadata": {},
     "output_type": "display_data"
    }
   ],
   "source": [
    "plt.hist(sampler.trace('CG331_CG321_CG321_CG331_4_K')[:])"
   ]
  },
  {
   "cell_type": "code",
   "execution_count": 14,
   "metadata": {
    "collapsed": false
   },
   "outputs": [
    {
     "data": {
      "text/plain": [
       "(array([  7.00000000e+00,   5.20000000e+01,   2.75000000e+02,\n",
       "          3.79600000e+03,   2.74130000e+04,   4.86510000e+04,\n",
       "          1.76910000e+04,   2.00500000e+03,   8.70000000e+01,\n",
       "          2.30000000e+01]),\n",
       " array([-3.012794 , -2.5987312, -2.1846684, -1.7706056, -1.3565428,\n",
       "        -0.94248  , -0.5284172, -0.1143544,  0.2997084,  0.7137712,\n",
       "         1.127834 ]),\n",
       " <a list of 10 Patch objects>)"
      ]
     },
     "execution_count": 14,
     "metadata": {},
     "output_type": "execute_result"
    },
    {
     "data": {
      "image/png": "[encoded data removed]",
      "text/plain": [
       "<matplotlib.figure.Figure at 0x11b66e950>"
      ]
     },
     "metadata": {},
     "output_type": "display_data"
    }
   ],
   "source": [
    "plt.hist(sampler.trace('CG331_CG321_CG321_CG331_6_K')[:])"
   ]
  },
  {
   "cell_type": "code",
   "execution_count": null,
   "metadata": {
    "collapsed": true
   },
   "outputs": [],
   "source": []
  }
 ],
 "metadata": {
  "kernelspec": {
   "display_name": "Python 2",
   "language": "python",
   "name": "python2"
  },
  "language_info": {
   "codemirror_mode": {
    "name": "ipython",
    "version": 2
   },
   "file_extension": ".py",
   "mimetype": "text/x-python",
   "name": "python",
   "nbconvert_exporter": "python",
   "pygments_lexer": "ipython2",
   "version": "2.7.12"
  }
 },
 "nbformat": 4,
 "nbformat_minor": 0
}
