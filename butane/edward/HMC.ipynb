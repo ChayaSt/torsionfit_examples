{
 "cells": [
  {
   "cell_type": "code",
   "execution_count": 1,
   "metadata": {
    "collapsed": true
   },
   "outputs": [],
   "source": [
    "%matplotlib inline\n",
    "import matplotlib.pyplot as plt\n",
    "from torsionfit.database import qmdatabase as ScanSet\n",
    "import torsionfit.model as Model\n",
    "from torsionfit.backends import sqlite_plus\n",
    "from torsionfit import parameters\n",
    "from parmed.charmm import CharmmParameterSet, CharmmPsfFile\n",
    "import torsionfit.parameters as par\n",
    "import numpy as np\n",
    "from edward.models import Normal, Categorical, Uniform, Empirical, TransformedDistribution\n",
    "import tensorflow as tf\n",
    "from simtk import unit\n",
    "import copy\n",
    "import edward as ed\n",
    "#from edward.util import check_latent_vars, copy\n",
    "from collections import OrderedDict\n",
    "\n"
   ]
  },
  {
   "cell_type": "code",
   "execution_count": 2,
   "metadata": {
    "collapsed": true
   },
   "outputs": [],
   "source": [
    "# Turn off dihedral energy for to get residuals \n",
    "param = CharmmParameterSet('../param/par_all36_cgenff.prm', '../param/top_all36_cgenff.rtf')\n",
    "structure = '../structure/butane.psf'\n",
    "struct_parmed = CharmmPsfFile(structure)\n",
    "scan = '../torsion_scans/MP2_torsion_scan/'\n",
    "\n",
    "dih_list = [('CG331', 'CG321', 'CG321', 'CG331'),\n",
    "            ('HGA2', 'CG321', 'CG321', 'HGA2'),\n",
    "           ('CG331', 'CG321', 'CG321', 'HGA2')]\n",
    "par.turn_off_params(param=param, structure=struct_parmed, dihedral=dih_list, copy=False)\n"
   ]
  },
  {
   "cell_type": "code",
   "execution_count": 3,
   "metadata": {},
   "outputs": [
    {
     "name": "stdout",
     "output_type": "stream",
     "text": [
      "[Psi /Users/sternc1/src/ChayaSt/torsionfit_examples/butane/edward/../torsion_scans/MP2_torsion_scan/0/butane_0.out2 WARNING] In logfileparser.py, line 471, line not all dashes as expected: --------------------------------------------------------------------------------------------- ~\n",
      "[Psi /Users/sternc1/src/ChayaSt/torsionfit_examples/butane/edward/../torsion_scans/MP2_torsion_scan/10/butane_10.out2 WARNING] In logfileparser.py, line 471, line not all dashes as expected: --------------------------------------------------------------------------------------------- ~\n",
      "[Psi /Users/sternc1/src/ChayaSt/torsionfit_examples/butane/edward/../torsion_scans/MP2_torsion_scan/20/butane_20.out2 WARNING] In logfileparser.py, line 471, line not all dashes as expected: --------------------------------------------------------------------------------------------- ~\n"
     ]
    },
    {
     "name": "stderr",
     "output_type": "stream",
     "text": [
      "/Users/sternc1/anaconda/envs/tensorflow3/lib/python3.6/site-packages/torsionfit-0+untagged.581.g8a2414f.dirty-py3.6.egg/torsionfit/database/qmdatabase.py:190: UserWarning: Warning: Optimizer failed for /Users/sternc1/src/ChayaSt/torsionfit_examples/butane/edward/../torsion_scans/MP2_torsion_scan/10/butane_10.out2\n",
      "  warnings.warn(\"Warning: Optimizer failed for {}\".format(f))\n"
     ]
    },
    {
     "name": "stdout",
     "output_type": "stream",
     "text": [
      "[Psi /Users/sternc1/src/ChayaSt/torsionfit_examples/butane/edward/../torsion_scans/MP2_torsion_scan/30/butane_30.out2 WARNING] In logfileparser.py, line 471, line not all dashes as expected: --------------------------------------------------------------------------------------------- ~\n",
      "[Psi /Users/sternc1/src/ChayaSt/torsionfit_examples/butane/edward/../torsion_scans/MP2_torsion_scan/40/butane_40.out2 WARNING] In logfileparser.py, line 471, line not all dashes as expected: --------------------------------------------------------------------------------------------- ~\n",
      "[Psi /Users/sternc1/src/ChayaSt/torsionfit_examples/butane/edward/../torsion_scans/MP2_torsion_scan/50/butane_50.out2 WARNING] In logfileparser.py, line 471, line not all dashes as expected: --------------------------------------------------------------------------------------------- ~\n",
      "[Psi /Users/sternc1/src/ChayaSt/torsionfit_examples/butane/edward/../torsion_scans/MP2_torsion_scan/60/butane_60.out2 WARNING] In logfileparser.py, line 471, line not all dashes as expected: --------------------------------------------------------------------------------------------- ~\n",
      "[Psi /Users/sternc1/src/ChayaSt/torsionfit_examples/butane/edward/../torsion_scans/MP2_torsion_scan/70/butane_70.out2 WARNING] In logfileparser.py, line 471, line not all dashes as expected: --------------------------------------------------------------------------------------------- ~\n",
      "[Psi /Users/sternc1/src/ChayaSt/torsionfit_examples/butane/edward/../torsion_scans/MP2_torsion_scan/80/butane_80.out2 WARNING] In logfileparser.py, line 471, line not all dashes as expected: --------------------------------------------------------------------------------------------- ~\n",
      "[Psi /Users/sternc1/src/ChayaSt/torsionfit_examples/butane/edward/../torsion_scans/MP2_torsion_scan/90/butane_90.out2 WARNING] In logfileparser.py, line 471, line not all dashes as expected: --------------------------------------------------------------------------------------------- ~\n",
      "[Psi /Users/sternc1/src/ChayaSt/torsionfit_examples/butane/edward/../torsion_scans/MP2_torsion_scan/100/butane_100.out2 WARNING] In logfileparser.py, line 471, line not all dashes as expected: --------------------------------------------------------------------------------------------- ~\n",
      "[Psi /Users/sternc1/src/ChayaSt/torsionfit_examples/butane/edward/../torsion_scans/MP2_torsion_scan/110/butane_110.out2 WARNING] In logfileparser.py, line 471, line not all dashes as expected: --------------------------------------------------------------------------------------------- ~\n",
      "[Psi /Users/sternc1/src/ChayaSt/torsionfit_examples/butane/edward/../torsion_scans/MP2_torsion_scan/120/butane_120.out2 WARNING] In logfileparser.py, line 471, line not all dashes as expected: --------------------------------------------------------------------------------------------- ~\n",
      "[Psi /Users/sternc1/src/ChayaSt/torsionfit_examples/butane/edward/../torsion_scans/MP2_torsion_scan/130/butane_130.out2 WARNING] In logfileparser.py, line 471, line not all dashes as expected: --------------------------------------------------------------------------------------------- ~\n",
      "[Psi /Users/sternc1/src/ChayaSt/torsionfit_examples/butane/edward/../torsion_scans/MP2_torsion_scan/140/butane_140.out2 WARNING] In logfileparser.py, line 471, line not all dashes as expected: --------------------------------------------------------------------------------------------- ~\n",
      "[Psi /Users/sternc1/src/ChayaSt/torsionfit_examples/butane/edward/../torsion_scans/MP2_torsion_scan/150/butane_150.out2 WARNING] In logfileparser.py, line 471, line not all dashes as expected: --------------------------------------------------------------------------------------------- ~\n",
      "[Psi /Users/sternc1/src/ChayaSt/torsionfit_examples/butane/edward/../torsion_scans/MP2_torsion_scan/160/butane_160.out2 WARNING] In logfileparser.py, line 471, line not all dashes as expected: --------------------------------------------------------------------------------------------- ~\n",
      "[Psi /Users/sternc1/src/ChayaSt/torsionfit_examples/butane/edward/../torsion_scans/MP2_torsion_scan/170/butane_170.out2 WARNING] In logfileparser.py, line 471, line not all dashes as expected: --------------------------------------------------------------------------------------------- ~\n",
      "[Psi /Users/sternc1/src/ChayaSt/torsionfit_examples/butane/edward/../torsion_scans/MP2_torsion_scan/180/butane_180.out2 WARNING] In logfileparser.py, line 471, line not all dashes as expected: --------------------------------------------------------------------------------------------- ~\n",
      "[Psi /Users/sternc1/src/ChayaSt/torsionfit_examples/butane/edward/../torsion_scans/MP2_torsion_scan/190/butane_190.out2 WARNING] In logfileparser.py, line 471, line not all dashes as expected: --------------------------------------------------------------------------------------------- ~\n",
      "[Psi /Users/sternc1/src/ChayaSt/torsionfit_examples/butane/edward/../torsion_scans/MP2_torsion_scan/200/butane_200.out2 WARNING] In logfileparser.py, line 471, line not all dashes as expected: --------------------------------------------------------------------------------------------- ~\n",
      "[Psi /Users/sternc1/src/ChayaSt/torsionfit_examples/butane/edward/../torsion_scans/MP2_torsion_scan/210/butane_210.out2 WARNING] In logfileparser.py, line 471, line not all dashes as expected: --------------------------------------------------------------------------------------------- ~\n",
      "[Psi /Users/sternc1/src/ChayaSt/torsionfit_examples/butane/edward/../torsion_scans/MP2_torsion_scan/220/butane_220.out2 WARNING] In logfileparser.py, line 471, line not all dashes as expected: --------------------------------------------------------------------------------------------- ~\n",
      "[Psi /Users/sternc1/src/ChayaSt/torsionfit_examples/butane/edward/../torsion_scans/MP2_torsion_scan/230/butane_230.out2 WARNING] In logfileparser.py, line 471, line not all dashes as expected: --------------------------------------------------------------------------------------------- ~\n",
      "[Psi /Users/sternc1/src/ChayaSt/torsionfit_examples/butane/edward/../torsion_scans/MP2_torsion_scan/240/butane_240.out2 WARNING] In logfileparser.py, line 471, line not all dashes as expected: --------------------------------------------------------------------------------------------- ~\n",
      "[Psi /Users/sternc1/src/ChayaSt/torsionfit_examples/butane/edward/../torsion_scans/MP2_torsion_scan/250/butane_250.out2 WARNING] In logfileparser.py, line 471, line not all dashes as expected: --------------------------------------------------------------------------------------------- ~\n",
      "[Psi /Users/sternc1/src/ChayaSt/torsionfit_examples/butane/edward/../torsion_scans/MP2_torsion_scan/260/butane_260.out2 WARNING] In logfileparser.py, line 471, line not all dashes as expected: --------------------------------------------------------------------------------------------- ~\n",
      "[Psi /Users/sternc1/src/ChayaSt/torsionfit_examples/butane/edward/../torsion_scans/MP2_torsion_scan/270/butane_270.out2 WARNING] In logfileparser.py, line 471, line not all dashes as expected: --------------------------------------------------------------------------------------------- ~\n",
      "[Psi /Users/sternc1/src/ChayaSt/torsionfit_examples/butane/edward/../torsion_scans/MP2_torsion_scan/280/butane_280.out2 WARNING] In logfileparser.py, line 471, line not all dashes as expected: --------------------------------------------------------------------------------------------- ~\n",
      "[Psi /Users/sternc1/src/ChayaSt/torsionfit_examples/butane/edward/../torsion_scans/MP2_torsion_scan/290/butane_290.out2 WARNING] In logfileparser.py, line 471, line not all dashes as expected: --------------------------------------------------------------------------------------------- ~\n",
      "[Psi /Users/sternc1/src/ChayaSt/torsionfit_examples/butane/edward/../torsion_scans/MP2_torsion_scan/300/butane_300.out2 WARNING] In logfileparser.py, line 471, line not all dashes as expected: --------------------------------------------------------------------------------------------- ~\n",
      "[Psi /Users/sternc1/src/ChayaSt/torsionfit_examples/butane/edward/../torsion_scans/MP2_torsion_scan/310/butane_310.out2 WARNING] In logfileparser.py, line 471, line not all dashes as expected: --------------------------------------------------------------------------------------------- ~\n"
     ]
    },
    {
     "name": "stdout",
     "output_type": "stream",
     "text": [
      "[Psi /Users/sternc1/src/ChayaSt/torsionfit_examples/butane/edward/../torsion_scans/MP2_torsion_scan/320/butane_320.out2 WARNING] In logfileparser.py, line 471, line not all dashes as expected: --------------------------------------------------------------------------------------------- ~\n",
      "[Psi /Users/sternc1/src/ChayaSt/torsionfit_examples/butane/edward/../torsion_scans/MP2_torsion_scan/330/butane_330.out2 WARNING] In logfileparser.py, line 471, line not all dashes as expected: --------------------------------------------------------------------------------------------- ~\n",
      "[Psi /Users/sternc1/src/ChayaSt/torsionfit_examples/butane/edward/../torsion_scans/MP2_torsion_scan/340/butane_340.out2 WARNING] In logfileparser.py, line 471, line not all dashes as expected: --------------------------------------------------------------------------------------------- ~\n",
      "[Psi /Users/sternc1/src/ChayaSt/torsionfit_examples/butane/edward/../torsion_scans/MP2_torsion_scan/350/butane_350.out2 WARNING] In logfileparser.py, line 471, line not all dashes as expected: --------------------------------------------------------------------------------------------- ~\n",
      "[Psi /Users/sternc1/src/ChayaSt/torsionfit_examples/butane/edward/../torsion_scans/MP2_torsion_scan/360/butane_360.out2 WARNING] In logfileparser.py, line 471, line not all dashes as expected: --------------------------------------------------------------------------------------------- ~\n"
     ]
    }
   ],
   "source": [
    "scan = ScanSet.parse_psi4_out(scan, structure, pattern='*.out2')\n",
    "scan = scan.remove_nonoptimized()\n",
    "scan.compute_energy(param)"
   ]
  },
  {
   "cell_type": "code",
   "execution_count": 4,
   "metadata": {},
   "outputs": [
    {
     "data": {
      "text/plain": [
       "<matplotlib.text.Text at 0x12ccd4b38>"
      ]
     },
     "execution_count": 4,
     "metadata": {},
     "output_type": "execute_result"
    },
    {
     "data": {
      "image/png": "[encoded data removed]",
      "text/plain": [
       "<matplotlib.figure.Figure at 0x12ccb11d0>"
      ]
     },
     "metadata": {},
     "output_type": "display_data"
    }
   ],
   "source": [
    "plt.plot(scan.mm_energy, 'o', label='MM energy')\n",
    "plt.plot(scan.delta_energy, 'o', label='residuals')\n",
    "plt.plot(scan.qm_energy, 'o', label='QM energy')\n",
    "plt.legend()\n",
    "plt.xlabel('frame')\n",
    "plt.ylabel('Relative Energy kJ/mol')"
   ]
  },
  {
   "cell_type": "code",
   "execution_count": 5,
   "metadata": {},
   "outputs": [
    {
     "name": "stderr",
     "output_type": "stream",
     "text": [
      "/Users/sternc1/anaconda/envs/tensorflow3/lib/python3.6/site-packages/torsionfit-0+untagged.581.g8a2414f.dirty-py3.6.egg/torsionfit/database/qmdatabase.py:602: UserWarning: type frequency values don't sum up to number of dihedral\n",
      "  warnings.warn(\"type frequency values don't sum up to number of dihedral\")\n",
      "/Users/sternc1/anaconda/envs/tensorflow3/lib/python3.6/site-packages/torsionfit-0+untagged.581.g8a2414f.dirty-py3.6.egg/torsionfit/database/qmdatabase.py:617: UserWarning: torsion ('HGA3', 'CG331', 'CG321', 'HGA2') is not in list of phis to precalculate but is in the structure. Are you sure you did not want to fit it?\n",
      "  \"Are you sure you did not want to fit it?\".format(torsion_type))\n",
      "/Users/sternc1/anaconda/envs/tensorflow3/lib/python3.6/site-packages/torsionfit-0+untagged.581.g8a2414f.dirty-py3.6.egg/torsionfit/database/qmdatabase.py:617: UserWarning: torsion ('HGA3', 'CG331', 'CG321', 'CG321') is not in list of phis to precalculate but is in the structure. Are you sure you did not want to fit it?\n",
      "  \"Are you sure you did not want to fit it?\".format(torsion_type))\n",
      "/Users/sternc1/anaconda/envs/tensorflow3/lib/python3.6/site-packages/torsionfit-0+untagged.581.g8a2414f.dirty-py3.6.egg/torsionfit/database/qmdatabase.py:617: UserWarning: torsion ('CG321', 'CG321', 'CG331', 'HGA3') is not in list of phis to precalculate but is in the structure. Are you sure you did not want to fit it?\n",
      "  \"Are you sure you did not want to fit it?\".format(torsion_type))\n",
      "/Users/sternc1/anaconda/envs/tensorflow3/lib/python3.6/site-packages/torsionfit-0+untagged.581.g8a2414f.dirty-py3.6.egg/torsionfit/database/qmdatabase.py:617: UserWarning: torsion ('HGA2', 'CG321', 'CG331', 'HGA3') is not in list of phis to precalculate but is in the structure. Are you sure you did not want to fit it?\n",
      "  \"Are you sure you did not want to fit it?\".format(torsion_type))\n"
     ]
    }
   ],
   "source": [
    "# Edward Model No reversible jump\n",
    "# TensorFlow interactive session\n",
    "tf.InteractiveSession()\n",
    "\n",
    "# Precalculate phis and cosines\n",
    "to_optimize = [('CG331', 'CG321', 'CG321', 'CG331'),\n",
    "              ('HGA2', 'CG321', 'CG321', 'HGA2'), \n",
    "              ('CG331', 'CG321', 'CG321', 'HGA2')]\n",
    "scan.build_phis(to_optimize)\n",
    "phis_np = np.zeros((36, 6, len(to_optimize)))\n",
    "n_np = np.array([1., 2., 3., 4., 5., 6.])\n",
    "# Precalculate 1+cos. This is also the gradient of the torsion energy with respect to K. \n",
    "# Question is, when I also want to sample over n, the gradient will be different. \n",
    "for i, t in enumerate(to_optimize):\n",
    "    phis_np[:, :, i] = (1+np.cos(scan.phis[t][:, np.newaxis]*n_np[:, np.newaxis])).sum(-1)\n",
    "phis = tf.constant(phis_np, dtype=tf.float32)  \n",
    "\n",
    "# Model will fit to residuals\n",
    "residual_data = tf.constant(copy.deepcopy(scan.delta_energy.value_in_unit(unit=unit.kilojoule_per_mole)), \n",
    "                            dtype=tf.float32)\n"
   ]
  },
  {
   "cell_type": "code",
   "execution_count": 20,
   "metadata": {
    "collapsed": true
   },
   "outputs": [],
   "source": [
    "ds = tf.contrib.distributions\n",
    "# K will have a normal prior with a Jefferey's prior on the precision\n",
    "# Create priors for parameters\n",
    "# Jeffery's priors on sigma\n",
    "\n",
    "log_sgima_K = Uniform(low=tf.ones(len(to_optimize))*-4.6052, high=tf.ones(len(to_optimize))*3.453)\n",
    "sigma_K = TransformedDistribution(distribution=log_sgima_K, bijector=ds.bijectors.Exp(), name='sigma_k')\n",
    "K = Normal(loc=tf.zeros((len(n_np), len(to_optimize))), scale=1.0)\n",
    "proposal_probs = {}\n",
    "for i, t in enumerate(dih_list):\n",
    "    name = t[0] + '_' + t[1] + '_' + t[2] + '_' + t[3]\n",
    "    name_k = name + '_K'\n",
    "    # create a scale with only one nonzero component in right position using i\n",
    "    std = np.zeros((len(dih_list)), dtype='float32')\n",
    "    std[i] = 1.0\n",
    "    proposal_probs[name_k] = Normal(loc=K, scale=sigma_K[i]*std)\n",
    "    name_sigma = name + '_sigma'\n",
    "    proposal_probs[name_sigma] = Normal(loc=sigma_K, scale=std)\n",
    "\n",
    "# Gaussian Likelihood with Jefferey's prior on sigma\n",
    "log_sigma = Uniform(low=[-4.6052], high=[3.453])\n",
    "sigma = TransformedDistribution(distribution=log_sigma, bijector=ds.bijectors.Exp(), name='sigma')\n",
    "proposal_probs['sigma'] = Normal(loc=sigma, scale=1.0)\n",
    "#sigma = tf.map_fn(lambda x: tf.exp(x), log_sigma)\n",
    "#likelihood = Normal(loc=Fourier_sum, scale=sigma)"
   ]
  },
  {
   "cell_type": "code",
   "execution_count": 17,
   "metadata": {
    "collapsed": true
   },
   "outputs": [],
   "source": [
    "T = 1000\n",
    "ds = tf.contrib.distributions\n",
    "K = Normal(loc=tf.zeros((len(n_np), len(to_optimize))), scale=1.0)\n",
    "Fourier_sum = tf.reduce_sum(tf.reduce_sum(tf.multiply(phis, K), axis=1), axis=1)\n",
    "Fourier_sum_rel = Fourier_sum - tf.reduce_min(Fourier_sum)\n",
    "proposal_K = Normal(loc=K, scale=0.03)\n",
    "qK = Empirical(tf.Variable(tf.zeros([T, 6, 3])))\n",
    "log_sigma = Uniform(low=[-4.6052], high=[3.453])\n",
    "sigma = TransformedDistribution(distribution=log_sigma, bijector=ds.bijectors.Exp(), name='sigma')\n",
    "proposal_sigma = Normal(loc=sigma, scale=0.03)\n",
    "qsigma = Empirical(tf.Variable(tf.zeros([T, 1])))"
   ]
  },
  {
   "cell_type": "code",
   "execution_count": 18,
   "metadata": {},
   "outputs": [
    {
     "name": "stdout",
     "output_type": "stream",
     "text": [
      "CPU times: user 5.77 ms, sys: 222 µs, total: 5.99 ms\n",
      "Wall time: 5.82 ms\n"
     ]
    }
   ],
   "source": [
    "%%time\n",
    "# Fourier sum \n",
    "Fourier_sum = tf.reduce_sum(tf.reduce_sum(tf.multiply(phis, K), axis=1), axis=1)"
   ]
  },
  {
   "cell_type": "code",
   "execution_count": 19,
   "metadata": {
    "collapsed": true
   },
   "outputs": [],
   "source": [
    "likelihood = Normal(loc=Fourier_sum, scale=1.0)"
   ]
  },
  {
   "cell_type": "code",
   "execution_count": 20,
   "metadata": {},
   "outputs": [],
   "source": [
    "# Set up HMC inference \n",
    "inference = ed.HMC(latent_vars=[K], data={likelihood: residual_data})"
   ]
  },
  {
   "cell_type": "code",
   "execution_count": 29,
   "metadata": {},
   "outputs": [],
   "source": [
    "inference.initialize(step_size=0.000000001)"
   ]
  },
  {
   "cell_type": "code",
   "execution_count": 30,
   "metadata": {},
   "outputs": [
    {
     "name": "stdout",
     "output_type": "stream",
     "text": [
      "10000/10000 [100%] ██████████████████████████████ Elapsed: 19s | Acceptance Rate: 0.000\n"
     ]
    }
   ],
   "source": [
    "inference.run()"
   ]
  },
  {
   "cell_type": "code",
   "execution_count": null,
   "metadata": {
    "collapsed": true
   },
   "outputs": [],
   "source": [
    "# Check what's going on with the gradient\n"
   ]
  }
 ],
 "metadata": {
  "kernelspec": {
   "display_name": "Python 3",
   "language": "python",
   "name": "python3"
  },
  "language_info": {
   "codemirror_mode": {
    "name": "ipython",
    "version": 3
   },
   "file_extension": ".py",
   "mimetype": "text/x-python",
   "name": "python",
   "nbconvert_exporter": "python",
   "pygments_lexer": "ipython3",
   "version": "3.6.1"
  }
 },
 "nbformat": 4,
 "nbformat_minor": 2
}
