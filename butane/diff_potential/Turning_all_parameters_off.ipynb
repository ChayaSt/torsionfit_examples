{
 "cells": [
  {
   "cell_type": "code",
   "execution_count": 1,
   "metadata": {
    "collapsed": true
   },
   "outputs": [],
   "source": [
    "%matplotlib inline\n",
    "import matplotlib.pyplot as plt\n",
    "import simtk.openmm as mm\n",
    "import simtk.unit as u\n",
    "from torsionfit import TorsionScanSet as ScanSet\n",
    "import torsionfit.TorsionFitModel as Model\n",
    "from torsionfit import sqlite_plus\n",
    "from pymc import MCMC\n",
    "from parmed.charmm import CharmmParameterSet, CharmmPsfFile\n",
    "from torsionfit import plots\n",
    "from matplotlib.backends.backend_pdf import PdfPages\n",
    "import numpy as np"
   ]
  },
  {
   "cell_type": "code",
   "execution_count": 2,
   "metadata": {
    "collapsed": false
   },
   "outputs": [
    {
     "data": {
      "text/plain": [
       "[<matplotlib.lines.Line2D at 0x11dd9e810>]"
      ]
     },
     "execution_count": 2,
     "metadata": {},
     "output_type": "execute_result"
    },
    {
     "data": {
      "image/png": "[encoded data removed]",
      "text/plain": [
       "<matplotlib.figure.Figure at 0x11b661d50>"
      ]
     },
     "metadata": {},
     "output_type": "display_data"
    }
   ],
   "source": [
    "param = CharmmParameterSet('../../data/charmm_ff/top_all36_cgenff.rtf',\n",
    "                           '../../data/charmm_ff/par_all36_cgenff.prm')\n",
    "structure = '../structure/butane.psf'\n",
    "scan = '../torsion_scans/DFT_b3lyp/butane_scan_b3lyp_360.log'\n",
    "\n",
    "butane_scan = ScanSet.parse_psi4(scan, structure)\n",
    "butane_scan.compute_energy(param)\n",
    "\n",
    "plt.plot(butane_scan.mm_energy)"
   ]
  },
  {
   "cell_type": "code",
   "execution_count": 3,
   "metadata": {
    "collapsed": true
   },
   "outputs": [],
   "source": [
    "# Print out all forces before I start setting things to zero\n",
    "forces = {butane_scan.system.getForce(i).__class__.__name__: butane_scan.system.getForce(i) \n",
    "         for i in range(butane_scan.system.getNumForces())}\n"
   ]
  },
  {
   "cell_type": "code",
   "execution_count": 4,
   "metadata": {
    "collapsed": false
   },
   "outputs": [
    {
     "name": "stdout",
     "output_type": "stream",
     "text": [
      "[Quantity(value=0.09, unit=elementary charge), Quantity(value=0.23876085646161097, unit=nanometer), Quantity(value=0.100416, unit=kilojoule/mole)]\n",
      "[Quantity(value=0.09, unit=elementary charge), Quantity(value=0.23876085646161097, unit=nanometer), Quantity(value=0.100416, unit=kilojoule/mole)]\n",
      "[Quantity(value=0.09, unit=elementary charge), Quantity(value=0.23876085646161097, unit=nanometer), Quantity(value=0.100416, unit=kilojoule/mole)]\n",
      "[Quantity(value=-0.27, unit=elementary charge), Quantity(value=0.3652684744375391, unit=nanometer), Quantity(value=0.32635200000000003, unit=kilojoule/mole)]\n",
      "[Quantity(value=0.09, unit=elementary charge), Quantity(value=0.23876085646161097, unit=nanometer), Quantity(value=0.14644000000000001, unit=kilojoule/mole)]\n",
      "[Quantity(value=0.09, unit=elementary charge), Quantity(value=0.23876085646161097, unit=nanometer), Quantity(value=0.14644000000000001, unit=kilojoule/mole)]\n",
      "[Quantity(value=-0.18, unit=elementary charge), Quantity(value=0.35814128469241635, unit=nanometer), Quantity(value=0.234304, unit=kilojoule/mole)]\n",
      "[Quantity(value=0.09, unit=elementary charge), Quantity(value=0.23876085646161097, unit=nanometer), Quantity(value=0.14644000000000001, unit=kilojoule/mole)]\n",
      "[Quantity(value=0.09, unit=elementary charge), Quantity(value=0.23876085646161097, unit=nanometer), Quantity(value=0.14644000000000001, unit=kilojoule/mole)]\n",
      "[Quantity(value=-0.18, unit=elementary charge), Quantity(value=0.35814128469241635, unit=nanometer), Quantity(value=0.234304, unit=kilojoule/mole)]\n",
      "[Quantity(value=0.09, unit=elementary charge), Quantity(value=0.23876085646161097, unit=nanometer), Quantity(value=0.100416, unit=kilojoule/mole)]\n",
      "[Quantity(value=0.09, unit=elementary charge), Quantity(value=0.23876085646161097, unit=nanometer), Quantity(value=0.100416, unit=kilojoule/mole)]\n",
      "[Quantity(value=0.09, unit=elementary charge), Quantity(value=0.23876085646161097, unit=nanometer), Quantity(value=0.100416, unit=kilojoule/mole)]\n",
      "[Quantity(value=-0.27, unit=elementary charge), Quantity(value=0.3652684744375391, unit=nanometer), Quantity(value=0.32635200000000003, unit=kilojoule/mole)]\n"
     ]
    }
   ],
   "source": [
    "nb = forces['NonbondedForce']\n",
    "for i in range(nb.getNumParticles()):\n",
    "    print nb.getParticleParameters(i)"
   ]
  },
  {
   "cell_type": "code",
   "execution_count": 5,
   "metadata": {
    "collapsed": false
   },
   "outputs": [
    {
     "name": "stdout",
     "output_type": "stream",
     "text": [
      "[0, 6, Quantity(value=0.21789999999999998, unit=nanometer), Quantity(value=18853.104000000003, unit=kilojoule/(nanometer**2*mole))]\n",
      "[0, 2, Quantity(value=0.18020000000000003, unit=nanometer), Quantity(value=4518.72, unit=kilojoule/(nanometer**2*mole))]\n",
      "[0, 1, Quantity(value=0.18020000000000003, unit=nanometer), Quantity(value=4518.72, unit=kilojoule/(nanometer**2*mole))]\n",
      "[1, 6, Quantity(value=0.21789999999999998, unit=nanometer), Quantity(value=18853.104000000003, unit=kilojoule/(nanometer**2*mole))]\n",
      "[1, 2, Quantity(value=0.18020000000000003, unit=nanometer), Quantity(value=4518.72, unit=kilojoule/(nanometer**2*mole))]\n",
      "[2, 6, Quantity(value=0.21789999999999998, unit=nanometer), Quantity(value=18853.104000000003, unit=kilojoule/(nanometer**2*mole))]\n",
      "[3, 9, Quantity(value=0.2561, unit=nanometer), Quantity(value=6694.400000000001, unit=kilojoule/(nanometer**2*mole))]\n",
      "[3, 5, Quantity(value=0.21789999999999998, unit=nanometer), Quantity(value=18853.104000000003, unit=kilojoule/(nanometer**2*mole))]\n",
      "[3, 4, Quantity(value=0.21789999999999998, unit=nanometer), Quantity(value=18853.104000000003, unit=kilojoule/(nanometer**2*mole))]\n",
      "[4, 9, Quantity(value=0.21789999999999998, unit=nanometer), Quantity(value=18853.104000000003, unit=kilojoule/(nanometer**2*mole))]\n",
      "[4, 5, Quantity(value=0.18020000000000003, unit=nanometer), Quantity(value=4518.72, unit=kilojoule/(nanometer**2*mole))]\n",
      "[5, 9, Quantity(value=0.21789999999999998, unit=nanometer), Quantity(value=18853.104000000003, unit=kilojoule/(nanometer**2*mole))]\n",
      "[6, 13, Quantity(value=0.2561, unit=nanometer), Quantity(value=6694.400000000001, unit=kilojoule/(nanometer**2*mole))]\n",
      "[6, 8, Quantity(value=0.21789999999999998, unit=nanometer), Quantity(value=18853.104000000003, unit=kilojoule/(nanometer**2*mole))]\n",
      "[6, 7, Quantity(value=0.21789999999999998, unit=nanometer), Quantity(value=18853.104000000003, unit=kilojoule/(nanometer**2*mole))]\n",
      "[7, 13, Quantity(value=0.21789999999999998, unit=nanometer), Quantity(value=18853.104000000003, unit=kilojoule/(nanometer**2*mole))]\n",
      "[7, 8, Quantity(value=0.18020000000000003, unit=nanometer), Quantity(value=4518.72, unit=kilojoule/(nanometer**2*mole))]\n",
      "[8, 13, Quantity(value=0.21789999999999998, unit=nanometer), Quantity(value=18853.104000000003, unit=kilojoule/(nanometer**2*mole))]\n",
      "[9, 12, Quantity(value=0.21789999999999998, unit=nanometer), Quantity(value=18853.104000000003, unit=kilojoule/(nanometer**2*mole))]\n",
      "[9, 11, Quantity(value=0.21789999999999998, unit=nanometer), Quantity(value=18853.104000000003, unit=kilojoule/(nanometer**2*mole))]\n",
      "[9, 10, Quantity(value=0.21789999999999998, unit=nanometer), Quantity(value=18853.104000000003, unit=kilojoule/(nanometer**2*mole))]\n",
      "[10, 12, Quantity(value=0.18020000000000003, unit=nanometer), Quantity(value=4518.72, unit=kilojoule/(nanometer**2*mole))]\n",
      "[10, 11, Quantity(value=0.18020000000000003, unit=nanometer), Quantity(value=4518.72, unit=kilojoule/(nanometer**2*mole))]\n",
      "[11, 12, Quantity(value=0.18020000000000003, unit=nanometer), Quantity(value=4518.72, unit=kilojoule/(nanometer**2*mole))]\n"
     ]
    }
   ],
   "source": [
    "bond = forces['HarmonicBondForce']\n",
    "for i in range(bond.getNumBonds()):\n",
    "    print bond.getBondParameters(i)"
   ]
  },
  {
   "cell_type": "code",
   "execution_count": 6,
   "metadata": {
    "collapsed": false
   },
   "outputs": [
    {
     "name": "stdout",
     "output_type": "stream",
     "text": [
      "[0, 3, 6, Quantity(value=1.9216075064457567, unit=radian), Quantity(value=289.5328, unit=kilojoule/(mole*radian**2))]\n",
      "[0, 3, 2, Quantity(value=1.8919369091618534, unit=radian), Quantity(value=297.064, unit=kilojoule/(mole*radian**2))]\n",
      "[0, 3, 1, Quantity(value=1.8919369091618534, unit=radian), Quantity(value=297.064, unit=kilojoule/(mole*radian**2))]\n",
      "[1, 3, 6, Quantity(value=1.9216075064457567, unit=radian), Quantity(value=289.5328, unit=kilojoule/(mole*radian**2))]\n",
      "[1, 3, 2, Quantity(value=1.8919369091618534, unit=radian), Quantity(value=297.064, unit=kilojoule/(mole*radian**2))]\n",
      "[2, 3, 6, Quantity(value=1.9216075064457567, unit=radian), Quantity(value=289.5328, unit=kilojoule/(mole*radian**2))]\n",
      "[3, 6, 9, Quantity(value=2.007128639793479, unit=radian), Quantity(value=485.344, unit=kilojoule/(mole*radian**2))]\n",
      "[3, 6, 5, Quantity(value=1.9216075064457567, unit=radian), Quantity(value=289.5328, unit=kilojoule/(mole*radian**2))]\n",
      "[3, 6, 4, Quantity(value=1.9216075064457567, unit=radian), Quantity(value=289.5328, unit=kilojoule/(mole*radian**2))]\n",
      "[4, 6, 9, Quantity(value=1.9216075064457567, unit=radian), Quantity(value=221.752, unit=kilojoule/(mole*radian**2))]\n",
      "[4, 6, 5, Quantity(value=1.9024088846738192, unit=radian), Quantity(value=297.064, unit=kilojoule/(mole*radian**2))]\n",
      "[5, 6, 9, Quantity(value=1.9216075064457567, unit=radian), Quantity(value=221.752, unit=kilojoule/(mole*radian**2))]\n",
      "[6, 9, 13, Quantity(value=2.007128639793479, unit=radian), Quantity(value=485.344, unit=kilojoule/(mole*radian**2))]\n",
      "[6, 9, 8, Quantity(value=1.9216075064457567, unit=radian), Quantity(value=221.752, unit=kilojoule/(mole*radian**2))]\n",
      "[6, 9, 7, Quantity(value=1.9216075064457567, unit=radian), Quantity(value=221.752, unit=kilojoule/(mole*radian**2))]\n",
      "[7, 9, 13, Quantity(value=1.9216075064457567, unit=radian), Quantity(value=289.5328, unit=kilojoule/(mole*radian**2))]\n",
      "[7, 9, 8, Quantity(value=1.9024088846738192, unit=radian), Quantity(value=297.064, unit=kilojoule/(mole*radian**2))]\n",
      "[8, 9, 13, Quantity(value=1.9216075064457567, unit=radian), Quantity(value=289.5328, unit=kilojoule/(mole*radian**2))]\n",
      "[9, 13, 12, Quantity(value=1.9216075064457567, unit=radian), Quantity(value=289.5328, unit=kilojoule/(mole*radian**2))]\n",
      "[9, 13, 11, Quantity(value=1.9216075064457567, unit=radian), Quantity(value=289.5328, unit=kilojoule/(mole*radian**2))]\n",
      "[9, 13, 10, Quantity(value=1.9216075064457567, unit=radian), Quantity(value=289.5328, unit=kilojoule/(mole*radian**2))]\n",
      "[10, 13, 12, Quantity(value=1.8919369091618534, unit=radian), Quantity(value=297.064, unit=kilojoule/(mole*radian**2))]\n",
      "[10, 13, 11, Quantity(value=1.8919369091618534, unit=radian), Quantity(value=297.064, unit=kilojoule/(mole*radian**2))]\n",
      "[11, 13, 12, Quantity(value=1.8919369091618534, unit=radian), Quantity(value=297.064, unit=kilojoule/(mole*radian**2))]\n"
     ]
    }
   ],
   "source": [
    "angle = forces['HarmonicAngleForce']\n",
    "for i in range(angle.getNumAngles()):\n",
    "    print angle.getAngleParameters(i)"
   ]
  },
  {
   "cell_type": "code",
   "execution_count": 7,
   "metadata": {
    "collapsed": false
   },
   "outputs": [
    {
     "name": "stdout",
     "output_type": "stream",
     "text": [
      "[0, 3, 6, 4, 3, Quantity(value=0.0, unit=radian), Quantity(value=0.66944, unit=kilojoule/mole)]\n",
      "[0, 3, 6, 5, 3, Quantity(value=0.0, unit=radian), Quantity(value=0.66944, unit=kilojoule/mole)]\n",
      "[0, 3, 6, 9, 3, Quantity(value=0.0, unit=radian), Quantity(value=0.66944, unit=kilojoule/mole)]\n",
      "[1, 3, 6, 4, 3, Quantity(value=0.0, unit=radian), Quantity(value=0.66944, unit=kilojoule/mole)]\n",
      "[1, 3, 6, 5, 3, Quantity(value=0.0, unit=radian), Quantity(value=0.66944, unit=kilojoule/mole)]\n",
      "[1, 3, 6, 9, 3, Quantity(value=0.0, unit=radian), Quantity(value=0.66944, unit=kilojoule/mole)]\n",
      "[2, 3, 6, 4, 3, Quantity(value=0.0, unit=radian), Quantity(value=0.66944, unit=kilojoule/mole)]\n",
      "[2, 3, 6, 5, 3, Quantity(value=0.0, unit=radian), Quantity(value=0.66944, unit=kilojoule/mole)]\n",
      "[2, 3, 6, 9, 3, Quantity(value=0.0, unit=radian), Quantity(value=0.66944, unit=kilojoule/mole)]\n",
      "[3, 6, 9, 7, 3, Quantity(value=0.0, unit=radian), Quantity(value=0.75312, unit=kilojoule/mole)]\n",
      "[3, 6, 9, 8, 3, Quantity(value=0.0, unit=radian), Quantity(value=0.75312, unit=kilojoule/mole)]\n",
      "[3, 6, 9, 13, 2, Quantity(value=0.0, unit=radian), Quantity(value=0.15978696, unit=kilojoule/mole)]\n",
      "[3, 6, 9, 13, 6, Quantity(value=3.141592653589793, unit=radian), Quantity(value=0.13296752, unit=kilojoule/mole)]\n",
      "[4, 6, 9, 7, 3, Quantity(value=0.0, unit=radian), Quantity(value=0.9204800000000001, unit=kilojoule/mole)]\n",
      "[4, 6, 9, 8, 3, Quantity(value=0.0, unit=radian), Quantity(value=0.9204800000000001, unit=kilojoule/mole)]\n",
      "[4, 6, 9, 13, 3, Quantity(value=0.0, unit=radian), Quantity(value=0.75312, unit=kilojoule/mole)]\n",
      "[5, 6, 9, 7, 3, Quantity(value=0.0, unit=radian), Quantity(value=0.9204800000000001, unit=kilojoule/mole)]\n",
      "[5, 6, 9, 8, 3, Quantity(value=0.0, unit=radian), Quantity(value=0.9204800000000001, unit=kilojoule/mole)]\n",
      "[5, 6, 9, 13, 3, Quantity(value=0.0, unit=radian), Quantity(value=0.75312, unit=kilojoule/mole)]\n",
      "[6, 9, 13, 10, 3, Quantity(value=0.0, unit=radian), Quantity(value=0.66944, unit=kilojoule/mole)]\n",
      "[6, 9, 13, 11, 3, Quantity(value=0.0, unit=radian), Quantity(value=0.66944, unit=kilojoule/mole)]\n",
      "[6, 9, 13, 12, 3, Quantity(value=0.0, unit=radian), Quantity(value=0.66944, unit=kilojoule/mole)]\n",
      "[7, 9, 13, 10, 3, Quantity(value=0.0, unit=radian), Quantity(value=0.66944, unit=kilojoule/mole)]\n",
      "[7, 9, 13, 11, 3, Quantity(value=0.0, unit=radian), Quantity(value=0.66944, unit=kilojoule/mole)]\n",
      "[7, 9, 13, 12, 3, Quantity(value=0.0, unit=radian), Quantity(value=0.66944, unit=kilojoule/mole)]\n",
      "[8, 9, 13, 10, 3, Quantity(value=0.0, unit=radian), Quantity(value=0.66944, unit=kilojoule/mole)]\n",
      "[8, 9, 13, 11, 3, Quantity(value=0.0, unit=radian), Quantity(value=0.66944, unit=kilojoule/mole)]\n",
      "[8, 9, 13, 12, 3, Quantity(value=0.0, unit=radian), Quantity(value=0.66944, unit=kilojoule/mole)]\n"
     ]
    }
   ],
   "source": [
    "dihedrals = forces['PeriodicTorsionForce']\n",
    "for i in range(dihedrals.getNumTorsions()):\n",
    "    print dihedrals.getTorsionParameters(i)"
   ]
  },
  {
   "cell_type": "code",
   "execution_count": 8,
   "metadata": {
    "collapsed": true
   },
   "outputs": [],
   "source": [
    "# Set all Torsion K's to 0\n",
    "\n",
    "param.dihedral_types[('CG331', 'CG321', 'CG321', 'CG331')][1].phi_k=0\n",
    "param.dihedral_types[('CG331', 'CG321', 'CG321', 'CG331')][0].phi_k=0\n",
    "param.dihedral_types[('HGA3', 'CG331', 'CG321', 'HGA2')][0].phi_k=0\n",
    "param.dihedral_types[('HGA2', 'CG321', 'CG331', 'HGA3')][0].phi_k=0\n",
    "param.dihedral_types[('HGA3', 'CG331', 'CG321', 'CG321')][0].phi_k=0\n",
    "param.dihedral_types[('CG321', 'CG321', 'CG331', 'HGA3')][0].phi_k=0\n",
    "param.dihedral_types[('HGA2', 'CG321', 'CG321', 'HGA2')][0].phi_k=0\n",
    "param.dihedral_types[('CG331', 'CG321', 'CG321', 'HGA2')][0].phi_k=0"
   ]
  },
  {
   "cell_type": "code",
   "execution_count": 9,
   "metadata": {
    "collapsed": false
   },
   "outputs": [
    {
     "name": "stdout",
     "output_type": "stream",
     "text": [
      "[0, 3, 6, 4, 3, Quantity(value=0.0, unit=radian), Quantity(value=0.0, unit=kilojoule/mole)]\n",
      "[0, 3, 6, 5, 3, Quantity(value=0.0, unit=radian), Quantity(value=0.0, unit=kilojoule/mole)]\n",
      "[0, 3, 6, 9, 3, Quantity(value=0.0, unit=radian), Quantity(value=0.0, unit=kilojoule/mole)]\n",
      "[1, 3, 6, 4, 3, Quantity(value=0.0, unit=radian), Quantity(value=0.0, unit=kilojoule/mole)]\n",
      "[1, 3, 6, 5, 3, Quantity(value=0.0, unit=radian), Quantity(value=0.0, unit=kilojoule/mole)]\n",
      "[1, 3, 6, 9, 3, Quantity(value=0.0, unit=radian), Quantity(value=0.0, unit=kilojoule/mole)]\n",
      "[2, 3, 6, 4, 3, Quantity(value=0.0, unit=radian), Quantity(value=0.0, unit=kilojoule/mole)]\n",
      "[2, 3, 6, 5, 3, Quantity(value=0.0, unit=radian), Quantity(value=0.0, unit=kilojoule/mole)]\n",
      "[2, 3, 6, 9, 3, Quantity(value=0.0, unit=radian), Quantity(value=0.0, unit=kilojoule/mole)]\n",
      "[3, 6, 9, 7, 3, Quantity(value=0.0, unit=radian), Quantity(value=0.0, unit=kilojoule/mole)]\n",
      "[3, 6, 9, 8, 3, Quantity(value=0.0, unit=radian), Quantity(value=0.0, unit=kilojoule/mole)]\n",
      "[3, 6, 9, 13, 2, Quantity(value=0.0, unit=radian), Quantity(value=0.0, unit=kilojoule/mole)]\n",
      "[3, 6, 9, 13, 6, Quantity(value=3.141592653589793, unit=radian), Quantity(value=0.0, unit=kilojoule/mole)]\n",
      "[4, 6, 9, 7, 3, Quantity(value=0.0, unit=radian), Quantity(value=0.0, unit=kilojoule/mole)]\n",
      "[4, 6, 9, 8, 3, Quantity(value=0.0, unit=radian), Quantity(value=0.0, unit=kilojoule/mole)]\n",
      "[4, 6, 9, 13, 3, Quantity(value=0.0, unit=radian), Quantity(value=0.0, unit=kilojoule/mole)]\n",
      "[5, 6, 9, 7, 3, Quantity(value=0.0, unit=radian), Quantity(value=0.0, unit=kilojoule/mole)]\n",
      "[5, 6, 9, 8, 3, Quantity(value=0.0, unit=radian), Quantity(value=0.0, unit=kilojoule/mole)]\n",
      "[5, 6, 9, 13, 3, Quantity(value=0.0, unit=radian), Quantity(value=0.0, unit=kilojoule/mole)]\n",
      "[6, 9, 13, 10, 3, Quantity(value=0.0, unit=radian), Quantity(value=0.0, unit=kilojoule/mole)]\n",
      "[6, 9, 13, 11, 3, Quantity(value=0.0, unit=radian), Quantity(value=0.0, unit=kilojoule/mole)]\n",
      "[6, 9, 13, 12, 3, Quantity(value=0.0, unit=radian), Quantity(value=0.0, unit=kilojoule/mole)]\n",
      "[7, 9, 13, 10, 3, Quantity(value=0.0, unit=radian), Quantity(value=0.0, unit=kilojoule/mole)]\n",
      "[7, 9, 13, 11, 3, Quantity(value=0.0, unit=radian), Quantity(value=0.0, unit=kilojoule/mole)]\n",
      "[7, 9, 13, 12, 3, Quantity(value=0.0, unit=radian), Quantity(value=0.0, unit=kilojoule/mole)]\n",
      "[8, 9, 13, 10, 3, Quantity(value=0.0, unit=radian), Quantity(value=0.0, unit=kilojoule/mole)]\n",
      "[8, 9, 13, 11, 3, Quantity(value=0.0, unit=radian), Quantity(value=0.0, unit=kilojoule/mole)]\n",
      "[8, 9, 13, 12, 3, Quantity(value=0.0, unit=radian), Quantity(value=0.0, unit=kilojoule/mole)]\n"
     ]
    }
   ],
   "source": [
    "# reparameterize molecule and check if Torsions are off\n",
    "butane_scan.compute_energy(param)\n",
    "dihedrals = forces['PeriodicTorsionForce']\n",
    "for i in range(dihedrals.getNumTorsions()):\n",
    "    print dihedrals.getTorsionParameters(i)"
   ]
  },
  {
   "cell_type": "code",
   "execution_count": 10,
   "metadata": {
    "collapsed": false
   },
   "outputs": [
    {
     "name": "stdout",
     "output_type": "stream",
     "text": [
      "[0, 6, Quantity(value=0.21789999999999998, unit=nanometer), Quantity(value=18853.104000000003, unit=kilojoule/(nanometer**2*mole))]\n",
      "[0, 2, Quantity(value=0.18020000000000003, unit=nanometer), Quantity(value=4518.72, unit=kilojoule/(nanometer**2*mole))]\n",
      "[0, 1, Quantity(value=0.18020000000000003, unit=nanometer), Quantity(value=4518.72, unit=kilojoule/(nanometer**2*mole))]\n",
      "[1, 6, Quantity(value=0.21789999999999998, unit=nanometer), Quantity(value=18853.104000000003, unit=kilojoule/(nanometer**2*mole))]\n",
      "[1, 2, Quantity(value=0.18020000000000003, unit=nanometer), Quantity(value=4518.72, unit=kilojoule/(nanometer**2*mole))]\n",
      "[2, 6, Quantity(value=0.21789999999999998, unit=nanometer), Quantity(value=18853.104000000003, unit=kilojoule/(nanometer**2*mole))]\n",
      "[3, 9, Quantity(value=0.2561, unit=nanometer), Quantity(value=6694.400000000001, unit=kilojoule/(nanometer**2*mole))]\n",
      "[3, 5, Quantity(value=0.21789999999999998, unit=nanometer), Quantity(value=18853.104000000003, unit=kilojoule/(nanometer**2*mole))]\n",
      "[3, 4, Quantity(value=0.21789999999999998, unit=nanometer), Quantity(value=18853.104000000003, unit=kilojoule/(nanometer**2*mole))]\n",
      "[4, 9, Quantity(value=0.21789999999999998, unit=nanometer), Quantity(value=18853.104000000003, unit=kilojoule/(nanometer**2*mole))]\n",
      "[4, 5, Quantity(value=0.18020000000000003, unit=nanometer), Quantity(value=4518.72, unit=kilojoule/(nanometer**2*mole))]\n",
      "[5, 9, Quantity(value=0.21789999999999998, unit=nanometer), Quantity(value=18853.104000000003, unit=kilojoule/(nanometer**2*mole))]\n",
      "[6, 13, Quantity(value=0.2561, unit=nanometer), Quantity(value=6694.400000000001, unit=kilojoule/(nanometer**2*mole))]\n",
      "[6, 8, Quantity(value=0.21789999999999998, unit=nanometer), Quantity(value=18853.104000000003, unit=kilojoule/(nanometer**2*mole))]\n",
      "[6, 7, Quantity(value=0.21789999999999998, unit=nanometer), Quantity(value=18853.104000000003, unit=kilojoule/(nanometer**2*mole))]\n",
      "[7, 13, Quantity(value=0.21789999999999998, unit=nanometer), Quantity(value=18853.104000000003, unit=kilojoule/(nanometer**2*mole))]\n",
      "[7, 8, Quantity(value=0.18020000000000003, unit=nanometer), Quantity(value=4518.72, unit=kilojoule/(nanometer**2*mole))]\n",
      "[8, 13, Quantity(value=0.21789999999999998, unit=nanometer), Quantity(value=18853.104000000003, unit=kilojoule/(nanometer**2*mole))]\n",
      "[9, 12, Quantity(value=0.21789999999999998, unit=nanometer), Quantity(value=18853.104000000003, unit=kilojoule/(nanometer**2*mole))]\n",
      "[9, 11, Quantity(value=0.21789999999999998, unit=nanometer), Quantity(value=18853.104000000003, unit=kilojoule/(nanometer**2*mole))]\n",
      "[9, 10, Quantity(value=0.21789999999999998, unit=nanometer), Quantity(value=18853.104000000003, unit=kilojoule/(nanometer**2*mole))]\n",
      "[10, 12, Quantity(value=0.18020000000000003, unit=nanometer), Quantity(value=4518.72, unit=kilojoule/(nanometer**2*mole))]\n",
      "[10, 11, Quantity(value=0.18020000000000003, unit=nanometer), Quantity(value=4518.72, unit=kilojoule/(nanometer**2*mole))]\n",
      "[11, 12, Quantity(value=0.18020000000000003, unit=nanometer), Quantity(value=4518.72, unit=kilojoule/(nanometer**2*mole))]\n"
     ]
    }
   ],
   "source": [
    "# Turn all bonds off and check\n",
    "\n",
    "param.bond_types[('CG331', 'CG321')].k=0\n",
    "param.bond_types[('CG321', 'CG321')].k=0\n",
    "param.bond_types[('CG331', 'HGA3')].k=0\n",
    "param.bond_types[('CG321', 'HGA2')].k=0\n",
    "\n",
    "butane_scan.compute_energy(param)\n",
    "bond = forces['HarmonicBondForce']\n",
    "for i in range(bond.getNumBonds()):\n",
    "    print bond.getBondParameters(i)\n"
   ]
  },
  {
   "cell_type": "code",
   "execution_count": 11,
   "metadata": {
    "collapsed": false
   },
   "outputs": [
    {
     "name": "stdout",
     "output_type": "stream",
     "text": [
      "[0, 6, Quantity(value=0.21789999999999998, unit=nanometer), Quantity(value=18853.104000000003, unit=kilojoule/(nanometer**2*mole))]\n",
      "[0, 2, Quantity(value=0.18020000000000003, unit=nanometer), Quantity(value=4518.72, unit=kilojoule/(nanometer**2*mole))]\n",
      "[0, 1, Quantity(value=0.18020000000000003, unit=nanometer), Quantity(value=4518.72, unit=kilojoule/(nanometer**2*mole))]\n",
      "[1, 6, Quantity(value=0.21789999999999998, unit=nanometer), Quantity(value=18853.104000000003, unit=kilojoule/(nanometer**2*mole))]\n",
      "[1, 2, Quantity(value=0.18020000000000003, unit=nanometer), Quantity(value=4518.72, unit=kilojoule/(nanometer**2*mole))]\n",
      "[2, 6, Quantity(value=0.21789999999999998, unit=nanometer), Quantity(value=18853.104000000003, unit=kilojoule/(nanometer**2*mole))]\n",
      "[3, 9, Quantity(value=0.2561, unit=nanometer), Quantity(value=6694.400000000001, unit=kilojoule/(nanometer**2*mole))]\n",
      "[3, 5, Quantity(value=0.21789999999999998, unit=nanometer), Quantity(value=18853.104000000003, unit=kilojoule/(nanometer**2*mole))]\n",
      "[3, 4, Quantity(value=0.21789999999999998, unit=nanometer), Quantity(value=18853.104000000003, unit=kilojoule/(nanometer**2*mole))]\n",
      "[4, 9, Quantity(value=0.21789999999999998, unit=nanometer), Quantity(value=18853.104000000003, unit=kilojoule/(nanometer**2*mole))]\n",
      "[4, 5, Quantity(value=0.18020000000000003, unit=nanometer), Quantity(value=4518.72, unit=kilojoule/(nanometer**2*mole))]\n",
      "[5, 9, Quantity(value=0.21789999999999998, unit=nanometer), Quantity(value=18853.104000000003, unit=kilojoule/(nanometer**2*mole))]\n",
      "[6, 13, Quantity(value=0.2561, unit=nanometer), Quantity(value=6694.400000000001, unit=kilojoule/(nanometer**2*mole))]\n",
      "[6, 8, Quantity(value=0.21789999999999998, unit=nanometer), Quantity(value=18853.104000000003, unit=kilojoule/(nanometer**2*mole))]\n",
      "[6, 7, Quantity(value=0.21789999999999998, unit=nanometer), Quantity(value=18853.104000000003, unit=kilojoule/(nanometer**2*mole))]\n",
      "[7, 13, Quantity(value=0.21789999999999998, unit=nanometer), Quantity(value=18853.104000000003, unit=kilojoule/(nanometer**2*mole))]\n",
      "[7, 8, Quantity(value=0.18020000000000003, unit=nanometer), Quantity(value=4518.72, unit=kilojoule/(nanometer**2*mole))]\n",
      "[8, 13, Quantity(value=0.21789999999999998, unit=nanometer), Quantity(value=18853.104000000003, unit=kilojoule/(nanometer**2*mole))]\n",
      "[9, 12, Quantity(value=0.21789999999999998, unit=nanometer), Quantity(value=18853.104000000003, unit=kilojoule/(nanometer**2*mole))]\n",
      "[9, 11, Quantity(value=0.21789999999999998, unit=nanometer), Quantity(value=18853.104000000003, unit=kilojoule/(nanometer**2*mole))]\n",
      "[9, 10, Quantity(value=0.21789999999999998, unit=nanometer), Quantity(value=18853.104000000003, unit=kilojoule/(nanometer**2*mole))]\n",
      "[10, 12, Quantity(value=0.18020000000000003, unit=nanometer), Quantity(value=4518.72, unit=kilojoule/(nanometer**2*mole))]\n",
      "[10, 11, Quantity(value=0.18020000000000003, unit=nanometer), Quantity(value=4518.72, unit=kilojoule/(nanometer**2*mole))]\n",
      "[11, 12, Quantity(value=0.18020000000000003, unit=nanometer), Quantity(value=4518.72, unit=kilojoule/(nanometer**2*mole))]\n"
     ]
    }
   ],
   "source": [
    "# Turns out we have to create a new system with these parameters?\n",
    "butane_scan.integrator = mm.VerletIntegrator(0.004*u.picoseconds)\n",
    "\n",
    "# this creates a new system under the hood\n",
    "butane_scan.create_context(param)\n",
    "butane_scan.compute_energy(param)\n",
    "\n",
    "# Now check if the bonds were turned off\n",
    "# Print out all forces before I start setting things to zero\n",
    "forces = {butane_scan.system.getForce(i).__class__.__name__: butane_scan.system.getForce(i) \n",
    "         for i in range(butane_scan.system.getNumForces())}\n",
    "\n",
    "bond = forces['HarmonicBondForce']\n",
    "for i in range(bond.getNumBonds()):\n",
    "    print bond.getBondParameters(i)"
   ]
  },
  {
   "cell_type": "code",
   "execution_count": 12,
   "metadata": {
    "collapsed": false
   },
   "outputs": [],
   "source": [
    "# Do I need a total new structure?\n",
    "\n",
    "butane_scan.structure = CharmmPsfFile(structure)\n",
    "butane_scan.integrator = mm.VerletIntegrator(0.004*u.picoseconds)\n",
    "# this creates a new system under the hood\n",
    "butane_scan.create_context(param)\n",
    "butane_scan.compute_energy(param)"
   ]
  },
  {
   "cell_type": "code",
   "execution_count": 13,
   "metadata": {
    "collapsed": false
   },
   "outputs": [
    {
     "name": "stdout",
     "output_type": "stream",
     "text": [
      "[0, 6, Quantity(value=0.21789999999999998, unit=nanometer), Quantity(value=18853.104000000003, unit=kilojoule/(nanometer**2*mole))]\n",
      "[0, 2, Quantity(value=0.18020000000000003, unit=nanometer), Quantity(value=4518.72, unit=kilojoule/(nanometer**2*mole))]\n",
      "[0, 1, Quantity(value=0.18020000000000003, unit=nanometer), Quantity(value=4518.72, unit=kilojoule/(nanometer**2*mole))]\n",
      "[1, 6, Quantity(value=0.21789999999999998, unit=nanometer), Quantity(value=18853.104000000003, unit=kilojoule/(nanometer**2*mole))]\n",
      "[1, 2, Quantity(value=0.18020000000000003, unit=nanometer), Quantity(value=4518.72, unit=kilojoule/(nanometer**2*mole))]\n",
      "[2, 6, Quantity(value=0.21789999999999998, unit=nanometer), Quantity(value=18853.104000000003, unit=kilojoule/(nanometer**2*mole))]\n",
      "[3, 9, Quantity(value=0.2561, unit=nanometer), Quantity(value=6694.400000000001, unit=kilojoule/(nanometer**2*mole))]\n",
      "[3, 5, Quantity(value=0.21789999999999998, unit=nanometer), Quantity(value=18853.104000000003, unit=kilojoule/(nanometer**2*mole))]\n",
      "[3, 4, Quantity(value=0.21789999999999998, unit=nanometer), Quantity(value=18853.104000000003, unit=kilojoule/(nanometer**2*mole))]\n",
      "[4, 9, Quantity(value=0.21789999999999998, unit=nanometer), Quantity(value=18853.104000000003, unit=kilojoule/(nanometer**2*mole))]\n",
      "[4, 5, Quantity(value=0.18020000000000003, unit=nanometer), Quantity(value=4518.72, unit=kilojoule/(nanometer**2*mole))]\n",
      "[5, 9, Quantity(value=0.21789999999999998, unit=nanometer), Quantity(value=18853.104000000003, unit=kilojoule/(nanometer**2*mole))]\n",
      "[6, 13, Quantity(value=0.2561, unit=nanometer), Quantity(value=6694.400000000001, unit=kilojoule/(nanometer**2*mole))]\n",
      "[6, 8, Quantity(value=0.21789999999999998, unit=nanometer), Quantity(value=18853.104000000003, unit=kilojoule/(nanometer**2*mole))]\n",
      "[6, 7, Quantity(value=0.21789999999999998, unit=nanometer), Quantity(value=18853.104000000003, unit=kilojoule/(nanometer**2*mole))]\n",
      "[7, 13, Quantity(value=0.21789999999999998, unit=nanometer), Quantity(value=18853.104000000003, unit=kilojoule/(nanometer**2*mole))]\n",
      "[7, 8, Quantity(value=0.18020000000000003, unit=nanometer), Quantity(value=4518.72, unit=kilojoule/(nanometer**2*mole))]\n",
      "[8, 13, Quantity(value=0.21789999999999998, unit=nanometer), Quantity(value=18853.104000000003, unit=kilojoule/(nanometer**2*mole))]\n",
      "[9, 12, Quantity(value=0.21789999999999998, unit=nanometer), Quantity(value=18853.104000000003, unit=kilojoule/(nanometer**2*mole))]\n",
      "[9, 11, Quantity(value=0.21789999999999998, unit=nanometer), Quantity(value=18853.104000000003, unit=kilojoule/(nanometer**2*mole))]\n",
      "[9, 10, Quantity(value=0.21789999999999998, unit=nanometer), Quantity(value=18853.104000000003, unit=kilojoule/(nanometer**2*mole))]\n",
      "[10, 12, Quantity(value=0.18020000000000003, unit=nanometer), Quantity(value=4518.72, unit=kilojoule/(nanometer**2*mole))]\n",
      "[10, 11, Quantity(value=0.18020000000000003, unit=nanometer), Quantity(value=4518.72, unit=kilojoule/(nanometer**2*mole))]\n",
      "[11, 12, Quantity(value=0.18020000000000003, unit=nanometer), Quantity(value=4518.72, unit=kilojoule/(nanometer**2*mole))]\n"
     ]
    }
   ],
   "source": [
    "# Check if bonds are off\n",
    "# Print out all forces before I start setting things to zero\n",
    "forces = {butane_scan.system.getForce(i).__class__.__name__: butane_scan.system.getForce(i) \n",
    "         for i in range(butane_scan.system.getNumForces())}\n",
    "\n",
    "bond = forces['HarmonicBondForce']\n",
    "for i in range(bond.getNumBonds()):\n",
    "    print bond.getBondParameters(i)\n"
   ]
  },
  {
   "cell_type": "code",
   "execution_count": 14,
   "metadata": {
    "collapsed": false
   },
   "outputs": [
    {
     "name": "stdout",
     "output_type": "stream",
     "text": [
      "[0, 6, Quantity(value=0.21789999999999998, unit=nanometer), Quantity(value=0.0, unit=kilojoule/(nanometer**2*mole))]\n",
      "[0, 2, Quantity(value=0.18020000000000003, unit=nanometer), Quantity(value=0.0, unit=kilojoule/(nanometer**2*mole))]\n",
      "[0, 1, Quantity(value=0.18020000000000003, unit=nanometer), Quantity(value=0.0, unit=kilojoule/(nanometer**2*mole))]\n",
      "[1, 6, Quantity(value=0.21789999999999998, unit=nanometer), Quantity(value=0.0, unit=kilojoule/(nanometer**2*mole))]\n",
      "[1, 2, Quantity(value=0.18020000000000003, unit=nanometer), Quantity(value=0.0, unit=kilojoule/(nanometer**2*mole))]\n",
      "[2, 6, Quantity(value=0.21789999999999998, unit=nanometer), Quantity(value=0.0, unit=kilojoule/(nanometer**2*mole))]\n",
      "[3, 9, Quantity(value=0.2561, unit=nanometer), Quantity(value=0.0, unit=kilojoule/(nanometer**2*mole))]\n",
      "[3, 5, Quantity(value=0.21789999999999998, unit=nanometer), Quantity(value=0.0, unit=kilojoule/(nanometer**2*mole))]\n",
      "[3, 4, Quantity(value=0.21789999999999998, unit=nanometer), Quantity(value=0.0, unit=kilojoule/(nanometer**2*mole))]\n",
      "[4, 9, Quantity(value=0.21789999999999998, unit=nanometer), Quantity(value=0.0, unit=kilojoule/(nanometer**2*mole))]\n",
      "[4, 5, Quantity(value=0.18020000000000003, unit=nanometer), Quantity(value=0.0, unit=kilojoule/(nanometer**2*mole))]\n",
      "[5, 9, Quantity(value=0.21789999999999998, unit=nanometer), Quantity(value=0.0, unit=kilojoule/(nanometer**2*mole))]\n",
      "[6, 13, Quantity(value=0.2561, unit=nanometer), Quantity(value=0.0, unit=kilojoule/(nanometer**2*mole))]\n",
      "[6, 8, Quantity(value=0.21789999999999998, unit=nanometer), Quantity(value=0.0, unit=kilojoule/(nanometer**2*mole))]\n",
      "[6, 7, Quantity(value=0.21789999999999998, unit=nanometer), Quantity(value=0.0, unit=kilojoule/(nanometer**2*mole))]\n",
      "[7, 13, Quantity(value=0.21789999999999998, unit=nanometer), Quantity(value=0.0, unit=kilojoule/(nanometer**2*mole))]\n",
      "[7, 8, Quantity(value=0.18020000000000003, unit=nanometer), Quantity(value=0.0, unit=kilojoule/(nanometer**2*mole))]\n",
      "[8, 13, Quantity(value=0.21789999999999998, unit=nanometer), Quantity(value=0.0, unit=kilojoule/(nanometer**2*mole))]\n",
      "[9, 12, Quantity(value=0.21789999999999998, unit=nanometer), Quantity(value=0.0, unit=kilojoule/(nanometer**2*mole))]\n",
      "[9, 11, Quantity(value=0.21789999999999998, unit=nanometer), Quantity(value=0.0, unit=kilojoule/(nanometer**2*mole))]\n",
      "[9, 10, Quantity(value=0.21789999999999998, unit=nanometer), Quantity(value=0.0, unit=kilojoule/(nanometer**2*mole))]\n",
      "[10, 12, Quantity(value=0.18020000000000003, unit=nanometer), Quantity(value=0.0, unit=kilojoule/(nanometer**2*mole))]\n",
      "[10, 11, Quantity(value=0.18020000000000003, unit=nanometer), Quantity(value=0.0, unit=kilojoule/(nanometer**2*mole))]\n",
      "[11, 12, Quantity(value=0.18020000000000003, unit=nanometer), Quantity(value=0.0, unit=kilojoule/(nanometer**2*mole))]\n"
     ]
    }
   ],
   "source": [
    "# The bonds are not turning off. What gives?\n",
    "# Ahah! It's the Urey Bradley term! \n",
    "param.urey_bradley_types[('CG331', 'CG321', 'CG321')].k  = 0\n",
    "param.urey_bradley_types[('CG331', 'CG321', 'HGA2')].k = 0\n",
    "param.urey_bradley_types[('CG321', 'CG321', 'HGA2')].k = 0\n",
    "param.urey_bradley_types[('HGA3', 'CG331', 'CG321')].k = 0\n",
    "param.urey_bradley_types[('HGA3', 'CG331', 'HGA3')].k = 0\n",
    "param.urey_bradley_types[('HGA2', 'CG321', 'HGA2')].k = 0\n",
    "\n",
    "butane_scan.integrator = mm.VerletIntegrator(0.004*u.picoseconds)\n",
    "# this creates a new system under the hood\n",
    "butane_scan.create_context(param)\n",
    "butane_scan.compute_energy(param)\n",
    "\n",
    "# Check bonds\n",
    "\n",
    "# Print out all forces before I start setting things to zero\n",
    "forces = {butane_scan.system.getForce(i).__class__.__name__: butane_scan.system.getForce(i) \n",
    "         for i in range(butane_scan.system.getNumForces())}\n",
    "\n",
    "bond = forces['HarmonicBondForce']\n",
    "for i in range(bond.getNumBonds()):\n",
    "    print bond.getBondParameters(i)\n"
   ]
  },
  {
   "cell_type": "code",
   "execution_count": 15,
   "metadata": {
    "collapsed": false
   },
   "outputs": [
    {
     "data": {
      "text/plain": [
       "[<matplotlib.lines.Line2D at 0x11b6c5690>]"
      ]
     },
     "execution_count": 15,
     "metadata": {},
     "output_type": "execute_result"
    },
    {
     "data": {
      "image/png": "[encoded data removed]",
      "text/plain": [
       "<matplotlib.figure.Figure at 0x11b661c10>"
      ]
     },
     "metadata": {},
     "output_type": "display_data"
    }
   ],
   "source": [
    "#butane_scan = ScanSet.parse_psi4(scan, structure)\n",
    "butane_scan.compute_energy(param)\n",
    "plt.plot(butane_scan.mm_energy)\n",
    "#plt.plot(butane_scan.delta_energy)"
   ]
  },
  {
   "cell_type": "code",
   "execution_count": 16,
   "metadata": {
    "collapsed": false
   },
   "outputs": [
    {
     "name": "stdout",
     "output_type": "stream",
     "text": [
      "[Quantity(value=0.09, unit=elementary charge), Quantity(value=0.23876085646161097, unit=nanometer), Quantity(value=0.100416, unit=kilojoule/mole)]\n",
      "[Quantity(value=0.09, unit=elementary charge), Quantity(value=0.23876085646161097, unit=nanometer), Quantity(value=0.100416, unit=kilojoule/mole)]\n",
      "[Quantity(value=0.09, unit=elementary charge), Quantity(value=0.23876085646161097, unit=nanometer), Quantity(value=0.100416, unit=kilojoule/mole)]\n",
      "[Quantity(value=-0.27, unit=elementary charge), Quantity(value=0.3652684744375391, unit=nanometer), Quantity(value=0.32635200000000003, unit=kilojoule/mole)]\n",
      "[Quantity(value=0.09, unit=elementary charge), Quantity(value=0.23876085646161097, unit=nanometer), Quantity(value=0.14644000000000001, unit=kilojoule/mole)]\n",
      "[Quantity(value=0.09, unit=elementary charge), Quantity(value=0.23876085646161097, unit=nanometer), Quantity(value=0.14644000000000001, unit=kilojoule/mole)]\n",
      "[Quantity(value=-0.18, unit=elementary charge), Quantity(value=0.35814128469241635, unit=nanometer), Quantity(value=0.234304, unit=kilojoule/mole)]\n",
      "[Quantity(value=0.09, unit=elementary charge), Quantity(value=0.23876085646161097, unit=nanometer), Quantity(value=0.14644000000000001, unit=kilojoule/mole)]\n",
      "[Quantity(value=0.09, unit=elementary charge), Quantity(value=0.23876085646161097, unit=nanometer), Quantity(value=0.14644000000000001, unit=kilojoule/mole)]\n",
      "[Quantity(value=-0.18, unit=elementary charge), Quantity(value=0.35814128469241635, unit=nanometer), Quantity(value=0.234304, unit=kilojoule/mole)]\n",
      "[Quantity(value=0.09, unit=elementary charge), Quantity(value=0.23876085646161097, unit=nanometer), Quantity(value=0.100416, unit=kilojoule/mole)]\n",
      "[Quantity(value=0.09, unit=elementary charge), Quantity(value=0.23876085646161097, unit=nanometer), Quantity(value=0.100416, unit=kilojoule/mole)]\n",
      "[Quantity(value=0.09, unit=elementary charge), Quantity(value=0.23876085646161097, unit=nanometer), Quantity(value=0.100416, unit=kilojoule/mole)]\n",
      "[Quantity(value=-0.27, unit=elementary charge), Quantity(value=0.3652684744375391, unit=nanometer), Quantity(value=0.32635200000000003, unit=kilojoule/mole)]\n"
     ]
    }
   ],
   "source": [
    "# Now let's figure out the non-bonded\n",
    "\n",
    "nb = forces['NonbondedForce']\n",
    "\n",
    "for i in range(nb.getNumParticles()):\n",
    "    print nb.getParticleParameters(i)"
   ]
  },
  {
   "cell_type": "code",
   "execution_count": 50,
   "metadata": {
    "collapsed": false
   },
   "outputs": [],
   "source": [
    "# Turn off all LJ and reparameterize\n",
    "\n",
    "param.atom_types['CG331'].sigma_14 = 1.0\n",
    "param.atom_types['CG331'].rmin = 1.0\n",
    "param.atom_types['CG331'].rmin_14 = 1.0\n",
    "param.atom_types['CG331'].epsilon_14 = 0\n",
    "param.atom_types['CG331'].sigma=1.0\n",
    "param.atom_types['CG331'].epsilon = 0.0\n",
    "param.atom_types['CG321'].epsilon_14 = 0.0\n",
    "param.atom_types['CG321'].rmin_14 = 1.0\n",
    "param.atom_types['CG321'].sigma_14 = 1.0\n",
    "param.atom_types['CG321'].sigma=1.0\n",
    "param.atom_types['CG321'].epsilon = 0.0\n",
    "param.atom_types['HGA3'].epsilon_14 = 0.0\n",
    "param.atom_types['HGA3'].sigma = 1.0\n",
    "param.atom_types['HGA3'].epsilon = 0.0\n",
    "param.atom_types['HGA2'].epsilon_14 = 0.0\n",
    "param.atom_types['HGA2'].sigma = 1.0\n",
    "param.atom_types['HGA2'].epsilon = 0.0\n",
    "\n",
    "butane_scan.integrator = mm.VerletIntegrator(0.004*u.picoseconds)\n",
    "butane_scan.create_context(param)\n",
    "butane_scan.compute_energy(param)"
   ]
  },
  {
   "cell_type": "code",
   "execution_count": 51,
   "metadata": {
    "collapsed": false
   },
   "outputs": [
    {
     "data": {
      "text/plain": [
       "[<matplotlib.lines.Line2D at 0x11f969490>]"
      ]
     },
     "execution_count": 51,
     "metadata": {},
     "output_type": "execute_result"
    },
    {
     "data": {
      "image/png": "[encoded data removed]",
      "text/plain": [
       "<matplotlib.figure.Figure at 0x11f705a50>"
      ]
     },
     "metadata": {},
     "output_type": "display_data"
    }
   ],
   "source": [
    "plt.plot(butane_scan.mm_energy)"
   ]
  },
  {
   "cell_type": "code",
   "execution_count": 41,
   "metadata": {
    "collapsed": false
   },
   "outputs": [
    {
     "name": "stdout",
     "output_type": "stream",
     "text": [
      "[Quantity(value=0.0, unit=elementary charge), Quantity(value=0.1, unit=nanometer), Quantity(value=0.0, unit=kilojoule/mole)]\n",
      "[Quantity(value=0.0, unit=elementary charge), Quantity(value=0.1, unit=nanometer), Quantity(value=0.0, unit=kilojoule/mole)]\n",
      "[Quantity(value=0.0, unit=elementary charge), Quantity(value=0.1, unit=nanometer), Quantity(value=0.0, unit=kilojoule/mole)]\n",
      "[Quantity(value=0.0, unit=elementary charge), Quantity(value=0.1, unit=nanometer), Quantity(value=0.0, unit=kilojoule/mole)]\n",
      "[Quantity(value=0.0, unit=elementary charge), Quantity(value=0.1, unit=nanometer), Quantity(value=0.0, unit=kilojoule/mole)]\n",
      "[Quantity(value=0.0, unit=elementary charge), Quantity(value=0.1, unit=nanometer), Quantity(value=0.0, unit=kilojoule/mole)]\n",
      "[Quantity(value=0.0, unit=elementary charge), Quantity(value=0.1, unit=nanometer), Quantity(value=0.0, unit=kilojoule/mole)]\n",
      "[Quantity(value=0.0, unit=elementary charge), Quantity(value=0.1, unit=nanometer), Quantity(value=0.0, unit=kilojoule/mole)]\n",
      "[Quantity(value=0.0, unit=elementary charge), Quantity(value=0.1, unit=nanometer), Quantity(value=0.0, unit=kilojoule/mole)]\n",
      "[Quantity(value=0.0, unit=elementary charge), Quantity(value=0.1, unit=nanometer), Quantity(value=0.0, unit=kilojoule/mole)]\n",
      "[Quantity(value=0.0, unit=elementary charge), Quantity(value=0.1, unit=nanometer), Quantity(value=0.0, unit=kilojoule/mole)]\n",
      "[Quantity(value=0.0, unit=elementary charge), Quantity(value=0.1, unit=nanometer), Quantity(value=0.0, unit=kilojoule/mole)]\n",
      "[Quantity(value=0.0, unit=elementary charge), Quantity(value=0.1, unit=nanometer), Quantity(value=0.0, unit=kilojoule/mole)]\n",
      "[Quantity(value=0.0, unit=elementary charge), Quantity(value=0.1, unit=nanometer), Quantity(value=0.0, unit=kilojoule/mole)]\n"
     ]
    }
   ],
   "source": [
    "# Print out all forces before I start setting things to zero\n",
    "forces = {butane_scan.system.getForce(i).__class__.__name__: butane_scan.system.getForce(i) \n",
    "         for i in range(butane_scan.system.getNumForces())}\n",
    "\n",
    "nb = forces['NonbondedForce']\n",
    "\n",
    "for i in range(nb.getNumParticles()):\n",
    "    print nb.getParticleParameters(i)"
   ]
  },
  {
   "cell_type": "code",
   "execution_count": 42,
   "metadata": {
    "collapsed": false
   },
   "outputs": [],
   "source": [
    "# Now turn charges off. This will have to happen in the structure\n",
    "\n",
    "for atom in butane_scan.structure.atoms:\n",
    "    atom.charge = 0"
   ]
  },
  {
   "cell_type": "code",
   "execution_count": 43,
   "metadata": {
    "collapsed": false
   },
   "outputs": [
    {
     "data": {
      "text/plain": [
       "[<matplotlib.lines.Line2D at 0x11f5e4a10>]"
      ]
     },
     "execution_count": 43,
     "metadata": {},
     "output_type": "execute_result"
    },
    {
     "data": {
      "image/png": "[encoded data removed]",
      "text/plain": [
       "<matplotlib.figure.Figure at 0x11f3b5350>"
      ]
     },
     "metadata": {},
     "output_type": "display_data"
    }
   ],
   "source": [
    "# Create new system with this structure\n",
    "butane_scan.integrator = mm.VerletIntegrator(0.004*u.picoseconds)\n",
    "butane_scan.create_context(param)\n",
    "butane_scan.compute_energy(param)\n",
    "\n",
    "plt.plot(butane_scan.mm_energy)"
   ]
  },
  {
   "cell_type": "code",
   "execution_count": 44,
   "metadata": {
    "collapsed": false
   },
   "outputs": [
    {
     "name": "stdout",
     "output_type": "stream",
     "text": [
      "[Quantity(value=0.0, unit=elementary charge), Quantity(value=0.1, unit=nanometer), Quantity(value=0.0, unit=kilojoule/mole)]\n",
      "[Quantity(value=0.0, unit=elementary charge), Quantity(value=0.1, unit=nanometer), Quantity(value=0.0, unit=kilojoule/mole)]\n",
      "[Quantity(value=0.0, unit=elementary charge), Quantity(value=0.1, unit=nanometer), Quantity(value=0.0, unit=kilojoule/mole)]\n",
      "[Quantity(value=0.0, unit=elementary charge), Quantity(value=0.1, unit=nanometer), Quantity(value=0.0, unit=kilojoule/mole)]\n",
      "[Quantity(value=0.0, unit=elementary charge), Quantity(value=0.1, unit=nanometer), Quantity(value=0.0, unit=kilojoule/mole)]\n",
      "[Quantity(value=0.0, unit=elementary charge), Quantity(value=0.1, unit=nanometer), Quantity(value=0.0, unit=kilojoule/mole)]\n",
      "[Quantity(value=0.0, unit=elementary charge), Quantity(value=0.1, unit=nanometer), Quantity(value=0.0, unit=kilojoule/mole)]\n",
      "[Quantity(value=0.0, unit=elementary charge), Quantity(value=0.1, unit=nanometer), Quantity(value=0.0, unit=kilojoule/mole)]\n",
      "[Quantity(value=0.0, unit=elementary charge), Quantity(value=0.1, unit=nanometer), Quantity(value=0.0, unit=kilojoule/mole)]\n",
      "[Quantity(value=0.0, unit=elementary charge), Quantity(value=0.1, unit=nanometer), Quantity(value=0.0, unit=kilojoule/mole)]\n",
      "[Quantity(value=0.0, unit=elementary charge), Quantity(value=0.1, unit=nanometer), Quantity(value=0.0, unit=kilojoule/mole)]\n",
      "[Quantity(value=0.0, unit=elementary charge), Quantity(value=0.1, unit=nanometer), Quantity(value=0.0, unit=kilojoule/mole)]\n",
      "[Quantity(value=0.0, unit=elementary charge), Quantity(value=0.1, unit=nanometer), Quantity(value=0.0, unit=kilojoule/mole)]\n",
      "[Quantity(value=0.0, unit=elementary charge), Quantity(value=0.1, unit=nanometer), Quantity(value=0.0, unit=kilojoule/mole)]\n"
     ]
    }
   ],
   "source": [
    "# Check what's still on (is it the exceptions?)\n",
    "# Print out all forces before I start setting things to zero\n",
    "forces = {butane_scan.system.getForce(i).__class__.__name__: butane_scan.system.getForce(i) \n",
    "         for i in range(butane_scan.system.getNumForces())}\n",
    "\n",
    "nb = forces['NonbondedForce']\n",
    "\n",
    "for i in range(nb.getNumParticles()):\n",
    "    print nb.getParticleParameters(i)\n"
   ]
  },
  {
   "cell_type": "code",
   "execution_count": 45,
   "metadata": {
    "collapsed": false
   },
   "outputs": [
    {
     "name": "stdout",
     "output_type": "stream",
     "text": [
      "[0, 3, Quantity(value=0.0, unit=elementary charge**2), Quantity(value=0.5, unit=nanometer), Quantity(value=0.0, unit=kilojoule/mole)]\n",
      "[1, 0, Quantity(value=0.0, unit=elementary charge**2), Quantity(value=0.5, unit=nanometer), Quantity(value=0.0, unit=kilojoule/mole)]\n",
      "[2, 0, Quantity(value=0.0, unit=elementary charge**2), Quantity(value=0.5, unit=nanometer), Quantity(value=0.0, unit=kilojoule/mole)]\n",
      "[6, 0, Quantity(value=0.0, unit=elementary charge**2), Quantity(value=0.5, unit=nanometer), Quantity(value=0.0, unit=kilojoule/mole)]\n",
      "[1, 3, Quantity(value=0.0, unit=elementary charge**2), Quantity(value=0.5, unit=nanometer), Quantity(value=0.0, unit=kilojoule/mole)]\n",
      "[2, 1, Quantity(value=0.0, unit=elementary charge**2), Quantity(value=0.5, unit=nanometer), Quantity(value=0.0, unit=kilojoule/mole)]\n",
      "[6, 1, Quantity(value=0.0, unit=elementary charge**2), Quantity(value=0.5, unit=nanometer), Quantity(value=0.0, unit=kilojoule/mole)]\n",
      "[2, 3, Quantity(value=0.0, unit=elementary charge**2), Quantity(value=0.5, unit=nanometer), Quantity(value=0.0, unit=kilojoule/mole)]\n",
      "[6, 2, Quantity(value=0.0, unit=elementary charge**2), Quantity(value=0.5, unit=nanometer), Quantity(value=0.0, unit=kilojoule/mole)]\n",
      "[6, 3, Quantity(value=0.0, unit=elementary charge**2), Quantity(value=0.5, unit=nanometer), Quantity(value=0.0, unit=kilojoule/mole)]\n",
      "[4, 3, Quantity(value=0.0, unit=elementary charge**2), Quantity(value=0.5, unit=nanometer), Quantity(value=0.0, unit=kilojoule/mole)]\n",
      "[5, 3, Quantity(value=0.0, unit=elementary charge**2), Quantity(value=0.5, unit=nanometer), Quantity(value=0.0, unit=kilojoule/mole)]\n",
      "[9, 3, Quantity(value=0.0, unit=elementary charge**2), Quantity(value=0.5, unit=nanometer), Quantity(value=0.0, unit=kilojoule/mole)]\n",
      "[4, 6, Quantity(value=0.0, unit=elementary charge**2), Quantity(value=0.5, unit=nanometer), Quantity(value=0.0, unit=kilojoule/mole)]\n",
      "[5, 4, Quantity(value=0.0, unit=elementary charge**2), Quantity(value=0.5, unit=nanometer), Quantity(value=0.0, unit=kilojoule/mole)]\n",
      "[9, 4, Quantity(value=0.0, unit=elementary charge**2), Quantity(value=0.5, unit=nanometer), Quantity(value=0.0, unit=kilojoule/mole)]\n",
      "[5, 6, Quantity(value=0.0, unit=elementary charge**2), Quantity(value=0.5, unit=nanometer), Quantity(value=0.0, unit=kilojoule/mole)]\n",
      "[9, 5, Quantity(value=0.0, unit=elementary charge**2), Quantity(value=0.5, unit=nanometer), Quantity(value=0.0, unit=kilojoule/mole)]\n",
      "[9, 6, Quantity(value=0.0, unit=elementary charge**2), Quantity(value=0.5, unit=nanometer), Quantity(value=0.0, unit=kilojoule/mole)]\n",
      "[7, 6, Quantity(value=0.0, unit=elementary charge**2), Quantity(value=0.5, unit=nanometer), Quantity(value=0.0, unit=kilojoule/mole)]\n",
      "[8, 6, Quantity(value=0.0, unit=elementary charge**2), Quantity(value=0.5, unit=nanometer), Quantity(value=0.0, unit=kilojoule/mole)]\n",
      "[13, 6, Quantity(value=0.0, unit=elementary charge**2), Quantity(value=0.5, unit=nanometer), Quantity(value=0.0, unit=kilojoule/mole)]\n",
      "[7, 9, Quantity(value=0.0, unit=elementary charge**2), Quantity(value=0.5, unit=nanometer), Quantity(value=0.0, unit=kilojoule/mole)]\n",
      "[8, 7, Quantity(value=0.0, unit=elementary charge**2), Quantity(value=0.5, unit=nanometer), Quantity(value=0.0, unit=kilojoule/mole)]\n",
      "[13, 7, Quantity(value=0.0, unit=elementary charge**2), Quantity(value=0.5, unit=nanometer), Quantity(value=0.0, unit=kilojoule/mole)]\n",
      "[8, 9, Quantity(value=0.0, unit=elementary charge**2), Quantity(value=0.5, unit=nanometer), Quantity(value=0.0, unit=kilojoule/mole)]\n",
      "[13, 8, Quantity(value=0.0, unit=elementary charge**2), Quantity(value=0.5, unit=nanometer), Quantity(value=0.0, unit=kilojoule/mole)]\n",
      "[13, 9, Quantity(value=0.0, unit=elementary charge**2), Quantity(value=0.5, unit=nanometer), Quantity(value=0.0, unit=kilojoule/mole)]\n",
      "[10, 9, Quantity(value=0.0, unit=elementary charge**2), Quantity(value=0.5, unit=nanometer), Quantity(value=0.0, unit=kilojoule/mole)]\n",
      "[11, 9, Quantity(value=0.0, unit=elementary charge**2), Quantity(value=0.5, unit=nanometer), Quantity(value=0.0, unit=kilojoule/mole)]\n",
      "[12, 9, Quantity(value=0.0, unit=elementary charge**2), Quantity(value=0.5, unit=nanometer), Quantity(value=0.0, unit=kilojoule/mole)]\n",
      "[10, 13, Quantity(value=0.0, unit=elementary charge**2), Quantity(value=0.5, unit=nanometer), Quantity(value=0.0, unit=kilojoule/mole)]\n",
      "[11, 10, Quantity(value=0.0, unit=elementary charge**2), Quantity(value=0.5, unit=nanometer), Quantity(value=0.0, unit=kilojoule/mole)]\n",
      "[12, 10, Quantity(value=0.0, unit=elementary charge**2), Quantity(value=0.5, unit=nanometer), Quantity(value=0.0, unit=kilojoule/mole)]\n",
      "[11, 13, Quantity(value=0.0, unit=elementary charge**2), Quantity(value=0.5, unit=nanometer), Quantity(value=0.0, unit=kilojoule/mole)]\n",
      "[12, 11, Quantity(value=0.0, unit=elementary charge**2), Quantity(value=0.5, unit=nanometer), Quantity(value=0.0, unit=kilojoule/mole)]\n",
      "[12, 13, Quantity(value=0.0, unit=elementary charge**2), Quantity(value=0.5, unit=nanometer), Quantity(value=0.0, unit=kilojoule/mole)]\n",
      "[0, 4, Quantity(value=0.0, unit=elementary charge**2), Quantity(value=0.23876085646161097, unit=nanometer), Quantity(value=0.12126384061211325, unit=kilojoule/mole)]\n",
      "[0, 5, Quantity(value=0.0, unit=elementary charge**2), Quantity(value=0.23876085646161097, unit=nanometer), Quantity(value=0.12126384061211325, unit=kilojoule/mole)]\n",
      "[0, 9, Quantity(value=0.0, unit=elementary charge**2), Quantity(value=0.16938042823080549, unit=nanometer), Quantity(value=0.0, unit=kilojoule/mole)]\n",
      "[1, 4, Quantity(value=0.0, unit=elementary charge**2), Quantity(value=0.23876085646161097, unit=nanometer), Quantity(value=0.12126384061211325, unit=kilojoule/mole)]\n",
      "[1, 5, Quantity(value=0.0, unit=elementary charge**2), Quantity(value=0.23876085646161097, unit=nanometer), Quantity(value=0.12126384061211325, unit=kilojoule/mole)]\n",
      "[1, 9, Quantity(value=0.0, unit=elementary charge**2), Quantity(value=0.16938042823080549, unit=nanometer), Quantity(value=0.0, unit=kilojoule/mole)]\n",
      "[2, 4, Quantity(value=0.0, unit=elementary charge**2), Quantity(value=0.23876085646161097, unit=nanometer), Quantity(value=0.12126384061211325, unit=kilojoule/mole)]\n",
      "[2, 5, Quantity(value=0.0, unit=elementary charge**2), Quantity(value=0.23876085646161097, unit=nanometer), Quantity(value=0.12126384061211325, unit=kilojoule/mole)]\n",
      "[2, 9, Quantity(value=0.0, unit=elementary charge**2), Quantity(value=0.16938042823080549, unit=nanometer), Quantity(value=0.0, unit=kilojoule/mole)]\n",
      "[3, 7, Quantity(value=0.0, unit=elementary charge**2), Quantity(value=0.2084703000448394, unit=nanometer), Quantity(value=0.0, unit=kilojoule/mole)]\n",
      "[3, 8, Quantity(value=0.0, unit=elementary charge**2), Quantity(value=0.2084703000448394, unit=nanometer), Quantity(value=0.0, unit=kilojoule/mole)]\n",
      "[3, 13, Quantity(value=0.0, unit=elementary charge**2), Quantity(value=0.17817974362806788, unit=nanometer), Quantity(value=0.0, unit=kilojoule/mole)]\n",
      "[4, 7, Quantity(value=0.0, unit=elementary charge**2), Quantity(value=0.23876085646161097, unit=nanometer), Quantity(value=0.14644000000000001, unit=kilojoule/mole)]\n",
      "[4, 8, Quantity(value=0.0, unit=elementary charge**2), Quantity(value=0.23876085646161097, unit=nanometer), Quantity(value=0.14644000000000001, unit=kilojoule/mole)]\n",
      "[4, 13, Quantity(value=0.0, unit=elementary charge**2), Quantity(value=0.2084703000448394, unit=nanometer), Quantity(value=0.0, unit=kilojoule/mole)]\n",
      "[5, 7, Quantity(value=0.0, unit=elementary charge**2), Quantity(value=0.23876085646161097, unit=nanometer), Quantity(value=0.14644000000000001, unit=kilojoule/mole)]\n",
      "[5, 8, Quantity(value=0.0, unit=elementary charge**2), Quantity(value=0.23876085646161097, unit=nanometer), Quantity(value=0.14644000000000001, unit=kilojoule/mole)]\n",
      "[5, 13, Quantity(value=0.0, unit=elementary charge**2), Quantity(value=0.2084703000448394, unit=nanometer), Quantity(value=0.0, unit=kilojoule/mole)]\n",
      "[6, 10, Quantity(value=0.0, unit=elementary charge**2), Quantity(value=0.16938042823080549, unit=nanometer), Quantity(value=0.0, unit=kilojoule/mole)]\n",
      "[6, 11, Quantity(value=0.0, unit=elementary charge**2), Quantity(value=0.16938042823080549, unit=nanometer), Quantity(value=0.0, unit=kilojoule/mole)]\n",
      "[6, 12, Quantity(value=0.0, unit=elementary charge**2), Quantity(value=0.16938042823080549, unit=nanometer), Quantity(value=0.0, unit=kilojoule/mole)]\n",
      "[7, 10, Quantity(value=0.0, unit=elementary charge**2), Quantity(value=0.23876085646161097, unit=nanometer), Quantity(value=0.12126384061211325, unit=kilojoule/mole)]\n",
      "[7, 11, Quantity(value=0.0, unit=elementary charge**2), Quantity(value=0.23876085646161097, unit=nanometer), Quantity(value=0.12126384061211325, unit=kilojoule/mole)]\n",
      "[7, 12, Quantity(value=0.0, unit=elementary charge**2), Quantity(value=0.23876085646161097, unit=nanometer), Quantity(value=0.12126384061211325, unit=kilojoule/mole)]\n",
      "[8, 10, Quantity(value=0.0, unit=elementary charge**2), Quantity(value=0.23876085646161097, unit=nanometer), Quantity(value=0.12126384061211325, unit=kilojoule/mole)]\n",
      "[8, 11, Quantity(value=0.0, unit=elementary charge**2), Quantity(value=0.23876085646161097, unit=nanometer), Quantity(value=0.12126384061211325, unit=kilojoule/mole)]\n",
      "[8, 12, Quantity(value=0.0, unit=elementary charge**2), Quantity(value=0.23876085646161097, unit=nanometer), Quantity(value=0.12126384061211325, unit=kilojoule/mole)]\n"
     ]
    }
   ],
   "source": [
    "for i in range(nb.getNumExceptions()):\n",
    "    print nb.getExceptionParameters(i)"
   ]
  },
  {
   "cell_type": "code",
   "execution_count": 47,
   "metadata": {
    "collapsed": false
   },
   "outputs": [
    {
     "name": "stdout",
     "output_type": "stream",
     "text": [
      "<?xml version=\"1.0\" ?>\n",
      "<System openmmVersion=\"7.0\" type=\"System\" version=\"1\">\n",
      "\t<PeriodicBoxVectors>\n",
      "\t\t<A x=\"2\" y=\"0\" z=\"0\"/>\n",
      "\t\t<B x=\"0\" y=\"2\" z=\"0\"/>\n",
      "\t\t<C x=\"0\" y=\"0\" z=\"2\"/>\n",
      "\t</PeriodicBoxVectors>\n",
      "\t<Particles>\n",
      "\t\t<Particle mass=\"1.008\"/>\n",
      "\t\t<Particle mass=\"1.008\"/>\n",
      "\t\t<Particle mass=\"1.008\"/>\n",
      "\t\t<Particle mass=\"12.011\"/>\n",
      "\t\t<Particle mass=\"1.008\"/>\n",
      "\t\t<Particle mass=\"1.008\"/>\n",
      "\t\t<Particle mass=\"12.011\"/>\n",
      "\t\t<Particle mass=\"1.008\"/>\n",
      "\t\t<Particle mass=\"1.008\"/>\n",
      "\t\t<Particle mass=\"12.011\"/>\n",
      "\t\t<Particle mass=\"1.008\"/>\n",
      "\t\t<Particle mass=\"1.008\"/>\n",
      "\t\t<Particle mass=\"1.008\"/>\n",
      "\t\t<Particle mass=\"12.011\"/>\n",
      "\t</Particles>\n",
      "\t<Constraints/>\n",
      "\t<Forces>\n",
      "\t\t<Force forceGroup=\"0\" type=\"HarmonicBondForce\" version=\"1\">\n",
      "\t\t\t<Bonds>\n",
      "\t\t\t\t<Bond d=\".1111\" k=\"0\" p1=\"0\" p2=\"3\"/>\n",
      "\t\t\t\t<Bond d=\".1111\" k=\"0\" p1=\"1\" p2=\"3\"/>\n",
      "\t\t\t\t<Bond d=\".1111\" k=\"0\" p1=\"2\" p2=\"3\"/>\n",
      "\t\t\t\t<Bond d=\".15280000000000002\" k=\"0\" p1=\"3\" p2=\"6\"/>\n",
      "\t\t\t\t<Bond d=\".1111\" k=\"0\" p1=\"4\" p2=\"6\"/>\n",
      "\t\t\t\t<Bond d=\".1111\" k=\"0\" p1=\"5\" p2=\"6\"/>\n",
      "\t\t\t\t<Bond d=\".15300000000000002\" k=\"0\" p1=\"6\" p2=\"9\"/>\n",
      "\t\t\t\t<Bond d=\".1111\" k=\"0\" p1=\"7\" p2=\"9\"/>\n",
      "\t\t\t\t<Bond d=\".1111\" k=\"0\" p1=\"8\" p2=\"9\"/>\n",
      "\t\t\t\t<Bond d=\".15280000000000002\" k=\"0\" p1=\"9\" p2=\"13\"/>\n",
      "\t\t\t\t<Bond d=\".1111\" k=\"0\" p1=\"10\" p2=\"13\"/>\n",
      "\t\t\t\t<Bond d=\".1111\" k=\"0\" p1=\"11\" p2=\"13\"/>\n",
      "\t\t\t\t<Bond d=\".1111\" k=\"0\" p1=\"12\" p2=\"13\"/>\n",
      "\t\t\t</Bonds>\n",
      "\t\t</Force>\n",
      "\t\t<Force forceGroup=\"1\" type=\"HarmonicAngleForce\" version=\"1\">\n",
      "\t\t\t<Angles>\n",
      "\t\t\t\t<Angle a=\"1.9216075064457567\" k=\"0\" p1=\"0\" p2=\"3\" p3=\"6\"/>\n",
      "\t\t\t\t<Angle a=\"1.8919369091618534\" k=\"0\" p1=\"0\" p2=\"3\" p3=\"2\"/>\n",
      "\t\t\t\t<Angle a=\"1.8919369091618534\" k=\"0\" p1=\"0\" p2=\"3\" p3=\"1\"/>\n",
      "\t\t\t\t<Angle a=\"1.9216075064457567\" k=\"0\" p1=\"1\" p2=\"3\" p3=\"6\"/>\n",
      "\t\t\t\t<Angle a=\"1.8919369091618534\" k=\"0\" p1=\"1\" p2=\"3\" p3=\"2\"/>\n",
      "\t\t\t\t<Angle a=\"1.9216075064457567\" k=\"0\" p1=\"2\" p2=\"3\" p3=\"6\"/>\n",
      "\t\t\t\t<Angle a=\"2.007128639793479\" k=\"0\" p1=\"3\" p2=\"6\" p3=\"9\"/>\n",
      "\t\t\t\t<Angle a=\"1.9216075064457567\" k=\"0\" p1=\"3\" p2=\"6\" p3=\"5\"/>\n",
      "\t\t\t\t<Angle a=\"1.9216075064457567\" k=\"0\" p1=\"3\" p2=\"6\" p3=\"4\"/>\n",
      "\t\t\t\t<Angle a=\"1.9216075064457567\" k=\"0\" p1=\"4\" p2=\"6\" p3=\"9\"/>\n",
      "\t\t\t\t<Angle a=\"1.9024088846738192\" k=\"0\" p1=\"4\" p2=\"6\" p3=\"5\"/>\n",
      "\t\t\t\t<Angle a=\"1.9216075064457567\" k=\"0\" p1=\"5\" p2=\"6\" p3=\"9\"/>\n",
      "\t\t\t\t<Angle a=\"2.007128639793479\" k=\"0\" p1=\"6\" p2=\"9\" p3=\"13\"/>\n",
      "\t\t\t\t<Angle a=\"1.9216075064457567\" k=\"0\" p1=\"6\" p2=\"9\" p3=\"8\"/>\n",
      "\t\t\t\t<Angle a=\"1.9216075064457567\" k=\"0\" p1=\"6\" p2=\"9\" p3=\"7\"/>\n",
      "\t\t\t\t<Angle a=\"1.9216075064457567\" k=\"0\" p1=\"7\" p2=\"9\" p3=\"13\"/>\n",
      "\t\t\t\t<Angle a=\"1.9024088846738192\" k=\"0\" p1=\"7\" p2=\"9\" p3=\"8\"/>\n",
      "\t\t\t\t<Angle a=\"1.9216075064457567\" k=\"0\" p1=\"8\" p2=\"9\" p3=\"13\"/>\n",
      "\t\t\t\t<Angle a=\"1.9216075064457567\" k=\"0\" p1=\"9\" p2=\"13\" p3=\"12\"/>\n",
      "\t\t\t\t<Angle a=\"1.9216075064457567\" k=\"0\" p1=\"9\" p2=\"13\" p3=\"11\"/>\n",
      "\t\t\t\t<Angle a=\"1.9216075064457567\" k=\"0\" p1=\"9\" p2=\"13\" p3=\"10\"/>\n",
      "\t\t\t\t<Angle a=\"1.8919369091618534\" k=\"0\" p1=\"10\" p2=\"13\" p3=\"12\"/>\n",
      "\t\t\t\t<Angle a=\"1.8919369091618534\" k=\"0\" p1=\"10\" p2=\"13\" p3=\"11\"/>\n",
      "\t\t\t\t<Angle a=\"1.8919369091618534\" k=\"0\" p1=\"11\" p2=\"13\" p3=\"12\"/>\n",
      "\t\t\t</Angles>\n",
      "\t\t</Force>\n",
      "\t\t<Force forceGroup=\"2\" type=\"PeriodicTorsionForce\" version=\"1\">\n",
      "\t\t\t<Torsions>\n",
      "\t\t\t\t<Torsion k=\"0\" p1=\"0\" p2=\"3\" p3=\"6\" p4=\"4\" periodicity=\"3\" phase=\"0\"/>\n",
      "\t\t\t\t<Torsion k=\"0\" p1=\"0\" p2=\"3\" p3=\"6\" p4=\"5\" periodicity=\"3\" phase=\"0\"/>\n",
      "\t\t\t\t<Torsion k=\"0\" p1=\"0\" p2=\"3\" p3=\"6\" p4=\"9\" periodicity=\"3\" phase=\"0\"/>\n",
      "\t\t\t\t<Torsion k=\"0\" p1=\"1\" p2=\"3\" p3=\"6\" p4=\"4\" periodicity=\"3\" phase=\"0\"/>\n",
      "\t\t\t\t<Torsion k=\"0\" p1=\"1\" p2=\"3\" p3=\"6\" p4=\"5\" periodicity=\"3\" phase=\"0\"/>\n",
      "\t\t\t\t<Torsion k=\"0\" p1=\"1\" p2=\"3\" p3=\"6\" p4=\"9\" periodicity=\"3\" phase=\"0\"/>\n",
      "\t\t\t\t<Torsion k=\"0\" p1=\"2\" p2=\"3\" p3=\"6\" p4=\"4\" periodicity=\"3\" phase=\"0\"/>\n",
      "\t\t\t\t<Torsion k=\"0\" p1=\"2\" p2=\"3\" p3=\"6\" p4=\"5\" periodicity=\"3\" phase=\"0\"/>\n",
      "\t\t\t\t<Torsion k=\"0\" p1=\"2\" p2=\"3\" p3=\"6\" p4=\"9\" periodicity=\"3\" phase=\"0\"/>\n",
      "\t\t\t\t<Torsion k=\"0\" p1=\"3\" p2=\"6\" p3=\"9\" p4=\"7\" periodicity=\"3\" phase=\"0\"/>\n",
      "\t\t\t\t<Torsion k=\"0\" p1=\"3\" p2=\"6\" p3=\"9\" p4=\"8\" periodicity=\"3\" phase=\"0\"/>\n",
      "\t\t\t\t<Torsion k=\"0\" p1=\"3\" p2=\"6\" p3=\"9\" p4=\"13\" periodicity=\"2\" phase=\"0\"/>\n",
      "\t\t\t\t<Torsion k=\"0\" p1=\"3\" p2=\"6\" p3=\"9\" p4=\"13\" periodicity=\"6\" phase=\"3.141592653589793\"/>\n",
      "\t\t\t\t<Torsion k=\"0\" p1=\"4\" p2=\"6\" p3=\"9\" p4=\"7\" periodicity=\"3\" phase=\"0\"/>\n",
      "\t\t\t\t<Torsion k=\"0\" p1=\"4\" p2=\"6\" p3=\"9\" p4=\"8\" periodicity=\"3\" phase=\"0\"/>\n",
      "\t\t\t\t<Torsion k=\"0\" p1=\"4\" p2=\"6\" p3=\"9\" p4=\"13\" periodicity=\"3\" phase=\"0\"/>\n",
      "\t\t\t\t<Torsion k=\"0\" p1=\"5\" p2=\"6\" p3=\"9\" p4=\"7\" periodicity=\"3\" phase=\"0\"/>\n",
      "\t\t\t\t<Torsion k=\"0\" p1=\"5\" p2=\"6\" p3=\"9\" p4=\"8\" periodicity=\"3\" phase=\"0\"/>\n",
      "\t\t\t\t<Torsion k=\"0\" p1=\"5\" p2=\"6\" p3=\"9\" p4=\"13\" periodicity=\"3\" phase=\"0\"/>\n",
      "\t\t\t\t<Torsion k=\"0\" p1=\"6\" p2=\"9\" p3=\"13\" p4=\"10\" periodicity=\"3\" phase=\"0\"/>\n",
      "\t\t\t\t<Torsion k=\"0\" p1=\"6\" p2=\"9\" p3=\"13\" p4=\"11\" periodicity=\"3\" phase=\"0\"/>\n",
      "\t\t\t\t<Torsion k=\"0\" p1=\"6\" p2=\"9\" p3=\"13\" p4=\"12\" periodicity=\"3\" phase=\"0\"/>\n",
      "\t\t\t\t<Torsion k=\"0\" p1=\"7\" p2=\"9\" p3=\"13\" p4=\"10\" periodicity=\"3\" phase=\"0\"/>\n",
      "\t\t\t\t<Torsion k=\"0\" p1=\"7\" p2=\"9\" p3=\"13\" p4=\"11\" periodicity=\"3\" phase=\"0\"/>\n",
      "\t\t\t\t<Torsion k=\"0\" p1=\"7\" p2=\"9\" p3=\"13\" p4=\"12\" periodicity=\"3\" phase=\"0\"/>\n",
      "\t\t\t\t<Torsion k=\"0\" p1=\"8\" p2=\"9\" p3=\"13\" p4=\"10\" periodicity=\"3\" phase=\"0\"/>\n",
      "\t\t\t\t<Torsion k=\"0\" p1=\"8\" p2=\"9\" p3=\"13\" p4=\"11\" periodicity=\"3\" phase=\"0\"/>\n",
      "\t\t\t\t<Torsion k=\"0\" p1=\"8\" p2=\"9\" p3=\"13\" p4=\"12\" periodicity=\"3\" phase=\"0\"/>\n",
      "\t\t\t</Torsions>\n",
      "\t\t</Force>\n",
      "\t\t<Force forceGroup=\"3\" type=\"HarmonicBondForce\" version=\"1\">\n",
      "\t\t\t<Bonds>\n",
      "\t\t\t\t<Bond d=\".21789999999999998\" k=\"0\" p1=\"0\" p2=\"6\"/>\n",
      "\t\t\t\t<Bond d=\".18020000000000003\" k=\"0\" p1=\"0\" p2=\"2\"/>\n",
      "\t\t\t\t<Bond d=\".18020000000000003\" k=\"0\" p1=\"0\" p2=\"1\"/>\n",
      "\t\t\t\t<Bond d=\".21789999999999998\" k=\"0\" p1=\"1\" p2=\"6\"/>\n",
      "\t\t\t\t<Bond d=\".18020000000000003\" k=\"0\" p1=\"1\" p2=\"2\"/>\n",
      "\t\t\t\t<Bond d=\".21789999999999998\" k=\"0\" p1=\"2\" p2=\"6\"/>\n",
      "\t\t\t\t<Bond d=\".2561\" k=\"0\" p1=\"3\" p2=\"9\"/>\n",
      "\t\t\t\t<Bond d=\".21789999999999998\" k=\"0\" p1=\"3\" p2=\"5\"/>\n",
      "\t\t\t\t<Bond d=\".21789999999999998\" k=\"0\" p1=\"3\" p2=\"4\"/>\n",
      "\t\t\t\t<Bond d=\".21789999999999998\" k=\"0\" p1=\"4\" p2=\"9\"/>\n",
      "\t\t\t\t<Bond d=\".18020000000000003\" k=\"0\" p1=\"4\" p2=\"5\"/>\n",
      "\t\t\t\t<Bond d=\".21789999999999998\" k=\"0\" p1=\"5\" p2=\"9\"/>\n",
      "\t\t\t\t<Bond d=\".2561\" k=\"0\" p1=\"6\" p2=\"13\"/>\n",
      "\t\t\t\t<Bond d=\".21789999999999998\" k=\"0\" p1=\"6\" p2=\"8\"/>\n",
      "\t\t\t\t<Bond d=\".21789999999999998\" k=\"0\" p1=\"6\" p2=\"7\"/>\n",
      "\t\t\t\t<Bond d=\".21789999999999998\" k=\"0\" p1=\"7\" p2=\"13\"/>\n",
      "\t\t\t\t<Bond d=\".18020000000000003\" k=\"0\" p1=\"7\" p2=\"8\"/>\n",
      "\t\t\t\t<Bond d=\".21789999999999998\" k=\"0\" p1=\"8\" p2=\"13\"/>\n",
      "\t\t\t\t<Bond d=\".21789999999999998\" k=\"0\" p1=\"9\" p2=\"12\"/>\n",
      "\t\t\t\t<Bond d=\".21789999999999998\" k=\"0\" p1=\"9\" p2=\"11\"/>\n",
      "\t\t\t\t<Bond d=\".21789999999999998\" k=\"0\" p1=\"9\" p2=\"10\"/>\n",
      "\t\t\t\t<Bond d=\".18020000000000003\" k=\"0\" p1=\"10\" p2=\"12\"/>\n",
      "\t\t\t\t<Bond d=\".18020000000000003\" k=\"0\" p1=\"10\" p2=\"11\"/>\n",
      "\t\t\t\t<Bond d=\".18020000000000003\" k=\"0\" p1=\"11\" p2=\"12\"/>\n",
      "\t\t\t</Bonds>\n",
      "\t\t</Force>\n",
      "\t\t<Force alpha=\"0\" cutoff=\"1\" dispersionCorrection=\"1\" ewaldTolerance=\".0005\" forceGroup=\"11\" method=\"0\" nx=\"0\" ny=\"0\" nz=\"0\" recipForceGroup=\"-1\" rfDielectric=\"78.5\" switchingDistance=\"-1\" type=\"NonbondedForce\" useSwitchingFunction=\"0\" version=\"1\">\n",
      "\t\t\t<Particles>\n",
      "\t\t\t\t<Particle eps=\"0\" q=\"0\" sig=\".1\"/>\n",
      "\t\t\t\t<Particle eps=\"0\" q=\"0\" sig=\".1\"/>\n",
      "\t\t\t\t<Particle eps=\"0\" q=\"0\" sig=\".1\"/>\n",
      "\t\t\t\t<Particle eps=\"0\" q=\"0\" sig=\".1\"/>\n",
      "\t\t\t\t<Particle eps=\"0\" q=\"0\" sig=\".1\"/>\n",
      "\t\t\t\t<Particle eps=\"0\" q=\"0\" sig=\".1\"/>\n",
      "\t\t\t\t<Particle eps=\"0\" q=\"0\" sig=\".1\"/>\n",
      "\t\t\t\t<Particle eps=\"0\" q=\"0\" sig=\".1\"/>\n",
      "\t\t\t\t<Particle eps=\"0\" q=\"0\" sig=\".1\"/>\n",
      "\t\t\t\t<Particle eps=\"0\" q=\"0\" sig=\".1\"/>\n",
      "\t\t\t\t<Particle eps=\"0\" q=\"0\" sig=\".1\"/>\n",
      "\t\t\t\t<Particle eps=\"0\" q=\"0\" sig=\".1\"/>\n",
      "\t\t\t\t<Particle eps=\"0\" q=\"0\" sig=\".1\"/>\n",
      "\t\t\t\t<Particle eps=\"0\" q=\"0\" sig=\".1\"/>\n",
      "\t\t\t</Particles>\n",
      "\t\t\t<Exceptions>\n",
      "\t\t\t\t<Exception eps=\"0\" p1=\"0\" p2=\"3\" q=\"0\" sig=\".5\"/>\n",
      "\t\t\t\t<Exception eps=\"0\" p1=\"1\" p2=\"0\" q=\"0\" sig=\".5\"/>\n",
      "\t\t\t\t<Exception eps=\"0\" p1=\"2\" p2=\"0\" q=\"0\" sig=\".5\"/>\n",
      "\t\t\t\t<Exception eps=\"0\" p1=\"6\" p2=\"0\" q=\"0\" sig=\".5\"/>\n",
      "\t\t\t\t<Exception eps=\"0\" p1=\"1\" p2=\"3\" q=\"0\" sig=\".5\"/>\n",
      "\t\t\t\t<Exception eps=\"0\" p1=\"2\" p2=\"1\" q=\"0\" sig=\".5\"/>\n",
      "\t\t\t\t<Exception eps=\"0\" p1=\"6\" p2=\"1\" q=\"0\" sig=\".5\"/>\n",
      "\t\t\t\t<Exception eps=\"0\" p1=\"2\" p2=\"3\" q=\"0\" sig=\".5\"/>\n",
      "\t\t\t\t<Exception eps=\"0\" p1=\"6\" p2=\"2\" q=\"0\" sig=\".5\"/>\n",
      "\t\t\t\t<Exception eps=\"0\" p1=\"6\" p2=\"3\" q=\"0\" sig=\".5\"/>\n",
      "\t\t\t\t<Exception eps=\"0\" p1=\"4\" p2=\"3\" q=\"0\" sig=\".5\"/>\n",
      "\t\t\t\t<Exception eps=\"0\" p1=\"5\" p2=\"3\" q=\"0\" sig=\".5\"/>\n",
      "\t\t\t\t<Exception eps=\"0\" p1=\"9\" p2=\"3\" q=\"0\" sig=\".5\"/>\n",
      "\t\t\t\t<Exception eps=\"0\" p1=\"4\" p2=\"6\" q=\"0\" sig=\".5\"/>\n",
      "\t\t\t\t<Exception eps=\"0\" p1=\"5\" p2=\"4\" q=\"0\" sig=\".5\"/>\n",
      "\t\t\t\t<Exception eps=\"0\" p1=\"9\" p2=\"4\" q=\"0\" sig=\".5\"/>\n",
      "\t\t\t\t<Exception eps=\"0\" p1=\"5\" p2=\"6\" q=\"0\" sig=\".5\"/>\n",
      "\t\t\t\t<Exception eps=\"0\" p1=\"9\" p2=\"5\" q=\"0\" sig=\".5\"/>\n",
      "\t\t\t\t<Exception eps=\"0\" p1=\"9\" p2=\"6\" q=\"0\" sig=\".5\"/>\n",
      "\t\t\t\t<Exception eps=\"0\" p1=\"7\" p2=\"6\" q=\"0\" sig=\".5\"/>\n",
      "\t\t\t\t<Exception eps=\"0\" p1=\"8\" p2=\"6\" q=\"0\" sig=\".5\"/>\n",
      "\t\t\t\t<Exception eps=\"0\" p1=\"13\" p2=\"6\" q=\"0\" sig=\".5\"/>\n",
      "\t\t\t\t<Exception eps=\"0\" p1=\"7\" p2=\"9\" q=\"0\" sig=\".5\"/>\n",
      "\t\t\t\t<Exception eps=\"0\" p1=\"8\" p2=\"7\" q=\"0\" sig=\".5\"/>\n",
      "\t\t\t\t<Exception eps=\"0\" p1=\"13\" p2=\"7\" q=\"0\" sig=\".5\"/>\n",
      "\t\t\t\t<Exception eps=\"0\" p1=\"8\" p2=\"9\" q=\"0\" sig=\".5\"/>\n",
      "\t\t\t\t<Exception eps=\"0\" p1=\"13\" p2=\"8\" q=\"0\" sig=\".5\"/>\n",
      "\t\t\t\t<Exception eps=\"0\" p1=\"13\" p2=\"9\" q=\"0\" sig=\".5\"/>\n",
      "\t\t\t\t<Exception eps=\"0\" p1=\"10\" p2=\"9\" q=\"0\" sig=\".5\"/>\n",
      "\t\t\t\t<Exception eps=\"0\" p1=\"11\" p2=\"9\" q=\"0\" sig=\".5\"/>\n",
      "\t\t\t\t<Exception eps=\"0\" p1=\"12\" p2=\"9\" q=\"0\" sig=\".5\"/>\n",
      "\t\t\t\t<Exception eps=\"0\" p1=\"10\" p2=\"13\" q=\"0\" sig=\".5\"/>\n",
      "\t\t\t\t<Exception eps=\"0\" p1=\"11\" p2=\"10\" q=\"0\" sig=\".5\"/>\n",
      "\t\t\t\t<Exception eps=\"0\" p1=\"12\" p2=\"10\" q=\"0\" sig=\".5\"/>\n",
      "\t\t\t\t<Exception eps=\"0\" p1=\"11\" p2=\"13\" q=\"0\" sig=\".5\"/>\n",
      "\t\t\t\t<Exception eps=\"0\" p1=\"12\" p2=\"11\" q=\"0\" sig=\".5\"/>\n",
      "\t\t\t\t<Exception eps=\"0\" p1=\"12\" p2=\"13\" q=\"0\" sig=\".5\"/>\n",
      "\t\t\t\t<Exception eps=\".12126384061211325\" p1=\"0\" p2=\"4\" q=\"0\" sig=\".23876085646161097\"/>\n",
      "\t\t\t\t<Exception eps=\".12126384061211325\" p1=\"0\" p2=\"5\" q=\"0\" sig=\".23876085646161097\"/>\n",
      "\t\t\t\t<Exception eps=\"0\" p1=\"0\" p2=\"9\" q=\"0\" sig=\".16938042823080549\"/>\n",
      "\t\t\t\t<Exception eps=\".12126384061211325\" p1=\"1\" p2=\"4\" q=\"0\" sig=\".23876085646161097\"/>\n",
      "\t\t\t\t<Exception eps=\".12126384061211325\" p1=\"1\" p2=\"5\" q=\"0\" sig=\".23876085646161097\"/>\n",
      "\t\t\t\t<Exception eps=\"0\" p1=\"1\" p2=\"9\" q=\"0\" sig=\".16938042823080549\"/>\n",
      "\t\t\t\t<Exception eps=\".12126384061211325\" p1=\"2\" p2=\"4\" q=\"0\" sig=\".23876085646161097\"/>\n",
      "\t\t\t\t<Exception eps=\".12126384061211325\" p1=\"2\" p2=\"5\" q=\"0\" sig=\".23876085646161097\"/>\n",
      "\t\t\t\t<Exception eps=\"0\" p1=\"2\" p2=\"9\" q=\"0\" sig=\".16938042823080549\"/>\n",
      "\t\t\t\t<Exception eps=\"0\" p1=\"3\" p2=\"7\" q=\"0\" sig=\".2084703000448394\"/>\n",
      "\t\t\t\t<Exception eps=\"0\" p1=\"3\" p2=\"8\" q=\"0\" sig=\".2084703000448394\"/>\n",
      "\t\t\t\t<Exception eps=\"0\" p1=\"3\" p2=\"13\" q=\"0\" sig=\".17817974362806788\"/>\n",
      "\t\t\t\t<Exception eps=\".14644000000000001\" p1=\"4\" p2=\"7\" q=\"0\" sig=\".23876085646161097\"/>\n",
      "\t\t\t\t<Exception eps=\".14644000000000001\" p1=\"4\" p2=\"8\" q=\"0\" sig=\".23876085646161097\"/>\n",
      "\t\t\t\t<Exception eps=\"0\" p1=\"4\" p2=\"13\" q=\"0\" sig=\".2084703000448394\"/>\n",
      "\t\t\t\t<Exception eps=\".14644000000000001\" p1=\"5\" p2=\"7\" q=\"0\" sig=\".23876085646161097\"/>\n",
      "\t\t\t\t<Exception eps=\".14644000000000001\" p1=\"5\" p2=\"8\" q=\"0\" sig=\".23876085646161097\"/>\n",
      "\t\t\t\t<Exception eps=\"0\" p1=\"5\" p2=\"13\" q=\"0\" sig=\".2084703000448394\"/>\n",
      "\t\t\t\t<Exception eps=\"0\" p1=\"6\" p2=\"10\" q=\"0\" sig=\".16938042823080549\"/>\n",
      "\t\t\t\t<Exception eps=\"0\" p1=\"6\" p2=\"11\" q=\"0\" sig=\".16938042823080549\"/>\n",
      "\t\t\t\t<Exception eps=\"0\" p1=\"6\" p2=\"12\" q=\"0\" sig=\".16938042823080549\"/>\n",
      "\t\t\t\t<Exception eps=\".12126384061211325\" p1=\"7\" p2=\"10\" q=\"0\" sig=\".23876085646161097\"/>\n",
      "\t\t\t\t<Exception eps=\".12126384061211325\" p1=\"7\" p2=\"11\" q=\"0\" sig=\".23876085646161097\"/>\n",
      "\t\t\t\t<Exception eps=\".12126384061211325\" p1=\"7\" p2=\"12\" q=\"0\" sig=\".23876085646161097\"/>\n",
      "\t\t\t\t<Exception eps=\".12126384061211325\" p1=\"8\" p2=\"10\" q=\"0\" sig=\".23876085646161097\"/>\n",
      "\t\t\t\t<Exception eps=\".12126384061211325\" p1=\"8\" p2=\"11\" q=\"0\" sig=\".23876085646161097\"/>\n",
      "\t\t\t\t<Exception eps=\".12126384061211325\" p1=\"8\" p2=\"12\" q=\"0\" sig=\".23876085646161097\"/>\n",
      "\t\t\t</Exceptions>\n",
      "\t\t</Force>\n",
      "\t\t<Force forceGroup=\"0\" frequency=\"1\" type=\"CMMotionRemover\" version=\"1\"/>\n",
      "\t</Forces>\n",
      "</System>\n",
      "\n"
     ]
    }
   ],
   "source": [
    "serialized = mm.XmlSerializer.serialize(butane_scan.system)\n",
    "print serialized"
   ]
  },
  {
   "cell_type": "code",
   "execution_count": 26,
   "metadata": {
    "collapsed": false
   },
   "outputs": [],
   "source": [
    "# So the angles were'nt off\n",
    "\n",
    "param.angle_types[('CG331', 'CG321', 'CG321')].k  = 0\n",
    "param.angle_types[('CG331', 'CG321', 'HGA2')].k = 0\n",
    "param.angle_types[('CG321', 'CG321', 'HGA2')].k = 0\n",
    "param.angle_types[('HGA3', 'CG331', 'CG321')].k = 0\n",
    "param.angle_types[('HGA3', 'CG331', 'HGA3')].k = 0\n",
    "param.angle_types[('HGA2', 'CG321', 'HGA2')].k = 0"
   ]
  },
  {
   "cell_type": "code",
   "execution_count": 30,
   "metadata": {
    "collapsed": false
   },
   "outputs": [
    {
     "data": {
      "text/plain": [
       "[<matplotlib.lines.Line2D at 0x11e83a7d0>]"
      ]
     },
     "execution_count": 30,
     "metadata": {},
     "output_type": "execute_result"
    },
    {
     "data": {
      "image/png": "[encoded data removed]",
      "text/plain": [
       "<matplotlib.figure.Figure at 0x11e5b5750>"
      ]
     },
     "metadata": {},
     "output_type": "display_data"
    }
   ],
   "source": [
    "# Create new system with this structure\n",
    "butane_scan.integrator = mm.VerletIntegrator(0.004*u.picoseconds)\n",
    "butane_scan.create_context(param)\n",
    "butane_scan.compute_energy(param)\n",
    "\n",
    "plt.plot(butane_scan.mm_energy)"
   ]
  },
  {
   "cell_type": "code",
   "execution_count": 61,
   "metadata": {
    "collapsed": false
   },
   "outputs": [
    {
     "name": "stdout",
     "output_type": "stream",
     "text": [
      "[('HarmonicBondForce', 0.0), ('HarmonicAngleForce', 0.0), ('PeriodicTorsionForce', 0.0), ('HarmonicBondForce', 0.0), ('NonbondedForce', 2947218690.9923306), ('CMMotionRemover', 0.0)]\n",
      "[('HarmonicBondForce', 0.0), ('HarmonicAngleForce', 0.0), ('PeriodicTorsionForce', 0.0), ('HarmonicBondForce', 0.0), ('NonbondedForce', 3056698547.3972096), ('CMMotionRemover', 0.0)]\n",
      "[('HarmonicBondForce', 0.0), ('HarmonicAngleForce', 0.0), ('PeriodicTorsionForce', 0.0), ('HarmonicBondForce', 0.0), ('NonbondedForce', 3209735246.666679), ('CMMotionRemover', 0.0)]\n",
      "[('HarmonicBondForce', 0.0), ('HarmonicAngleForce', 0.0), ('PeriodicTorsionForce', 0.0), ('HarmonicBondForce', 0.0), ('NonbondedForce', 3367611932.082147), ('CMMotionRemover', 0.0)]\n",
      "[('HarmonicBondForce', 0.0), ('HarmonicAngleForce', 0.0), ('PeriodicTorsionForce', 0.0), ('HarmonicBondForce', 0.0), ('NonbondedForce', 3483739390.8862977), ('CMMotionRemover', 0.0)]\n",
      "[('HarmonicBondForce', 0.0), ('HarmonicAngleForce', 0.0), ('PeriodicTorsionForce', 0.0), ('HarmonicBondForce', 0.0), ('NonbondedForce', 3521104790.3853083), ('CMMotionRemover', 0.0)]\n",
      "[('HarmonicBondForce', 0.0), ('HarmonicAngleForce', 0.0), ('PeriodicTorsionForce', 0.0), ('HarmonicBondForce', 0.0), ('NonbondedForce', 3464601433.709618), ('CMMotionRemover', 0.0)]\n",
      "[('HarmonicBondForce', 0.0), ('HarmonicAngleForce', 0.0), ('PeriodicTorsionForce', 0.0), ('HarmonicBondForce', 0.0), ('NonbondedForce', 3328479329.9691033), ('CMMotionRemover', 0.0)]\n",
      "[('HarmonicBondForce', 0.0), ('HarmonicAngleForce', 0.0), ('PeriodicTorsionForce', 0.0), ('HarmonicBondForce', 0.0), ('NonbondedForce', 3139486567.9897566), ('CMMotionRemover', 0.0)]\n",
      "[('HarmonicBondForce', 0.0), ('HarmonicAngleForce', 0.0), ('PeriodicTorsionForce', 0.0), ('HarmonicBondForce', 0.0), ('NonbondedForce', 2948999176.026725), ('CMMotionRemover', 0.0)]\n",
      "[('HarmonicBondForce', 0.0), ('HarmonicAngleForce', 0.0), ('PeriodicTorsionForce', 0.0), ('HarmonicBondForce', 0.0), ('NonbondedForce', 2811546746.650028), ('CMMotionRemover', 0.0)]\n",
      "[('HarmonicBondForce', 0.0), ('HarmonicAngleForce', 0.0), ('PeriodicTorsionForce', 0.0), ('HarmonicBondForce', 0.0), ('NonbondedForce', 2756898167.446255), ('CMMotionRemover', 0.0)]\n",
      "[('HarmonicBondForce', 0.0), ('HarmonicAngleForce', 0.0), ('PeriodicTorsionForce', 0.0), ('HarmonicBondForce', 0.0), ('NonbondedForce', 2770160433.6828184), ('CMMotionRemover', 0.0)]\n",
      "[('HarmonicBondForce', 0.0), ('HarmonicAngleForce', 0.0), ('PeriodicTorsionForce', 0.0), ('HarmonicBondForce', 0.0), ('NonbondedForce', 2828909979.5667915), ('CMMotionRemover', 0.0)]\n",
      "[('HarmonicBondForce', 0.0), ('HarmonicAngleForce', 0.0), ('PeriodicTorsionForce', 0.0), ('HarmonicBondForce', 0.0), ('NonbondedForce', 2920315587.553949), ('CMMotionRemover', 0.0)]\n",
      "[('HarmonicBondForce', 0.0), ('HarmonicAngleForce', 0.0), ('PeriodicTorsionForce', 0.0), ('HarmonicBondForce', 0.0), ('NonbondedForce', 3024110326.255944), ('CMMotionRemover', 0.0)]\n",
      "[('HarmonicBondForce', 0.0), ('HarmonicAngleForce', 0.0), ('PeriodicTorsionForce', 0.0), ('HarmonicBondForce', 0.0), ('NonbondedForce', 3109838668.777791), ('CMMotionRemover', 0.0)]\n",
      "[('HarmonicBondForce', 0.0), ('HarmonicAngleForce', 0.0), ('PeriodicTorsionForce', 0.0), ('HarmonicBondForce', 0.0), ('NonbondedForce', 3145590789.7791657), ('CMMotionRemover', 0.0)]\n",
      "[('HarmonicBondForce', 0.0), ('HarmonicAngleForce', 0.0), ('PeriodicTorsionForce', 0.0), ('HarmonicBondForce', 0.0), ('NonbondedForce', 3111309780.677169), ('CMMotionRemover', 0.0)]\n",
      "[('HarmonicBondForce', 0.0), ('HarmonicAngleForce', 0.0), ('PeriodicTorsionForce', 0.0), ('HarmonicBondForce', 0.0), ('NonbondedForce', 3024099004.032575), ('CMMotionRemover', 0.0)]\n",
      "[('HarmonicBondForce', 0.0), ('HarmonicAngleForce', 0.0), ('PeriodicTorsionForce', 0.0), ('HarmonicBondForce', 0.0), ('NonbondedForce', 2921057941.501273), ('CMMotionRemover', 0.0)]\n",
      "[('HarmonicBondForce', 0.0), ('HarmonicAngleForce', 0.0), ('PeriodicTorsionForce', 0.0), ('HarmonicBondForce', 0.0), ('NonbondedForce', 2829888948.062438), ('CMMotionRemover', 0.0)]\n",
      "[('HarmonicBondForce', 0.0), ('HarmonicAngleForce', 0.0), ('PeriodicTorsionForce', 0.0), ('HarmonicBondForce', 0.0), ('NonbondedForce', 2770288861.183502), ('CMMotionRemover', 0.0)]\n",
      "[('HarmonicBondForce', 0.0), ('HarmonicAngleForce', 0.0), ('PeriodicTorsionForce', 0.0), ('HarmonicBondForce', 0.0), ('NonbondedForce', 2757145091.1311226), ('CMMotionRemover', 0.0)]\n",
      "[('HarmonicBondForce', 0.0), ('HarmonicAngleForce', 0.0), ('PeriodicTorsionForce', 0.0), ('HarmonicBondForce', 0.0), ('NonbondedForce', 2811319510.798985), ('CMMotionRemover', 0.0)]\n",
      "[('HarmonicBondForce', 0.0), ('HarmonicAngleForce', 0.0), ('PeriodicTorsionForce', 0.0), ('HarmonicBondForce', 0.0), ('NonbondedForce', 2948957782.205231), ('CMMotionRemover', 0.0)]\n",
      "[('HarmonicBondForce', 0.0), ('HarmonicAngleForce', 0.0), ('PeriodicTorsionForce', 0.0), ('HarmonicBondForce', 0.0), ('NonbondedForce', 3140253755.8509), ('CMMotionRemover', 0.0)]\n",
      "[('HarmonicBondForce', 0.0), ('HarmonicAngleForce', 0.0), ('PeriodicTorsionForce', 0.0), ('HarmonicBondForce', 0.0), ('NonbondedForce', 3326608778.6261334), ('CMMotionRemover', 0.0)]\n",
      "[('HarmonicBondForce', 0.0), ('HarmonicAngleForce', 0.0), ('PeriodicTorsionForce', 0.0), ('HarmonicBondForce', 0.0), ('NonbondedForce', 3463973115.9488993), ('CMMotionRemover', 0.0)]\n",
      "[('HarmonicBondForce', 0.0), ('HarmonicAngleForce', 0.0), ('PeriodicTorsionForce', 0.0), ('HarmonicBondForce', 0.0), ('NonbondedForce', 3521504280.8595667), ('CMMotionRemover', 0.0)]\n",
      "[('HarmonicBondForce', 0.0), ('HarmonicAngleForce', 0.0), ('PeriodicTorsionForce', 0.0), ('HarmonicBondForce', 0.0), ('NonbondedForce', 3484561917.256522), ('CMMotionRemover', 0.0)]\n",
      "[('HarmonicBondForce', 0.0), ('HarmonicAngleForce', 0.0), ('PeriodicTorsionForce', 0.0), ('HarmonicBondForce', 0.0), ('NonbondedForce', 3365203851.958753), ('CMMotionRemover', 0.0)]\n",
      "[('HarmonicBondForce', 0.0), ('HarmonicAngleForce', 0.0), ('PeriodicTorsionForce', 0.0), ('HarmonicBondForce', 0.0), ('NonbondedForce', 3209618739.873031), ('CMMotionRemover', 0.0)]\n",
      "[('HarmonicBondForce', 0.0), ('HarmonicAngleForce', 0.0), ('PeriodicTorsionForce', 0.0), ('HarmonicBondForce', 0.0), ('NonbondedForce', 3057149190.1048384), ('CMMotionRemover', 0.0)]\n",
      "[('HarmonicBondForce', 0.0), ('HarmonicAngleForce', 0.0), ('PeriodicTorsionForce', 0.0), ('HarmonicBondForce', 0.0), ('NonbondedForce', 2947381230.136154), ('CMMotionRemover', 0.0)]\n"
     ]
    }
   ],
   "source": [
    "# Print out all energy\n",
    "import parmed\n",
    "for i in range(butane_scan.n_frames):\n",
    "    butane_scan.context.setPositions(butane_scan.positions[i])\n",
    "    param_omm = parmed.openmm.load_topology(butane_scan.structure.topology, butane_scan.system, xyz=butane_scan.positions[i])\n",
    "    energy = parmed.openmm.energy_decomposition_system(param_omm, butane_scan.system, nrg=u.kilojoules_per_mole)\n",
    "    print energy"
   ]
  },
  {
   "cell_type": "code",
   "execution_count": 63,
   "metadata": {
    "collapsed": false
   },
   "outputs": [
    {
     "name": "stdout",
     "output_type": "stream",
     "text": [
      "<?xml version=\"1.0\" ?>\n",
      "<System openmmVersion=\"7.0\" type=\"System\" version=\"1\">\n",
      "\t<PeriodicBoxVectors>\n",
      "\t\t<A x=\"2\" y=\"0\" z=\"0\"/>\n",
      "\t\t<B x=\"0\" y=\"2\" z=\"0\"/>\n",
      "\t\t<C x=\"0\" y=\"0\" z=\"2\"/>\n",
      "\t</PeriodicBoxVectors>\n",
      "\t<Particles>\n",
      "\t\t<Particle mass=\"1.008\"/>\n",
      "\t\t<Particle mass=\"1.008\"/>\n",
      "\t\t<Particle mass=\"1.008\"/>\n",
      "\t\t<Particle mass=\"12.011\"/>\n",
      "\t\t<Particle mass=\"1.008\"/>\n",
      "\t\t<Particle mass=\"1.008\"/>\n",
      "\t\t<Particle mass=\"12.011\"/>\n",
      "\t\t<Particle mass=\"1.008\"/>\n",
      "\t\t<Particle mass=\"1.008\"/>\n",
      "\t\t<Particle mass=\"12.011\"/>\n",
      "\t\t<Particle mass=\"1.008\"/>\n",
      "\t\t<Particle mass=\"1.008\"/>\n",
      "\t\t<Particle mass=\"1.008\"/>\n",
      "\t\t<Particle mass=\"12.011\"/>\n",
      "\t</Particles>\n",
      "\t<Constraints/>\n",
      "\t<Forces>\n",
      "\t\t<Force forceGroup=\"0\" type=\"HarmonicBondForce\" version=\"1\">\n",
      "\t\t\t<Bonds>\n",
      "\t\t\t\t<Bond d=\".1111\" k=\"0\" p1=\"0\" p2=\"3\"/>\n",
      "\t\t\t\t<Bond d=\".1111\" k=\"0\" p1=\"1\" p2=\"3\"/>\n",
      "\t\t\t\t<Bond d=\".1111\" k=\"0\" p1=\"2\" p2=\"3\"/>\n",
      "\t\t\t\t<Bond d=\".15280000000000002\" k=\"0\" p1=\"3\" p2=\"6\"/>\n",
      "\t\t\t\t<Bond d=\".1111\" k=\"0\" p1=\"4\" p2=\"6\"/>\n",
      "\t\t\t\t<Bond d=\".1111\" k=\"0\" p1=\"5\" p2=\"6\"/>\n",
      "\t\t\t\t<Bond d=\".15300000000000002\" k=\"0\" p1=\"6\" p2=\"9\"/>\n",
      "\t\t\t\t<Bond d=\".1111\" k=\"0\" p1=\"7\" p2=\"9\"/>\n",
      "\t\t\t\t<Bond d=\".1111\" k=\"0\" p1=\"8\" p2=\"9\"/>\n",
      "\t\t\t\t<Bond d=\".15280000000000002\" k=\"0\" p1=\"9\" p2=\"13\"/>\n",
      "\t\t\t\t<Bond d=\".1111\" k=\"0\" p1=\"10\" p2=\"13\"/>\n",
      "\t\t\t\t<Bond d=\".1111\" k=\"0\" p1=\"11\" p2=\"13\"/>\n",
      "\t\t\t\t<Bond d=\".1111\" k=\"0\" p1=\"12\" p2=\"13\"/>\n",
      "\t\t\t</Bonds>\n",
      "\t\t</Force>\n",
      "\t\t<Force forceGroup=\"1\" type=\"HarmonicAngleForce\" version=\"1\">\n",
      "\t\t\t<Angles>\n",
      "\t\t\t\t<Angle a=\"1.9216075064457567\" k=\"0\" p1=\"0\" p2=\"3\" p3=\"6\"/>\n",
      "\t\t\t\t<Angle a=\"1.8919369091618534\" k=\"0\" p1=\"0\" p2=\"3\" p3=\"2\"/>\n",
      "\t\t\t\t<Angle a=\"1.8919369091618534\" k=\"0\" p1=\"0\" p2=\"3\" p3=\"1\"/>\n",
      "\t\t\t\t<Angle a=\"1.9216075064457567\" k=\"0\" p1=\"1\" p2=\"3\" p3=\"6\"/>\n",
      "\t\t\t\t<Angle a=\"1.8919369091618534\" k=\"0\" p1=\"1\" p2=\"3\" p3=\"2\"/>\n",
      "\t\t\t\t<Angle a=\"1.9216075064457567\" k=\"0\" p1=\"2\" p2=\"3\" p3=\"6\"/>\n",
      "\t\t\t\t<Angle a=\"2.007128639793479\" k=\"0\" p1=\"3\" p2=\"6\" p3=\"9\"/>\n",
      "\t\t\t\t<Angle a=\"1.9216075064457567\" k=\"0\" p1=\"3\" p2=\"6\" p3=\"5\"/>\n",
      "\t\t\t\t<Angle a=\"1.9216075064457567\" k=\"0\" p1=\"3\" p2=\"6\" p3=\"4\"/>\n",
      "\t\t\t\t<Angle a=\"1.9216075064457567\" k=\"0\" p1=\"4\" p2=\"6\" p3=\"9\"/>\n",
      "\t\t\t\t<Angle a=\"1.9024088846738192\" k=\"0\" p1=\"4\" p2=\"6\" p3=\"5\"/>\n",
      "\t\t\t\t<Angle a=\"1.9216075064457567\" k=\"0\" p1=\"5\" p2=\"6\" p3=\"9\"/>\n",
      "\t\t\t\t<Angle a=\"2.007128639793479\" k=\"0\" p1=\"6\" p2=\"9\" p3=\"13\"/>\n",
      "\t\t\t\t<Angle a=\"1.9216075064457567\" k=\"0\" p1=\"6\" p2=\"9\" p3=\"8\"/>\n",
      "\t\t\t\t<Angle a=\"1.9216075064457567\" k=\"0\" p1=\"6\" p2=\"9\" p3=\"7\"/>\n",
      "\t\t\t\t<Angle a=\"1.9216075064457567\" k=\"0\" p1=\"7\" p2=\"9\" p3=\"13\"/>\n",
      "\t\t\t\t<Angle a=\"1.9024088846738192\" k=\"0\" p1=\"7\" p2=\"9\" p3=\"8\"/>\n",
      "\t\t\t\t<Angle a=\"1.9216075064457567\" k=\"0\" p1=\"8\" p2=\"9\" p3=\"13\"/>\n",
      "\t\t\t\t<Angle a=\"1.9216075064457567\" k=\"0\" p1=\"9\" p2=\"13\" p3=\"12\"/>\n",
      "\t\t\t\t<Angle a=\"1.9216075064457567\" k=\"0\" p1=\"9\" p2=\"13\" p3=\"11\"/>\n",
      "\t\t\t\t<Angle a=\"1.9216075064457567\" k=\"0\" p1=\"9\" p2=\"13\" p3=\"10\"/>\n",
      "\t\t\t\t<Angle a=\"1.8919369091618534\" k=\"0\" p1=\"10\" p2=\"13\" p3=\"12\"/>\n",
      "\t\t\t\t<Angle a=\"1.8919369091618534\" k=\"0\" p1=\"10\" p2=\"13\" p3=\"11\"/>\n",
      "\t\t\t\t<Angle a=\"1.8919369091618534\" k=\"0\" p1=\"11\" p2=\"13\" p3=\"12\"/>\n",
      "\t\t\t</Angles>\n",
      "\t\t</Force>\n",
      "\t\t<Force forceGroup=\"2\" type=\"PeriodicTorsionForce\" version=\"1\">\n",
      "\t\t\t<Torsions>\n",
      "\t\t\t\t<Torsion k=\"0\" p1=\"0\" p2=\"3\" p3=\"6\" p4=\"4\" periodicity=\"3\" phase=\"0\"/>\n",
      "\t\t\t\t<Torsion k=\"0\" p1=\"0\" p2=\"3\" p3=\"6\" p4=\"5\" periodicity=\"3\" phase=\"0\"/>\n",
      "\t\t\t\t<Torsion k=\"0\" p1=\"0\" p2=\"3\" p3=\"6\" p4=\"9\" periodicity=\"3\" phase=\"0\"/>\n",
      "\t\t\t\t<Torsion k=\"0\" p1=\"1\" p2=\"3\" p3=\"6\" p4=\"4\" periodicity=\"3\" phase=\"0\"/>\n",
      "\t\t\t\t<Torsion k=\"0\" p1=\"1\" p2=\"3\" p3=\"6\" p4=\"5\" periodicity=\"3\" phase=\"0\"/>\n",
      "\t\t\t\t<Torsion k=\"0\" p1=\"1\" p2=\"3\" p3=\"6\" p4=\"9\" periodicity=\"3\" phase=\"0\"/>\n",
      "\t\t\t\t<Torsion k=\"0\" p1=\"2\" p2=\"3\" p3=\"6\" p4=\"4\" periodicity=\"3\" phase=\"0\"/>\n",
      "\t\t\t\t<Torsion k=\"0\" p1=\"2\" p2=\"3\" p3=\"6\" p4=\"5\" periodicity=\"3\" phase=\"0\"/>\n",
      "\t\t\t\t<Torsion k=\"0\" p1=\"2\" p2=\"3\" p3=\"6\" p4=\"9\" periodicity=\"3\" phase=\"0\"/>\n",
      "\t\t\t\t<Torsion k=\"0\" p1=\"3\" p2=\"6\" p3=\"9\" p4=\"7\" periodicity=\"3\" phase=\"0\"/>\n",
      "\t\t\t\t<Torsion k=\"0\" p1=\"3\" p2=\"6\" p3=\"9\" p4=\"8\" periodicity=\"3\" phase=\"0\"/>\n",
      "\t\t\t\t<Torsion k=\"0\" p1=\"3\" p2=\"6\" p3=\"9\" p4=\"13\" periodicity=\"2\" phase=\"0\"/>\n",
      "\t\t\t\t<Torsion k=\"0\" p1=\"3\" p2=\"6\" p3=\"9\" p4=\"13\" periodicity=\"6\" phase=\"3.141592653589793\"/>\n",
      "\t\t\t\t<Torsion k=\"0\" p1=\"4\" p2=\"6\" p3=\"9\" p4=\"7\" periodicity=\"3\" phase=\"0\"/>\n",
      "\t\t\t\t<Torsion k=\"0\" p1=\"4\" p2=\"6\" p3=\"9\" p4=\"8\" periodicity=\"3\" phase=\"0\"/>\n",
      "\t\t\t\t<Torsion k=\"0\" p1=\"4\" p2=\"6\" p3=\"9\" p4=\"13\" periodicity=\"3\" phase=\"0\"/>\n",
      "\t\t\t\t<Torsion k=\"0\" p1=\"5\" p2=\"6\" p3=\"9\" p4=\"7\" periodicity=\"3\" phase=\"0\"/>\n",
      "\t\t\t\t<Torsion k=\"0\" p1=\"5\" p2=\"6\" p3=\"9\" p4=\"8\" periodicity=\"3\" phase=\"0\"/>\n",
      "\t\t\t\t<Torsion k=\"0\" p1=\"5\" p2=\"6\" p3=\"9\" p4=\"13\" periodicity=\"3\" phase=\"0\"/>\n",
      "\t\t\t\t<Torsion k=\"0\" p1=\"6\" p2=\"9\" p3=\"13\" p4=\"10\" periodicity=\"3\" phase=\"0\"/>\n",
      "\t\t\t\t<Torsion k=\"0\" p1=\"6\" p2=\"9\" p3=\"13\" p4=\"11\" periodicity=\"3\" phase=\"0\"/>\n",
      "\t\t\t\t<Torsion k=\"0\" p1=\"6\" p2=\"9\" p3=\"13\" p4=\"12\" periodicity=\"3\" phase=\"0\"/>\n",
      "\t\t\t\t<Torsion k=\"0\" p1=\"7\" p2=\"9\" p3=\"13\" p4=\"10\" periodicity=\"3\" phase=\"0\"/>\n",
      "\t\t\t\t<Torsion k=\"0\" p1=\"7\" p2=\"9\" p3=\"13\" p4=\"11\" periodicity=\"3\" phase=\"0\"/>\n",
      "\t\t\t\t<Torsion k=\"0\" p1=\"7\" p2=\"9\" p3=\"13\" p4=\"12\" periodicity=\"3\" phase=\"0\"/>\n",
      "\t\t\t\t<Torsion k=\"0\" p1=\"8\" p2=\"9\" p3=\"13\" p4=\"10\" periodicity=\"3\" phase=\"0\"/>\n",
      "\t\t\t\t<Torsion k=\"0\" p1=\"8\" p2=\"9\" p3=\"13\" p4=\"11\" periodicity=\"3\" phase=\"0\"/>\n",
      "\t\t\t\t<Torsion k=\"0\" p1=\"8\" p2=\"9\" p3=\"13\" p4=\"12\" periodicity=\"3\" phase=\"0\"/>\n",
      "\t\t\t</Torsions>\n",
      "\t\t</Force>\n",
      "\t\t<Force forceGroup=\"3\" type=\"HarmonicBondForce\" version=\"1\">\n",
      "\t\t\t<Bonds>\n",
      "\t\t\t\t<Bond d=\".21789999999999998\" k=\"0\" p1=\"0\" p2=\"6\"/>\n",
      "\t\t\t\t<Bond d=\".18020000000000003\" k=\"0\" p1=\"0\" p2=\"2\"/>\n",
      "\t\t\t\t<Bond d=\".18020000000000003\" k=\"0\" p1=\"0\" p2=\"1\"/>\n",
      "\t\t\t\t<Bond d=\".21789999999999998\" k=\"0\" p1=\"1\" p2=\"6\"/>\n",
      "\t\t\t\t<Bond d=\".18020000000000003\" k=\"0\" p1=\"1\" p2=\"2\"/>\n",
      "\t\t\t\t<Bond d=\".21789999999999998\" k=\"0\" p1=\"2\" p2=\"6\"/>\n",
      "\t\t\t\t<Bond d=\".2561\" k=\"0\" p1=\"3\" p2=\"9\"/>\n",
      "\t\t\t\t<Bond d=\".21789999999999998\" k=\"0\" p1=\"3\" p2=\"5\"/>\n",
      "\t\t\t\t<Bond d=\".21789999999999998\" k=\"0\" p1=\"3\" p2=\"4\"/>\n",
      "\t\t\t\t<Bond d=\".21789999999999998\" k=\"0\" p1=\"4\" p2=\"9\"/>\n",
      "\t\t\t\t<Bond d=\".18020000000000003\" k=\"0\" p1=\"4\" p2=\"5\"/>\n",
      "\t\t\t\t<Bond d=\".21789999999999998\" k=\"0\" p1=\"5\" p2=\"9\"/>\n",
      "\t\t\t\t<Bond d=\".2561\" k=\"0\" p1=\"6\" p2=\"13\"/>\n",
      "\t\t\t\t<Bond d=\".21789999999999998\" k=\"0\" p1=\"6\" p2=\"8\"/>\n",
      "\t\t\t\t<Bond d=\".21789999999999998\" k=\"0\" p1=\"6\" p2=\"7\"/>\n",
      "\t\t\t\t<Bond d=\".21789999999999998\" k=\"0\" p1=\"7\" p2=\"13\"/>\n",
      "\t\t\t\t<Bond d=\".18020000000000003\" k=\"0\" p1=\"7\" p2=\"8\"/>\n",
      "\t\t\t\t<Bond d=\".21789999999999998\" k=\"0\" p1=\"8\" p2=\"13\"/>\n",
      "\t\t\t\t<Bond d=\".21789999999999998\" k=\"0\" p1=\"9\" p2=\"12\"/>\n",
      "\t\t\t\t<Bond d=\".21789999999999998\" k=\"0\" p1=\"9\" p2=\"11\"/>\n",
      "\t\t\t\t<Bond d=\".21789999999999998\" k=\"0\" p1=\"9\" p2=\"10\"/>\n",
      "\t\t\t\t<Bond d=\".18020000000000003\" k=\"0\" p1=\"10\" p2=\"12\"/>\n",
      "\t\t\t\t<Bond d=\".18020000000000003\" k=\"0\" p1=\"10\" p2=\"11\"/>\n",
      "\t\t\t\t<Bond d=\".18020000000000003\" k=\"0\" p1=\"11\" p2=\"12\"/>\n",
      "\t\t\t</Bonds>\n",
      "\t\t</Force>\n",
      "\t\t<Force alpha=\"0\" cutoff=\"1\" dispersionCorrection=\"1\" ewaldTolerance=\".0005\" forceGroup=\"11\" method=\"0\" nx=\"0\" ny=\"0\" nz=\"0\" recipForceGroup=\"-1\" rfDielectric=\"78.5\" switchingDistance=\"-1\" type=\"NonbondedForce\" useSwitchingFunction=\"0\" version=\"1\">\n",
      "\t\t\t<Particles>\n",
      "\t\t\t\t<Particle eps=\"0\" q=\"0\" sig=\".1\"/>\n",
      "\t\t\t\t<Particle eps=\"0\" q=\"0\" sig=\".1\"/>\n",
      "\t\t\t\t<Particle eps=\"0\" q=\"0\" sig=\".1\"/>\n",
      "\t\t\t\t<Particle eps=\"0\" q=\"0\" sig=\".1\"/>\n",
      "\t\t\t\t<Particle eps=\"0\" q=\"0\" sig=\".1\"/>\n",
      "\t\t\t\t<Particle eps=\"0\" q=\"0\" sig=\".1\"/>\n",
      "\t\t\t\t<Particle eps=\"0\" q=\"0\" sig=\".1\"/>\n",
      "\t\t\t\t<Particle eps=\"0\" q=\"0\" sig=\".1\"/>\n",
      "\t\t\t\t<Particle eps=\"0\" q=\"0\" sig=\".1\"/>\n",
      "\t\t\t\t<Particle eps=\"0\" q=\"0\" sig=\".1\"/>\n",
      "\t\t\t\t<Particle eps=\"0\" q=\"0\" sig=\".1\"/>\n",
      "\t\t\t\t<Particle eps=\"0\" q=\"0\" sig=\".1\"/>\n",
      "\t\t\t\t<Particle eps=\"0\" q=\"0\" sig=\".1\"/>\n",
      "\t\t\t\t<Particle eps=\"0\" q=\"0\" sig=\".1\"/>\n",
      "\t\t\t</Particles>\n",
      "\t\t\t<Exceptions>\n",
      "\t\t\t\t<Exception eps=\"0\" p1=\"0\" p2=\"3\" q=\"0\" sig=\".5\"/>\n",
      "\t\t\t\t<Exception eps=\"0\" p1=\"1\" p2=\"0\" q=\"0\" sig=\".5\"/>\n",
      "\t\t\t\t<Exception eps=\"0\" p1=\"2\" p2=\"0\" q=\"0\" sig=\".5\"/>\n",
      "\t\t\t\t<Exception eps=\"0\" p1=\"6\" p2=\"0\" q=\"0\" sig=\".5\"/>\n",
      "\t\t\t\t<Exception eps=\"0\" p1=\"1\" p2=\"3\" q=\"0\" sig=\".5\"/>\n",
      "\t\t\t\t<Exception eps=\"0\" p1=\"2\" p2=\"1\" q=\"0\" sig=\".5\"/>\n",
      "\t\t\t\t<Exception eps=\"0\" p1=\"6\" p2=\"1\" q=\"0\" sig=\".5\"/>\n",
      "\t\t\t\t<Exception eps=\"0\" p1=\"2\" p2=\"3\" q=\"0\" sig=\".5\"/>\n",
      "\t\t\t\t<Exception eps=\"0\" p1=\"6\" p2=\"2\" q=\"0\" sig=\".5\"/>\n",
      "\t\t\t\t<Exception eps=\"0\" p1=\"6\" p2=\"3\" q=\"0\" sig=\".5\"/>\n",
      "\t\t\t\t<Exception eps=\"0\" p1=\"4\" p2=\"3\" q=\"0\" sig=\".5\"/>\n",
      "\t\t\t\t<Exception eps=\"0\" p1=\"5\" p2=\"3\" q=\"0\" sig=\".5\"/>\n",
      "\t\t\t\t<Exception eps=\"0\" p1=\"9\" p2=\"3\" q=\"0\" sig=\".5\"/>\n",
      "\t\t\t\t<Exception eps=\"0\" p1=\"4\" p2=\"6\" q=\"0\" sig=\".5\"/>\n",
      "\t\t\t\t<Exception eps=\"0\" p1=\"5\" p2=\"4\" q=\"0\" sig=\".5\"/>\n",
      "\t\t\t\t<Exception eps=\"0\" p1=\"9\" p2=\"4\" q=\"0\" sig=\".5\"/>\n",
      "\t\t\t\t<Exception eps=\"0\" p1=\"5\" p2=\"6\" q=\"0\" sig=\".5\"/>\n",
      "\t\t\t\t<Exception eps=\"0\" p1=\"9\" p2=\"5\" q=\"0\" sig=\".5\"/>\n",
      "\t\t\t\t<Exception eps=\"0\" p1=\"9\" p2=\"6\" q=\"0\" sig=\".5\"/>\n",
      "\t\t\t\t<Exception eps=\"0\" p1=\"7\" p2=\"6\" q=\"0\" sig=\".5\"/>\n",
      "\t\t\t\t<Exception eps=\"0\" p1=\"8\" p2=\"6\" q=\"0\" sig=\".5\"/>\n",
      "\t\t\t\t<Exception eps=\"0\" p1=\"13\" p2=\"6\" q=\"0\" sig=\".5\"/>\n",
      "\t\t\t\t<Exception eps=\"0\" p1=\"7\" p2=\"9\" q=\"0\" sig=\".5\"/>\n",
      "\t\t\t\t<Exception eps=\"0\" p1=\"8\" p2=\"7\" q=\"0\" sig=\".5\"/>\n",
      "\t\t\t\t<Exception eps=\"0\" p1=\"13\" p2=\"7\" q=\"0\" sig=\".5\"/>\n",
      "\t\t\t\t<Exception eps=\"0\" p1=\"8\" p2=\"9\" q=\"0\" sig=\".5\"/>\n",
      "\t\t\t\t<Exception eps=\"0\" p1=\"13\" p2=\"8\" q=\"0\" sig=\".5\"/>\n",
      "\t\t\t\t<Exception eps=\"0\" p1=\"13\" p2=\"9\" q=\"0\" sig=\".5\"/>\n",
      "\t\t\t\t<Exception eps=\"0\" p1=\"10\" p2=\"9\" q=\"0\" sig=\".5\"/>\n",
      "\t\t\t\t<Exception eps=\"0\" p1=\"11\" p2=\"9\" q=\"0\" sig=\".5\"/>\n",
      "\t\t\t\t<Exception eps=\"0\" p1=\"12\" p2=\"9\" q=\"0\" sig=\".5\"/>\n",
      "\t\t\t\t<Exception eps=\"0\" p1=\"10\" p2=\"13\" q=\"0\" sig=\".5\"/>\n",
      "\t\t\t\t<Exception eps=\"0\" p1=\"11\" p2=\"10\" q=\"0\" sig=\".5\"/>\n",
      "\t\t\t\t<Exception eps=\"0\" p1=\"12\" p2=\"10\" q=\"0\" sig=\".5\"/>\n",
      "\t\t\t\t<Exception eps=\"0\" p1=\"11\" p2=\"13\" q=\"0\" sig=\".5\"/>\n",
      "\t\t\t\t<Exception eps=\"0\" p1=\"12\" p2=\"11\" q=\"0\" sig=\".5\"/>\n",
      "\t\t\t\t<Exception eps=\"0\" p1=\"12\" p2=\"13\" q=\"0\" sig=\".5\"/>\n",
      "\t\t\t\t<Exception eps=\".12126384061211325\" p1=\"0\" p2=\"4\" q=\"0\" sig=\".23876085646161097\"/>\n",
      "\t\t\t\t<Exception eps=\".12126384061211325\" p1=\"0\" p2=\"5\" q=\"0\" sig=\".23876085646161097\"/>\n",
      "\t\t\t\t<Exception eps=\".06481824928212733\" p1=\"0\" p2=\"9\" q=\"0\" sig=\".2886511846774699\"/>\n",
      "\t\t\t\t<Exception eps=\".12126384061211325\" p1=\"1\" p2=\"4\" q=\"0\" sig=\".23876085646161097\"/>\n",
      "\t\t\t\t<Exception eps=\".12126384061211325\" p1=\"1\" p2=\"5\" q=\"0\" sig=\".23876085646161097\"/>\n",
      "\t\t\t\t<Exception eps=\".06481824928212733\" p1=\"1\" p2=\"9\" q=\"0\" sig=\".2886511846774699\"/>\n",
      "\t\t\t\t<Exception eps=\".12126384061211325\" p1=\"2\" p2=\"4\" q=\"0\" sig=\".23876085646161097\"/>\n",
      "\t\t\t\t<Exception eps=\".12126384061211325\" p1=\"2\" p2=\"5\" q=\"0\" sig=\".23876085646161097\"/>\n",
      "\t\t\t\t<Exception eps=\".06481824928212733\" p1=\"2\" p2=\"9\" q=\"0\" sig=\".2886511846774699\"/>\n",
      "\t\t\t\t<Exception eps=\".07827547253131087\" p1=\"3\" p2=\"7\" q=\"0\" sig=\".2886511846774699\"/>\n",
      "\t\t\t\t<Exception eps=\".07827547253131087\" p1=\"3\" p2=\"8\" q=\"0\" sig=\".2886511846774699\"/>\n",
      "\t\t\t\t<Exception eps=\".04184\" p1=\"3\" p2=\"13\" q=\"0\" sig=\".3385415128933289\"/>\n",
      "\t\t\t\t<Exception eps=\".14644000000000001\" p1=\"4\" p2=\"7\" q=\"0\" sig=\".23876085646161097\"/>\n",
      "\t\t\t\t<Exception eps=\".14644000000000001\" p1=\"4\" p2=\"8\" q=\"0\" sig=\".23876085646161097\"/>\n",
      "\t\t\t\t<Exception eps=\".07827547253131087\" p1=\"4\" p2=\"13\" q=\"0\" sig=\".2886511846774699\"/>\n",
      "\t\t\t\t<Exception eps=\".14644000000000001\" p1=\"5\" p2=\"7\" q=\"0\" sig=\".23876085646161097\"/>\n",
      "\t\t\t\t<Exception eps=\".14644000000000001\" p1=\"5\" p2=\"8\" q=\"0\" sig=\".23876085646161097\"/>\n",
      "\t\t\t\t<Exception eps=\".07827547253131087\" p1=\"5\" p2=\"13\" q=\"0\" sig=\".2886511846774699\"/>\n",
      "\t\t\t\t<Exception eps=\".06481824928212733\" p1=\"6\" p2=\"10\" q=\"0\" sig=\".2886511846774699\"/>\n",
      "\t\t\t\t<Exception eps=\".06481824928212733\" p1=\"6\" p2=\"11\" q=\"0\" sig=\".2886511846774699\"/>\n",
      "\t\t\t\t<Exception eps=\".06481824928212733\" p1=\"6\" p2=\"12\" q=\"0\" sig=\".2886511846774699\"/>\n",
      "\t\t\t\t<Exception eps=\".12126384061211325\" p1=\"7\" p2=\"10\" q=\"0\" sig=\".23876085646161097\"/>\n",
      "\t\t\t\t<Exception eps=\".12126384061211325\" p1=\"7\" p2=\"11\" q=\"0\" sig=\".23876085646161097\"/>\n",
      "\t\t\t\t<Exception eps=\".12126384061211325\" p1=\"7\" p2=\"12\" q=\"0\" sig=\".23876085646161097\"/>\n",
      "\t\t\t\t<Exception eps=\".12126384061211325\" p1=\"8\" p2=\"10\" q=\"0\" sig=\".23876085646161097\"/>\n",
      "\t\t\t\t<Exception eps=\".12126384061211325\" p1=\"8\" p2=\"11\" q=\"0\" sig=\".23876085646161097\"/>\n",
      "\t\t\t\t<Exception eps=\".12126384061211325\" p1=\"8\" p2=\"12\" q=\"0\" sig=\".23876085646161097\"/>\n",
      "\t\t\t</Exceptions>\n",
      "\t\t</Force>\n",
      "\t\t<Force forceGroup=\"0\" frequency=\"1\" type=\"CMMotionRemover\" version=\"1\"/>\n",
      "\t</Forces>\n",
      "</System>\n",
      "\n"
     ]
    }
   ],
   "source": [
    "print serialized"
   ]
  },
  {
   "cell_type": "code",
   "execution_count": 76,
   "metadata": {
    "collapsed": false
   },
   "outputs": [
    {
     "data": {
      "text/plain": [
       "[<matplotlib.lines.Line2D at 0x12583d850>]"
      ]
     },
     "execution_count": 76,
     "metadata": {},
     "output_type": "execute_result"
    },
    {
     "data": {
      "image/png": "[encoded data removed]",
      "text/plain": [
       "<matplotlib.figure.Figure at 0x12539d590>"
      ]
     },
     "metadata": {},
     "output_type": "display_data"
    }
   ],
   "source": [
    "# Use parameter sets where sigma and epsilon are already set to 1 and 0\n",
    "param = CharmmParameterSet('../param/top_all36_cgenff.rtf',\n",
    "                           '../param/par_all36_cgenff.prm')\n",
    "structure = '../structure/butane_charge_off.psf'\n",
    "scan = '../torsion_scans/DFT_b3lyp/butane_scan_b3lyp_360.log'\n",
    "\n",
    "butane_scan = ScanSet.parse_psi4(scan, structure)\n",
    "butane_scan.compute_energy(param)\n",
    "\n",
    "plt.plot(butane_scan.mm_energy)\n"
   ]
  },
  {
   "cell_type": "code",
   "execution_count": 77,
   "metadata": {
    "collapsed": false
   },
   "outputs": [
    {
     "data": {
      "text/plain": [
       "[<matplotlib.lines.Line2D at 0x1253c9ed0>]"
      ]
     },
     "execution_count": 77,
     "metadata": {},
     "output_type": "execute_result"
    },
    {
     "data": {
      "image/png": "[encoded data removed]",
      "text/plain": [
       "<matplotlib.figure.Figure at 0x11b0e7e50>"
      ]
     },
     "metadata": {},
     "output_type": "display_data"
    }
   ],
   "source": [
    "# Turn everything off\n",
    "param.dihedral_types[('CG331', 'CG321', 'CG321', 'CG331')][1].phi_k=0\n",
    "param.dihedral_types[('CG331', 'CG321', 'CG321', 'CG331')][0].phi_k=0\n",
    "param.dihedral_types[('HGA3', 'CG331', 'CG321', 'HGA2')][0].phi_k=0\n",
    "param.dihedral_types[('HGA2', 'CG321', 'CG331', 'HGA3')][0].phi_k=0\n",
    "param.dihedral_types[('HGA3', 'CG331', 'CG321', 'CG321')][0].phi_k=0\n",
    "param.dihedral_types[('CG321', 'CG321', 'CG331', 'HGA3')][0].phi_k=0\n",
    "param.dihedral_types[('HGA2', 'CG321', 'CG321', 'HGA2')][0].phi_k=0\n",
    "param.dihedral_types[('CG331', 'CG321', 'CG321', 'HGA2')][0].phi_k=0\n",
    "param.bond_types[('CG331', 'CG321')].k=0\n",
    "param.bond_types[('CG321', 'CG321')].k=0\n",
    "param.bond_types[('CG331', 'HGA3')].k=0\n",
    "param.bond_types[('CG321', 'HGA2')].k=0\n",
    "param.urey_bradley_types[('CG331', 'CG321', 'CG321')].k  = 0\n",
    "param.urey_bradley_types[('CG331', 'CG321', 'HGA2')].k = 0\n",
    "param.urey_bradley_types[('CG321', 'CG321', 'HGA2')].k = 0\n",
    "param.urey_bradley_types[('HGA3', 'CG331', 'CG321')].k = 0\n",
    "param.urey_bradley_types[('HGA3', 'CG331', 'HGA3')].k = 0\n",
    "param.urey_bradley_types[('HGA2', 'CG321', 'HGA2')].k = 0\n",
    "\n",
    "param.angle_types[('CG331', 'CG321', 'CG321')].k  = 0\n",
    "param.angle_types[('CG331', 'CG321', 'HGA2')].k = 0\n",
    "param.angle_types[('CG321', 'CG321', 'HGA2')].k = 0\n",
    "param.angle_types[('HGA3', 'CG331', 'CG321')].k = 0\n",
    "param.angle_types[('HGA3', 'CG331', 'HGA3')].k = 0\n",
    "param.angle_types[('HGA2', 'CG321', 'HGA2')].k = 0\n",
    "\n",
    "# reparameterize\n",
    "butane_scan.integrator = mm.VerletIntegrator(0.004*u.picoseconds)\n",
    "butane_scan.create_context(param)\n",
    "butane_scan.compute_energy(param)\n",
    "\n",
    "plt.plot(butane_scan.mm_energy)\n"
   ]
  },
  {
   "cell_type": "code",
   "execution_count": 78,
   "metadata": {
    "collapsed": false
   },
   "outputs": [
    {
     "name": "stdout",
     "output_type": "stream",
     "text": [
      "[('HarmonicBondForce', 0.0), ('HarmonicAngleForce', 0.0), ('PeriodicTorsionForce', 0.0), ('HarmonicBondForce', 0.0), ('NonbondedForce', 0.0), ('CMMotionRemover', 0.0)]\n",
      "[('HarmonicBondForce', 0.0), ('HarmonicAngleForce', 0.0), ('PeriodicTorsionForce', 0.0), ('HarmonicBondForce', 0.0), ('NonbondedForce', 0.0), ('CMMotionRemover', 0.0)]\n",
      "[('HarmonicBondForce', 0.0), ('HarmonicAngleForce', 0.0), ('PeriodicTorsionForce', 0.0), ('HarmonicBondForce', 0.0), ('NonbondedForce', 0.0), ('CMMotionRemover', 0.0)]\n",
      "[('HarmonicBondForce', 0.0), ('HarmonicAngleForce', 0.0), ('PeriodicTorsionForce', 0.0), ('HarmonicBondForce', 0.0), ('NonbondedForce', 0.0), ('CMMotionRemover', 0.0)]\n",
      "[('HarmonicBondForce', 0.0), ('HarmonicAngleForce', 0.0), ('PeriodicTorsionForce', 0.0), ('HarmonicBondForce', 0.0), ('NonbondedForce', 0.0), ('CMMotionRemover', 0.0)]\n",
      "[('HarmonicBondForce', 0.0), ('HarmonicAngleForce', 0.0), ('PeriodicTorsionForce', 0.0), ('HarmonicBondForce', 0.0), ('NonbondedForce', 0.0), ('CMMotionRemover', 0.0)]\n",
      "[('HarmonicBondForce', 0.0), ('HarmonicAngleForce', 0.0), ('PeriodicTorsionForce', 0.0), ('HarmonicBondForce', 0.0), ('NonbondedForce', 0.0), ('CMMotionRemover', 0.0)]\n",
      "[('HarmonicBondForce', 0.0), ('HarmonicAngleForce', 0.0), ('PeriodicTorsionForce', 0.0), ('HarmonicBondForce', 0.0), ('NonbondedForce', 0.0), ('CMMotionRemover', 0.0)]\n",
      "[('HarmonicBondForce', 0.0), ('HarmonicAngleForce', 0.0), ('PeriodicTorsionForce', 0.0), ('HarmonicBondForce', 0.0), ('NonbondedForce', 0.0), ('CMMotionRemover', 0.0)]\n",
      "[('HarmonicBondForce', 0.0), ('HarmonicAngleForce', 0.0), ('PeriodicTorsionForce', 0.0), ('HarmonicBondForce', 0.0), ('NonbondedForce', 0.0), ('CMMotionRemover', 0.0)]\n",
      "[('HarmonicBondForce', 0.0), ('HarmonicAngleForce', 0.0), ('PeriodicTorsionForce', 0.0), ('HarmonicBondForce', 0.0), ('NonbondedForce', 0.0), ('CMMotionRemover', 0.0)]\n",
      "[('HarmonicBondForce', 0.0), ('HarmonicAngleForce', 0.0), ('PeriodicTorsionForce', 0.0), ('HarmonicBondForce', 0.0), ('NonbondedForce', 0.0), ('CMMotionRemover', 0.0)]\n",
      "[('HarmonicBondForce', 0.0), ('HarmonicAngleForce', 0.0), ('PeriodicTorsionForce', 0.0), ('HarmonicBondForce', 0.0), ('NonbondedForce', 0.0), ('CMMotionRemover', 0.0)]\n",
      "[('HarmonicBondForce', 0.0), ('HarmonicAngleForce', 0.0), ('PeriodicTorsionForce', 0.0), ('HarmonicBondForce', 0.0), ('NonbondedForce', 0.0), ('CMMotionRemover', 0.0)]\n",
      "[('HarmonicBondForce', 0.0), ('HarmonicAngleForce', 0.0), ('PeriodicTorsionForce', 0.0), ('HarmonicBondForce', 0.0), ('NonbondedForce', 0.0), ('CMMotionRemover', 0.0)]\n",
      "[('HarmonicBondForce', 0.0), ('HarmonicAngleForce', 0.0), ('PeriodicTorsionForce', 0.0), ('HarmonicBondForce', 0.0), ('NonbondedForce', 0.0), ('CMMotionRemover', 0.0)]\n",
      "[('HarmonicBondForce', 0.0), ('HarmonicAngleForce', 0.0), ('PeriodicTorsionForce', 0.0), ('HarmonicBondForce', 0.0), ('NonbondedForce', 0.0), ('CMMotionRemover', 0.0)]\n",
      "[('HarmonicBondForce', 0.0), ('HarmonicAngleForce', 0.0), ('PeriodicTorsionForce', 0.0), ('HarmonicBondForce', 0.0), ('NonbondedForce', 0.0), ('CMMotionRemover', 0.0)]\n",
      "[('HarmonicBondForce', 0.0), ('HarmonicAngleForce', 0.0), ('PeriodicTorsionForce', 0.0), ('HarmonicBondForce', 0.0), ('NonbondedForce', 0.0), ('CMMotionRemover', 0.0)]\n",
      "[('HarmonicBondForce', 0.0), ('HarmonicAngleForce', 0.0), ('PeriodicTorsionForce', 0.0), ('HarmonicBondForce', 0.0), ('NonbondedForce', 0.0), ('CMMotionRemover', 0.0)]\n",
      "[('HarmonicBondForce', 0.0), ('HarmonicAngleForce', 0.0), ('PeriodicTorsionForce', 0.0), ('HarmonicBondForce', 0.0), ('NonbondedForce', 0.0), ('CMMotionRemover', 0.0)]\n",
      "[('HarmonicBondForce', 0.0), ('HarmonicAngleForce', 0.0), ('PeriodicTorsionForce', 0.0), ('HarmonicBondForce', 0.0), ('NonbondedForce', 0.0), ('CMMotionRemover', 0.0)]\n",
      "[('HarmonicBondForce', 0.0), ('HarmonicAngleForce', 0.0), ('PeriodicTorsionForce', 0.0), ('HarmonicBondForce', 0.0), ('NonbondedForce', 0.0), ('CMMotionRemover', 0.0)]\n",
      "[('HarmonicBondForce', 0.0), ('HarmonicAngleForce', 0.0), ('PeriodicTorsionForce', 0.0), ('HarmonicBondForce', 0.0), ('NonbondedForce', 0.0), ('CMMotionRemover', 0.0)]\n",
      "[('HarmonicBondForce', 0.0), ('HarmonicAngleForce', 0.0), ('PeriodicTorsionForce', 0.0), ('HarmonicBondForce', 0.0), ('NonbondedForce', 0.0), ('CMMotionRemover', 0.0)]\n",
      "[('HarmonicBondForce', 0.0), ('HarmonicAngleForce', 0.0), ('PeriodicTorsionForce', 0.0), ('HarmonicBondForce', 0.0), ('NonbondedForce', 0.0), ('CMMotionRemover', 0.0)]\n",
      "[('HarmonicBondForce', 0.0), ('HarmonicAngleForce', 0.0), ('PeriodicTorsionForce', 0.0), ('HarmonicBondForce', 0.0), ('NonbondedForce', 0.0), ('CMMotionRemover', 0.0)]\n",
      "[('HarmonicBondForce', 0.0), ('HarmonicAngleForce', 0.0), ('PeriodicTorsionForce', 0.0), ('HarmonicBondForce', 0.0), ('NonbondedForce', 0.0), ('CMMotionRemover', 0.0)]\n",
      "[('HarmonicBondForce', 0.0), ('HarmonicAngleForce', 0.0), ('PeriodicTorsionForce', 0.0), ('HarmonicBondForce', 0.0), ('NonbondedForce', 0.0), ('CMMotionRemover', 0.0)]\n",
      "[('HarmonicBondForce', 0.0), ('HarmonicAngleForce', 0.0), ('PeriodicTorsionForce', 0.0), ('HarmonicBondForce', 0.0), ('NonbondedForce', 0.0), ('CMMotionRemover', 0.0)]\n",
      "[('HarmonicBondForce', 0.0), ('HarmonicAngleForce', 0.0), ('PeriodicTorsionForce', 0.0), ('HarmonicBondForce', 0.0), ('NonbondedForce', 0.0), ('CMMotionRemover', 0.0)]\n",
      "[('HarmonicBondForce', 0.0), ('HarmonicAngleForce', 0.0), ('PeriodicTorsionForce', 0.0), ('HarmonicBondForce', 0.0), ('NonbondedForce', 0.0), ('CMMotionRemover', 0.0)]\n",
      "[('HarmonicBondForce', 0.0), ('HarmonicAngleForce', 0.0), ('PeriodicTorsionForce', 0.0), ('HarmonicBondForce', 0.0), ('NonbondedForce', 0.0), ('CMMotionRemover', 0.0)]\n",
      "[('HarmonicBondForce', 0.0), ('HarmonicAngleForce', 0.0), ('PeriodicTorsionForce', 0.0), ('HarmonicBondForce', 0.0), ('NonbondedForce', 0.0), ('CMMotionRemover', 0.0)]\n",
      "[('HarmonicBondForce', 0.0), ('HarmonicAngleForce', 0.0), ('PeriodicTorsionForce', 0.0), ('HarmonicBondForce', 0.0), ('NonbondedForce', 0.0), ('CMMotionRemover', 0.0)]\n"
     ]
    }
   ],
   "source": [
    "# Print out energy\n",
    "# Print out all energy\n",
    "import parmed\n",
    "for i in range(butane_scan.n_frames):\n",
    "    butane_scan.context.setPositions(butane_scan.positions[i])\n",
    "    param_omm = parmed.openmm.load_topology(butane_scan.structure.topology, butane_scan.system, xyz=butane_scan.positions[i])\n",
    "    energy = parmed.openmm.energy_decomposition_system(param_omm, butane_scan.system, nrg=u.kilojoules_per_mole)\n",
    "    print energy"
   ]
  },
  {
   "cell_type": "code",
   "execution_count": 82,
   "metadata": {
    "collapsed": false
   },
   "outputs": [
    {
     "name": "stdout",
     "output_type": "stream",
     "text": [
      "<?xml version=\"1.0\" ?>\n",
      "<System openmmVersion=\"7.0\" type=\"System\" version=\"1\">\n",
      "\t<PeriodicBoxVectors>\n",
      "\t\t<A x=\"2\" y=\"0\" z=\"0\"/>\n",
      "\t\t<B x=\"0\" y=\"2\" z=\"0\"/>\n",
      "\t\t<C x=\"0\" y=\"0\" z=\"2\"/>\n",
      "\t</PeriodicBoxVectors>\n",
      "\t<Particles>\n",
      "\t\t<Particle mass=\"1.008\"/>\n",
      "\t\t<Particle mass=\"1.008\"/>\n",
      "\t\t<Particle mass=\"1.008\"/>\n",
      "\t\t<Particle mass=\"12.011\"/>\n",
      "\t\t<Particle mass=\"1.008\"/>\n",
      "\t\t<Particle mass=\"1.008\"/>\n",
      "\t\t<Particle mass=\"12.011\"/>\n",
      "\t\t<Particle mass=\"1.008\"/>\n",
      "\t\t<Particle mass=\"1.008\"/>\n",
      "\t\t<Particle mass=\"12.011\"/>\n",
      "\t\t<Particle mass=\"1.008\"/>\n",
      "\t\t<Particle mass=\"1.008\"/>\n",
      "\t\t<Particle mass=\"1.008\"/>\n",
      "\t\t<Particle mass=\"12.011\"/>\n",
      "\t</Particles>\n",
      "\t<Constraints/>\n",
      "\t<Forces>\n",
      "\t\t<Force forceGroup=\"0\" type=\"HarmonicBondForce\" version=\"1\">\n",
      "\t\t\t<Bonds>\n",
      "\t\t\t\t<Bond d=\".1111\" k=\"0\" p1=\"0\" p2=\"3\"/>\n",
      "\t\t\t\t<Bond d=\".1111\" k=\"0\" p1=\"1\" p2=\"3\"/>\n",
      "\t\t\t\t<Bond d=\".1111\" k=\"0\" p1=\"2\" p2=\"3\"/>\n",
      "\t\t\t\t<Bond d=\".15280000000000002\" k=\"0\" p1=\"3\" p2=\"6\"/>\n",
      "\t\t\t\t<Bond d=\".1111\" k=\"0\" p1=\"4\" p2=\"6\"/>\n",
      "\t\t\t\t<Bond d=\".1111\" k=\"0\" p1=\"5\" p2=\"6\"/>\n",
      "\t\t\t\t<Bond d=\".15300000000000002\" k=\"0\" p1=\"6\" p2=\"9\"/>\n",
      "\t\t\t\t<Bond d=\".1111\" k=\"0\" p1=\"7\" p2=\"9\"/>\n",
      "\t\t\t\t<Bond d=\".1111\" k=\"0\" p1=\"8\" p2=\"9\"/>\n",
      "\t\t\t\t<Bond d=\".15280000000000002\" k=\"0\" p1=\"9\" p2=\"13\"/>\n",
      "\t\t\t\t<Bond d=\".1111\" k=\"0\" p1=\"10\" p2=\"13\"/>\n",
      "\t\t\t\t<Bond d=\".1111\" k=\"0\" p1=\"11\" p2=\"13\"/>\n",
      "\t\t\t\t<Bond d=\".1111\" k=\"0\" p1=\"12\" p2=\"13\"/>\n",
      "\t\t\t</Bonds>\n",
      "\t\t</Force>\n",
      "\t\t<Force forceGroup=\"1\" type=\"HarmonicAngleForce\" version=\"1\">\n",
      "\t\t\t<Angles>\n",
      "\t\t\t\t<Angle a=\"1.9216075064457567\" k=\"0\" p1=\"0\" p2=\"3\" p3=\"6\"/>\n",
      "\t\t\t\t<Angle a=\"1.8919369091618534\" k=\"0\" p1=\"0\" p2=\"3\" p3=\"2\"/>\n",
      "\t\t\t\t<Angle a=\"1.8919369091618534\" k=\"0\" p1=\"0\" p2=\"3\" p3=\"1\"/>\n",
      "\t\t\t\t<Angle a=\"1.9216075064457567\" k=\"0\" p1=\"1\" p2=\"3\" p3=\"6\"/>\n",
      "\t\t\t\t<Angle a=\"1.8919369091618534\" k=\"0\" p1=\"1\" p2=\"3\" p3=\"2\"/>\n",
      "\t\t\t\t<Angle a=\"1.9216075064457567\" k=\"0\" p1=\"2\" p2=\"3\" p3=\"6\"/>\n",
      "\t\t\t\t<Angle a=\"2.007128639793479\" k=\"0\" p1=\"3\" p2=\"6\" p3=\"9\"/>\n",
      "\t\t\t\t<Angle a=\"1.9216075064457567\" k=\"0\" p1=\"3\" p2=\"6\" p3=\"5\"/>\n",
      "\t\t\t\t<Angle a=\"1.9216075064457567\" k=\"0\" p1=\"3\" p2=\"6\" p3=\"4\"/>\n",
      "\t\t\t\t<Angle a=\"1.9216075064457567\" k=\"0\" p1=\"4\" p2=\"6\" p3=\"9\"/>\n",
      "\t\t\t\t<Angle a=\"1.9024088846738192\" k=\"0\" p1=\"4\" p2=\"6\" p3=\"5\"/>\n",
      "\t\t\t\t<Angle a=\"1.9216075064457567\" k=\"0\" p1=\"5\" p2=\"6\" p3=\"9\"/>\n",
      "\t\t\t\t<Angle a=\"2.007128639793479\" k=\"0\" p1=\"6\" p2=\"9\" p3=\"13\"/>\n",
      "\t\t\t\t<Angle a=\"1.9216075064457567\" k=\"0\" p1=\"6\" p2=\"9\" p3=\"8\"/>\n",
      "\t\t\t\t<Angle a=\"1.9216075064457567\" k=\"0\" p1=\"6\" p2=\"9\" p3=\"7\"/>\n",
      "\t\t\t\t<Angle a=\"1.9216075064457567\" k=\"0\" p1=\"7\" p2=\"9\" p3=\"13\"/>\n",
      "\t\t\t\t<Angle a=\"1.9024088846738192\" k=\"0\" p1=\"7\" p2=\"9\" p3=\"8\"/>\n",
      "\t\t\t\t<Angle a=\"1.9216075064457567\" k=\"0\" p1=\"8\" p2=\"9\" p3=\"13\"/>\n",
      "\t\t\t\t<Angle a=\"1.9216075064457567\" k=\"0\" p1=\"9\" p2=\"13\" p3=\"12\"/>\n",
      "\t\t\t\t<Angle a=\"1.9216075064457567\" k=\"0\" p1=\"9\" p2=\"13\" p3=\"11\"/>\n",
      "\t\t\t\t<Angle a=\"1.9216075064457567\" k=\"0\" p1=\"9\" p2=\"13\" p3=\"10\"/>\n",
      "\t\t\t\t<Angle a=\"1.8919369091618534\" k=\"0\" p1=\"10\" p2=\"13\" p3=\"12\"/>\n",
      "\t\t\t\t<Angle a=\"1.8919369091618534\" k=\"0\" p1=\"10\" p2=\"13\" p3=\"11\"/>\n",
      "\t\t\t\t<Angle a=\"1.8919369091618534\" k=\"0\" p1=\"11\" p2=\"13\" p3=\"12\"/>\n",
      "\t\t\t</Angles>\n",
      "\t\t</Force>\n",
      "\t\t<Force forceGroup=\"2\" type=\"PeriodicTorsionForce\" version=\"1\">\n",
      "\t\t\t<Torsions>\n",
      "\t\t\t\t<Torsion k=\"0\" p1=\"0\" p2=\"3\" p3=\"6\" p4=\"4\" periodicity=\"3\" phase=\"0\"/>\n",
      "\t\t\t\t<Torsion k=\"0\" p1=\"0\" p2=\"3\" p3=\"6\" p4=\"5\" periodicity=\"3\" phase=\"0\"/>\n",
      "\t\t\t\t<Torsion k=\"0\" p1=\"0\" p2=\"3\" p3=\"6\" p4=\"9\" periodicity=\"3\" phase=\"0\"/>\n",
      "\t\t\t\t<Torsion k=\"0\" p1=\"1\" p2=\"3\" p3=\"6\" p4=\"4\" periodicity=\"3\" phase=\"0\"/>\n",
      "\t\t\t\t<Torsion k=\"0\" p1=\"1\" p2=\"3\" p3=\"6\" p4=\"5\" periodicity=\"3\" phase=\"0\"/>\n",
      "\t\t\t\t<Torsion k=\"0\" p1=\"1\" p2=\"3\" p3=\"6\" p4=\"9\" periodicity=\"3\" phase=\"0\"/>\n",
      "\t\t\t\t<Torsion k=\"0\" p1=\"2\" p2=\"3\" p3=\"6\" p4=\"4\" periodicity=\"3\" phase=\"0\"/>\n",
      "\t\t\t\t<Torsion k=\"0\" p1=\"2\" p2=\"3\" p3=\"6\" p4=\"5\" periodicity=\"3\" phase=\"0\"/>\n",
      "\t\t\t\t<Torsion k=\"0\" p1=\"2\" p2=\"3\" p3=\"6\" p4=\"9\" periodicity=\"3\" phase=\"0\"/>\n",
      "\t\t\t\t<Torsion k=\"0\" p1=\"3\" p2=\"6\" p3=\"9\" p4=\"7\" periodicity=\"3\" phase=\"0\"/>\n",
      "\t\t\t\t<Torsion k=\"0\" p1=\"3\" p2=\"6\" p3=\"9\" p4=\"8\" periodicity=\"3\" phase=\"0\"/>\n",
      "\t\t\t\t<Torsion k=\"0\" p1=\"3\" p2=\"6\" p3=\"9\" p4=\"13\" periodicity=\"2\" phase=\"0\"/>\n",
      "\t\t\t\t<Torsion k=\"0\" p1=\"3\" p2=\"6\" p3=\"9\" p4=\"13\" periodicity=\"6\" phase=\"3.141592653589793\"/>\n",
      "\t\t\t\t<Torsion k=\"0\" p1=\"4\" p2=\"6\" p3=\"9\" p4=\"7\" periodicity=\"3\" phase=\"0\"/>\n",
      "\t\t\t\t<Torsion k=\"0\" p1=\"4\" p2=\"6\" p3=\"9\" p4=\"8\" periodicity=\"3\" phase=\"0\"/>\n",
      "\t\t\t\t<Torsion k=\"0\" p1=\"4\" p2=\"6\" p3=\"9\" p4=\"13\" periodicity=\"3\" phase=\"0\"/>\n",
      "\t\t\t\t<Torsion k=\"0\" p1=\"5\" p2=\"6\" p3=\"9\" p4=\"7\" periodicity=\"3\" phase=\"0\"/>\n",
      "\t\t\t\t<Torsion k=\"0\" p1=\"5\" p2=\"6\" p3=\"9\" p4=\"8\" periodicity=\"3\" phase=\"0\"/>\n",
      "\t\t\t\t<Torsion k=\"0\" p1=\"5\" p2=\"6\" p3=\"9\" p4=\"13\" periodicity=\"3\" phase=\"0\"/>\n",
      "\t\t\t\t<Torsion k=\"0\" p1=\"6\" p2=\"9\" p3=\"13\" p4=\"10\" periodicity=\"3\" phase=\"0\"/>\n",
      "\t\t\t\t<Torsion k=\"0\" p1=\"6\" p2=\"9\" p3=\"13\" p4=\"11\" periodicity=\"3\" phase=\"0\"/>\n",
      "\t\t\t\t<Torsion k=\"0\" p1=\"6\" p2=\"9\" p3=\"13\" p4=\"12\" periodicity=\"3\" phase=\"0\"/>\n",
      "\t\t\t\t<Torsion k=\"0\" p1=\"7\" p2=\"9\" p3=\"13\" p4=\"10\" periodicity=\"3\" phase=\"0\"/>\n",
      "\t\t\t\t<Torsion k=\"0\" p1=\"7\" p2=\"9\" p3=\"13\" p4=\"11\" periodicity=\"3\" phase=\"0\"/>\n",
      "\t\t\t\t<Torsion k=\"0\" p1=\"7\" p2=\"9\" p3=\"13\" p4=\"12\" periodicity=\"3\" phase=\"0\"/>\n",
      "\t\t\t\t<Torsion k=\"0\" p1=\"8\" p2=\"9\" p3=\"13\" p4=\"10\" periodicity=\"3\" phase=\"0\"/>\n",
      "\t\t\t\t<Torsion k=\"0\" p1=\"8\" p2=\"9\" p3=\"13\" p4=\"11\" periodicity=\"3\" phase=\"0\"/>\n",
      "\t\t\t\t<Torsion k=\"0\" p1=\"8\" p2=\"9\" p3=\"13\" p4=\"12\" periodicity=\"3\" phase=\"0\"/>\n",
      "\t\t\t</Torsions>\n",
      "\t\t</Force>\n",
      "\t\t<Force forceGroup=\"3\" type=\"HarmonicBondForce\" version=\"1\">\n",
      "\t\t\t<Bonds>\n",
      "\t\t\t\t<Bond d=\".21789999999999998\" k=\"0\" p1=\"0\" p2=\"6\"/>\n",
      "\t\t\t\t<Bond d=\".18020000000000003\" k=\"0\" p1=\"0\" p2=\"2\"/>\n",
      "\t\t\t\t<Bond d=\".18020000000000003\" k=\"0\" p1=\"0\" p2=\"1\"/>\n",
      "\t\t\t\t<Bond d=\".21789999999999998\" k=\"0\" p1=\"1\" p2=\"6\"/>\n",
      "\t\t\t\t<Bond d=\".18020000000000003\" k=\"0\" p1=\"1\" p2=\"2\"/>\n",
      "\t\t\t\t<Bond d=\".21789999999999998\" k=\"0\" p1=\"2\" p2=\"6\"/>\n",
      "\t\t\t\t<Bond d=\".2561\" k=\"0\" p1=\"3\" p2=\"9\"/>\n",
      "\t\t\t\t<Bond d=\".21789999999999998\" k=\"0\" p1=\"3\" p2=\"5\"/>\n",
      "\t\t\t\t<Bond d=\".21789999999999998\" k=\"0\" p1=\"3\" p2=\"4\"/>\n",
      "\t\t\t\t<Bond d=\".21789999999999998\" k=\"0\" p1=\"4\" p2=\"9\"/>\n",
      "\t\t\t\t<Bond d=\".18020000000000003\" k=\"0\" p1=\"4\" p2=\"5\"/>\n",
      "\t\t\t\t<Bond d=\".21789999999999998\" k=\"0\" p1=\"5\" p2=\"9\"/>\n",
      "\t\t\t\t<Bond d=\".2561\" k=\"0\" p1=\"6\" p2=\"13\"/>\n",
      "\t\t\t\t<Bond d=\".21789999999999998\" k=\"0\" p1=\"6\" p2=\"8\"/>\n",
      "\t\t\t\t<Bond d=\".21789999999999998\" k=\"0\" p1=\"6\" p2=\"7\"/>\n",
      "\t\t\t\t<Bond d=\".21789999999999998\" k=\"0\" p1=\"7\" p2=\"13\"/>\n",
      "\t\t\t\t<Bond d=\".18020000000000003\" k=\"0\" p1=\"7\" p2=\"8\"/>\n",
      "\t\t\t\t<Bond d=\".21789999999999998\" k=\"0\" p1=\"8\" p2=\"13\"/>\n",
      "\t\t\t\t<Bond d=\".21789999999999998\" k=\"0\" p1=\"9\" p2=\"12\"/>\n",
      "\t\t\t\t<Bond d=\".21789999999999998\" k=\"0\" p1=\"9\" p2=\"11\"/>\n",
      "\t\t\t\t<Bond d=\".21789999999999998\" k=\"0\" p1=\"9\" p2=\"10\"/>\n",
      "\t\t\t\t<Bond d=\".18020000000000003\" k=\"0\" p1=\"10\" p2=\"12\"/>\n",
      "\t\t\t\t<Bond d=\".18020000000000003\" k=\"0\" p1=\"10\" p2=\"11\"/>\n",
      "\t\t\t\t<Bond d=\".18020000000000003\" k=\"0\" p1=\"11\" p2=\"12\"/>\n",
      "\t\t\t</Bonds>\n",
      "\t\t</Force>\n",
      "\t\t<Force alpha=\"0\" cutoff=\"1\" dispersionCorrection=\"1\" ewaldTolerance=\".0005\" forceGroup=\"11\" method=\"0\" nx=\"0\" ny=\"0\" nz=\"0\" recipForceGroup=\"-1\" rfDielectric=\"78.5\" switchingDistance=\"-1\" type=\"NonbondedForce\" useSwitchingFunction=\"0\" version=\"1\">\n",
      "\t\t\t<Particles>\n",
      "\t\t\t\t<Particle eps=\"0\" q=\"0\" sig=\".17817974362806788\"/>\n",
      "\t\t\t\t<Particle eps=\"0\" q=\"0\" sig=\".17817974362806788\"/>\n",
      "\t\t\t\t<Particle eps=\"0\" q=\"0\" sig=\".17817974362806788\"/>\n",
      "\t\t\t\t<Particle eps=\"0\" q=\"0\" sig=\".17817974362806788\"/>\n",
      "\t\t\t\t<Particle eps=\"0\" q=\"0\" sig=\".17817974362806788\"/>\n",
      "\t\t\t\t<Particle eps=\"0\" q=\"0\" sig=\".17817974362806788\"/>\n",
      "\t\t\t\t<Particle eps=\"0\" q=\"0\" sig=\".17817974362806788\"/>\n",
      "\t\t\t\t<Particle eps=\"0\" q=\"0\" sig=\".17817974362806788\"/>\n",
      "\t\t\t\t<Particle eps=\"0\" q=\"0\" sig=\".17817974362806788\"/>\n",
      "\t\t\t\t<Particle eps=\"0\" q=\"0\" sig=\".17817974362806788\"/>\n",
      "\t\t\t\t<Particle eps=\"0\" q=\"0\" sig=\".17817974362806788\"/>\n",
      "\t\t\t\t<Particle eps=\"0\" q=\"0\" sig=\".17817974362806788\"/>\n",
      "\t\t\t\t<Particle eps=\"0\" q=\"0\" sig=\".17817974362806788\"/>\n",
      "\t\t\t\t<Particle eps=\"0\" q=\"0\" sig=\".17817974362806788\"/>\n",
      "\t\t\t</Particles>\n",
      "\t\t\t<Exceptions>\n",
      "\t\t\t\t<Exception eps=\"0\" p1=\"0\" p2=\"3\" q=\"0\" sig=\".5\"/>\n",
      "\t\t\t\t<Exception eps=\"0\" p1=\"1\" p2=\"0\" q=\"0\" sig=\".5\"/>\n",
      "\t\t\t\t<Exception eps=\"0\" p1=\"2\" p2=\"0\" q=\"0\" sig=\".5\"/>\n",
      "\t\t\t\t<Exception eps=\"0\" p1=\"6\" p2=\"0\" q=\"0\" sig=\".5\"/>\n",
      "\t\t\t\t<Exception eps=\"0\" p1=\"1\" p2=\"3\" q=\"0\" sig=\".5\"/>\n",
      "\t\t\t\t<Exception eps=\"0\" p1=\"2\" p2=\"1\" q=\"0\" sig=\".5\"/>\n",
      "\t\t\t\t<Exception eps=\"0\" p1=\"6\" p2=\"1\" q=\"0\" sig=\".5\"/>\n",
      "\t\t\t\t<Exception eps=\"0\" p1=\"2\" p2=\"3\" q=\"0\" sig=\".5\"/>\n",
      "\t\t\t\t<Exception eps=\"0\" p1=\"6\" p2=\"2\" q=\"0\" sig=\".5\"/>\n",
      "\t\t\t\t<Exception eps=\"0\" p1=\"6\" p2=\"3\" q=\"0\" sig=\".5\"/>\n",
      "\t\t\t\t<Exception eps=\"0\" p1=\"4\" p2=\"3\" q=\"0\" sig=\".5\"/>\n",
      "\t\t\t\t<Exception eps=\"0\" p1=\"5\" p2=\"3\" q=\"0\" sig=\".5\"/>\n",
      "\t\t\t\t<Exception eps=\"0\" p1=\"9\" p2=\"3\" q=\"0\" sig=\".5\"/>\n",
      "\t\t\t\t<Exception eps=\"0\" p1=\"4\" p2=\"6\" q=\"0\" sig=\".5\"/>\n",
      "\t\t\t\t<Exception eps=\"0\" p1=\"5\" p2=\"4\" q=\"0\" sig=\".5\"/>\n",
      "\t\t\t\t<Exception eps=\"0\" p1=\"9\" p2=\"4\" q=\"0\" sig=\".5\"/>\n",
      "\t\t\t\t<Exception eps=\"0\" p1=\"5\" p2=\"6\" q=\"0\" sig=\".5\"/>\n",
      "\t\t\t\t<Exception eps=\"0\" p1=\"9\" p2=\"5\" q=\"0\" sig=\".5\"/>\n",
      "\t\t\t\t<Exception eps=\"0\" p1=\"9\" p2=\"6\" q=\"0\" sig=\".5\"/>\n",
      "\t\t\t\t<Exception eps=\"0\" p1=\"7\" p2=\"6\" q=\"0\" sig=\".5\"/>\n",
      "\t\t\t\t<Exception eps=\"0\" p1=\"8\" p2=\"6\" q=\"0\" sig=\".5\"/>\n",
      "\t\t\t\t<Exception eps=\"0\" p1=\"13\" p2=\"6\" q=\"0\" sig=\".5\"/>\n",
      "\t\t\t\t<Exception eps=\"0\" p1=\"7\" p2=\"9\" q=\"0\" sig=\".5\"/>\n",
      "\t\t\t\t<Exception eps=\"0\" p1=\"8\" p2=\"7\" q=\"0\" sig=\".5\"/>\n",
      "\t\t\t\t<Exception eps=\"0\" p1=\"13\" p2=\"7\" q=\"0\" sig=\".5\"/>\n",
      "\t\t\t\t<Exception eps=\"0\" p1=\"8\" p2=\"9\" q=\"0\" sig=\".5\"/>\n",
      "\t\t\t\t<Exception eps=\"0\" p1=\"13\" p2=\"8\" q=\"0\" sig=\".5\"/>\n",
      "\t\t\t\t<Exception eps=\"0\" p1=\"13\" p2=\"9\" q=\"0\" sig=\".5\"/>\n",
      "\t\t\t\t<Exception eps=\"0\" p1=\"10\" p2=\"9\" q=\"0\" sig=\".5\"/>\n",
      "\t\t\t\t<Exception eps=\"0\" p1=\"11\" p2=\"9\" q=\"0\" sig=\".5\"/>\n",
      "\t\t\t\t<Exception eps=\"0\" p1=\"12\" p2=\"9\" q=\"0\" sig=\".5\"/>\n",
      "\t\t\t\t<Exception eps=\"0\" p1=\"10\" p2=\"13\" q=\"0\" sig=\".5\"/>\n",
      "\t\t\t\t<Exception eps=\"0\" p1=\"11\" p2=\"10\" q=\"0\" sig=\".5\"/>\n",
      "\t\t\t\t<Exception eps=\"0\" p1=\"12\" p2=\"10\" q=\"0\" sig=\".5\"/>\n",
      "\t\t\t\t<Exception eps=\"0\" p1=\"11\" p2=\"13\" q=\"0\" sig=\".5\"/>\n",
      "\t\t\t\t<Exception eps=\"0\" p1=\"12\" p2=\"11\" q=\"0\" sig=\".5\"/>\n",
      "\t\t\t\t<Exception eps=\"0\" p1=\"12\" p2=\"13\" q=\"0\" sig=\".5\"/>\n",
      "\t\t\t\t<Exception eps=\"0\" p1=\"0\" p2=\"4\" q=\"0\" sig=\".17817974362806788\"/>\n",
      "\t\t\t\t<Exception eps=\"0\" p1=\"0\" p2=\"5\" q=\"0\" sig=\".17817974362806788\"/>\n",
      "\t\t\t\t<Exception eps=\"0\" p1=\"0\" p2=\"9\" q=\"0\" sig=\".08908987181403394\"/>\n",
      "\t\t\t\t<Exception eps=\"0\" p1=\"1\" p2=\"4\" q=\"0\" sig=\".17817974362806788\"/>\n",
      "\t\t\t\t<Exception eps=\"0\" p1=\"1\" p2=\"5\" q=\"0\" sig=\".17817974362806788\"/>\n",
      "\t\t\t\t<Exception eps=\"0\" p1=\"1\" p2=\"9\" q=\"0\" sig=\".08908987181403394\"/>\n",
      "\t\t\t\t<Exception eps=\"0\" p1=\"2\" p2=\"4\" q=\"0\" sig=\".17817974362806788\"/>\n",
      "\t\t\t\t<Exception eps=\"0\" p1=\"2\" p2=\"5\" q=\"0\" sig=\".17817974362806788\"/>\n",
      "\t\t\t\t<Exception eps=\"0\" p1=\"2\" p2=\"9\" q=\"0\" sig=\".08908987181403394\"/>\n",
      "\t\t\t\t<Exception eps=\"0\" p1=\"3\" p2=\"7\" q=\"0\" sig=\".08908987181403394\"/>\n",
      "\t\t\t\t<Exception eps=\"0\" p1=\"3\" p2=\"8\" q=\"0\" sig=\".08908987181403394\"/>\n",
      "\t\t\t\t<Exception eps=\".04184\" p1=\"3\" p2=\"13\" q=\"0\" sig=\"0\"/>\n",
      "\t\t\t\t<Exception eps=\"0\" p1=\"4\" p2=\"7\" q=\"0\" sig=\".17817974362806788\"/>\n",
      "\t\t\t\t<Exception eps=\"0\" p1=\"4\" p2=\"8\" q=\"0\" sig=\".17817974362806788\"/>\n",
      "\t\t\t\t<Exception eps=\"0\" p1=\"4\" p2=\"13\" q=\"0\" sig=\".08908987181403394\"/>\n",
      "\t\t\t\t<Exception eps=\"0\" p1=\"5\" p2=\"7\" q=\"0\" sig=\".17817974362806788\"/>\n",
      "\t\t\t\t<Exception eps=\"0\" p1=\"5\" p2=\"8\" q=\"0\" sig=\".17817974362806788\"/>\n",
      "\t\t\t\t<Exception eps=\"0\" p1=\"5\" p2=\"13\" q=\"0\" sig=\".08908987181403394\"/>\n",
      "\t\t\t\t<Exception eps=\"0\" p1=\"6\" p2=\"10\" q=\"0\" sig=\".08908987181403394\"/>\n",
      "\t\t\t\t<Exception eps=\"0\" p1=\"6\" p2=\"11\" q=\"0\" sig=\".08908987181403394\"/>\n",
      "\t\t\t\t<Exception eps=\"0\" p1=\"6\" p2=\"12\" q=\"0\" sig=\".08908987181403394\"/>\n",
      "\t\t\t\t<Exception eps=\"0\" p1=\"7\" p2=\"10\" q=\"0\" sig=\".17817974362806788\"/>\n",
      "\t\t\t\t<Exception eps=\"0\" p1=\"7\" p2=\"11\" q=\"0\" sig=\".17817974362806788\"/>\n",
      "\t\t\t\t<Exception eps=\"0\" p1=\"7\" p2=\"12\" q=\"0\" sig=\".17817974362806788\"/>\n",
      "\t\t\t\t<Exception eps=\"0\" p1=\"8\" p2=\"10\" q=\"0\" sig=\".17817974362806788\"/>\n",
      "\t\t\t\t<Exception eps=\"0\" p1=\"8\" p2=\"11\" q=\"0\" sig=\".17817974362806788\"/>\n",
      "\t\t\t\t<Exception eps=\"0\" p1=\"8\" p2=\"12\" q=\"0\" sig=\".17817974362806788\"/>\n",
      "\t\t\t</Exceptions>\n",
      "\t\t</Force>\n",
      "\t\t<Force forceGroup=\"0\" frequency=\"1\" type=\"CMMotionRemover\" version=\"1\"/>\n",
      "\t</Forces>\n",
      "</System>\n",
      "\n"
     ]
    }
   ],
   "source": [
    "serialized = mm.XmlSerializer.serialize(butane_scan.system)\n",
    "print serialized"
   ]
  },
  {
   "cell_type": "code",
   "execution_count": 80,
   "metadata": {
    "collapsed": false
   },
   "outputs": [
    {
     "name": "stdout",
     "output_type": "stream",
     "text": [
      "[Quantity(value=0.0, unit=elementary charge), Quantity(value=0.17817974362806788, unit=nanometer), Quantity(value=0.0, unit=kilojoule/mole)]\n",
      "[Quantity(value=0.0, unit=elementary charge), Quantity(value=0.17817974362806788, unit=nanometer), Quantity(value=0.0, unit=kilojoule/mole)]\n",
      "[Quantity(value=0.0, unit=elementary charge), Quantity(value=0.17817974362806788, unit=nanometer), Quantity(value=0.0, unit=kilojoule/mole)]\n",
      "[Quantity(value=0.0, unit=elementary charge), Quantity(value=0.17817974362806788, unit=nanometer), Quantity(value=0.0, unit=kilojoule/mole)]\n",
      "[Quantity(value=0.0, unit=elementary charge), Quantity(value=0.17817974362806788, unit=nanometer), Quantity(value=0.0, unit=kilojoule/mole)]\n",
      "[Quantity(value=0.0, unit=elementary charge), Quantity(value=0.17817974362806788, unit=nanometer), Quantity(value=0.0, unit=kilojoule/mole)]\n",
      "[Quantity(value=0.0, unit=elementary charge), Quantity(value=0.17817974362806788, unit=nanometer), Quantity(value=0.0, unit=kilojoule/mole)]\n",
      "[Quantity(value=0.0, unit=elementary charge), Quantity(value=0.17817974362806788, unit=nanometer), Quantity(value=0.0, unit=kilojoule/mole)]\n",
      "[Quantity(value=0.0, unit=elementary charge), Quantity(value=0.17817974362806788, unit=nanometer), Quantity(value=0.0, unit=kilojoule/mole)]\n",
      "[Quantity(value=0.0, unit=elementary charge), Quantity(value=0.17817974362806788, unit=nanometer), Quantity(value=0.0, unit=kilojoule/mole)]\n",
      "[Quantity(value=0.0, unit=elementary charge), Quantity(value=0.17817974362806788, unit=nanometer), Quantity(value=0.0, unit=kilojoule/mole)]\n",
      "[Quantity(value=0.0, unit=elementary charge), Quantity(value=0.17817974362806788, unit=nanometer), Quantity(value=0.0, unit=kilojoule/mole)]\n",
      "[Quantity(value=0.0, unit=elementary charge), Quantity(value=0.17817974362806788, unit=nanometer), Quantity(value=0.0, unit=kilojoule/mole)]\n",
      "[Quantity(value=0.0, unit=elementary charge), Quantity(value=0.17817974362806788, unit=nanometer), Quantity(value=0.0, unit=kilojoule/mole)]\n"
     ]
    }
   ],
   "source": [
    "# Check what's still on (is it the exceptions?)\n",
    "# Print out all forces before I start setting things to zero\n",
    "forces = {butane_scan.system.getForce(i).__class__.__name__: butane_scan.system.getForce(i) \n",
    "         for i in range(butane_scan.system.getNumForces())}\n",
    "\n",
    "nb = forces['NonbondedForce']\n",
    "\n",
    "for i in range(nb.getNumParticles()):\n",
    "    print nb.getParticleParameters(i)\n"
   ]
  },
  {
   "cell_type": "code",
   "execution_count": 81,
   "metadata": {
    "collapsed": false
   },
   "outputs": [
    {
     "name": "stdout",
     "output_type": "stream",
     "text": [
      "[0, 3, Quantity(value=0.0, unit=elementary charge**2), Quantity(value=0.5, unit=nanometer), Quantity(value=0.0, unit=kilojoule/mole)]\n",
      "[1, 0, Quantity(value=0.0, unit=elementary charge**2), Quantity(value=0.5, unit=nanometer), Quantity(value=0.0, unit=kilojoule/mole)]\n",
      "[2, 0, Quantity(value=0.0, unit=elementary charge**2), Quantity(value=0.5, unit=nanometer), Quantity(value=0.0, unit=kilojoule/mole)]\n",
      "[6, 0, Quantity(value=0.0, unit=elementary charge**2), Quantity(value=0.5, unit=nanometer), Quantity(value=0.0, unit=kilojoule/mole)]\n",
      "[1, 3, Quantity(value=0.0, unit=elementary charge**2), Quantity(value=0.5, unit=nanometer), Quantity(value=0.0, unit=kilojoule/mole)]\n",
      "[2, 1, Quantity(value=0.0, unit=elementary charge**2), Quantity(value=0.5, unit=nanometer), Quantity(value=0.0, unit=kilojoule/mole)]\n",
      "[6, 1, Quantity(value=0.0, unit=elementary charge**2), Quantity(value=0.5, unit=nanometer), Quantity(value=0.0, unit=kilojoule/mole)]\n",
      "[2, 3, Quantity(value=0.0, unit=elementary charge**2), Quantity(value=0.5, unit=nanometer), Quantity(value=0.0, unit=kilojoule/mole)]\n",
      "[6, 2, Quantity(value=0.0, unit=elementary charge**2), Quantity(value=0.5, unit=nanometer), Quantity(value=0.0, unit=kilojoule/mole)]\n",
      "[6, 3, Quantity(value=0.0, unit=elementary charge**2), Quantity(value=0.5, unit=nanometer), Quantity(value=0.0, unit=kilojoule/mole)]\n",
      "[4, 3, Quantity(value=0.0, unit=elementary charge**2), Quantity(value=0.5, unit=nanometer), Quantity(value=0.0, unit=kilojoule/mole)]\n",
      "[5, 3, Quantity(value=0.0, unit=elementary charge**2), Quantity(value=0.5, unit=nanometer), Quantity(value=0.0, unit=kilojoule/mole)]\n",
      "[9, 3, Quantity(value=0.0, unit=elementary charge**2), Quantity(value=0.5, unit=nanometer), Quantity(value=0.0, unit=kilojoule/mole)]\n",
      "[4, 6, Quantity(value=0.0, unit=elementary charge**2), Quantity(value=0.5, unit=nanometer), Quantity(value=0.0, unit=kilojoule/mole)]\n",
      "[5, 4, Quantity(value=0.0, unit=elementary charge**2), Quantity(value=0.5, unit=nanometer), Quantity(value=0.0, unit=kilojoule/mole)]\n",
      "[9, 4, Quantity(value=0.0, unit=elementary charge**2), Quantity(value=0.5, unit=nanometer), Quantity(value=0.0, unit=kilojoule/mole)]\n",
      "[5, 6, Quantity(value=0.0, unit=elementary charge**2), Quantity(value=0.5, unit=nanometer), Quantity(value=0.0, unit=kilojoule/mole)]\n",
      "[9, 5, Quantity(value=0.0, unit=elementary charge**2), Quantity(value=0.5, unit=nanometer), Quantity(value=0.0, unit=kilojoule/mole)]\n",
      "[9, 6, Quantity(value=0.0, unit=elementary charge**2), Quantity(value=0.5, unit=nanometer), Quantity(value=0.0, unit=kilojoule/mole)]\n",
      "[7, 6, Quantity(value=0.0, unit=elementary charge**2), Quantity(value=0.5, unit=nanometer), Quantity(value=0.0, unit=kilojoule/mole)]\n",
      "[8, 6, Quantity(value=0.0, unit=elementary charge**2), Quantity(value=0.5, unit=nanometer), Quantity(value=0.0, unit=kilojoule/mole)]\n",
      "[13, 6, Quantity(value=0.0, unit=elementary charge**2), Quantity(value=0.5, unit=nanometer), Quantity(value=0.0, unit=kilojoule/mole)]\n",
      "[7, 9, Quantity(value=0.0, unit=elementary charge**2), Quantity(value=0.5, unit=nanometer), Quantity(value=0.0, unit=kilojoule/mole)]\n",
      "[8, 7, Quantity(value=0.0, unit=elementary charge**2), Quantity(value=0.5, unit=nanometer), Quantity(value=0.0, unit=kilojoule/mole)]\n",
      "[13, 7, Quantity(value=0.0, unit=elementary charge**2), Quantity(value=0.5, unit=nanometer), Quantity(value=0.0, unit=kilojoule/mole)]\n",
      "[8, 9, Quantity(value=0.0, unit=elementary charge**2), Quantity(value=0.5, unit=nanometer), Quantity(value=0.0, unit=kilojoule/mole)]\n",
      "[13, 8, Quantity(value=0.0, unit=elementary charge**2), Quantity(value=0.5, unit=nanometer), Quantity(value=0.0, unit=kilojoule/mole)]\n",
      "[13, 9, Quantity(value=0.0, unit=elementary charge**2), Quantity(value=0.5, unit=nanometer), Quantity(value=0.0, unit=kilojoule/mole)]\n",
      "[10, 9, Quantity(value=0.0, unit=elementary charge**2), Quantity(value=0.5, unit=nanometer), Quantity(value=0.0, unit=kilojoule/mole)]\n",
      "[11, 9, Quantity(value=0.0, unit=elementary charge**2), Quantity(value=0.5, unit=nanometer), Quantity(value=0.0, unit=kilojoule/mole)]\n",
      "[12, 9, Quantity(value=0.0, unit=elementary charge**2), Quantity(value=0.5, unit=nanometer), Quantity(value=0.0, unit=kilojoule/mole)]\n",
      "[10, 13, Quantity(value=0.0, unit=elementary charge**2), Quantity(value=0.5, unit=nanometer), Quantity(value=0.0, unit=kilojoule/mole)]\n",
      "[11, 10, Quantity(value=0.0, unit=elementary charge**2), Quantity(value=0.5, unit=nanometer), Quantity(value=0.0, unit=kilojoule/mole)]\n",
      "[12, 10, Quantity(value=0.0, unit=elementary charge**2), Quantity(value=0.5, unit=nanometer), Quantity(value=0.0, unit=kilojoule/mole)]\n",
      "[11, 13, Quantity(value=0.0, unit=elementary charge**2), Quantity(value=0.5, unit=nanometer), Quantity(value=0.0, unit=kilojoule/mole)]\n",
      "[12, 11, Quantity(value=0.0, unit=elementary charge**2), Quantity(value=0.5, unit=nanometer), Quantity(value=0.0, unit=kilojoule/mole)]\n",
      "[12, 13, Quantity(value=0.0, unit=elementary charge**2), Quantity(value=0.5, unit=nanometer), Quantity(value=0.0, unit=kilojoule/mole)]\n",
      "[0, 4, Quantity(value=0.0, unit=elementary charge**2), Quantity(value=0.17817974362806788, unit=nanometer), Quantity(value=0.0, unit=kilojoule/mole)]\n",
      "[0, 5, Quantity(value=0.0, unit=elementary charge**2), Quantity(value=0.17817974362806788, unit=nanometer), Quantity(value=0.0, unit=kilojoule/mole)]\n",
      "[0, 9, Quantity(value=0.0, unit=elementary charge**2), Quantity(value=0.08908987181403394, unit=nanometer), Quantity(value=0.0, unit=kilojoule/mole)]\n",
      "[1, 4, Quantity(value=0.0, unit=elementary charge**2), Quantity(value=0.17817974362806788, unit=nanometer), Quantity(value=0.0, unit=kilojoule/mole)]\n",
      "[1, 5, Quantity(value=0.0, unit=elementary charge**2), Quantity(value=0.17817974362806788, unit=nanometer), Quantity(value=0.0, unit=kilojoule/mole)]\n",
      "[1, 9, Quantity(value=0.0, unit=elementary charge**2), Quantity(value=0.08908987181403394, unit=nanometer), Quantity(value=0.0, unit=kilojoule/mole)]\n",
      "[2, 4, Quantity(value=0.0, unit=elementary charge**2), Quantity(value=0.17817974362806788, unit=nanometer), Quantity(value=0.0, unit=kilojoule/mole)]\n",
      "[2, 5, Quantity(value=0.0, unit=elementary charge**2), Quantity(value=0.17817974362806788, unit=nanometer), Quantity(value=0.0, unit=kilojoule/mole)]\n",
      "[2, 9, Quantity(value=0.0, unit=elementary charge**2), Quantity(value=0.08908987181403394, unit=nanometer), Quantity(value=0.0, unit=kilojoule/mole)]\n",
      "[3, 7, Quantity(value=0.0, unit=elementary charge**2), Quantity(value=0.08908987181403394, unit=nanometer), Quantity(value=0.0, unit=kilojoule/mole)]\n",
      "[3, 8, Quantity(value=0.0, unit=elementary charge**2), Quantity(value=0.08908987181403394, unit=nanometer), Quantity(value=0.0, unit=kilojoule/mole)]\n",
      "[3, 13, Quantity(value=0.0, unit=elementary charge**2), Quantity(value=0.0, unit=nanometer), Quantity(value=0.04184, unit=kilojoule/mole)]\n",
      "[4, 7, Quantity(value=0.0, unit=elementary charge**2), Quantity(value=0.17817974362806788, unit=nanometer), Quantity(value=0.0, unit=kilojoule/mole)]\n",
      "[4, 8, Quantity(value=0.0, unit=elementary charge**2), Quantity(value=0.17817974362806788, unit=nanometer), Quantity(value=0.0, unit=kilojoule/mole)]\n",
      "[4, 13, Quantity(value=0.0, unit=elementary charge**2), Quantity(value=0.08908987181403394, unit=nanometer), Quantity(value=0.0, unit=kilojoule/mole)]\n",
      "[5, 7, Quantity(value=0.0, unit=elementary charge**2), Quantity(value=0.17817974362806788, unit=nanometer), Quantity(value=0.0, unit=kilojoule/mole)]\n",
      "[5, 8, Quantity(value=0.0, unit=elementary charge**2), Quantity(value=0.17817974362806788, unit=nanometer), Quantity(value=0.0, unit=kilojoule/mole)]\n",
      "[5, 13, Quantity(value=0.0, unit=elementary charge**2), Quantity(value=0.08908987181403394, unit=nanometer), Quantity(value=0.0, unit=kilojoule/mole)]\n",
      "[6, 10, Quantity(value=0.0, unit=elementary charge**2), Quantity(value=0.08908987181403394, unit=nanometer), Quantity(value=0.0, unit=kilojoule/mole)]\n",
      "[6, 11, Quantity(value=0.0, unit=elementary charge**2), Quantity(value=0.08908987181403394, unit=nanometer), Quantity(value=0.0, unit=kilojoule/mole)]\n",
      "[6, 12, Quantity(value=0.0, unit=elementary charge**2), Quantity(value=0.08908987181403394, unit=nanometer), Quantity(value=0.0, unit=kilojoule/mole)]\n",
      "[7, 10, Quantity(value=0.0, unit=elementary charge**2), Quantity(value=0.17817974362806788, unit=nanometer), Quantity(value=0.0, unit=kilojoule/mole)]\n",
      "[7, 11, Quantity(value=0.0, unit=elementary charge**2), Quantity(value=0.17817974362806788, unit=nanometer), Quantity(value=0.0, unit=kilojoule/mole)]\n",
      "[7, 12, Quantity(value=0.0, unit=elementary charge**2), Quantity(value=0.17817974362806788, unit=nanometer), Quantity(value=0.0, unit=kilojoule/mole)]\n",
      "[8, 10, Quantity(value=0.0, unit=elementary charge**2), Quantity(value=0.17817974362806788, unit=nanometer), Quantity(value=0.0, unit=kilojoule/mole)]\n",
      "[8, 11, Quantity(value=0.0, unit=elementary charge**2), Quantity(value=0.17817974362806788, unit=nanometer), Quantity(value=0.0, unit=kilojoule/mole)]\n",
      "[8, 12, Quantity(value=0.0, unit=elementary charge**2), Quantity(value=0.17817974362806788, unit=nanometer), Quantity(value=0.0, unit=kilojoule/mole)]\n"
     ]
    }
   ],
   "source": [
    "# Check what's still on (is it the exceptions?)\n",
    "# Print out all forces before I start setting things to zero\n",
    "forces = {butane_scan.system.getForce(i).__class__.__name__: butane_scan.system.getForce(i) \n",
    "         for i in range(butane_scan.system.getNumForces())}\n",
    "\n",
    "nb = forces['NonbondedForce']\n",
    "\n",
    "for i in range(nb.getNumExceptions()):\n",
    "    print nb.getExceptionParameters(i)\n"
   ]
  },
  {
   "cell_type": "code",
   "execution_count": 52,
   "metadata": {
    "collapsed": false
   },
   "outputs": [
    {
     "data": {
      "text/plain": [
       "[<matplotlib.lines.Line2D at 0x11ac2f8d0>]"
      ]
     },
     "execution_count": 52,
     "metadata": {},
     "output_type": "execute_result"
    },
    {
     "data": {
      "image/png": "[encoded data removed]",
      "text/plain": [
       "<matplotlib.figure.Figure at 0x11b64b790>"
      ]
     },
     "metadata": {},
     "output_type": "display_data"
    }
   ],
   "source": [
    "# What's if I change everything in the system?\n",
    "param = CharmmParameterSet('../../data/charmm_ff/top_all36_cgenff.rtf',\n",
    "                           '../../data/charmm_ff/par_all36_cgenff.prm')\n",
    "structure = '../structure/butane.psf'\n",
    "scan = '../torsion_scans/DFT_b3lyp/butane_scan_b3lyp_360.log'\n",
    "\n",
    "butane_scan = ScanSet.parse_psi4(scan, structure)\n",
    "butane_scan.compute_energy(param)\n",
    "\n",
    "plt.plot(butane_scan.mm_energy)\n"
   ]
  },
  {
   "cell_type": "code",
   "execution_count": 58,
   "metadata": {
    "collapsed": false
   },
   "outputs": [],
   "source": [
    "for atom in butane_scan.structure.atoms:\n",
    "    atom.rmin_14 = 1.0\n",
    "    atom.rmin = 1.0\n",
    "    atom.charge = 0.0\n",
    "    atom.epsilon =0.0\n",
    "    atom.epsilon_14 = 0.0\n",
    "    \n",
    "for bond in butane_scan.structure.bond_types:\n",
    "    bond.k = 0\n",
    "\n",
    "for angle in butane_scan.structure.angle_types:\n",
    "    angle.k = 0\n",
    "\n",
    "for ub in butane_scan.structure.urey_bradley_types:\n",
    "    ub.k = 0"
   ]
  },
  {
   "cell_type": "code",
   "execution_count": 59,
   "metadata": {
    "collapsed": true
   },
   "outputs": [],
   "source": [
    "butane_scan.compute_energy(param)"
   ]
  },
  {
   "cell_type": "code",
   "execution_count": 60,
   "metadata": {
    "collapsed": false
   },
   "outputs": [
    {
     "data": {
      "text/plain": [
       "[<matplotlib.lines.Line2D at 0x11b1b3bd0>]"
      ]
     },
     "execution_count": 60,
     "metadata": {},
     "output_type": "execute_result"
    },
    {
     "data": {
      "image/png": "[encoded data removed]",
      "text/plain": [
       "<matplotlib.figure.Figure at 0x11f8174d0>"
      ]
     },
     "metadata": {},
     "output_type": "display_data"
    }
   ],
   "source": [
    "plt.plot(butane_scan.mm_energy)"
   ]
  },
  {
   "cell_type": "code",
   "execution_count": 5,
   "metadata": {
    "collapsed": false
   },
   "outputs": [],
   "source": [
    "# Model and sample. The code was modified to fit the difference potential. \n",
    "\n",
    "platform = mm.Platform.getPlatformByName('Reference')\n",
    "\n",
    "model = Model.TorsionFitModelEliminatePhase(param, butane_scan, platform=platform,\n",
    "                                            param_to_opt=[('CG331', 'CG321', 'CG321', 'CG331')])"
   ]
  },
  {
   "cell_type": "code",
   "execution_count": 6,
   "metadata": {
    "collapsed": false
   },
   "outputs": [
    {
     "data": {
      "text/plain": [
       "array([   2.6203988 ,   20.44121533,   40.8446418 ,   71.13347682,\n",
       "         95.89742398,  114.5485683 ,  102.90644639,   87.39459295,\n",
       "         60.38705975,   38.96151752,   23.73477735,   18.13898549,\n",
       "         23.51456386,   45.0348984 ,   71.80184535,   98.92094952,\n",
       "        130.2628536 ,  139.70908797,  129.45988806,  102.43336475,\n",
       "         73.21513842,   46.81925035,   25.78994329,   24.05982154,\n",
       "         23.34164803,   38.30387427,   57.95198657,   90.05219922,\n",
       "        106.64692244,  114.82174834,   96.4593213 ,   74.29037591,\n",
       "         44.46089895,   16.17832462,   -0.86388472])"
      ]
     },
     "execution_count": 6,
     "metadata": {},
     "output_type": "execute_result"
    }
   ],
   "source": [
    "model.pymc_parameters['qm_fit'].value"
   ]
  },
  {
   "cell_type": "code",
   "execution_count": 13,
   "metadata": {
    "collapsed": false
   },
   "outputs": [
    {
     "name": "stdout",
     "output_type": "stream",
     "text": [
      "1.0\n",
      "0\n",
      "1.0\n",
      "0\n",
      "1.0\n",
      "0\n",
      "1.0\n",
      "0\n",
      "1.0\n",
      "0\n",
      "1.0\n",
      "0\n",
      "1.0\n",
      "0\n",
      "1.0\n",
      "0\n",
      "1.0\n",
      "0\n",
      "1.0\n",
      "0\n",
      "1.0\n",
      "0\n",
      "1.0\n",
      "0\n",
      "1.0\n",
      "0\n",
      "1.0\n",
      "0\n"
     ]
    }
   ],
   "source": [
    "# Turn off all parameters\n",
    "\n",
    "param.bond_types[('CG331', 'CG321')].k=0\n",
    "param.bond_types[('CG321', 'CG321')].k=0\n",
    "param.bond_types[('CG331', 'HGA3')].k=0\n",
    "param.bond_types[('CG321', 'HGA2')].k=0\n",
    "param.angle_types[('CG331', 'CG321', 'CG321')].k=0\n",
    "param.angle_types[('HGA3', 'CG331', 'CG321')].k=0\n",
    "param.angle_types[('HGA2', 'CG321', 'HGA2')].k=0\n",
    "param.angle_types[('CG331', 'CG321', 'HGA2')].k=0\n",
    "param.angle_types[('HGA3', 'CG331', 'HGA3')].k=0\n",
    "param.angle_types[('HGA2', 'CG321', 'CG321')].k=0\n",
    "\n",
    "for atom in butane_scan.structure.atoms:\n",
    "    atom.charge = 0\n",
    "    atom.sigma = 1\n",
    "    atom.epsilon = 0\n",
    "    param.atom_types[atom.type].charge = 0\n",
    "    param.atom_types[atom.type].rmin = 1\n",
    "    param.atom_types[atom.type].epsilon = 0\n",
    "    param.atom_types[atom.type].sigma = 1\n",
    "    print atom.sigma\n",
    "    print atom.charge\n",
    "    \n",
    "# Create new structur with 0 charges\n",
    "\n",
    "struct = '../structure/butane_charge_off.psf'\n",
    "butane_scan.structure = CharmmPsfFile(structure)\n",
    "butane_scan.integrator = mm.VerletIntegrator(0.004*u.picoseconds)\n",
    "\n",
    "butane_scan.create_context(param)"
   ]
  },
  {
   "cell_type": "code",
   "execution_count": 14,
   "metadata": {
    "collapsed": false
   },
   "outputs": [
    {
     "data": {
      "text/plain": [
       "[<matplotlib.lines.Line2D at 0x11eac33d0>]"
      ]
     },
     "execution_count": 14,
     "metadata": {},
     "output_type": "execute_result"
    },
    {
     "data": {
      "image/png": "[encoded data removed]",
      "text/plain": [
       "<matplotlib.figure.Figure at 0x11e9ea0d0>"
      ]
     },
     "metadata": {},
     "output_type": "display_data"
    }
   ],
   "source": [
    "butane_scan = ScanSet.parse_psi4(scan, structure)\n",
    "butane_scan.compute_energy(param)\n",
    "plt.plot(butane_scan.mm_energy)\n",
    "#plt.plot(butane_scan.delta_energy)"
   ]
  },
  {
   "cell_type": "code",
   "execution_count": 36,
   "metadata": {
    "collapsed": false
   },
   "outputs": [],
   "source": [
    "for i in range(nb.getNumExceptions()):\n",
    "    i_atom, j_atom, chargeprod, sigma, epsilon = nb.getExceptionParameters(i)\n",
    "    nb.setExceptionParameters(i, i_atom, j_atom, 0, sigma, 0) "
   ]
  },
  {
   "cell_type": "code",
   "execution_count": 42,
   "metadata": {
    "collapsed": false
   },
   "outputs": [],
   "source": [
    "butane_scan.context.reinitialize()\n",
    "nb.updateParametersInContext(butane_scan.context)"
   ]
  },
  {
   "cell_type": "code",
   "execution_count": 43,
   "metadata": {
    "collapsed": false
   },
   "outputs": [],
   "source": [
    "butane_scan.compute_energy(param)"
   ]
  },
  {
   "cell_type": "code",
   "execution_count": 45,
   "metadata": {
    "collapsed": false
   },
   "outputs": [
    {
     "data": {
      "text/plain": [
       "[<matplotlib.lines.Line2D at 0x11fe6f610>]"
      ]
     },
     "execution_count": 45,
     "metadata": {},
     "output_type": "execute_result"
    },
    {
     "data": {
      "image/png": "[encoded data removed]",
      "text/plain": [
       "<matplotlib.figure.Figure at 0x11ea452d0>"
      ]
     },
     "metadata": {},
     "output_type": "display_data"
    }
   ],
   "source": [
    "plt.plot(butane_scan.mm_energy)"
   ]
  },
  {
   "cell_type": "code",
   "execution_count": 19,
   "metadata": {
    "collapsed": true
   },
   "outputs": [],
   "source": [
    "import parmed"
   ]
  },
  {
   "cell_type": "code",
   "execution_count": 20,
   "metadata": {
    "collapsed": false
   },
   "outputs": [
    {
     "name": "stdout",
     "output_type": "stream",
     "text": [
      "[('HarmonicBondForce', 0.0), ('HarmonicAngleForce', 0.0), ('PeriodicTorsionForce', 0.0), ('HarmonicBondForce', 4801.989132487603), ('NonbondedForce', 2947218783.1966486), ('CMMotionRemover', 0.0)]\n",
      "[('HarmonicBondForce', 0.0), ('HarmonicAngleForce', 0.0), ('PeriodicTorsionForce', 0.0), ('HarmonicBondForce', 4801.276812615605), ('NonbondedForce', 3056698639.9496694), ('CMMotionRemover', 0.0)]\n",
      "[('HarmonicBondForce', 0.0), ('HarmonicAngleForce', 0.0), ('PeriodicTorsionForce', 0.0), ('HarmonicBondForce', 4800.243965180787), ('NonbondedForce', 3209735339.808461), ('CMMotionRemover', 0.0)]\n",
      "[('HarmonicBondForce', 0.0), ('HarmonicAngleForce', 0.0), ('PeriodicTorsionForce', 0.0), ('HarmonicBondForce', 4798.967464156289), ('NonbondedForce', 3367612025.9756856), ('CMMotionRemover', 0.0)]\n",
      "[('HarmonicBondForce', 0.0), ('HarmonicAngleForce', 0.0), ('PeriodicTorsionForce', 0.0), ('HarmonicBondForce', 4797.877738348711), ('NonbondedForce', 3483739485.628767), ('CMMotionRemover', 0.0)]\n",
      "[('HarmonicBondForce', 0.0), ('HarmonicAngleForce', 0.0), ('PeriodicTorsionForce', 0.0), ('HarmonicBondForce', 4797.218553619338), ('NonbondedForce', 3521104886.004443), ('CMMotionRemover', 0.0)]\n",
      "[('HarmonicBondForce', 0.0), ('HarmonicAngleForce', 0.0), ('PeriodicTorsionForce', 0.0), ('HarmonicBondForce', 4797.461612166906), ('NonbondedForce', 3464601530.283914), ('CMMotionRemover', 0.0)]\n",
      "[('HarmonicBondForce', 0.0), ('HarmonicAngleForce', 0.0), ('PeriodicTorsionForce', 0.0), ('HarmonicBondForce', 4798.164730150718), ('NonbondedForce', 3328479427.4914923), ('CMMotionRemover', 0.0)]\n",
      "[('HarmonicBondForce', 0.0), ('HarmonicAngleForce', 0.0), ('PeriodicTorsionForce', 0.0), ('HarmonicBondForce', 4799.246740193662), ('NonbondedForce', 3139486666.8214417), ('CMMotionRemover', 0.0)]\n",
      "[('HarmonicBondForce', 0.0), ('HarmonicAngleForce', 0.0), ('PeriodicTorsionForce', 0.0), ('HarmonicBondForce', 4800.249932811592), ('NonbondedForce', 2948999276.6634464), ('CMMotionRemover', 0.0)]\n",
      "[('HarmonicBondForce', 0.0), ('HarmonicAngleForce', 0.0), ('PeriodicTorsionForce', 0.0), ('HarmonicBondForce', 4801.11781499855), ('NonbondedForce', 2811546849.281335), ('CMMotionRemover', 0.0)]\n",
      "[('HarmonicBondForce', 0.0), ('HarmonicAngleForce', 0.0), ('PeriodicTorsionForce', 0.0), ('HarmonicBondForce', 4801.513330366466), ('NonbondedForce', 2756898271.811021), ('CMMotionRemover', 0.0)]\n",
      "[('HarmonicBondForce', 0.0), ('HarmonicAngleForce', 0.0), ('PeriodicTorsionForce', 0.0), ('HarmonicBondForce', 4801.345391894002), ('NonbondedForce', 2770160539.748929), ('CMMotionRemover', 0.0)]\n",
      "[('HarmonicBondForce', 0.0), ('HarmonicAngleForce', 0.0), ('PeriodicTorsionForce', 0.0), ('HarmonicBondForce', 4800.611137758552), ('NonbondedForce', 2828910087.551849), ('CMMotionRemover', 0.0)]\n",
      "[('HarmonicBondForce', 0.0), ('HarmonicAngleForce', 0.0), ('PeriodicTorsionForce', 0.0), ('HarmonicBondForce', 4799.495826947059), ('NonbondedForce', 2920315697.6307244), ('CMMotionRemover', 0.0)]\n",
      "[('HarmonicBondForce', 0.0), ('HarmonicAngleForce', 0.0), ('PeriodicTorsionForce', 0.0), ('HarmonicBondForce', 4798.159178128946), ('NonbondedForce', 3024110438.307954), ('CMMotionRemover', 0.0)]\n",
      "[('HarmonicBondForce', 0.0), ('HarmonicAngleForce', 0.0), ('PeriodicTorsionForce', 0.0), ('HarmonicBondForce', 4796.853852138206), ('NonbondedForce', 3109838782.3068795), ('CMMotionRemover', 0.0)]\n",
      "[('HarmonicBondForce', 0.0), ('HarmonicAngleForce', 0.0), ('PeriodicTorsionForce', 0.0), ('HarmonicBondForce', 4796.339939040173), ('NonbondedForce', 3145590903.8761687), ('CMMotionRemover', 0.0)]\n",
      "[('HarmonicBondForce', 0.0), ('HarmonicAngleForce', 0.0), ('PeriodicTorsionForce', 0.0), ('HarmonicBondForce', 4796.884694497517), ('NonbondedForce', 3111309894.18381), ('CMMotionRemover', 0.0)]\n",
      "[('HarmonicBondForce', 0.0), ('HarmonicAngleForce', 0.0), ('PeriodicTorsionForce', 0.0), ('HarmonicBondForce', 4798.118929627209), ('NonbondedForce', 3024099116.0623155), ('CMMotionRemover', 0.0)]\n",
      "[('HarmonicBondForce', 0.0), ('HarmonicAngleForce', 0.0), ('PeriodicTorsionForce', 0.0), ('HarmonicBondForce', 4799.443227714366), ('NonbondedForce', 2921058051.631474), ('CMMotionRemover', 0.0)]\n",
      "[('HarmonicBondForce', 0.0), ('HarmonicAngleForce', 0.0), ('PeriodicTorsionForce', 0.0), ('HarmonicBondForce', 4800.592210104139), ('NonbondedForce', 2829889056.067822), ('CMMotionRemover', 0.0)]\n",
      "[('HarmonicBondForce', 0.0), ('HarmonicAngleForce', 0.0), ('PeriodicTorsionForce', 0.0), ('HarmonicBondForce', 4801.32046925359), ('NonbondedForce', 2770288967.248386), ('CMMotionRemover', 0.0)]\n",
      "[('HarmonicBondForce', 0.0), ('HarmonicAngleForce', 0.0), ('PeriodicTorsionForce', 0.0), ('HarmonicBondForce', 4801.4262456779325), ('NonbondedForce', 2757145195.519576), ('CMMotionRemover', 0.0)]\n",
      "[('HarmonicBondForce', 0.0), ('HarmonicAngleForce', 0.0), ('PeriodicTorsionForce', 0.0), ('HarmonicBondForce', 4801.133816990746), ('NonbondedForce', 2811319613.435816), ('CMMotionRemover', 0.0)]\n",
      "[('HarmonicBondForce', 0.0), ('HarmonicAngleForce', 0.0), ('PeriodicTorsionForce', 0.0), ('HarmonicBondForce', 4800.29726094724), ('NonbondedForce', 2948957882.848524), ('CMMotionRemover', 0.0)]\n",
      "[('HarmonicBondForce', 0.0), ('HarmonicAngleForce', 0.0), ('PeriodicTorsionForce', 0.0), ('HarmonicBondForce', 4799.294397887482), ('NonbondedForce', 3140253854.696091), ('CMMotionRemover', 0.0)]\n",
      "[('HarmonicBondForce', 0.0), ('HarmonicAngleForce', 0.0), ('PeriodicTorsionForce', 0.0), ('HarmonicBondForce', 4798.142589078421), ('NonbondedForce', 3326608876.1423035), ('CMMotionRemover', 0.0)]\n",
      "[('HarmonicBondForce', 0.0), ('HarmonicAngleForce', 0.0), ('PeriodicTorsionForce', 0.0), ('HarmonicBondForce', 4797.417622151031), ('NonbondedForce', 3463973212.498763), ('CMMotionRemover', 0.0)]\n",
      "[('HarmonicBondForce', 0.0), ('HarmonicAngleForce', 0.0), ('PeriodicTorsionForce', 0.0), ('HarmonicBondForce', 4797.21082255387), ('NonbondedForce', 3521504376.475048), ('CMMotionRemover', 0.0)]\n",
      "[('HarmonicBondForce', 0.0), ('HarmonicAngleForce', 0.0), ('PeriodicTorsionForce', 0.0), ('HarmonicBondForce', 4797.860079082037), ('NonbondedForce', 3484562012.0080733), ('CMMotionRemover', 0.0)]\n",
      "[('HarmonicBondForce', 0.0), ('HarmonicAngleForce', 0.0), ('PeriodicTorsionForce', 0.0), ('HarmonicBondForce', 4798.916618720141), ('NonbondedForce', 3365203945.8785167), ('CMMotionRemover', 0.0)]\n",
      "[('HarmonicBondForce', 0.0), ('HarmonicAngleForce', 0.0), ('PeriodicTorsionForce', 0.0), ('HarmonicBondForce', 4800.20645625547), ('NonbondedForce', 3209618833.0102005), ('CMMotionRemover', 0.0)]\n",
      "[('HarmonicBondForce', 0.0), ('HarmonicAngleForce', 0.0), ('PeriodicTorsionForce', 0.0), ('HarmonicBondForce', 4801.32347958629), ('NonbondedForce', 3057149282.6563416), ('CMMotionRemover', 0.0)]\n",
      "[('HarmonicBondForce', 0.0), ('HarmonicAngleForce', 0.0), ('PeriodicTorsionForce', 0.0), ('HarmonicBondForce', 4802.039509421574), ('NonbondedForce', 2947381322.34261), ('CMMotionRemover', 0.0)]\n"
     ]
    }
   ],
   "source": [
    "for i in range(butane_scan.n_frames):\n",
    "    butane_scan.context.setPositions(butane_scan.positions[i])\n",
    "    param_omm = parmed.openmm.load_topology(butane_scan.structure.topology, butane_scan.system, xyz=butane_scan.positions[i])\n",
    "    energy = parmed.openmm.energy_decomposition_system(param_omm, butane_scan.system, nrg=u.kilojoules_per_mole)\n",
    "    print energy\n",
    "    "
   ]
  },
  {
   "cell_type": "code",
   "execution_count": null,
   "metadata": {
    "collapsed": true
   },
   "outputs": [],
   "source": []
  }
 ],
 "metadata": {
  "kernelspec": {
   "display_name": "Python 2",
   "language": "python",
   "name": "python2"
  },
  "language_info": {
   "codemirror_mode": {
    "name": "ipython",
    "version": 2
   },
   "file_extension": ".py",
   "mimetype": "text/x-python",
   "name": "python",
   "nbconvert_exporter": "python",
   "pygments_lexer": "ipython2",
   "version": "2.7.12"
  }
 },
 "nbformat": 4,
 "nbformat_minor": 0
}
