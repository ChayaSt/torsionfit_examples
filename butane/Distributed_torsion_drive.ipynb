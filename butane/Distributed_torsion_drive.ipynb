{
 "cells": [
  {
   "cell_type": "code",
   "execution_count": 1,
   "metadata": {
    "collapsed": true
   },
   "outputs": [],
   "source": [
    "from torsionfit.qmscan.torsion_scan import generate_scan_input\n",
    "import torsionfit.qmscan.qmtasks as qmtasks\n",
    "import os"
   ]
  },
  {
   "cell_type": "code",
   "execution_count": 2,
   "metadata": {
    "collapsed": true
   },
   "outputs": [],
   "source": [
    "# Generate psi4 input files\n",
    "generate_scan_input('dih_angle/', filetype='pdb', mol_name='butane', dihedral='4 7 10 14',\n",
    "                    method=['MP2'], basis_set=['6-31G(d)'], symmetry='C1', mem='1000 mb')"
   ]
  },
  {
   "cell_type": "code",
   "execution_count": 3,
   "metadata": {
    "collapsed": false
   },
   "outputs": [],
   "source": [
    "qmtasks.run_psi4_distributed('test/')"
   ]
  },
  {
   "cell_type": "code",
   "execution_count": 33,
   "metadata": {
    "collapsed": true
   },
   "outputs": [],
   "source": [
    "# Generate psi4 input files for B3LYP cc-PVDZ\n",
    "generate_scan_input('B3LYP_torsion_scan/', filetype='pdb', mol_name='butane', dihedral='4 7 10 14',\n",
    "                    method=['B3LYP'], basis_set=['cc-PVDZ'], symmetry='C1', mem='1000 mb')"
   ]
  },
  {
   "cell_type": "code",
   "execution_count": 34,
   "metadata": {
    "collapsed": true
   },
   "outputs": [],
   "source": [
    "qmtasks.run_psi4_distributed('B3LYP_torsion_scan/')"
   ]
  },
  {
   "cell_type": "code",
   "execution_count": null,
   "metadata": {
    "collapsed": true
   },
   "outputs": [],
   "source": []
  }
 ],
 "metadata": {
  "kernelspec": {
   "display_name": "Python 2",
   "language": "python",
   "name": "python2"
  },
  "language_info": {
   "codemirror_mode": {
    "name": "ipython",
    "version": 2
   },
   "file_extension": ".py",
   "mimetype": "text/x-python",
   "name": "python",
   "nbconvert_exporter": "python",
   "pygments_lexer": "ipython2",
   "version": "2.7.12"
  }
 },
 "nbformat": 4,
 "nbformat_minor": 0
}
