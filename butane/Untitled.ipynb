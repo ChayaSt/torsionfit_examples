{
 "cells": [
  {
   "cell_type": "code",
   "execution_count": 1,
   "metadata": {
    "collapsed": true
   },
   "outputs": [],
   "source": [
    "from torsionfit.qmscan.torsion_scan import generate_scan_input"
   ]
  },
  {
   "cell_type": "code",
   "execution_count": 2,
   "metadata": {
    "collapsed": true
   },
   "outputs": [],
   "source": [
    "generate_scan_input('dih_angle/', filetype='pdb', mol_name='butane', dihedral='4 7 10 14',\n",
    "                    method=['MP2'], basis_set=['6-31G(d)'], symmetry='C1', mem='1000 mb')"
   ]
  },
  {
   "cell_type": "code",
   "execution_count": 2,
   "metadata": {
    "collapsed": true
   },
   "outputs": [],
   "source": [
    "from celery import Celery"
   ]
  },
  {
   "cell_type": "code",
   "execution_count": 3,
   "metadata": {
    "collapsed": true
   },
   "outputs": [],
   "source": [
    "app = Celery('tasks', broker='pyamqp://guest@localhost//')"
   ]
  },
  {
   "cell_type": "code",
   "execution_count": 4,
   "metadata": {
    "collapsed": true
   },
   "outputs": [],
   "source": [
    "@app.task\n",
    "def add(x, y):\n",
    "    return x + y"
   ]
  },
  {
   "cell_type": "code",
   "execution_count": 7,
   "metadata": {
    "collapsed": false
   },
   "outputs": [
    {
     "name": "stdout",
     "output_type": "stream",
     "text": [
      "/Users/sternc1/src/ChayaSt/Torsions/torsionfit/qmscan\n"
     ]
    }
   ],
   "source": [
    "cd ../../torsionfit/qmscan/"
   ]
  },
  {
   "cell_type": "code",
   "execution_count": 1,
   "metadata": {
    "collapsed": false
   },
   "outputs": [],
   "source": [
    "import os\n",
    "from fnmatch import fnmatch"
   ]
  },
  {
   "cell_type": "code",
   "execution_count": 2,
   "metadata": {
    "collapsed": false
   },
   "outputs": [
    {
     "ename": "NameError",
     "evalue": "name 'run_psi4_distributed' is not defined",
     "output_type": "error",
     "traceback": [
      "\u001b[0;31m---------------------------------------------------------------------------\u001b[0m",
      "\u001b[0;31mNameError\u001b[0m                                 Traceback (most recent call last)",
      "\u001b[0;32m<ipython-input-2-c9dd4c900335>\u001b[0m in \u001b[0;36m<module>\u001b[0;34m()\u001b[0m\n\u001b[0;32m----> 1\u001b[0;31m \u001b[0mrun_psi4_distributed\u001b[0m\u001b[0;34m(\u001b[0m\u001b[0;34m'../../examples/butane/dih_angle/'\u001b[0m\u001b[0;34m)\u001b[0m\u001b[0;34m\u001b[0m\u001b[0m\n\u001b[0m",
      "\u001b[0;31mNameError\u001b[0m: name 'run_psi4_distributed' is not defined"
     ]
    }
   ],
   "source": [
    "run_psi4_distributed('../../examples/butane/dih_angle/')"
   ]
  },
  {
   "cell_type": "code",
   "execution_count": 2,
   "metadata": {
    "collapsed": false
   },
   "outputs": [],
   "source": [
    "import torsionfit.qmscan.qmtasks as qmtasks\n",
    "import os"
   ]
  },
  {
   "cell_type": "code",
   "execution_count": 3,
   "metadata": {
    "collapsed": false
   },
   "outputs": [
    {
     "ename": "FrameSyntaxError",
     "evalue": "Table type <class 'celery.result.AsyncResult'> for key 'task' not handled by amqp. [value: <AsyncResult: 11d0495d-bcd4-47e6-9aa6-04be7586c3c3>]\n",
     "output_type": "error",
     "traceback": [
      "\u001b[0;31m---------------------------------------------------------------------------\u001b[0m",
      "\u001b[0;31mFrameSyntaxError\u001b[0m                          Traceback (most recent call last)",
      "\u001b[0;32m<ipython-input-3-a6b23131eef1>\u001b[0m in \u001b[0;36m<module>\u001b[0;34m()\u001b[0m\n\u001b[0;32m----> 1\u001b[0;31m \u001b[0mqmtasks\u001b[0m\u001b[0;34m.\u001b[0m\u001b[0mrun_psi4_distributed\u001b[0m\u001b[0;34m(\u001b[0m\u001b[0;34m'dih_angle/'\u001b[0m\u001b[0;34m)\u001b[0m\u001b[0;34m\u001b[0m\u001b[0m\n\u001b[0m",
      "\u001b[0;32m/Users/sternc1/anaconda/lib/python2.7/site-packages/torsionfit-0+untagged.431.gcde92b6.dirty-py2.7.egg/torsionfit/qmscan/qmtasks.pyc\u001b[0m in \u001b[0;36mrun_psi4_distributed\u001b[0;34m(directory)\u001b[0m\n\u001b[1;32m     37\u001b[0m                 \u001b[0mpath\u001b[0m \u001b[0;34m=\u001b[0m \u001b[0mos\u001b[0m\u001b[0;34m.\u001b[0m\u001b[0mpath\u001b[0m\u001b[0;34m.\u001b[0m\u001b[0mjoin\u001b[0m\u001b[0;34m(\u001b[0m\u001b[0mos\u001b[0m\u001b[0;34m.\u001b[0m\u001b[0mgetcwd\u001b[0m\u001b[0;34m(\u001b[0m\u001b[0;34m)\u001b[0m\u001b[0;34m,\u001b[0m \u001b[0mpath\u001b[0m\u001b[0;34m)\u001b[0m\u001b[0;34m\u001b[0m\u001b[0m\n\u001b[1;32m     38\u001b[0m                 \u001b[0mto_submit\u001b[0m\u001b[0;34m.\u001b[0m\u001b[0mappend\u001b[0m\u001b[0;34m(\u001b[0m\u001b[0;34m(\u001b[0m\u001b[0mpath\u001b[0m\u001b[0;34m,\u001b[0m \u001b[0mname\u001b[0m\u001b[0;34m)\u001b[0m\u001b[0;34m)\u001b[0m\u001b[0;34m\u001b[0m\u001b[0m\n\u001b[0;32m---> 39\u001b[0;31m     \u001b[0mexits\u001b[0m \u001b[0;34m=\u001b[0m \u001b[0mgroup\u001b[0m\u001b[0;34m(\u001b[0m\u001b[0mstart_psi4_calculation\u001b[0m\u001b[0;34m.\u001b[0m\u001b[0mapply_async\u001b[0m\u001b[0;34m(\u001b[0m\u001b[0margs\u001b[0m\u001b[0;34m=\u001b[0m\u001b[0;34m[\u001b[0m\u001b[0mpath\u001b[0m\u001b[0;34m,\u001b[0m \u001b[0minput_file\u001b[0m\u001b[0;34m]\u001b[0m\u001b[0;34m)\u001b[0m \u001b[0;32mfor\u001b[0m \u001b[0mpath\u001b[0m\u001b[0;34m,\u001b[0m \u001b[0minput_file\u001b[0m \u001b[0;32min\u001b[0m \u001b[0mto_submit\u001b[0m\u001b[0;34m)\u001b[0m\u001b[0;34m(\u001b[0m\u001b[0;34m)\u001b[0m\u001b[0;34m\u001b[0m\u001b[0m\n\u001b[0m\u001b[1;32m     40\u001b[0m     \u001b[0;32mreturn\u001b[0m \u001b[0mexits\u001b[0m\u001b[0;34m\u001b[0m\u001b[0m\n",
      "\u001b[0;32m/Users/sternc1/anaconda/lib/python2.7/site-packages/celery/canvas.pyc\u001b[0m in \u001b[0;36m__call__\u001b[0;34m(self, *partial_args, **options)\u001b[0m\n\u001b[1;32m    960\u001b[0m \u001b[0;34m\u001b[0m\u001b[0m\n\u001b[1;32m    961\u001b[0m     \u001b[0;32mdef\u001b[0m \u001b[0m__call__\u001b[0m\u001b[0;34m(\u001b[0m\u001b[0mself\u001b[0m\u001b[0;34m,\u001b[0m \u001b[0;34m*\u001b[0m\u001b[0mpartial_args\u001b[0m\u001b[0;34m,\u001b[0m \u001b[0;34m**\u001b[0m\u001b[0moptions\u001b[0m\u001b[0;34m)\u001b[0m\u001b[0;34m:\u001b[0m\u001b[0;34m\u001b[0m\u001b[0m\n\u001b[0;32m--> 962\u001b[0;31m         \u001b[0;32mreturn\u001b[0m \u001b[0mself\u001b[0m\u001b[0;34m.\u001b[0m\u001b[0mapply_async\u001b[0m\u001b[0;34m(\u001b[0m\u001b[0mpartial_args\u001b[0m\u001b[0;34m,\u001b[0m \u001b[0;34m**\u001b[0m\u001b[0moptions\u001b[0m\u001b[0;34m)\u001b[0m\u001b[0;34m\u001b[0m\u001b[0m\n\u001b[0m\u001b[1;32m    963\u001b[0m \u001b[0;34m\u001b[0m\u001b[0m\n\u001b[1;32m    964\u001b[0m     \u001b[0;32mdef\u001b[0m \u001b[0mskew\u001b[0m\u001b[0;34m(\u001b[0m\u001b[0mself\u001b[0m\u001b[0;34m,\u001b[0m \u001b[0mstart\u001b[0m\u001b[0;34m=\u001b[0m\u001b[0;36m1.0\u001b[0m\u001b[0;34m,\u001b[0m \u001b[0mstop\u001b[0m\u001b[0;34m=\u001b[0m\u001b[0mNone\u001b[0m\u001b[0;34m,\u001b[0m \u001b[0mstep\u001b[0m\u001b[0;34m=\u001b[0m\u001b[0;36m1.0\u001b[0m\u001b[0;34m)\u001b[0m\u001b[0;34m:\u001b[0m\u001b[0;34m\u001b[0m\u001b[0m\n",
      "\u001b[0;32m/Users/sternc1/anaconda/lib/python2.7/site-packages/celery/canvas.pyc\u001b[0m in \u001b[0;36mapply_async\u001b[0;34m(self, args, kwargs, add_to_parent, producer, link, link_error, **options)\u001b[0m\n\u001b[1;32m    985\u001b[0m         \u001b[0mp\u001b[0m \u001b[0;34m=\u001b[0m \u001b[0mbarrier\u001b[0m\u001b[0;34m(\u001b[0m\u001b[0;34m)\u001b[0m\u001b[0;34m\u001b[0m\u001b[0m\n\u001b[1;32m    986\u001b[0m         results = list(self._apply_tasks(tasks, producer, app, p,\n\u001b[0;32m--> 987\u001b[0;31m                                          args=args, kwargs=kwargs, **options))\n\u001b[0m\u001b[1;32m    988\u001b[0m         \u001b[0mresult\u001b[0m \u001b[0;34m=\u001b[0m \u001b[0mself\u001b[0m\u001b[0;34m.\u001b[0m\u001b[0mapp\u001b[0m\u001b[0;34m.\u001b[0m\u001b[0mGroupResult\u001b[0m\u001b[0;34m(\u001b[0m\u001b[0mgroup_id\u001b[0m\u001b[0;34m,\u001b[0m \u001b[0mresults\u001b[0m\u001b[0;34m,\u001b[0m \u001b[0mready_barrier\u001b[0m\u001b[0;34m=\u001b[0m\u001b[0mp\u001b[0m\u001b[0;34m)\u001b[0m\u001b[0;34m\u001b[0m\u001b[0m\n\u001b[1;32m    989\u001b[0m         \u001b[0mp\u001b[0m\u001b[0;34m.\u001b[0m\u001b[0mfinalize\u001b[0m\u001b[0;34m(\u001b[0m\u001b[0;34m)\u001b[0m\u001b[0;34m\u001b[0m\u001b[0m\n",
      "\u001b[0;32m/Users/sternc1/anaconda/lib/python2.7/site-packages/celery/canvas.pyc\u001b[0m in \u001b[0;36m_apply_tasks\u001b[0;34m(self, tasks, producer, app, p, add_to_parent, chord, args, kwargs, **options)\u001b[0m\n\u001b[1;32m   1061\u001b[0m                                 \u001b[0mchord\u001b[0m\u001b[0;34m=\u001b[0m\u001b[0msig\u001b[0m\u001b[0;34m.\u001b[0m\u001b[0moptions\u001b[0m\u001b[0;34m.\u001b[0m\u001b[0mget\u001b[0m\u001b[0;34m(\u001b[0m\u001b[0;34m'chord'\u001b[0m\u001b[0;34m)\u001b[0m \u001b[0;32mor\u001b[0m \u001b[0mchord\u001b[0m\u001b[0;34m,\u001b[0m\u001b[0;34m\u001b[0m\u001b[0m\n\u001b[1;32m   1062\u001b[0m                                 \u001b[0margs\u001b[0m\u001b[0;34m=\u001b[0m\u001b[0margs\u001b[0m\u001b[0;34m,\u001b[0m \u001b[0mkwargs\u001b[0m\u001b[0;34m=\u001b[0m\u001b[0mkwargs\u001b[0m\u001b[0;34m,\u001b[0m\u001b[0;34m\u001b[0m\u001b[0m\n\u001b[0;32m-> 1063\u001b[0;31m                                 **options)\n\u001b[0m\u001b[1;32m   1064\u001b[0m \u001b[0;34m\u001b[0m\u001b[0m\n\u001b[1;32m   1065\u001b[0m                 \u001b[0;31m# adding callback to result, such that it will gradually\u001b[0m\u001b[0;34m\u001b[0m\u001b[0;34m\u001b[0m\u001b[0m\n",
      "\u001b[0;32m/Users/sternc1/anaconda/lib/python2.7/site-packages/celery/canvas.pyc\u001b[0m in \u001b[0;36mapply_async\u001b[0;34m(self, args, kwargs, route_name, **options)\u001b[0m\n\u001b[1;32m    219\u001b[0m         \u001b[0;31m# pylint: disable=too-many-function-args\u001b[0m\u001b[0;34m\u001b[0m\u001b[0;34m\u001b[0m\u001b[0m\n\u001b[1;32m    220\u001b[0m         \u001b[0;31m#   Borks on this, as it's a property\u001b[0m\u001b[0;34m\u001b[0m\u001b[0;34m\u001b[0m\u001b[0m\n\u001b[0;32m--> 221\u001b[0;31m         \u001b[0;32mreturn\u001b[0m \u001b[0m_apply\u001b[0m\u001b[0;34m(\u001b[0m\u001b[0margs\u001b[0m\u001b[0;34m,\u001b[0m \u001b[0mkwargs\u001b[0m\u001b[0;34m,\u001b[0m \u001b[0;34m**\u001b[0m\u001b[0moptions\u001b[0m\u001b[0;34m)\u001b[0m\u001b[0;34m\u001b[0m\u001b[0m\n\u001b[0m\u001b[1;32m    222\u001b[0m \u001b[0;34m\u001b[0m\u001b[0m\n\u001b[1;32m    223\u001b[0m     \u001b[0;32mdef\u001b[0m \u001b[0m_merge\u001b[0m\u001b[0;34m(\u001b[0m\u001b[0mself\u001b[0m\u001b[0;34m,\u001b[0m \u001b[0margs\u001b[0m\u001b[0;34m=\u001b[0m\u001b[0;34m(\u001b[0m\u001b[0;34m)\u001b[0m\u001b[0;34m,\u001b[0m \u001b[0mkwargs\u001b[0m\u001b[0;34m=\u001b[0m\u001b[0;34m{\u001b[0m\u001b[0;34m}\u001b[0m\u001b[0;34m,\u001b[0m \u001b[0moptions\u001b[0m\u001b[0;34m=\u001b[0m\u001b[0;34m{\u001b[0m\u001b[0;34m}\u001b[0m\u001b[0;34m,\u001b[0m \u001b[0mforce\u001b[0m\u001b[0;34m=\u001b[0m\u001b[0mFalse\u001b[0m\u001b[0;34m)\u001b[0m\u001b[0;34m:\u001b[0m\u001b[0;34m\u001b[0m\u001b[0m\n",
      "\u001b[0;32m/Users/sternc1/anaconda/lib/python2.7/site-packages/celery/app/base.pyc\u001b[0m in \u001b[0;36msend_task\u001b[0;34m(self, name, args, kwargs, countdown, eta, task_id, producer, connection, router, result_cls, expires, publisher, link, link_error, add_to_parent, group_id, retries, chord, reply_to, time_limit, soft_time_limit, root_id, parent_id, route_name, shadow, chain, task_type, **options)\u001b[0m\n\u001b[1;32m    735\u001b[0m             \u001b[0;32mwith\u001b[0m \u001b[0mP\u001b[0m\u001b[0;34m.\u001b[0m\u001b[0mconnection\u001b[0m\u001b[0;34m.\u001b[0m\u001b[0m_reraise_as_library_errors\u001b[0m\u001b[0;34m(\u001b[0m\u001b[0;34m)\u001b[0m\u001b[0;34m:\u001b[0m\u001b[0;34m\u001b[0m\u001b[0m\n\u001b[1;32m    736\u001b[0m                 \u001b[0mself\u001b[0m\u001b[0;34m.\u001b[0m\u001b[0mbackend\u001b[0m\u001b[0;34m.\u001b[0m\u001b[0mon_task_call\u001b[0m\u001b[0;34m(\u001b[0m\u001b[0mP\u001b[0m\u001b[0;34m,\u001b[0m \u001b[0mtask_id\u001b[0m\u001b[0;34m)\u001b[0m\u001b[0;34m\u001b[0m\u001b[0m\n\u001b[0;32m--> 737\u001b[0;31m                 \u001b[0mamqp\u001b[0m\u001b[0;34m.\u001b[0m\u001b[0msend_task_message\u001b[0m\u001b[0;34m(\u001b[0m\u001b[0mP\u001b[0m\u001b[0;34m,\u001b[0m \u001b[0mname\u001b[0m\u001b[0;34m,\u001b[0m \u001b[0mmessage\u001b[0m\u001b[0;34m,\u001b[0m \u001b[0;34m**\u001b[0m\u001b[0moptions\u001b[0m\u001b[0;34m)\u001b[0m\u001b[0;34m\u001b[0m\u001b[0m\n\u001b[0m\u001b[1;32m    738\u001b[0m         \u001b[0mresult\u001b[0m \u001b[0;34m=\u001b[0m \u001b[0;34m(\u001b[0m\u001b[0mresult_cls\u001b[0m \u001b[0;32mor\u001b[0m \u001b[0mself\u001b[0m\u001b[0;34m.\u001b[0m\u001b[0mAsyncResult\u001b[0m\u001b[0;34m)\u001b[0m\u001b[0;34m(\u001b[0m\u001b[0mtask_id\u001b[0m\u001b[0;34m)\u001b[0m\u001b[0;34m\u001b[0m\u001b[0m\n\u001b[1;32m    739\u001b[0m         \u001b[0;32mif\u001b[0m \u001b[0madd_to_parent\u001b[0m\u001b[0;34m:\u001b[0m\u001b[0;34m\u001b[0m\u001b[0m\n",
      "\u001b[0;32m/Users/sternc1/anaconda/lib/python2.7/site-packages/celery/app/amqp.pyc\u001b[0m in \u001b[0;36msend_task_message\u001b[0;34m(producer, name, message, exchange, routing_key, queue, event_dispatcher, retry, retry_policy, serializer, delivery_mode, compression, declare, headers, exchange_type, **kwargs)\u001b[0m\n\u001b[1;32m    556\u001b[0m                 \u001b[0mdelivery_mode\u001b[0m\u001b[0;34m=\u001b[0m\u001b[0mdelivery_mode\u001b[0m\u001b[0;34m,\u001b[0m \u001b[0mdeclare\u001b[0m\u001b[0;34m=\u001b[0m\u001b[0mdeclare\u001b[0m\u001b[0;34m,\u001b[0m\u001b[0;34m\u001b[0m\u001b[0m\n\u001b[1;32m    557\u001b[0m                 \u001b[0mheaders\u001b[0m\u001b[0;34m=\u001b[0m\u001b[0mheaders2\u001b[0m\u001b[0;34m,\u001b[0m\u001b[0;34m\u001b[0m\u001b[0m\n\u001b[0;32m--> 558\u001b[0;31m                 \u001b[0;34m**\u001b[0m\u001b[0mproperties\u001b[0m\u001b[0;34m\u001b[0m\u001b[0m\n\u001b[0m\u001b[1;32m    559\u001b[0m             )\n\u001b[1;32m    560\u001b[0m             \u001b[0;32mif\u001b[0m \u001b[0mafter_receivers\u001b[0m\u001b[0;34m:\u001b[0m\u001b[0;34m\u001b[0m\u001b[0m\n",
      "\u001b[0;32m/Users/sternc1/anaconda/lib/python2.7/site-packages/kombu/messaging.pyc\u001b[0m in \u001b[0;36mpublish\u001b[0;34m(self, body, routing_key, delivery_mode, mandatory, immediate, priority, content_type, content_encoding, serializer, headers, compression, exchange, retry, retry_policy, declare, expiration, **properties)\u001b[0m\n\u001b[1;32m    179\u001b[0m             \u001b[0mbody\u001b[0m\u001b[0;34m,\u001b[0m \u001b[0mpriority\u001b[0m\u001b[0;34m,\u001b[0m \u001b[0mcontent_type\u001b[0m\u001b[0;34m,\u001b[0m \u001b[0mcontent_encoding\u001b[0m\u001b[0;34m,\u001b[0m\u001b[0;34m\u001b[0m\u001b[0m\n\u001b[1;32m    180\u001b[0m             \u001b[0mheaders\u001b[0m\u001b[0;34m,\u001b[0m \u001b[0mproperties\u001b[0m\u001b[0;34m,\u001b[0m \u001b[0mrouting_key\u001b[0m\u001b[0;34m,\u001b[0m \u001b[0mmandatory\u001b[0m\u001b[0;34m,\u001b[0m \u001b[0mimmediate\u001b[0m\u001b[0;34m,\u001b[0m\u001b[0;34m\u001b[0m\u001b[0m\n\u001b[0;32m--> 181\u001b[0;31m             \u001b[0mexchange_name\u001b[0m\u001b[0;34m,\u001b[0m \u001b[0mdeclare\u001b[0m\u001b[0;34m,\u001b[0m\u001b[0;34m\u001b[0m\u001b[0m\n\u001b[0m\u001b[1;32m    182\u001b[0m         )\n\u001b[1;32m    183\u001b[0m \u001b[0;34m\u001b[0m\u001b[0m\n",
      "\u001b[0;32m/Users/sternc1/anaconda/lib/python2.7/site-packages/kombu/connection.pyc\u001b[0m in \u001b[0;36m_ensured\u001b[0;34m(*args, **kwargs)\u001b[0m\n\u001b[1;32m    492\u001b[0m                 \u001b[0;32mfor\u001b[0m \u001b[0mretries\u001b[0m \u001b[0;32min\u001b[0m \u001b[0mcount\u001b[0m\u001b[0;34m(\u001b[0m\u001b[0;36m0\u001b[0m\u001b[0;34m)\u001b[0m\u001b[0;34m:\u001b[0m  \u001b[0;31m# for infinity\u001b[0m\u001b[0;34m\u001b[0m\u001b[0m\n\u001b[1;32m    493\u001b[0m                     \u001b[0;32mtry\u001b[0m\u001b[0;34m:\u001b[0m\u001b[0;34m\u001b[0m\u001b[0m\n\u001b[0;32m--> 494\u001b[0;31m                         \u001b[0;32mreturn\u001b[0m \u001b[0mfun\u001b[0m\u001b[0;34m(\u001b[0m\u001b[0;34m*\u001b[0m\u001b[0margs\u001b[0m\u001b[0;34m,\u001b[0m \u001b[0;34m**\u001b[0m\u001b[0mkwargs\u001b[0m\u001b[0;34m)\u001b[0m\u001b[0;34m\u001b[0m\u001b[0m\n\u001b[0m\u001b[1;32m    495\u001b[0m                     \u001b[0;32mexcept\u001b[0m \u001b[0mconn_errors\u001b[0m \u001b[0;32mas\u001b[0m \u001b[0mexc\u001b[0m\u001b[0;34m:\u001b[0m\u001b[0;34m\u001b[0m\u001b[0m\n\u001b[1;32m    496\u001b[0m                         \u001b[0;32mif\u001b[0m \u001b[0mgot_connection\u001b[0m \u001b[0;32mand\u001b[0m \u001b[0;32mnot\u001b[0m \u001b[0mhas_modern_errors\u001b[0m\u001b[0;34m:\u001b[0m\u001b[0;34m\u001b[0m\u001b[0m\n",
      "\u001b[0;32m/Users/sternc1/anaconda/lib/python2.7/site-packages/kombu/messaging.pyc\u001b[0m in \u001b[0;36m_publish\u001b[0;34m(self, body, priority, content_type, content_encoding, headers, properties, routing_key, mandatory, immediate, exchange, declare)\u001b[0m\n\u001b[1;32m    201\u001b[0m             \u001b[0mmessage\u001b[0m\u001b[0;34m,\u001b[0m\u001b[0;34m\u001b[0m\u001b[0m\n\u001b[1;32m    202\u001b[0m             \u001b[0mexchange\u001b[0m\u001b[0;34m=\u001b[0m\u001b[0mexchange\u001b[0m\u001b[0;34m,\u001b[0m \u001b[0mrouting_key\u001b[0m\u001b[0;34m=\u001b[0m\u001b[0mrouting_key\u001b[0m\u001b[0;34m,\u001b[0m\u001b[0;34m\u001b[0m\u001b[0m\n\u001b[0;32m--> 203\u001b[0;31m             \u001b[0mmandatory\u001b[0m\u001b[0;34m=\u001b[0m\u001b[0mmandatory\u001b[0m\u001b[0;34m,\u001b[0m \u001b[0mimmediate\u001b[0m\u001b[0;34m=\u001b[0m\u001b[0mimmediate\u001b[0m\u001b[0;34m,\u001b[0m\u001b[0;34m\u001b[0m\u001b[0m\n\u001b[0m\u001b[1;32m    204\u001b[0m         )\n\u001b[1;32m    205\u001b[0m \u001b[0;34m\u001b[0m\u001b[0m\n",
      "\u001b[0;32m/Users/sternc1/anaconda/lib/python2.7/site-packages/amqp/channel.pyc\u001b[0m in \u001b[0;36m_basic_publish\u001b[0;34m(self, msg, exchange, routing_key, mandatory, immediate, timeout, argsig)\u001b[0m\n\u001b[1;32m   1746\u001b[0m                 return self.send_method(\n\u001b[1;32m   1747\u001b[0m                     \u001b[0mspec\u001b[0m\u001b[0;34m.\u001b[0m\u001b[0mBasic\u001b[0m\u001b[0;34m.\u001b[0m\u001b[0mPublish\u001b[0m\u001b[0;34m,\u001b[0m \u001b[0margsig\u001b[0m\u001b[0;34m,\u001b[0m\u001b[0;34m\u001b[0m\u001b[0m\n\u001b[0;32m-> 1748\u001b[0;31m                     \u001b[0;34m(\u001b[0m\u001b[0;36m0\u001b[0m\u001b[0;34m,\u001b[0m \u001b[0mexchange\u001b[0m\u001b[0;34m,\u001b[0m \u001b[0mrouting_key\u001b[0m\u001b[0;34m,\u001b[0m \u001b[0mmandatory\u001b[0m\u001b[0;34m,\u001b[0m \u001b[0mimmediate\u001b[0m\u001b[0;34m)\u001b[0m\u001b[0;34m,\u001b[0m \u001b[0mmsg\u001b[0m\u001b[0;34m\u001b[0m\u001b[0m\n\u001b[0m\u001b[1;32m   1749\u001b[0m                 )\n\u001b[1;32m   1750\u001b[0m         \u001b[0;32mexcept\u001b[0m \u001b[0msocket\u001b[0m\u001b[0;34m.\u001b[0m\u001b[0mtimeout\u001b[0m\u001b[0;34m:\u001b[0m\u001b[0;34m\u001b[0m\u001b[0m\n",
      "\u001b[0;32m/Users/sternc1/anaconda/lib/python2.7/site-packages/amqp/abstract_channel.pyc\u001b[0m in \u001b[0;36msend_method\u001b[0;34m(self, sig, format, args, content, wait, callback, returns_tuple)\u001b[0m\n\u001b[1;32m     62\u001b[0m         \u001b[0margs\u001b[0m \u001b[0;34m=\u001b[0m \u001b[0mdumps\u001b[0m\u001b[0;34m(\u001b[0m\u001b[0mformat\u001b[0m\u001b[0;34m,\u001b[0m \u001b[0margs\u001b[0m\u001b[0;34m)\u001b[0m \u001b[0;32mif\u001b[0m \u001b[0mformat\u001b[0m \u001b[0;32melse\u001b[0m \u001b[0mbytes_if_py2\u001b[0m\u001b[0;34m(\u001b[0m\u001b[0;34m''\u001b[0m\u001b[0;34m)\u001b[0m\u001b[0;34m\u001b[0m\u001b[0m\n\u001b[1;32m     63\u001b[0m         \u001b[0;32mtry\u001b[0m\u001b[0;34m:\u001b[0m\u001b[0;34m\u001b[0m\u001b[0m\n\u001b[0;32m---> 64\u001b[0;31m             \u001b[0mconn\u001b[0m\u001b[0;34m.\u001b[0m\u001b[0mframe_writer\u001b[0m\u001b[0;34m(\u001b[0m\u001b[0;36m1\u001b[0m\u001b[0;34m,\u001b[0m \u001b[0mself\u001b[0m\u001b[0;34m.\u001b[0m\u001b[0mchannel_id\u001b[0m\u001b[0;34m,\u001b[0m \u001b[0msig\u001b[0m\u001b[0;34m,\u001b[0m \u001b[0margs\u001b[0m\u001b[0;34m,\u001b[0m \u001b[0mcontent\u001b[0m\u001b[0;34m)\u001b[0m\u001b[0;34m\u001b[0m\u001b[0m\n\u001b[0m\u001b[1;32m     65\u001b[0m         \u001b[0;32mexcept\u001b[0m \u001b[0mStopIteration\u001b[0m\u001b[0;34m:\u001b[0m\u001b[0;34m\u001b[0m\u001b[0m\n\u001b[1;32m     66\u001b[0m             \u001b[0;32mraise\u001b[0m \u001b[0mRecoverableConnectionError\u001b[0m\u001b[0;34m(\u001b[0m\u001b[0;34m'connection already closed'\u001b[0m\u001b[0;34m)\u001b[0m\u001b[0;34m\u001b[0m\u001b[0m\n",
      "\u001b[0;32m/Users/sternc1/anaconda/lib/python2.7/site-packages/amqp/method_framing.pyc\u001b[0m in \u001b[0;36mwrite_frame\u001b[0;34m(type_, channel, method_sig, args, content)\u001b[0m\n\u001b[1;32m    112\u001b[0m         \u001b[0margs\u001b[0m \u001b[0;34m=\u001b[0m \u001b[0mstr_to_bytes\u001b[0m\u001b[0;34m(\u001b[0m\u001b[0margs\u001b[0m\u001b[0;34m)\u001b[0m\u001b[0;34m\u001b[0m\u001b[0m\n\u001b[1;32m    113\u001b[0m         \u001b[0;32mif\u001b[0m \u001b[0mcontent\u001b[0m\u001b[0;34m:\u001b[0m\u001b[0;34m\u001b[0m\u001b[0m\n\u001b[0;32m--> 114\u001b[0;31m             \u001b[0mproperties\u001b[0m \u001b[0;34m=\u001b[0m \u001b[0mcontent\u001b[0m\u001b[0;34m.\u001b[0m\u001b[0m_serialize_properties\u001b[0m\u001b[0;34m(\u001b[0m\u001b[0;34m)\u001b[0m\u001b[0;34m\u001b[0m\u001b[0m\n\u001b[0m\u001b[1;32m    115\u001b[0m             \u001b[0mbody\u001b[0m \u001b[0;34m=\u001b[0m \u001b[0mcontent\u001b[0m\u001b[0;34m.\u001b[0m\u001b[0mbody\u001b[0m\u001b[0;34m\u001b[0m\u001b[0m\n\u001b[1;32m    116\u001b[0m             \u001b[0mbodylen\u001b[0m \u001b[0;34m=\u001b[0m \u001b[0mlen\u001b[0m\u001b[0;34m(\u001b[0m\u001b[0mbody\u001b[0m\u001b[0;34m)\u001b[0m\u001b[0;34m\u001b[0m\u001b[0m\n",
      "\u001b[0;32m/Users/sternc1/anaconda/lib/python2.7/site-packages/amqp/serialization.pyc\u001b[0m in \u001b[0;36m_serialize_properties\u001b[0;34m(self)\u001b[0m\n\u001b[1;32m    555\u001b[0m         \u001b[0;32mfor\u001b[0m \u001b[0mflag_bits\u001b[0m \u001b[0;32min\u001b[0m \u001b[0mflags\u001b[0m\u001b[0;34m:\u001b[0m\u001b[0;34m\u001b[0m\u001b[0m\n\u001b[1;32m    556\u001b[0m             \u001b[0mwrite\u001b[0m\u001b[0;34m(\u001b[0m\u001b[0mpack\u001b[0m\u001b[0;34m(\u001b[0m\u001b[0;34m'>H'\u001b[0m\u001b[0;34m,\u001b[0m \u001b[0mflag_bits\u001b[0m\u001b[0;34m)\u001b[0m\u001b[0;34m)\u001b[0m\u001b[0;34m\u001b[0m\u001b[0m\n\u001b[0;32m--> 557\u001b[0;31m         \u001b[0mwrite\u001b[0m\u001b[0;34m(\u001b[0m\u001b[0mdumps\u001b[0m\u001b[0;34m(\u001b[0m\u001b[0;34mb''\u001b[0m\u001b[0;34m.\u001b[0m\u001b[0mjoin\u001b[0m\u001b[0;34m(\u001b[0m\u001b[0msformat\u001b[0m\u001b[0;34m)\u001b[0m\u001b[0;34m,\u001b[0m \u001b[0msvalues\u001b[0m\u001b[0;34m)\u001b[0m\u001b[0;34m)\u001b[0m\u001b[0;34m\u001b[0m\u001b[0m\n\u001b[0m\u001b[1;32m    558\u001b[0m \u001b[0;34m\u001b[0m\u001b[0m\n\u001b[1;32m    559\u001b[0m         \u001b[0;32mreturn\u001b[0m \u001b[0mresult\u001b[0m\u001b[0;34m.\u001b[0m\u001b[0mgetvalue\u001b[0m\u001b[0;34m(\u001b[0m\u001b[0;34m)\u001b[0m\u001b[0;34m\u001b[0m\u001b[0m\n",
      "\u001b[0;32m/Users/sternc1/anaconda/lib/python2.7/site-packages/amqp/serialization.pyc\u001b[0m in \u001b[0;36mdumps\u001b[0;34m(format, values)\u001b[0m\n\u001b[1;32m    317\u001b[0m         \u001b[0;32melif\u001b[0m \u001b[0mp\u001b[0m \u001b[0;34m==\u001b[0m \u001b[0;34m'F'\u001b[0m\u001b[0;34m:\u001b[0m\u001b[0;34m\u001b[0m\u001b[0m\n\u001b[1;32m    318\u001b[0m             \u001b[0mbitcount\u001b[0m \u001b[0;34m=\u001b[0m \u001b[0m_flushbits\u001b[0m\u001b[0;34m(\u001b[0m\u001b[0mbits\u001b[0m\u001b[0;34m,\u001b[0m \u001b[0mwrite\u001b[0m\u001b[0;34m)\u001b[0m\u001b[0;34m\u001b[0m\u001b[0m\n\u001b[0;32m--> 319\u001b[0;31m             \u001b[0m_write_table\u001b[0m\u001b[0;34m(\u001b[0m\u001b[0mval\u001b[0m \u001b[0;32mor\u001b[0m \u001b[0;34m{\u001b[0m\u001b[0;34m}\u001b[0m\u001b[0;34m,\u001b[0m \u001b[0mwrite\u001b[0m\u001b[0;34m,\u001b[0m \u001b[0mbits\u001b[0m\u001b[0;34m)\u001b[0m\u001b[0;34m\u001b[0m\u001b[0m\n\u001b[0m\u001b[1;32m    320\u001b[0m         \u001b[0;32melif\u001b[0m \u001b[0mp\u001b[0m \u001b[0;34m==\u001b[0m \u001b[0;34m'A'\u001b[0m\u001b[0;34m:\u001b[0m\u001b[0;34m\u001b[0m\u001b[0m\n\u001b[1;32m    321\u001b[0m             \u001b[0mbitcount\u001b[0m \u001b[0;34m=\u001b[0m \u001b[0m_flushbits\u001b[0m\u001b[0;34m(\u001b[0m\u001b[0mbits\u001b[0m\u001b[0;34m,\u001b[0m \u001b[0mwrite\u001b[0m\u001b[0;34m)\u001b[0m\u001b[0;34m\u001b[0m\u001b[0m\n",
      "\u001b[0;32m/Users/sternc1/anaconda/lib/python2.7/site-packages/amqp/serialization.pyc\u001b[0m in \u001b[0;36m_write_table\u001b[0;34m(d, write, bits, pack)\u001b[0m\n\u001b[1;32m    340\u001b[0m         \u001b[0;32mexcept\u001b[0m \u001b[0mValueError\u001b[0m\u001b[0;34m:\u001b[0m\u001b[0;34m\u001b[0m\u001b[0m\n\u001b[1;32m    341\u001b[0m             raise FrameSyntaxError(\n\u001b[0;32m--> 342\u001b[0;31m                 ILLEGAL_TABLE_TYPE_WITH_KEY.format(type(v), k, v))\n\u001b[0m\u001b[1;32m    343\u001b[0m     \u001b[0mtable_data\u001b[0m \u001b[0;34m=\u001b[0m \u001b[0mout\u001b[0m\u001b[0;34m.\u001b[0m\u001b[0mgetvalue\u001b[0m\u001b[0;34m(\u001b[0m\u001b[0;34m)\u001b[0m\u001b[0;34m\u001b[0m\u001b[0m\n\u001b[1;32m    344\u001b[0m     \u001b[0mwrite\u001b[0m\u001b[0;34m(\u001b[0m\u001b[0mpack\u001b[0m\u001b[0;34m(\u001b[0m\u001b[0;34m'>I'\u001b[0m\u001b[0;34m,\u001b[0m \u001b[0mlen\u001b[0m\u001b[0;34m(\u001b[0m\u001b[0mtable_data\u001b[0m\u001b[0;34m)\u001b[0m\u001b[0;34m)\u001b[0m\u001b[0;34m)\u001b[0m\u001b[0;34m\u001b[0m\u001b[0m\n",
      "\u001b[0;31mFrameSyntaxError\u001b[0m: Table type <class 'celery.result.AsyncResult'> for key 'task' not handled by amqp. [value: <AsyncResult: 11d0495d-bcd4-47e6-9aa6-04be7586c3c3>]\n"
     ]
    }
   ],
   "source": [
    "qmtasks.run_psi4_distributed('dih_angle/')"
   ]
  },
  {
   "cell_type": "code",
   "execution_count": 6,
   "metadata": {
    "collapsed": false
   },
   "outputs": [],
   "source": [
    "directory = 'dih_angle/'"
   ]
  },
  {
   "cell_type": "code",
   "execution_count": 9,
   "metadata": {
    "collapsed": false
   },
   "outputs": [],
   "source": [
    "to_submit = []\n",
    "pattern = \"*.dat\"\n",
    "for path, subdir, files in os.walk(directory):\n",
    "    for name in files:\n",
    "        if fnmatch(name, pattern):\n",
    "            path = os.path.join(os.getcwd(), path)\n",
    "            to_submit.append((path, name))"
   ]
  },
  {
   "cell_type": "code",
   "execution_count": 10,
   "metadata": {
    "collapsed": false
   },
   "outputs": [
    {
     "data": {
      "text/plain": [
       "[('/Users/sternc1/src/ChayaSt/Torsions/examples/butane/dih_angle/0',\n",
       "  'butane_0.dat'),\n",
       " ('/Users/sternc1/src/ChayaSt/Torsions/examples/butane/dih_angle/0',\n",
       "  'timer.dat'),\n",
       " ('/Users/sternc1/src/ChayaSt/Torsions/examples/butane/dih_angle/10',\n",
       "  'butane_10.dat'),\n",
       " ('/Users/sternc1/src/ChayaSt/Torsions/examples/butane/dih_angle/100',\n",
       "  'butane_100.dat'),\n",
       " ('/Users/sternc1/src/ChayaSt/Torsions/examples/butane/dih_angle/110',\n",
       "  'butane_110.dat'),\n",
       " ('/Users/sternc1/src/ChayaSt/Torsions/examples/butane/dih_angle/120',\n",
       "  'butane_120.dat'),\n",
       " ('/Users/sternc1/src/ChayaSt/Torsions/examples/butane/dih_angle/130',\n",
       "  'butane_130.dat'),\n",
       " ('/Users/sternc1/src/ChayaSt/Torsions/examples/butane/dih_angle/140',\n",
       "  'butane_140.dat'),\n",
       " ('/Users/sternc1/src/ChayaSt/Torsions/examples/butane/dih_angle/150',\n",
       "  'butane_150.dat'),\n",
       " ('/Users/sternc1/src/ChayaSt/Torsions/examples/butane/dih_angle/160',\n",
       "  'butane_160.dat'),\n",
       " ('/Users/sternc1/src/ChayaSt/Torsions/examples/butane/dih_angle/170',\n",
       "  'butane_170.dat'),\n",
       " ('/Users/sternc1/src/ChayaSt/Torsions/examples/butane/dih_angle/180',\n",
       "  'butane_180.dat'),\n",
       " ('/Users/sternc1/src/ChayaSt/Torsions/examples/butane/dih_angle/190',\n",
       "  'butane_190.dat'),\n",
       " ('/Users/sternc1/src/ChayaSt/Torsions/examples/butane/dih_angle/20',\n",
       "  'butane_20.dat'),\n",
       " ('/Users/sternc1/src/ChayaSt/Torsions/examples/butane/dih_angle/200',\n",
       "  'butane_200.dat'),\n",
       " ('/Users/sternc1/src/ChayaSt/Torsions/examples/butane/dih_angle/210',\n",
       "  'butane_210.dat'),\n",
       " ('/Users/sternc1/src/ChayaSt/Torsions/examples/butane/dih_angle/220',\n",
       "  'butane_220.dat'),\n",
       " ('/Users/sternc1/src/ChayaSt/Torsions/examples/butane/dih_angle/230',\n",
       "  'butane_230.dat'),\n",
       " ('/Users/sternc1/src/ChayaSt/Torsions/examples/butane/dih_angle/240',\n",
       "  'butane_240.dat'),\n",
       " ('/Users/sternc1/src/ChayaSt/Torsions/examples/butane/dih_angle/250',\n",
       "  'butane_250.dat'),\n",
       " ('/Users/sternc1/src/ChayaSt/Torsions/examples/butane/dih_angle/260',\n",
       "  'butane_260.dat'),\n",
       " ('/Users/sternc1/src/ChayaSt/Torsions/examples/butane/dih_angle/270',\n",
       "  'butane_270.dat'),\n",
       " ('/Users/sternc1/src/ChayaSt/Torsions/examples/butane/dih_angle/280',\n",
       "  'butane_280.dat'),\n",
       " ('/Users/sternc1/src/ChayaSt/Torsions/examples/butane/dih_angle/290',\n",
       "  'butane_290.dat'),\n",
       " ('/Users/sternc1/src/ChayaSt/Torsions/examples/butane/dih_angle/30',\n",
       "  'butane_30.dat'),\n",
       " ('/Users/sternc1/src/ChayaSt/Torsions/examples/butane/dih_angle/300',\n",
       "  'butane_300.dat'),\n",
       " ('/Users/sternc1/src/ChayaSt/Torsions/examples/butane/dih_angle/310',\n",
       "  'butane_310.dat'),\n",
       " ('/Users/sternc1/src/ChayaSt/Torsions/examples/butane/dih_angle/320',\n",
       "  'butane_320.dat'),\n",
       " ('/Users/sternc1/src/ChayaSt/Torsions/examples/butane/dih_angle/330',\n",
       "  'butane_330.dat'),\n",
       " ('/Users/sternc1/src/ChayaSt/Torsions/examples/butane/dih_angle/340',\n",
       "  'butane_340.dat'),\n",
       " ('/Users/sternc1/src/ChayaSt/Torsions/examples/butane/dih_angle/350',\n",
       "  'butane_350.dat'),\n",
       " ('/Users/sternc1/src/ChayaSt/Torsions/examples/butane/dih_angle/360',\n",
       "  'butane_360.dat'),\n",
       " ('/Users/sternc1/src/ChayaSt/Torsions/examples/butane/dih_angle/40',\n",
       "  'butane_40.dat'),\n",
       " ('/Users/sternc1/src/ChayaSt/Torsions/examples/butane/dih_angle/50',\n",
       "  'butane_50.dat'),\n",
       " ('/Users/sternc1/src/ChayaSt/Torsions/examples/butane/dih_angle/60',\n",
       "  'butane_60.dat'),\n",
       " ('/Users/sternc1/src/ChayaSt/Torsions/examples/butane/dih_angle/70',\n",
       "  'butane_70.dat'),\n",
       " ('/Users/sternc1/src/ChayaSt/Torsions/examples/butane/dih_angle/80',\n",
       "  'butane_80.dat'),\n",
       " ('/Users/sternc1/src/ChayaSt/Torsions/examples/butane/dih_angle/90',\n",
       "  'butane_90.dat')]"
      ]
     },
     "execution_count": 10,
     "metadata": {},
     "output_type": "execute_result"
    }
   ],
   "source": [
    "to_submit"
   ]
  },
  {
   "cell_type": "code",
   "execution_count": 4,
   "metadata": {
    "collapsed": false
   },
   "outputs": [
    {
     "ename": "NameError",
     "evalue": "name 'run_psi4_distributed' is not defined",
     "output_type": "error",
     "traceback": [
      "\u001b[0;31m---------------------------------------------------------------------------\u001b[0m",
      "\u001b[0;31mNameError\u001b[0m                                 Traceback (most recent call last)",
      "\u001b[0;32m<ipython-input-4-50c36c8693da>\u001b[0m in \u001b[0;36m<module>\u001b[0;34m()\u001b[0m\n\u001b[0;32m----> 1\u001b[0;31m \u001b[0mrun_psi4_distributed\u001b[0m\u001b[0;34m(\u001b[0m\u001b[0;34m'dih_angle/'\u001b[0m\u001b[0;34m)\u001b[0m\u001b[0;34m\u001b[0m\u001b[0m\n\u001b[0m",
      "\u001b[0;31mNameError\u001b[0m: name 'run_psi4_distributed' is not defined"
     ]
    }
   ],
   "source": [
    "run_psi4_distributed('dih_angle/')"
   ]
  },
  {
   "cell_type": "code",
   "execution_count": 3,
   "metadata": {
    "collapsed": false
   },
   "outputs": [
    {
     "name": "stdout",
     "output_type": "stream",
     "text": [
      "butane_20.dat\n"
     ]
    },
    {
     "data": {
      "text/plain": [
       "0"
      ]
     },
     "execution_count": 3,
     "metadata": {},
     "output_type": "execute_result"
    }
   ],
   "source": [
    "qmtasks.start_psi4_calculation('dih_angle/20', 'butane_20.dat')"
   ]
  },
  {
   "cell_type": "code",
   "execution_count": 3,
   "metadata": {
    "collapsed": false
   },
   "outputs": [
    {
     "data": {
      "text/plain": [
       "256"
      ]
     },
     "execution_count": 3,
     "metadata": {},
     "output_type": "execute_result"
    }
   ],
   "source": [
    "qmtasks.start_psi4_calculation('dih_angle/10', 'butane_10.dat')"
   ]
  },
  {
   "cell_type": "code",
   "execution_count": null,
   "metadata": {
    "collapsed": true
   },
   "outputs": [],
   "source": []
  }
 ],
 "metadata": {
  "kernelspec": {
   "display_name": "Python 2",
   "language": "python",
   "name": "python2"
  },
  "language_info": {
   "codemirror_mode": {
    "name": "ipython",
    "version": 2
   },
   "file_extension": ".py",
   "mimetype": "text/x-python",
   "name": "python",
   "nbconvert_exporter": "python",
   "pygments_lexer": "ipython2",
   "version": "2.7.12"
  }
 },
 "nbformat": 4,
 "nbformat_minor": 0
}
