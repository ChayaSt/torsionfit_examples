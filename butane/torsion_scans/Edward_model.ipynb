{
 "cells": [
  {
   "cell_type": "code",
   "execution_count": 1,
   "metadata": {
    "collapsed": true
   },
   "outputs": [],
   "source": [
    "%matplotlib inline\n",
    "import matplotlib.pyplot as plt\n",
    "from torsionfit.database import qmdatabase as ScanSet\n",
    "import torsionfit.model as Model\n",
    "from torsionfit.backends import sqlite_plus\n",
    "from torsionfit import parameters\n",
    "from parmed.charmm import CharmmParameterSet\n",
    "import torsionfit.parameters as par\n",
    "import numpy as np\n",
    "from edward.models import Normal, Categorical, Uniform\n",
    "import tensorflow as tf\n",
    "from simtk import unit\n",
    "import copy"
   ]
  },
  {
   "cell_type": "code",
   "execution_count": 2,
   "metadata": {
    "collapsed": false
   },
   "outputs": [
    {
     "name": "stdout",
     "output_type": "stream",
     "text": [
      "[Psi /Users/sternc1/src/ChayaSt/torsionfit_examples/butane/torsion_scans/MP2_torsion_scan/0/butane_0.out2 WARNING] In logfileparser.py, line 468, line not all dashes as expected: --------------------------------------------------------------------------------------------- ~\n",
      "[Psi /Users/sternc1/src/ChayaSt/torsionfit_examples/butane/torsion_scans/MP2_torsion_scan/10/butane_10.out2 WARNING] In logfileparser.py, line 468, line not all dashes as expected: --------------------------------------------------------------------------------------------- ~\n",
      "[Psi /Users/sternc1/src/ChayaSt/torsionfit_examples/butane/torsion_scans/MP2_torsion_scan/20/butane_20.out2 WARNING] In logfileparser.py, line 468, line not all dashes as expected: --------------------------------------------------------------------------------------------- ~\n"
     ]
    },
    {
     "name": "stderr",
     "output_type": "stream",
     "text": [
      "/Users/sternc1/anaconda/envs/py35/lib/python3.5/site-packages/torsionfit-0+untagged.574.ge72ac95.dirty-py3.5.egg/torsionfit/database/qmdatabase.py:190: UserWarning: Warning: Optimizer failed for /Users/sternc1/src/ChayaSt/torsionfit_examples/butane/torsion_scans/MP2_torsion_scan/10/butane_10.out2\n",
      "  warnings.warn(\"Warning: Optimizer failed for {}\".format(f))\n"
     ]
    },
    {
     "name": "stdout",
     "output_type": "stream",
     "text": [
      "[Psi /Users/sternc1/src/ChayaSt/torsionfit_examples/butane/torsion_scans/MP2_torsion_scan/30/butane_30.out2 WARNING] In logfileparser.py, line 468, line not all dashes as expected: --------------------------------------------------------------------------------------------- ~\n",
      "[Psi /Users/sternc1/src/ChayaSt/torsionfit_examples/butane/torsion_scans/MP2_torsion_scan/40/butane_40.out2 WARNING] In logfileparser.py, line 468, line not all dashes as expected: --------------------------------------------------------------------------------------------- ~\n",
      "[Psi /Users/sternc1/src/ChayaSt/torsionfit_examples/butane/torsion_scans/MP2_torsion_scan/50/butane_50.out2 WARNING] In logfileparser.py, line 468, line not all dashes as expected: --------------------------------------------------------------------------------------------- ~\n",
      "[Psi /Users/sternc1/src/ChayaSt/torsionfit_examples/butane/torsion_scans/MP2_torsion_scan/60/butane_60.out2 WARNING] In logfileparser.py, line 468, line not all dashes as expected: --------------------------------------------------------------------------------------------- ~\n",
      "[Psi /Users/sternc1/src/ChayaSt/torsionfit_examples/butane/torsion_scans/MP2_torsion_scan/70/butane_70.out2 WARNING] In logfileparser.py, line 468, line not all dashes as expected: --------------------------------------------------------------------------------------------- ~\n",
      "[Psi /Users/sternc1/src/ChayaSt/torsionfit_examples/butane/torsion_scans/MP2_torsion_scan/80/butane_80.out2 WARNING] In logfileparser.py, line 468, line not all dashes as expected: --------------------------------------------------------------------------------------------- ~\n",
      "[Psi /Users/sternc1/src/ChayaSt/torsionfit_examples/butane/torsion_scans/MP2_torsion_scan/90/butane_90.out2 WARNING] In logfileparser.py, line 468, line not all dashes as expected: --------------------------------------------------------------------------------------------- ~\n",
      "[Psi /Users/sternc1/src/ChayaSt/torsionfit_examples/butane/torsion_scans/MP2_torsion_scan/100/butane_100.out2 WARNING] In logfileparser.py, line 468, line not all dashes as expected: --------------------------------------------------------------------------------------------- ~\n",
      "[Psi /Users/sternc1/src/ChayaSt/torsionfit_examples/butane/torsion_scans/MP2_torsion_scan/110/butane_110.out2 WARNING] In logfileparser.py, line 468, line not all dashes as expected: --------------------------------------------------------------------------------------------- ~\n",
      "[Psi /Users/sternc1/src/ChayaSt/torsionfit_examples/butane/torsion_scans/MP2_torsion_scan/120/butane_120.out2 WARNING] In logfileparser.py, line 468, line not all dashes as expected: --------------------------------------------------------------------------------------------- ~\n",
      "[Psi /Users/sternc1/src/ChayaSt/torsionfit_examples/butane/torsion_scans/MP2_torsion_scan/130/butane_130.out2 WARNING] In logfileparser.py, line 468, line not all dashes as expected: --------------------------------------------------------------------------------------------- ~\n",
      "[Psi /Users/sternc1/src/ChayaSt/torsionfit_examples/butane/torsion_scans/MP2_torsion_scan/140/butane_140.out2 WARNING] In logfileparser.py, line 468, line not all dashes as expected: --------------------------------------------------------------------------------------------- ~\n",
      "[Psi /Users/sternc1/src/ChayaSt/torsionfit_examples/butane/torsion_scans/MP2_torsion_scan/150/butane_150.out2 WARNING] In logfileparser.py, line 468, line not all dashes as expected: --------------------------------------------------------------------------------------------- ~\n",
      "[Psi /Users/sternc1/src/ChayaSt/torsionfit_examples/butane/torsion_scans/MP2_torsion_scan/160/butane_160.out2 WARNING] In logfileparser.py, line 468, line not all dashes as expected: --------------------------------------------------------------------------------------------- ~\n",
      "[Psi /Users/sternc1/src/ChayaSt/torsionfit_examples/butane/torsion_scans/MP2_torsion_scan/170/butane_170.out2 WARNING] In logfileparser.py, line 468, line not all dashes as expected: --------------------------------------------------------------------------------------------- ~\n",
      "[Psi /Users/sternc1/src/ChayaSt/torsionfit_examples/butane/torsion_scans/MP2_torsion_scan/180/butane_180.out2 WARNING] In logfileparser.py, line 468, line not all dashes as expected: --------------------------------------------------------------------------------------------- ~\n",
      "[Psi /Users/sternc1/src/ChayaSt/torsionfit_examples/butane/torsion_scans/MP2_torsion_scan/190/butane_190.out2 WARNING] In logfileparser.py, line 468, line not all dashes as expected: --------------------------------------------------------------------------------------------- ~\n",
      "[Psi /Users/sternc1/src/ChayaSt/torsionfit_examples/butane/torsion_scans/MP2_torsion_scan/200/butane_200.out2 WARNING] In logfileparser.py, line 468, line not all dashes as expected: --------------------------------------------------------------------------------------------- ~\n",
      "[Psi /Users/sternc1/src/ChayaSt/torsionfit_examples/butane/torsion_scans/MP2_torsion_scan/210/butane_210.out2 WARNING] In logfileparser.py, line 468, line not all dashes as expected: --------------------------------------------------------------------------------------------- ~\n",
      "[Psi /Users/sternc1/src/ChayaSt/torsionfit_examples/butane/torsion_scans/MP2_torsion_scan/220/butane_220.out2 WARNING] In logfileparser.py, line 468, line not all dashes as expected: --------------------------------------------------------------------------------------------- ~\n",
      "[Psi /Users/sternc1/src/ChayaSt/torsionfit_examples/butane/torsion_scans/MP2_torsion_scan/230/butane_230.out2 WARNING] In logfileparser.py, line 468, line not all dashes as expected: --------------------------------------------------------------------------------------------- ~\n",
      "[Psi /Users/sternc1/src/ChayaSt/torsionfit_examples/butane/torsion_scans/MP2_torsion_scan/240/butane_240.out2 WARNING] In logfileparser.py, line 468, line not all dashes as expected: --------------------------------------------------------------------------------------------- ~\n",
      "[Psi /Users/sternc1/src/ChayaSt/torsionfit_examples/butane/torsion_scans/MP2_torsion_scan/250/butane_250.out2 WARNING] In logfileparser.py, line 468, line not all dashes as expected: --------------------------------------------------------------------------------------------- ~\n",
      "[Psi /Users/sternc1/src/ChayaSt/torsionfit_examples/butane/torsion_scans/MP2_torsion_scan/260/butane_260.out2 WARNING] In logfileparser.py, line 468, line not all dashes as expected: --------------------------------------------------------------------------------------------- ~\n",
      "[Psi /Users/sternc1/src/ChayaSt/torsionfit_examples/butane/torsion_scans/MP2_torsion_scan/270/butane_270.out2 WARNING] In logfileparser.py, line 468, line not all dashes as expected: --------------------------------------------------------------------------------------------- ~\n",
      "[Psi /Users/sternc1/src/ChayaSt/torsionfit_examples/butane/torsion_scans/MP2_torsion_scan/280/butane_280.out2 WARNING] In logfileparser.py, line 468, line not all dashes as expected: --------------------------------------------------------------------------------------------- ~\n",
      "[Psi /Users/sternc1/src/ChayaSt/torsionfit_examples/butane/torsion_scans/MP2_torsion_scan/290/butane_290.out2 WARNING] In logfileparser.py, line 468, line not all dashes as expected: --------------------------------------------------------------------------------------------- ~\n",
      "[Psi /Users/sternc1/src/ChayaSt/torsionfit_examples/butane/torsion_scans/MP2_torsion_scan/300/butane_300.out2 WARNING] In logfileparser.py, line 468, line not all dashes as expected: --------------------------------------------------------------------------------------------- ~\n",
      "[Psi /Users/sternc1/src/ChayaSt/torsionfit_examples/butane/torsion_scans/MP2_torsion_scan/310/butane_310.out2 WARNING] In logfileparser.py, line 468, line not all dashes as expected: --------------------------------------------------------------------------------------------- ~\n",
      "[Psi /Users/sternc1/src/ChayaSt/torsionfit_examples/butane/torsion_scans/MP2_torsion_scan/320/butane_320.out2 WARNING] In logfileparser.py, line 468, line not all dashes as expected: --------------------------------------------------------------------------------------------- ~\n",
      "[Psi /Users/sternc1/src/ChayaSt/torsionfit_examples/butane/torsion_scans/MP2_torsion_scan/330/butane_330.out2 WARNING] In logfileparser.py, line 468, line not all dashes as expected: --------------------------------------------------------------------------------------------- ~\n",
      "[Psi /Users/sternc1/src/ChayaSt/torsionfit_examples/butane/torsion_scans/MP2_torsion_scan/340/butane_340.out2 WARNING] In logfileparser.py, line 468, line not all dashes as expected: --------------------------------------------------------------------------------------------- ~\n",
      "[Psi /Users/sternc1/src/ChayaSt/torsionfit_examples/butane/torsion_scans/MP2_torsion_scan/350/butane_350.out2 WARNING] In logfileparser.py, line 468, line not all dashes as expected: --------------------------------------------------------------------------------------------- ~\n",
      "[Psi /Users/sternc1/src/ChayaSt/torsionfit_examples/butane/torsion_scans/MP2_torsion_scan/360/butane_360.out2 WARNING] In logfileparser.py, line 468, line not all dashes as expected: --------------------------------------------------------------------------------------------- ~\n"
     ]
    }
   ],
   "source": [
    "# Only dihedral energy to compare to np and tf energy evaluation\n",
    "# Turn off everything besides dihedrals\n",
    "param_dih = CharmmParameterSet('../param/par_all36_cgenff.prm', '../param/top_all36_cgenff.rtf')\n",
    "structure_no_charge = '../structure/butane_charge_off.psf'\n",
    "scan = 'MP2_torsion_scan/'\n",
    "param_dih.bond_types[('CG321', 'CG331')].k=0\n",
    "param_dih.bond_types[('CG321', 'CG321')].k=0\n",
    "param_dih.bond_types[('CG331', 'HGA3')].k=0\n",
    "param_dih.bond_types[('CG321', 'HGA2')].k=0\n",
    "\n",
    "#param_dih.dihedral_types[('CG331', 'CG321', 'CG321', 'CG331')][1].phi_k=0\n",
    "#param_dih.dihedral_types[('CG331', 'CG321', 'CG321', 'CG331')][0].phi_k=0\n",
    "#param_dih.dihedral_types[('HGA3', 'CG331', 'CG321', 'HGA2')][0].phi_k=0\n",
    "#param_dih.dihedral_types[('HGA2', 'CG321', 'CG331', 'HGA3')][0].phi_k=0\n",
    "#param_dih.dihedral_types[('HGA3', 'CG331', 'CG321', 'CG321')][0].phi_k=0\n",
    "#param_dih.dihedral_types[('CG321', 'CG321', 'CG331', 'HGA3')][0].phi_k=0\n",
    "#param_dih.dihedral_types[('HGA2', 'CG321', 'CG321', 'HGA2')][0].phi_k=0\n",
    "#param_dih.dihedral_types[('CG331', 'CG321', 'CG321', 'HGA2')][0].phi_k=0\n",
    "#param_dih.dihedral_types[('HGA2', 'CG321', 'CG321', 'CG331')][0].phi_k=0\n",
    "\n",
    "param_dih.angle_types[('CG321', 'CG321', 'CG331')].k=0\n",
    "param_dih.angle_types[('CG321', 'CG331', 'HGA3')].k=0\n",
    "param_dih.angle_types[('CG321', 'CG331', 'HGA3')].k=0\n",
    "param_dih.angle_types[('HGA2', 'CG321', 'HGA2')].k=0\n",
    "param_dih.angle_types[('CG331', 'CG321', 'HGA2')].k=0\n",
    "param_dih.angle_types[('HGA2', 'CG321', 'CG331')].k=0\n",
    "param_dih.angle_types[('HGA3', 'CG331', 'HGA3')].k=0\n",
    "param_dih.angle_types[('HGA2', 'CG321', 'CG321')].k=0\n",
    "param_dih.angle_types[('CG321', 'CG321', 'HGA2')].k=0\n",
    "\n",
    "param_dih.urey_bradley_types[('CG321', 'CG321', 'CG331')].k  = 0\n",
    "param_dih.urey_bradley_types[('CG331', 'CG321', 'HGA2')].k = 0\n",
    "param_dih.urey_bradley_types[('CG321', 'CG321', 'HGA2')].k = 0\n",
    "param_dih.urey_bradley_types[('HGA3', 'CG331', 'CG321')].k = 0\n",
    "param_dih.urey_bradley_types[('HGA3', 'CG331', 'HGA3')].k = 0\n",
    "param_dih.urey_bradley_types[('HGA2', 'CG321', 'HGA2')].k = 0\n",
    "\n",
    "param_dih.atom_types['CG331'].sigma_14 = 1.0\n",
    "param_dih.atom_types['CG331'].rmin = 1.0\n",
    "param_dih.atom_types['CG331'].rmin_14 = 1.0\n",
    "param_dih.atom_types['CG331'].epsilon_14 = 0\n",
    "param_dih.atom_types['CG331'].sigma=1.0\n",
    "param_dih.atom_types['CG331'].epsilon = 0.0\n",
    "param_dih.atom_types['CG321'].epsilon_14 = 0.0\n",
    "param_dih.atom_types['CG321'].rmin_14 = 1.0\n",
    "param_dih.atom_types['CG321'].sigma_14 = 1.0\n",
    "param_dih.atom_types['CG321'].sigma=1.0\n",
    "param_dih.atom_types['CG321'].epsilon = 0.0\n",
    "param_dih.atom_types['HGA3'].epsilon_14 = 0.0\n",
    "param_dih.atom_types['HGA3'].sigma = 1.0\n",
    "param_dih.atom_types['HGA3'].epsilon = 0.0\n",
    "param_dih.atom_types['HGA2'].epsilon_14 = 0.0\n",
    "param_dih.atom_types['HGA2'].sigma = 1.0\n",
    "param_dih.atom_types['HGA2'].epsilon = 0.0\n",
    "\n",
    "no_charge = ScanSet.parse_psi4_out(scan, structure_no_charge, pattern='*.out2')\n",
    "scan_dih = no_charge.remove_nonoptimized()\n",
    "scan_dih.compute_energy(param_dih)"
   ]
  },
  {
   "cell_type": "code",
   "execution_count": 3,
   "metadata": {
    "collapsed": false
   },
   "outputs": [],
   "source": [
    "# Tensorflow interactive session\n",
    "tf.InteractiveSession()\n",
    "scan_dih.build_phis()\n",
    "to_optimize = list(scan_dih.phis.keys())"
   ]
  },
  {
   "cell_type": "code",
   "execution_count": 4,
   "metadata": {
    "collapsed": false
   },
   "outputs": [],
   "source": [
    "# time and Test Tensorflow Fourier sum vs numpy\n",
    "\n",
    "# Numpy\n",
    "length = 0\n",
    "to_optimize = list(scan_dih.phis.keys())\n",
    "K_np = np.zeros((6, len(scan_dih.phis)))\n",
    "n_np = np.array([1., 2., 3., 4., 5., 6.])\n",
    "for i, t in enumerate(to_optimize):\n",
    "    dih_param = param_dih.dihedral_types[t]\n",
    "    for k in dih_param:\n",
    "        m = k.per\n",
    "        K_np[m-1][i] = k.phi_k*4.184\n",
    "        if k.phase == 180.0:\n",
    "            K_np[m-1][i] = -k.phi_k*4.184\n",
    "    if scan_dih.phis[t].shape[-1] > length:\n",
    "        length = scan_dih.phis[t].shape[-1]\n",
    "\n",
    "K_tf = tf.constant(K_np, dtype=tf.float32)\n",
    "\n",
    "n_np = np.array([1., 2., 3., 4., 5., 6.])\n",
    "n_tf = tf.constant(n_np, dtype=tf.float32)\n",
    "\n",
    "# phis for tf\n",
    "phis = {}\n",
    "for t in to_optimize:\n",
    "    phis[t] = tf.constant(scan_dih.phis[t], shape=(36, scan_dih.phis[t].shape[-1], 1), dtype=tf.float32)"
   ]
  },
  {
   "cell_type": "code",
   "execution_count": 5,
   "metadata": {
    "collapsed": false
   },
   "outputs": [
    {
     "name": "stdout",
     "output_type": "stream",
     "text": [
      "CPU times: user 967 µs, sys: 664 µs, total: 1.63 ms\n",
      "Wall time: 979 µs\n"
     ]
    }
   ],
   "source": [
    "%%time\n",
    "# Calculate Fourier sum numpy\n",
    "Fourier_sum_np = np.zeros((36))\n",
    "for i, t in enumerate(to_optimize):\n",
    "    Fourier_sum_np +=(K_np[:, i][:, np.newaxis]*(1+np.cos((scan_dih.phis[t][:, np.newaxis]*n_np[:, np.newaxis])))).sum(1).sum(1)\n"
   ]
  },
  {
   "cell_type": "code",
   "execution_count": 6,
   "metadata": {
    "collapsed": false
   },
   "outputs": [
    {
     "name": "stdout",
     "output_type": "stream",
     "text": [
      "CPU times: user 234 ms, sys: 3.11 ms, total: 237 ms\n",
      "Wall time: 236 ms\n"
     ]
    }
   ],
   "source": [
    "%%time\n",
    "# Calculate Fourier sum tensorflow\n",
    "Fourier_sum_tf = tf.Variable(tf.zeros([36]))\n",
    "tf.global_variables_initializer().run()\n",
    "for i, t in enumerate(to_optimize):\n",
    "    energy = tf.reduce_sum(tf.reduce_sum(K_tf[:,i]*(1+tf.cos(phis[t]*n_tf)), axis=1), axis=1)\n",
    "    Fourier_sum_tf = tf.assign_add(ref=Fourier_sum_tf, value=energy, use_locking=True)"
   ]
  },
  {
   "cell_type": "markdown",
   "metadata": {},
   "source": [
    "Evaluating dihedral energy in tensorflow is 2 orders of magnitude slower. I'm not sure why."
   ]
  },
  {
   "cell_type": "code",
   "execution_count": 7,
   "metadata": {
    "collapsed": false
   },
   "outputs": [],
   "source": [
    "sum_tf = Fourier_sum_tf.eval()"
   ]
  },
  {
   "cell_type": "code",
   "execution_count": 8,
   "metadata": {
    "collapsed": false
   },
   "outputs": [
    {
     "name": "stdout",
     "output_type": "stream",
     "text": [
      "[ 13.45736504   9.2181263    6.0344696    3.1636796    1.21723783\n",
      "   0.25736979   0.68414032   2.82384443   6.12481594   9.60699463\n",
      "  12.27157021  13.21215439  12.0612011    9.33106041   6.02901173\n",
      "   3.04043794   0.89973032   0.15604049   0.90040529   2.9931488\n",
      "   6.03152084   9.36508942  12.06383324  13.21228218  12.27484322\n",
      "   9.60490799   6.12298393   2.82190156   0.6835717    0.25723138\n",
      "   1.21742368   3.19276524   6.03352356   9.25861073  12.23752022\n",
      "  13.45736408]\n"
     ]
    }
   ],
   "source": [
    "print(sum_tf)"
   ]
  },
  {
   "cell_type": "code",
   "execution_count": 12,
   "metadata": {
    "collapsed": false
   },
   "outputs": [
    {
     "data": {
      "image/png": "[encoded data removed]",
      "text/plain": [
       "<matplotlib.figure.Figure at 0x132cf0f98>"
      ]
     },
     "metadata": {},
     "output_type": "display_data"
    }
   ],
   "source": [
    "# Plot all energies\n",
    "plt.plot(Fourier_sum_np-min(Fourier_sum_np), 'o', label='Numpy')\n",
    "plt.plot(scan_dih.mm_energy, '.', color='red',label='OMM')\n",
    "plt.plot(sum_tf-min(sum_tf), label='tf')\n",
    "plt.legend()\n",
    "plt.title('Comparing Dihederal Energies')\n",
    "plt.ylabel('Relative Energy (kJ/mol)')\n",
    "plt.xlabel('Frames');"
   ]
  },
  {
   "cell_type": "code",
   "execution_count": 4,
   "metadata": {
    "collapsed": true
   },
   "outputs": [],
   "source": [
    "# Dihedrals will be fit to residuals - QM - MM(without dihedrals)\n",
    "residual_data = copy.deepcopy(scan_no_dih.delta_energy.value_in_unit(unit=unit.kilojoule_per_mole))"
   ]
  },
  {
   "cell_type": "code",
   "execution_count": 16,
   "metadata": {
    "collapsed": false
   },
   "outputs": [],
   "source": [
    "# Tensorflow interactive session\n",
    "tf.InteractiveSession()\n",
    "\n",
    "# Create priors for parameters\n",
    "# Jeffery's priors on sigma\n",
    "log_sgima_K = Uniform(low=tf.ones(len(to_optimize))*-4.6052, high=tf.ones(len(to_optimize))*3.453)\n",
    "sigma_k = tf.map_fn(lambda x: tf.exp(x), log_sgima_K)\n",
    "K = Normal(loc=tf.zeros((6, len(to_optimize))), scale=sigma_k)\n",
    "\n",
    "p = tf.ones(64)*1/64\n",
    "mult_bitstrings = {}\n",
    "phis = {}\n",
    "#K = {}\n",
    "n = tf.constant([1., 2., 3., 4., 5., 6.], shape=(1,6), dtype=tf.float32)\n",
    "# Catagorical for n\n",
    "to_optimize = []\n",
    "for t in scan_dih.phis:\n",
    "    name = t[0] + '_' + t[1] + '_' + t[2] + '_' + t[3]\n",
    "    to_optimize.append(name)\n",
    "    phis[name] = tf.constant(scan_dih.phis[t], shape=(36, scan_dih.phis[t].shape[-1], 1), dtype=tf.float32)\n",
    "    #K[t] = Normal(loc=tf.zeros(6), scale=1)\n",
    "    name = name + '_mult_bitstring'\n",
    "    mult_bitstrings[name] = Categorical(probs=p)\n",
    "    \n"
   ]
  },
  {
   "cell_type": "code",
   "execution_count": null,
   "metadata": {
    "collapsed": true
   },
   "outputs": [],
   "source": []
  }
 ],
 "metadata": {
  "kernelspec": {
   "display_name": "Python 3",
   "language": "python",
   "name": "python3"
  },
  "language_info": {
   "codemirror_mode": {
    "name": "ipython",
    "version": 3
   },
   "file_extension": ".py",
   "mimetype": "text/x-python",
   "name": "python",
   "nbconvert_exporter": "python",
   "pygments_lexer": "ipython3",
   "version": "3.5.1"
  }
 },
 "nbformat": 4,
 "nbformat_minor": 0
}
