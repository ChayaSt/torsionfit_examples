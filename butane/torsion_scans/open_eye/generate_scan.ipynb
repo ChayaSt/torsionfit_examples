{
 "cells": [
  {
   "cell_type": "code",
   "execution_count": 1,
   "metadata": {
    "collapsed": true
   },
   "outputs": [],
   "source": [
    "from torsionfit.qmscan import torsion_scan\n",
    "import os\n",
    "from glob import glob"
   ]
  },
  {
   "cell_type": "code",
   "execution_count": 2,
   "metadata": {
    "collapsed": true
   },
   "outputs": [],
   "source": [
    "structure = '../../structure/butane.pdb'\n",
    "path = '/Users/sternc1/src/ChayaSt/torsionfit_examples/butane/torsion_scans/open_eye'"
   ]
  },
  {
   "cell_type": "code",
   "execution_count": 3,
   "metadata": {
    "collapsed": false
   },
   "outputs": [
    {
     "name": "stdout",
     "output_type": "stream",
     "text": [
      "12:04:22 INFO torsionFit: Idxs: 5 6 3 1\n",
      "12:04:22 INFO torsionFit: Atom Numbers: 1 6 6 1\n",
      "12:04:22 INFO torsionFit: new_tor with central bond across atoms: 6 3\n",
      "12:04:22 INFO torsionFit: Idxs: 9 6 3 2\n",
      "12:04:22 INFO torsionFit: Atom Numbers: 6 6 6 1\n",
      "12:04:22 INFO torsionFit: Not a new_tor but now with end atoms: 9 2\n",
      "12:04:22 INFO torsionFit: Idxs: 5 6 3 0\n",
      "12:04:22 INFO torsionFit: Atom Numbers: 1 6 6 1\n",
      "12:04:22 INFO torsionFit: Not a new_tor but now with end atoms: 5 0\n",
      "12:04:22 INFO torsionFit: Idxs: 9 6 3 1\n",
      "12:04:22 INFO torsionFit: Atom Numbers: 6 6 6 1\n",
      "12:04:22 INFO torsionFit: Not a new_tor but now with end atoms: 9 1\n",
      "12:04:22 INFO torsionFit: Idxs: 5 6 3 2\n",
      "12:04:22 INFO torsionFit: Atom Numbers: 1 6 6 1\n",
      "12:04:22 INFO torsionFit: Not a new_tor but now with end atoms: 5 2\n",
      "12:04:22 INFO torsionFit: Idxs: 4 6 3 0\n",
      "12:04:22 INFO torsionFit: Atom Numbers: 1 6 6 1\n",
      "12:04:22 INFO torsionFit: Not a new_tor but now with end atoms: 4 0\n",
      "12:04:22 INFO torsionFit: Idxs: 4 6 3 1\n",
      "12:04:22 INFO torsionFit: Atom Numbers: 1 6 6 1\n",
      "12:04:22 INFO torsionFit: Not a new_tor but now with end atoms: 4 1\n",
      "12:04:22 INFO torsionFit: Idxs: 4 6 3 2\n",
      "12:04:22 INFO torsionFit: Atom Numbers: 1 6 6 1\n",
      "12:04:22 INFO torsionFit: Not a new_tor but now with end atoms: 4 2\n",
      "12:04:22 INFO torsionFit: Idxs: 9 6 3 0\n",
      "12:04:22 INFO torsionFit: Atom Numbers: 6 6 6 1\n",
      "12:04:22 INFO torsionFit: Not a new_tor but now with end atoms: 9 0\n",
      "12:04:22 INFO torsionFit: Idxs: 7 9 6 3\n",
      "12:04:22 INFO torsionFit: Atom Numbers: 1 6 6 6\n",
      "12:04:22 INFO torsionFit: Adding to list: 9 6 3 2\n",
      "12:04:22 INFO torsionFit: new_tor with central bond across atoms: 9 6\n",
      "12:04:22 INFO torsionFit: Idxs: 8 9 6 3\n",
      "12:04:22 INFO torsionFit: Atom Numbers: 1 6 6 6\n",
      "12:04:22 INFO torsionFit: Not a new_tor but now with end atoms: 8 3\n",
      "12:04:22 INFO torsionFit: Idxs: 7 9 6 5\n",
      "12:04:22 INFO torsionFit: Atom Numbers: 1 6 6 1\n",
      "12:04:22 INFO torsionFit: Not a new_tor but now with end atoms: 7 5\n",
      "12:04:22 INFO torsionFit: Idxs: 8 9 6 5\n",
      "12:04:22 INFO torsionFit: Atom Numbers: 1 6 6 1\n",
      "12:04:22 INFO torsionFit: Not a new_tor but now with end atoms: 8 5\n",
      "12:04:22 INFO torsionFit: Idxs: 8 9 6 4\n",
      "12:04:22 INFO torsionFit: Atom Numbers: 1 6 6 1\n",
      "12:04:22 INFO torsionFit: Not a new_tor but now with end atoms: 8 4\n",
      "12:04:22 INFO torsionFit: Idxs: 13 9 6 3\n",
      "12:04:22 INFO torsionFit: Atom Numbers: 6 6 6 6\n",
      "12:04:22 INFO torsionFit: Not a new_tor but now with end atoms: 13 3\n",
      "12:04:22 INFO torsionFit: Idxs: 13 9 6 5\n",
      "12:04:22 INFO torsionFit: Atom Numbers: 6 6 6 1\n",
      "12:04:22 INFO torsionFit: Not a new_tor but now with end atoms: 13 5\n",
      "12:04:22 INFO torsionFit: Idxs: 7 9 6 4\n",
      "12:04:22 INFO torsionFit: Atom Numbers: 1 6 6 1\n",
      "12:04:22 INFO torsionFit: Not a new_tor but now with end atoms: 7 4\n",
      "12:04:22 INFO torsionFit: Idxs: 13 9 6 4\n",
      "12:04:22 INFO torsionFit: Atom Numbers: 6 6 6 1\n",
      "12:04:22 INFO torsionFit: Not a new_tor but now with end atoms: 13 4\n",
      "12:04:22 INFO torsionFit: Idxs: 6 9 13 12\n",
      "12:04:22 INFO torsionFit: Atom Numbers: 6 6 6 1\n",
      "12:04:22 INFO torsionFit: Adding to list: 13 9 6 3\n",
      "12:04:22 INFO torsionFit: new_tor with central bond across atoms: 9 13\n",
      "12:04:22 INFO torsionFit: Idxs: 6 9 13 10\n",
      "12:04:22 INFO torsionFit: Atom Numbers: 6 6 6 1\n",
      "12:04:22 INFO torsionFit: Not a new_tor but now with end atoms: 6 10\n",
      "12:04:22 INFO torsionFit: Idxs: 7 9 13 12\n",
      "12:04:22 INFO torsionFit: Atom Numbers: 1 6 6 1\n",
      "12:04:22 INFO torsionFit: Not a new_tor but now with end atoms: 7 12\n",
      "12:04:22 INFO torsionFit: Idxs: 7 9 13 10\n",
      "12:04:22 INFO torsionFit: Atom Numbers: 1 6 6 1\n",
      "12:04:22 INFO torsionFit: Not a new_tor but now with end atoms: 7 10\n",
      "12:04:22 INFO torsionFit: Idxs: 7 9 13 11\n",
      "12:04:22 INFO torsionFit: Atom Numbers: 1 6 6 1\n",
      "12:04:22 INFO torsionFit: Not a new_tor but now with end atoms: 7 11\n",
      "12:04:22 INFO torsionFit: Idxs: 8 9 13 12\n",
      "12:04:22 INFO torsionFit: Atom Numbers: 1 6 6 1\n",
      "12:04:22 INFO torsionFit: Not a new_tor but now with end atoms: 8 12\n",
      "12:04:22 INFO torsionFit: Idxs: 8 9 13 10\n",
      "12:04:22 INFO torsionFit: Atom Numbers: 1 6 6 1\n",
      "12:04:22 INFO torsionFit: Not a new_tor but now with end atoms: 8 10\n",
      "12:04:22 INFO torsionFit: Idxs: 8 9 13 11\n",
      "12:04:22 INFO torsionFit: Atom Numbers: 1 6 6 1\n",
      "12:04:22 INFO torsionFit: Not a new_tor but now with end atoms: 8 11\n",
      "12:04:22 INFO torsionFit: Idxs: 6 9 13 11\n",
      "12:04:22 INFO torsionFit: Atom Numbers: 6 6 6 1\n",
      "12:04:22 INFO torsionFit: Not a new_tor but now with end atoms: 6 11\n",
      "12:04:22 INFO torsionFit: Adding to list: 6 9 13 12\n",
      "12:04:22 INFO torsionFit: List of torsion to drive:\n",
      "12:04:22 INFO torsionFit: Idx: 9 6 3 2\n",
      "12:04:22 INFO torsionFit: Atom numbers: 6 6 6 1\n",
      "12:04:22 INFO torsionFit: Idx: 13 9 6 3\n",
      "12:04:22 INFO torsionFit: Atom numbers: 6 6 6 6\n",
      "12:04:22 INFO torsionFit: Idx: 6 9 13 12\n",
      "12:04:22 INFO torsionFit: Atom numbers: 6 6 6 1\n"
     ]
    }
   ],
   "source": [
    "# Find all rotatable bonds to drive\n",
    "torsion_scan.generate_torsions(structure, path, 10)"
   ]
  },
  {
   "cell_type": "code",
   "execution_count": 4,
   "metadata": {
    "collapsed": false
   },
   "outputs": [],
   "source": [
    "# Generate psi4 input files\n",
    "roots = glob('/Users/sternc1/src/ChayaSt/torsionfit_examples/butane/torsion_scans/open_eye/*/')\n",
    "for root in roots:\n",
    "    torsion_scan.generate_scan_input(root, filetype='pdb', mol_name='butane', method=['MP2'], basis_set=['aug-cc-pvtz'], \n",
    "                                    symmetry='C1', mem='1000 mb')"
   ]
  },
  {
   "cell_type": "code",
   "execution_count": null,
   "metadata": {
    "collapsed": true
   },
   "outputs": [],
   "source": []
  }
 ],
 "metadata": {
  "kernelspec": {
   "display_name": "Python 3",
   "language": "python",
   "name": "python3"
  },
  "language_info": {
   "codemirror_mode": {
    "name": "ipython",
    "version": 3
   },
   "file_extension": ".py",
   "mimetype": "text/x-python",
   "name": "python",
   "nbconvert_exporter": "python",
   "pygments_lexer": "ipython3",
   "version": "3.5.1"
  }
 },
 "nbformat": 4,
 "nbformat_minor": 0
}
