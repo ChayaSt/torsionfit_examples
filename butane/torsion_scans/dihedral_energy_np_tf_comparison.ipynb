{
 "cells": [
  {
   "cell_type": "markdown",
   "metadata": {},
   "source": [
    "## Compare torsion energies calculated with OpenMM, Numpy and Tensorflow"
   ]
  },
  {
   "cell_type": "code",
   "execution_count": 1,
   "metadata": {
    "collapsed": true
   },
   "outputs": [],
   "source": [
    "%matplotlib inline\n",
    "import matplotlib.pyplot as plt\n",
    "from torsionfit.database import qmdatabase as ScanSet\n",
    "import torsionfit.model as Model\n",
    "from torsionfit.backends import sqlite_plus\n",
    "from torsionfit import parameters\n",
    "from parmed.charmm import CharmmParameterSet, CharmmPsfFile\n",
    "import torsionfit.parameters as par\n",
    "import numpy as np\n",
    "from edward.models import Normal, Categorical, Uniform\n",
    "import tensorflow as tf\n",
    "from simtk import unit\n",
    "import copy\n",
    "import warnings"
   ]
  },
  {
   "cell_type": "markdown",
   "metadata": {},
   "source": [
    "Turn off all parameters besides the torsion energy"
   ]
  },
  {
   "cell_type": "code",
   "execution_count": 2,
   "metadata": {},
   "outputs": [],
   "source": [
    "param = CharmmParameterSet('../param/par_all36_cgenff.prm', '../param/top_all36_cgenff.rtf')\n",
    "scan = 'MP2_torsion_scan/'\n",
    "structure_no_charge = '../structure/butane_charge_off.psf'\n",
    "\n",
    "structure = CharmmPsfFile('../structure/butane_charge_off.psf')\n",
    "\n",
    "param_dih = par.turn_off_params(structure, param, bonds=True, angles=True, dihedral=False, urey_bradley=True, lj=True)"
   ]
  },
  {
   "cell_type": "code",
   "execution_count": 3,
   "metadata": {},
   "outputs": [
    {
     "name": "stdout",
     "output_type": "stream",
     "text": [
      "[Psi /Users/sternc1/src/ChayaSt/torsionfit_examples/butane/torsion_scans/MP2_torsion_scan/0/butane_0.out2 WARNING] In logfileparser.py, line 471, line not all dashes as expected: --------------------------------------------------------------------------------------------- ~\n",
      "[Psi /Users/sternc1/src/ChayaSt/torsionfit_examples/butane/torsion_scans/MP2_torsion_scan/10/butane_10.out2 WARNING] In logfileparser.py, line 471, line not all dashes as expected: --------------------------------------------------------------------------------------------- ~\n",
      "[Psi /Users/sternc1/src/ChayaSt/torsionfit_examples/butane/torsion_scans/MP2_torsion_scan/20/butane_20.out2 WARNING] In logfileparser.py, line 471, line not all dashes as expected: --------------------------------------------------------------------------------------------- ~\n"
     ]
    },
    {
     "name": "stderr",
     "output_type": "stream",
     "text": [
      "/Users/sternc1/anaconda/envs/tensorflow3/lib/python3.6/site-packages/torsionfit-0+untagged.587.gb3d558a.dirty-py3.6.egg/torsionfit/database/qmdatabase.py:190: UserWarning: Warning: Optimizer failed for /Users/sternc1/src/ChayaSt/torsionfit_examples/butane/torsion_scans/MP2_torsion_scan/10/butane_10.out2\n",
      "  warnings.warn(\"Warning: Optimizer failed for {}\".format(f))\n"
     ]
    },
    {
     "name": "stdout",
     "output_type": "stream",
     "text": [
      "[Psi /Users/sternc1/src/ChayaSt/torsionfit_examples/butane/torsion_scans/MP2_torsion_scan/30/butane_30.out2 WARNING] In logfileparser.py, line 471, line not all dashes as expected: --------------------------------------------------------------------------------------------- ~\n",
      "[Psi /Users/sternc1/src/ChayaSt/torsionfit_examples/butane/torsion_scans/MP2_torsion_scan/40/butane_40.out2 WARNING] In logfileparser.py, line 471, line not all dashes as expected: --------------------------------------------------------------------------------------------- ~\n",
      "[Psi /Users/sternc1/src/ChayaSt/torsionfit_examples/butane/torsion_scans/MP2_torsion_scan/50/butane_50.out2 WARNING] In logfileparser.py, line 471, line not all dashes as expected: --------------------------------------------------------------------------------------------- ~\n",
      "[Psi /Users/sternc1/src/ChayaSt/torsionfit_examples/butane/torsion_scans/MP2_torsion_scan/60/butane_60.out2 WARNING] In logfileparser.py, line 471, line not all dashes as expected: --------------------------------------------------------------------------------------------- ~\n",
      "[Psi /Users/sternc1/src/ChayaSt/torsionfit_examples/butane/torsion_scans/MP2_torsion_scan/70/butane_70.out2 WARNING] In logfileparser.py, line 471, line not all dashes as expected: --------------------------------------------------------------------------------------------- ~\n",
      "[Psi /Users/sternc1/src/ChayaSt/torsionfit_examples/butane/torsion_scans/MP2_torsion_scan/80/butane_80.out2 WARNING] In logfileparser.py, line 471, line not all dashes as expected: --------------------------------------------------------------------------------------------- ~\n",
      "[Psi /Users/sternc1/src/ChayaSt/torsionfit_examples/butane/torsion_scans/MP2_torsion_scan/90/butane_90.out2 WARNING] In logfileparser.py, line 471, line not all dashes as expected: --------------------------------------------------------------------------------------------- ~\n",
      "[Psi /Users/sternc1/src/ChayaSt/torsionfit_examples/butane/torsion_scans/MP2_torsion_scan/100/butane_100.out2 WARNING] In logfileparser.py, line 471, line not all dashes as expected: --------------------------------------------------------------------------------------------- ~\n",
      "[Psi /Users/sternc1/src/ChayaSt/torsionfit_examples/butane/torsion_scans/MP2_torsion_scan/110/butane_110.out2 WARNING] In logfileparser.py, line 471, line not all dashes as expected: --------------------------------------------------------------------------------------------- ~\n",
      "[Psi /Users/sternc1/src/ChayaSt/torsionfit_examples/butane/torsion_scans/MP2_torsion_scan/120/butane_120.out2 WARNING] In logfileparser.py, line 471, line not all dashes as expected: --------------------------------------------------------------------------------------------- ~\n",
      "[Psi /Users/sternc1/src/ChayaSt/torsionfit_examples/butane/torsion_scans/MP2_torsion_scan/130/butane_130.out2 WARNING] In logfileparser.py, line 471, line not all dashes as expected: --------------------------------------------------------------------------------------------- ~\n",
      "[Psi /Users/sternc1/src/ChayaSt/torsionfit_examples/butane/torsion_scans/MP2_torsion_scan/140/butane_140.out2 WARNING] In logfileparser.py, line 471, line not all dashes as expected: --------------------------------------------------------------------------------------------- ~\n",
      "[Psi /Users/sternc1/src/ChayaSt/torsionfit_examples/butane/torsion_scans/MP2_torsion_scan/150/butane_150.out2 WARNING] In logfileparser.py, line 471, line not all dashes as expected: --------------------------------------------------------------------------------------------- ~\n",
      "[Psi /Users/sternc1/src/ChayaSt/torsionfit_examples/butane/torsion_scans/MP2_torsion_scan/160/butane_160.out2 WARNING] In logfileparser.py, line 471, line not all dashes as expected: --------------------------------------------------------------------------------------------- ~\n",
      "[Psi /Users/sternc1/src/ChayaSt/torsionfit_examples/butane/torsion_scans/MP2_torsion_scan/170/butane_170.out2 WARNING] In logfileparser.py, line 471, line not all dashes as expected: --------------------------------------------------------------------------------------------- ~\n",
      "[Psi /Users/sternc1/src/ChayaSt/torsionfit_examples/butane/torsion_scans/MP2_torsion_scan/180/butane_180.out2 WARNING] In logfileparser.py, line 471, line not all dashes as expected: --------------------------------------------------------------------------------------------- ~\n",
      "[Psi /Users/sternc1/src/ChayaSt/torsionfit_examples/butane/torsion_scans/MP2_torsion_scan/190/butane_190.out2 WARNING] In logfileparser.py, line 471, line not all dashes as expected: --------------------------------------------------------------------------------------------- ~\n",
      "[Psi /Users/sternc1/src/ChayaSt/torsionfit_examples/butane/torsion_scans/MP2_torsion_scan/200/butane_200.out2 WARNING] In logfileparser.py, line 471, line not all dashes as expected: --------------------------------------------------------------------------------------------- ~\n",
      "[Psi /Users/sternc1/src/ChayaSt/torsionfit_examples/butane/torsion_scans/MP2_torsion_scan/210/butane_210.out2 WARNING] In logfileparser.py, line 471, line not all dashes as expected: --------------------------------------------------------------------------------------------- ~\n",
      "[Psi /Users/sternc1/src/ChayaSt/torsionfit_examples/butane/torsion_scans/MP2_torsion_scan/220/butane_220.out2 WARNING] In logfileparser.py, line 471, line not all dashes as expected: --------------------------------------------------------------------------------------------- ~\n",
      "[Psi /Users/sternc1/src/ChayaSt/torsionfit_examples/butane/torsion_scans/MP2_torsion_scan/230/butane_230.out2 WARNING] In logfileparser.py, line 471, line not all dashes as expected: --------------------------------------------------------------------------------------------- ~\n",
      "[Psi /Users/sternc1/src/ChayaSt/torsionfit_examples/butane/torsion_scans/MP2_torsion_scan/240/butane_240.out2 WARNING] In logfileparser.py, line 471, line not all dashes as expected: --------------------------------------------------------------------------------------------- ~\n",
      "[Psi /Users/sternc1/src/ChayaSt/torsionfit_examples/butane/torsion_scans/MP2_torsion_scan/250/butane_250.out2 WARNING] In logfileparser.py, line 471, line not all dashes as expected: --------------------------------------------------------------------------------------------- ~\n",
      "[Psi /Users/sternc1/src/ChayaSt/torsionfit_examples/butane/torsion_scans/MP2_torsion_scan/260/butane_260.out2 WARNING] In logfileparser.py, line 471, line not all dashes as expected: --------------------------------------------------------------------------------------------- ~\n",
      "[Psi /Users/sternc1/src/ChayaSt/torsionfit_examples/butane/torsion_scans/MP2_torsion_scan/270/butane_270.out2 WARNING] In logfileparser.py, line 471, line not all dashes as expected: --------------------------------------------------------------------------------------------- ~\n",
      "[Psi /Users/sternc1/src/ChayaSt/torsionfit_examples/butane/torsion_scans/MP2_torsion_scan/280/butane_280.out2 WARNING] In logfileparser.py, line 471, line not all dashes as expected: --------------------------------------------------------------------------------------------- ~\n",
      "[Psi /Users/sternc1/src/ChayaSt/torsionfit_examples/butane/torsion_scans/MP2_torsion_scan/290/butane_290.out2 WARNING] In logfileparser.py, line 471, line not all dashes as expected: --------------------------------------------------------------------------------------------- ~\n",
      "[Psi /Users/sternc1/src/ChayaSt/torsionfit_examples/butane/torsion_scans/MP2_torsion_scan/300/butane_300.out2 WARNING] In logfileparser.py, line 471, line not all dashes as expected: --------------------------------------------------------------------------------------------- ~\n",
      "[Psi /Users/sternc1/src/ChayaSt/torsionfit_examples/butane/torsion_scans/MP2_torsion_scan/310/butane_310.out2 WARNING] In logfileparser.py, line 471, line not all dashes as expected: --------------------------------------------------------------------------------------------- ~\n",
      "[Psi /Users/sternc1/src/ChayaSt/torsionfit_examples/butane/torsion_scans/MP2_torsion_scan/320/butane_320.out2 WARNING] In logfileparser.py, line 471, line not all dashes as expected: --------------------------------------------------------------------------------------------- ~\n"
     ]
    },
    {
     "name": "stdout",
     "output_type": "stream",
     "text": [
      "[Psi /Users/sternc1/src/ChayaSt/torsionfit_examples/butane/torsion_scans/MP2_torsion_scan/330/butane_330.out2 WARNING] In logfileparser.py, line 471, line not all dashes as expected: --------------------------------------------------------------------------------------------- ~\n",
      "[Psi /Users/sternc1/src/ChayaSt/torsionfit_examples/butane/torsion_scans/MP2_torsion_scan/340/butane_340.out2 WARNING] In logfileparser.py, line 471, line not all dashes as expected: --------------------------------------------------------------------------------------------- ~\n",
      "[Psi /Users/sternc1/src/ChayaSt/torsionfit_examples/butane/torsion_scans/MP2_torsion_scan/350/butane_350.out2 WARNING] In logfileparser.py, line 471, line not all dashes as expected: --------------------------------------------------------------------------------------------- ~\n",
      "[Psi /Users/sternc1/src/ChayaSt/torsionfit_examples/butane/torsion_scans/MP2_torsion_scan/360/butane_360.out2 WARNING] In logfileparser.py, line 471, line not all dashes as expected: --------------------------------------------------------------------------------------------- ~\n"
     ]
    }
   ],
   "source": [
    "no_charge = ScanSet.parse_psi4_out(scan, structure_no_charge, pattern='*.out2')\n",
    "scan_dih = no_charge.remove_nonoptimized()\n",
    "scan_dih.compute_energy(param_dih)"
   ]
  },
  {
   "cell_type": "code",
   "execution_count": 4,
   "metadata": {},
   "outputs": [],
   "source": [
    "# Now turn off only dihedrals to check if residuals match dihedral energy\n",
    "structure = '../structure/butane.psf'\n",
    "structure_charmm = CharmmPsfFile('../structure/butane.psf')\n",
    "param_no_dih = par.turn_off_params(structure_charmm, param, dihedral=True)"
   ]
  },
  {
   "cell_type": "code",
   "execution_count": 5,
   "metadata": {},
   "outputs": [
    {
     "name": "stdout",
     "output_type": "stream",
     "text": [
      "[Psi /Users/sternc1/src/ChayaSt/torsionfit_examples/butane/torsion_scans/MP2_torsion_scan/0/butane_0.out2 WARNING] In logfileparser.py, line 471, line not all dashes as expected: --------------------------------------------------------------------------------------------- ~\n",
      "[Psi /Users/sternc1/src/ChayaSt/torsionfit_examples/butane/torsion_scans/MP2_torsion_scan/10/butane_10.out2 WARNING] In logfileparser.py, line 471, line not all dashes as expected: --------------------------------------------------------------------------------------------- ~\n",
      "[Psi /Users/sternc1/src/ChayaSt/torsionfit_examples/butane/torsion_scans/MP2_torsion_scan/20/butane_20.out2 WARNING] In logfileparser.py, line 471, line not all dashes as expected: --------------------------------------------------------------------------------------------- ~\n"
     ]
    },
    {
     "name": "stderr",
     "output_type": "stream",
     "text": [
      "/Users/sternc1/anaconda/envs/tensorflow3/lib/python3.6/site-packages/torsionfit-0+untagged.587.gb3d558a.dirty-py3.6.egg/torsionfit/database/qmdatabase.py:190: UserWarning: Warning: Optimizer failed for /Users/sternc1/src/ChayaSt/torsionfit_examples/butane/torsion_scans/MP2_torsion_scan/10/butane_10.out2\n",
      "  warnings.warn(\"Warning: Optimizer failed for {}\".format(f))\n"
     ]
    },
    {
     "name": "stdout",
     "output_type": "stream",
     "text": [
      "[Psi /Users/sternc1/src/ChayaSt/torsionfit_examples/butane/torsion_scans/MP2_torsion_scan/30/butane_30.out2 WARNING] In logfileparser.py, line 471, line not all dashes as expected: --------------------------------------------------------------------------------------------- ~\n",
      "[Psi /Users/sternc1/src/ChayaSt/torsionfit_examples/butane/torsion_scans/MP2_torsion_scan/40/butane_40.out2 WARNING] In logfileparser.py, line 471, line not all dashes as expected: --------------------------------------------------------------------------------------------- ~\n",
      "[Psi /Users/sternc1/src/ChayaSt/torsionfit_examples/butane/torsion_scans/MP2_torsion_scan/50/butane_50.out2 WARNING] In logfileparser.py, line 471, line not all dashes as expected: --------------------------------------------------------------------------------------------- ~\n",
      "[Psi /Users/sternc1/src/ChayaSt/torsionfit_examples/butane/torsion_scans/MP2_torsion_scan/60/butane_60.out2 WARNING] In logfileparser.py, line 471, line not all dashes as expected: --------------------------------------------------------------------------------------------- ~\n",
      "[Psi /Users/sternc1/src/ChayaSt/torsionfit_examples/butane/torsion_scans/MP2_torsion_scan/70/butane_70.out2 WARNING] In logfileparser.py, line 471, line not all dashes as expected: --------------------------------------------------------------------------------------------- ~\n",
      "[Psi /Users/sternc1/src/ChayaSt/torsionfit_examples/butane/torsion_scans/MP2_torsion_scan/80/butane_80.out2 WARNING] In logfileparser.py, line 471, line not all dashes as expected: --------------------------------------------------------------------------------------------- ~\n",
      "[Psi /Users/sternc1/src/ChayaSt/torsionfit_examples/butane/torsion_scans/MP2_torsion_scan/90/butane_90.out2 WARNING] In logfileparser.py, line 471, line not all dashes as expected: --------------------------------------------------------------------------------------------- ~\n",
      "[Psi /Users/sternc1/src/ChayaSt/torsionfit_examples/butane/torsion_scans/MP2_torsion_scan/100/butane_100.out2 WARNING] In logfileparser.py, line 471, line not all dashes as expected: --------------------------------------------------------------------------------------------- ~\n",
      "[Psi /Users/sternc1/src/ChayaSt/torsionfit_examples/butane/torsion_scans/MP2_torsion_scan/110/butane_110.out2 WARNING] In logfileparser.py, line 471, line not all dashes as expected: --------------------------------------------------------------------------------------------- ~\n",
      "[Psi /Users/sternc1/src/ChayaSt/torsionfit_examples/butane/torsion_scans/MP2_torsion_scan/120/butane_120.out2 WARNING] In logfileparser.py, line 471, line not all dashes as expected: --------------------------------------------------------------------------------------------- ~\n",
      "[Psi /Users/sternc1/src/ChayaSt/torsionfit_examples/butane/torsion_scans/MP2_torsion_scan/130/butane_130.out2 WARNING] In logfileparser.py, line 471, line not all dashes as expected: --------------------------------------------------------------------------------------------- ~\n",
      "[Psi /Users/sternc1/src/ChayaSt/torsionfit_examples/butane/torsion_scans/MP2_torsion_scan/140/butane_140.out2 WARNING] In logfileparser.py, line 471, line not all dashes as expected: --------------------------------------------------------------------------------------------- ~\n",
      "[Psi /Users/sternc1/src/ChayaSt/torsionfit_examples/butane/torsion_scans/MP2_torsion_scan/150/butane_150.out2 WARNING] In logfileparser.py, line 471, line not all dashes as expected: --------------------------------------------------------------------------------------------- ~\n",
      "[Psi /Users/sternc1/src/ChayaSt/torsionfit_examples/butane/torsion_scans/MP2_torsion_scan/160/butane_160.out2 WARNING] In logfileparser.py, line 471, line not all dashes as expected: --------------------------------------------------------------------------------------------- ~\n",
      "[Psi /Users/sternc1/src/ChayaSt/torsionfit_examples/butane/torsion_scans/MP2_torsion_scan/170/butane_170.out2 WARNING] In logfileparser.py, line 471, line not all dashes as expected: --------------------------------------------------------------------------------------------- ~\n",
      "[Psi /Users/sternc1/src/ChayaSt/torsionfit_examples/butane/torsion_scans/MP2_torsion_scan/180/butane_180.out2 WARNING] In logfileparser.py, line 471, line not all dashes as expected: --------------------------------------------------------------------------------------------- ~\n",
      "[Psi /Users/sternc1/src/ChayaSt/torsionfit_examples/butane/torsion_scans/MP2_torsion_scan/190/butane_190.out2 WARNING] In logfileparser.py, line 471, line not all dashes as expected: --------------------------------------------------------------------------------------------- ~\n",
      "[Psi /Users/sternc1/src/ChayaSt/torsionfit_examples/butane/torsion_scans/MP2_torsion_scan/200/butane_200.out2 WARNING] In logfileparser.py, line 471, line not all dashes as expected: --------------------------------------------------------------------------------------------- ~\n",
      "[Psi /Users/sternc1/src/ChayaSt/torsionfit_examples/butane/torsion_scans/MP2_torsion_scan/210/butane_210.out2 WARNING] In logfileparser.py, line 471, line not all dashes as expected: --------------------------------------------------------------------------------------------- ~\n",
      "[Psi /Users/sternc1/src/ChayaSt/torsionfit_examples/butane/torsion_scans/MP2_torsion_scan/220/butane_220.out2 WARNING] In logfileparser.py, line 471, line not all dashes as expected: --------------------------------------------------------------------------------------------- ~\n",
      "[Psi /Users/sternc1/src/ChayaSt/torsionfit_examples/butane/torsion_scans/MP2_torsion_scan/230/butane_230.out2 WARNING] In logfileparser.py, line 471, line not all dashes as expected: --------------------------------------------------------------------------------------------- ~\n",
      "[Psi /Users/sternc1/src/ChayaSt/torsionfit_examples/butane/torsion_scans/MP2_torsion_scan/240/butane_240.out2 WARNING] In logfileparser.py, line 471, line not all dashes as expected: --------------------------------------------------------------------------------------------- ~\n",
      "[Psi /Users/sternc1/src/ChayaSt/torsionfit_examples/butane/torsion_scans/MP2_torsion_scan/250/butane_250.out2 WARNING] In logfileparser.py, line 471, line not all dashes as expected: --------------------------------------------------------------------------------------------- ~\n",
      "[Psi /Users/sternc1/src/ChayaSt/torsionfit_examples/butane/torsion_scans/MP2_torsion_scan/260/butane_260.out2 WARNING] In logfileparser.py, line 471, line not all dashes as expected: --------------------------------------------------------------------------------------------- ~\n",
      "[Psi /Users/sternc1/src/ChayaSt/torsionfit_examples/butane/torsion_scans/MP2_torsion_scan/270/butane_270.out2 WARNING] In logfileparser.py, line 471, line not all dashes as expected: --------------------------------------------------------------------------------------------- ~\n",
      "[Psi /Users/sternc1/src/ChayaSt/torsionfit_examples/butane/torsion_scans/MP2_torsion_scan/280/butane_280.out2 WARNING] In logfileparser.py, line 471, line not all dashes as expected: --------------------------------------------------------------------------------------------- ~\n",
      "[Psi /Users/sternc1/src/ChayaSt/torsionfit_examples/butane/torsion_scans/MP2_torsion_scan/290/butane_290.out2 WARNING] In logfileparser.py, line 471, line not all dashes as expected: --------------------------------------------------------------------------------------------- ~\n",
      "[Psi /Users/sternc1/src/ChayaSt/torsionfit_examples/butane/torsion_scans/MP2_torsion_scan/300/butane_300.out2 WARNING] In logfileparser.py, line 471, line not all dashes as expected: --------------------------------------------------------------------------------------------- ~\n",
      "[Psi /Users/sternc1/src/ChayaSt/torsionfit_examples/butane/torsion_scans/MP2_torsion_scan/310/butane_310.out2 WARNING] In logfileparser.py, line 471, line not all dashes as expected: --------------------------------------------------------------------------------------------- ~\n",
      "[Psi /Users/sternc1/src/ChayaSt/torsionfit_examples/butane/torsion_scans/MP2_torsion_scan/320/butane_320.out2 WARNING] In logfileparser.py, line 471, line not all dashes as expected: --------------------------------------------------------------------------------------------- ~\n"
     ]
    },
    {
     "name": "stdout",
     "output_type": "stream",
     "text": [
      "[Psi /Users/sternc1/src/ChayaSt/torsionfit_examples/butane/torsion_scans/MP2_torsion_scan/330/butane_330.out2 WARNING] In logfileparser.py, line 471, line not all dashes as expected: --------------------------------------------------------------------------------------------- ~\n",
      "[Psi /Users/sternc1/src/ChayaSt/torsionfit_examples/butane/torsion_scans/MP2_torsion_scan/340/butane_340.out2 WARNING] In logfileparser.py, line 471, line not all dashes as expected: --------------------------------------------------------------------------------------------- ~\n",
      "[Psi /Users/sternc1/src/ChayaSt/torsionfit_examples/butane/torsion_scans/MP2_torsion_scan/350/butane_350.out2 WARNING] In logfileparser.py, line 471, line not all dashes as expected: --------------------------------------------------------------------------------------------- ~\n",
      "[Psi /Users/sternc1/src/ChayaSt/torsionfit_examples/butane/torsion_scans/MP2_torsion_scan/360/butane_360.out2 WARNING] In logfileparser.py, line 471, line not all dashes as expected: --------------------------------------------------------------------------------------------- ~\n"
     ]
    }
   ],
   "source": [
    "scan_no_dih = ScanSet.parse_psi4_out(scan, structure, pattern='*.out2')\n",
    "scan_no_dih = scan_no_dih.remove_nonoptimized()\n",
    "scan_no_dih.compute_energy(param_no_dih)"
   ]
  },
  {
   "cell_type": "code",
   "execution_count": 6,
   "metadata": {},
   "outputs": [
    {
     "data": {
      "image/png": "[encoded data removed]",
      "text/plain": [
       "<matplotlib.figure.Figure at 0x12f0d1cf8>"
      ]
     },
     "metadata": {},
     "output_type": "display_data"
    }
   ],
   "source": [
    "plt.plot(scan_dih.angles, scan_dih.mm_energy, 'o', color='red', label='dihedral energy')\n",
    "plt.plot(scan_dih.angles, scan_dih.mm_energy, color='red')\n",
    "plt.plot(scan_dih.angles, scan_no_dih.mm_energy, 'o', color='green', label='No dihedral energy')\n",
    "plt.plot(scan_dih.angles, scan_no_dih.mm_energy, color='green')\n",
    "plt.plot(scan_dih.angles, scan_no_dih.delta_energy, 'o', color='blue', label='residual')\n",
    "plt.plot(scan_dih.angles, scan_no_dih.delta_energy, color='blue')\n",
    "plt.legend()\n",
    "plt.xlabel('Dihedral angles (degrees)')\n",
    "plt.ylabel('Relative Energy (kJ/mol)')\n",
    "plt.title('Dihedral Energy');\n",
    "plt.savefig('dihedral_res_energy.pdf')"
   ]
  },
  {
   "cell_type": "code",
   "execution_count": 7,
   "metadata": {
    "collapsed": true
   },
   "outputs": [],
   "source": [
    "# Tensorflow interactive session\n",
    "tf.InteractiveSession()\n",
    "scan_dih.build_phis()\n",
    "to_optimize = list(scan_dih.phis.keys())"
   ]
  },
  {
   "cell_type": "code",
   "execution_count": 8,
   "metadata": {
    "collapsed": true
   },
   "outputs": [],
   "source": [
    "# time and Test Tensorflow Fourier sum vs numpy\n",
    "\n",
    "# Numpy\n",
    "length = 0\n",
    "to_optimize = list(scan_dih.phis.keys())\n",
    "K_np = np.zeros((len(scan_dih.phis), 6))\n",
    "n_np = np.array([1., 2., 3., 4., 5., 6.])\n",
    "for i, t in enumerate(to_optimize):\n",
    "    dih_param = param_dih.dihedral_types[t]\n",
    "    for k in dih_param:\n",
    "        m = k.per\n",
    "        K_np[i][m-1] = k.phi_k*4.184\n",
    "        if k.phase == 180.0:\n",
    "            K_np[i][m-1] = -k.phi_k*4.184\n",
    "    if scan_dih.phis[t].shape[-1] > length:\n",
    "        length = scan_dih.phis[t].shape[-1]\n",
    "\n",
    "K_tf = tf.constant(K_np, dtype=tf.float32, shape=(1, 5, 6))\n",
    "\n",
    "n_np = np.array([1., 2., 3., 4., 5., 6.])\n",
    "n_tf = tf.constant(n_np, dtype=tf.float32)\n",
    "\n",
    "# phis for tf\n",
    "phis = {}\n",
    "for t in to_optimize:\n",
    "    phis[t] = tf.constant(scan_dih.phis[t], shape=(36, scan_dih.phis[t].shape[-1], 1), dtype=tf.float32)\n"
   ]
  },
  {
   "cell_type": "code",
   "execution_count": 9,
   "metadata": {},
   "outputs": [],
   "source": [
    "# Precalculate 1+cos(n*phi)\n",
    "phis_np = np.zeros((36, 6, 5))\n",
    "phis_np_dict = {}\n",
    "phis_tf_dict = {}\n",
    "for i, t in enumerate(to_optimize):\n",
    "    phis_np[:, :, i] = (1+np.cos(scan_dih.phis[t][:, np.newaxis]*n_np[:, np.newaxis])).sum(-1)\n",
    "    phis_np_dict[t] = phis_np[:, :, i]\n",
    "    phis_tf_dict[t] = tf.constant(phis_np[:, :, i], tf.float32)\n",
    "phis_tf = tf.constant(phis_np, dtype=tf.float32)  "
   ]
  },
  {
   "cell_type": "code",
   "execution_count": 10,
   "metadata": {},
   "outputs": [
    {
     "name": "stdout",
     "output_type": "stream",
     "text": [
      "CPU times: user 151 µs, sys: 42 µs, total: 193 µs\n",
      "Wall time: 133 µs\n"
     ]
    }
   ],
   "source": [
    "%%time\n",
    "# numpy dot product and trace\n",
    "np_dot_trace = (phis_np.dot(K_np)).trace(axis1=1, axis2=2)"
   ]
  },
  {
   "cell_type": "code",
   "execution_count": 11,
   "metadata": {
    "collapsed": true
   },
   "outputs": [],
   "source": [
    "K_np_t = K_np.transpose()"
   ]
  },
  {
   "cell_type": "code",
   "execution_count": 12,
   "metadata": {},
   "outputs": [
    {
     "name": "stdout",
     "output_type": "stream",
     "text": [
      "CPU times: user 395 µs, sys: 165 µs, total: 560 µs\n",
      "Wall time: 411 µs\n"
     ]
    }
   ],
   "source": [
    "%%time\n",
    "# numpy element-wise product and sum\n",
    "np_elem_sum = (K_np_t[np.newaxis, :,:]*phis_np).sum(1).sum(1)"
   ]
  },
  {
   "cell_type": "code",
   "execution_count": 14,
   "metadata": {},
   "outputs": [
    {
     "name": "stdout",
     "output_type": "stream",
     "text": [
      "CPU times: user 136 µs, sys: 2 µs, total: 138 µs\n",
      "Wall time: 143 µs\n"
     ]
    }
   ],
   "source": [
    "%%time\n",
    "# Calculate Fourier sum numpy via looping through dihedral types\n",
    "Fourier_sum_np_pre = np.zeros((36))\n",
    "for i, t in enumerate(to_optimize):\n",
    "    Fourier_sum_np_pre +=(K_np[i, :]*phis_np_dict[t]).sum(1)\n"
   ]
  },
  {
   "cell_type": "code",
   "execution_count": 15,
   "metadata": {},
   "outputs": [
    {
     "name": "stdout",
     "output_type": "stream",
     "text": [
      "CPU times: user 1.12 ms, sys: 761 µs, total: 1.88 ms\n",
      "Wall time: 1.1 ms\n"
     ]
    }
   ],
   "source": [
    "%%time\n",
    "# Calculate Fourier sum numpy without precalculating cos\n",
    "Fourier_sum_np = np.zeros((36))\n",
    "for i, t in enumerate(to_optimize):\n",
    "    Fourier_sum_np +=(K_np_t[:, i][:, np.newaxis]*(1+np.cos((scan_dih.phis[t][:, np.newaxis]*n_np[:, np.newaxis])))).sum(1).sum(1)"
   ]
  },
  {
   "cell_type": "code",
   "execution_count": 23,
   "metadata": {
    "collapsed": true
   },
   "outputs": [],
   "source": [
    "# Transpose K_tf\n",
    "K_tf_t = tf.constant(K_np_t, dtype=tf.float32)\n"
   ]
  },
  {
   "cell_type": "code",
   "execution_count": 17,
   "metadata": {},
   "outputs": [
    {
     "name": "stdout",
     "output_type": "stream",
     "text": [
      "CPU times: user 142 ms, sys: 2.86 ms, total: 144 ms\n",
      "Wall time: 143 ms\n"
     ]
    }
   ],
   "source": [
    "%%time\n",
    "# Calculate Fourier sum tensorflow without precalculating cos\n",
    "Fourier_sum_tf = tf.Variable(tf.zeros([36]))\n",
    "tf.global_variables_initializer().run()\n",
    "for i, t in enumerate(to_optimize):\n",
    "    energy = tf.reduce_sum(tf.reduce_sum(K_tf[:,i]*(1+tf.cos(phis[t]*n_tf)), axis=1), axis=1)\n",
    "    Fourier_sum_tf = tf.assign_add(ref=Fourier_sum_tf, value=energy, use_locking=True)"
   ]
  },
  {
   "cell_type": "code",
   "execution_count": 19,
   "metadata": {},
   "outputs": [
    {
     "name": "stdout",
     "output_type": "stream",
     "text": [
      "CPU times: user 87.3 ms, sys: 2.18 ms, total: 89.5 ms\n",
      "Wall time: 88.2 ms\n"
     ]
    }
   ],
   "source": [
    "%%time\n",
    "# Calculate Fourier sum tensorflow, precalculate cos\n",
    "Fourier_sum_tf_pre = tf.Variable(tf.zeros([36]))\n",
    "tf.global_variables_initializer().run()\n",
    "energies = []\n",
    "for i, t in enumerate(to_optimize):\n",
    "    energy = (tf.reduce_sum(K_tf[:,i]*phis_tf_dict[t], axis=1))\n",
    "    Fourier_sum_tf_pre = tf.assign_add(ref=Fourier_sum_tf_pre, value=energy, use_locking=True)"
   ]
  },
  {
   "cell_type": "code",
   "execution_count": 21,
   "metadata": {},
   "outputs": [
    {
     "ename": "ValueError",
     "evalue": "Dimension 0 in both shapes must be equal, but are 36 and 1 for 'MatMul' (op: 'BatchMatMul') with input shapes: [36,6,5], [1,5,6].",
     "output_type": "error",
     "traceback": [
      "\u001b[0;31m---------------------------------------------------------------------------\u001b[0m",
      "\u001b[0;31mInvalidArgumentError\u001b[0m                      Traceback (most recent call last)",
      "\u001b[0;32m/Users/sternc1/anaconda/envs/tensorflow3/lib/python3.6/site-packages/tensorflow/python/framework/common_shapes.py\u001b[0m in \u001b[0;36m_call_cpp_shape_fn_impl\u001b[0;34m(op, input_tensors_needed, input_tensors_as_shapes_needed, require_shape_fn)\u001b[0m\n\u001b[1;32m    653\u001b[0m           \u001b[0mgraph_def_version\u001b[0m\u001b[0;34m,\u001b[0m \u001b[0mnode_def_str\u001b[0m\u001b[0;34m,\u001b[0m \u001b[0minput_shapes\u001b[0m\u001b[0;34m,\u001b[0m \u001b[0minput_tensors\u001b[0m\u001b[0;34m,\u001b[0m\u001b[0;34m\u001b[0m\u001b[0m\n\u001b[0;32m--> 654\u001b[0;31m           input_tensors_as_shapes, status)\n\u001b[0m\u001b[1;32m    655\u001b[0m   \u001b[0;32mexcept\u001b[0m \u001b[0merrors\u001b[0m\u001b[0;34m.\u001b[0m\u001b[0mInvalidArgumentError\u001b[0m \u001b[0;32mas\u001b[0m \u001b[0merr\u001b[0m\u001b[0;34m:\u001b[0m\u001b[0;34m\u001b[0m\u001b[0m\n",
      "\u001b[0;32m/Users/sternc1/anaconda/envs/tensorflow3/lib/python3.6/contextlib.py\u001b[0m in \u001b[0;36m__exit__\u001b[0;34m(self, type, value, traceback)\u001b[0m\n\u001b[1;32m     88\u001b[0m             \u001b[0;32mtry\u001b[0m\u001b[0;34m:\u001b[0m\u001b[0;34m\u001b[0m\u001b[0m\n\u001b[0;32m---> 89\u001b[0;31m                 \u001b[0mnext\u001b[0m\u001b[0;34m(\u001b[0m\u001b[0mself\u001b[0m\u001b[0;34m.\u001b[0m\u001b[0mgen\u001b[0m\u001b[0;34m)\u001b[0m\u001b[0;34m\u001b[0m\u001b[0m\n\u001b[0m\u001b[1;32m     90\u001b[0m             \u001b[0;32mexcept\u001b[0m \u001b[0mStopIteration\u001b[0m\u001b[0;34m:\u001b[0m\u001b[0;34m\u001b[0m\u001b[0m\n",
      "\u001b[0;32m/Users/sternc1/anaconda/envs/tensorflow3/lib/python3.6/site-packages/tensorflow/python/framework/errors_impl.py\u001b[0m in \u001b[0;36mraise_exception_on_not_ok_status\u001b[0;34m()\u001b[0m\n\u001b[1;32m    465\u001b[0m           \u001b[0mcompat\u001b[0m\u001b[0;34m.\u001b[0m\u001b[0mas_text\u001b[0m\u001b[0;34m(\u001b[0m\u001b[0mpywrap_tensorflow\u001b[0m\u001b[0;34m.\u001b[0m\u001b[0mTF_Message\u001b[0m\u001b[0;34m(\u001b[0m\u001b[0mstatus\u001b[0m\u001b[0;34m)\u001b[0m\u001b[0;34m)\u001b[0m\u001b[0;34m,\u001b[0m\u001b[0;34m\u001b[0m\u001b[0m\n\u001b[0;32m--> 466\u001b[0;31m           pywrap_tensorflow.TF_GetCode(status))\n\u001b[0m\u001b[1;32m    467\u001b[0m   \u001b[0;32mfinally\u001b[0m\u001b[0;34m:\u001b[0m\u001b[0;34m\u001b[0m\u001b[0m\n",
      "\u001b[0;31mInvalidArgumentError\u001b[0m: Dimension 0 in both shapes must be equal, but are 36 and 1 for 'MatMul' (op: 'BatchMatMul') with input shapes: [36,6,5], [1,5,6].",
      "\nDuring handling of the above exception, another exception occurred:\n",
      "\u001b[0;31mValueError\u001b[0m                                Traceback (most recent call last)",
      "\u001b[0;32m<ipython-input-21-e0777f871e51>\u001b[0m in \u001b[0;36m<module>\u001b[0;34m()\u001b[0m\n\u001b[0;32m----> 1\u001b[0;31m \u001b[0mget_ipython\u001b[0m\u001b[0;34m(\u001b[0m\u001b[0;34m)\u001b[0m\u001b[0;34m.\u001b[0m\u001b[0mrun_cell_magic\u001b[0m\u001b[0;34m(\u001b[0m\u001b[0;34m'time'\u001b[0m\u001b[0;34m,\u001b[0m \u001b[0;34m''\u001b[0m\u001b[0;34m,\u001b[0m \u001b[0;34m'# Calculate Fourier sum tensorflow\\nFourier_sum_tf = tf.trace(tf.matmul(phis_tf, K_tf))'\u001b[0m\u001b[0;34m)\u001b[0m\u001b[0;34m\u001b[0m\u001b[0m\n\u001b[0m",
      "\u001b[0;32m/Users/sternc1/anaconda/envs/tensorflow3/lib/python3.6/site-packages/IPython/core/interactiveshell.py\u001b[0m in \u001b[0;36mrun_cell_magic\u001b[0;34m(self, magic_name, line, cell)\u001b[0m\n\u001b[1;32m   2113\u001b[0m             \u001b[0mmagic_arg_s\u001b[0m \u001b[0;34m=\u001b[0m \u001b[0mself\u001b[0m\u001b[0;34m.\u001b[0m\u001b[0mvar_expand\u001b[0m\u001b[0;34m(\u001b[0m\u001b[0mline\u001b[0m\u001b[0;34m,\u001b[0m \u001b[0mstack_depth\u001b[0m\u001b[0;34m)\u001b[0m\u001b[0;34m\u001b[0m\u001b[0m\n\u001b[1;32m   2114\u001b[0m             \u001b[0;32mwith\u001b[0m \u001b[0mself\u001b[0m\u001b[0;34m.\u001b[0m\u001b[0mbuiltin_trap\u001b[0m\u001b[0;34m:\u001b[0m\u001b[0;34m\u001b[0m\u001b[0m\n\u001b[0;32m-> 2115\u001b[0;31m                 \u001b[0mresult\u001b[0m \u001b[0;34m=\u001b[0m \u001b[0mfn\u001b[0m\u001b[0;34m(\u001b[0m\u001b[0mmagic_arg_s\u001b[0m\u001b[0;34m,\u001b[0m \u001b[0mcell\u001b[0m\u001b[0;34m)\u001b[0m\u001b[0;34m\u001b[0m\u001b[0m\n\u001b[0m\u001b[1;32m   2116\u001b[0m             \u001b[0;32mreturn\u001b[0m \u001b[0mresult\u001b[0m\u001b[0;34m\u001b[0m\u001b[0m\n\u001b[1;32m   2117\u001b[0m \u001b[0;34m\u001b[0m\u001b[0m\n",
      "\u001b[0;32m<decorator-gen-59>\u001b[0m in \u001b[0;36mtime\u001b[0;34m(self, line, cell, local_ns)\u001b[0m\n",
      "\u001b[0;32m/Users/sternc1/anaconda/envs/tensorflow3/lib/python3.6/site-packages/IPython/core/magic.py\u001b[0m in \u001b[0;36m<lambda>\u001b[0;34m(f, *a, **k)\u001b[0m\n\u001b[1;32m    186\u001b[0m     \u001b[0;31m# but it's overkill for just that one bit of state.\u001b[0m\u001b[0;34m\u001b[0m\u001b[0;34m\u001b[0m\u001b[0m\n\u001b[1;32m    187\u001b[0m     \u001b[0;32mdef\u001b[0m \u001b[0mmagic_deco\u001b[0m\u001b[0;34m(\u001b[0m\u001b[0marg\u001b[0m\u001b[0;34m)\u001b[0m\u001b[0;34m:\u001b[0m\u001b[0;34m\u001b[0m\u001b[0m\n\u001b[0;32m--> 188\u001b[0;31m         \u001b[0mcall\u001b[0m \u001b[0;34m=\u001b[0m \u001b[0;32mlambda\u001b[0m \u001b[0mf\u001b[0m\u001b[0;34m,\u001b[0m \u001b[0;34m*\u001b[0m\u001b[0ma\u001b[0m\u001b[0;34m,\u001b[0m \u001b[0;34m**\u001b[0m\u001b[0mk\u001b[0m\u001b[0;34m:\u001b[0m \u001b[0mf\u001b[0m\u001b[0;34m(\u001b[0m\u001b[0;34m*\u001b[0m\u001b[0ma\u001b[0m\u001b[0;34m,\u001b[0m \u001b[0;34m**\u001b[0m\u001b[0mk\u001b[0m\u001b[0;34m)\u001b[0m\u001b[0;34m\u001b[0m\u001b[0m\n\u001b[0m\u001b[1;32m    189\u001b[0m \u001b[0;34m\u001b[0m\u001b[0m\n\u001b[1;32m    190\u001b[0m         \u001b[0;32mif\u001b[0m \u001b[0mcallable\u001b[0m\u001b[0;34m(\u001b[0m\u001b[0marg\u001b[0m\u001b[0;34m)\u001b[0m\u001b[0;34m:\u001b[0m\u001b[0;34m\u001b[0m\u001b[0m\n",
      "\u001b[0;32m/Users/sternc1/anaconda/envs/tensorflow3/lib/python3.6/site-packages/IPython/core/magics/execution.py\u001b[0m in \u001b[0;36mtime\u001b[0;34m(self, line, cell, local_ns)\u001b[0m\n\u001b[1;32m   1183\u001b[0m         \u001b[0;32melse\u001b[0m\u001b[0;34m:\u001b[0m\u001b[0;34m\u001b[0m\u001b[0m\n\u001b[1;32m   1184\u001b[0m             \u001b[0mst\u001b[0m \u001b[0;34m=\u001b[0m \u001b[0mclock2\u001b[0m\u001b[0;34m(\u001b[0m\u001b[0;34m)\u001b[0m\u001b[0;34m\u001b[0m\u001b[0m\n\u001b[0;32m-> 1185\u001b[0;31m             \u001b[0mexec\u001b[0m\u001b[0;34m(\u001b[0m\u001b[0mcode\u001b[0m\u001b[0;34m,\u001b[0m \u001b[0mglob\u001b[0m\u001b[0;34m,\u001b[0m \u001b[0mlocal_ns\u001b[0m\u001b[0;34m)\u001b[0m\u001b[0;34m\u001b[0m\u001b[0m\n\u001b[0m\u001b[1;32m   1186\u001b[0m             \u001b[0mend\u001b[0m \u001b[0;34m=\u001b[0m \u001b[0mclock2\u001b[0m\u001b[0;34m(\u001b[0m\u001b[0;34m)\u001b[0m\u001b[0;34m\u001b[0m\u001b[0m\n\u001b[1;32m   1187\u001b[0m             \u001b[0mout\u001b[0m \u001b[0;34m=\u001b[0m \u001b[0;32mNone\u001b[0m\u001b[0;34m\u001b[0m\u001b[0m\n",
      "\u001b[0;32m<timed exec>\u001b[0m in \u001b[0;36m<module>\u001b[0;34m()\u001b[0m\n",
      "\u001b[0;32m/Users/sternc1/anaconda/envs/tensorflow3/lib/python3.6/site-packages/tensorflow/python/ops/math_ops.py\u001b[0m in \u001b[0;36mmatmul\u001b[0;34m(a, b, transpose_a, transpose_b, adjoint_a, adjoint_b, a_is_sparse, b_is_sparse, name)\u001b[0m\n\u001b[1;32m   1812\u001b[0m         \u001b[0madjoint_b\u001b[0m \u001b[0;34m=\u001b[0m \u001b[0;32mTrue\u001b[0m\u001b[0;34m\u001b[0m\u001b[0m\n\u001b[1;32m   1813\u001b[0m       return gen_math_ops._batch_mat_mul(\n\u001b[0;32m-> 1814\u001b[0;31m           a, b, adj_x=adjoint_a, adj_y=adjoint_b, name=name)\n\u001b[0m\u001b[1;32m   1815\u001b[0m \u001b[0;34m\u001b[0m\u001b[0m\n\u001b[1;32m   1816\u001b[0m     \u001b[0;31m# Neither matmul nor sparse_matmul support adjoint, so we conjugate\u001b[0m\u001b[0;34m\u001b[0m\u001b[0;34m\u001b[0m\u001b[0m\n",
      "\u001b[0;32m/Users/sternc1/anaconda/envs/tensorflow3/lib/python3.6/site-packages/tensorflow/python/ops/gen_math_ops.py\u001b[0m in \u001b[0;36m_batch_mat_mul\u001b[0;34m(x, y, adj_x, adj_y, name)\u001b[0m\n\u001b[1;32m    335\u001b[0m   \"\"\"\n\u001b[1;32m    336\u001b[0m   result = _op_def_lib.apply_op(\"BatchMatMul\", x=x, y=y, adj_x=adj_x,\n\u001b[0;32m--> 337\u001b[0;31m                                 adj_y=adj_y, name=name)\n\u001b[0m\u001b[1;32m    338\u001b[0m   \u001b[0;32mreturn\u001b[0m \u001b[0mresult\u001b[0m\u001b[0;34m\u001b[0m\u001b[0m\n\u001b[1;32m    339\u001b[0m \u001b[0;34m\u001b[0m\u001b[0m\n",
      "\u001b[0;32m/Users/sternc1/anaconda/envs/tensorflow3/lib/python3.6/site-packages/tensorflow/python/framework/op_def_library.py\u001b[0m in \u001b[0;36mapply_op\u001b[0;34m(self, op_type_name, name, **keywords)\u001b[0m\n\u001b[1;32m    765\u001b[0m         op = g.create_op(op_type_name, inputs, output_types, name=scope,\n\u001b[1;32m    766\u001b[0m                          \u001b[0minput_types\u001b[0m\u001b[0;34m=\u001b[0m\u001b[0minput_types\u001b[0m\u001b[0;34m,\u001b[0m \u001b[0mattrs\u001b[0m\u001b[0;34m=\u001b[0m\u001b[0mattr_protos\u001b[0m\u001b[0;34m,\u001b[0m\u001b[0;34m\u001b[0m\u001b[0m\n\u001b[0;32m--> 767\u001b[0;31m                          op_def=op_def)\n\u001b[0m\u001b[1;32m    768\u001b[0m         \u001b[0;32mif\u001b[0m \u001b[0moutput_structure\u001b[0m\u001b[0;34m:\u001b[0m\u001b[0;34m\u001b[0m\u001b[0m\n\u001b[1;32m    769\u001b[0m           \u001b[0moutputs\u001b[0m \u001b[0;34m=\u001b[0m \u001b[0mop\u001b[0m\u001b[0;34m.\u001b[0m\u001b[0moutputs\u001b[0m\u001b[0;34m\u001b[0m\u001b[0m\n",
      "\u001b[0;32m/Users/sternc1/anaconda/envs/tensorflow3/lib/python3.6/site-packages/tensorflow/python/framework/ops.py\u001b[0m in \u001b[0;36mcreate_op\u001b[0;34m(self, op_type, inputs, dtypes, input_types, name, attrs, op_def, compute_shapes, compute_device)\u001b[0m\n\u001b[1;32m   2630\u001b[0m                     original_op=self._default_original_op, op_def=op_def)\n\u001b[1;32m   2631\u001b[0m     \u001b[0;32mif\u001b[0m \u001b[0mcompute_shapes\u001b[0m\u001b[0;34m:\u001b[0m\u001b[0;34m\u001b[0m\u001b[0m\n\u001b[0;32m-> 2632\u001b[0;31m       \u001b[0mset_shapes_for_outputs\u001b[0m\u001b[0;34m(\u001b[0m\u001b[0mret\u001b[0m\u001b[0;34m)\u001b[0m\u001b[0;34m\u001b[0m\u001b[0m\n\u001b[0m\u001b[1;32m   2633\u001b[0m     \u001b[0mself\u001b[0m\u001b[0;34m.\u001b[0m\u001b[0m_add_op\u001b[0m\u001b[0;34m(\u001b[0m\u001b[0mret\u001b[0m\u001b[0;34m)\u001b[0m\u001b[0;34m\u001b[0m\u001b[0m\n\u001b[1;32m   2634\u001b[0m     \u001b[0mself\u001b[0m\u001b[0;34m.\u001b[0m\u001b[0m_record_op_seen_by_control_dependencies\u001b[0m\u001b[0;34m(\u001b[0m\u001b[0mret\u001b[0m\u001b[0;34m)\u001b[0m\u001b[0;34m\u001b[0m\u001b[0m\n",
      "\u001b[0;32m/Users/sternc1/anaconda/envs/tensorflow3/lib/python3.6/site-packages/tensorflow/python/framework/ops.py\u001b[0m in \u001b[0;36mset_shapes_for_outputs\u001b[0;34m(op)\u001b[0m\n\u001b[1;32m   1909\u001b[0m       \u001b[0mshape_func\u001b[0m \u001b[0;34m=\u001b[0m \u001b[0m_call_cpp_shape_fn_and_require_op\u001b[0m\u001b[0;34m\u001b[0m\u001b[0m\n\u001b[1;32m   1910\u001b[0m \u001b[0;34m\u001b[0m\u001b[0m\n\u001b[0;32m-> 1911\u001b[0;31m   \u001b[0mshapes\u001b[0m \u001b[0;34m=\u001b[0m \u001b[0mshape_func\u001b[0m\u001b[0;34m(\u001b[0m\u001b[0mop\u001b[0m\u001b[0;34m)\u001b[0m\u001b[0;34m\u001b[0m\u001b[0m\n\u001b[0m\u001b[1;32m   1912\u001b[0m   \u001b[0;32mif\u001b[0m \u001b[0mshapes\u001b[0m \u001b[0;32mis\u001b[0m \u001b[0;32mNone\u001b[0m\u001b[0;34m:\u001b[0m\u001b[0;34m\u001b[0m\u001b[0m\n\u001b[1;32m   1913\u001b[0m     raise RuntimeError(\n",
      "\u001b[0;32m/Users/sternc1/anaconda/envs/tensorflow3/lib/python3.6/site-packages/tensorflow/python/framework/ops.py\u001b[0m in \u001b[0;36mcall_with_requiring\u001b[0;34m(op)\u001b[0m\n\u001b[1;32m   1859\u001b[0m \u001b[0;34m\u001b[0m\u001b[0m\n\u001b[1;32m   1860\u001b[0m   \u001b[0;32mdef\u001b[0m \u001b[0mcall_with_requiring\u001b[0m\u001b[0;34m(\u001b[0m\u001b[0mop\u001b[0m\u001b[0;34m)\u001b[0m\u001b[0;34m:\u001b[0m\u001b[0;34m\u001b[0m\u001b[0m\n\u001b[0;32m-> 1861\u001b[0;31m     \u001b[0;32mreturn\u001b[0m \u001b[0mcall_cpp_shape_fn\u001b[0m\u001b[0;34m(\u001b[0m\u001b[0mop\u001b[0m\u001b[0;34m,\u001b[0m \u001b[0mrequire_shape_fn\u001b[0m\u001b[0;34m=\u001b[0m\u001b[0;32mTrue\u001b[0m\u001b[0;34m)\u001b[0m\u001b[0;34m\u001b[0m\u001b[0m\n\u001b[0m\u001b[1;32m   1862\u001b[0m \u001b[0;34m\u001b[0m\u001b[0m\n\u001b[1;32m   1863\u001b[0m   \u001b[0m_call_cpp_shape_fn_and_require_op\u001b[0m \u001b[0;34m=\u001b[0m \u001b[0mcall_with_requiring\u001b[0m\u001b[0;34m\u001b[0m\u001b[0m\n",
      "\u001b[0;32m/Users/sternc1/anaconda/envs/tensorflow3/lib/python3.6/site-packages/tensorflow/python/framework/common_shapes.py\u001b[0m in \u001b[0;36mcall_cpp_shape_fn\u001b[0;34m(op, require_shape_fn)\u001b[0m\n\u001b[1;32m    593\u001b[0m     res = _call_cpp_shape_fn_impl(op, input_tensors_needed,\n\u001b[1;32m    594\u001b[0m                                   \u001b[0minput_tensors_as_shapes_needed\u001b[0m\u001b[0;34m,\u001b[0m\u001b[0;34m\u001b[0m\u001b[0m\n\u001b[0;32m--> 595\u001b[0;31m                                   require_shape_fn)\n\u001b[0m\u001b[1;32m    596\u001b[0m     \u001b[0;32mif\u001b[0m \u001b[0;32mnot\u001b[0m \u001b[0misinstance\u001b[0m\u001b[0;34m(\u001b[0m\u001b[0mres\u001b[0m\u001b[0;34m,\u001b[0m \u001b[0mdict\u001b[0m\u001b[0;34m)\u001b[0m\u001b[0;34m:\u001b[0m\u001b[0;34m\u001b[0m\u001b[0m\n\u001b[1;32m    597\u001b[0m       \u001b[0;31m# Handles the case where _call_cpp_shape_fn_impl calls unknown_shape(op).\u001b[0m\u001b[0;34m\u001b[0m\u001b[0;34m\u001b[0m\u001b[0m\n",
      "\u001b[0;32m/Users/sternc1/anaconda/envs/tensorflow3/lib/python3.6/site-packages/tensorflow/python/framework/common_shapes.py\u001b[0m in \u001b[0;36m_call_cpp_shape_fn_impl\u001b[0;34m(op, input_tensors_needed, input_tensors_as_shapes_needed, require_shape_fn)\u001b[0m\n\u001b[1;32m    657\u001b[0m       \u001b[0mmissing_shape_fn\u001b[0m \u001b[0;34m=\u001b[0m \u001b[0;32mTrue\u001b[0m\u001b[0;34m\u001b[0m\u001b[0m\n\u001b[1;32m    658\u001b[0m     \u001b[0;32melse\u001b[0m\u001b[0;34m:\u001b[0m\u001b[0;34m\u001b[0m\u001b[0m\n\u001b[0;32m--> 659\u001b[0;31m       \u001b[0;32mraise\u001b[0m \u001b[0mValueError\u001b[0m\u001b[0;34m(\u001b[0m\u001b[0merr\u001b[0m\u001b[0;34m.\u001b[0m\u001b[0mmessage\u001b[0m\u001b[0;34m)\u001b[0m\u001b[0;34m\u001b[0m\u001b[0m\n\u001b[0m\u001b[1;32m    660\u001b[0m \u001b[0;34m\u001b[0m\u001b[0m\n\u001b[1;32m    661\u001b[0m   \u001b[0;32mif\u001b[0m \u001b[0mmissing_shape_fn\u001b[0m\u001b[0;34m:\u001b[0m\u001b[0;34m\u001b[0m\u001b[0m\n",
      "\u001b[0;31mValueError\u001b[0m: Dimension 0 in both shapes must be equal, but are 36 and 1 for 'MatMul' (op: 'BatchMatMul') with input shapes: [36,6,5], [1,5,6]."
     ]
    }
   ],
   "source": [
    "%%time\n",
    "# Calculate Fourier sum tensorflow\n",
    "tf_dot_trace = tf.trace(tf.matmul(phis_tf, K_tf))"
   ]
  },
  {
   "cell_type": "code",
   "execution_count": 24,
   "metadata": {},
   "outputs": [
    {
     "name": "stdout",
     "output_type": "stream",
     "text": [
      "CPU times: user 6.72 ms, sys: 857 µs, total: 7.58 ms\n",
      "Wall time: 6.81 ms\n"
     ]
    }
   ],
   "source": [
    "%%time\n",
    "# Try tf.multiply\n",
    "tf_elem_sum = tf.reduce_sum(tf.reduce_sum(tf.multiply(phis_tf, K_tf_t), axis=1), axis=1)"
   ]
  },
  {
   "cell_type": "markdown",
   "metadata": {},
   "source": [
    "The numpy dot product and trace is the fastest - an order of magnitude faster than tensorflow's element-wise multiplication and sum. I couldn't get the dot and trace to work in tensorflow because I couldn't get the broadcasting of K to work properly."
   ]
  },
  {
   "cell_type": "code",
   "execution_count": 38,
   "metadata": {},
   "outputs": [
    {
     "name": "stdout",
     "output_type": "stream",
     "text": [
      "CPU times: user 9.94 ms, sys: 22.8 ms, total: 32.8 ms\n",
      "Wall time: 22.3 ms\n"
     ]
    }
   ],
   "source": [
    "%%time\n",
    "scan_dih.compute_energy(param_dih)"
   ]
  },
  {
   "cell_type": "code",
   "execution_count": 42,
   "metadata": {
    "collapsed": true
   },
   "outputs": [],
   "source": [
    "Fourier_sum_tf = Fourier_sum_tf.eval()\n",
    "Fourier_sum_tf_pre = Fourier_sum_tf_pre.eval()\n",
    "tf_elem_sum = tf_elem_sum.eval()"
   ]
  },
  {
   "cell_type": "code",
   "execution_count": 55,
   "metadata": {},
   "outputs": [
    {
     "data": {
      "image/png": "[encoded data removed]",
      "text/plain": [
       "<matplotlib.figure.Figure at 0x131153710>"
      ]
     },
     "metadata": {},
     "output_type": "display_data"
    }
   ],
   "source": [
    "# Plot all energies\n",
    "plt.plot(Fourier_sum_np-min(Fourier_sum_np), 'o', label='Numpy')\n",
    "plt.plot(np_dot_trace - min(np_dot_trace), '.')\n",
    "plt.plot(np_elem_sum - min(np_elem_sum), '.')\n",
    "plt.plot(scan_dih.mm_energy, '.', color='red',label='OMM')\n",
    "plt.plot(Fourier_sum_tf-min(Fourier_sum_tf), '*', label='tf')\n",
    "plt.plot(Fourier_sum_tf_pre - min(Fourier_sum_tf_pre), '.')\n",
    "plt.plot(tf_elem_sum - min(tf_elem_sum), '.')\n",
    "plt.legend()\n",
    "plt.title('Comparing Dihederal Energies')\n",
    "plt.ylabel('Relative Energy (kJ/mol)')\n",
    "plt.xlabel('Frames');"
   ]
  },
  {
   "cell_type": "code",
   "execution_count": null,
   "metadata": {
    "collapsed": true
   },
   "outputs": [],
   "source": []
  }
 ],
 "metadata": {
  "kernelspec": {
   "display_name": "Python 3",
   "language": "python",
   "name": "python3"
  },
  "language_info": {
   "codemirror_mode": {
    "name": "ipython",
    "version": 3
   },
   "file_extension": ".py",
   "mimetype": "text/x-python",
   "name": "python",
   "nbconvert_exporter": "python",
   "pygments_lexer": "ipython3",
   "version": "3.6.1"
  }
 },
 "nbformat": 4,
 "nbformat_minor": 1
}
