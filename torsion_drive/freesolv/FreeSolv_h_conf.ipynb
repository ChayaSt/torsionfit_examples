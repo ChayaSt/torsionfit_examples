{
 "cells": [
  {
   "cell_type": "code",
   "execution_count": 1,
   "metadata": {},
   "outputs": [],
   "source": [
    "from __future__ import print_function\n",
    "import pickle\n",
    "from openmoltools import openeye\n",
    "import openeye.oechem as oechem\n",
    "import openeye.oemedchem as oemedchem\n",
    "import openeye.oedepict as oedepict\n",
    "from itertools import combinations\n",
    "from torsionfit.qmscan.enumfrags2pdf import main as vis_wrapper\n",
    "import glob\n",
    "from os.path import isfile, join\n",
    "import numpy as np"
   ]
  },
  {
   "cell_type": "code",
   "execution_count": 2,
   "metadata": {
    "collapsed": true
   },
   "outputs": [],
   "source": [
    "file = open('database.pickle', 'rb')\n",
    "database = pickle.load(file, encoding='latin1')\n",
    "file.close()"
   ]
  },
  {
   "cell_type": "code",
   "execution_count": 3,
   "metadata": {},
   "outputs": [],
   "source": [
    "to_calc = [k for k in database if (database[k]['h_conf']*4.184 > 15)]\n",
    "smiles = [database[k]['smiles'] for k in to_calc]\n",
    "confs = [openeye.generate_conformers(openeye.smiles_to_oemol(smiles[i]), max_confs=1) for i in range(len(to_calc))]"
   ]
  },
  {
   "cell_type": "code",
   "execution_count": 4,
   "metadata": {},
   "outputs": [],
   "source": [
    "# Write out smiles and mol2 files\n",
    "for i, conf in enumerate(confs):\n",
    "    split = database[to_calc[i]]['nickname'].split(' ')[1:]\n",
    "    fname = '{}.mol2'.format(split[0])\n",
    "    isname = '{}.ism'.format(split[0])\n",
    "    if len(split) > 1:\n",
    "        fname = '{}.mol2'.format(split[0] + '_' + split[1])\n",
    "        isname = '{}.ism'.format(split[0] + '_' + split[1])\n",
    "    f = open(isname, 'w')\n",
    "    f.write(smiles[i])\n",
    "    f.close()\n",
    "    openeye.molecule_to_mol2(conf, tripos_mol2_filename=fname)"
   ]
  },
  {
   "cell_type": "code",
   "execution_count": 5,
   "metadata": {},
   "outputs": [],
   "source": [
    "smiles_files = glob.glob('/Users/chayastern/src/ChayaSt/torsionfit_examples/torsion_drive/freesolv/*.ism')"
   ]
  },
  {
   "cell_type": "code",
   "execution_count": 6,
   "metadata": {},
   "outputs": [
    {
     "name": "stdout",
     "output_type": "stream",
     "text": [
      "/Users/chayastern/src/ChayaSt/torsionfit_examples/torsion_drive/freesolv/2-nitrophenol.ism\n",
      "/Users/chayastern/src/ChayaSt/torsionfit_examples/torsion_drive/freesolv/butanedioic_acid.ism\n",
      "only one fragment was found\n",
      "/Users/chayastern/src/ChayaSt/torsionfit_examples/torsion_drive/freesolv/d-glucose.ism\n",
      "/Users/chayastern/src/ChayaSt/torsionfit_examples/torsion_drive/freesolv/diflunisal.ism\n",
      "/Users/chayastern/src/ChayaSt/torsionfit_examples/torsion_drive/freesolv/flurbiprofen.ism\n",
      "/Users/chayastern/src/ChayaSt/torsionfit_examples/torsion_drive/freesolv/glycerol.ism\n",
      "only one fragment was found\n",
      "/Users/chayastern/src/ChayaSt/torsionfit_examples/torsion_drive/freesolv/ketoprofen.ism\n",
      "/Users/chayastern/src/ChayaSt/torsionfit_examples/torsion_drive/freesolv/mannitol.ism\n",
      "only one fragment was found\n",
      "/Users/chayastern/src/ChayaSt/torsionfit_examples/torsion_drive/freesolv/mefenamic_acid.ism\n",
      "/Users/chayastern/src/ChayaSt/torsionfit_examples/torsion_drive/freesolv/xylose.ism\n"
     ]
    }
   ],
   "source": [
    "for infile in smiles_files:\n",
    "    print(infile)\n",
    "    outfile = infile.replace('ism', 'pdf')\n",
    "    vis_wrapper(['enumfrags2pdf.py', '-in', infile, '-out', outfile, '-fragtype', 'ring-chain', '-min_rotors', '0'])"
   ]
  },
  {
   "cell_type": "code",
   "execution_count": 7,
   "metadata": {},
   "outputs": [],
   "source": [
    "# some molecules of the set did not producea any fragements from this set. They are glycerol, mannitol and \n",
    "# butanedioic acid\n",
    "for k in database:\n",
    "    if 'glycerol' in database[k]['nickname']:\n",
    "        glycerol = to_calc[np.where(np.asanyarray(to_calc) == k)[0][0]]\n",
    "    if 'mannitol' in database[k]['nickname']:\n",
    "        mannintol = to_calc[np.where(np.asanyarray(to_calc) == k)[0][0]]\n",
    "    if 'butanedioic' in database[k]['nickname']:\n",
    "        xylose = to_calc[np.where(np.asanyarray(to_calc) == k)[0][0]]"
   ]
  },
  {
   "cell_type": "code",
   "execution_count": 26,
   "metadata": {},
   "outputs": [],
   "source": [
    "# With glycerol and mannitol, none of the fragmentation schemes seem to be working. "
   ]
  },
  {
   "cell_type": "code",
   "execution_count": 7,
   "metadata": {},
   "outputs": [],
   "source": [
    "infile = '/Users/chayastern/src/ChayaSt/torsionfit_examples/torsion_drive/freesolv/2-nitrophenol.ism'\n",
    "outfile = '/Users/chayastern/src/ChayaSt/torsionfit_examples/torsion_drive/freesolv/2-nitrophenol.png'"
   ]
  },
  {
   "cell_type": "code",
   "execution_count": 8,
   "metadata": {},
   "outputs": [
    {
     "data": {
      "text/plain": [
       "0"
      ]
     },
     "execution_count": 8,
     "metadata": {},
     "output_type": "execute_result"
    }
   ],
   "source": [
    "# For xylose, it seems like funcgroup doesn't fragment the molecule\n",
    "vis_wrapper(['enumfrags2pdf.py', '-in', infile, '-out', outfile, '-fragtype', 'ring-chain', '-min_rotors', '0'])"
   ]
  },
  {
   "cell_type": "code",
   "execution_count": 32,
   "metadata": {},
   "outputs": [],
   "source": [
    "s = open('mannitol.ism', 'r').read()\n",
    "frags = [f for f in oemedchem.OEGetBemisMurcko(openeye.smiles_to_oemol(s))]"
   ]
  },
  {
   "cell_type": "code",
   "execution_count": 34,
   "metadata": {
    "collapsed": true
   },
   "outputs": [],
   "source": [
    "mol = openeye.smiles_to_oemol(s)"
   ]
  },
  {
   "cell_type": "code",
   "execution_count": 36,
   "metadata": {},
   "outputs": [
    {
     "data": {
      "text/plain": [
       "5"
      ]
     },
     "execution_count": 36,
     "metadata": {},
     "output_type": "execute_result"
    }
   ],
   "source": [
    "sum([bond.IsRotor() for bond in mol.GetBonds()])"
   ]
  },
  {
   "cell_type": "code",
   "execution_count": null,
   "metadata": {
    "collapsed": true
   },
   "outputs": [],
   "source": []
  }
 ],
 "metadata": {
  "kernelspec": {
   "display_name": "Python 3",
   "language": "python",
   "name": "python3"
  },
  "language_info": {
   "codemirror_mode": {
    "name": "ipython",
    "version": 3
   },
   "file_extension": ".py",
   "mimetype": "text/x-python",
   "name": "python",
   "nbconvert_exporter": "python",
   "pygments_lexer": "ipython3",
   "version": "3.6.1"
  }
 },
 "nbformat": 4,
 "nbformat_minor": 2
}
