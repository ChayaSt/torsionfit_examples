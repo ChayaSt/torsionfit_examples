{
 "cells": [
  {
   "cell_type": "code",
   "execution_count": 5,
   "metadata": {},
   "outputs": [],
   "source": [
    "from cclib.parser import Gaussian, Psi\n",
    "from cclib.parser.utils import convertor\n",
    "import numpy as np"
   ]
  },
  {
   "cell_type": "code",
   "execution_count": 26,
   "metadata": {},
   "outputs": [
    {
     "name": "stdout",
     "output_type": "stream",
     "text": [
      "[Psi phepyr_4_10_11_6_15.out WARNING] In logfileparser.py, line 472, line not all dashes as expected: --------------------------------------------------------------------------------------------- ~\n"
     ]
    }
   ],
   "source": [
    "log = Psi('phepyr_4_10_11_6_15.out')\n",
    "data = log.parse()"
   ]
  },
  {
   "cell_type": "code",
   "execution_count": 27,
   "metadata": {},
   "outputs": [],
   "source": [
    "# Collect information for input file\n",
    "index = np.where(data.mpenergies == data.mpenergies.min())[0]\n",
    "method = data.metadata['methods'][index[0]]\n",
    "basis = data.metadata['basis_set']\n",
    "config = data.atomcoords[index]\n",
    "mult = data.mult\n",
    "charge = data.charge"
   ]
  },
  {
   "cell_type": "code",
   "execution_count": 28,
   "metadata": {},
   "outputs": [
    {
     "name": "stdout",
     "output_type": "stream",
     "text": [
      "[Psi phepyr_4_10_11_6_15.out.archive WARNING] In logfileparser.py, line 472, line not all dashes as expected: --------------------------------------------------------------------------------------------- ~\n",
      "[Psi phepyr_4_10_11_6_15.out.archive WARNING] In logfileparser.py, line 472, line not all dashes as expected: --------------------------------------------------------------------------------------------- ~\n"
     ]
    }
   ],
   "source": [
    "log2 = Psi('phepyr_4_10_11_6_15.out.archive')\n",
    "data2 = log2.parse()"
   ]
  },
  {
   "cell_type": "code",
   "execution_count": 29,
   "metadata": {},
   "outputs": [
    {
     "data": {
      "text/plain": [
       "array([[-13022.6107437 ],\n",
       "       [-13022.70263059],\n",
       "       [-13022.71823278]])"
      ]
     },
     "execution_count": 29,
     "metadata": {},
     "output_type": "execute_result"
    }
   ],
   "source": [
    "data2.mpenergies"
   ]
  },
  {
   "cell_type": "code",
   "execution_count": 30,
   "metadata": {},
   "outputs": [
    {
     "data": {
      "text/plain": [
       "array([[-13022.61074348],\n",
       "       [-13022.68637776],\n",
       "       [-13022.69331747],\n",
       "       [-13022.69463772],\n",
       "       [-13022.69514246],\n",
       "       [-13022.69591782],\n",
       "       [-13022.69607211],\n",
       "       [-13022.69619611],\n",
       "       [-13022.69622453],\n",
       "       [-13022.69625169]])"
      ]
     },
     "execution_count": 30,
     "metadata": {},
     "output_type": "execute_result"
    }
   ],
   "source": [
    "data.mpenergies"
   ]
  },
  {
   "cell_type": "code",
   "execution_count": 9,
   "metadata": {},
   "outputs": [],
   "source": [
    "string = data.writexyz(indices=index)"
   ]
  },
  {
   "cell_type": "code",
   "execution_count": 13,
   "metadata": {},
   "outputs": [],
   "source": [
    "method = data.metadata['methods'][index[0]]"
   ]
  },
  {
   "cell_type": "code",
   "execution_count": 16,
   "metadata": {},
   "outputs": [
    {
     "data": {
      "text/plain": [
       "{'basis_set': 'AUG-CC-PVTZ',\n",
       " 'methods': ['DF-MP2',\n",
       "  'DF-MP2',\n",
       "  'DF-MP2',\n",
       "  'DF-MP2',\n",
       "  'DF-MP2',\n",
       "  'DF-MP2',\n",
       "  'DF-MP2',\n",
       "  'DF-MP2',\n",
       "  'DF-MP2',\n",
       "  'DF-MP2',\n",
       "  'DF-MP2',\n",
       "  'DF-MP2'],\n",
       " 'package': 'Psi',\n",
       " 'package_version': 4}"
      ]
     },
     "execution_count": 16,
     "metadata": {},
     "output_type": "execute_result"
    }
   ],
   "source": [
    "data.metadata\n"
   ]
  },
  {
   "cell_type": "code",
   "execution_count": 15,
   "metadata": {},
   "outputs": [
    {
     "ename": "AttributeError",
     "evalue": "'ccData_optdone_bool' object has no attribute 'method'",
     "output_type": "error",
     "traceback": [
      "\u001b[0;31m---------------------------------------------------------------------------\u001b[0m",
      "\u001b[0;31mAttributeError\u001b[0m                            Traceback (most recent call last)",
      "\u001b[0;32m<ipython-input-15-b8b5598b75a3>\u001b[0m in \u001b[0;36m<module>\u001b[0;34m()\u001b[0m\n\u001b[0;32m----> 1\u001b[0;31m \u001b[0mdata\u001b[0m\u001b[0;34m.\u001b[0m\u001b[0mmethod\u001b[0m\u001b[0;34m\u001b[0m\u001b[0m\n\u001b[0m",
      "\u001b[0;31mAttributeError\u001b[0m: 'ccData_optdone_bool' object has no attribute 'method'"
     ]
    }
   ],
   "source": [
    "data.method"
   ]
  },
  {
   "cell_type": "code",
   "execution_count": 34,
   "metadata": {
    "collapsed": true
   },
   "outputs": [],
   "source": [
    "dynamic_level = 0"
   ]
  },
  {
   "cell_type": "code",
   "execution_count": 35,
   "metadata": {},
   "outputs": [],
   "source": [
    "if dynamic_level:\n",
    "    print(True)"
   ]
  },
  {
   "cell_type": "code",
   "execution_count": null,
   "metadata": {
    "collapsed": true
   },
   "outputs": [],
   "source": []
  }
 ],
 "metadata": {
  "kernelspec": {
   "display_name": "Python 3",
   "language": "python",
   "name": "python3"
  },
  "language_info": {
   "codemirror_mode": {
    "name": "ipython",
    "version": 3
   },
   "file_extension": ".py",
   "mimetype": "text/x-python",
   "name": "python",
   "nbconvert_exporter": "python",
   "pygments_lexer": "ipython3",
   "version": "3.6.1"
  }
 },
 "nbformat": 4,
 "nbformat_minor": 2
}
