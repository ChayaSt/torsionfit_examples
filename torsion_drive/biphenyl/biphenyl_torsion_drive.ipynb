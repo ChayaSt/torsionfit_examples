{
 "cells": [
  {
   "cell_type": "code",
   "execution_count": 1,
   "metadata": {
    "collapsed": true
   },
   "outputs": [],
   "source": [
    "from openmoltools import openeye\n",
    "import openeye.oechem as oechem\n",
    "import openeye.oemedchem as oemedchem\n",
    "import openeye.oedepict as oedepict\n",
    "from torsionfit.qmscan.enumfrags2pdf import main as vis_wrapper\n",
    "import glob\n",
    "from os.path import isfile, join\n",
    "import numpy as np\n",
    "from torsionfit.qmscan.enumfrags2pdf import *\n",
    "from torsionfit.qmscan import torsion_scan\n",
    "import os"
   ]
  },
  {
   "cell_type": "code",
   "execution_count": 2,
   "metadata": {
    "collapsed": true
   },
   "outputs": [],
   "source": [
    "f = open('4phepyr.smi', 'r')"
   ]
  },
  {
   "cell_type": "code",
   "execution_count": 3,
   "metadata": {},
   "outputs": [],
   "source": [
    "smiles = {}\n",
    "for line in f:    \n",
    "    smile, name = line.rstrip().split(' ')\n",
    "    smiles[name] = smile\n",
    "f.close()"
   ]
  },
  {
   "cell_type": "code",
   "execution_count": 4,
   "metadata": {},
   "outputs": [],
   "source": [
    "for smile in smiles:\n",
    "    mol = openeye.smiles_to_oemol(smiles[smile])\n",
    "    oedepict.OEPrepareDepiction(mol)\n",
    "    oedepict.OERenderMolecule(\"{}.png\".format(smile), mol)\n",
    "    "
   ]
  },
  {
   "cell_type": "code",
   "execution_count": 20,
   "metadata": {},
   "outputs": [
    {
     "name": "stdout",
     "output_type": "stream",
     "text": [
      "10:48:22 INFO torsionFit: Idxs: 3 9 10 5\n",
      "10:48:22 INFO torsionFit: Atom Numbers: 6 6 6 6\n",
      "10:48:22 INFO torsionFit: new_tor with central bond across atoms: 9 10\n",
      "10:48:22 INFO torsionFit: Idxs: 3 9 10 6\n",
      "10:48:22 INFO torsionFit: Atom Numbers: 6 6 6 6\n",
      "10:48:22 INFO torsionFit: Not a new_tor but now with end atoms: 3 6\n",
      "10:48:22 INFO torsionFit: Idxs: 4 9 10 5\n",
      "10:48:22 INFO torsionFit: Atom Numbers: 6 6 6 6\n",
      "10:48:22 INFO torsionFit: Not a new_tor but now with end atoms: 4 5\n",
      "10:48:22 INFO torsionFit: Idxs: 4 9 10 6\n",
      "10:48:22 INFO torsionFit: Atom Numbers: 6 6 6 6\n",
      "10:48:22 INFO torsionFit: Not a new_tor but now with end atoms: 4 6\n",
      "10:48:22 INFO torsionFit: Adding to list: 3 9 10 5\n",
      "10:48:22 INFO torsionFit: List of torsion to drive:\n",
      "10:48:22 INFO torsionFit: Idx: 3 9 10 5\n",
      "10:48:22 INFO torsionFit: Atom numbers: 6 6 6 6\n",
      "10:48:22 INFO torsionFit: Overwriting existing directory 4_10_11_6\n"
     ]
    },
    {
     "ename": "FileExistsError",
     "evalue": "[Errno 17] File exists: '/Users/chayastern/src/ChayaSt/torsionfit_examples/torsion_drive/biphenyl/4phepyr/4_10_11_6/0'",
     "output_type": "error",
     "traceback": [
      "\u001b[0;31m---------------------------------------------------------------------------\u001b[0m",
      "\u001b[0;31mFileExistsError\u001b[0m                           Traceback (most recent call last)",
      "\u001b[0;32m<ipython-input-20-2284c2824840>\u001b[0m in \u001b[0;36m<module>\u001b[0;34m()\u001b[0m\n\u001b[1;32m     13\u001b[0m     \u001b[0mpath\u001b[0m \u001b[0;34m=\u001b[0m \u001b[0mos\u001b[0m\u001b[0;34m.\u001b[0m\u001b[0mpath\u001b[0m\u001b[0;34m.\u001b[0m\u001b[0mjoin\u001b[0m\u001b[0;34m(\u001b[0m\u001b[0mos\u001b[0m\u001b[0;34m.\u001b[0m\u001b[0mgetcwd\u001b[0m\u001b[0;34m(\u001b[0m\u001b[0;34m)\u001b[0m\u001b[0;34m,\u001b[0m \u001b[0mtitle\u001b[0m\u001b[0;34m)\u001b[0m\u001b[0;34m\u001b[0m\u001b[0m\n\u001b[1;32m     14\u001b[0m     \u001b[0;31m# Generate scan input files\u001b[0m\u001b[0;34m\u001b[0m\u001b[0;34m\u001b[0m\u001b[0m\n\u001b[0;32m---> 15\u001b[0;31m     \u001b[0mtorsion_scan\u001b[0m\u001b[0;34m.\u001b[0m\u001b[0mgenerate_torsions\u001b[0m\u001b[0;34m(\u001b[0m\u001b[0mfname\u001b[0m\u001b[0;34m,\u001b[0m \u001b[0mpath\u001b[0m\u001b[0;34m,\u001b[0m \u001b[0;36m15\u001b[0m\u001b[0;34m)\u001b[0m\u001b[0;34m\u001b[0m\u001b[0m\n\u001b[0m\u001b[1;32m     16\u001b[0m     \u001b[0;32mfor\u001b[0m \u001b[0mfolder\u001b[0m \u001b[0;32min\u001b[0m \u001b[0mos\u001b[0m\u001b[0;34m.\u001b[0m\u001b[0mlistdir\u001b[0m\u001b[0;34m(\u001b[0m\u001b[0mpath\u001b[0m\u001b[0;34m)\u001b[0m\u001b[0;34m:\u001b[0m\u001b[0;34m\u001b[0m\u001b[0m\n\u001b[1;32m     17\u001b[0m         \u001b[0mpath\u001b[0m \u001b[0;34m=\u001b[0m \u001b[0mos\u001b[0m\u001b[0;34m.\u001b[0m\u001b[0mpath\u001b[0m\u001b[0;34m.\u001b[0m\u001b[0mjoin\u001b[0m\u001b[0;34m(\u001b[0m\u001b[0mpath\u001b[0m\u001b[0;34m,\u001b[0m \u001b[0mfolder\u001b[0m\u001b[0;34m)\u001b[0m\u001b[0;34m\u001b[0m\u001b[0m\n",
      "\u001b[0;32m/Users/chayastern/anaconda/lib/python3.6/site-packages/torsionfit-0+untagged.606.g4a3ac2a.dirty-py3.6.egg/torsionfit/qmscan/torsion_scan.py\u001b[0m in \u001b[0;36mgenerate_torsions\u001b[0;34m(mol, path, interval)\u001b[0m\n\u001b[1;32m    109\u001b[0m         \u001b[0;32mfor\u001b[0m \u001b[0mangle\u001b[0m \u001b[0;32min\u001b[0m \u001b[0mrange\u001b[0m\u001b[0;34m(\u001b[0m\u001b[0;36m0\u001b[0m\u001b[0;34m,\u001b[0m \u001b[0;36m360\u001b[0m\u001b[0;34m,\u001b[0m \u001b[0minterval\u001b[0m\u001b[0;34m)\u001b[0m\u001b[0;34m:\u001b[0m\u001b[0;34m\u001b[0m\u001b[0m\n\u001b[1;32m    110\u001b[0m             \u001b[0mangle_folder\u001b[0m \u001b[0;34m=\u001b[0m \u001b[0mos\u001b[0m\u001b[0;34m.\u001b[0m\u001b[0mpath\u001b[0m\u001b[0;34m.\u001b[0m\u001b[0mjoin\u001b[0m\u001b[0;34m(\u001b[0m\u001b[0mfolder\u001b[0m\u001b[0;34m,\u001b[0m \u001b[0mstr\u001b[0m\u001b[0;34m(\u001b[0m\u001b[0mangle\u001b[0m\u001b[0;34m)\u001b[0m\u001b[0;34m)\u001b[0m\u001b[0;34m\u001b[0m\u001b[0m\n\u001b[0;32m--> 111\u001b[0;31m             \u001b[0mos\u001b[0m\u001b[0;34m.\u001b[0m\u001b[0mmakedirs\u001b[0m\u001b[0;34m(\u001b[0m\u001b[0mangle_folder\u001b[0m\u001b[0;34m)\u001b[0m\u001b[0;34m\u001b[0m\u001b[0m\n\u001b[0m\u001b[1;32m    112\u001b[0m             \u001b[0mnewconf\u001b[0m \u001b[0;34m=\u001b[0m \u001b[0mmol\u001b[0m\u001b[0;34m.\u001b[0m\u001b[0mNewConf\u001b[0m\u001b[0;34m(\u001b[0m\u001b[0mcoords\u001b[0m\u001b[0;34m)\u001b[0m\u001b[0;34m\u001b[0m\u001b[0m\n\u001b[1;32m    113\u001b[0m             \u001b[0moechem\u001b[0m\u001b[0;34m.\u001b[0m\u001b[0mOESetTorsion\u001b[0m\u001b[0;34m(\u001b[0m\u001b[0mnewconf\u001b[0m\u001b[0;34m,\u001b[0m \u001b[0mtor\u001b[0m\u001b[0;34m[\u001b[0m\u001b[0;36m0\u001b[0m\u001b[0;34m]\u001b[0m\u001b[0;34m,\u001b[0m \u001b[0mtor\u001b[0m\u001b[0;34m[\u001b[0m\u001b[0;36m1\u001b[0m\u001b[0;34m]\u001b[0m\u001b[0;34m,\u001b[0m \u001b[0mtor\u001b[0m\u001b[0;34m[\u001b[0m\u001b[0;36m2\u001b[0m\u001b[0;34m]\u001b[0m\u001b[0;34m,\u001b[0m \u001b[0mtor\u001b[0m\u001b[0;34m[\u001b[0m\u001b[0;36m3\u001b[0m\u001b[0;34m]\u001b[0m\u001b[0;34m,\u001b[0m \u001b[0mradians\u001b[0m\u001b[0;34m(\u001b[0m\u001b[0mangle\u001b[0m\u001b[0;34m)\u001b[0m\u001b[0;34m)\u001b[0m\u001b[0;34m\u001b[0m\u001b[0m\n",
      "\u001b[0;32m/Users/chayastern/anaconda/lib/python3.6/os.py\u001b[0m in \u001b[0;36mmakedirs\u001b[0;34m(name, mode, exist_ok)\u001b[0m\n\u001b[1;32m    218\u001b[0m             \u001b[0;32mreturn\u001b[0m\u001b[0;34m\u001b[0m\u001b[0m\n\u001b[1;32m    219\u001b[0m     \u001b[0;32mtry\u001b[0m\u001b[0;34m:\u001b[0m\u001b[0;34m\u001b[0m\u001b[0m\n\u001b[0;32m--> 220\u001b[0;31m         \u001b[0mmkdir\u001b[0m\u001b[0;34m(\u001b[0m\u001b[0mname\u001b[0m\u001b[0;34m,\u001b[0m \u001b[0mmode\u001b[0m\u001b[0;34m)\u001b[0m\u001b[0;34m\u001b[0m\u001b[0m\n\u001b[0m\u001b[1;32m    221\u001b[0m     \u001b[0;32mexcept\u001b[0m \u001b[0mOSError\u001b[0m\u001b[0;34m:\u001b[0m\u001b[0;34m\u001b[0m\u001b[0m\n\u001b[1;32m    222\u001b[0m         \u001b[0;31m# Cannot rely on checking for EEXIST, since the operating system\u001b[0m\u001b[0;34m\u001b[0m\u001b[0;34m\u001b[0m\u001b[0m\n",
      "\u001b[0;31mFileExistsError\u001b[0m: [Errno 17] File exists: '/Users/chayastern/src/ChayaSt/torsionfit_examples/torsion_drive/biphenyl/4phepyr/4_10_11_6/0'"
     ]
    }
   ],
   "source": [
    "ifs = oechem.oemolistream()\n",
    "ifs.open('4phepyr.oeb')\n",
    "ofs = oechem.oemolostream()\n",
    "for mol in ifs.GetOEGraphMols():\n",
    "    charge = 0\n",
    "    title = mol.GetTitle()\n",
    "    smiles = oechem.OEMolToSmiles(mol)\n",
    "    charge += smiles.count('+')\n",
    "    charge -= smiles.count('-')  \n",
    "    fname = \"{}.mol2\".format(title)\n",
    "    ofs.open(fname)\n",
    "    oechem.OEWriteMolecule(ofs, mol)\n",
    "    path = os.path.join(os.getcwd(), title)    \n",
    "    # Generate scan input files\n",
    "    torsion_scan.generate_torsions(fname, path, 15)\n",
    "    for folder in os.listdir(path):\n",
    "        path = os.path.join(path, folder)\n",
    "        torsion_scan.generate_scan_input(root=path, filetype='pdb', mol_name=title, method=['MP2'], \n",
    "                                 basis_set=['aug-cc-PVTZ'], symmetry='C1', charge=charge)\n",
    "        \n",
    "ifs.close()"
   ]
  },
  {
   "cell_type": "code",
   "execution_count": null,
   "metadata": {
    "collapsed": true
   },
   "outputs": [],
   "source": []
  }
 ],
 "metadata": {
  "kernelspec": {
   "display_name": "Python 3",
   "language": "python",
   "name": "python3"
  },
  "language_info": {
   "codemirror_mode": {
    "name": "ipython",
    "version": 3
   },
   "file_extension": ".py",
   "mimetype": "text/x-python",
   "name": "python",
   "nbconvert_exporter": "python",
   "pygments_lexer": "ipython3",
   "version": "3.6.1"
  }
 },
 "nbformat": 4,
 "nbformat_minor": 2
}
