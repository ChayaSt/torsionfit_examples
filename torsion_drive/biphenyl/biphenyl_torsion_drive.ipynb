{
 "cells": [
  {
   "cell_type": "code",
   "execution_count": 9,
   "metadata": {
    "collapsed": true
   },
   "outputs": [],
   "source": [
    "%matplotlib inline\n",
    "import matplotlib.pyplot as plt\n",
    "from openmoltools import openeye\n",
    "import openeye.oechem as oechem\n",
    "import openeye.oemedchem as oemedchem\n",
    "import openeye.oedepict as oedepict\n",
    "from torsionfit.qmscan.enumfrags2pdf import main as vis_wrapper\n",
    "import glob\n",
    "from os.path import isfile, join\n",
    "import numpy as np\n",
    "from torsionfit.qmscan.enumfrags2pdf import *\n",
    "from torsionfit.qmscan import torsion_scan\n",
    "import os\n",
    "from fnmatch import fnmatch\n",
    "from torsionfit.database.qmdatabase import parse_psi4_out"
   ]
  },
  {
   "cell_type": "code",
   "execution_count": 21,
   "metadata": {
    "collapsed": true
   },
   "outputs": [],
   "source": [
    "f = open('4phepyr.smi', 'r')"
   ]
  },
  {
   "cell_type": "code",
   "execution_count": 22,
   "metadata": {
    "collapsed": true
   },
   "outputs": [],
   "source": [
    "smiles = {}\n",
    "for line in f:    \n",
    "    smile, name = line.rstrip().split(' ')\n",
    "    smiles[name] = smile\n",
    "f.close()"
   ]
  },
  {
   "cell_type": "code",
   "execution_count": 102,
   "metadata": {},
   "outputs": [
    {
     "name": "stdout",
     "output_type": "stream",
     "text": [
      "4phepyr\n",
      "4-phenylpyridine\n",
      "4phepyrOH_neutral\n",
      "4-(4-pyridyl)phenol\n",
      "4phepyrOH_anion\n",
      "4-(4-pyridyl)phenolate\n",
      "4phepyrOH_cation\n",
      "4-pyridin-1-ium-4-ylphenol\n",
      "4phepyrOH_zwitterion\n",
      "4-pyridin-1-ium-4-ylphenolate\n",
      "4phepyrF\n",
      "4-(2-fluorophenyl)pyridine\n",
      "4phepyrFOH_neutral\n",
      "3-fluoro-4-(4-pyridyl)phenol\n",
      "4phepyrFOH_anion\n",
      "3-fluoro-4-(4-pyridyl)phenolate\n",
      "4phepyrFOH_cation\n",
      "3-fluoro-4-pyridin-1-ium-4-yl-phenol\n",
      "4phepyrFOH_zwitterion\n",
      "3-fluoro-4-pyridin-1-ium-4-yl-phenolate\n"
     ]
    }
   ],
   "source": [
    "for smile in smiles:\n",
    "    mol = openeye.smiles_to_oemol(smiles[smile])\n",
    "    print(smile)\n",
    "    print(mol.GetMCMolTitle())\n",
    "    #mol.name\n",
    "    oedepict.OEPrepareDepiction(mol)\n",
    "    oedepict.OERenderMolecule(\"{}.png\".format(smile), mol)\n",
    "    "
   ]
  },
  {
   "cell_type": "code",
   "execution_count": 93,
   "metadata": {},
   "outputs": [
    {
     "name": "stdout",
     "output_type": "stream",
     "text": [
      "18:05:09 INFO torsionFit: Idxs: 3 9 10 5\n",
      "18:05:09 INFO torsionFit: Atom Numbers: 6 6 6 6\n",
      "18:05:09 INFO torsionFit: new_tor with central bond across atoms: 9 10\n",
      "18:05:09 INFO torsionFit: Idxs: 3 9 10 6\n",
      "18:05:09 INFO torsionFit: Atom Numbers: 6 6 6 6\n",
      "18:05:09 INFO torsionFit: Not a new_tor but now with end atoms: 3 6\n",
      "18:05:09 INFO torsionFit: Idxs: 4 9 10 5\n",
      "18:05:09 INFO torsionFit: Atom Numbers: 6 6 6 6\n",
      "18:05:09 INFO torsionFit: Not a new_tor but now with end atoms: 4 5\n",
      "18:05:09 INFO torsionFit: Idxs: 4 9 10 6\n",
      "18:05:09 INFO torsionFit: Atom Numbers: 6 6 6 6\n",
      "18:05:09 INFO torsionFit: Not a new_tor but now with end atoms: 4 6\n",
      "18:05:09 INFO torsionFit: Adding to list: 3 9 10 5\n",
      "18:05:09 INFO torsionFit: List of torsion to drive:\n",
      "18:05:09 INFO torsionFit: Idx: 3 9 10 5\n",
      "18:05:09 INFO torsionFit: Atom numbers: 6 6 6 6\n",
      "4_10_11_6\n",
      "/Users/chayastern/src/ChayaSt/torsionfit_examples/torsion_drive/biphenyl/phepyr\n",
      "18:05:09 INFO torsionFit: Idxs: 0 8 9 4\n",
      "18:05:09 INFO torsionFit: Atom Numbers: 6 6 6 6\n",
      "18:05:09 INFO torsionFit: new_tor with central bond across atoms: 8 9\n",
      "18:05:09 INFO torsionFit: Idxs: 0 8 9 5\n",
      "18:05:09 INFO torsionFit: Atom Numbers: 6 6 6 6\n",
      "18:05:09 INFO torsionFit: Not a new_tor but now with end atoms: 0 5\n",
      "18:05:09 INFO torsionFit: Idxs: 1 8 9 4\n",
      "18:05:09 INFO torsionFit: Atom Numbers: 6 6 6 6\n",
      "18:05:09 INFO torsionFit: Not a new_tor but now with end atoms: 1 4\n",
      "18:05:09 INFO torsionFit: Idxs: 1 8 9 5\n",
      "18:05:09 INFO torsionFit: Atom Numbers: 6 6 6 6\n",
      "18:05:09 INFO torsionFit: Not a new_tor but now with end atoms: 1 5\n",
      "18:05:09 INFO torsionFit: Idxs: 2 10 12 21\n",
      "18:05:09 INFO torsionFit: Atom Numbers: 6 6 8 1\n",
      "18:05:09 INFO torsionFit: Adding to list: 0 8 9 4\n",
      "18:05:09 INFO torsionFit: new_tor with central bond across atoms: 10 12\n",
      "18:05:09 INFO torsionFit: Idxs: 3 10 12 21\n",
      "18:05:09 INFO torsionFit: Atom Numbers: 6 6 8 1\n",
      "18:05:09 INFO torsionFit: Not a new_tor but now with end atoms: 3 21\n",
      "18:05:09 INFO torsionFit: Adding to list: 2 10 12 21\n",
      "18:05:09 INFO torsionFit: List of torsion to drive:\n",
      "18:05:09 INFO torsionFit: Idx: 0 8 9 4\n",
      "18:05:09 INFO torsionFit: Atom numbers: 6 6 6 6\n",
      "18:05:09 INFO torsionFit: Idx: 2 10 12 21\n",
      "18:05:09 INFO torsionFit: Atom numbers: 6 6 8 1\n",
      "1_9_10_5\n",
      "/Users/chayastern/src/ChayaSt/torsionfit_examples/torsion_drive/biphenyl/phepyrOH_neutral\n",
      "3_11_13_22\n",
      "/Users/chayastern/src/ChayaSt/torsionfit_examples/torsion_drive/biphenyl/phepyrOH_neutral\n",
      "18:05:09 INFO torsionFit: Idxs: 0 8 9 4\n",
      "18:05:09 INFO torsionFit: Atom Numbers: 6 6 6 6\n",
      "18:05:09 INFO torsionFit: new_tor with central bond across atoms: 8 9\n",
      "18:05:09 INFO torsionFit: Idxs: 0 8 9 5\n",
      "18:05:09 INFO torsionFit: Atom Numbers: 6 6 6 6\n",
      "18:05:09 INFO torsionFit: Not a new_tor but now with end atoms: 0 5\n",
      "18:05:09 INFO torsionFit: Idxs: 1 8 9 4\n",
      "18:05:09 INFO torsionFit: Atom Numbers: 6 6 6 6\n",
      "18:05:09 INFO torsionFit: Not a new_tor but now with end atoms: 1 4\n",
      "18:05:09 INFO torsionFit: Idxs: 1 8 9 5\n",
      "18:05:09 INFO torsionFit: Atom Numbers: 6 6 6 6\n",
      "18:05:09 INFO torsionFit: Not a new_tor but now with end atoms: 1 5\n",
      "18:05:09 INFO torsionFit: Adding to list: 0 8 9 4\n",
      "18:05:09 INFO torsionFit: List of torsion to drive:\n",
      "18:05:09 INFO torsionFit: Idx: 0 8 9 4\n",
      "18:05:09 INFO torsionFit: Atom numbers: 6 6 6 6\n",
      "1_9_10_5\n",
      "/Users/chayastern/src/ChayaSt/torsionfit_examples/torsion_drive/biphenyl/phepyrOH_anion\n",
      "18:05:09 INFO torsionFit: Idxs: 0 8 9 4\n",
      "18:05:09 INFO torsionFit: Atom Numbers: 6 6 6 6\n",
      "18:05:09 INFO torsionFit: new_tor with central bond across atoms: 8 9\n",
      "18:05:09 INFO torsionFit: Idxs: 0 8 9 5\n",
      "18:05:09 INFO torsionFit: Atom Numbers: 6 6 6 6\n",
      "18:05:09 INFO torsionFit: Not a new_tor but now with end atoms: 0 5\n",
      "18:05:09 INFO torsionFit: Idxs: 1 8 9 4\n",
      "18:05:09 INFO torsionFit: Atom Numbers: 6 6 6 6\n",
      "18:05:09 INFO torsionFit: Not a new_tor but now with end atoms: 1 4\n",
      "18:05:09 INFO torsionFit: Idxs: 1 8 9 5\n",
      "18:05:09 INFO torsionFit: Atom Numbers: 6 6 6 6\n",
      "18:05:09 INFO torsionFit: Not a new_tor but now with end atoms: 1 5\n",
      "18:05:09 INFO torsionFit: Idxs: 2 10 12 22\n",
      "18:05:09 INFO torsionFit: Atom Numbers: 6 6 8 1\n",
      "18:05:09 INFO torsionFit: Adding to list: 0 8 9 4\n",
      "18:05:09 INFO torsionFit: new_tor with central bond across atoms: 10 12\n",
      "18:05:09 INFO torsionFit: Idxs: 3 10 12 22\n",
      "18:05:09 INFO torsionFit: Atom Numbers: 6 6 8 1\n",
      "18:05:09 INFO torsionFit: Not a new_tor but now with end atoms: 3 22\n",
      "18:05:09 INFO torsionFit: Adding to list: 2 10 12 22\n",
      "18:05:09 INFO torsionFit: List of torsion to drive:\n",
      "18:05:09 INFO torsionFit: Idx: 0 8 9 4\n",
      "18:05:09 INFO torsionFit: Atom numbers: 6 6 6 6\n",
      "18:05:09 INFO torsionFit: Idx: 2 10 12 22\n",
      "18:05:09 INFO torsionFit: Atom numbers: 6 6 8 1\n",
      "1_9_10_5\n",
      "/Users/chayastern/src/ChayaSt/torsionfit_examples/torsion_drive/biphenyl/phepyrOH_cation\n",
      "3_11_13_23\n",
      "/Users/chayastern/src/ChayaSt/torsionfit_examples/torsion_drive/biphenyl/phepyrOH_cation\n",
      "18:05:10 INFO torsionFit: Idxs: 0 8 9 4\n",
      "18:05:10 INFO torsionFit: Atom Numbers: 6 6 6 6\n",
      "18:05:10 INFO torsionFit: new_tor with central bond across atoms: 8 9\n",
      "18:05:10 INFO torsionFit: Idxs: 0 8 9 5\n",
      "18:05:10 INFO torsionFit: Atom Numbers: 6 6 6 6\n",
      "18:05:10 INFO torsionFit: Not a new_tor but now with end atoms: 0 5\n",
      "18:05:10 INFO torsionFit: Idxs: 1 8 9 4\n",
      "18:05:10 INFO torsionFit: Atom Numbers: 6 6 6 6\n",
      "18:05:10 INFO torsionFit: Not a new_tor but now with end atoms: 1 4\n",
      "18:05:10 INFO torsionFit: Idxs: 1 8 9 5\n",
      "18:05:10 INFO torsionFit: Atom Numbers: 6 6 6 6\n",
      "18:05:10 INFO torsionFit: Not a new_tor but now with end atoms: 1 5\n",
      "18:05:10 INFO torsionFit: Adding to list: 0 8 9 4\n",
      "18:05:10 INFO torsionFit: List of torsion to drive:\n",
      "18:05:10 INFO torsionFit: Idx: 0 8 9 4\n",
      "18:05:10 INFO torsionFit: Atom numbers: 6 6 6 6\n",
      "1_9_10_5\n",
      "/Users/chayastern/src/ChayaSt/torsionfit_examples/torsion_drive/biphenyl/phepyrOH_zwitterion\n",
      "18:05:10 INFO torsionFit: Idxs: 2 8 9 4\n",
      "18:05:10 INFO torsionFit: Atom Numbers: 6 6 6 6\n",
      "18:05:10 INFO torsionFit: new_tor with central bond across atoms: 8 9\n",
      "18:05:10 INFO torsionFit: Idxs: 2 8 9 5\n",
      "18:05:10 INFO torsionFit: Atom Numbers: 6 6 6 6\n",
      "18:05:10 INFO torsionFit: Not a new_tor but now with end atoms: 2 5\n",
      "18:05:10 INFO torsionFit: Idxs: 10 8 9 4\n",
      "18:05:10 INFO torsionFit: Atom Numbers: 6 6 6 6\n",
      "18:05:10 INFO torsionFit: Not a new_tor but now with end atoms: 10 4\n",
      "18:05:10 INFO torsionFit: Idxs: 10 8 9 5\n",
      "18:05:10 INFO torsionFit: Atom Numbers: 6 6 6 6\n",
      "18:05:10 INFO torsionFit: Not a new_tor but now with end atoms: 10 5\n",
      "18:05:10 INFO torsionFit: Adding to list: 2 8 9 4\n",
      "18:05:10 INFO torsionFit: List of torsion to drive:\n",
      "18:05:10 INFO torsionFit: Idx: 2 8 9 4\n",
      "18:05:10 INFO torsionFit: Atom numbers: 6 6 6 6\n",
      "3_9_10_5\n",
      "/Users/chayastern/src/ChayaSt/torsionfit_examples/torsion_drive/biphenyl/phepyrF\n",
      "18:05:10 INFO torsionFit: Idxs: 0 7 8 2\n",
      "18:05:10 INFO torsionFit: Atom Numbers: 6 6 6 6\n",
      "18:05:10 INFO torsionFit: new_tor with central bond across atoms: 7 8\n",
      "18:05:10 INFO torsionFit: Idxs: 0 7 8 3\n",
      "18:05:10 INFO torsionFit: Atom Numbers: 6 6 6 6\n",
      "18:05:10 INFO torsionFit: Not a new_tor but now with end atoms: 0 3\n",
      "18:05:10 INFO torsionFit: Idxs: 10 7 8 2\n",
      "18:05:10 INFO torsionFit: Atom Numbers: 6 6 6 6\n",
      "18:05:10 INFO torsionFit: Not a new_tor but now with end atoms: 10 2\n",
      "18:05:10 INFO torsionFit: Idxs: 10 7 8 3\n",
      "18:05:10 INFO torsionFit: Atom Numbers: 6 6 6 6\n",
      "18:05:10 INFO torsionFit: Not a new_tor but now with end atoms: 10 3\n",
      "18:05:10 INFO torsionFit: Idxs: 1 9 12 21\n",
      "18:05:10 INFO torsionFit: Atom Numbers: 6 6 8 1\n",
      "18:05:10 INFO torsionFit: Adding to list: 0 7 8 2\n",
      "18:05:10 INFO torsionFit: new_tor with central bond across atoms: 9 12\n",
      "18:05:10 INFO torsionFit: Idxs: 4 9 12 21\n",
      "18:05:10 INFO torsionFit: Atom Numbers: 6 6 8 1\n",
      "18:05:10 INFO torsionFit: Not a new_tor but now with end atoms: 4 21\n",
      "18:05:10 INFO torsionFit: Adding to list: 1 9 12 21\n",
      "18:05:10 INFO torsionFit: List of torsion to drive:\n",
      "18:05:10 INFO torsionFit: Idx: 0 7 8 2\n",
      "18:05:10 INFO torsionFit: Atom numbers: 6 6 6 6\n",
      "18:05:10 INFO torsionFit: Idx: 1 9 12 21\n",
      "18:05:10 INFO torsionFit: Atom numbers: 6 6 8 1\n",
      "1_8_9_3\n",
      "/Users/chayastern/src/ChayaSt/torsionfit_examples/torsion_drive/biphenyl/phepyrFOH_neutral\n",
      "2_10_13_22\n",
      "/Users/chayastern/src/ChayaSt/torsionfit_examples/torsion_drive/biphenyl/phepyrFOH_neutral\n",
      "18:05:10 INFO torsionFit: Idxs: 0 7 8 2\n",
      "18:05:10 INFO torsionFit: Atom Numbers: 6 6 6 6\n",
      "18:05:10 INFO torsionFit: new_tor with central bond across atoms: 7 8\n"
     ]
    },
    {
     "name": "stdout",
     "output_type": "stream",
     "text": [
      "18:05:10 INFO torsionFit: Idxs: 0 7 8 3\n",
      "18:05:10 INFO torsionFit: Atom Numbers: 6 6 6 6\n",
      "18:05:10 INFO torsionFit: Not a new_tor but now with end atoms: 0 3\n",
      "18:05:10 INFO torsionFit: Idxs: 10 7 8 2\n",
      "18:05:10 INFO torsionFit: Atom Numbers: 6 6 6 6\n",
      "18:05:10 INFO torsionFit: Not a new_tor but now with end atoms: 10 2\n",
      "18:05:10 INFO torsionFit: Idxs: 10 7 8 3\n",
      "18:05:10 INFO torsionFit: Atom Numbers: 6 6 6 6\n",
      "18:05:10 INFO torsionFit: Not a new_tor but now with end atoms: 10 3\n",
      "18:05:10 INFO torsionFit: Adding to list: 0 7 8 2\n",
      "18:05:10 INFO torsionFit: List of torsion to drive:\n",
      "18:05:10 INFO torsionFit: Idx: 0 7 8 2\n",
      "18:05:10 INFO torsionFit: Atom numbers: 6 6 6 6\n",
      "1_8_9_3\n",
      "/Users/chayastern/src/ChayaSt/torsionfit_examples/torsion_drive/biphenyl/phepyrFOH_anion\n",
      "18:05:10 INFO torsionFit: Idxs: 0 7 8 2\n",
      "18:05:10 INFO torsionFit: Atom Numbers: 6 6 6 6\n",
      "18:05:10 INFO torsionFit: new_tor with central bond across atoms: 7 8\n",
      "18:05:10 INFO torsionFit: Idxs: 0 7 8 3\n",
      "18:05:10 INFO torsionFit: Atom Numbers: 6 6 6 6\n",
      "18:05:10 INFO torsionFit: Not a new_tor but now with end atoms: 0 3\n",
      "18:05:10 INFO torsionFit: Idxs: 10 7 8 2\n",
      "18:05:10 INFO torsionFit: Atom Numbers: 6 6 6 6\n",
      "18:05:10 INFO torsionFit: Not a new_tor but now with end atoms: 10 2\n",
      "18:05:10 INFO torsionFit: Idxs: 10 7 8 3\n",
      "18:05:10 INFO torsionFit: Atom Numbers: 6 6 6 6\n",
      "18:05:10 INFO torsionFit: Not a new_tor but now with end atoms: 10 3\n",
      "18:05:10 INFO torsionFit: Idxs: 1 9 12 22\n",
      "18:05:10 INFO torsionFit: Atom Numbers: 6 6 8 1\n",
      "18:05:10 INFO torsionFit: Adding to list: 0 7 8 2\n",
      "18:05:10 INFO torsionFit: new_tor with central bond across atoms: 9 12\n",
      "18:05:10 INFO torsionFit: Idxs: 4 9 12 22\n",
      "18:05:10 INFO torsionFit: Atom Numbers: 6 6 8 1\n",
      "18:05:10 INFO torsionFit: Not a new_tor but now with end atoms: 4 22\n",
      "18:05:10 INFO torsionFit: Adding to list: 1 9 12 22\n",
      "18:05:10 INFO torsionFit: List of torsion to drive:\n",
      "18:05:10 INFO torsionFit: Idx: 0 7 8 2\n",
      "18:05:10 INFO torsionFit: Atom numbers: 6 6 6 6\n",
      "18:05:10 INFO torsionFit: Idx: 1 9 12 22\n",
      "18:05:10 INFO torsionFit: Atom numbers: 6 6 8 1\n",
      "1_8_9_3\n",
      "/Users/chayastern/src/ChayaSt/torsionfit_examples/torsion_drive/biphenyl/phepyrFOH_cation\n",
      "2_10_13_23\n",
      "/Users/chayastern/src/ChayaSt/torsionfit_examples/torsion_drive/biphenyl/phepyrFOH_cation\n",
      "18:05:11 INFO torsionFit: Idxs: 0 7 8 2\n",
      "18:05:11 INFO torsionFit: Atom Numbers: 6 6 6 6\n",
      "18:05:11 INFO torsionFit: new_tor with central bond across atoms: 7 8\n",
      "18:05:11 INFO torsionFit: Idxs: 0 7 8 3\n",
      "18:05:11 INFO torsionFit: Atom Numbers: 6 6 6 6\n",
      "18:05:11 INFO torsionFit: Not a new_tor but now with end atoms: 0 3\n",
      "18:05:11 INFO torsionFit: Idxs: 10 7 8 2\n",
      "18:05:11 INFO torsionFit: Atom Numbers: 6 6 6 6\n",
      "18:05:11 INFO torsionFit: Not a new_tor but now with end atoms: 10 2\n",
      "18:05:11 INFO torsionFit: Idxs: 10 7 8 3\n",
      "18:05:11 INFO torsionFit: Atom Numbers: 6 6 6 6\n",
      "18:05:11 INFO torsionFit: Not a new_tor but now with end atoms: 10 3\n",
      "18:05:11 INFO torsionFit: Adding to list: 0 7 8 2\n",
      "18:05:11 INFO torsionFit: List of torsion to drive:\n",
      "18:05:11 INFO torsionFit: Idx: 0 7 8 2\n",
      "18:05:11 INFO torsionFit: Atom numbers: 6 6 6 6\n",
      "1_8_9_3\n",
      "/Users/chayastern/src/ChayaSt/torsionfit_examples/torsion_drive/biphenyl/phepyrFOH_zwitterion\n"
     ]
    }
   ],
   "source": [
    "ifs = oechem.oemolistream()\n",
    "ifs.open('4phepyr.oeb')\n",
    "ofs = oechem.oemolostream()\n",
    "for mol in ifs.GetOEGraphMols():\n",
    "    charge = 0\n",
    "    title = mol.GetTitle()[1:]\n",
    "    smiles = oechem.OEMolToSmiles(mol)\n",
    "    charge += smiles.count('+')\n",
    "    charge -= smiles.count('-')  \n",
    "    fname = \"{}.mol2\".format(title)\n",
    "    ofs.open(fname)\n",
    "    oechem.OEWriteMolecule(ofs, mol)\n",
    "    path = os.path.join(os.getcwd(), title)    \n",
    "    # Generate scan input files\n",
    "    torsion_scan.generate_torsions(fname, path, 15)\n",
    "    for folder in os.listdir(path):\n",
    "        path_new = os.path.join(path, folder)\n",
    "        torsion_scan.generate_scan_input(root=path_new, filetype='pdb', mol_name=title, method=['MP2'], \n",
    "                             basis_set=['aug-cc-PVTZ'], symmetry='C1', charge=charge, mem='5 Gb')\n",
    "        \n",
    "ifs.close()"
   ]
  },
  {
   "cell_type": "code",
   "execution_count": 132,
   "metadata": {},
   "outputs": [
    {
     "name": "stdout",
     "output_type": "stream",
     "text": [
      "[Psi /Users/chayastern/src/ChayaSt/torsionfit_examples/torsion_drive/biphenyl/phepyr/4_10_11_6/0/phepyr_4_10_11_6_0.out WARNING] In logfileparser.py, line 472, line not all dashes as expected: --------------------------------------------------------------------------------------------- ~\n",
      "[Psi /Users/chayastern/src/ChayaSt/torsionfit_examples/torsion_drive/biphenyl/phepyr/4_10_11_6/15/phepyr_4_10_11_6_15.archive2.out WARNING] In logfileparser.py, line 472, line not all dashes as expected: --------------------------------------------------------------------------------------------- ~\n"
     ]
    },
    {
     "name": "stderr",
     "output_type": "stream",
     "text": [
      "/Users/chayastern/anaconda/lib/python3.6/site-packages/pandas/io/parsers.py:2108: FutureWarning: split() requires a non-empty pattern match.\n",
      "  yield pat.split(line.strip())\n",
      "/Users/chayastern/anaconda/lib/python3.6/site-packages/pandas/io/parsers.py:2110: FutureWarning: split() requires a non-empty pattern match.\n",
      "  yield pat.split(line.strip())\n"
     ]
    },
    {
     "name": "stdout",
     "output_type": "stream",
     "text": [
      "[Psi /Users/chayastern/src/ChayaSt/torsionfit_examples/torsion_drive/biphenyl/phepyr/4_10_11_6/15/phepyr_4_10_11_6_15.archive2.out WARNING] In logfileparser.py, line 472, line not all dashes as expected: --------------------------------------------------------------------------------------------- ~\n",
      "[Psi /Users/chayastern/src/ChayaSt/torsionfit_examples/torsion_drive/biphenyl/phepyr/4_10_11_6/30/phepyr_4_10_11_6_30.out WARNING] In logfileparser.py, line 472, line not all dashes as expected: --------------------------------------------------------------------------------------------- ~\n",
      "[Psi /Users/chayastern/src/ChayaSt/torsionfit_examples/torsion_drive/biphenyl/phepyr/4_10_11_6/45/phepyr_4_10_11_6_45.out WARNING] In logfileparser.py, line 472, line not all dashes as expected: --------------------------------------------------------------------------------------------- ~\n",
      "[Psi /Users/chayastern/src/ChayaSt/torsionfit_examples/torsion_drive/biphenyl/phepyr/4_10_11_6/60/phepyr_4_10_11_6_60.out WARNING] In logfileparser.py, line 472, line not all dashes as expected: --------------------------------------------------------------------------------------------- ~\n"
     ]
    },
    {
     "name": "stderr",
     "output_type": "stream",
     "text": [
      "/Users/chayastern/anaconda/lib/python3.6/site-packages/torsionfit-0+untagged.607.g735d503.dirty-py3.6.egg/torsionfit/database/qmdatabase.py:217: UserWarning: Warning: Optimizer failed for /Users/chayastern/src/ChayaSt/torsionfit_examples/torsion_drive/biphenyl/phepyr/4_10_11_6/15/phepyr_4_10_11_6_15.archive2.out\n",
      "  warnings.warn(\"Warning: Optimizer failed for {}\".format(f))\n"
     ]
    },
    {
     "name": "stdout",
     "output_type": "stream",
     "text": [
      "[Psi /Users/chayastern/src/ChayaSt/torsionfit_examples/torsion_drive/biphenyl/phepyr/4_10_11_6/60/phepyr_4_10_11_6_60.out WARNING] In logfileparser.py, line 472, line not all dashes as expected: --------------------------------------------------------------------------------------------- ~\n",
      "[Psi /Users/chayastern/src/ChayaSt/torsionfit_examples/torsion_drive/biphenyl/phepyr/4_10_11_6/75/phepyr_4_10_11_6_75.out WARNING] In logfileparser.py, line 472, line not all dashes as expected: --------------------------------------------------------------------------------------------- ~\n",
      "[Psi /Users/chayastern/src/ChayaSt/torsionfit_examples/torsion_drive/biphenyl/phepyr/4_10_11_6/90/phepyr_4_10_11_6_90.out WARNING] In logfileparser.py, line 472, line not all dashes as expected: --------------------------------------------------------------------------------------------- ~\n"
     ]
    },
    {
     "name": "stderr",
     "output_type": "stream",
     "text": [
      "/Users/chayastern/anaconda/lib/python3.6/site-packages/torsionfit-0+untagged.607.g735d503.dirty-py3.6.egg/torsionfit/database/qmdatabase.py:217: UserWarning: Warning: Optimizer failed for /Users/chayastern/src/ChayaSt/torsionfit_examples/torsion_drive/biphenyl/phepyr/4_10_11_6/60/phepyr_4_10_11_6_60.out\n",
      "  warnings.warn(\"Warning: Optimizer failed for {}\".format(f))\n"
     ]
    },
    {
     "name": "stdout",
     "output_type": "stream",
     "text": [
      "[Psi /Users/chayastern/src/ChayaSt/torsionfit_examples/torsion_drive/biphenyl/phepyr/4_10_11_6/105/phepyr_4_10_11_6_105.out WARNING] In logfileparser.py, line 472, line not all dashes as expected: --------------------------------------------------------------------------------------------- ~\n",
      "[Psi /Users/chayastern/src/ChayaSt/torsionfit_examples/torsion_drive/biphenyl/phepyr/4_10_11_6/120/phepyr_4_10_11_6_120.out WARNING] In logfileparser.py, line 472, line not all dashes as expected: --------------------------------------------------------------------------------------------- ~\n",
      "[Psi /Users/chayastern/src/ChayaSt/torsionfit_examples/torsion_drive/biphenyl/phepyr/4_10_11_6/135/phepyr_4_10_11_6_135.out WARNING] In logfileparser.py, line 472, line not all dashes as expected: --------------------------------------------------------------------------------------------- ~\n",
      "[Psi /Users/chayastern/src/ChayaSt/torsionfit_examples/torsion_drive/biphenyl/phepyr/4_10_11_6/150/phepyr_4_10_11_6_150.out WARNING] In logfileparser.py, line 472, line not all dashes as expected: --------------------------------------------------------------------------------------------- ~\n",
      "[Psi /Users/chayastern/src/ChayaSt/torsionfit_examples/torsion_drive/biphenyl/phepyr/4_10_11_6/165/phepyr_4_10_11_6_165.out WARNING] In logfileparser.py, line 472, line not all dashes as expected: --------------------------------------------------------------------------------------------- ~\n",
      "[Psi /Users/chayastern/src/ChayaSt/torsionfit_examples/torsion_drive/biphenyl/phepyr/4_10_11_6/180/phepyr_4_10_11_6_180.out WARNING] In logfileparser.py, line 472, line not all dashes as expected: --------------------------------------------------------------------------------------------- ~\n",
      "[Psi /Users/chayastern/src/ChayaSt/torsionfit_examples/torsion_drive/biphenyl/phepyr/4_10_11_6/180/phepyr_4_10_11_6_180.out WARNING] In logfileparser.py, line 472, line not all dashes as expected: --------------------------------------------------------------------------------------------- ~\n",
      "[Psi /Users/chayastern/src/ChayaSt/torsionfit_examples/torsion_drive/biphenyl/phepyr/4_10_11_6/195/phepyr_4_10_11_6_195.out WARNING] In logfileparser.py, line 472, line not all dashes as expected: --------------------------------------------------------------------------------------------- ~\n",
      "[Psi /Users/chayastern/src/ChayaSt/torsionfit_examples/torsion_drive/biphenyl/phepyr/4_10_11_6/210/phepyr_4_10_11_6_210.out WARNING] In logfileparser.py, line 472, line not all dashes as expected: --------------------------------------------------------------------------------------------- ~\n"
     ]
    },
    {
     "name": "stderr",
     "output_type": "stream",
     "text": [
      "/Users/chayastern/anaconda/lib/python3.6/site-packages/torsionfit-0+untagged.607.g735d503.dirty-py3.6.egg/torsionfit/database/qmdatabase.py:217: UserWarning: Warning: Optimizer failed for /Users/chayastern/src/ChayaSt/torsionfit_examples/torsion_drive/biphenyl/phepyr/4_10_11_6/180/phepyr_4_10_11_6_180.out\n",
      "  warnings.warn(\"Warning: Optimizer failed for {}\".format(f))\n"
     ]
    },
    {
     "name": "stdout",
     "output_type": "stream",
     "text": [
      "[Psi /Users/chayastern/src/ChayaSt/torsionfit_examples/torsion_drive/biphenyl/phepyr/4_10_11_6/225/phepyr_4_10_11_6_225.out WARNING] In logfileparser.py, line 472, line not all dashes as expected: --------------------------------------------------------------------------------------------- ~\n",
      "[Psi /Users/chayastern/src/ChayaSt/torsionfit_examples/torsion_drive/biphenyl/phepyr/4_10_11_6/225/phepyr_4_10_11_6_225.out WARNING] In logfileparser.py, line 472, line not all dashes as expected: --------------------------------------------------------------------------------------------- ~\n",
      "[Psi /Users/chayastern/src/ChayaSt/torsionfit_examples/torsion_drive/biphenyl/phepyr/4_10_11_6/240/phepyr_4_10_11_6_240.out WARNING] In logfileparser.py, line 472, line not all dashes as expected: --------------------------------------------------------------------------------------------- ~\n"
     ]
    },
    {
     "name": "stderr",
     "output_type": "stream",
     "text": [
      "/Users/chayastern/anaconda/lib/python3.6/site-packages/torsionfit-0+untagged.607.g735d503.dirty-py3.6.egg/torsionfit/database/qmdatabase.py:217: UserWarning: Warning: Optimizer failed for /Users/chayastern/src/ChayaSt/torsionfit_examples/torsion_drive/biphenyl/phepyr/4_10_11_6/225/phepyr_4_10_11_6_225.out\n",
      "  warnings.warn(\"Warning: Optimizer failed for {}\".format(f))\n"
     ]
    },
    {
     "name": "stdout",
     "output_type": "stream",
     "text": [
      "[Psi /Users/chayastern/src/ChayaSt/torsionfit_examples/torsion_drive/biphenyl/phepyr/4_10_11_6/255/phepyr_4_10_11_6_255.out WARNING] In logfileparser.py, line 472, line not all dashes as expected: --------------------------------------------------------------------------------------------- ~\n",
      "[Psi /Users/chayastern/src/ChayaSt/torsionfit_examples/torsion_drive/biphenyl/phepyr/4_10_11_6/270/phepyr_4_10_11_6_270.out WARNING] In logfileparser.py, line 472, line not all dashes as expected: --------------------------------------------------------------------------------------------- ~\n",
      "[Psi /Users/chayastern/src/ChayaSt/torsionfit_examples/torsion_drive/biphenyl/phepyr/4_10_11_6/285/phepyr_4_10_11_6_285.out WARNING] In logfileparser.py, line 472, line not all dashes as expected: --------------------------------------------------------------------------------------------- ~\n",
      "[Psi /Users/chayastern/src/ChayaSt/torsionfit_examples/torsion_drive/biphenyl/phepyr/4_10_11_6/300/phepyr_4_10_11_6_300.out WARNING] In logfileparser.py, line 472, line not all dashes as expected: --------------------------------------------------------------------------------------------- ~\n",
      "[Psi /Users/chayastern/src/ChayaSt/torsionfit_examples/torsion_drive/biphenyl/phepyr/4_10_11_6/315/phepyr_4_10_11_6_315.out WARNING] In logfileparser.py, line 472, line not all dashes as expected: --------------------------------------------------------------------------------------------- ~\n",
      "[Psi /Users/chayastern/src/ChayaSt/torsionfit_examples/torsion_drive/biphenyl/phepyr/4_10_11_6/330/phepyr_4_10_11_6_330.out WARNING] In logfileparser.py, line 472, line not all dashes as expected: --------------------------------------------------------------------------------------------- ~\n",
      "[Psi /Users/chayastern/src/ChayaSt/torsionfit_examples/torsion_drive/biphenyl/phepyr/4_10_11_6/345/phepyr_4_10_11_6_345.out WARNING] In logfileparser.py, line 472, line not all dashes as expected: --------------------------------------------------------------------------------------------- ~\n"
     ]
    }
   ],
   "source": [
    "phephyr = parse_psi4_out('phepyr/', '4phepyr.mol2')"
   ]
  },
  {
   "cell_type": "code",
   "execution_count": 133,
   "metadata": {},
   "outputs": [
    {
     "data": {
      "image/png": "[encoded data removed]",
      "text/plain": [
       "<matplotlib.figure.Figure at 0x11a302cc0>"
      ]
     },
     "metadata": {},
     "output_type": "display_data"
    }
   ],
   "source": [
    "# remove \n",
    "phephyr_opt = phephyr.remove_nonoptimized()\n",
    "plt.plot(test.angles, phephyr.qm_energy, 'o', color='red', label='non converging')\n",
    "plt.plot(test.angles, phephyr.qm_energy, color='red');\n",
    "plt.plot(phephyr_opt.angles, phephyr_opt.qm_energy, 'o', label='converged');\n",
    "plt.legend()\n",
    "plt.title('4-Phenylpyridine')\n",
    "plt.xlabel('Torsion angle (degrees)')\n",
    "plt.ylabel('Relative energy (kJ/mol)')\n",
    "plt.savefig('phepyr_scan.png');"
   ]
  },
  {
   "cell_type": "code",
   "execution_count": 26,
   "metadata": {},
   "outputs": [
    {
     "name": "stdout",
     "output_type": "stream",
     "text": [
      "[Psi /Users/chayastern/src/ChayaSt/torsionfit_examples/torsion_drive/biphenyl/phepyrF/3_9_10_5/0/phepyrF_3_9_10_5_0.out WARNING] In logfileparser.py, line 472, line not all dashes as expected: --------------------------------------------------------------------------------------------- ~\n"
     ]
    },
    {
     "name": "stderr",
     "output_type": "stream",
     "text": [
      "/Users/chayastern/anaconda/lib/python3.6/site-packages/pandas/io/parsers.py:2108: FutureWarning: split() requires a non-empty pattern match.\n",
      "  yield pat.split(line.strip())\n",
      "/Users/chayastern/anaconda/lib/python3.6/site-packages/pandas/io/parsers.py:2110: FutureWarning: split() requires a non-empty pattern match.\n",
      "  yield pat.split(line.strip())\n"
     ]
    },
    {
     "name": "stdout",
     "output_type": "stream",
     "text": [
      "[Psi /Users/chayastern/src/ChayaSt/torsionfit_examples/torsion_drive/biphenyl/phepyrF/3_9_10_5/15/phepyrF_3_9_10_5_15.out WARNING] In logfileparser.py, line 472, line not all dashes as expected: --------------------------------------------------------------------------------------------- ~\n",
      "[Psi /Users/chayastern/src/ChayaSt/torsionfit_examples/torsion_drive/biphenyl/phepyrF/3_9_10_5/15/phepyrF_3_9_10_5_15.out WARNING] In logfileparser.py, line 472, line not all dashes as expected: --------------------------------------------------------------------------------------------- ~\n",
      "[Psi /Users/chayastern/src/ChayaSt/torsionfit_examples/torsion_drive/biphenyl/phepyrF/3_9_10_5/30/phepyrF_3_9_10_5_30.out WARNING] In logfileparser.py, line 472, line not all dashes as expected: --------------------------------------------------------------------------------------------- ~\n",
      "[Psi /Users/chayastern/src/ChayaSt/torsionfit_examples/torsion_drive/biphenyl/phepyrF/3_9_10_5/45/phepyrF_3_9_10_5_45.out WARNING] In logfileparser.py, line 472, line not all dashes as expected: --------------------------------------------------------------------------------------------- ~\n"
     ]
    },
    {
     "name": "stderr",
     "output_type": "stream",
     "text": [
      "/Users/chayastern/anaconda/lib/python3.6/site-packages/torsionfit-0+untagged.607.g735d503.dirty-py3.6.egg/torsionfit/database/qmdatabase.py:217: UserWarning: Warning: Optimizer failed for /Users/chayastern/src/ChayaSt/torsionfit_examples/torsion_drive/biphenyl/phepyrF/3_9_10_5/15/phepyrF_3_9_10_5_15.out\n",
      "  warnings.warn(\"Warning: Optimizer failed for {}\".format(f))\n"
     ]
    },
    {
     "name": "stdout",
     "output_type": "stream",
     "text": [
      "[Psi /Users/chayastern/src/ChayaSt/torsionfit_examples/torsion_drive/biphenyl/phepyrF/3_9_10_5/60/phepyrF_3_9_10_5_60.out WARNING] In logfileparser.py, line 472, line not all dashes as expected: --------------------------------------------------------------------------------------------- ~\n",
      "[Psi /Users/chayastern/src/ChayaSt/torsionfit_examples/torsion_drive/biphenyl/phepyrF/3_9_10_5/75/phepyrF_3_9_10_5_75.out WARNING] In logfileparser.py, line 472, line not all dashes as expected: --------------------------------------------------------------------------------------------- ~\n",
      "[Psi /Users/chayastern/src/ChayaSt/torsionfit_examples/torsion_drive/biphenyl/phepyrF/3_9_10_5/90/phepyrF_3_9_10_5_90.out WARNING] In logfileparser.py, line 472, line not all dashes as expected: --------------------------------------------------------------------------------------------- ~\n",
      "[Psi /Users/chayastern/src/ChayaSt/torsionfit_examples/torsion_drive/biphenyl/phepyrF/3_9_10_5/105/phepyrF_3_9_10_5_105.out WARNING] In logfileparser.py, line 472, line not all dashes as expected: --------------------------------------------------------------------------------------------- ~\n",
      "[Psi /Users/chayastern/src/ChayaSt/torsionfit_examples/torsion_drive/biphenyl/phepyrF/3_9_10_5/120/phepyrF_3_9_10_5_120.out WARNING] In logfileparser.py, line 472, line not all dashes as expected: --------------------------------------------------------------------------------------------- ~\n",
      "[Psi /Users/chayastern/src/ChayaSt/torsionfit_examples/torsion_drive/biphenyl/phepyrF/3_9_10_5/135/phepyrF_3_9_10_5_135.out WARNING] In logfileparser.py, line 472, line not all dashes as expected: --------------------------------------------------------------------------------------------- ~\n",
      "[Psi /Users/chayastern/src/ChayaSt/torsionfit_examples/torsion_drive/biphenyl/phepyrF/3_9_10_5/150/phepyrF_3_9_10_5_150.out WARNING] In logfileparser.py, line 472, line not all dashes as expected: --------------------------------------------------------------------------------------------- ~\n",
      "[Psi /Users/chayastern/src/ChayaSt/torsionfit_examples/torsion_drive/biphenyl/phepyrF/3_9_10_5/165/phepyrF_3_9_10_5_165.out WARNING] In logfileparser.py, line 472, line not all dashes as expected: --------------------------------------------------------------------------------------------- ~\n",
      "[Psi /Users/chayastern/src/ChayaSt/torsionfit_examples/torsion_drive/biphenyl/phepyrF/3_9_10_5/180/phepyrF_3_9_10_5_180.out WARNING] In logfileparser.py, line 472, line not all dashes as expected: --------------------------------------------------------------------------------------------- ~\n",
      "[Psi /Users/chayastern/src/ChayaSt/torsionfit_examples/torsion_drive/biphenyl/phepyrF/3_9_10_5/180/phepyrF_3_9_10_5_180.out WARNING] In logfileparser.py, line 472, line not all dashes as expected: --------------------------------------------------------------------------------------------- ~\n",
      "[Psi /Users/chayastern/src/ChayaSt/torsionfit_examples/torsion_drive/biphenyl/phepyrF/3_9_10_5/195/phepyrF_3_9_10_5_195.out WARNING] In logfileparser.py, line 472, line not all dashes as expected: --------------------------------------------------------------------------------------------- ~\n"
     ]
    },
    {
     "name": "stderr",
     "output_type": "stream",
     "text": [
      "/Users/chayastern/anaconda/lib/python3.6/site-packages/torsionfit-0+untagged.607.g735d503.dirty-py3.6.egg/torsionfit/database/qmdatabase.py:217: UserWarning: Warning: Optimizer failed for /Users/chayastern/src/ChayaSt/torsionfit_examples/torsion_drive/biphenyl/phepyrF/3_9_10_5/180/phepyrF_3_9_10_5_180.out\n",
      "  warnings.warn(\"Warning: Optimizer failed for {}\".format(f))\n"
     ]
    },
    {
     "name": "stdout",
     "output_type": "stream",
     "text": [
      "[Psi /Users/chayastern/src/ChayaSt/torsionfit_examples/torsion_drive/biphenyl/phepyrF/3_9_10_5/210/phepyrF_3_9_10_5_210.out WARNING] In logfileparser.py, line 472, line not all dashes as expected: --------------------------------------------------------------------------------------------- ~\n",
      "[Psi /Users/chayastern/src/ChayaSt/torsionfit_examples/torsion_drive/biphenyl/phepyrF/3_9_10_5/225/phepyrF_3_9_10_5_225.out WARNING] In logfileparser.py, line 472, line not all dashes as expected: --------------------------------------------------------------------------------------------- ~\n",
      "[Psi /Users/chayastern/src/ChayaSt/torsionfit_examples/torsion_drive/biphenyl/phepyrF/3_9_10_5/240/phepyrF_3_9_10_5_240.out WARNING] In logfileparser.py, line 472, line not all dashes as expected: --------------------------------------------------------------------------------------------- ~\n",
      "[Psi /Users/chayastern/src/ChayaSt/torsionfit_examples/torsion_drive/biphenyl/phepyrF/3_9_10_5/255/phepyrF_3_9_10_5_255.out WARNING] In logfileparser.py, line 472, line not all dashes as expected: --------------------------------------------------------------------------------------------- ~\n",
      "[Psi /Users/chayastern/src/ChayaSt/torsionfit_examples/torsion_drive/biphenyl/phepyrF/3_9_10_5/270/phepyrF_3_9_10_5_270.out WARNING] In logfileparser.py, line 472, line not all dashes as expected: --------------------------------------------------------------------------------------------- ~\n",
      "[Psi /Users/chayastern/src/ChayaSt/torsionfit_examples/torsion_drive/biphenyl/phepyrF/3_9_10_5/285/phepyrF_3_9_10_5_285.out WARNING] In logfileparser.py, line 472, line not all dashes as expected: --------------------------------------------------------------------------------------------- ~\n",
      "[Psi /Users/chayastern/src/ChayaSt/torsionfit_examples/torsion_drive/biphenyl/phepyrF/3_9_10_5/300/phepyrF_3_9_10_5_300.out WARNING] In logfileparser.py, line 472, line not all dashes as expected: --------------------------------------------------------------------------------------------- ~\n",
      "[Psi /Users/chayastern/src/ChayaSt/torsionfit_examples/torsion_drive/biphenyl/phepyrF/3_9_10_5/300/phepyrF_3_9_10_5_300.out WARNING] In logfileparser.py, line 472, line not all dashes as expected: --------------------------------------------------------------------------------------------- ~\n",
      "[Psi /Users/chayastern/src/ChayaSt/torsionfit_examples/torsion_drive/biphenyl/phepyrF/3_9_10_5/315/phepyrF_3_9_10_5_315.out WARNING] In logfileparser.py, line 472, line not all dashes as expected: --------------------------------------------------------------------------------------------- ~\n",
      "[Psi /Users/chayastern/src/ChayaSt/torsionfit_examples/torsion_drive/biphenyl/phepyrF/3_9_10_5/330/phepyrF_3_9_10_5_330.out WARNING] In logfileparser.py, line 472, line not all dashes as expected: --------------------------------------------------------------------------------------------- ~\n",
      "[Psi /Users/chayastern/src/ChayaSt/torsionfit_examples/torsion_drive/biphenyl/phepyrF/3_9_10_5/345/phepyrF_3_9_10_5_345.out WARNING] In logfileparser.py, line 472, line not all dashes as expected: --------------------------------------------------------------------------------------------- ~\n"
     ]
    }
   ],
   "source": [
    "phephyrF = parse_psi4_out('phepyrF/', '4phepyrF.mol2')"
   ]
  },
  {
   "cell_type": "code",
   "execution_count": 131,
   "metadata": {},
   "outputs": [
    {
     "data": {
      "image/png": "[encoded data removed]",
      "text/plain": [
       "<matplotlib.figure.Figure at 0x119d1cac8>"
      ]
     },
     "metadata": {},
     "output_type": "display_data"
    }
   ],
   "source": [
    "# remove \n",
    "phephyrF_opt = phephyrF.remove_nonoptimized()\n",
    "plt.plot(phephyrF.angles, phephyrF.qm_energy, 'o', color='red', label='non converging')\n",
    "plt.plot(phephyrF.angles, phephyrF.qm_energy, color='red');\n",
    "plt.plot(phephyrF_opt.angles, phephyrF_opt.qm_energy, 'o', label='converged');\n",
    "plt.legend()\n",
    "plt.title('4-(2-fluorophenyl)pyridine')\n",
    "plt.xlabel('Torsion angle (degrees)')\n",
    "#plt.ylim(0, 10)\n",
    "plt.ylabel('Relative energy (kJ/mol)')\n",
    "plt.savefig('phepyrF_scan.png');"
   ]
  },
  {
   "cell_type": "code",
   "execution_count": 134,
   "metadata": {},
   "outputs": [
    {
     "name": "stdout",
     "output_type": "stream",
     "text": [
      "[Psi /Users/chayastern/src/ChayaSt/torsionfit_examples/torsion_drive/biphenyl/phepyrFOH_anion//1_8_9_3/0/phepyrFOH_anion_1_8_9_3_0.out WARNING] In logfileparser.py, line 472, line not all dashes as expected: --------------------------------------------------------------------------------------------- ~\n"
     ]
    },
    {
     "name": "stderr",
     "output_type": "stream",
     "text": [
      "/Users/chayastern/anaconda/lib/python3.6/site-packages/pandas/io/parsers.py:2108: FutureWarning: split() requires a non-empty pattern match.\n",
      "  yield pat.split(line.strip())\n",
      "/Users/chayastern/anaconda/lib/python3.6/site-packages/pandas/io/parsers.py:2110: FutureWarning: split() requires a non-empty pattern match.\n",
      "  yield pat.split(line.strip())\n"
     ]
    },
    {
     "name": "stdout",
     "output_type": "stream",
     "text": [
      "[Psi /Users/chayastern/src/ChayaSt/torsionfit_examples/torsion_drive/biphenyl/phepyrFOH_anion//1_8_9_3/15/phepyrFOH_anion_1_8_9_3_15.out WARNING] In logfileparser.py, line 472, line not all dashes as expected: --------------------------------------------------------------------------------------------- ~\n",
      "[Psi /Users/chayastern/src/ChayaSt/torsionfit_examples/torsion_drive/biphenyl/phepyrFOH_anion//1_8_9_3/30/phepyrFOH_anion_1_8_9_3_30.out WARNING] In logfileparser.py, line 472, line not all dashes as expected: --------------------------------------------------------------------------------------------- ~\n",
      "[Psi /Users/chayastern/src/ChayaSt/torsionfit_examples/torsion_drive/biphenyl/phepyrFOH_anion//1_8_9_3/45/phepyrFOH_anion_1_8_9_3_45.out WARNING] In logfileparser.py, line 472, line not all dashes as expected: --------------------------------------------------------------------------------------------- ~\n",
      "[Psi /Users/chayastern/src/ChayaSt/torsionfit_examples/torsion_drive/biphenyl/phepyrFOH_anion//1_8_9_3/45/phepyrFOH_anion_1_8_9_3_45.out WARNING] In logfileparser.py, line 472, line not all dashes as expected: --------------------------------------------------------------------------------------------- ~\n",
      "[Psi /Users/chayastern/src/ChayaSt/torsionfit_examples/torsion_drive/biphenyl/phepyrFOH_anion//1_8_9_3/60/phepyrFOH_anion_1_8_9_3_60.out WARNING] In logfileparser.py, line 472, line not all dashes as expected: --------------------------------------------------------------------------------------------- ~\n"
     ]
    },
    {
     "name": "stderr",
     "output_type": "stream",
     "text": [
      "/Users/chayastern/anaconda/lib/python3.6/site-packages/torsionfit-0+untagged.607.g735d503.dirty-py3.6.egg/torsionfit/database/qmdatabase.py:217: UserWarning: Warning: Optimizer failed for /Users/chayastern/src/ChayaSt/torsionfit_examples/torsion_drive/biphenyl/phepyrFOH_anion//1_8_9_3/45/phepyrFOH_anion_1_8_9_3_45.out\n",
      "  warnings.warn(\"Warning: Optimizer failed for {}\".format(f))\n"
     ]
    },
    {
     "name": "stdout",
     "output_type": "stream",
     "text": [
      "[Psi /Users/chayastern/src/ChayaSt/torsionfit_examples/torsion_drive/biphenyl/phepyrFOH_anion//1_8_9_3/60/phepyrFOH_anion_1_8_9_3_60.out WARNING] In logfileparser.py, line 472, line not all dashes as expected: --------------------------------------------------------------------------------------------- ~\n",
      "[Psi /Users/chayastern/src/ChayaSt/torsionfit_examples/torsion_drive/biphenyl/phepyrFOH_anion//1_8_9_3/75/phepyrFOH_anion_1_8_9_3_75.out WARNING] In logfileparser.py, line 472, line not all dashes as expected: --------------------------------------------------------------------------------------------- ~\n"
     ]
    },
    {
     "name": "stderr",
     "output_type": "stream",
     "text": [
      "/Users/chayastern/anaconda/lib/python3.6/site-packages/torsionfit-0+untagged.607.g735d503.dirty-py3.6.egg/torsionfit/database/qmdatabase.py:217: UserWarning: Warning: Optimizer failed for /Users/chayastern/src/ChayaSt/torsionfit_examples/torsion_drive/biphenyl/phepyrFOH_anion//1_8_9_3/60/phepyrFOH_anion_1_8_9_3_60.out\n",
      "  warnings.warn(\"Warning: Optimizer failed for {}\".format(f))\n"
     ]
    },
    {
     "name": "stdout",
     "output_type": "stream",
     "text": [
      "[Psi /Users/chayastern/src/ChayaSt/torsionfit_examples/torsion_drive/biphenyl/phepyrFOH_anion//1_8_9_3/75/phepyrFOH_anion_1_8_9_3_75.out WARNING] In logfileparser.py, line 472, line not all dashes as expected: --------------------------------------------------------------------------------------------- ~\n",
      "[Psi /Users/chayastern/src/ChayaSt/torsionfit_examples/torsion_drive/biphenyl/phepyrFOH_anion//1_8_9_3/90/phepyrFOH_anion_1_8_9_3_90.out WARNING] In logfileparser.py, line 472, line not all dashes as expected: --------------------------------------------------------------------------------------------- ~\n"
     ]
    },
    {
     "name": "stderr",
     "output_type": "stream",
     "text": [
      "/Users/chayastern/anaconda/lib/python3.6/site-packages/torsionfit-0+untagged.607.g735d503.dirty-py3.6.egg/torsionfit/database/qmdatabase.py:217: UserWarning: Warning: Optimizer failed for /Users/chayastern/src/ChayaSt/torsionfit_examples/torsion_drive/biphenyl/phepyrFOH_anion//1_8_9_3/75/phepyrFOH_anion_1_8_9_3_75.out\n",
      "  warnings.warn(\"Warning: Optimizer failed for {}\".format(f))\n"
     ]
    },
    {
     "name": "stdout",
     "output_type": "stream",
     "text": [
      "[Psi /Users/chayastern/src/ChayaSt/torsionfit_examples/torsion_drive/biphenyl/phepyrFOH_anion//1_8_9_3/105/phepyrFOH_anion_1_8_9_3_105.out WARNING] In logfileparser.py, line 472, line not all dashes as expected: --------------------------------------------------------------------------------------------- ~\n",
      "[Psi /Users/chayastern/src/ChayaSt/torsionfit_examples/torsion_drive/biphenyl/phepyrFOH_anion//1_8_9_3/105/phepyrFOH_anion_1_8_9_3_105.out WARNING] In logfileparser.py, line 472, line not all dashes as expected: --------------------------------------------------------------------------------------------- ~\n",
      "[Psi /Users/chayastern/src/ChayaSt/torsionfit_examples/torsion_drive/biphenyl/phepyrFOH_anion//1_8_9_3/120/phepyrFOH_anion_1_8_9_3_120.out WARNING] In logfileparser.py, line 472, line not all dashes as expected: --------------------------------------------------------------------------------------------- ~\n"
     ]
    },
    {
     "name": "stderr",
     "output_type": "stream",
     "text": [
      "/Users/chayastern/anaconda/lib/python3.6/site-packages/torsionfit-0+untagged.607.g735d503.dirty-py3.6.egg/torsionfit/database/qmdatabase.py:217: UserWarning: Warning: Optimizer failed for /Users/chayastern/src/ChayaSt/torsionfit_examples/torsion_drive/biphenyl/phepyrFOH_anion//1_8_9_3/105/phepyrFOH_anion_1_8_9_3_105.out\n",
      "  warnings.warn(\"Warning: Optimizer failed for {}\".format(f))\n"
     ]
    },
    {
     "name": "stdout",
     "output_type": "stream",
     "text": [
      "[Psi /Users/chayastern/src/ChayaSt/torsionfit_examples/torsion_drive/biphenyl/phepyrFOH_anion//1_8_9_3/120/phepyrFOH_anion_1_8_9_3_120.out WARNING] In logfileparser.py, line 472, line not all dashes as expected: --------------------------------------------------------------------------------------------- ~\n",
      "[Psi /Users/chayastern/src/ChayaSt/torsionfit_examples/torsion_drive/biphenyl/phepyrFOH_anion//1_8_9_3/135/phepyrFOH_anion_1_8_9_3_135.out WARNING] In logfileparser.py, line 472, line not all dashes as expected: --------------------------------------------------------------------------------------------- ~\n"
     ]
    },
    {
     "name": "stderr",
     "output_type": "stream",
     "text": [
      "/Users/chayastern/anaconda/lib/python3.6/site-packages/torsionfit-0+untagged.607.g735d503.dirty-py3.6.egg/torsionfit/database/qmdatabase.py:217: UserWarning: Warning: Optimizer failed for /Users/chayastern/src/ChayaSt/torsionfit_examples/torsion_drive/biphenyl/phepyrFOH_anion//1_8_9_3/120/phepyrFOH_anion_1_8_9_3_120.out\n",
      "  warnings.warn(\"Warning: Optimizer failed for {}\".format(f))\n"
     ]
    },
    {
     "name": "stdout",
     "output_type": "stream",
     "text": [
      "[Psi /Users/chayastern/src/ChayaSt/torsionfit_examples/torsion_drive/biphenyl/phepyrFOH_anion//1_8_9_3/135/phepyrFOH_anion_1_8_9_3_135.out WARNING] In logfileparser.py, line 472, line not all dashes as expected: --------------------------------------------------------------------------------------------- ~\n",
      "[Psi /Users/chayastern/src/ChayaSt/torsionfit_examples/torsion_drive/biphenyl/phepyrFOH_anion//1_8_9_3/150/phepyrFOH_anion_1_8_9_3_150.out WARNING] In logfileparser.py, line 472, line not all dashes as expected: --------------------------------------------------------------------------------------------- ~\n",
      "[Psi /Users/chayastern/src/ChayaSt/torsionfit_examples/torsion_drive/biphenyl/phepyrFOH_anion//1_8_9_3/165/phepyrFOH_anion_1_8_9_3_165.out WARNING] In logfileparser.py, line 472, line not all dashes as expected: --------------------------------------------------------------------------------------------- ~\n"
     ]
    },
    {
     "name": "stderr",
     "output_type": "stream",
     "text": [
      "/Users/chayastern/anaconda/lib/python3.6/site-packages/torsionfit-0+untagged.607.g735d503.dirty-py3.6.egg/torsionfit/database/qmdatabase.py:217: UserWarning: Warning: Optimizer failed for /Users/chayastern/src/ChayaSt/torsionfit_examples/torsion_drive/biphenyl/phepyrFOH_anion//1_8_9_3/135/phepyrFOH_anion_1_8_9_3_135.out\n",
      "  warnings.warn(\"Warning: Optimizer failed for {}\".format(f))\n"
     ]
    },
    {
     "name": "stdout",
     "output_type": "stream",
     "text": [
      "[Psi /Users/chayastern/src/ChayaSt/torsionfit_examples/torsion_drive/biphenyl/phepyrFOH_anion//1_8_9_3/180/phepyrFOH_anion_1_8_9_3_180.out WARNING] In logfileparser.py, line 472, line not all dashes as expected: --------------------------------------------------------------------------------------------- ~\n",
      "[Psi /Users/chayastern/src/ChayaSt/torsionfit_examples/torsion_drive/biphenyl/phepyrFOH_anion//1_8_9_3/180/phepyrFOH_anion_1_8_9_3_180.out WARNING] In logfileparser.py, line 472, line not all dashes as expected: --------------------------------------------------------------------------------------------- ~\n",
      "[Psi /Users/chayastern/src/ChayaSt/torsionfit_examples/torsion_drive/biphenyl/phepyrFOH_anion//1_8_9_3/195/phepyrFOH_anion_1_8_9_3_195.out WARNING] In logfileparser.py, line 472, line not all dashes as expected: --------------------------------------------------------------------------------------------- ~\n"
     ]
    },
    {
     "name": "stderr",
     "output_type": "stream",
     "text": [
      "/Users/chayastern/anaconda/lib/python3.6/site-packages/torsionfit-0+untagged.607.g735d503.dirty-py3.6.egg/torsionfit/database/qmdatabase.py:217: UserWarning: Warning: Optimizer failed for /Users/chayastern/src/ChayaSt/torsionfit_examples/torsion_drive/biphenyl/phepyrFOH_anion//1_8_9_3/180/phepyrFOH_anion_1_8_9_3_180.out\n",
      "  warnings.warn(\"Warning: Optimizer failed for {}\".format(f))\n"
     ]
    },
    {
     "name": "stdout",
     "output_type": "stream",
     "text": [
      "[Psi /Users/chayastern/src/ChayaSt/torsionfit_examples/torsion_drive/biphenyl/phepyrFOH_anion//1_8_9_3/210/phepyrFOH_anion_1_8_9_3_210.out WARNING] In logfileparser.py, line 472, line not all dashes as expected: --------------------------------------------------------------------------------------------- ~\n",
      "[Psi /Users/chayastern/src/ChayaSt/torsionfit_examples/torsion_drive/biphenyl/phepyrFOH_anion//1_8_9_3/225/phepyrFOH_anion_1_8_9_3_225.out WARNING] In logfileparser.py, line 472, line not all dashes as expected: --------------------------------------------------------------------------------------------- ~\n",
      "[Psi /Users/chayastern/src/ChayaSt/torsionfit_examples/torsion_drive/biphenyl/phepyrFOH_anion//1_8_9_3/240/phepyrFOH_anion_1_8_9_3_240.out WARNING] In logfileparser.py, line 472, line not all dashes as expected: --------------------------------------------------------------------------------------------- ~\n",
      "[Psi /Users/chayastern/src/ChayaSt/torsionfit_examples/torsion_drive/biphenyl/phepyrFOH_anion//1_8_9_3/255/phepyrFOH_anion_1_8_9_3_255.out WARNING] In logfileparser.py, line 472, line not all dashes as expected: --------------------------------------------------------------------------------------------- ~\n",
      "[Psi /Users/chayastern/src/ChayaSt/torsionfit_examples/torsion_drive/biphenyl/phepyrFOH_anion//1_8_9_3/255/phepyrFOH_anion_1_8_9_3_255.out WARNING] In logfileparser.py, line 472, line not all dashes as expected: --------------------------------------------------------------------------------------------- ~\n",
      "[Psi /Users/chayastern/src/ChayaSt/torsionfit_examples/torsion_drive/biphenyl/phepyrFOH_anion//1_8_9_3/270/phepyrFOH_anion_1_8_9_3_270.out WARNING] In logfileparser.py, line 472, line not all dashes as expected: --------------------------------------------------------------------------------------------- ~\n"
     ]
    },
    {
     "name": "stderr",
     "output_type": "stream",
     "text": [
      "/Users/chayastern/anaconda/lib/python3.6/site-packages/torsionfit-0+untagged.607.g735d503.dirty-py3.6.egg/torsionfit/database/qmdatabase.py:217: UserWarning: Warning: Optimizer failed for /Users/chayastern/src/ChayaSt/torsionfit_examples/torsion_drive/biphenyl/phepyrFOH_anion//1_8_9_3/255/phepyrFOH_anion_1_8_9_3_255.out\n",
      "  warnings.warn(\"Warning: Optimizer failed for {}\".format(f))\n"
     ]
    },
    {
     "name": "stdout",
     "output_type": "stream",
     "text": [
      "[Psi /Users/chayastern/src/ChayaSt/torsionfit_examples/torsion_drive/biphenyl/phepyrFOH_anion//1_8_9_3/285/phepyrFOH_anion_1_8_9_3_285.out WARNING] In logfileparser.py, line 472, line not all dashes as expected: --------------------------------------------------------------------------------------------- ~\n",
      "[Psi /Users/chayastern/src/ChayaSt/torsionfit_examples/torsion_drive/biphenyl/phepyrFOH_anion//1_8_9_3/285/phepyrFOH_anion_1_8_9_3_285.out WARNING] In logfileparser.py, line 472, line not all dashes as expected: --------------------------------------------------------------------------------------------- ~\n",
      "[Psi /Users/chayastern/src/ChayaSt/torsionfit_examples/torsion_drive/biphenyl/phepyrFOH_anion//1_8_9_3/300/phepyrFOH_anion_1_8_9_3_300.out WARNING] In logfileparser.py, line 472, line not all dashes as expected: --------------------------------------------------------------------------------------------- ~\n"
     ]
    },
    {
     "name": "stderr",
     "output_type": "stream",
     "text": [
      "/Users/chayastern/anaconda/lib/python3.6/site-packages/torsionfit-0+untagged.607.g735d503.dirty-py3.6.egg/torsionfit/database/qmdatabase.py:217: UserWarning: Warning: Optimizer failed for /Users/chayastern/src/ChayaSt/torsionfit_examples/torsion_drive/biphenyl/phepyrFOH_anion//1_8_9_3/285/phepyrFOH_anion_1_8_9_3_285.out\n",
      "  warnings.warn(\"Warning: Optimizer failed for {}\".format(f))\n"
     ]
    },
    {
     "name": "stdout",
     "output_type": "stream",
     "text": [
      "[Psi /Users/chayastern/src/ChayaSt/torsionfit_examples/torsion_drive/biphenyl/phepyrFOH_anion//1_8_9_3/315/phepyrFOH_anion_1_8_9_3_315.out WARNING] In logfileparser.py, line 472, line not all dashes as expected: --------------------------------------------------------------------------------------------- ~\n",
      "[Psi /Users/chayastern/src/ChayaSt/torsionfit_examples/torsion_drive/biphenyl/phepyrFOH_anion//1_8_9_3/330/phepyrFOH_anion_1_8_9_3_330.out WARNING] In logfileparser.py, line 472, line not all dashes as expected: --------------------------------------------------------------------------------------------- ~\n",
      "[Psi /Users/chayastern/src/ChayaSt/torsionfit_examples/torsion_drive/biphenyl/phepyrFOH_anion//1_8_9_3/345/phepyrFOH_anion_1_8_9_3_345.out WARNING] In logfileparser.py, line 472, line not all dashes as expected: --------------------------------------------------------------------------------------------- ~\n",
      "[Psi /Users/chayastern/src/ChayaSt/torsionfit_examples/torsion_drive/biphenyl/phepyrFOH_anion//1_8_9_3/345/phepyrFOH_anion_1_8_9_3_345.out WARNING] In logfileparser.py, line 472, line not all dashes as expected: --------------------------------------------------------------------------------------------- ~\n"
     ]
    },
    {
     "name": "stderr",
     "output_type": "stream",
     "text": [
      "/Users/chayastern/anaconda/lib/python3.6/site-packages/torsionfit-0+untagged.607.g735d503.dirty-py3.6.egg/torsionfit/database/qmdatabase.py:217: UserWarning: Warning: Optimizer failed for /Users/chayastern/src/ChayaSt/torsionfit_examples/torsion_drive/biphenyl/phepyrFOH_anion//1_8_9_3/345/phepyrFOH_anion_1_8_9_3_345.out\n",
      "  warnings.warn(\"Warning: Optimizer failed for {}\".format(f))\n"
     ]
    }
   ],
   "source": [
    "phephyrFOH_anion = parse_psi4_out('phepyrFOH_anion//', '4phepyrFOH_anion.mol2')"
   ]
  },
  {
   "cell_type": "code",
   "execution_count": 135,
   "metadata": {},
   "outputs": [
    {
     "data": {
      "image/png": "[encoded data removed]",
      "text/plain": [
       "<matplotlib.figure.Figure at 0x11a75c748>"
      ]
     },
     "metadata": {},
     "output_type": "display_data"
    }
   ],
   "source": [
    "# remove \n",
    "phephyrFOH_anion_opt = phephyrFOH_anion.remove_nonoptimized()\n",
    "plt.plot(phephyrFOH_anion.angles, phephyrFOH_anion.qm_energy, 'o', color='red', label='non converging')\n",
    "plt.plot(phephyrFOH_anion.angles, phephyrFOH_anion.qm_energy, color='red');\n",
    "plt.plot(phephyrFOH_anion_opt.angles, phephyrFOH_anion_opt.qm_energy, 'o', label='converged');\n",
    "plt.legend()\n",
    "plt.title('3-fluoro-4-(4-pyridyl)phenolate (anion)')\n",
    "plt.xlabel('Torsion angle (degrees)')\n",
    "#plt.ylim(0, 20)\n",
    "plt.ylabel('Relative energy (kJ/mol)')\n",
    "plt.savefig('phepyrFOH_anion_scan.png');\n"
   ]
  },
  {
   "cell_type": "code",
   "execution_count": 136,
   "metadata": {},
   "outputs": [
    {
     "name": "stdout",
     "output_type": "stream",
     "text": [
      "[Psi /Users/chayastern/src/ChayaSt/torsionfit_examples/torsion_drive/biphenyl/phepyrFOH_cation/1_8_9_3/0/phepyrFOH_cation_1_8_9_3_0.out WARNING] In logfileparser.py, line 472, line not all dashes as expected: --------------------------------------------------------------------------------------------- ~\n"
     ]
    },
    {
     "name": "stderr",
     "output_type": "stream",
     "text": [
      "/Users/chayastern/anaconda/lib/python3.6/site-packages/pandas/io/parsers.py:2108: FutureWarning: split() requires a non-empty pattern match.\n",
      "  yield pat.split(line.strip())\n",
      "/Users/chayastern/anaconda/lib/python3.6/site-packages/pandas/io/parsers.py:2110: FutureWarning: split() requires a non-empty pattern match.\n",
      "  yield pat.split(line.strip())\n"
     ]
    },
    {
     "name": "stdout",
     "output_type": "stream",
     "text": [
      "[Psi /Users/chayastern/src/ChayaSt/torsionfit_examples/torsion_drive/biphenyl/phepyrFOH_cation/1_8_9_3/15/phepyrFOH_cation_1_8_9_3_15.out WARNING] In logfileparser.py, line 472, line not all dashes as expected: --------------------------------------------------------------------------------------------- ~\n",
      "[Psi /Users/chayastern/src/ChayaSt/torsionfit_examples/torsion_drive/biphenyl/phepyrFOH_cation/1_8_9_3/30/phepyrFOH_cation_1_8_9_3_30.out WARNING] In logfileparser.py, line 472, line not all dashes as expected: --------------------------------------------------------------------------------------------- ~\n",
      "[Psi /Users/chayastern/src/ChayaSt/torsionfit_examples/torsion_drive/biphenyl/phepyrFOH_cation/1_8_9_3/45/phepyrFOH_cation_1_8_9_3_45.out WARNING] In logfileparser.py, line 472, line not all dashes as expected: --------------------------------------------------------------------------------------------- ~\n",
      "[Psi /Users/chayastern/src/ChayaSt/torsionfit_examples/torsion_drive/biphenyl/phepyrFOH_cation/1_8_9_3/60/phepyrFOH_cation_1_8_9_3_60.out WARNING] In logfileparser.py, line 472, line not all dashes as expected: --------------------------------------------------------------------------------------------- ~\n",
      "[Psi /Users/chayastern/src/ChayaSt/torsionfit_examples/torsion_drive/biphenyl/phepyrFOH_cation/1_8_9_3/75/phepyrFOH_cation_1_8_9_3_75.out WARNING] In logfileparser.py, line 472, line not all dashes as expected: --------------------------------------------------------------------------------------------- ~\n"
     ]
    },
    {
     "name": "stderr",
     "output_type": "stream",
     "text": [
      "/Users/chayastern/anaconda/lib/python3.6/site-packages/torsionfit-0+untagged.607.g735d503.dirty-py3.6.egg/torsionfit/database/qmdatabase.py:217: UserWarning: Warning: Optimizer failed for /Users/chayastern/src/ChayaSt/torsionfit_examples/torsion_drive/biphenyl/phepyrFOH_cation/1_8_9_3/60/phepyrFOH_cation_1_8_9_3_60.out\n",
      "  warnings.warn(\"Warning: Optimizer failed for {}\".format(f))\n"
     ]
    },
    {
     "name": "stdout",
     "output_type": "stream",
     "text": [
      "[Psi /Users/chayastern/src/ChayaSt/torsionfit_examples/torsion_drive/biphenyl/phepyrFOH_cation/1_8_9_3/90/phepyrFOH_cation_1_8_9_3_90.out WARNING] In logfileparser.py, line 472, line not all dashes as expected: --------------------------------------------------------------------------------------------- ~\n",
      "[Psi /Users/chayastern/src/ChayaSt/torsionfit_examples/torsion_drive/biphenyl/phepyrFOH_cation/1_8_9_3/105/phepyrFOH_cation_1_8_9_3_105.out WARNING] In logfileparser.py, line 472, line not all dashes as expected: --------------------------------------------------------------------------------------------- ~\n",
      "[Psi /Users/chayastern/src/ChayaSt/torsionfit_examples/torsion_drive/biphenyl/phepyrFOH_cation/1_8_9_3/105/phepyrFOH_cation_1_8_9_3_105.out WARNING] In logfileparser.py, line 472, line not all dashes as expected: --------------------------------------------------------------------------------------------- ~\n",
      "[Psi /Users/chayastern/src/ChayaSt/torsionfit_examples/torsion_drive/biphenyl/phepyrFOH_cation/1_8_9_3/120/phepyrFOH_cation_1_8_9_3_120.out WARNING] In logfileparser.py, line 472, line not all dashes as expected: --------------------------------------------------------------------------------------------- ~\n"
     ]
    },
    {
     "name": "stderr",
     "output_type": "stream",
     "text": [
      "/Users/chayastern/anaconda/lib/python3.6/site-packages/torsionfit-0+untagged.607.g735d503.dirty-py3.6.egg/torsionfit/database/qmdatabase.py:217: UserWarning: Warning: Optimizer failed for /Users/chayastern/src/ChayaSt/torsionfit_examples/torsion_drive/biphenyl/phepyrFOH_cation/1_8_9_3/105/phepyrFOH_cation_1_8_9_3_105.out\n",
      "  warnings.warn(\"Warning: Optimizer failed for {}\".format(f))\n"
     ]
    },
    {
     "name": "stdout",
     "output_type": "stream",
     "text": [
      "[Psi /Users/chayastern/src/ChayaSt/torsionfit_examples/torsion_drive/biphenyl/phepyrFOH_cation/1_8_9_3/135/phepyrFOH_cation_1_8_9_3_135.out WARNING] In logfileparser.py, line 472, line not all dashes as expected: --------------------------------------------------------------------------------------------- ~\n"
     ]
    },
    {
     "name": "stderr",
     "output_type": "stream",
     "text": [
      "/Users/chayastern/anaconda/lib/python3.6/site-packages/torsionfit-0+untagged.607.g735d503.dirty-py3.6.egg/torsionfit/database/qmdatabase.py:217: UserWarning: Warning: Optimizer failed for /Users/chayastern/src/ChayaSt/torsionfit_examples/torsion_drive/biphenyl/phepyrFOH_cation/1_8_9_3/120/phepyrFOH_cation_1_8_9_3_120.out\n",
      "  warnings.warn(\"Warning: Optimizer failed for {}\".format(f))\n"
     ]
    },
    {
     "name": "stdout",
     "output_type": "stream",
     "text": [
      "[Psi /Users/chayastern/src/ChayaSt/torsionfit_examples/torsion_drive/biphenyl/phepyrFOH_cation/1_8_9_3/150/phepyrFOH_cation_1_8_9_3_150.out WARNING] In logfileparser.py, line 472, line not all dashes as expected: --------------------------------------------------------------------------------------------- ~\n",
      "[Psi /Users/chayastern/src/ChayaSt/torsionfit_examples/torsion_drive/biphenyl/phepyrFOH_cation/1_8_9_3/165/phepyrFOH_cation_1_8_9_3_165.out WARNING] In logfileparser.py, line 472, line not all dashes as expected: --------------------------------------------------------------------------------------------- ~\n",
      "[Psi /Users/chayastern/src/ChayaSt/torsionfit_examples/torsion_drive/biphenyl/phepyrFOH_cation/1_8_9_3/180/phepyrFOH_cation_1_8_9_3_180.out WARNING] In logfileparser.py, line 472, line not all dashes as expected: --------------------------------------------------------------------------------------------- ~\n",
      "[Psi /Users/chayastern/src/ChayaSt/torsionfit_examples/torsion_drive/biphenyl/phepyrFOH_cation/1_8_9_3/195/phepyrFOH_cation_1_8_9_3_195.out WARNING] In logfileparser.py, line 472, line not all dashes as expected: --------------------------------------------------------------------------------------------- ~\n",
      "[Psi /Users/chayastern/src/ChayaSt/torsionfit_examples/torsion_drive/biphenyl/phepyrFOH_cation/1_8_9_3/210/phepyrFOH_cation_1_8_9_3_210.out WARNING] In logfileparser.py, line 472, line not all dashes as expected: --------------------------------------------------------------------------------------------- ~\n"
     ]
    },
    {
     "name": "stderr",
     "output_type": "stream",
     "text": [
      "/Users/chayastern/anaconda/lib/python3.6/site-packages/torsionfit-0+untagged.607.g735d503.dirty-py3.6.egg/torsionfit/database/qmdatabase.py:217: UserWarning: Warning: Optimizer failed for /Users/chayastern/src/ChayaSt/torsionfit_examples/torsion_drive/biphenyl/phepyrFOH_cation/1_8_9_3/180/phepyrFOH_cation_1_8_9_3_180.out\n",
      "  warnings.warn(\"Warning: Optimizer failed for {}\".format(f))\n"
     ]
    },
    {
     "name": "stdout",
     "output_type": "stream",
     "text": [
      "[Psi /Users/chayastern/src/ChayaSt/torsionfit_examples/torsion_drive/biphenyl/phepyrFOH_cation/1_8_9_3/225/phepyrFOH_cation_1_8_9_3_225.out WARNING] In logfileparser.py, line 472, line not all dashes as expected: --------------------------------------------------------------------------------------------- ~\n",
      "[Psi /Users/chayastern/src/ChayaSt/torsionfit_examples/torsion_drive/biphenyl/phepyrFOH_cation/1_8_9_3/240/phepyrFOH_cation_1_8_9_3_240.out WARNING] In logfileparser.py, line 472, line not all dashes as expected: --------------------------------------------------------------------------------------------- ~\n",
      "[Psi /Users/chayastern/src/ChayaSt/torsionfit_examples/torsion_drive/biphenyl/phepyrFOH_cation/1_8_9_3/255/phepyrFOH_cation_1_8_9_3_255.out WARNING] In logfileparser.py, line 472, line not all dashes as expected: --------------------------------------------------------------------------------------------- ~\n"
     ]
    },
    {
     "name": "stderr",
     "output_type": "stream",
     "text": [
      "/Users/chayastern/anaconda/lib/python3.6/site-packages/torsionfit-0+untagged.607.g735d503.dirty-py3.6.egg/torsionfit/database/qmdatabase.py:217: UserWarning: Warning: Optimizer failed for /Users/chayastern/src/ChayaSt/torsionfit_examples/torsion_drive/biphenyl/phepyrFOH_cation/1_8_9_3/240/phepyrFOH_cation_1_8_9_3_240.out\n",
      "  warnings.warn(\"Warning: Optimizer failed for {}\".format(f))\n"
     ]
    },
    {
     "name": "stdout",
     "output_type": "stream",
     "text": [
      "[Psi /Users/chayastern/src/ChayaSt/torsionfit_examples/torsion_drive/biphenyl/phepyrFOH_cation/1_8_9_3/270/phepyrFOH_cation_1_8_9_3_270.out WARNING] In logfileparser.py, line 472, line not all dashes as expected: --------------------------------------------------------------------------------------------- ~\n",
      "[Psi /Users/chayastern/src/ChayaSt/torsionfit_examples/torsion_drive/biphenyl/phepyrFOH_cation/1_8_9_3/285/phepyrFOH_cation_1_8_9_3_285.out WARNING] In logfileparser.py, line 472, line not all dashes as expected: --------------------------------------------------------------------------------------------- ~\n"
     ]
    },
    {
     "name": "stderr",
     "output_type": "stream",
     "text": [
      "/Users/chayastern/anaconda/lib/python3.6/site-packages/torsionfit-0+untagged.607.g735d503.dirty-py3.6.egg/torsionfit/database/qmdatabase.py:217: UserWarning: Warning: Optimizer failed for /Users/chayastern/src/ChayaSt/torsionfit_examples/torsion_drive/biphenyl/phepyrFOH_cation/1_8_9_3/255/phepyrFOH_cation_1_8_9_3_255.out\n",
      "  warnings.warn(\"Warning: Optimizer failed for {}\".format(f))\n"
     ]
    },
    {
     "name": "stdout",
     "output_type": "stream",
     "text": [
      "[Psi /Users/chayastern/src/ChayaSt/torsionfit_examples/torsion_drive/biphenyl/phepyrFOH_cation/1_8_9_3/300/phepyrFOH_cation_1_8_9_3_300.out WARNING] In logfileparser.py, line 472, line not all dashes as expected: --------------------------------------------------------------------------------------------- ~\n"
     ]
    },
    {
     "name": "stderr",
     "output_type": "stream",
     "text": [
      "/Users/chayastern/anaconda/lib/python3.6/site-packages/torsionfit-0+untagged.607.g735d503.dirty-py3.6.egg/torsionfit/database/qmdatabase.py:217: UserWarning: Warning: Optimizer failed for /Users/chayastern/src/ChayaSt/torsionfit_examples/torsion_drive/biphenyl/phepyrFOH_cation/1_8_9_3/285/phepyrFOH_cation_1_8_9_3_285.out\n",
      "  warnings.warn(\"Warning: Optimizer failed for {}\".format(f))\n"
     ]
    },
    {
     "name": "stdout",
     "output_type": "stream",
     "text": [
      "[Psi /Users/chayastern/src/ChayaSt/torsionfit_examples/torsion_drive/biphenyl/phepyrFOH_cation/1_8_9_3/315/phepyrFOH_cation_1_8_9_3_315.out WARNING] In logfileparser.py, line 472, line not all dashes as expected: --------------------------------------------------------------------------------------------- ~\n"
     ]
    },
    {
     "name": "stderr",
     "output_type": "stream",
     "text": [
      "/Users/chayastern/anaconda/lib/python3.6/site-packages/torsionfit-0+untagged.607.g735d503.dirty-py3.6.egg/torsionfit/database/qmdatabase.py:217: UserWarning: Warning: Optimizer failed for /Users/chayastern/src/ChayaSt/torsionfit_examples/torsion_drive/biphenyl/phepyrFOH_cation/1_8_9_3/300/phepyrFOH_cation_1_8_9_3_300.out\n",
      "  warnings.warn(\"Warning: Optimizer failed for {}\".format(f))\n"
     ]
    },
    {
     "name": "stdout",
     "output_type": "stream",
     "text": [
      "[Psi /Users/chayastern/src/ChayaSt/torsionfit_examples/torsion_drive/biphenyl/phepyrFOH_cation/1_8_9_3/330/phepyrFOH_cation_1_8_9_3_330.out WARNING] In logfileparser.py, line 472, line not all dashes as expected: --------------------------------------------------------------------------------------------- ~\n",
      "[Psi /Users/chayastern/src/ChayaSt/torsionfit_examples/torsion_drive/biphenyl/phepyrFOH_cation/1_8_9_3/345/phepyrFOH_cation_1_8_9_3_345.out WARNING] In logfileparser.py, line 472, line not all dashes as expected: --------------------------------------------------------------------------------------------- ~\n",
      "[Psi /Users/chayastern/src/ChayaSt/torsionfit_examples/torsion_drive/biphenyl/phepyrFOH_cation/2_10_13_23/0/phepyrFOH_cation_2_10_13_23_0.out WARNING] In logfileparser.py, line 472, line not all dashes as expected: --------------------------------------------------------------------------------------------- ~\n",
      "[Psi /Users/chayastern/src/ChayaSt/torsionfit_examples/torsion_drive/biphenyl/phepyrFOH_cation/2_10_13_23/15/phepyrFOH_cation_2_10_13_23_15.out WARNING] In logfileparser.py, line 472, line not all dashes as expected: --------------------------------------------------------------------------------------------- ~\n",
      "[Psi /Users/chayastern/src/ChayaSt/torsionfit_examples/torsion_drive/biphenyl/phepyrFOH_cation/2_10_13_23/30/phepyrFOH_cation_2_10_13_23_30.out WARNING] In logfileparser.py, line 472, line not all dashes as expected: --------------------------------------------------------------------------------------------- ~\n",
      "[Psi /Users/chayastern/src/ChayaSt/torsionfit_examples/torsion_drive/biphenyl/phepyrFOH_cation/2_10_13_23/45/phepyrFOH_cation_2_10_13_23_45.out WARNING] In logfileparser.py, line 472, line not all dashes as expected: --------------------------------------------------------------------------------------------- ~\n",
      "[Psi /Users/chayastern/src/ChayaSt/torsionfit_examples/torsion_drive/biphenyl/phepyrFOH_cation/2_10_13_23/45/phepyrFOH_cation_2_10_13_23_45.out WARNING] In logfileparser.py, line 472, line not all dashes as expected: --------------------------------------------------------------------------------------------- ~\n",
      "[Psi /Users/chayastern/src/ChayaSt/torsionfit_examples/torsion_drive/biphenyl/phepyrFOH_cation/2_10_13_23/60/phepyrFOH_cation_2_10_13_23_60.out WARNING] In logfileparser.py, line 472, line not all dashes as expected: --------------------------------------------------------------------------------------------- ~\n"
     ]
    },
    {
     "name": "stderr",
     "output_type": "stream",
     "text": [
      "/Users/chayastern/anaconda/lib/python3.6/site-packages/torsionfit-0+untagged.607.g735d503.dirty-py3.6.egg/torsionfit/database/qmdatabase.py:217: UserWarning: Warning: Optimizer failed for /Users/chayastern/src/ChayaSt/torsionfit_examples/torsion_drive/biphenyl/phepyrFOH_cation/2_10_13_23/45/phepyrFOH_cation_2_10_13_23_45.out\n",
      "  warnings.warn(\"Warning: Optimizer failed for {}\".format(f))\n"
     ]
    },
    {
     "name": "stdout",
     "output_type": "stream",
     "text": [
      "[Psi /Users/chayastern/src/ChayaSt/torsionfit_examples/torsion_drive/biphenyl/phepyrFOH_cation/2_10_13_23/75/phepyrFOH_cation_2_10_13_23_75.out WARNING] In logfileparser.py, line 472, line not all dashes as expected: --------------------------------------------------------------------------------------------- ~\n",
      "[Psi /Users/chayastern/src/ChayaSt/torsionfit_examples/torsion_drive/biphenyl/phepyrFOH_cation/2_10_13_23/90/phepyrFOH_cation_2_10_13_23_90.out WARNING] In logfileparser.py, line 472, line not all dashes as expected: --------------------------------------------------------------------------------------------- ~\n",
      "[Psi /Users/chayastern/src/ChayaSt/torsionfit_examples/torsion_drive/biphenyl/phepyrFOH_cation/2_10_13_23/105/phepyrFOH_cation_2_10_13_23_105.out WARNING] In logfileparser.py, line 472, line not all dashes as expected: --------------------------------------------------------------------------------------------- ~\n",
      "[Psi /Users/chayastern/src/ChayaSt/torsionfit_examples/torsion_drive/biphenyl/phepyrFOH_cation/2_10_13_23/120/phepyrFOH_cation_2_10_13_23_120.out WARNING] In logfileparser.py, line 472, line not all dashes as expected: --------------------------------------------------------------------------------------------- ~\n",
      "[Psi /Users/chayastern/src/ChayaSt/torsionfit_examples/torsion_drive/biphenyl/phepyrFOH_cation/2_10_13_23/135/phepyrFOH_cation_2_10_13_23_135.out WARNING] In logfileparser.py, line 472, line not all dashes as expected: --------------------------------------------------------------------------------------------- ~\n",
      "[Psi /Users/chayastern/src/ChayaSt/torsionfit_examples/torsion_drive/biphenyl/phepyrFOH_cation/2_10_13_23/135/phepyrFOH_cation_2_10_13_23_135.out WARNING] In logfileparser.py, line 472, line not all dashes as expected: --------------------------------------------------------------------------------------------- ~\n",
      "[Psi /Users/chayastern/src/ChayaSt/torsionfit_examples/torsion_drive/biphenyl/phepyrFOH_cation/2_10_13_23/150/phepyrFOH_cation_2_10_13_23_150.out WARNING] In logfileparser.py, line 472, line not all dashes as expected: --------------------------------------------------------------------------------------------- ~\n"
     ]
    },
    {
     "name": "stderr",
     "output_type": "stream",
     "text": [
      "/Users/chayastern/anaconda/lib/python3.6/site-packages/torsionfit-0+untagged.607.g735d503.dirty-py3.6.egg/torsionfit/database/qmdatabase.py:217: UserWarning: Warning: Optimizer failed for /Users/chayastern/src/ChayaSt/torsionfit_examples/torsion_drive/biphenyl/phepyrFOH_cation/2_10_13_23/135/phepyrFOH_cation_2_10_13_23_135.out\n",
      "  warnings.warn(\"Warning: Optimizer failed for {}\".format(f))\n"
     ]
    },
    {
     "name": "stdout",
     "output_type": "stream",
     "text": [
      "[Psi /Users/chayastern/src/ChayaSt/torsionfit_examples/torsion_drive/biphenyl/phepyrFOH_cation/2_10_13_23/150/phepyrFOH_cation_2_10_13_23_150.out WARNING] In logfileparser.py, line 472, line not all dashes as expected: --------------------------------------------------------------------------------------------- ~\n",
      "[Psi /Users/chayastern/src/ChayaSt/torsionfit_examples/torsion_drive/biphenyl/phepyrFOH_cation/2_10_13_23/165/phepyrFOH_cation_2_10_13_23_165.out WARNING] In logfileparser.py, line 472, line not all dashes as expected: --------------------------------------------------------------------------------------------- ~\n"
     ]
    },
    {
     "name": "stderr",
     "output_type": "stream",
     "text": [
      "/Users/chayastern/anaconda/lib/python3.6/site-packages/torsionfit-0+untagged.607.g735d503.dirty-py3.6.egg/torsionfit/database/qmdatabase.py:217: UserWarning: Warning: Optimizer failed for /Users/chayastern/src/ChayaSt/torsionfit_examples/torsion_drive/biphenyl/phepyrFOH_cation/2_10_13_23/150/phepyrFOH_cation_2_10_13_23_150.out\n",
      "  warnings.warn(\"Warning: Optimizer failed for {}\".format(f))\n"
     ]
    },
    {
     "name": "stdout",
     "output_type": "stream",
     "text": [
      "[Psi /Users/chayastern/src/ChayaSt/torsionfit_examples/torsion_drive/biphenyl/phepyrFOH_cation/2_10_13_23/180/phepyrFOH_cation_2_10_13_23_180.out WARNING] In logfileparser.py, line 472, line not all dashes as expected: --------------------------------------------------------------------------------------------- ~\n",
      "[Psi /Users/chayastern/src/ChayaSt/torsionfit_examples/torsion_drive/biphenyl/phepyrFOH_cation/2_10_13_23/195/phepyrFOH_cation_2_10_13_23_195.out WARNING] In logfileparser.py, line 472, line not all dashes as expected: --------------------------------------------------------------------------------------------- ~\n"
     ]
    },
    {
     "name": "stderr",
     "output_type": "stream",
     "text": [
      "/Users/chayastern/anaconda/lib/python3.6/site-packages/torsionfit-0+untagged.607.g735d503.dirty-py3.6.egg/torsionfit/database/qmdatabase.py:217: UserWarning: Warning: Optimizer failed for /Users/chayastern/src/ChayaSt/torsionfit_examples/torsion_drive/biphenyl/phepyrFOH_cation/2_10_13_23/180/phepyrFOH_cation_2_10_13_23_180.out\n",
      "  warnings.warn(\"Warning: Optimizer failed for {}\".format(f))\n"
     ]
    },
    {
     "name": "stdout",
     "output_type": "stream",
     "text": [
      "[Psi /Users/chayastern/src/ChayaSt/torsionfit_examples/torsion_drive/biphenyl/phepyrFOH_cation/2_10_13_23/210/phepyrFOH_cation_2_10_13_23_210.out WARNING] In logfileparser.py, line 472, line not all dashes as expected: --------------------------------------------------------------------------------------------- ~\n",
      "[Psi /Users/chayastern/src/ChayaSt/torsionfit_examples/torsion_drive/biphenyl/phepyrFOH_cation/2_10_13_23/225/phepyrFOH_cation_2_10_13_23_225.out WARNING] In logfileparser.py, line 472, line not all dashes as expected: --------------------------------------------------------------------------------------------- ~\n",
      "[Psi /Users/chayastern/src/ChayaSt/torsionfit_examples/torsion_drive/biphenyl/phepyrFOH_cation/2_10_13_23/240/phepyrFOH_cation_2_10_13_23_240.out WARNING] In logfileparser.py, line 472, line not all dashes as expected: --------------------------------------------------------------------------------------------- ~\n",
      "[Psi /Users/chayastern/src/ChayaSt/torsionfit_examples/torsion_drive/biphenyl/phepyrFOH_cation/2_10_13_23/255/phepyrFOH_cation_2_10_13_23_255.out WARNING] In logfileparser.py, line 472, line not all dashes as expected: --------------------------------------------------------------------------------------------- ~\n",
      "[Psi /Users/chayastern/src/ChayaSt/torsionfit_examples/torsion_drive/biphenyl/phepyrFOH_cation/2_10_13_23/270/phepyrFOH_cation_2_10_13_23_270.out WARNING] In logfileparser.py, line 472, line not all dashes as expected: --------------------------------------------------------------------------------------------- ~\n",
      "[Psi /Users/chayastern/src/ChayaSt/torsionfit_examples/torsion_drive/biphenyl/phepyrFOH_cation/2_10_13_23/285/phepyrFOH_cation_2_10_13_23_285.out WARNING] In logfileparser.py, line 472, line not all dashes as expected: --------------------------------------------------------------------------------------------- ~\n",
      "[Psi /Users/chayastern/src/ChayaSt/torsionfit_examples/torsion_drive/biphenyl/phepyrFOH_cation/2_10_13_23/300/phepyrFOH_cation_2_10_13_23_300.out WARNING] In logfileparser.py, line 472, line not all dashes as expected: --------------------------------------------------------------------------------------------- ~\n",
      "[Psi /Users/chayastern/src/ChayaSt/torsionfit_examples/torsion_drive/biphenyl/phepyrFOH_cation/2_10_13_23/315/phepyrFOH_cation_2_10_13_23_315.out WARNING] In logfileparser.py, line 472, line not all dashes as expected: --------------------------------------------------------------------------------------------- ~\n",
      "[Psi /Users/chayastern/src/ChayaSt/torsionfit_examples/torsion_drive/biphenyl/phepyrFOH_cation/2_10_13_23/315/phepyrFOH_cation_2_10_13_23_315.out WARNING] File terminated before end of last SCF! Last density err: 1.23279e-10\n",
      "[Psi /Users/chayastern/src/ChayaSt/torsionfit_examples/torsion_drive/biphenyl/phepyrFOH_cation/2_10_13_23/330/phepyrFOH_cation_2_10_13_23_330.out WARNING] In logfileparser.py, line 472, line not all dashes as expected: --------------------------------------------------------------------------------------------- ~\n"
     ]
    },
    {
     "name": "stderr",
     "output_type": "stream",
     "text": [
      "/Users/chayastern/anaconda/lib/python3.6/site-packages/torsionfit-0+untagged.607.g735d503.dirty-py3.6.egg/torsionfit/database/qmdatabase.py:217: UserWarning: Warning: Optimizer failed for /Users/chayastern/src/ChayaSt/torsionfit_examples/torsion_drive/biphenyl/phepyrFOH_cation/2_10_13_23/315/phepyrFOH_cation_2_10_13_23_315.out\n",
      "  warnings.warn(\"Warning: Optimizer failed for {}\".format(f))\n"
     ]
    },
    {
     "name": "stdout",
     "output_type": "stream",
     "text": [
      "[Psi /Users/chayastern/src/ChayaSt/torsionfit_examples/torsion_drive/biphenyl/phepyrFOH_cation/2_10_13_23/345/phepyrFOH_cation_2_10_13_23_345.out WARNING] In logfileparser.py, line 472, line not all dashes as expected: --------------------------------------------------------------------------------------------- ~\n"
     ]
    }
   ],
   "source": [
    "phephyrFOH_cation = parse_psi4_out('phepyrFOH_cation/', '4phepyrFOH_cation.mol2')"
   ]
  },
  {
   "cell_type": "code",
   "execution_count": 137,
   "metadata": {},
   "outputs": [
    {
     "data": {
      "image/png": "[encoded data removed]",
      "text/plain": [
       "<matplotlib.figure.Figure at 0x11aa959e8>"
      ]
     },
     "metadata": {},
     "output_type": "display_data"
    }
   ],
   "source": [
    "# remove \n",
    "phephyrFOH_cation_opt = phephyrFOH_cation.remove_nonoptimized()\n",
    "plt.plot(phephyrFOH_cation.angles[:24], phephyrFOH_cation.qm_energy[:24], 'o', color='red', label='non converging')\n",
    "plt.plot(phephyrFOH_cation.angles[:24], phephyrFOH_cation.qm_energy[:24], color='red');\n",
    "plt.plot(phephyrFOH_cation_opt.angles[:16], phephyrFOH_cation_opt.qm_energy[:16], 'o', label='converged');\n",
    "plt.legend()\n",
    "plt.title('3-fluoro-4-pyridin-1-ium-4-yl-phenol (cation)')\n",
    "plt.xlabel('Torsion angle (degrees)')\n",
    "plt.ylabel('Relative energy (kJ/mol)')\n",
    "plt.savefig('phepyrFOH_cation_scan.png');"
   ]
  },
  {
   "cell_type": "code",
   "execution_count": 86,
   "metadata": {},
   "outputs": [
    {
     "data": {
      "image/png": "[encoded data removed]",
      "text/plain": [
       "<matplotlib.figure.Figure at 0x11aa651d0>"
      ]
     },
     "metadata": {},
     "output_type": "display_data"
    }
   ],
   "source": [
    "# remove \n",
    "phephyrFOH_cation_opt = phephyrFOH_cation.remove_nonoptimized()\n",
    "plt.plot(phephyrFOH_cation.angles[24:], phephyrFOH_cation.qm_energy[24:], 'o', color='red', label='non converging')\n",
    "plt.plot(phephyrFOH_cation.angles[24:], phephyrFOH_cation.qm_energy[24:], color='red');\n",
    "plt.plot(phephyrFOH_cation_opt.angles[16:], phephyrFOH_cation_opt.qm_energy[16:], 'o', label='converged');\n",
    "plt.legend()\n",
    "plt.title('3-fluoro-4-(4-pyridyl)phenol')\n",
    "plt.xlabel('Torsion angle (degrees)')\n",
    "plt.ylabel('Relative energy (kJ/mol)')\n",
    "plt.savefig('phepyrFOH_cation_scan_hydroxyl.png');"
   ]
  },
  {
   "cell_type": "code",
   "execution_count": 138,
   "metadata": {},
   "outputs": [
    {
     "name": "stdout",
     "output_type": "stream",
     "text": [
      "[Psi /Users/chayastern/src/ChayaSt/torsionfit_examples/torsion_drive/biphenyl/phepyrFOH_neutral/1_8_9_3/0/phepyrFOH_neutral_1_8_9_3_0.out WARNING] In logfileparser.py, line 472, line not all dashes as expected: --------------------------------------------------------------------------------------------- ~\n"
     ]
    },
    {
     "name": "stderr",
     "output_type": "stream",
     "text": [
      "/Users/chayastern/anaconda/lib/python3.6/site-packages/pandas/io/parsers.py:2108: FutureWarning: split() requires a non-empty pattern match.\n",
      "  yield pat.split(line.strip())\n",
      "/Users/chayastern/anaconda/lib/python3.6/site-packages/pandas/io/parsers.py:2110: FutureWarning: split() requires a non-empty pattern match.\n",
      "  yield pat.split(line.strip())\n"
     ]
    },
    {
     "name": "stdout",
     "output_type": "stream",
     "text": [
      "[Psi /Users/chayastern/src/ChayaSt/torsionfit_examples/torsion_drive/biphenyl/phepyrFOH_neutral/1_8_9_3/15/phepyrFOH_neutral_1_8_9_3_15.out WARNING] In logfileparser.py, line 472, line not all dashes as expected: --------------------------------------------------------------------------------------------- ~\n",
      "[Psi /Users/chayastern/src/ChayaSt/torsionfit_examples/torsion_drive/biphenyl/phepyrFOH_neutral/1_8_9_3/15/phepyrFOH_neutral_1_8_9_3_15.out WARNING] In logfileparser.py, line 472, line not all dashes as expected: --------------------------------------------------------------------------------------------- ~\n",
      "[Psi /Users/chayastern/src/ChayaSt/torsionfit_examples/torsion_drive/biphenyl/phepyrFOH_neutral/1_8_9_3/30/phepyrFOH_neutral_1_8_9_3_30.out WARNING] In logfileparser.py, line 472, line not all dashes as expected: --------------------------------------------------------------------------------------------- ~\n",
      "[Psi /Users/chayastern/src/ChayaSt/torsionfit_examples/torsion_drive/biphenyl/phepyrFOH_neutral/1_8_9_3/60/phepyrFOH_neutral_1_8_9_3_60.out WARNING] In logfileparser.py, line 472, line not all dashes as expected: --------------------------------------------------------------------------------------------- ~\n"
     ]
    },
    {
     "name": "stderr",
     "output_type": "stream",
     "text": [
      "/Users/chayastern/anaconda/lib/python3.6/site-packages/torsionfit-0+untagged.607.g735d503.dirty-py3.6.egg/torsionfit/database/qmdatabase.py:217: UserWarning: Warning: Optimizer failed for /Users/chayastern/src/ChayaSt/torsionfit_examples/torsion_drive/biphenyl/phepyrFOH_neutral/1_8_9_3/15/phepyrFOH_neutral_1_8_9_3_15.out\n",
      "  warnings.warn(\"Warning: Optimizer failed for {}\".format(f))\n",
      "/Users/chayastern/anaconda/lib/python3.6/site-packages/torsionfit-0+untagged.607.g735d503.dirty-py3.6.egg/torsionfit/database/qmdatabase.py:217: UserWarning: Warning: Optimizer failed for /Users/chayastern/src/ChayaSt/torsionfit_examples/torsion_drive/biphenyl/phepyrFOH_neutral/1_8_9_3/30/phepyrFOH_neutral_1_8_9_3_30.out\n",
      "  warnings.warn(\"Warning: Optimizer failed for {}\".format(f))\n",
      "/Users/chayastern/anaconda/lib/python3.6/site-packages/torsionfit-0+untagged.607.g735d503.dirty-py3.6.egg/torsionfit/database/qmdatabase.py:217: UserWarning: Warning: Optimizer failed for /Users/chayastern/src/ChayaSt/torsionfit_examples/torsion_drive/biphenyl/phepyrFOH_neutral/1_8_9_3/45/phepyrFOH_neutral_1_8_9_3_45.out\n",
      "  warnings.warn(\"Warning: Optimizer failed for {}\".format(f))\n"
     ]
    },
    {
     "name": "stdout",
     "output_type": "stream",
     "text": [
      "[Psi /Users/chayastern/src/ChayaSt/torsionfit_examples/torsion_drive/biphenyl/phepyrFOH_neutral/1_8_9_3/90/phepyrFOH_neutral_1_8_9_3_90.out WARNING] In logfileparser.py, line 472, line not all dashes as expected: --------------------------------------------------------------------------------------------- ~\n",
      "[Psi /Users/chayastern/src/ChayaSt/torsionfit_examples/torsion_drive/biphenyl/phepyrFOH_neutral/1_8_9_3/105/phepyrFOH_neutral_1_8_9_3_105.out WARNING] In logfileparser.py, line 472, line not all dashes as expected: --------------------------------------------------------------------------------------------- ~\n"
     ]
    },
    {
     "name": "stderr",
     "output_type": "stream",
     "text": [
      "/Users/chayastern/anaconda/lib/python3.6/site-packages/torsionfit-0+untagged.607.g735d503.dirty-py3.6.egg/torsionfit/database/qmdatabase.py:217: UserWarning: Warning: Optimizer failed for /Users/chayastern/src/ChayaSt/torsionfit_examples/torsion_drive/biphenyl/phepyrFOH_neutral/1_8_9_3/75/phepyrFOH_neutral_1_8_9_3_75.out\n",
      "  warnings.warn(\"Warning: Optimizer failed for {}\".format(f))\n",
      "/Users/chayastern/anaconda/lib/python3.6/site-packages/torsionfit-0+untagged.607.g735d503.dirty-py3.6.egg/torsionfit/database/qmdatabase.py:217: UserWarning: Warning: Optimizer failed for /Users/chayastern/src/ChayaSt/torsionfit_examples/torsion_drive/biphenyl/phepyrFOH_neutral/1_8_9_3/90/phepyrFOH_neutral_1_8_9_3_90.out\n",
      "  warnings.warn(\"Warning: Optimizer failed for {}\".format(f))\n"
     ]
    },
    {
     "name": "stdout",
     "output_type": "stream",
     "text": [
      "[Psi /Users/chayastern/src/ChayaSt/torsionfit_examples/torsion_drive/biphenyl/phepyrFOH_neutral/1_8_9_3/120/phepyrFOH_neutral_1_8_9_3_120.out WARNING] In logfileparser.py, line 472, line not all dashes as expected: --------------------------------------------------------------------------------------------- ~\n",
      "[Psi /Users/chayastern/src/ChayaSt/torsionfit_examples/torsion_drive/biphenyl/phepyrFOH_neutral/1_8_9_3/120/phepyrFOH_neutral_1_8_9_3_120.out WARNING] In logfileparser.py, line 472, line not all dashes as expected: --------------------------------------------------------------------------------------------- ~\n",
      "[Psi /Users/chayastern/src/ChayaSt/torsionfit_examples/torsion_drive/biphenyl/phepyrFOH_neutral/1_8_9_3/135/phepyrFOH_neutral_1_8_9_3_135.out WARNING] In logfileparser.py, line 472, line not all dashes as expected: --------------------------------------------------------------------------------------------- ~\n",
      "[Psi /Users/chayastern/src/ChayaSt/torsionfit_examples/torsion_drive/biphenyl/phepyrFOH_neutral/1_8_9_3/150/phepyrFOH_neutral_1_8_9_3_150.out WARNING] In logfileparser.py, line 472, line not all dashes as expected: --------------------------------------------------------------------------------------------- ~\n"
     ]
    },
    {
     "name": "stderr",
     "output_type": "stream",
     "text": [
      "/Users/chayastern/anaconda/lib/python3.6/site-packages/torsionfit-0+untagged.607.g735d503.dirty-py3.6.egg/torsionfit/database/qmdatabase.py:217: UserWarning: Warning: Optimizer failed for /Users/chayastern/src/ChayaSt/torsionfit_examples/torsion_drive/biphenyl/phepyrFOH_neutral/1_8_9_3/120/phepyrFOH_neutral_1_8_9_3_120.out\n",
      "  warnings.warn(\"Warning: Optimizer failed for {}\".format(f))\n"
     ]
    },
    {
     "name": "stdout",
     "output_type": "stream",
     "text": [
      "[Psi /Users/chayastern/src/ChayaSt/torsionfit_examples/torsion_drive/biphenyl/phepyrFOH_neutral/1_8_9_3/165/phepyrFOH_neutral_1_8_9_3_165.out WARNING] In logfileparser.py, line 472, line not all dashes as expected: --------------------------------------------------------------------------------------------- ~\n",
      "[Psi /Users/chayastern/src/ChayaSt/torsionfit_examples/torsion_drive/biphenyl/phepyrFOH_neutral/1_8_9_3/180/phepyrFOH_neutral_1_8_9_3_180.out WARNING] In logfileparser.py, line 472, line not all dashes as expected: --------------------------------------------------------------------------------------------- ~\n",
      "[Psi /Users/chayastern/src/ChayaSt/torsionfit_examples/torsion_drive/biphenyl/phepyrFOH_neutral/1_8_9_3/195/phepyrFOH_neutral_1_8_9_3_195.out WARNING] In logfileparser.py, line 472, line not all dashes as expected: --------------------------------------------------------------------------------------------- ~\n"
     ]
    },
    {
     "name": "stderr",
     "output_type": "stream",
     "text": [
      "/Users/chayastern/anaconda/lib/python3.6/site-packages/torsionfit-0+untagged.607.g735d503.dirty-py3.6.egg/torsionfit/database/qmdatabase.py:217: UserWarning: Warning: Optimizer failed for /Users/chayastern/src/ChayaSt/torsionfit_examples/torsion_drive/biphenyl/phepyrFOH_neutral/1_8_9_3/180/phepyrFOH_neutral_1_8_9_3_180.out\n",
      "  warnings.warn(\"Warning: Optimizer failed for {}\".format(f))\n"
     ]
    },
    {
     "name": "stdout",
     "output_type": "stream",
     "text": [
      "[Psi /Users/chayastern/src/ChayaSt/torsionfit_examples/torsion_drive/biphenyl/phepyrFOH_neutral/1_8_9_3/210/phepyrFOH_neutral_1_8_9_3_210.out WARNING] In logfileparser.py, line 472, line not all dashes as expected: --------------------------------------------------------------------------------------------- ~\n",
      "[Psi /Users/chayastern/src/ChayaSt/torsionfit_examples/torsion_drive/biphenyl/phepyrFOH_neutral/1_8_9_3/225/phepyrFOH_neutral_1_8_9_3_225.out WARNING] In logfileparser.py, line 472, line not all dashes as expected: --------------------------------------------------------------------------------------------- ~\n",
      "[Psi /Users/chayastern/src/ChayaSt/torsionfit_examples/torsion_drive/biphenyl/phepyrFOH_neutral/1_8_9_3/240/phepyrFOH_neutral_1_8_9_3_240.out WARNING] In logfileparser.py, line 472, line not all dashes as expected: --------------------------------------------------------------------------------------------- ~\n",
      "[Psi /Users/chayastern/src/ChayaSt/torsionfit_examples/torsion_drive/biphenyl/phepyrFOH_neutral/1_8_9_3/255/phepyrFOH_neutral_1_8_9_3_255.out WARNING] In logfileparser.py, line 472, line not all dashes as expected: --------------------------------------------------------------------------------------------- ~\n",
      "[Psi /Users/chayastern/src/ChayaSt/torsionfit_examples/torsion_drive/biphenyl/phepyrFOH_neutral/1_8_9_3/270/phepyrFOH_neutral_1_8_9_3_270.out WARNING] In logfileparser.py, line 472, line not all dashes as expected: --------------------------------------------------------------------------------------------- ~\n"
     ]
    },
    {
     "name": "stderr",
     "output_type": "stream",
     "text": [
      "/Users/chayastern/anaconda/lib/python3.6/site-packages/torsionfit-0+untagged.607.g735d503.dirty-py3.6.egg/torsionfit/database/qmdatabase.py:217: UserWarning: Warning: Optimizer failed for /Users/chayastern/src/ChayaSt/torsionfit_examples/torsion_drive/biphenyl/phepyrFOH_neutral/1_8_9_3/240/phepyrFOH_neutral_1_8_9_3_240.out\n",
      "  warnings.warn(\"Warning: Optimizer failed for {}\".format(f))\n",
      "/Users/chayastern/anaconda/lib/python3.6/site-packages/torsionfit-0+untagged.607.g735d503.dirty-py3.6.egg/torsionfit/database/qmdatabase.py:217: UserWarning: Warning: Optimizer failed for /Users/chayastern/src/ChayaSt/torsionfit_examples/torsion_drive/biphenyl/phepyrFOH_neutral/1_8_9_3/255/phepyrFOH_neutral_1_8_9_3_255.out\n",
      "  warnings.warn(\"Warning: Optimizer failed for {}\".format(f))\n"
     ]
    },
    {
     "name": "stdout",
     "output_type": "stream",
     "text": [
      "[Psi /Users/chayastern/src/ChayaSt/torsionfit_examples/torsion_drive/biphenyl/phepyrFOH_neutral/1_8_9_3/285/phepyrFOH_neutral_1_8_9_3_285.out WARNING] In logfileparser.py, line 472, line not all dashes as expected: --------------------------------------------------------------------------------------------- ~\n",
      "[Psi /Users/chayastern/src/ChayaSt/torsionfit_examples/torsion_drive/biphenyl/phepyrFOH_neutral/1_8_9_3/285/phepyrFOH_neutral_1_8_9_3_285.out WARNING] In logfileparser.py, line 472, line not all dashes as expected: --------------------------------------------------------------------------------------------- ~\n",
      "[Psi /Users/chayastern/src/ChayaSt/torsionfit_examples/torsion_drive/biphenyl/phepyrFOH_neutral/1_8_9_3/300/phepyrFOH_neutral_1_8_9_3_300.out WARNING] In logfileparser.py, line 472, line not all dashes as expected: --------------------------------------------------------------------------------------------- ~\n",
      "[Psi /Users/chayastern/src/ChayaSt/torsionfit_examples/torsion_drive/biphenyl/phepyrFOH_neutral/1_8_9_3/315/phepyrFOH_neutral_1_8_9_3_315.out WARNING] In logfileparser.py, line 472, line not all dashes as expected: --------------------------------------------------------------------------------------------- ~\n",
      "[Psi /Users/chayastern/src/ChayaSt/torsionfit_examples/torsion_drive/biphenyl/phepyrFOH_neutral/1_8_9_3/330/phepyrFOH_neutral_1_8_9_3_330.out WARNING] In logfileparser.py, line 472, line not all dashes as expected: --------------------------------------------------------------------------------------------- ~\n",
      "[Psi /Users/chayastern/src/ChayaSt/torsionfit_examples/torsion_drive/biphenyl/phepyrFOH_neutral/1_8_9_3/345/phepyrFOH_neutral_1_8_9_3_345.out WARNING] In logfileparser.py, line 472, line not all dashes as expected: --------------------------------------------------------------------------------------------- ~\n",
      "[Psi /Users/chayastern/src/ChayaSt/torsionfit_examples/torsion_drive/biphenyl/phepyrFOH_neutral/2_10_13_22/30/phepyrFOH_neutral_2_10_13_22_30.out WARNING] In logfileparser.py, line 472, line not all dashes as expected: --------------------------------------------------------------------------------------------- ~\n",
      "[Psi /Users/chayastern/src/ChayaSt/torsionfit_examples/torsion_drive/biphenyl/phepyrFOH_neutral/2_10_13_22/45/phepyrFOH_neutral_2_10_13_22_45.out WARNING] In logfileparser.py, line 472, line not all dashes as expected: --------------------------------------------------------------------------------------------- ~\n",
      "[Psi /Users/chayastern/src/ChayaSt/torsionfit_examples/torsion_drive/biphenyl/phepyrFOH_neutral/2_10_13_22/75/phepyrFOH_neutral_2_10_13_22_75.out WARNING] In logfileparser.py, line 472, line not all dashes as expected: --------------------------------------------------------------------------------------------- ~\n"
     ]
    },
    {
     "name": "stderr",
     "output_type": "stream",
     "text": [
      "/Users/chayastern/anaconda/lib/python3.6/site-packages/torsionfit-0+untagged.607.g735d503.dirty-py3.6.egg/torsionfit/database/qmdatabase.py:217: UserWarning: Warning: Optimizer failed for /Users/chayastern/src/ChayaSt/torsionfit_examples/torsion_drive/biphenyl/phepyrFOH_neutral/1_8_9_3/345/phepyrFOH_neutral_1_8_9_3_345.out\n",
      "  warnings.warn(\"Warning: Optimizer failed for {}\".format(f))\n",
      "/Users/chayastern/anaconda/lib/python3.6/site-packages/torsionfit-0+untagged.607.g735d503.dirty-py3.6.egg/torsionfit/database/qmdatabase.py:217: UserWarning: Warning: Optimizer failed for /Users/chayastern/src/ChayaSt/torsionfit_examples/torsion_drive/biphenyl/phepyrFOH_neutral/2_10_13_22/0/phepyrFOH_neutral_2_10_13_22_0.out\n",
      "  warnings.warn(\"Warning: Optimizer failed for {}\".format(f))\n",
      "/Users/chayastern/anaconda/lib/python3.6/site-packages/torsionfit-0+untagged.607.g735d503.dirty-py3.6.egg/torsionfit/database/qmdatabase.py:217: UserWarning: Warning: Optimizer failed for /Users/chayastern/src/ChayaSt/torsionfit_examples/torsion_drive/biphenyl/phepyrFOH_neutral/2_10_13_22/15/phepyrFOH_neutral_2_10_13_22_15.out\n",
      "  warnings.warn(\"Warning: Optimizer failed for {}\".format(f))\n",
      "/Users/chayastern/anaconda/lib/python3.6/site-packages/torsionfit-0+untagged.607.g735d503.dirty-py3.6.egg/torsionfit/database/qmdatabase.py:217: UserWarning: Warning: Optimizer failed for /Users/chayastern/src/ChayaSt/torsionfit_examples/torsion_drive/biphenyl/phepyrFOH_neutral/2_10_13_22/30/phepyrFOH_neutral_2_10_13_22_30.out\n",
      "  warnings.warn(\"Warning: Optimizer failed for {}\".format(f))\n",
      "/Users/chayastern/anaconda/lib/python3.6/site-packages/torsionfit-0+untagged.607.g735d503.dirty-py3.6.egg/torsionfit/database/qmdatabase.py:217: UserWarning: Warning: Optimizer failed for /Users/chayastern/src/ChayaSt/torsionfit_examples/torsion_drive/biphenyl/phepyrFOH_neutral/2_10_13_22/45/phepyrFOH_neutral_2_10_13_22_45.out\n",
      "  warnings.warn(\"Warning: Optimizer failed for {}\".format(f))\n",
      "/Users/chayastern/anaconda/lib/python3.6/site-packages/torsionfit-0+untagged.607.g735d503.dirty-py3.6.egg/torsionfit/database/qmdatabase.py:217: UserWarning: Warning: Optimizer failed for /Users/chayastern/src/ChayaSt/torsionfit_examples/torsion_drive/biphenyl/phepyrFOH_neutral/2_10_13_22/60/phepyrFOH_neutral_2_10_13_22_60.out\n",
      "  warnings.warn(\"Warning: Optimizer failed for {}\".format(f))\n"
     ]
    },
    {
     "name": "stdout",
     "output_type": "stream",
     "text": [
      "[Psi /Users/chayastern/src/ChayaSt/torsionfit_examples/torsion_drive/biphenyl/phepyrFOH_neutral/2_10_13_22/90/phepyrFOH_neutral_2_10_13_22_90.out WARNING] In logfileparser.py, line 472, line not all dashes as expected: --------------------------------------------------------------------------------------------- ~\n",
      "[Psi /Users/chayastern/src/ChayaSt/torsionfit_examples/torsion_drive/biphenyl/phepyrFOH_neutral/2_10_13_22/105/phepyrFOH_neutral_2_10_13_22_105.out WARNING] In logfileparser.py, line 472, line not all dashes as expected: --------------------------------------------------------------------------------------------- ~\n"
     ]
    },
    {
     "name": "stderr",
     "output_type": "stream",
     "text": [
      "/Users/chayastern/anaconda/lib/python3.6/site-packages/torsionfit-0+untagged.607.g735d503.dirty-py3.6.egg/torsionfit/database/qmdatabase.py:217: UserWarning: Warning: Optimizer failed for /Users/chayastern/src/ChayaSt/torsionfit_examples/torsion_drive/biphenyl/phepyrFOH_neutral/2_10_13_22/75/phepyrFOH_neutral_2_10_13_22_75.out\n",
      "  warnings.warn(\"Warning: Optimizer failed for {}\".format(f))\n",
      "/Users/chayastern/anaconda/lib/python3.6/site-packages/torsionfit-0+untagged.607.g735d503.dirty-py3.6.egg/torsionfit/database/qmdatabase.py:217: UserWarning: Warning: Optimizer failed for /Users/chayastern/src/ChayaSt/torsionfit_examples/torsion_drive/biphenyl/phepyrFOH_neutral/2_10_13_22/90/phepyrFOH_neutral_2_10_13_22_90.out\n",
      "  warnings.warn(\"Warning: Optimizer failed for {}\".format(f))\n"
     ]
    },
    {
     "name": "stdout",
     "output_type": "stream",
     "text": [
      "[Psi /Users/chayastern/src/ChayaSt/torsionfit_examples/torsion_drive/biphenyl/phepyrFOH_neutral/2_10_13_22/120/phepyrFOH_neutral_2_10_13_22_120.out WARNING] In logfileparser.py, line 472, line not all dashes as expected: --------------------------------------------------------------------------------------------- ~\n",
      "[Psi /Users/chayastern/src/ChayaSt/torsionfit_examples/torsion_drive/biphenyl/phepyrFOH_neutral/2_10_13_22/135/phepyrFOH_neutral_2_10_13_22_135.out WARNING] In logfileparser.py, line 472, line not all dashes as expected: --------------------------------------------------------------------------------------------- ~\n",
      "[Psi /Users/chayastern/src/ChayaSt/torsionfit_examples/torsion_drive/biphenyl/phepyrFOH_neutral/2_10_13_22/150/phepyrFOH_neutral_2_10_13_22_150.out WARNING] In logfileparser.py, line 472, line not all dashes as expected: --------------------------------------------------------------------------------------------- ~\n"
     ]
    },
    {
     "name": "stderr",
     "output_type": "stream",
     "text": [
      "/Users/chayastern/anaconda/lib/python3.6/site-packages/torsionfit-0+untagged.607.g735d503.dirty-py3.6.egg/torsionfit/database/qmdatabase.py:217: UserWarning: Warning: Optimizer failed for /Users/chayastern/src/ChayaSt/torsionfit_examples/torsion_drive/biphenyl/phepyrFOH_neutral/2_10_13_22/105/phepyrFOH_neutral_2_10_13_22_105.out\n",
      "  warnings.warn(\"Warning: Optimizer failed for {}\".format(f))\n",
      "/Users/chayastern/anaconda/lib/python3.6/site-packages/torsionfit-0+untagged.607.g735d503.dirty-py3.6.egg/torsionfit/database/qmdatabase.py:217: UserWarning: Warning: Optimizer failed for /Users/chayastern/src/ChayaSt/torsionfit_examples/torsion_drive/biphenyl/phepyrFOH_neutral/2_10_13_22/120/phepyrFOH_neutral_2_10_13_22_120.out\n",
      "  warnings.warn(\"Warning: Optimizer failed for {}\".format(f))\n",
      "/Users/chayastern/anaconda/lib/python3.6/site-packages/torsionfit-0+untagged.607.g735d503.dirty-py3.6.egg/torsionfit/database/qmdatabase.py:217: UserWarning: Warning: Optimizer failed for /Users/chayastern/src/ChayaSt/torsionfit_examples/torsion_drive/biphenyl/phepyrFOH_neutral/2_10_13_22/135/phepyrFOH_neutral_2_10_13_22_135.out\n",
      "  warnings.warn(\"Warning: Optimizer failed for {}\".format(f))\n"
     ]
    },
    {
     "name": "stdout",
     "output_type": "stream",
     "text": [
      "[Psi /Users/chayastern/src/ChayaSt/torsionfit_examples/torsion_drive/biphenyl/phepyrFOH_neutral/2_10_13_22/165/phepyrFOH_neutral_2_10_13_22_165.out WARNING] In logfileparser.py, line 472, line not all dashes as expected: --------------------------------------------------------------------------------------------- ~\n",
      "[Psi /Users/chayastern/src/ChayaSt/torsionfit_examples/torsion_drive/biphenyl/phepyrFOH_neutral/2_10_13_22/195/phepyrFOH_neutral_2_10_13_22_195.out WARNING] In logfileparser.py, line 472, line not all dashes as expected: --------------------------------------------------------------------------------------------- ~\n",
      "[Psi /Users/chayastern/src/ChayaSt/torsionfit_examples/torsion_drive/biphenyl/phepyrFOH_neutral/2_10_13_22/210/phepyrFOH_neutral_2_10_13_22_210.out WARNING] In logfileparser.py, line 472, line not all dashes as expected: --------------------------------------------------------------------------------------------- ~\n"
     ]
    },
    {
     "name": "stderr",
     "output_type": "stream",
     "text": [
      "/Users/chayastern/anaconda/lib/python3.6/site-packages/torsionfit-0+untagged.607.g735d503.dirty-py3.6.egg/torsionfit/database/qmdatabase.py:217: UserWarning: Warning: Optimizer failed for /Users/chayastern/src/ChayaSt/torsionfit_examples/torsion_drive/biphenyl/phepyrFOH_neutral/2_10_13_22/165/phepyrFOH_neutral_2_10_13_22_165.out\n",
      "  warnings.warn(\"Warning: Optimizer failed for {}\".format(f))\n",
      "/Users/chayastern/anaconda/lib/python3.6/site-packages/torsionfit-0+untagged.607.g735d503.dirty-py3.6.egg/torsionfit/database/qmdatabase.py:217: UserWarning: Warning: Optimizer failed for /Users/chayastern/src/ChayaSt/torsionfit_examples/torsion_drive/biphenyl/phepyrFOH_neutral/2_10_13_22/180/phepyrFOH_neutral_2_10_13_22_180.out\n",
      "  warnings.warn(\"Warning: Optimizer failed for {}\".format(f))\n",
      "/Users/chayastern/anaconda/lib/python3.6/site-packages/torsionfit-0+untagged.607.g735d503.dirty-py3.6.egg/torsionfit/database/qmdatabase.py:217: UserWarning: Warning: Optimizer failed for /Users/chayastern/src/ChayaSt/torsionfit_examples/torsion_drive/biphenyl/phepyrFOH_neutral/2_10_13_22/195/phepyrFOH_neutral_2_10_13_22_195.out\n",
      "  warnings.warn(\"Warning: Optimizer failed for {}\".format(f))\n",
      "/Users/chayastern/anaconda/lib/python3.6/site-packages/torsionfit-0+untagged.607.g735d503.dirty-py3.6.egg/torsionfit/database/qmdatabase.py:217: UserWarning: Warning: Optimizer failed for /Users/chayastern/src/ChayaSt/torsionfit_examples/torsion_drive/biphenyl/phepyrFOH_neutral/2_10_13_22/210/phepyrFOH_neutral_2_10_13_22_210.out\n",
      "  warnings.warn(\"Warning: Optimizer failed for {}\".format(f))\n"
     ]
    },
    {
     "name": "stdout",
     "output_type": "stream",
     "text": [
      "[Psi /Users/chayastern/src/ChayaSt/torsionfit_examples/torsion_drive/biphenyl/phepyrFOH_neutral/2_10_13_22/225/phepyrFOH_neutral_2_10_13_22_225.out WARNING] In logfileparser.py, line 472, line not all dashes as expected: --------------------------------------------------------------------------------------------- ~\n",
      "[Psi /Users/chayastern/src/ChayaSt/torsionfit_examples/torsion_drive/biphenyl/phepyrFOH_neutral/2_10_13_22/270/phepyrFOH_neutral_2_10_13_22_270.out WARNING] In logfileparser.py, line 472, line not all dashes as expected: --------------------------------------------------------------------------------------------- ~\n"
     ]
    },
    {
     "name": "stderr",
     "output_type": "stream",
     "text": [
      "/Users/chayastern/anaconda/lib/python3.6/site-packages/torsionfit-0+untagged.607.g735d503.dirty-py3.6.egg/torsionfit/database/qmdatabase.py:217: UserWarning: Warning: Optimizer failed for /Users/chayastern/src/ChayaSt/torsionfit_examples/torsion_drive/biphenyl/phepyrFOH_neutral/2_10_13_22/240/phepyrFOH_neutral_2_10_13_22_240.out\n",
      "  warnings.warn(\"Warning: Optimizer failed for {}\".format(f))\n",
      "/Users/chayastern/anaconda/lib/python3.6/site-packages/torsionfit-0+untagged.607.g735d503.dirty-py3.6.egg/torsionfit/database/qmdatabase.py:217: UserWarning: Warning: Optimizer failed for /Users/chayastern/src/ChayaSt/torsionfit_examples/torsion_drive/biphenyl/phepyrFOH_neutral/2_10_13_22/255/phepyrFOH_neutral_2_10_13_22_255.out\n",
      "  warnings.warn(\"Warning: Optimizer failed for {}\".format(f))\n"
     ]
    },
    {
     "name": "stdout",
     "output_type": "stream",
     "text": [
      "[Psi /Users/chayastern/src/ChayaSt/torsionfit_examples/torsion_drive/biphenyl/phepyrFOH_neutral/2_10_13_22/285/phepyrFOH_neutral_2_10_13_22_285.out WARNING] In logfileparser.py, line 472, line not all dashes as expected: --------------------------------------------------------------------------------------------- ~\n",
      "[Psi /Users/chayastern/src/ChayaSt/torsionfit_examples/torsion_drive/biphenyl/phepyrFOH_neutral/2_10_13_22/300/phepyrFOH_neutral_2_10_13_22_300.out WARNING] In logfileparser.py, line 472, line not all dashes as expected: --------------------------------------------------------------------------------------------- ~\n"
     ]
    },
    {
     "name": "stderr",
     "output_type": "stream",
     "text": [
      "/Users/chayastern/anaconda/lib/python3.6/site-packages/torsionfit-0+untagged.607.g735d503.dirty-py3.6.egg/torsionfit/database/qmdatabase.py:217: UserWarning: Warning: Optimizer failed for /Users/chayastern/src/ChayaSt/torsionfit_examples/torsion_drive/biphenyl/phepyrFOH_neutral/2_10_13_22/285/phepyrFOH_neutral_2_10_13_22_285.out\n",
      "  warnings.warn(\"Warning: Optimizer failed for {}\".format(f))\n"
     ]
    },
    {
     "name": "stdout",
     "output_type": "stream",
     "text": [
      "[Psi /Users/chayastern/src/ChayaSt/torsionfit_examples/torsion_drive/biphenyl/phepyrFOH_neutral/2_10_13_22/315/phepyrFOH_neutral_2_10_13_22_315.out WARNING] In logfileparser.py, line 472, line not all dashes as expected: --------------------------------------------------------------------------------------------- ~\n",
      "[Psi /Users/chayastern/src/ChayaSt/torsionfit_examples/torsion_drive/biphenyl/phepyrFOH_neutral/2_10_13_22/330/phepyrFOH_neutral_2_10_13_22_330.out WARNING] In logfileparser.py, line 472, line not all dashes as expected: --------------------------------------------------------------------------------------------- ~\n"
     ]
    },
    {
     "name": "stderr",
     "output_type": "stream",
     "text": [
      "/Users/chayastern/anaconda/lib/python3.6/site-packages/torsionfit-0+untagged.607.g735d503.dirty-py3.6.egg/torsionfit/database/qmdatabase.py:217: UserWarning: Warning: Optimizer failed for /Users/chayastern/src/ChayaSt/torsionfit_examples/torsion_drive/biphenyl/phepyrFOH_neutral/2_10_13_22/315/phepyrFOH_neutral_2_10_13_22_315.out\n",
      "  warnings.warn(\"Warning: Optimizer failed for {}\".format(f))\n",
      "/Users/chayastern/anaconda/lib/python3.6/site-packages/torsionfit-0+untagged.607.g735d503.dirty-py3.6.egg/torsionfit/database/qmdatabase.py:217: UserWarning: Warning: Optimizer failed for /Users/chayastern/src/ChayaSt/torsionfit_examples/torsion_drive/biphenyl/phepyrFOH_neutral/2_10_13_22/330/phepyrFOH_neutral_2_10_13_22_330.out\n",
      "  warnings.warn(\"Warning: Optimizer failed for {}\".format(f))\n",
      "/Users/chayastern/anaconda/lib/python3.6/site-packages/torsionfit-0+untagged.607.g735d503.dirty-py3.6.egg/torsionfit/database/qmdatabase.py:217: UserWarning: Warning: Optimizer failed for /Users/chayastern/src/ChayaSt/torsionfit_examples/torsion_drive/biphenyl/phepyrFOH_neutral/2_10_13_22/345/phepyrFOH_neutral_2_10_13_22_345.out\n",
      "  warnings.warn(\"Warning: Optimizer failed for {}\".format(f))\n"
     ]
    }
   ],
   "source": [
    "phephyrFOH_nuetral = parse_psi4_out('phepyrFOH_neutral/', '4phepyrFOH_neutral.mol2')"
   ]
  },
  {
   "cell_type": "code",
   "execution_count": 139,
   "metadata": {},
   "outputs": [
    {
     "data": {
      "image/png": "[encoded data removed]",
      "text/plain": [
       "<matplotlib.figure.Figure at 0x11aa9cd30>"
      ]
     },
     "metadata": {},
     "output_type": "display_data"
    }
   ],
   "source": [
    "# remove \n",
    "phephyrFOH_nuetral_opt = phephyrFOH_nuetral.remove_nonoptimized()\n",
    "plt.plot(phephyrFOH_nuetral.angles[:24], phephyrFOH_nuetral.qm_energy[:24], 'o', color='red', label='non converging')\n",
    "plt.plot(phephyrFOH_nuetral.angles[:24], phephyrFOH_nuetral.qm_energy[:24], color='red');\n",
    "plt.plot(phephyrFOH_nuetral_opt.angles[:14], phephyrFOH_nuetral_opt.qm_energy[:14], 'o', label='converged');\n",
    "plt.legend()\n",
    "plt.title('3-fluoro-4-(4-pyridyl)phenol (neutral)')\n",
    "plt.xlabel('Torsion angle (degrees)')\n",
    "plt.ylabel('Relative energy (kJ/mol)')\n",
    "plt.savefig('phepyrFOH_neutral_scan.png');"
   ]
  },
  {
   "cell_type": "code",
   "execution_count": 140,
   "metadata": {},
   "outputs": [
    {
     "name": "stdout",
     "output_type": "stream",
     "text": [
      "[Psi /Users/chayastern/src/ChayaSt/torsionfit_examples/torsion_drive/biphenyl/phepyrFOH_zwitterion/1_8_9_3/0/phepyrFOH_zwitterion_1_8_9_3_0.out WARNING] In logfileparser.py, line 472, line not all dashes as expected: --------------------------------------------------------------------------------------------- ~\n"
     ]
    },
    {
     "name": "stderr",
     "output_type": "stream",
     "text": [
      "/Users/chayastern/anaconda/lib/python3.6/site-packages/pandas/io/parsers.py:2108: FutureWarning: split() requires a non-empty pattern match.\n",
      "  yield pat.split(line.strip())\n",
      "/Users/chayastern/anaconda/lib/python3.6/site-packages/pandas/io/parsers.py:2110: FutureWarning: split() requires a non-empty pattern match.\n",
      "  yield pat.split(line.strip())\n"
     ]
    },
    {
     "name": "stdout",
     "output_type": "stream",
     "text": [
      "[Psi /Users/chayastern/src/ChayaSt/torsionfit_examples/torsion_drive/biphenyl/phepyrFOH_zwitterion/1_8_9_3/15/phepyrFOH_zwitterion_1_8_9_3_15.out WARNING] In logfileparser.py, line 472, line not all dashes as expected: --------------------------------------------------------------------------------------------- ~\n",
      "[Psi /Users/chayastern/src/ChayaSt/torsionfit_examples/torsion_drive/biphenyl/phepyrFOH_zwitterion/1_8_9_3/30/phepyrFOH_zwitterion_1_8_9_3_30.out WARNING] In logfileparser.py, line 472, line not all dashes as expected: --------------------------------------------------------------------------------------------- ~\n",
      "[Psi /Users/chayastern/src/ChayaSt/torsionfit_examples/torsion_drive/biphenyl/phepyrFOH_zwitterion/1_8_9_3/45/phepyrFOH_zwitterion_1_8_9_3_45.out WARNING] In logfileparser.py, line 472, line not all dashes as expected: --------------------------------------------------------------------------------------------- ~\n",
      "[Psi /Users/chayastern/src/ChayaSt/torsionfit_examples/torsion_drive/biphenyl/phepyrFOH_zwitterion/1_8_9_3/60/phepyrFOH_zwitterion_1_8_9_3_60.out WARNING] In logfileparser.py, line 472, line not all dashes as expected: --------------------------------------------------------------------------------------------- ~\n"
     ]
    },
    {
     "name": "stderr",
     "output_type": "stream",
     "text": [
      "/Users/chayastern/anaconda/lib/python3.6/site-packages/torsionfit-0+untagged.607.g735d503.dirty-py3.6.egg/torsionfit/database/qmdatabase.py:217: UserWarning: Warning: Optimizer failed for /Users/chayastern/src/ChayaSt/torsionfit_examples/torsion_drive/biphenyl/phepyrFOH_zwitterion/1_8_9_3/45/phepyrFOH_zwitterion_1_8_9_3_45.out\n",
      "  warnings.warn(\"Warning: Optimizer failed for {}\".format(f))\n"
     ]
    },
    {
     "name": "stdout",
     "output_type": "stream",
     "text": [
      "[Psi /Users/chayastern/src/ChayaSt/torsionfit_examples/torsion_drive/biphenyl/phepyrFOH_zwitterion/1_8_9_3/75/phepyrFOH_zwitterion_1_8_9_3_75.out WARNING] In logfileparser.py, line 472, line not all dashes as expected: --------------------------------------------------------------------------------------------- ~\n"
     ]
    },
    {
     "name": "stderr",
     "output_type": "stream",
     "text": [
      "/Users/chayastern/anaconda/lib/python3.6/site-packages/torsionfit-0+untagged.607.g735d503.dirty-py3.6.egg/torsionfit/database/qmdatabase.py:217: UserWarning: Warning: Optimizer failed for /Users/chayastern/src/ChayaSt/torsionfit_examples/torsion_drive/biphenyl/phepyrFOH_zwitterion/1_8_9_3/60/phepyrFOH_zwitterion_1_8_9_3_60.out\n",
      "  warnings.warn(\"Warning: Optimizer failed for {}\".format(f))\n"
     ]
    },
    {
     "name": "stdout",
     "output_type": "stream",
     "text": [
      "[Psi /Users/chayastern/src/ChayaSt/torsionfit_examples/torsion_drive/biphenyl/phepyrFOH_zwitterion/1_8_9_3/90/phepyrFOH_zwitterion_1_8_9_3_90.out WARNING] In logfileparser.py, line 472, line not all dashes as expected: --------------------------------------------------------------------------------------------- ~\n"
     ]
    },
    {
     "name": "stderr",
     "output_type": "stream",
     "text": [
      "/Users/chayastern/anaconda/lib/python3.6/site-packages/torsionfit-0+untagged.607.g735d503.dirty-py3.6.egg/torsionfit/database/qmdatabase.py:217: UserWarning: Warning: Optimizer failed for /Users/chayastern/src/ChayaSt/torsionfit_examples/torsion_drive/biphenyl/phepyrFOH_zwitterion/1_8_9_3/75/phepyrFOH_zwitterion_1_8_9_3_75.out\n",
      "  warnings.warn(\"Warning: Optimizer failed for {}\".format(f))\n"
     ]
    },
    {
     "name": "stdout",
     "output_type": "stream",
     "text": [
      "[Psi /Users/chayastern/src/ChayaSt/torsionfit_examples/torsion_drive/biphenyl/phepyrFOH_zwitterion/1_8_9_3/105/phepyrFOH_zwitterion_1_8_9_3_105.out WARNING] In logfileparser.py, line 472, line not all dashes as expected: --------------------------------------------------------------------------------------------- ~\n"
     ]
    },
    {
     "name": "stderr",
     "output_type": "stream",
     "text": [
      "/Users/chayastern/anaconda/lib/python3.6/site-packages/torsionfit-0+untagged.607.g735d503.dirty-py3.6.egg/torsionfit/database/qmdatabase.py:217: UserWarning: Warning: Optimizer failed for /Users/chayastern/src/ChayaSt/torsionfit_examples/torsion_drive/biphenyl/phepyrFOH_zwitterion/1_8_9_3/90/phepyrFOH_zwitterion_1_8_9_3_90.out\n",
      "  warnings.warn(\"Warning: Optimizer failed for {}\".format(f))\n",
      "/Users/chayastern/anaconda/lib/python3.6/site-packages/torsionfit-0+untagged.607.g735d503.dirty-py3.6.egg/torsionfit/database/qmdatabase.py:217: UserWarning: Warning: Optimizer failed for /Users/chayastern/src/ChayaSt/torsionfit_examples/torsion_drive/biphenyl/phepyrFOH_zwitterion/1_8_9_3/105/phepyrFOH_zwitterion_1_8_9_3_105.out\n",
      "  warnings.warn(\"Warning: Optimizer failed for {}\".format(f))\n"
     ]
    },
    {
     "name": "stdout",
     "output_type": "stream",
     "text": [
      "[Psi /Users/chayastern/src/ChayaSt/torsionfit_examples/torsion_drive/biphenyl/phepyrFOH_zwitterion/1_8_9_3/120/phepyrFOH_zwitterion_1_8_9_3_120.out WARNING] In logfileparser.py, line 472, line not all dashes as expected: --------------------------------------------------------------------------------------------- ~\n",
      "[Psi /Users/chayastern/src/ChayaSt/torsionfit_examples/torsion_drive/biphenyl/phepyrFOH_zwitterion/1_8_9_3/135/phepyrFOH_zwitterion_1_8_9_3_135.out WARNING] In logfileparser.py, line 472, line not all dashes as expected: --------------------------------------------------------------------------------------------- ~\n"
     ]
    },
    {
     "name": "stderr",
     "output_type": "stream",
     "text": [
      "/Users/chayastern/anaconda/lib/python3.6/site-packages/torsionfit-0+untagged.607.g735d503.dirty-py3.6.egg/torsionfit/database/qmdatabase.py:217: UserWarning: Warning: Optimizer failed for /Users/chayastern/src/ChayaSt/torsionfit_examples/torsion_drive/biphenyl/phepyrFOH_zwitterion/1_8_9_3/120/phepyrFOH_zwitterion_1_8_9_3_120.out\n",
      "  warnings.warn(\"Warning: Optimizer failed for {}\".format(f))\n"
     ]
    },
    {
     "name": "stdout",
     "output_type": "stream",
     "text": [
      "[Psi /Users/chayastern/src/ChayaSt/torsionfit_examples/torsion_drive/biphenyl/phepyrFOH_zwitterion/1_8_9_3/150/phepyrFOH_zwitterion_1_8_9_3_150.out WARNING] In logfileparser.py, line 472, line not all dashes as expected: --------------------------------------------------------------------------------------------- ~\n"
     ]
    },
    {
     "name": "stderr",
     "output_type": "stream",
     "text": [
      "/Users/chayastern/anaconda/lib/python3.6/site-packages/torsionfit-0+untagged.607.g735d503.dirty-py3.6.egg/torsionfit/database/qmdatabase.py:217: UserWarning: Warning: Optimizer failed for /Users/chayastern/src/ChayaSt/torsionfit_examples/torsion_drive/biphenyl/phepyrFOH_zwitterion/1_8_9_3/135/phepyrFOH_zwitterion_1_8_9_3_135.out\n",
      "  warnings.warn(\"Warning: Optimizer failed for {}\".format(f))\n"
     ]
    },
    {
     "name": "stdout",
     "output_type": "stream",
     "text": [
      "[Psi /Users/chayastern/src/ChayaSt/torsionfit_examples/torsion_drive/biphenyl/phepyrFOH_zwitterion/1_8_9_3/165/phepyrFOH_zwitterion_1_8_9_3_165.out WARNING] In logfileparser.py, line 472, line not all dashes as expected: --------------------------------------------------------------------------------------------- ~\n",
      "[Psi /Users/chayastern/src/ChayaSt/torsionfit_examples/torsion_drive/biphenyl/phepyrFOH_zwitterion/1_8_9_3/180/phepyrFOH_zwitterion_1_8_9_3_180.out WARNING] In logfileparser.py, line 472, line not all dashes as expected: --------------------------------------------------------------------------------------------- ~\n",
      "[Psi /Users/chayastern/src/ChayaSt/torsionfit_examples/torsion_drive/biphenyl/phepyrFOH_zwitterion/1_8_9_3/195/phepyrFOH_zwitterion_1_8_9_3_195.out WARNING] In logfileparser.py, line 472, line not all dashes as expected: --------------------------------------------------------------------------------------------- ~\n",
      "[Psi /Users/chayastern/src/ChayaSt/torsionfit_examples/torsion_drive/biphenyl/phepyrFOH_zwitterion/1_8_9_3/210/phepyrFOH_zwitterion_1_8_9_3_210.out WARNING] In logfileparser.py, line 472, line not all dashes as expected: --------------------------------------------------------------------------------------------- ~\n"
     ]
    },
    {
     "name": "stderr",
     "output_type": "stream",
     "text": [
      "/Users/chayastern/anaconda/lib/python3.6/site-packages/torsionfit-0+untagged.607.g735d503.dirty-py3.6.egg/torsionfit/database/qmdatabase.py:217: UserWarning: Warning: Optimizer failed for /Users/chayastern/src/ChayaSt/torsionfit_examples/torsion_drive/biphenyl/phepyrFOH_zwitterion/1_8_9_3/180/phepyrFOH_zwitterion_1_8_9_3_180.out\n",
      "  warnings.warn(\"Warning: Optimizer failed for {}\".format(f))\n",
      "/Users/chayastern/anaconda/lib/python3.6/site-packages/torsionfit-0+untagged.607.g735d503.dirty-py3.6.egg/torsionfit/database/qmdatabase.py:217: UserWarning: Warning: Optimizer failed for /Users/chayastern/src/ChayaSt/torsionfit_examples/torsion_drive/biphenyl/phepyrFOH_zwitterion/1_8_9_3/195/phepyrFOH_zwitterion_1_8_9_3_195.out\n",
      "  warnings.warn(\"Warning: Optimizer failed for {}\".format(f))\n"
     ]
    },
    {
     "name": "stdout",
     "output_type": "stream",
     "text": [
      "[Psi /Users/chayastern/src/ChayaSt/torsionfit_examples/torsion_drive/biphenyl/phepyrFOH_zwitterion/1_8_9_3/225/phepyrFOH_zwitterion_1_8_9_3_225.out WARNING] In logfileparser.py, line 472, line not all dashes as expected: --------------------------------------------------------------------------------------------- ~\n",
      "[Psi /Users/chayastern/src/ChayaSt/torsionfit_examples/torsion_drive/biphenyl/phepyrFOH_zwitterion/1_8_9_3/240/phepyrFOH_zwitterion_1_8_9_3_240.out WARNING] In logfileparser.py, line 472, line not all dashes as expected: --------------------------------------------------------------------------------------------- ~\n"
     ]
    },
    {
     "name": "stderr",
     "output_type": "stream",
     "text": [
      "/Users/chayastern/anaconda/lib/python3.6/site-packages/torsionfit-0+untagged.607.g735d503.dirty-py3.6.egg/torsionfit/database/qmdatabase.py:217: UserWarning: Warning: Optimizer failed for /Users/chayastern/src/ChayaSt/torsionfit_examples/torsion_drive/biphenyl/phepyrFOH_zwitterion/1_8_9_3/225/phepyrFOH_zwitterion_1_8_9_3_225.out\n",
      "  warnings.warn(\"Warning: Optimizer failed for {}\".format(f))\n"
     ]
    },
    {
     "name": "stdout",
     "output_type": "stream",
     "text": [
      "[Psi /Users/chayastern/src/ChayaSt/torsionfit_examples/torsion_drive/biphenyl/phepyrFOH_zwitterion/1_8_9_3/255/phepyrFOH_zwitterion_1_8_9_3_255.out WARNING] In logfileparser.py, line 472, line not all dashes as expected: --------------------------------------------------------------------------------------------- ~\n"
     ]
    },
    {
     "name": "stderr",
     "output_type": "stream",
     "text": [
      "/Users/chayastern/anaconda/lib/python3.6/site-packages/torsionfit-0+untagged.607.g735d503.dirty-py3.6.egg/torsionfit/database/qmdatabase.py:217: UserWarning: Warning: Optimizer failed for /Users/chayastern/src/ChayaSt/torsionfit_examples/torsion_drive/biphenyl/phepyrFOH_zwitterion/1_8_9_3/240/phepyrFOH_zwitterion_1_8_9_3_240.out\n",
      "  warnings.warn(\"Warning: Optimizer failed for {}\".format(f))\n"
     ]
    },
    {
     "name": "stdout",
     "output_type": "stream",
     "text": [
      "[Psi /Users/chayastern/src/ChayaSt/torsionfit_examples/torsion_drive/biphenyl/phepyrFOH_zwitterion/1_8_9_3/270/phepyrFOH_zwitterion_1_8_9_3_270.out WARNING] In logfileparser.py, line 472, line not all dashes as expected: --------------------------------------------------------------------------------------------- ~\n"
     ]
    },
    {
     "name": "stderr",
     "output_type": "stream",
     "text": [
      "/Users/chayastern/anaconda/lib/python3.6/site-packages/torsionfit-0+untagged.607.g735d503.dirty-py3.6.egg/torsionfit/database/qmdatabase.py:217: UserWarning: Warning: Optimizer failed for /Users/chayastern/src/ChayaSt/torsionfit_examples/torsion_drive/biphenyl/phepyrFOH_zwitterion/1_8_9_3/255/phepyrFOH_zwitterion_1_8_9_3_255.out\n",
      "  warnings.warn(\"Warning: Optimizer failed for {}\".format(f))\n"
     ]
    },
    {
     "name": "stdout",
     "output_type": "stream",
     "text": [
      "[Psi /Users/chayastern/src/ChayaSt/torsionfit_examples/torsion_drive/biphenyl/phepyrFOH_zwitterion/1_8_9_3/285/phepyrFOH_zwitterion_1_8_9_3_285.out WARNING] In logfileparser.py, line 472, line not all dashes as expected: --------------------------------------------------------------------------------------------- ~\n"
     ]
    },
    {
     "name": "stderr",
     "output_type": "stream",
     "text": [
      "/Users/chayastern/anaconda/lib/python3.6/site-packages/torsionfit-0+untagged.607.g735d503.dirty-py3.6.egg/torsionfit/database/qmdatabase.py:217: UserWarning: Warning: Optimizer failed for /Users/chayastern/src/ChayaSt/torsionfit_examples/torsion_drive/biphenyl/phepyrFOH_zwitterion/1_8_9_3/270/phepyrFOH_zwitterion_1_8_9_3_270.out\n",
      "  warnings.warn(\"Warning: Optimizer failed for {}\".format(f))\n"
     ]
    },
    {
     "name": "stdout",
     "output_type": "stream",
     "text": [
      "[Psi /Users/chayastern/src/ChayaSt/torsionfit_examples/torsion_drive/biphenyl/phepyrFOH_zwitterion/1_8_9_3/300/phepyrFOH_zwitterion_1_8_9_3_300.out WARNING] In logfileparser.py, line 472, line not all dashes as expected: --------------------------------------------------------------------------------------------- ~\n"
     ]
    },
    {
     "name": "stderr",
     "output_type": "stream",
     "text": [
      "/Users/chayastern/anaconda/lib/python3.6/site-packages/torsionfit-0+untagged.607.g735d503.dirty-py3.6.egg/torsionfit/database/qmdatabase.py:217: UserWarning: Warning: Optimizer failed for /Users/chayastern/src/ChayaSt/torsionfit_examples/torsion_drive/biphenyl/phepyrFOH_zwitterion/1_8_9_3/285/phepyrFOH_zwitterion_1_8_9_3_285.out\n",
      "  warnings.warn(\"Warning: Optimizer failed for {}\".format(f))\n"
     ]
    },
    {
     "name": "stdout",
     "output_type": "stream",
     "text": [
      "[Psi /Users/chayastern/src/ChayaSt/torsionfit_examples/torsion_drive/biphenyl/phepyrFOH_zwitterion/1_8_9_3/315/phepyrFOH_zwitterion_1_8_9_3_315.out WARNING] In logfileparser.py, line 472, line not all dashes as expected: --------------------------------------------------------------------------------------------- ~\n"
     ]
    },
    {
     "name": "stderr",
     "output_type": "stream",
     "text": [
      "/Users/chayastern/anaconda/lib/python3.6/site-packages/torsionfit-0+untagged.607.g735d503.dirty-py3.6.egg/torsionfit/database/qmdatabase.py:217: UserWarning: Warning: Optimizer failed for /Users/chayastern/src/ChayaSt/torsionfit_examples/torsion_drive/biphenyl/phepyrFOH_zwitterion/1_8_9_3/300/phepyrFOH_zwitterion_1_8_9_3_300.out\n",
      "  warnings.warn(\"Warning: Optimizer failed for {}\".format(f))\n"
     ]
    },
    {
     "name": "stdout",
     "output_type": "stream",
     "text": [
      "[Psi /Users/chayastern/src/ChayaSt/torsionfit_examples/torsion_drive/biphenyl/phepyrFOH_zwitterion/1_8_9_3/330/phepyrFOH_zwitterion_1_8_9_3_330.out WARNING] In logfileparser.py, line 472, line not all dashes as expected: --------------------------------------------------------------------------------------------- ~\n"
     ]
    },
    {
     "name": "stderr",
     "output_type": "stream",
     "text": [
      "/Users/chayastern/anaconda/lib/python3.6/site-packages/torsionfit-0+untagged.607.g735d503.dirty-py3.6.egg/torsionfit/database/qmdatabase.py:217: UserWarning: Warning: Optimizer failed for /Users/chayastern/src/ChayaSt/torsionfit_examples/torsion_drive/biphenyl/phepyrFOH_zwitterion/1_8_9_3/315/phepyrFOH_zwitterion_1_8_9_3_315.out\n",
      "  warnings.warn(\"Warning: Optimizer failed for {}\".format(f))\n"
     ]
    },
    {
     "name": "stdout",
     "output_type": "stream",
     "text": [
      "[Psi /Users/chayastern/src/ChayaSt/torsionfit_examples/torsion_drive/biphenyl/phepyrFOH_zwitterion/1_8_9_3/345/phepyrFOH_zwitterion_1_8_9_3_345.out WARNING] In logfileparser.py, line 472, line not all dashes as expected: --------------------------------------------------------------------------------------------- ~\n"
     ]
    }
   ],
   "source": [
    "phephyrFOH_zwitter = parse_psi4_out('phepyrFOH_zwitterion/', '4phepyrFOH_zwitterion.mol2')"
   ]
  },
  {
   "cell_type": "code",
   "execution_count": 141,
   "metadata": {},
   "outputs": [
    {
     "data": {
      "image/png": "[encoded data removed]",
      "text/plain": [
       "<matplotlib.figure.Figure at 0x11a72b5c0>"
      ]
     },
     "metadata": {},
     "output_type": "display_data"
    }
   ],
   "source": [
    "# remove \n",
    "phephyrFOH_zwitter_opt = phephyrFOH_zwitter.remove_nonoptimized()\n",
    "plt.plot(phephyrFOH_zwitter.angles, phephyrFOH_zwitter.qm_energy, 'o', color='red', label='non converging')\n",
    "plt.plot(phephyrFOH_zwitter.angles, phephyrFOH_zwitter.qm_energy, color='red');\n",
    "plt.plot(phephyrFOH_zwitter_opt.angles, phephyrFOH_zwitter_opt.qm_energy, 'o', label='converged');\n",
    "plt.legend()\n",
    "plt.title('3-fluoro-4-pyridin-1-ium-4-yl-phenolate (zwitterion)')\n",
    "plt.xlabel('Torsion angle (degrees)')\n",
    "plt.ylabel('Relative energy (kJ/mol)')\n",
    "plt.savefig('phepyrFOH_zwitter_scan.png');"
   ]
  },
  {
   "cell_type": "code",
   "execution_count": 142,
   "metadata": {},
   "outputs": [
    {
     "name": "stdout",
     "output_type": "stream",
     "text": [
      "[Psi /Users/chayastern/src/ChayaSt/torsionfit_examples/torsion_drive/biphenyl/phepyrOH_zwitterion/1_9_10_5/0/phepyrOH_zwitterion_1_9_10_5_0.out WARNING] In logfileparser.py, line 472, line not all dashes as expected: --------------------------------------------------------------------------------------------- ~\n"
     ]
    },
    {
     "name": "stderr",
     "output_type": "stream",
     "text": [
      "/Users/chayastern/anaconda/lib/python3.6/site-packages/pandas/io/parsers.py:2108: FutureWarning: split() requires a non-empty pattern match.\n",
      "  yield pat.split(line.strip())\n",
      "/Users/chayastern/anaconda/lib/python3.6/site-packages/pandas/io/parsers.py:2110: FutureWarning: split() requires a non-empty pattern match.\n",
      "  yield pat.split(line.strip())\n",
      "/Users/chayastern/anaconda/lib/python3.6/site-packages/torsionfit-0+untagged.607.g735d503.dirty-py3.6.egg/torsionfit/database/qmdatabase.py:217: UserWarning: Warning: Optimizer failed for /Users/chayastern/src/ChayaSt/torsionfit_examples/torsion_drive/biphenyl/phepyrOH_zwitterion/1_9_10_5/15/phepyrOH_zwitterion_1_9_10_5_15.out\n",
      "  warnings.warn(\"Warning: Optimizer failed for {}\".format(f))\n"
     ]
    },
    {
     "name": "stdout",
     "output_type": "stream",
     "text": [
      "[Psi /Users/chayastern/src/ChayaSt/torsionfit_examples/torsion_drive/biphenyl/phepyrOH_zwitterion/1_9_10_5/30/phepyrOH_zwitterion_1_9_10_5_30.out WARNING] In logfileparser.py, line 472, line not all dashes as expected: --------------------------------------------------------------------------------------------- ~\n",
      "[Psi /Users/chayastern/src/ChayaSt/torsionfit_examples/torsion_drive/biphenyl/phepyrOH_zwitterion/1_9_10_5/45/phepyrOH_zwitterion_1_9_10_5_45.out WARNING] In logfileparser.py, line 472, line not all dashes as expected: --------------------------------------------------------------------------------------------- ~\n",
      "[Psi /Users/chayastern/src/ChayaSt/torsionfit_examples/torsion_drive/biphenyl/phepyrOH_zwitterion/1_9_10_5/45/phepyrOH_zwitterion_1_9_10_5_45.out WARNING] File terminated before end of last SCF! Last density err: 1.01828e-08\n",
      "[Psi /Users/chayastern/src/ChayaSt/torsionfit_examples/torsion_drive/biphenyl/phepyrOH_zwitterion/1_9_10_5/60/phepyrOH_zwitterion_1_9_10_5_60.out WARNING] In logfileparser.py, line 472, line not all dashes as expected: --------------------------------------------------------------------------------------------- ~\n"
     ]
    },
    {
     "name": "stderr",
     "output_type": "stream",
     "text": [
      "/Users/chayastern/anaconda/lib/python3.6/site-packages/torsionfit-0+untagged.607.g735d503.dirty-py3.6.egg/torsionfit/database/qmdatabase.py:217: UserWarning: Warning: Optimizer failed for /Users/chayastern/src/ChayaSt/torsionfit_examples/torsion_drive/biphenyl/phepyrOH_zwitterion/1_9_10_5/45/phepyrOH_zwitterion_1_9_10_5_45.out\n",
      "  warnings.warn(\"Warning: Optimizer failed for {}\".format(f))\n"
     ]
    },
    {
     "name": "stdout",
     "output_type": "stream",
     "text": [
      "[Psi /Users/chayastern/src/ChayaSt/torsionfit_examples/torsion_drive/biphenyl/phepyrOH_zwitterion/1_9_10_5/90/phepyrOH_zwitterion_1_9_10_5_90.out WARNING] In logfileparser.py, line 472, line not all dashes as expected: --------------------------------------------------------------------------------------------- ~\n"
     ]
    },
    {
     "name": "stderr",
     "output_type": "stream",
     "text": [
      "/Users/chayastern/anaconda/lib/python3.6/site-packages/torsionfit-0+untagged.607.g735d503.dirty-py3.6.egg/torsionfit/database/qmdatabase.py:217: UserWarning: Warning: Optimizer failed for /Users/chayastern/src/ChayaSt/torsionfit_examples/torsion_drive/biphenyl/phepyrOH_zwitterion/1_9_10_5/60/phepyrOH_zwitterion_1_9_10_5_60.out\n",
      "  warnings.warn(\"Warning: Optimizer failed for {}\".format(f))\n",
      "/Users/chayastern/anaconda/lib/python3.6/site-packages/torsionfit-0+untagged.607.g735d503.dirty-py3.6.egg/torsionfit/database/qmdatabase.py:217: UserWarning: Warning: Optimizer failed for /Users/chayastern/src/ChayaSt/torsionfit_examples/torsion_drive/biphenyl/phepyrOH_zwitterion/1_9_10_5/75/phepyrOH_zwitterion_1_9_10_5_75.out\n",
      "  warnings.warn(\"Warning: Optimizer failed for {}\".format(f))\n"
     ]
    },
    {
     "name": "stdout",
     "output_type": "stream",
     "text": [
      "[Psi /Users/chayastern/src/ChayaSt/torsionfit_examples/torsion_drive/biphenyl/phepyrOH_zwitterion/1_9_10_5/105/phepyrOH_zwitterion_1_9_10_5_105.out WARNING] In logfileparser.py, line 472, line not all dashes as expected: --------------------------------------------------------------------------------------------- ~\n",
      "[Psi /Users/chayastern/src/ChayaSt/torsionfit_examples/torsion_drive/biphenyl/phepyrOH_zwitterion/1_9_10_5/120/phepyrOH_zwitterion_1_9_10_5_120.out WARNING] In logfileparser.py, line 472, line not all dashes as expected: --------------------------------------------------------------------------------------------- ~\n"
     ]
    },
    {
     "name": "stderr",
     "output_type": "stream",
     "text": [
      "/Users/chayastern/anaconda/lib/python3.6/site-packages/torsionfit-0+untagged.607.g735d503.dirty-py3.6.egg/torsionfit/database/qmdatabase.py:217: UserWarning: Warning: Optimizer failed for /Users/chayastern/src/ChayaSt/torsionfit_examples/torsion_drive/biphenyl/phepyrOH_zwitterion/1_9_10_5/105/phepyrOH_zwitterion_1_9_10_5_105.out\n",
      "  warnings.warn(\"Warning: Optimizer failed for {}\".format(f))\n"
     ]
    },
    {
     "name": "stdout",
     "output_type": "stream",
     "text": [
      "[Psi /Users/chayastern/src/ChayaSt/torsionfit_examples/torsion_drive/biphenyl/phepyrOH_zwitterion/1_9_10_5/135/phepyrOH_zwitterion_1_9_10_5_135.out WARNING] In logfileparser.py, line 472, line not all dashes as expected: --------------------------------------------------------------------------------------------- ~\n"
     ]
    },
    {
     "name": "stderr",
     "output_type": "stream",
     "text": [
      "/Users/chayastern/anaconda/lib/python3.6/site-packages/torsionfit-0+untagged.607.g735d503.dirty-py3.6.egg/torsionfit/database/qmdatabase.py:217: UserWarning: Warning: Optimizer failed for /Users/chayastern/src/ChayaSt/torsionfit_examples/torsion_drive/biphenyl/phepyrOH_zwitterion/1_9_10_5/120/phepyrOH_zwitterion_1_9_10_5_120.out\n",
      "  warnings.warn(\"Warning: Optimizer failed for {}\".format(f))\n"
     ]
    },
    {
     "name": "stdout",
     "output_type": "stream",
     "text": [
      "[Psi /Users/chayastern/src/ChayaSt/torsionfit_examples/torsion_drive/biphenyl/phepyrOH_zwitterion/1_9_10_5/150/phepyrOH_zwitterion_1_9_10_5_150.out WARNING] In logfileparser.py, line 472, line not all dashes as expected: --------------------------------------------------------------------------------------------- ~\n",
      "[Psi /Users/chayastern/src/ChayaSt/torsionfit_examples/torsion_drive/biphenyl/phepyrOH_zwitterion/1_9_10_5/165/phepyrOH_zwitterion_1_9_10_5_165.out WARNING] In logfileparser.py, line 472, line not all dashes as expected: --------------------------------------------------------------------------------------------- ~\n",
      "[Psi /Users/chayastern/src/ChayaSt/torsionfit_examples/torsion_drive/biphenyl/phepyrOH_zwitterion/1_9_10_5/180/phepyrOH_zwitterion_1_9_10_5_180.out WARNING] In logfileparser.py, line 472, line not all dashes as expected: --------------------------------------------------------------------------------------------- ~\n",
      "[Psi /Users/chayastern/src/ChayaSt/torsionfit_examples/torsion_drive/biphenyl/phepyrOH_zwitterion/1_9_10_5/195/phepyrOH_zwitterion_1_9_10_5_195.out WARNING] In logfileparser.py, line 472, line not all dashes as expected: --------------------------------------------------------------------------------------------- ~\n"
     ]
    },
    {
     "name": "stderr",
     "output_type": "stream",
     "text": [
      "/Users/chayastern/anaconda/lib/python3.6/site-packages/torsionfit-0+untagged.607.g735d503.dirty-py3.6.egg/torsionfit/database/qmdatabase.py:217: UserWarning: Warning: Optimizer failed for /Users/chayastern/src/ChayaSt/torsionfit_examples/torsion_drive/biphenyl/phepyrOH_zwitterion/1_9_10_5/180/phepyrOH_zwitterion_1_9_10_5_180.out\n",
      "  warnings.warn(\"Warning: Optimizer failed for {}\".format(f))\n"
     ]
    },
    {
     "name": "stdout",
     "output_type": "stream",
     "text": [
      "[Psi /Users/chayastern/src/ChayaSt/torsionfit_examples/torsion_drive/biphenyl/phepyrOH_zwitterion/1_9_10_5/210/phepyrOH_zwitterion_1_9_10_5_210.out WARNING] In logfileparser.py, line 472, line not all dashes as expected: --------------------------------------------------------------------------------------------- ~\n",
      "[Psi /Users/chayastern/src/ChayaSt/torsionfit_examples/torsion_drive/biphenyl/phepyrOH_zwitterion/1_9_10_5/225/phepyrOH_zwitterion_1_9_10_5_225.out WARNING] In logfileparser.py, line 472, line not all dashes as expected: --------------------------------------------------------------------------------------------- ~\n",
      "[Psi /Users/chayastern/src/ChayaSt/torsionfit_examples/torsion_drive/biphenyl/phepyrOH_zwitterion/1_9_10_5/240/phepyrOH_zwitterion_1_9_10_5_240.out WARNING] In logfileparser.py, line 472, line not all dashes as expected: --------------------------------------------------------------------------------------------- ~\n"
     ]
    },
    {
     "name": "stderr",
     "output_type": "stream",
     "text": [
      "/Users/chayastern/anaconda/lib/python3.6/site-packages/torsionfit-0+untagged.607.g735d503.dirty-py3.6.egg/torsionfit/database/qmdatabase.py:217: UserWarning: Warning: Optimizer failed for /Users/chayastern/src/ChayaSt/torsionfit_examples/torsion_drive/biphenyl/phepyrOH_zwitterion/1_9_10_5/225/phepyrOH_zwitterion_1_9_10_5_225.out\n",
      "  warnings.warn(\"Warning: Optimizer failed for {}\".format(f))\n"
     ]
    },
    {
     "name": "stdout",
     "output_type": "stream",
     "text": [
      "[Psi /Users/chayastern/src/ChayaSt/torsionfit_examples/torsion_drive/biphenyl/phepyrOH_zwitterion/1_9_10_5/255/phepyrOH_zwitterion_1_9_10_5_255.out WARNING] In logfileparser.py, line 472, line not all dashes as expected: --------------------------------------------------------------------------------------------- ~\n"
     ]
    },
    {
     "name": "stderr",
     "output_type": "stream",
     "text": [
      "/Users/chayastern/anaconda/lib/python3.6/site-packages/torsionfit-0+untagged.607.g735d503.dirty-py3.6.egg/torsionfit/database/qmdatabase.py:217: UserWarning: Warning: Optimizer failed for /Users/chayastern/src/ChayaSt/torsionfit_examples/torsion_drive/biphenyl/phepyrOH_zwitterion/1_9_10_5/240/phepyrOH_zwitterion_1_9_10_5_240.out\n",
      "  warnings.warn(\"Warning: Optimizer failed for {}\".format(f))\n"
     ]
    },
    {
     "name": "stdout",
     "output_type": "stream",
     "text": [
      "[Psi /Users/chayastern/src/ChayaSt/torsionfit_examples/torsion_drive/biphenyl/phepyrOH_zwitterion/1_9_10_5/270/phepyrOH_zwitterion_1_9_10_5_270.out WARNING] In logfileparser.py, line 472, line not all dashes as expected: --------------------------------------------------------------------------------------------- ~\n"
     ]
    },
    {
     "name": "stderr",
     "output_type": "stream",
     "text": [
      "/Users/chayastern/anaconda/lib/python3.6/site-packages/torsionfit-0+untagged.607.g735d503.dirty-py3.6.egg/torsionfit/database/qmdatabase.py:217: UserWarning: Warning: Optimizer failed for /Users/chayastern/src/ChayaSt/torsionfit_examples/torsion_drive/biphenyl/phepyrOH_zwitterion/1_9_10_5/255/phepyrOH_zwitterion_1_9_10_5_255.out\n",
      "  warnings.warn(\"Warning: Optimizer failed for {}\".format(f))\n"
     ]
    },
    {
     "name": "stdout",
     "output_type": "stream",
     "text": [
      "[Psi /Users/chayastern/src/ChayaSt/torsionfit_examples/torsion_drive/biphenyl/phepyrOH_zwitterion/1_9_10_5/285/phepyrOH_zwitterion_1_9_10_5_285.out WARNING] In logfileparser.py, line 472, line not all dashes as expected: --------------------------------------------------------------------------------------------- ~\n",
      "[Psi /Users/chayastern/src/ChayaSt/torsionfit_examples/torsion_drive/biphenyl/phepyrOH_zwitterion/1_9_10_5/300/phepyrOH_zwitterion_1_9_10_5_300.out WARNING] In logfileparser.py, line 472, line not all dashes as expected: --------------------------------------------------------------------------------------------- ~\n"
     ]
    },
    {
     "name": "stderr",
     "output_type": "stream",
     "text": [
      "/Users/chayastern/anaconda/lib/python3.6/site-packages/torsionfit-0+untagged.607.g735d503.dirty-py3.6.egg/torsionfit/database/qmdatabase.py:217: UserWarning: Warning: Optimizer failed for /Users/chayastern/src/ChayaSt/torsionfit_examples/torsion_drive/biphenyl/phepyrOH_zwitterion/1_9_10_5/285/phepyrOH_zwitterion_1_9_10_5_285.out\n",
      "  warnings.warn(\"Warning: Optimizer failed for {}\".format(f))\n"
     ]
    },
    {
     "name": "stdout",
     "output_type": "stream",
     "text": [
      "[Psi /Users/chayastern/src/ChayaSt/torsionfit_examples/torsion_drive/biphenyl/phepyrOH_zwitterion/1_9_10_5/315/phepyrOH_zwitterion_1_9_10_5_315.out WARNING] In logfileparser.py, line 472, line not all dashes as expected: --------------------------------------------------------------------------------------------- ~\n"
     ]
    },
    {
     "name": "stderr",
     "output_type": "stream",
     "text": [
      "/Users/chayastern/anaconda/lib/python3.6/site-packages/torsionfit-0+untagged.607.g735d503.dirty-py3.6.egg/torsionfit/database/qmdatabase.py:217: UserWarning: Warning: Optimizer failed for /Users/chayastern/src/ChayaSt/torsionfit_examples/torsion_drive/biphenyl/phepyrOH_zwitterion/1_9_10_5/300/phepyrOH_zwitterion_1_9_10_5_300.out\n",
      "  warnings.warn(\"Warning: Optimizer failed for {}\".format(f))\n"
     ]
    },
    {
     "name": "stdout",
     "output_type": "stream",
     "text": [
      "[Psi /Users/chayastern/src/ChayaSt/torsionfit_examples/torsion_drive/biphenyl/phepyrOH_zwitterion/1_9_10_5/330/phepyrOH_zwitterion_1_9_10_5_330.out WARNING] In logfileparser.py, line 472, line not all dashes as expected: --------------------------------------------------------------------------------------------- ~\n"
     ]
    },
    {
     "name": "stderr",
     "output_type": "stream",
     "text": [
      "/Users/chayastern/anaconda/lib/python3.6/site-packages/torsionfit-0+untagged.607.g735d503.dirty-py3.6.egg/torsionfit/database/qmdatabase.py:217: UserWarning: Warning: Optimizer failed for /Users/chayastern/src/ChayaSt/torsionfit_examples/torsion_drive/biphenyl/phepyrOH_zwitterion/1_9_10_5/315/phepyrOH_zwitterion_1_9_10_5_315.out\n",
      "  warnings.warn(\"Warning: Optimizer failed for {}\".format(f))\n"
     ]
    },
    {
     "name": "stdout",
     "output_type": "stream",
     "text": [
      "[Psi /Users/chayastern/src/ChayaSt/torsionfit_examples/torsion_drive/biphenyl/phepyrOH_zwitterion/1_9_10_5/345/phepyrOH_zwitterion_1_9_10_5_345.out WARNING] In logfileparser.py, line 472, line not all dashes as expected: --------------------------------------------------------------------------------------------- ~\n"
     ]
    }
   ],
   "source": [
    "phephyrOH_zwitter = parse_psi4_out('phepyrOH_zwitterion/', '4phepyrOH_zwitterion.mol2')"
   ]
  },
  {
   "cell_type": "code",
   "execution_count": 143,
   "metadata": {},
   "outputs": [
    {
     "data": {
      "image/png": "[encoded data removed]",
      "text/plain": [
       "<matplotlib.figure.Figure at 0x11a96e240>"
      ]
     },
     "metadata": {},
     "output_type": "display_data"
    }
   ],
   "source": [
    "# remove \n",
    "phephyrOH_zwitter_opt = phephyrOH_zwitter.remove_nonoptimized()\n",
    "plt.plot(phephyrOH_zwitter.angles, phephyrOH_zwitter.qm_energy, 'o', color='red', label='non converging')\n",
    "plt.plot(phephyrOH_zwitter.angles, phephyrOH_zwitter.qm_energy, color='red');\n",
    "plt.plot(phephyrOH_zwitter_opt.angles, phephyrOH_zwitter_opt.qm_energy, 'o', label='converged');\n",
    "plt.legend()\n",
    "plt.title('4-pyridin-1-ium-4-ylphenolate (zwitterion)')\n",
    "plt.xlabel('Torsion angle (degrees)')\n",
    "plt.ylabel('Relative energy (kJ/mol)')\n",
    "plt.savefig('phepyrOH_zwitter_scan.png');"
   ]
  },
  {
   "cell_type": "code",
   "execution_count": 144,
   "metadata": {},
   "outputs": [
    {
     "name": "stderr",
     "output_type": "stream",
     "text": [
      "/Users/chayastern/anaconda/lib/python3.6/site-packages/pandas/io/parsers.py:2108: FutureWarning: split() requires a non-empty pattern match.\n",
      "  yield pat.split(line.strip())\n",
      "/Users/chayastern/anaconda/lib/python3.6/site-packages/pandas/io/parsers.py:2110: FutureWarning: split() requires a non-empty pattern match.\n",
      "  yield pat.split(line.strip())\n"
     ]
    },
    {
     "name": "stdout",
     "output_type": "stream",
     "text": [
      "[Psi /Users/chayastern/src/ChayaSt/torsionfit_examples/torsion_drive/biphenyl/phepyrOH_cation/1_9_10_5/0/phepyrOH_cation_1_9_10_5_0.out WARNING] In logfileparser.py, line 472, line not all dashes as expected: --------------------------------------------------------------------------------------------- ~\n",
      "[Psi /Users/chayastern/src/ChayaSt/torsionfit_examples/torsion_drive/biphenyl/phepyrOH_cation/1_9_10_5/15/phepyrOH_cation_1_9_10_5_15.out WARNING] In logfileparser.py, line 472, line not all dashes as expected: --------------------------------------------------------------------------------------------- ~\n",
      "[Psi /Users/chayastern/src/ChayaSt/torsionfit_examples/torsion_drive/biphenyl/phepyrOH_cation/1_9_10_5/30/phepyrOH_cation_1_9_10_5_30.out WARNING] In logfileparser.py, line 472, line not all dashes as expected: --------------------------------------------------------------------------------------------- ~\n",
      "[Psi /Users/chayastern/src/ChayaSt/torsionfit_examples/torsion_drive/biphenyl/phepyrOH_cation/1_9_10_5/45/phepyrOH_cation_1_9_10_5_45.out WARNING] In logfileparser.py, line 472, line not all dashes as expected: --------------------------------------------------------------------------------------------- ~\n",
      "[Psi /Users/chayastern/src/ChayaSt/torsionfit_examples/torsion_drive/biphenyl/phepyrOH_cation/1_9_10_5/60/phepyrOH_cation_1_9_10_5_60.out WARNING] In logfileparser.py, line 472, line not all dashes as expected: --------------------------------------------------------------------------------------------- ~\n",
      "[Psi /Users/chayastern/src/ChayaSt/torsionfit_examples/torsion_drive/biphenyl/phepyrOH_cation/1_9_10_5/75/phepyrOH_cation_1_9_10_5_75.out WARNING] In logfileparser.py, line 472, line not all dashes as expected: --------------------------------------------------------------------------------------------- ~\n",
      "[Psi /Users/chayastern/src/ChayaSt/torsionfit_examples/torsion_drive/biphenyl/phepyrOH_cation/1_9_10_5/90/phepyrOH_cation_1_9_10_5_90.out WARNING] In logfileparser.py, line 472, line not all dashes as expected: --------------------------------------------------------------------------------------------- ~\n",
      "[Psi /Users/chayastern/src/ChayaSt/torsionfit_examples/torsion_drive/biphenyl/phepyrOH_cation/1_9_10_5/105/phepyrOH_cation_1_9_10_5_105.out WARNING] In logfileparser.py, line 472, line not all dashes as expected: --------------------------------------------------------------------------------------------- ~\n",
      "[Psi /Users/chayastern/src/ChayaSt/torsionfit_examples/torsion_drive/biphenyl/phepyrOH_cation/1_9_10_5/120/phepyrOH_cation_1_9_10_5_120.out WARNING] In logfileparser.py, line 472, line not all dashes as expected: --------------------------------------------------------------------------------------------- ~\n",
      "[Psi /Users/chayastern/src/ChayaSt/torsionfit_examples/torsion_drive/biphenyl/phepyrOH_cation/1_9_10_5/135/phepyrOH_cation_1_9_10_5_135.out WARNING] In logfileparser.py, line 472, line not all dashes as expected: --------------------------------------------------------------------------------------------- ~\n",
      "[Psi /Users/chayastern/src/ChayaSt/torsionfit_examples/torsion_drive/biphenyl/phepyrOH_cation/1_9_10_5/150/phepyrOH_cation_1_9_10_5_150.out WARNING] In logfileparser.py, line 472, line not all dashes as expected: --------------------------------------------------------------------------------------------- ~\n",
      "[Psi /Users/chayastern/src/ChayaSt/torsionfit_examples/torsion_drive/biphenyl/phepyrOH_cation/1_9_10_5/165/phepyrOH_cation_1_9_10_5_165.out WARNING] In logfileparser.py, line 472, line not all dashes as expected: --------------------------------------------------------------------------------------------- ~\n",
      "[Psi /Users/chayastern/src/ChayaSt/torsionfit_examples/torsion_drive/biphenyl/phepyrOH_cation/1_9_10_5/180/phepyrOH_cation_1_9_10_5_180.out WARNING] In logfileparser.py, line 472, line not all dashes as expected: --------------------------------------------------------------------------------------------- ~\n",
      "[Psi /Users/chayastern/src/ChayaSt/torsionfit_examples/torsion_drive/biphenyl/phepyrOH_cation/1_9_10_5/195/phepyrOH_cation_1_9_10_5_195.out WARNING] In logfileparser.py, line 472, line not all dashes as expected: --------------------------------------------------------------------------------------------- ~\n",
      "[Psi /Users/chayastern/src/ChayaSt/torsionfit_examples/torsion_drive/biphenyl/phepyrOH_cation/1_9_10_5/210/phepyrOH_cation_1_9_10_5_210.out WARNING] In logfileparser.py, line 472, line not all dashes as expected: --------------------------------------------------------------------------------------------- ~\n",
      "[Psi /Users/chayastern/src/ChayaSt/torsionfit_examples/torsion_drive/biphenyl/phepyrOH_cation/1_9_10_5/225/phepyrOH_cation_1_9_10_5_225.out WARNING] In logfileparser.py, line 472, line not all dashes as expected: --------------------------------------------------------------------------------------------- ~\n",
      "[Psi /Users/chayastern/src/ChayaSt/torsionfit_examples/torsion_drive/biphenyl/phepyrOH_cation/1_9_10_5/240/phepyrOH_cation_1_9_10_5_240.out WARNING] In logfileparser.py, line 472, line not all dashes as expected: --------------------------------------------------------------------------------------------- ~\n",
      "[Psi /Users/chayastern/src/ChayaSt/torsionfit_examples/torsion_drive/biphenyl/phepyrOH_cation/1_9_10_5/255/phepyrOH_cation_1_9_10_5_255.out WARNING] In logfileparser.py, line 472, line not all dashes as expected: --------------------------------------------------------------------------------------------- ~\n",
      "[Psi /Users/chayastern/src/ChayaSt/torsionfit_examples/torsion_drive/biphenyl/phepyrOH_cation/1_9_10_5/270/phepyrOH_cation_1_9_10_5_270.out WARNING] In logfileparser.py, line 472, line not all dashes as expected: --------------------------------------------------------------------------------------------- ~\n",
      "[Psi /Users/chayastern/src/ChayaSt/torsionfit_examples/torsion_drive/biphenyl/phepyrOH_cation/1_9_10_5/285/phepyrOH_cation_1_9_10_5_285.out WARNING] In logfileparser.py, line 472, line not all dashes as expected: --------------------------------------------------------------------------------------------- ~\n"
     ]
    },
    {
     "name": "stderr",
     "output_type": "stream",
     "text": [
      "/Users/chayastern/anaconda/lib/python3.6/site-packages/torsionfit-0+untagged.607.g735d503.dirty-py3.6.egg/torsionfit/database/qmdatabase.py:217: UserWarning: Warning: Optimizer failed for /Users/chayastern/src/ChayaSt/torsionfit_examples/torsion_drive/biphenyl/phepyrOH_cation/1_9_10_5/255/phepyrOH_cation_1_9_10_5_255.out\n",
      "  warnings.warn(\"Warning: Optimizer failed for {}\".format(f))\n"
     ]
    },
    {
     "name": "stdout",
     "output_type": "stream",
     "text": [
      "[Psi /Users/chayastern/src/ChayaSt/torsionfit_examples/torsion_drive/biphenyl/phepyrOH_cation/1_9_10_5/300/phepyrOH_cation_1_9_10_5_300.out WARNING] In logfileparser.py, line 472, line not all dashes as expected: --------------------------------------------------------------------------------------------- ~\n",
      "[Psi /Users/chayastern/src/ChayaSt/torsionfit_examples/torsion_drive/biphenyl/phepyrOH_cation/1_9_10_5/315/phepyrOH_cation_1_9_10_5_315.out WARNING] In logfileparser.py, line 472, line not all dashes as expected: --------------------------------------------------------------------------------------------- ~\n",
      "[Psi /Users/chayastern/src/ChayaSt/torsionfit_examples/torsion_drive/biphenyl/phepyrOH_cation/1_9_10_5/330/phepyrOH_cation_1_9_10_5_330.out WARNING] In logfileparser.py, line 472, line not all dashes as expected: --------------------------------------------------------------------------------------------- ~\n",
      "[Psi /Users/chayastern/src/ChayaSt/torsionfit_examples/torsion_drive/biphenyl/phepyrOH_cation/1_9_10_5/345/phepyrOH_cation_1_9_10_5_345.out WARNING] In logfileparser.py, line 472, line not all dashes as expected: --------------------------------------------------------------------------------------------- ~\n",
      "[Psi /Users/chayastern/src/ChayaSt/torsionfit_examples/torsion_drive/biphenyl/phepyrOH_cation/3_11_13_23/0/phepyrOH_cation_3_11_13_23_0.out WARNING] In logfileparser.py, line 472, line not all dashes as expected: --------------------------------------------------------------------------------------------- ~\n",
      "[Psi /Users/chayastern/src/ChayaSt/torsionfit_examples/torsion_drive/biphenyl/phepyrOH_cation/3_11_13_23/15/phepyrOH_cation_3_11_13_23_15.out WARNING] In logfileparser.py, line 472, line not all dashes as expected: --------------------------------------------------------------------------------------------- ~\n",
      "[Psi /Users/chayastern/src/ChayaSt/torsionfit_examples/torsion_drive/biphenyl/phepyrOH_cation/3_11_13_23/30/phepyrOH_cation_3_11_13_23_30.out WARNING] In logfileparser.py, line 472, line not all dashes as expected: --------------------------------------------------------------------------------------------- ~\n",
      "[Psi /Users/chayastern/src/ChayaSt/torsionfit_examples/torsion_drive/biphenyl/phepyrOH_cation/3_11_13_23/45/phepyrOH_cation_3_11_13_23_45.out WARNING] In logfileparser.py, line 472, line not all dashes as expected: --------------------------------------------------------------------------------------------- ~\n",
      "[Psi /Users/chayastern/src/ChayaSt/torsionfit_examples/torsion_drive/biphenyl/phepyrOH_cation/3_11_13_23/60/phepyrOH_cation_3_11_13_23_60.out WARNING] In logfileparser.py, line 472, line not all dashes as expected: --------------------------------------------------------------------------------------------- ~\n",
      "[Psi /Users/chayastern/src/ChayaSt/torsionfit_examples/torsion_drive/biphenyl/phepyrOH_cation/3_11_13_23/75/phepyrOH_cation_3_11_13_23_75.out WARNING] In logfileparser.py, line 472, line not all dashes as expected: --------------------------------------------------------------------------------------------- ~\n",
      "[Psi /Users/chayastern/src/ChayaSt/torsionfit_examples/torsion_drive/biphenyl/phepyrOH_cation/3_11_13_23/75/phepyrOH_cation_3_11_13_23_75.out WARNING] File terminated before end of last SCF! Last density err: 0.00013843\n",
      "[Psi /Users/chayastern/src/ChayaSt/torsionfit_examples/torsion_drive/biphenyl/phepyrOH_cation/3_11_13_23/90/phepyrOH_cation_3_11_13_23_90.out WARNING] In logfileparser.py, line 472, line not all dashes as expected: --------------------------------------------------------------------------------------------- ~\n",
      "[Psi /Users/chayastern/src/ChayaSt/torsionfit_examples/torsion_drive/biphenyl/phepyrOH_cation/3_11_13_23/105/phepyrOH_cation_3_11_13_23_105.out WARNING] In logfileparser.py, line 472, line not all dashes as expected: --------------------------------------------------------------------------------------------- ~\n"
     ]
    },
    {
     "name": "stderr",
     "output_type": "stream",
     "text": [
      "/Users/chayastern/anaconda/lib/python3.6/site-packages/torsionfit-0+untagged.607.g735d503.dirty-py3.6.egg/torsionfit/database/qmdatabase.py:217: UserWarning: Warning: Optimizer failed for /Users/chayastern/src/ChayaSt/torsionfit_examples/torsion_drive/biphenyl/phepyrOH_cation/3_11_13_23/75/phepyrOH_cation_3_11_13_23_75.out\n",
      "  warnings.warn(\"Warning: Optimizer failed for {}\".format(f))\n"
     ]
    },
    {
     "name": "stdout",
     "output_type": "stream",
     "text": [
      "[Psi /Users/chayastern/src/ChayaSt/torsionfit_examples/torsion_drive/biphenyl/phepyrOH_cation/3_11_13_23/120/phepyrOH_cation_3_11_13_23_120.out WARNING] In logfileparser.py, line 472, line not all dashes as expected: --------------------------------------------------------------------------------------------- ~\n",
      "[Psi /Users/chayastern/src/ChayaSt/torsionfit_examples/torsion_drive/biphenyl/phepyrOH_cation/3_11_13_23/135/phepyrOH_cation_3_11_13_23_135.out WARNING] In logfileparser.py, line 472, line not all dashes as expected: --------------------------------------------------------------------------------------------- ~\n",
      "[Psi /Users/chayastern/src/ChayaSt/torsionfit_examples/torsion_drive/biphenyl/phepyrOH_cation/3_11_13_23/150/phepyrOH_cation_3_11_13_23_150.out WARNING] In logfileparser.py, line 472, line not all dashes as expected: --------------------------------------------------------------------------------------------- ~\n",
      "[Psi /Users/chayastern/src/ChayaSt/torsionfit_examples/torsion_drive/biphenyl/phepyrOH_cation/3_11_13_23/165/phepyrOH_cation_3_11_13_23_165.out WARNING] In logfileparser.py, line 472, line not all dashes as expected: --------------------------------------------------------------------------------------------- ~\n",
      "[Psi /Users/chayastern/src/ChayaSt/torsionfit_examples/torsion_drive/biphenyl/phepyrOH_cation/3_11_13_23/180/phepyrOH_cation_3_11_13_23_180.out WARNING] In logfileparser.py, line 472, line not all dashes as expected: --------------------------------------------------------------------------------------------- ~\n",
      "[Psi /Users/chayastern/src/ChayaSt/torsionfit_examples/torsion_drive/biphenyl/phepyrOH_cation/3_11_13_23/195/phepyrOH_cation_3_11_13_23_195.out WARNING] In logfileparser.py, line 472, line not all dashes as expected: --------------------------------------------------------------------------------------------- ~\n",
      "[Psi /Users/chayastern/src/ChayaSt/torsionfit_examples/torsion_drive/biphenyl/phepyrOH_cation/3_11_13_23/225/phepyrOH_cation_3_11_13_23_225.out WARNING] In logfileparser.py, line 472, line not all dashes as expected: --------------------------------------------------------------------------------------------- ~\n"
     ]
    },
    {
     "name": "stderr",
     "output_type": "stream",
     "text": [
      "/Users/chayastern/anaconda/lib/python3.6/site-packages/torsionfit-0+untagged.607.g735d503.dirty-py3.6.egg/torsionfit/database/qmdatabase.py:217: UserWarning: Warning: Optimizer failed for /Users/chayastern/src/ChayaSt/torsionfit_examples/torsion_drive/biphenyl/phepyrOH_cation/3_11_13_23/180/phepyrOH_cation_3_11_13_23_180.out\n",
      "  warnings.warn(\"Warning: Optimizer failed for {}\".format(f))\n",
      "/Users/chayastern/anaconda/lib/python3.6/site-packages/torsionfit-0+untagged.607.g735d503.dirty-py3.6.egg/torsionfit/database/qmdatabase.py:217: UserWarning: Warning: Optimizer failed for /Users/chayastern/src/ChayaSt/torsionfit_examples/torsion_drive/biphenyl/phepyrOH_cation/3_11_13_23/210/phepyrOH_cation_3_11_13_23_210.out\n",
      "  warnings.warn(\"Warning: Optimizer failed for {}\".format(f))\n"
     ]
    },
    {
     "name": "stdout",
     "output_type": "stream",
     "text": [
      "[Psi /Users/chayastern/src/ChayaSt/torsionfit_examples/torsion_drive/biphenyl/phepyrOH_cation/3_11_13_23/240/phepyrOH_cation_3_11_13_23_240.out WARNING] In logfileparser.py, line 472, line not all dashes as expected: --------------------------------------------------------------------------------------------- ~\n",
      "[Psi /Users/chayastern/src/ChayaSt/torsionfit_examples/torsion_drive/biphenyl/phepyrOH_cation/3_11_13_23/255/phepyrOH_cation_3_11_13_23_255.out WARNING] In logfileparser.py, line 472, line not all dashes as expected: --------------------------------------------------------------------------------------------- ~\n",
      "[Psi /Users/chayastern/src/ChayaSt/torsionfit_examples/torsion_drive/biphenyl/phepyrOH_cation/3_11_13_23/270/phepyrOH_cation_3_11_13_23_270.out WARNING] In logfileparser.py, line 472, line not all dashes as expected: --------------------------------------------------------------------------------------------- ~\n",
      "[Psi /Users/chayastern/src/ChayaSt/torsionfit_examples/torsion_drive/biphenyl/phepyrOH_cation/3_11_13_23/285/phepyrOH_cation_3_11_13_23_285.out WARNING] In logfileparser.py, line 472, line not all dashes as expected: --------------------------------------------------------------------------------------------- ~\n",
      "[Psi /Users/chayastern/src/ChayaSt/torsionfit_examples/torsion_drive/biphenyl/phepyrOH_cation/3_11_13_23/300/phepyrOH_cation_3_11_13_23_300.out WARNING] In logfileparser.py, line 472, line not all dashes as expected: --------------------------------------------------------------------------------------------- ~\n",
      "[Psi /Users/chayastern/src/ChayaSt/torsionfit_examples/torsion_drive/biphenyl/phepyrOH_cation/3_11_13_23/315/phepyrOH_cation_3_11_13_23_315.out WARNING] In logfileparser.py, line 472, line not all dashes as expected: --------------------------------------------------------------------------------------------- ~\n",
      "[Psi /Users/chayastern/src/ChayaSt/torsionfit_examples/torsion_drive/biphenyl/phepyrOH_cation/3_11_13_23/330/phepyrOH_cation_3_11_13_23_330.out WARNING] In logfileparser.py, line 472, line not all dashes as expected: --------------------------------------------------------------------------------------------- ~\n",
      "[Psi /Users/chayastern/src/ChayaSt/torsionfit_examples/torsion_drive/biphenyl/phepyrOH_cation/3_11_13_23/345/phepyrOH_cation_3_11_13_23_345.out WARNING] In logfileparser.py, line 472, line not all dashes as expected: --------------------------------------------------------------------------------------------- ~\n"
     ]
    }
   ],
   "source": [
    "phephyrOH_cation = parse_psi4_out('phepyrOH_cation/', '4phepyrOH_cation.mol2')"
   ]
  },
  {
   "cell_type": "code",
   "execution_count": 145,
   "metadata": {},
   "outputs": [
    {
     "data": {
      "image/png": "[encoded data removed]",
      "text/plain": [
       "<matplotlib.figure.Figure at 0x11b184c88>"
      ]
     },
     "metadata": {},
     "output_type": "display_data"
    }
   ],
   "source": [
    "# remove \n",
    "phephyrOH_cation_opt = phephyrOH_cation.remove_nonoptimized()\n",
    "plt.plot(phephyrOH_cation.angles[:24], phephyrOH_cation.qm_energy[:24], 'o', color='red', label='non converging')\n",
    "plt.plot(phephyrOH_cation.angles[:24], phephyrOH_cation.qm_energy[:24], color='red');\n",
    "plt.plot(phephyrOH_cation_opt.angles[:23], phephyrOH_cation_opt.qm_energy[:23], 'o', label='converged');\n",
    "plt.legend()\n",
    "plt.title('4-pyridin-1-ium-4-ylphenol (cation)')\n",
    "plt.xlabel('Torsion angle (degrees)')\n",
    "plt.ylabel('Relative energy (kJ/mol)')\n",
    "plt.savefig('phepyrOH_cation_scan.png');"
   ]
  },
  {
   "cell_type": "code",
   "execution_count": 146,
   "metadata": {},
   "outputs": [
    {
     "name": "stdout",
     "output_type": "stream",
     "text": [
      "[Psi /Users/chayastern/src/ChayaSt/torsionfit_examples/torsion_drive/biphenyl/phepyrOH_neutral/1_9_10_5/0/phepyrOH_neutral_1_9_10_5_0.out WARNING] In logfileparser.py, line 472, line not all dashes as expected: --------------------------------------------------------------------------------------------- ~\n",
      "[Psi /Users/chayastern/src/ChayaSt/torsionfit_examples/torsion_drive/biphenyl/phepyrOH_neutral/1_9_10_5/15/phepyrOH_neutral_1_9_10_5_15.out WARNING] In logfileparser.py, line 472, line not all dashes as expected: --------------------------------------------------------------------------------------------- ~\n"
     ]
    },
    {
     "name": "stderr",
     "output_type": "stream",
     "text": [
      "/Users/chayastern/anaconda/lib/python3.6/site-packages/pandas/io/parsers.py:2108: FutureWarning: split() requires a non-empty pattern match.\n",
      "  yield pat.split(line.strip())\n",
      "/Users/chayastern/anaconda/lib/python3.6/site-packages/pandas/io/parsers.py:2110: FutureWarning: split() requires a non-empty pattern match.\n",
      "  yield pat.split(line.strip())\n"
     ]
    },
    {
     "name": "stdout",
     "output_type": "stream",
     "text": [
      "[Psi /Users/chayastern/src/ChayaSt/torsionfit_examples/torsion_drive/biphenyl/phepyrOH_neutral/1_9_10_5/30/phepyrOH_neutral_1_9_10_5_30.out WARNING] In logfileparser.py, line 472, line not all dashes as expected: --------------------------------------------------------------------------------------------- ~\n",
      "[Psi /Users/chayastern/src/ChayaSt/torsionfit_examples/torsion_drive/biphenyl/phepyrOH_neutral/1_9_10_5/45/phepyrOH_neutral_1_9_10_5_45.out WARNING] In logfileparser.py, line 472, line not all dashes as expected: --------------------------------------------------------------------------------------------- ~\n",
      "[Psi /Users/chayastern/src/ChayaSt/torsionfit_examples/torsion_drive/biphenyl/phepyrOH_neutral/1_9_10_5/60/phepyrOH_neutral_1_9_10_5_60.out WARNING] In logfileparser.py, line 472, line not all dashes as expected: --------------------------------------------------------------------------------------------- ~\n",
      "[Psi /Users/chayastern/src/ChayaSt/torsionfit_examples/torsion_drive/biphenyl/phepyrOH_neutral/1_9_10_5/75/phepyrOH_neutral_1_9_10_5_75.out WARNING] In logfileparser.py, line 472, line not all dashes as expected: --------------------------------------------------------------------------------------------- ~\n",
      "[Psi /Users/chayastern/src/ChayaSt/torsionfit_examples/torsion_drive/biphenyl/phepyrOH_neutral/1_9_10_5/90/phepyrOH_neutral_1_9_10_5_90.out WARNING] In logfileparser.py, line 472, line not all dashes as expected: --------------------------------------------------------------------------------------------- ~\n",
      "[Psi /Users/chayastern/src/ChayaSt/torsionfit_examples/torsion_drive/biphenyl/phepyrOH_neutral/1_9_10_5/105/phepyrOH_neutral_1_9_10_5_105.out WARNING] In logfileparser.py, line 472, line not all dashes as expected: --------------------------------------------------------------------------------------------- ~\n",
      "[Psi /Users/chayastern/src/ChayaSt/torsionfit_examples/torsion_drive/biphenyl/phepyrOH_neutral/1_9_10_5/120/phepyrOH_neutral_1_9_10_5_120.out WARNING] In logfileparser.py, line 472, line not all dashes as expected: --------------------------------------------------------------------------------------------- ~\n",
      "[Psi /Users/chayastern/src/ChayaSt/torsionfit_examples/torsion_drive/biphenyl/phepyrOH_neutral/1_9_10_5/135/phepyrOH_neutral_1_9_10_5_135.out WARNING] In logfileparser.py, line 472, line not all dashes as expected: --------------------------------------------------------------------------------------------- ~\n",
      "[Psi /Users/chayastern/src/ChayaSt/torsionfit_examples/torsion_drive/biphenyl/phepyrOH_neutral/1_9_10_5/150/phepyrOH_neutral_1_9_10_5_150.out WARNING] In logfileparser.py, line 472, line not all dashes as expected: --------------------------------------------------------------------------------------------- ~\n",
      "[Psi /Users/chayastern/src/ChayaSt/torsionfit_examples/torsion_drive/biphenyl/phepyrOH_neutral/1_9_10_5/165/phepyrOH_neutral_1_9_10_5_165.out WARNING] In logfileparser.py, line 472, line not all dashes as expected: --------------------------------------------------------------------------------------------- ~\n",
      "[Psi /Users/chayastern/src/ChayaSt/torsionfit_examples/torsion_drive/biphenyl/phepyrOH_neutral/1_9_10_5/180/phepyrOH_neutral_1_9_10_5_180.out WARNING] In logfileparser.py, line 472, line not all dashes as expected: --------------------------------------------------------------------------------------------- ~\n",
      "[Psi /Users/chayastern/src/ChayaSt/torsionfit_examples/torsion_drive/biphenyl/phepyrOH_neutral/1_9_10_5/195/phepyrOH_neutral_1_9_10_5_195.out WARNING] In logfileparser.py, line 472, line not all dashes as expected: --------------------------------------------------------------------------------------------- ~\n",
      "[Psi /Users/chayastern/src/ChayaSt/torsionfit_examples/torsion_drive/biphenyl/phepyrOH_neutral/1_9_10_5/210/phepyrOH_neutral_1_9_10_5_210.out WARNING] In logfileparser.py, line 472, line not all dashes as expected: --------------------------------------------------------------------------------------------- ~\n"
     ]
    },
    {
     "name": "stderr",
     "output_type": "stream",
     "text": [
      "/Users/chayastern/anaconda/lib/python3.6/site-packages/torsionfit-0+untagged.607.g735d503.dirty-py3.6.egg/torsionfit/database/qmdatabase.py:217: UserWarning: Warning: Optimizer failed for /Users/chayastern/src/ChayaSt/torsionfit_examples/torsion_drive/biphenyl/phepyrOH_neutral/1_9_10_5/180/phepyrOH_neutral_1_9_10_5_180.out\n",
      "  warnings.warn(\"Warning: Optimizer failed for {}\".format(f))\n"
     ]
    },
    {
     "name": "stdout",
     "output_type": "stream",
     "text": [
      "[Psi /Users/chayastern/src/ChayaSt/torsionfit_examples/torsion_drive/biphenyl/phepyrOH_neutral/1_9_10_5/225/phepyrOH_neutral_1_9_10_5_225.out WARNING] In logfileparser.py, line 472, line not all dashes as expected: --------------------------------------------------------------------------------------------- ~\n",
      "[Psi /Users/chayastern/src/ChayaSt/torsionfit_examples/torsion_drive/biphenyl/phepyrOH_neutral/1_9_10_5/240/phepyrOH_neutral_1_9_10_5_240.out WARNING] In logfileparser.py, line 472, line not all dashes as expected: --------------------------------------------------------------------------------------------- ~\n",
      "[Psi /Users/chayastern/src/ChayaSt/torsionfit_examples/torsion_drive/biphenyl/phepyrOH_neutral/1_9_10_5/255/phepyrOH_neutral_1_9_10_5_255.out WARNING] In logfileparser.py, line 472, line not all dashes as expected: --------------------------------------------------------------------------------------------- ~\n",
      "[Psi /Users/chayastern/src/ChayaSt/torsionfit_examples/torsion_drive/biphenyl/phepyrOH_neutral/1_9_10_5/270/phepyrOH_neutral_1_9_10_5_270.out WARNING] In logfileparser.py, line 472, line not all dashes as expected: --------------------------------------------------------------------------------------------- ~\n",
      "[Psi /Users/chayastern/src/ChayaSt/torsionfit_examples/torsion_drive/biphenyl/phepyrOH_neutral/1_9_10_5/285/phepyrOH_neutral_1_9_10_5_285.out WARNING] In logfileparser.py, line 472, line not all dashes as expected: --------------------------------------------------------------------------------------------- ~\n",
      "[Psi /Users/chayastern/src/ChayaSt/torsionfit_examples/torsion_drive/biphenyl/phepyrOH_neutral/1_9_10_5/300/phepyrOH_neutral_1_9_10_5_300.out WARNING] In logfileparser.py, line 472, line not all dashes as expected: --------------------------------------------------------------------------------------------- ~\n",
      "[Psi /Users/chayastern/src/ChayaSt/torsionfit_examples/torsion_drive/biphenyl/phepyrOH_neutral/1_9_10_5/315/phepyrOH_neutral_1_9_10_5_315.out WARNING] In logfileparser.py, line 472, line not all dashes as expected: --------------------------------------------------------------------------------------------- ~\n",
      "[Psi /Users/chayastern/src/ChayaSt/torsionfit_examples/torsion_drive/biphenyl/phepyrOH_neutral/1_9_10_5/330/phepyrOH_neutral_1_9_10_5_330.out WARNING] In logfileparser.py, line 472, line not all dashes as expected: --------------------------------------------------------------------------------------------- ~\n",
      "[Psi /Users/chayastern/src/ChayaSt/torsionfit_examples/torsion_drive/biphenyl/phepyrOH_neutral/1_9_10_5/345/phepyrOH_neutral_1_9_10_5_345.out WARNING] In logfileparser.py, line 472, line not all dashes as expected: --------------------------------------------------------------------------------------------- ~\n",
      "[Psi /Users/chayastern/src/ChayaSt/torsionfit_examples/torsion_drive/biphenyl/phepyrOH_neutral/3_11_13_22/0/phepyrOH_neutral_3_11_13_22_0.out WARNING] In logfileparser.py, line 472, line not all dashes as expected: --------------------------------------------------------------------------------------------- ~\n",
      "[Psi /Users/chayastern/src/ChayaSt/torsionfit_examples/torsion_drive/biphenyl/phepyrOH_neutral/3_11_13_22/15/phepyrOH_neutral_3_11_13_22_15.out WARNING] In logfileparser.py, line 472, line not all dashes as expected: --------------------------------------------------------------------------------------------- ~\n",
      "[Psi /Users/chayastern/src/ChayaSt/torsionfit_examples/torsion_drive/biphenyl/phepyrOH_neutral/3_11_13_22/30/phepyrOH_neutral_3_11_13_22_30.out WARNING] In logfileparser.py, line 472, line not all dashes as expected: --------------------------------------------------------------------------------------------- ~\n",
      "[Psi /Users/chayastern/src/ChayaSt/torsionfit_examples/torsion_drive/biphenyl/phepyrOH_neutral/3_11_13_22/45/phepyrOH_neutral_3_11_13_22_45.out WARNING] In logfileparser.py, line 472, line not all dashes as expected: --------------------------------------------------------------------------------------------- ~\n",
      "[Psi /Users/chayastern/src/ChayaSt/torsionfit_examples/torsion_drive/biphenyl/phepyrOH_neutral/3_11_13_22/60/phepyrOH_neutral_3_11_13_22_60.out WARNING] In logfileparser.py, line 472, line not all dashes as expected: --------------------------------------------------------------------------------------------- ~\n",
      "[Psi /Users/chayastern/src/ChayaSt/torsionfit_examples/torsion_drive/biphenyl/phepyrOH_neutral/3_11_13_22/75/phepyrOH_neutral_3_11_13_22_75.out WARNING] In logfileparser.py, line 472, line not all dashes as expected: --------------------------------------------------------------------------------------------- ~\n",
      "[Psi /Users/chayastern/src/ChayaSt/torsionfit_examples/torsion_drive/biphenyl/phepyrOH_neutral/3_11_13_22/90/phepyrOH_neutral_3_11_13_22_90.out WARNING] In logfileparser.py, line 472, line not all dashes as expected: --------------------------------------------------------------------------------------------- ~\n",
      "[Psi /Users/chayastern/src/ChayaSt/torsionfit_examples/torsion_drive/biphenyl/phepyrOH_neutral/3_11_13_22/105/phepyrOH_neutral_3_11_13_22_105.out WARNING] In logfileparser.py, line 472, line not all dashes as expected: --------------------------------------------------------------------------------------------- ~\n",
      "[Psi /Users/chayastern/src/ChayaSt/torsionfit_examples/torsion_drive/biphenyl/phepyrOH_neutral/3_11_13_22/120/phepyrOH_neutral_3_11_13_22_120.out WARNING] In logfileparser.py, line 472, line not all dashes as expected: --------------------------------------------------------------------------------------------- ~\n",
      "[Psi /Users/chayastern/src/ChayaSt/torsionfit_examples/torsion_drive/biphenyl/phepyrOH_neutral/3_11_13_22/135/phepyrOH_neutral_3_11_13_22_135.out WARNING] In logfileparser.py, line 472, line not all dashes as expected: --------------------------------------------------------------------------------------------- ~\n",
      "[Psi /Users/chayastern/src/ChayaSt/torsionfit_examples/torsion_drive/biphenyl/phepyrOH_neutral/3_11_13_22/150/phepyrOH_neutral_3_11_13_22_150.out WARNING] In logfileparser.py, line 472, line not all dashes as expected: --------------------------------------------------------------------------------------------- ~\n",
      "[Psi /Users/chayastern/src/ChayaSt/torsionfit_examples/torsion_drive/biphenyl/phepyrOH_neutral/3_11_13_22/165/phepyrOH_neutral_3_11_13_22_165.out WARNING] In logfileparser.py, line 472, line not all dashes as expected: --------------------------------------------------------------------------------------------- ~\n",
      "[Psi /Users/chayastern/src/ChayaSt/torsionfit_examples/torsion_drive/biphenyl/phepyrOH_neutral/3_11_13_22/180/phepyrOH_neutral_3_11_13_22_180.out WARNING] In logfileparser.py, line 472, line not all dashes as expected: --------------------------------------------------------------------------------------------- ~\n",
      "[Psi /Users/chayastern/src/ChayaSt/torsionfit_examples/torsion_drive/biphenyl/phepyrOH_neutral/3_11_13_22/195/phepyrOH_neutral_3_11_13_22_195.out WARNING] In logfileparser.py, line 472, line not all dashes as expected: --------------------------------------------------------------------------------------------- ~\n"
     ]
    },
    {
     "name": "stderr",
     "output_type": "stream",
     "text": [
      "/Users/chayastern/anaconda/lib/python3.6/site-packages/torsionfit-0+untagged.607.g735d503.dirty-py3.6.egg/torsionfit/database/qmdatabase.py:217: UserWarning: Warning: Optimizer failed for /Users/chayastern/src/ChayaSt/torsionfit_examples/torsion_drive/biphenyl/phepyrOH_neutral/3_11_13_22/180/phepyrOH_neutral_3_11_13_22_180.out\n",
      "  warnings.warn(\"Warning: Optimizer failed for {}\".format(f))\n"
     ]
    },
    {
     "name": "stdout",
     "output_type": "stream",
     "text": [
      "[Psi /Users/chayastern/src/ChayaSt/torsionfit_examples/torsion_drive/biphenyl/phepyrOH_neutral/3_11_13_22/210/phepyrOH_neutral_3_11_13_22_210.out WARNING] In logfileparser.py, line 472, line not all dashes as expected: --------------------------------------------------------------------------------------------- ~\n",
      "[Psi /Users/chayastern/src/ChayaSt/torsionfit_examples/torsion_drive/biphenyl/phepyrOH_neutral/3_11_13_22/225/phepyrOH_neutral_3_11_13_22_225.out WARNING] In logfileparser.py, line 472, line not all dashes as expected: --------------------------------------------------------------------------------------------- ~\n",
      "[Psi /Users/chayastern/src/ChayaSt/torsionfit_examples/torsion_drive/biphenyl/phepyrOH_neutral/3_11_13_22/240/phepyrOH_neutral_3_11_13_22_240.out WARNING] In logfileparser.py, line 472, line not all dashes as expected: --------------------------------------------------------------------------------------------- ~\n",
      "[Psi /Users/chayastern/src/ChayaSt/torsionfit_examples/torsion_drive/biphenyl/phepyrOH_neutral/3_11_13_22/255/phepyrOH_neutral_3_11_13_22_255.out WARNING] In logfileparser.py, line 472, line not all dashes as expected: --------------------------------------------------------------------------------------------- ~\n",
      "[Psi /Users/chayastern/src/ChayaSt/torsionfit_examples/torsion_drive/biphenyl/phepyrOH_neutral/3_11_13_22/270/phepyrOH_neutral_3_11_13_22_270.out WARNING] In logfileparser.py, line 472, line not all dashes as expected: --------------------------------------------------------------------------------------------- ~\n",
      "[Psi /Users/chayastern/src/ChayaSt/torsionfit_examples/torsion_drive/biphenyl/phepyrOH_neutral/3_11_13_22/285/phepyrOH_neutral_3_11_13_22_285.out WARNING] In logfileparser.py, line 472, line not all dashes as expected: --------------------------------------------------------------------------------------------- ~\n",
      "[Psi /Users/chayastern/src/ChayaSt/torsionfit_examples/torsion_drive/biphenyl/phepyrOH_neutral/3_11_13_22/300/phepyrOH_neutral_3_11_13_22_300.out WARNING] In logfileparser.py, line 472, line not all dashes as expected: --------------------------------------------------------------------------------------------- ~\n",
      "[Psi /Users/chayastern/src/ChayaSt/torsionfit_examples/torsion_drive/biphenyl/phepyrOH_neutral/3_11_13_22/315/phepyrOH_neutral_3_11_13_22_315.out WARNING] In logfileparser.py, line 472, line not all dashes as expected: --------------------------------------------------------------------------------------------- ~\n",
      "[Psi /Users/chayastern/src/ChayaSt/torsionfit_examples/torsion_drive/biphenyl/phepyrOH_neutral/3_11_13_22/330/phepyrOH_neutral_3_11_13_22_330.out WARNING] In logfileparser.py, line 472, line not all dashes as expected: --------------------------------------------------------------------------------------------- ~\n",
      "[Psi /Users/chayastern/src/ChayaSt/torsionfit_examples/torsion_drive/biphenyl/phepyrOH_neutral/3_11_13_22/345/phepyrOH_neutral_3_11_13_22_345.out WARNING] In logfileparser.py, line 472, line not all dashes as expected: --------------------------------------------------------------------------------------------- ~\n"
     ]
    }
   ],
   "source": [
    "phephyrOH_neutral = parse_psi4_out('phepyrOH_neutral/', '4phepyrOH_neutral.mol2')"
   ]
  },
  {
   "cell_type": "code",
   "execution_count": 147,
   "metadata": {},
   "outputs": [
    {
     "data": {
      "image/png": "[encoded data removed]",
      "text/plain": [
       "<matplotlib.figure.Figure at 0x11ac182b0>"
      ]
     },
     "metadata": {},
     "output_type": "display_data"
    }
   ],
   "source": [
    "phephyrOH_neutral_opt = phephyrOH_neutral.remove_nonoptimized()\n",
    "plt.plot(phephyrOH_neutral.angles[:24], phephyrOH_neutral.qm_energy[:24], 'o', color='red', label='non converging')\n",
    "plt.plot(phephyrOH_neutral.angles[:24], phephyrOH_neutral.qm_energy[:24], color='red');\n",
    "plt.plot(phephyrOH_neutral_opt.angles[:23], phephyrOH_neutral_opt.qm_energy[:23], 'o', label='converged');\n",
    "plt.legend()\n",
    "plt.title('4-(4-pyridyl)phenol (neutral)')\n",
    "plt.xlabel('Torsion angle (degrees)')\n",
    "plt.ylabel('Relative energy (kJ/mol)')\n",
    "plt.savefig('phepyrOH_neutral_scan.png');"
   ]
  },
  {
   "cell_type": "code",
   "execution_count": 148,
   "metadata": {},
   "outputs": [
    {
     "name": "stdout",
     "output_type": "stream",
     "text": [
      "[Psi /Users/chayastern/src/ChayaSt/torsionfit_examples/torsion_drive/biphenyl/phepyrOH_anion/1_9_10_5/0/phepyrOH_anion_1_9_10_5_0.out WARNING] In logfileparser.py, line 472, line not all dashes as expected: --------------------------------------------------------------------------------------------- ~\n",
      "[Psi /Users/chayastern/src/ChayaSt/torsionfit_examples/torsion_drive/biphenyl/phepyrOH_anion/1_9_10_5/15/phepyrOH_anion_1_9_10_5_15.out WARNING] In logfileparser.py, line 472, line not all dashes as expected: --------------------------------------------------------------------------------------------- ~\n"
     ]
    },
    {
     "name": "stderr",
     "output_type": "stream",
     "text": [
      "/Users/chayastern/anaconda/lib/python3.6/site-packages/pandas/io/parsers.py:2108: FutureWarning: split() requires a non-empty pattern match.\n",
      "  yield pat.split(line.strip())\n",
      "/Users/chayastern/anaconda/lib/python3.6/site-packages/pandas/io/parsers.py:2110: FutureWarning: split() requires a non-empty pattern match.\n",
      "  yield pat.split(line.strip())\n"
     ]
    },
    {
     "name": "stdout",
     "output_type": "stream",
     "text": [
      "[Psi /Users/chayastern/src/ChayaSt/torsionfit_examples/torsion_drive/biphenyl/phepyrOH_anion/1_9_10_5/30/phepyrOH_anion_1_9_10_5_30.out WARNING] In logfileparser.py, line 472, line not all dashes as expected: --------------------------------------------------------------------------------------------- ~\n",
      "[Psi /Users/chayastern/src/ChayaSt/torsionfit_examples/torsion_drive/biphenyl/phepyrOH_anion/1_9_10_5/45/phepyrOH_anion_1_9_10_5_45.out WARNING] In logfileparser.py, line 472, line not all dashes as expected: --------------------------------------------------------------------------------------------- ~\n",
      "[Psi /Users/chayastern/src/ChayaSt/torsionfit_examples/torsion_drive/biphenyl/phepyrOH_anion/1_9_10_5/60/phepyrOH_anion_1_9_10_5_60.out WARNING] In logfileparser.py, line 472, line not all dashes as expected: --------------------------------------------------------------------------------------------- ~\n",
      "[Psi /Users/chayastern/src/ChayaSt/torsionfit_examples/torsion_drive/biphenyl/phepyrOH_anion/1_9_10_5/90/phepyrOH_anion_1_9_10_5_90.out WARNING] In logfileparser.py, line 472, line not all dashes as expected: --------------------------------------------------------------------------------------------- ~\n",
      "[Psi /Users/chayastern/src/ChayaSt/torsionfit_examples/torsion_drive/biphenyl/phepyrOH_anion/1_9_10_5/105/phepyrOH_anion_1_9_10_5_105.out WARNING] In logfileparser.py, line 472, line not all dashes as expected: --------------------------------------------------------------------------------------------- ~\n"
     ]
    },
    {
     "name": "stderr",
     "output_type": "stream",
     "text": [
      "/Users/chayastern/anaconda/lib/python3.6/site-packages/torsionfit-0+untagged.607.g735d503.dirty-py3.6.egg/torsionfit/database/qmdatabase.py:217: UserWarning: Warning: Optimizer failed for /Users/chayastern/src/ChayaSt/torsionfit_examples/torsion_drive/biphenyl/phepyrOH_anion/1_9_10_5/75/phepyrOH_anion_1_9_10_5_75.out\n",
      "  warnings.warn(\"Warning: Optimizer failed for {}\".format(f))\n"
     ]
    },
    {
     "name": "stdout",
     "output_type": "stream",
     "text": [
      "[Psi /Users/chayastern/src/ChayaSt/torsionfit_examples/torsion_drive/biphenyl/phepyrOH_anion/1_9_10_5/120/phepyrOH_anion_1_9_10_5_120.out WARNING] In logfileparser.py, line 472, line not all dashes as expected: --------------------------------------------------------------------------------------------- ~\n",
      "[Psi /Users/chayastern/src/ChayaSt/torsionfit_examples/torsion_drive/biphenyl/phepyrOH_anion/1_9_10_5/135/phepyrOH_anion_1_9_10_5_135.out WARNING] In logfileparser.py, line 472, line not all dashes as expected: --------------------------------------------------------------------------------------------- ~\n",
      "[Psi /Users/chayastern/src/ChayaSt/torsionfit_examples/torsion_drive/biphenyl/phepyrOH_anion/1_9_10_5/150/phepyrOH_anion_1_9_10_5_150.out WARNING] In logfileparser.py, line 472, line not all dashes as expected: --------------------------------------------------------------------------------------------- ~\n",
      "[Psi /Users/chayastern/src/ChayaSt/torsionfit_examples/torsion_drive/biphenyl/phepyrOH_anion/1_9_10_5/165/phepyrOH_anion_1_9_10_5_165.out WARNING] In logfileparser.py, line 472, line not all dashes as expected: --------------------------------------------------------------------------------------------- ~\n",
      "[Psi /Users/chayastern/src/ChayaSt/torsionfit_examples/torsion_drive/biphenyl/phepyrOH_anion/1_9_10_5/180/phepyrOH_anion_1_9_10_5_180.out WARNING] In logfileparser.py, line 472, line not all dashes as expected: --------------------------------------------------------------------------------------------- ~\n",
      "[Psi /Users/chayastern/src/ChayaSt/torsionfit_examples/torsion_drive/biphenyl/phepyrOH_anion/1_9_10_5/195/phepyrOH_anion_1_9_10_5_195.out WARNING] In logfileparser.py, line 472, line not all dashes as expected: --------------------------------------------------------------------------------------------- ~\n",
      "[Psi /Users/chayastern/src/ChayaSt/torsionfit_examples/torsion_drive/biphenyl/phepyrOH_anion/1_9_10_5/210/phepyrOH_anion_1_9_10_5_210.out WARNING] In logfileparser.py, line 472, line not all dashes as expected: --------------------------------------------------------------------------------------------- ~\n"
     ]
    },
    {
     "name": "stderr",
     "output_type": "stream",
     "text": [
      "/Users/chayastern/anaconda/lib/python3.6/site-packages/torsionfit-0+untagged.607.g735d503.dirty-py3.6.egg/torsionfit/database/qmdatabase.py:217: UserWarning: Warning: Optimizer failed for /Users/chayastern/src/ChayaSt/torsionfit_examples/torsion_drive/biphenyl/phepyrOH_anion/1_9_10_5/180/phepyrOH_anion_1_9_10_5_180.out\n",
      "  warnings.warn(\"Warning: Optimizer failed for {}\".format(f))\n"
     ]
    },
    {
     "name": "stdout",
     "output_type": "stream",
     "text": [
      "[Psi /Users/chayastern/src/ChayaSt/torsionfit_examples/torsion_drive/biphenyl/phepyrOH_anion/1_9_10_5/225/phepyrOH_anion_1_9_10_5_225.out WARNING] In logfileparser.py, line 472, line not all dashes as expected: --------------------------------------------------------------------------------------------- ~\n",
      "[Psi /Users/chayastern/src/ChayaSt/torsionfit_examples/torsion_drive/biphenyl/phepyrOH_anion/1_9_10_5/240/phepyrOH_anion_1_9_10_5_240.out WARNING] In logfileparser.py, line 472, line not all dashes as expected: --------------------------------------------------------------------------------------------- ~\n",
      "[Psi /Users/chayastern/src/ChayaSt/torsionfit_examples/torsion_drive/biphenyl/phepyrOH_anion/1_9_10_5/255/phepyrOH_anion_1_9_10_5_255.out WARNING] In logfileparser.py, line 472, line not all dashes as expected: --------------------------------------------------------------------------------------------- ~\n",
      "[Psi /Users/chayastern/src/ChayaSt/torsionfit_examples/torsion_drive/biphenyl/phepyrOH_anion/1_9_10_5/270/phepyrOH_anion_1_9_10_5_270.out WARNING] In logfileparser.py, line 472, line not all dashes as expected: --------------------------------------------------------------------------------------------- ~\n",
      "[Psi /Users/chayastern/src/ChayaSt/torsionfit_examples/torsion_drive/biphenyl/phepyrOH_anion/1_9_10_5/300/phepyrOH_anion_1_9_10_5_300.out WARNING] In logfileparser.py, line 472, line not all dashes as expected: --------------------------------------------------------------------------------------------- ~\n"
     ]
    },
    {
     "name": "stderr",
     "output_type": "stream",
     "text": [
      "/Users/chayastern/anaconda/lib/python3.6/site-packages/torsionfit-0+untagged.607.g735d503.dirty-py3.6.egg/torsionfit/database/qmdatabase.py:217: UserWarning: Warning: Optimizer failed for /Users/chayastern/src/ChayaSt/torsionfit_examples/torsion_drive/biphenyl/phepyrOH_anion/1_9_10_5/255/phepyrOH_anion_1_9_10_5_255.out\n",
      "  warnings.warn(\"Warning: Optimizer failed for {}\".format(f))\n",
      "/Users/chayastern/anaconda/lib/python3.6/site-packages/torsionfit-0+untagged.607.g735d503.dirty-py3.6.egg/torsionfit/database/qmdatabase.py:217: UserWarning: Warning: Optimizer failed for /Users/chayastern/src/ChayaSt/torsionfit_examples/torsion_drive/biphenyl/phepyrOH_anion/1_9_10_5/285/phepyrOH_anion_1_9_10_5_285.out\n",
      "  warnings.warn(\"Warning: Optimizer failed for {}\".format(f))\n"
     ]
    },
    {
     "name": "stdout",
     "output_type": "stream",
     "text": [
      "[Psi /Users/chayastern/src/ChayaSt/torsionfit_examples/torsion_drive/biphenyl/phepyrOH_anion/1_9_10_5/330/phepyrOH_anion_1_9_10_5_330.out WARNING] In logfileparser.py, line 472, line not all dashes as expected: --------------------------------------------------------------------------------------------- ~\n",
      "[Psi /Users/chayastern/src/ChayaSt/torsionfit_examples/torsion_drive/biphenyl/phepyrOH_anion/1_9_10_5/345/phepyrOH_anion_1_9_10_5_345.out WARNING] In logfileparser.py, line 472, line not all dashes as expected: --------------------------------------------------------------------------------------------- ~\n"
     ]
    },
    {
     "name": "stderr",
     "output_type": "stream",
     "text": [
      "/Users/chayastern/anaconda/lib/python3.6/site-packages/torsionfit-0+untagged.607.g735d503.dirty-py3.6.egg/torsionfit/database/qmdatabase.py:217: UserWarning: Warning: Optimizer failed for /Users/chayastern/src/ChayaSt/torsionfit_examples/torsion_drive/biphenyl/phepyrOH_anion/1_9_10_5/300/phepyrOH_anion_1_9_10_5_300.out\n",
      "  warnings.warn(\"Warning: Optimizer failed for {}\".format(f))\n",
      "/Users/chayastern/anaconda/lib/python3.6/site-packages/torsionfit-0+untagged.607.g735d503.dirty-py3.6.egg/torsionfit/database/qmdatabase.py:217: UserWarning: Warning: Optimizer failed for /Users/chayastern/src/ChayaSt/torsionfit_examples/torsion_drive/biphenyl/phepyrOH_anion/1_9_10_5/315/phepyrOH_anion_1_9_10_5_315.out\n",
      "  warnings.warn(\"Warning: Optimizer failed for {}\".format(f))\n"
     ]
    }
   ],
   "source": [
    "phephyrOH_anion = parse_psi4_out('phepyrOH_anion/', '4phepyrOH_anion.mol2')"
   ]
  },
  {
   "cell_type": "code",
   "execution_count": 149,
   "metadata": {},
   "outputs": [
    {
     "data": {
      "image/png": "[encoded data removed]",
      "text/plain": [
       "<matplotlib.figure.Figure at 0x11ab1fdd8>"
      ]
     },
     "metadata": {},
     "output_type": "display_data"
    }
   ],
   "source": [
    "phephyrOH_anion_opt = phephyrOH_anion.remove_nonoptimized()\n",
    "plt.plot(phephyrOH_anion.angles, phephyrOH_anion.qm_energy, 'o', color='red', label='non converging')\n",
    "plt.plot(phephyrOH_anion.angles, phephyrOH_anion.qm_energy, color='red');\n",
    "plt.plot(phephyrOH_anion_opt.angles, phephyrOH_anion_opt.qm_energy, 'o', label='converged');\n",
    "plt.legend()\n",
    "plt.title('4-(4-pyridyl)phenolate (anion)')\n",
    "plt.xlabel('Torsion angle (degrees)')\n",
    "plt.ylabel('Relative energy (kJ/mol)')\n",
    "plt.savefig('phepyrOH_anion_scan.png');"
   ]
  },
  {
   "cell_type": "code",
   "execution_count": null,
   "metadata": {
    "collapsed": true
   },
   "outputs": [],
   "source": []
  }
 ],
 "metadata": {
  "kernelspec": {
   "display_name": "Python 3",
   "language": "python",
   "name": "python3"
  },
  "language_info": {
   "codemirror_mode": {
    "name": "ipython",
    "version": 3
   },
   "file_extension": ".py",
   "mimetype": "text/x-python",
   "name": "python",
   "nbconvert_exporter": "python",
   "pygments_lexer": "ipython3",
   "version": "3.6.1"
  }
 },
 "nbformat": 4,
 "nbformat_minor": 2
}
