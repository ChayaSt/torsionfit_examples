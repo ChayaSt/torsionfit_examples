{
 "metadata": {
  "name": "",
  "signature": "sha256:c5f285f1d95b9647f2702458dc8a250019ac1eafcc83add6e282a3decfeb4770"
 },
 "nbformat": 3,
 "nbformat_minor": 0,
 "worksheets": [
  {
   "cells": [
    {
     "cell_type": "code",
     "collapsed": false,
     "input": [
      "%matplotlib inline\n",
      "import simtk.unit as units\n",
      "import simtk.openmm as openmm\n",
      "import simtk.openmm.app as app\n",
      "import parmed\n",
      "import matplotlib.pyplot as plt\n",
      "from parmed.charmm import CharmmParameterSet, CharmmPsfFile\n",
      "from parmed.topologyobjects import DihedralType, DihedralTypeList, Dihedral\n",
      "import torsionfit.TorsionScanSet as ScanSet\n",
      "import torsionfit.TorsionFitModel as Model\n",
      "from pymc import MCMC\n",
      "import torsionfit.sqlite_plus as db\n",
      "from perses.rjmc import coordinate_numba, geometry\n",
      "import numpy as np\n",
      "import copy\n",
      "import time"
     ],
     "language": "python",
     "metadata": {},
     "outputs": [],
     "prompt_number": 101
    },
    {
     "cell_type": "code",
     "collapsed": false,
     "input": [
      "param = CharmmParameterSet('../synthetic_data/butane.str')\n",
      "struct = CharmmPsfFile('../synthetic_data/butane.psf')\n",
      "pdb = app.PDBFile('../synthetic_data/butane_new.pdb')"
     ],
     "language": "python",
     "metadata": {},
     "outputs": [],
     "prompt_number": 25
    },
    {
     "cell_type": "code",
     "collapsed": false,
     "input": [
      "torsion = param.dihedral_types[('CG331', 'CG321', 'CG321', 'CG331')]"
     ],
     "language": "python",
     "metadata": {},
     "outputs": [],
     "prompt_number": 26
    },
    {
     "cell_type": "code",
     "collapsed": false,
     "input": [
      "# replace ('CG331', 'CG321', 'CG321', 'CG331') torsion with k1 = 10. Everything else is 0\n",
      "dih_tlist = DihedralTypeList()\n",
      "dih_tlist.append(DihedralType(10.00, 1, 0.00, 1.00, 1.00))\n",
      "param.dihedral_types[('CG331', 'CG321', 'CG321', 'CG331')] = dih_tlist\n",
      "\n",
      "# parameterize structure \n",
      "struct.load_parameters(param)\n",
      "struct.positions = pdb.positions\n",
      "\n",
      "# Get Dihedral to do torsion drive\n",
      "for dihedral in struct.dihedrals:\n",
      "    if dihedral.atom1.type == 'CG331' and dihedral.atom4.type == 'CG331':\n",
      "        dihedral_to_scan = dihedral\n",
      "# Get Bond length in nm\n",
      "for bond in struct.bonds:\n",
      "    if bond.atom1.type == bond.atom2.type:\n",
      "        length = units.Quantity(value=bond.type.req * 0.1, unit=units.nanometers) # convert to nm\n",
      "# Get Angle in radians\n",
      "for angle in struct.angles:\n",
      "    if angle.atom1.type == angle.atom2.type:\n",
      "        theta = units.Quantity(value=angle.type.theteq * (np.pi/180.0), unit=units.radians)"
     ],
     "language": "python",
     "metadata": {},
     "outputs": [],
     "prompt_number": 99
    },
    {
     "cell_type": "code",
     "collapsed": false,
     "input": [
      "# Taken from Perses \n",
      "def _torsion_scan(torsion, positions, r, theta, n_divisions=18):\n",
      "        \"\"\"\n",
      "        Rotate the atom about the\n",
      "        Parameters\n",
      "        ----------\n",
      "        torsion : parmed.Dihedral\n",
      "            parmed Dihedral containing relevant atoms\n",
      "        positions : [n,3] np.ndarray in nm\n",
      "            positions of the atoms in the system\n",
      "        r : float in nm\n",
      "            bond length\n",
      "        theta : float in radians\n",
      "            bond angle\n",
      "        Returns\n",
      "        -------\n",
      "        xyzs : np.ndarray, in nm\n",
      "            The cartesian coordinates of each\n",
      "        phis : np.ndarray, in radians\n",
      "            The torsions angles at which a potential will be calculated\n",
      "        \"\"\"\n",
      "        torsion_scan_init = time.time()\n",
      "        positions_copy = copy.deepcopy(positions)\n",
      "        positions_copy = positions_copy.in_units_of(units.nanometers)\n",
      "        positions_copy = positions_copy / units.nanometers\n",
      "        positions_copy = positions_copy.astype(np.float64)\n",
      "        r = r.value_in_unit(units.nanometers)\n",
      "        theta = theta.value_in_unit(units.radians)\n",
      "        bond_atom = torsion.atom2\n",
      "        angle_atom = torsion.atom3\n",
      "        torsion_atom = torsion.atom4\n",
      "        phis = np.arange(-np.pi, +np.pi, (2.0*np.pi)/n_divisions) # Can't use units here.\n",
      "        xyzs = coordinate_numba.torsion_scan(positions_copy[bond_atom.idx], positions_copy[angle_atom.idx], positions_copy[torsion_atom.idx], np.array([r, theta, 0.0]), phis)\n",
      "        xyzs_quantity = units.Quantity(xyzs, unit=units.nanometers) #have to put the units back now\n",
      "        phis = units.Quantity(phis, unit=units.radians)\n",
      "        torsion_scan_time = time.time() - torsion_scan_init\n",
      "        #self._torsion_coordinate_time += torsion_scan_time\n",
      "        return xyzs_quantity, phis\n",
      "    \n",
      "def _torsion_log_pmf(self, growth_context, torsion, positions, r, theta, beta, n_divisions=18):\n",
      "        \"\"\"\n",
      "        Calculate the torsion logp pmf using OpenMM\n",
      "        Parameters\n",
      "        ----------\n",
      "        growth_context : openmm.Context\n",
      "            Context containing the modified system and\n",
      "        torsion : parmed.Dihedral\n",
      "            parmed Dihedral containing relevant atoms\n",
      "        positions : [n,3] np.ndarray in nm\n",
      "            positions of the atoms in the system\n",
      "        r : float in nm\n",
      "            bond length\n",
      "        theta : float in radians\n",
      "            bond angle\n",
      "        beta : float\n",
      "            inverse temperature\n",
      "        n_divisions : int, optional\n",
      "            number of divisions for the torsion scan\n",
      "        Returns\n",
      "        -------\n",
      "        logp_torsions : np.ndarray of float\n",
      "            normalized probability of each of n_divisions of torsion\n",
      "        phis : np.ndarray, in radians\n",
      "            The torsions angles at which a potential was calculated\n",
      "        \"\"\"\n",
      "        logq = np.zeros(n_divisions)\n",
      "        atom_idx = torsion.atom1.idx\n",
      "        xyzs, phis = self._torsion_scan(torsion, positions, r, theta, n_divisions=n_divisions)\n",
      "        xyzs = xyzs.value_in_unit_system(units.md_unit_system)\n",
      "        positions = positions.value_in_unit_system(units.md_unit_system)\n",
      "        for i, xyz in enumerate(xyzs):\n",
      "            positions[atom_idx,:] = xyz\n",
      "            position_set = time.time()\n",
      "            growth_context.setPositions(positions)\n",
      "            position_time = time.time() - position_set\n",
      "            #self._position_set_time += position_time\n",
      "            energy_computation_init = time.time()\n",
      "            state = growth_context.getState(getEnergy=True)\n",
      "            energy_computation_time = time.time() - energy_computation_init\n",
      "            self._energy_time += energy_computation_time\n",
      "            logq_i = -beta*state.getPotentialEnergy()\n",
      "            logq[i] = logq_i\n",
      "        if np.sum(np.isnan(logq)) == n_divisions:\n",
      "            raise Exception(\"All %d torsion energies in torsion PMF are NaN.\" % n_divisions)\n",
      "        logq[np.isnan(logq)] = -np.inf\n",
      "        logq -= max(logq)\n",
      "        q = np.exp(logq)\n",
      "        Z = np.sum(q)\n",
      "        logp_torsions = logq - np.log(Z)\n",
      "        return logp_torsions, phis"
     ],
     "language": "python",
     "metadata": {},
     "outputs": [],
     "prompt_number": 104
    },
    {
     "cell_type": "code",
     "collapsed": false,
     "input": [
      "pdb.positions._value = np.asarray(pdb.positions._value) # OpenMM gives positions as list of tuples??? WTF?"
     ],
     "language": "python",
     "metadata": {},
     "outputs": [],
     "prompt_number": 105
    },
    {
     "cell_type": "code",
     "collapsed": false,
     "input": [
      "positions, phis = _torsion_scan(dihedral_to_scan, pdb.positions, length, theta, n_divisions=14)"
     ],
     "language": "python",
     "metadata": {},
     "outputs": [],
     "prompt_number": 106
    },
    {
     "cell_type": "code",
     "collapsed": false,
     "input": [
      "phis"
     ],
     "language": "python",
     "metadata": {},
     "outputs": [
      {
       "metadata": {},
       "output_type": "pyout",
       "prompt_number": 111,
       "text": [
        "Quantity(value=array([-3.14159265, -2.6927937 , -2.24399475, -1.7951958 , -1.34639685,\n",
        "       -0.8975979 , -0.44879895,  0.        ,  0.44879895,  0.8975979 ,\n",
        "        1.34639685,  1.7951958 ,  2.24399475,  2.6927937 ]), unit=radian)"
       ]
      }
     ],
     "prompt_number": 111
    },
    {
     "cell_type": "code",
     "collapsed": false,
     "input": [
      "pdb.positions"
     ],
     "language": "python",
     "metadata": {},
     "outputs": [
      {
       "metadata": {},
       "output_type": "pyout",
       "prompt_number": 110,
       "text": [
        "Quantity(value=array([[  1.60400000e-01,   7.60000000e-02,  -8.26000000e-01],\n",
        "       [  1.74500000e-01,   2.38800000e-01,  -8.88000000e-01],\n",
        "       [  2.04300000e-01,   1.02400000e-01,  -9.93000000e-01],\n",
        "       [  2.14200000e-01,   1.39500000e-01,  -8.93200000e-01],\n",
        "       [  4.16900000e-01,   2.05100000e-01,  -9.21000000e-01],\n",
        "       [  3.73100000e-01,   1.78800000e-01,  -7.53900000e-01],\n",
        "       [  3.63100000e-01,   1.41600000e-01,  -8.53700000e-01],\n",
        "       [  3.66500000e-01,  -6.47000000e-02,  -7.94000000e-01],\n",
        "       [  4.10400000e-01,  -3.84000000e-02,  -9.61000000e-01],\n",
        "       [  4.20300000e-01,  -1.20000000e-03,  -8.61200000e-01],\n",
        "       [  6.08800000e-01,  -9.83000000e-02,  -8.27000000e-01],\n",
        "       [  5.79100000e-01,   3.81000000e-02,  -7.22000000e-01],\n",
        "       [  6.23000000e-01,   6.44000000e-02,  -8.89000000e-01],\n",
        "       [  5.69100000e-01,   9.00000000e-04,  -8.21800000e-01]]), unit=nanometer)"
       ]
      }
     ],
     "prompt_number": 110
    },
    {
     "cell_type": "code",
     "collapsed": false,
     "input": [
      "positions"
     ],
     "language": "python",
     "metadata": {},
     "outputs": [
      {
       "metadata": {},
       "output_type": "pyout",
       "prompt_number": 112,
       "text": [
        "Quantity(value=array([[ 0.21513663,  0.14108497, -0.8926304 ],\n",
        "       [ 0.21220509,  0.13656424, -0.82891356],\n",
        "       [ 0.23529237,  0.14269682, -0.76959884],\n",
        "       [ 0.27982574,  0.15826806, -0.72643424],\n",
        "       [ 0.33698482,  0.18019391, -0.70796906],\n",
        "       [ 0.39544856,  0.20413167, -0.71786053],\n",
        "       [ 0.4436375 ,  0.22534018, -0.75414954],\n",
        "       [ 0.47200723,  0.23961883, -0.8096486 ],\n",
        "       [ 0.47493877,  0.24413956, -0.87336545],\n",
        "       [ 0.45185149,  0.23800698, -0.93268017],\n",
        "       [ 0.40731812,  0.22243573, -0.97584476],\n",
        "       [ 0.35015904,  0.20050989, -0.99430994],\n",
        "       [ 0.29169529,  0.17657213, -0.98441847],\n",
        "       [ 0.24350635,  0.15536362, -0.94812946]]), unit=nanometer)"
       ]
      }
     ],
     "prompt_number": 112
    },
    {
     "cell_type": "code",
     "collapsed": false,
     "input": [],
     "language": "python",
     "metadata": {},
     "outputs": []
    }
   ],
   "metadata": {}
  }
 ]
}